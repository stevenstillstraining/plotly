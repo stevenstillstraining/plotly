{
 "cells": [
  {
   "cell_type": "markdown",
   "id": "c1b7b7c6-360f-46fb-a65f-af4493f08909",
   "metadata": {},
   "source": [
    "# Introduction to Data Visualisation with Plotly\n",
    "**first some house keeping** \n",
    "<by>lets check you have the right version of numpy. anyithign less that version 2.3 should be ok"
   ]
  },
  {
   "cell_type": "code",
   "execution_count": 1,
   "id": "5a617011-5236-496a-ba98-a52b29956460",
   "metadata": {},
   "outputs": [],
   "source": [
    "import pandas as pd\n",
    "import numpy as np"
   ]
  },
  {
   "cell_type": "code",
   "execution_count": 2,
   "id": "24525f90-b684-402d-b66f-71abd1f4b725",
   "metadata": {},
   "outputs": [
    {
     "name": "stdout",
     "output_type": "stream",
     "text": [
      "1.26.4\n",
      "2.3.0\n"
     ]
    }
   ],
   "source": [
    "print(np.__version__)\n",
    "print(pd.__version__)"
   ]
  },
  {
   "cell_type": "markdown",
   "id": "e9c474d0-b19a-408d-b69c-ac85c84e3067",
   "metadata": {},
   "source": [
    "# Step 1 Load Data Frames"
   ]
  },
  {
   "cell_type": "code",
   "execution_count": 42,
   "id": "96553fc8-0341-4fec-956d-653625ddefc3",
   "metadata": {},
   "outputs": [],
   "source": [
    "gas_fc_data = 'https://raw.githubusercontent.com/stevenstillstraining/plotly/main/Gas/Gas_FC.csv'\n",
    "gas_vol_data = 'https://raw.githubusercontent.com/stevenstillstraining/plotly/main/Gas/Gas_Volume.csv'\n",
    "power_fc_data = 'https://raw.githubusercontent.com/stevenstillstraining/plotly/main/Power/Power_FC.csv'\n",
    "power_vol_data = 'https://raw.githubusercontent.com/stevenstillstraining/plotly/main/Power/Power_Volume.csv'"
   ]
  },
  {
   "cell_type": "code",
   "execution_count": 43,
   "id": "5ca94e69-c945-4bc4-bc45-9d32d83ab1c1",
   "metadata": {},
   "outputs": [],
   "source": [
    "gas_fc = pd.read_csv(gas_fc_data)\n",
    "gas_vol = pd.read_csv(gas_vol_data) \n",
    "power_fc = pd.read_csv(power_fc_data)\n",
    "power_vol = pd.read_csv(power_vol_data)"
   ]
  },
  {
   "cell_type": "code",
   "execution_count": 44,
   "id": "5b5bc02b-0db0-4f3b-a723-fe52fa00869e",
   "metadata": {},
   "outputs": [
    {
     "data": {
      "text/html": [
       "<div>\n",
       "<style scoped>\n",
       "    .dataframe tbody tr th:only-of-type {\n",
       "        vertical-align: middle;\n",
       "    }\n",
       "\n",
       "    .dataframe tbody tr th {\n",
       "        vertical-align: top;\n",
       "    }\n",
       "\n",
       "    .dataframe thead th {\n",
       "        text-align: right;\n",
       "    }\n",
       "</style>\n",
       "<table border=\"1\" class=\"dataframe\">\n",
       "  <thead>\n",
       "    <tr style=\"text-align: right;\">\n",
       "      <th></th>\n",
       "      <th>Date</th>\n",
       "      <th>PRC</th>\n",
       "      <th>Unnamed: 2</th>\n",
       "      <th>Unnamed: 3</th>\n",
       "      <th>Unnamed: 4</th>\n",
       "    </tr>\n",
       "  </thead>\n",
       "  <tbody>\n",
       "    <tr>\n",
       "      <th>0</th>\n",
       "      <td>01/08/2025</td>\n",
       "      <td>82.73</td>\n",
       "      <td>NaN</td>\n",
       "      <td>NaN</td>\n",
       "      <td>NaN</td>\n",
       "    </tr>\n",
       "    <tr>\n",
       "      <th>1</th>\n",
       "      <td>01/09/2025</td>\n",
       "      <td>88.83</td>\n",
       "      <td>NaN</td>\n",
       "      <td>NaN</td>\n",
       "      <td>NaN</td>\n",
       "    </tr>\n",
       "  </tbody>\n",
       "</table>\n",
       "</div>"
      ],
      "text/plain": [
       "         Date    PRC  Unnamed: 2  Unnamed: 3  Unnamed: 4\n",
       "0  01/08/2025  82.73         NaN         NaN         NaN\n",
       "1  01/09/2025  88.83         NaN         NaN         NaN"
      ]
     },
     "execution_count": 44,
     "metadata": {},
     "output_type": "execute_result"
    }
   ],
   "source": [
    "gas_fc.head(2)"
   ]
  },
  {
   "cell_type": "code",
   "execution_count": 45,
   "id": "019b874e-83d8-4ed9-b1d3-42e040db78f9",
   "metadata": {},
   "outputs": [
    {
     "data": {
      "text/html": [
       "<div>\n",
       "<style scoped>\n",
       "    .dataframe tbody tr th:only-of-type {\n",
       "        vertical-align: middle;\n",
       "    }\n",
       "\n",
       "    .dataframe tbody tr th {\n",
       "        vertical-align: top;\n",
       "    }\n",
       "\n",
       "    .dataframe thead th {\n",
       "        text-align: right;\n",
       "    }\n",
       "</style>\n",
       "<table border=\"1\" class=\"dataframe\">\n",
       "  <thead>\n",
       "    <tr style=\"text-align: right;\">\n",
       "      <th></th>\n",
       "      <th>Date</th>\n",
       "      <th>Volume therms</th>\n",
       "    </tr>\n",
       "  </thead>\n",
       "  <tbody>\n",
       "    <tr>\n",
       "      <th>0</th>\n",
       "      <td>31/07/2023</td>\n",
       "      <td>4111.17</td>\n",
       "    </tr>\n",
       "    <tr>\n",
       "      <th>1</th>\n",
       "      <td>01/08/2023</td>\n",
       "      <td>3987.09</td>\n",
       "    </tr>\n",
       "  </tbody>\n",
       "</table>\n",
       "</div>"
      ],
      "text/plain": [
       "         Date  Volume therms\n",
       "0  31/07/2023        4111.17\n",
       "1  01/08/2023        3987.09"
      ]
     },
     "execution_count": 45,
     "metadata": {},
     "output_type": "execute_result"
    }
   ],
   "source": [
    "gas_vol.head(2)"
   ]
  },
  {
   "cell_type": "code",
   "execution_count": 46,
   "id": "b6733443-0a4f-422f-8baa-0f091a037e41",
   "metadata": {},
   "outputs": [
    {
     "data": {
      "text/html": [
       "<div>\n",
       "<style scoped>\n",
       "    .dataframe tbody tr th:only-of-type {\n",
       "        vertical-align: middle;\n",
       "    }\n",
       "\n",
       "    .dataframe tbody tr th {\n",
       "        vertical-align: top;\n",
       "    }\n",
       "\n",
       "    .dataframe thead th {\n",
       "        text-align: right;\n",
       "    }\n",
       "</style>\n",
       "<table border=\"1\" class=\"dataframe\">\n",
       "  <thead>\n",
       "    <tr style=\"text-align: right;\">\n",
       "      <th></th>\n",
       "      <th>Date</th>\n",
       "      <th>bsld_prc</th>\n",
       "      <th>peak_prc</th>\n",
       "    </tr>\n",
       "  </thead>\n",
       "  <tbody>\n",
       "    <tr>\n",
       "      <th>0</th>\n",
       "      <td>2025-08-01</td>\n",
       "      <td>74.58</td>\n",
       "      <td>76.58</td>\n",
       "    </tr>\n",
       "    <tr>\n",
       "      <th>1</th>\n",
       "      <td>2025-09-01</td>\n",
       "      <td>82.33</td>\n",
       "      <td>89.97</td>\n",
       "    </tr>\n",
       "  </tbody>\n",
       "</table>\n",
       "</div>"
      ],
      "text/plain": [
       "         Date  bsld_prc peak_prc\n",
       "0  2025-08-01     74.58    76.58\n",
       "1  2025-09-01     82.33    89.97"
      ]
     },
     "execution_count": 46,
     "metadata": {},
     "output_type": "execute_result"
    }
   ],
   "source": [
    "power_fc.head(2)"
   ]
  },
  {
   "cell_type": "code",
   "execution_count": 47,
   "id": "87569399-450b-4b2c-b8ef-e19e8882f48c",
   "metadata": {},
   "outputs": [
    {
     "data": {
      "text/html": [
       "<div>\n",
       "<style scoped>\n",
       "    .dataframe tbody tr th:only-of-type {\n",
       "        vertical-align: middle;\n",
       "    }\n",
       "\n",
       "    .dataframe tbody tr th {\n",
       "        vertical-align: top;\n",
       "    }\n",
       "\n",
       "    .dataframe thead th {\n",
       "        text-align: right;\n",
       "    }\n",
       "</style>\n",
       "<table border=\"1\" class=\"dataframe\">\n",
       "  <thead>\n",
       "    <tr style=\"text-align: right;\">\n",
       "      <th></th>\n",
       "      <th>Settlement_Day</th>\n",
       "      <th>Settlement_Period</th>\n",
       "      <th>Purchased_Volume</th>\n",
       "      <th>Actual_Demand</th>\n",
       "      <th>Hedged Volume</th>\n",
       "    </tr>\n",
       "  </thead>\n",
       "  <tbody>\n",
       "    <tr>\n",
       "      <th>0</th>\n",
       "      <td>01/05/2025</td>\n",
       "      <td>1</td>\n",
       "      <td>43.53</td>\n",
       "      <td>46.15</td>\n",
       "      <td>49.47</td>\n",
       "    </tr>\n",
       "    <tr>\n",
       "      <th>1</th>\n",
       "      <td>01/05/2025</td>\n",
       "      <td>2</td>\n",
       "      <td>44.02</td>\n",
       "      <td>45.85</td>\n",
       "      <td>49.47</td>\n",
       "    </tr>\n",
       "  </tbody>\n",
       "</table>\n",
       "</div>"
      ],
      "text/plain": [
       "  Settlement_Day  Settlement_Period  Purchased_Volume  Actual_Demand  \\\n",
       "0     01/05/2025                  1             43.53          46.15   \n",
       "1     01/05/2025                  2             44.02          45.85   \n",
       "\n",
       "   Hedged Volume  \n",
       "0          49.47  \n",
       "1          49.47  "
      ]
     },
     "execution_count": 47,
     "metadata": {},
     "output_type": "execute_result"
    }
   ],
   "source": [
    "power_vol.head(2)"
   ]
  },
  {
   "cell_type": "markdown",
   "id": "77890bb2-add2-4b40-aa4f-1745543ed8bd",
   "metadata": {},
   "source": [
    "**can you remember how to load only the columns you want?**"
   ]
  },
  {
   "cell_type": "code",
   "execution_count": 48,
   "id": "8b5cc9a0-a6e6-4e99-aa25-aaa48c1d9df5",
   "metadata": {},
   "outputs": [],
   "source": [
    "gas_fc = gas_fc[[\"Date\",\"PRC\"]]"
   ]
  },
  {
   "cell_type": "markdown",
   "id": "50200692-dd28-4269-9018-e15cab429a46",
   "metadata": {},
   "source": [
    "# Get them Visualised"
   ]
  },
  {
   "cell_type": "markdown",
   "id": "78a7f99a-aca6-45fc-bc1d-39831e6a8fc8",
   "metadata": {},
   "source": [
    "First off why dont we just say \"import Plotly\" like we do with pandas"
   ]
  },
  {
   "cell_type": "markdown",
   "id": "4634cff4-037c-42a8-8cb2-06c1fefb10dd",
   "metadata": {},
   "source": [
    "Plotly is a huge catalgue of sub libraries for different purposes. <BR>We'll go through plotly express and cover how to use the catalogue to build an express to you can try the more extreme outliers if they fit your needs:<br>[Plotly Catalogue](https://plotly.com/python/)\n"
   ]
  },
  {
   "cell_type": "markdown",
   "id": "c410bd50-f9ce-4e4a-a55f-0fd6b123c2fe",
   "metadata": {},
   "source": [
    "# Now Actually Get them Visualised"
   ]
  },
  {
   "cell_type": "markdown",
   "id": "7e2d5a65-98cb-470c-aeb6-9f30f565eb13",
   "metadata": {},
   "source": [
    "grab the introduction to plotly express code for scartter graphs and paste it below:<br>[Plotly Catalogue](https://plotly.com/python/)"
   ]
  },
  {
   "cell_type": "code",
   "execution_count": 52,
   "id": "e7f2a9e3-f7a5-452d-bee7-2645451efa60",
   "metadata": {},
   "outputs": [],
   "source": [
    "import plotly.express as px"
   ]
  },
  {
   "cell_type": "code",
   "execution_count": 53,
   "id": "6537e4a4-62a5-4179-9583-1e1ea13e5de1",
   "metadata": {
    "scrolled": true
   },
   "outputs": [
    {
     "data": {
      "application/vnd.plotly.v1+json": {
       "config": {
        "plotlyServerURL": "https://plot.ly"
       },
       "data": [
        {
         "hovertemplate": "x=%{x}<br>y=%{y}<extra></extra>",
         "legendgroup": "",
         "line": {
          "color": "#636efa",
          "dash": "solid"
         },
         "marker": {
          "symbol": "circle"
         },
         "mode": "lines",
         "name": "",
         "orientation": "v",
         "showlegend": false,
         "type": "scatter",
         "x": {
          "_inputArray": {
           "0": 0,
           "1": 1,
           "2": 2,
           "3": 3,
           "4": 4,
           "bdata": "AAECAwQ=",
           "dtype": "i1",
           "shape": "5"
          },
          "bdata": "AAECAwQ=",
          "dtype": "i1"
         },
         "xaxis": "x",
         "y": {
          "_inputArray": {
           "0": 0,
           "1": 1,
           "2": 4,
           "3": 9,
           "4": 16,
           "bdata": "AAEECRA=",
           "dtype": "i1",
           "shape": "5"
          },
          "bdata": "AAEECRA=",
          "dtype": "i1"
         },
         "yaxis": "y"
        }
       ],
       "layout": {
        "autosize": true,
        "legend": {
         "tracegroupgap": 0
        },
        "margin": {
         "t": 60
        },
        "template": {
         "data": {
          "bar": [
           {
            "error_x": {
             "color": "#2a3f5f"
            },
            "error_y": {
             "color": "#2a3f5f"
            },
            "marker": {
             "line": {
              "color": "#E5ECF6",
              "width": 0.5
             },
             "pattern": {
              "fillmode": "overlay",
              "size": 10,
              "solidity": 0.2
             }
            },
            "type": "bar"
           }
          ],
          "barpolar": [
           {
            "marker": {
             "line": {
              "color": "#E5ECF6",
              "width": 0.5
             },
             "pattern": {
              "fillmode": "overlay",
              "size": 10,
              "solidity": 0.2
             }
            },
            "type": "barpolar"
           }
          ],
          "carpet": [
           {
            "aaxis": {
             "endlinecolor": "#2a3f5f",
             "gridcolor": "white",
             "linecolor": "white",
             "minorgridcolor": "white",
             "startlinecolor": "#2a3f5f"
            },
            "baxis": {
             "endlinecolor": "#2a3f5f",
             "gridcolor": "white",
             "linecolor": "white",
             "minorgridcolor": "white",
             "startlinecolor": "#2a3f5f"
            },
            "type": "carpet"
           }
          ],
          "choropleth": [
           {
            "colorbar": {
             "outlinewidth": 0,
             "ticks": ""
            },
            "type": "choropleth"
           }
          ],
          "contour": [
           {
            "colorbar": {
             "outlinewidth": 0,
             "ticks": ""
            },
            "colorscale": [
             [
              0,
              "#0d0887"
             ],
             [
              0.1111111111111111,
              "#46039f"
             ],
             [
              0.2222222222222222,
              "#7201a8"
             ],
             [
              0.3333333333333333,
              "#9c179e"
             ],
             [
              0.4444444444444444,
              "#bd3786"
             ],
             [
              0.5555555555555556,
              "#d8576b"
             ],
             [
              0.6666666666666666,
              "#ed7953"
             ],
             [
              0.7777777777777778,
              "#fb9f3a"
             ],
             [
              0.8888888888888888,
              "#fdca26"
             ],
             [
              1,
              "#f0f921"
             ]
            ],
            "type": "contour"
           }
          ],
          "contourcarpet": [
           {
            "colorbar": {
             "outlinewidth": 0,
             "ticks": ""
            },
            "type": "contourcarpet"
           }
          ],
          "heatmap": [
           {
            "colorbar": {
             "outlinewidth": 0,
             "ticks": ""
            },
            "colorscale": [
             [
              0,
              "#0d0887"
             ],
             [
              0.1111111111111111,
              "#46039f"
             ],
             [
              0.2222222222222222,
              "#7201a8"
             ],
             [
              0.3333333333333333,
              "#9c179e"
             ],
             [
              0.4444444444444444,
              "#bd3786"
             ],
             [
              0.5555555555555556,
              "#d8576b"
             ],
             [
              0.6666666666666666,
              "#ed7953"
             ],
             [
              0.7777777777777778,
              "#fb9f3a"
             ],
             [
              0.8888888888888888,
              "#fdca26"
             ],
             [
              1,
              "#f0f921"
             ]
            ],
            "type": "heatmap"
           }
          ],
          "histogram": [
           {
            "marker": {
             "pattern": {
              "fillmode": "overlay",
              "size": 10,
              "solidity": 0.2
             }
            },
            "type": "histogram"
           }
          ],
          "histogram2d": [
           {
            "colorbar": {
             "outlinewidth": 0,
             "ticks": ""
            },
            "colorscale": [
             [
              0,
              "#0d0887"
             ],
             [
              0.1111111111111111,
              "#46039f"
             ],
             [
              0.2222222222222222,
              "#7201a8"
             ],
             [
              0.3333333333333333,
              "#9c179e"
             ],
             [
              0.4444444444444444,
              "#bd3786"
             ],
             [
              0.5555555555555556,
              "#d8576b"
             ],
             [
              0.6666666666666666,
              "#ed7953"
             ],
             [
              0.7777777777777778,
              "#fb9f3a"
             ],
             [
              0.8888888888888888,
              "#fdca26"
             ],
             [
              1,
              "#f0f921"
             ]
            ],
            "type": "histogram2d"
           }
          ],
          "histogram2dcontour": [
           {
            "colorbar": {
             "outlinewidth": 0,
             "ticks": ""
            },
            "colorscale": [
             [
              0,
              "#0d0887"
             ],
             [
              0.1111111111111111,
              "#46039f"
             ],
             [
              0.2222222222222222,
              "#7201a8"
             ],
             [
              0.3333333333333333,
              "#9c179e"
             ],
             [
              0.4444444444444444,
              "#bd3786"
             ],
             [
              0.5555555555555556,
              "#d8576b"
             ],
             [
              0.6666666666666666,
              "#ed7953"
             ],
             [
              0.7777777777777778,
              "#fb9f3a"
             ],
             [
              0.8888888888888888,
              "#fdca26"
             ],
             [
              1,
              "#f0f921"
             ]
            ],
            "type": "histogram2dcontour"
           }
          ],
          "mesh3d": [
           {
            "colorbar": {
             "outlinewidth": 0,
             "ticks": ""
            },
            "type": "mesh3d"
           }
          ],
          "parcoords": [
           {
            "line": {
             "colorbar": {
              "outlinewidth": 0,
              "ticks": ""
             }
            },
            "type": "parcoords"
           }
          ],
          "pie": [
           {
            "automargin": true,
            "type": "pie"
           }
          ],
          "scatter": [
           {
            "fillpattern": {
             "fillmode": "overlay",
             "size": 10,
             "solidity": 0.2
            },
            "type": "scatter"
           }
          ],
          "scatter3d": [
           {
            "line": {
             "colorbar": {
              "outlinewidth": 0,
              "ticks": ""
             }
            },
            "marker": {
             "colorbar": {
              "outlinewidth": 0,
              "ticks": ""
             }
            },
            "type": "scatter3d"
           }
          ],
          "scattercarpet": [
           {
            "marker": {
             "colorbar": {
              "outlinewidth": 0,
              "ticks": ""
             }
            },
            "type": "scattercarpet"
           }
          ],
          "scattergeo": [
           {
            "marker": {
             "colorbar": {
              "outlinewidth": 0,
              "ticks": ""
             }
            },
            "type": "scattergeo"
           }
          ],
          "scattergl": [
           {
            "marker": {
             "colorbar": {
              "outlinewidth": 0,
              "ticks": ""
             }
            },
            "type": "scattergl"
           }
          ],
          "scattermap": [
           {
            "marker": {
             "colorbar": {
              "outlinewidth": 0,
              "ticks": ""
             }
            },
            "type": "scattermap"
           }
          ],
          "scattermapbox": [
           {
            "marker": {
             "colorbar": {
              "outlinewidth": 0,
              "ticks": ""
             }
            },
            "type": "scattermapbox"
           }
          ],
          "scatterpolar": [
           {
            "marker": {
             "colorbar": {
              "outlinewidth": 0,
              "ticks": ""
             }
            },
            "type": "scatterpolar"
           }
          ],
          "scatterpolargl": [
           {
            "marker": {
             "colorbar": {
              "outlinewidth": 0,
              "ticks": ""
             }
            },
            "type": "scatterpolargl"
           }
          ],
          "scatterternary": [
           {
            "marker": {
             "colorbar": {
              "outlinewidth": 0,
              "ticks": ""
             }
            },
            "type": "scatterternary"
           }
          ],
          "surface": [
           {
            "colorbar": {
             "outlinewidth": 0,
             "ticks": ""
            },
            "colorscale": [
             [
              0,
              "#0d0887"
             ],
             [
              0.1111111111111111,
              "#46039f"
             ],
             [
              0.2222222222222222,
              "#7201a8"
             ],
             [
              0.3333333333333333,
              "#9c179e"
             ],
             [
              0.4444444444444444,
              "#bd3786"
             ],
             [
              0.5555555555555556,
              "#d8576b"
             ],
             [
              0.6666666666666666,
              "#ed7953"
             ],
             [
              0.7777777777777778,
              "#fb9f3a"
             ],
             [
              0.8888888888888888,
              "#fdca26"
             ],
             [
              1,
              "#f0f921"
             ]
            ],
            "type": "surface"
           }
          ],
          "table": [
           {
            "cells": {
             "fill": {
              "color": "#EBF0F8"
             },
             "line": {
              "color": "white"
             }
            },
            "header": {
             "fill": {
              "color": "#C8D4E3"
             },
             "line": {
              "color": "white"
             }
            },
            "type": "table"
           }
          ]
         },
         "layout": {
          "annotationdefaults": {
           "arrowcolor": "#2a3f5f",
           "arrowhead": 0,
           "arrowwidth": 1
          },
          "autotypenumbers": "strict",
          "coloraxis": {
           "colorbar": {
            "outlinewidth": 0,
            "ticks": ""
           }
          },
          "colorscale": {
           "diverging": [
            [
             0,
             "#8e0152"
            ],
            [
             0.1,
             "#c51b7d"
            ],
            [
             0.2,
             "#de77ae"
            ],
            [
             0.3,
             "#f1b6da"
            ],
            [
             0.4,
             "#fde0ef"
            ],
            [
             0.5,
             "#f7f7f7"
            ],
            [
             0.6,
             "#e6f5d0"
            ],
            [
             0.7,
             "#b8e186"
            ],
            [
             0.8,
             "#7fbc41"
            ],
            [
             0.9,
             "#4d9221"
            ],
            [
             1,
             "#276419"
            ]
           ],
           "sequential": [
            [
             0,
             "#0d0887"
            ],
            [
             0.1111111111111111,
             "#46039f"
            ],
            [
             0.2222222222222222,
             "#7201a8"
            ],
            [
             0.3333333333333333,
             "#9c179e"
            ],
            [
             0.4444444444444444,
             "#bd3786"
            ],
            [
             0.5555555555555556,
             "#d8576b"
            ],
            [
             0.6666666666666666,
             "#ed7953"
            ],
            [
             0.7777777777777778,
             "#fb9f3a"
            ],
            [
             0.8888888888888888,
             "#fdca26"
            ],
            [
             1,
             "#f0f921"
            ]
           ],
           "sequentialminus": [
            [
             0,
             "#0d0887"
            ],
            [
             0.1111111111111111,
             "#46039f"
            ],
            [
             0.2222222222222222,
             "#7201a8"
            ],
            [
             0.3333333333333333,
             "#9c179e"
            ],
            [
             0.4444444444444444,
             "#bd3786"
            ],
            [
             0.5555555555555556,
             "#d8576b"
            ],
            [
             0.6666666666666666,
             "#ed7953"
            ],
            [
             0.7777777777777778,
             "#fb9f3a"
            ],
            [
             0.8888888888888888,
             "#fdca26"
            ],
            [
             1,
             "#f0f921"
            ]
           ]
          },
          "colorway": [
           "#636efa",
           "#EF553B",
           "#00cc96",
           "#ab63fa",
           "#FFA15A",
           "#19d3f3",
           "#FF6692",
           "#B6E880",
           "#FF97FF",
           "#FECB52"
          ],
          "font": {
           "color": "#2a3f5f"
          },
          "geo": {
           "bgcolor": "white",
           "lakecolor": "white",
           "landcolor": "#E5ECF6",
           "showlakes": true,
           "showland": true,
           "subunitcolor": "white"
          },
          "hoverlabel": {
           "align": "left"
          },
          "hovermode": "closest",
          "mapbox": {
           "style": "light"
          },
          "paper_bgcolor": "white",
          "plot_bgcolor": "#E5ECF6",
          "polar": {
           "angularaxis": {
            "gridcolor": "white",
            "linecolor": "white",
            "ticks": ""
           },
           "bgcolor": "#E5ECF6",
           "radialaxis": {
            "gridcolor": "white",
            "linecolor": "white",
            "ticks": ""
           }
          },
          "scene": {
           "xaxis": {
            "backgroundcolor": "#E5ECF6",
            "gridcolor": "white",
            "gridwidth": 2,
            "linecolor": "white",
            "showbackground": true,
            "ticks": "",
            "zerolinecolor": "white"
           },
           "yaxis": {
            "backgroundcolor": "#E5ECF6",
            "gridcolor": "white",
            "gridwidth": 2,
            "linecolor": "white",
            "showbackground": true,
            "ticks": "",
            "zerolinecolor": "white"
           },
           "zaxis": {
            "backgroundcolor": "#E5ECF6",
            "gridcolor": "white",
            "gridwidth": 2,
            "linecolor": "white",
            "showbackground": true,
            "ticks": "",
            "zerolinecolor": "white"
           }
          },
          "shapedefaults": {
           "line": {
            "color": "#2a3f5f"
           }
          },
          "ternary": {
           "aaxis": {
            "gridcolor": "white",
            "linecolor": "white",
            "ticks": ""
           },
           "baxis": {
            "gridcolor": "white",
            "linecolor": "white",
            "ticks": ""
           },
           "bgcolor": "#E5ECF6",
           "caxis": {
            "gridcolor": "white",
            "linecolor": "white",
            "ticks": ""
           }
          },
          "title": {
           "x": 0.05
          },
          "xaxis": {
           "automargin": true,
           "gridcolor": "white",
           "linecolor": "white",
           "ticks": "",
           "title": {
            "standoff": 15
           },
           "zerolinecolor": "white",
           "zerolinewidth": 2
          },
          "yaxis": {
           "automargin": true,
           "gridcolor": "white",
           "linecolor": "white",
           "ticks": "",
           "title": {
            "standoff": 15
           },
           "zerolinecolor": "white",
           "zerolinewidth": 2
          }
         }
        },
        "xaxis": {
         "anchor": "y",
         "autorange": true,
         "domain": [
          0,
          1
         ],
         "range": [
          0,
          4
         ],
         "title": {
          "text": "x"
         },
         "type": "linear"
        },
        "yaxis": {
         "anchor": "x",
         "autorange": true,
         "domain": [
          0,
          1
         ],
         "range": [
          -0.888888888888889,
          16.88888888888889
         ],
         "title": {
          "text": "y"
         },
         "type": "linear"
        }
       }
      },
      "image/png": "[encoded data removed]"
     },
     "metadata": {},
     "output_type": "display_data"
    }
   ],
   "source": [
    "fig = px.line(x=[0, 1, 2, 3, 4], y=[0, 1, 4, 9, 16])\n",
    "fig.show()"
   ]
  },
  {
   "cell_type": "markdown",
   "id": "09dacd4d-5a10-4d80-ae77-d7468923550f",
   "metadata": {},
   "source": [
    "Now we can add out own data into this framework.<br> Heres the syntax to help:<br>\n",
    "fig = px.line(**DATAFRAME**,x=**\"COLUMN 1\"**, y=**\"COLUMN 2\"**)\n",
    "paste the introduction test details below to use the **gas_fc** data frame with the x axis being the date and the y axis the price\n"
   ]
  },
  {
   "cell_type": "code",
   "execution_count": 54,
   "id": "d47596e2-d0e9-40cf-bbc7-0939a37beeb1",
   "metadata": {},
   "outputs": [
    {
     "data": {
      "application/vnd.plotly.v1+json": {
       "config": {
        "plotlyServerURL": "https://plot.ly"
       },
       "data": [
        {
         "hovertemplate": "Date=%{x}<br>PRC=%{y}<extra></extra>",
         "legendgroup": "",
         "line": {
          "color": "#636efa",
          "dash": "solid"
         },
         "marker": {
          "symbol": "circle"
         },
         "mode": "lines",
         "name": "",
         "orientation": "v",
         "showlegend": false,
         "type": "scatter",
         "x": [
          "01/08/2025",
          "01/09/2025",
          "01/10/2025",
          "01/11/2025",
          "01/12/2025",
          "01/01/2026",
          "01/02/2026",
          "01/03/2026",
          "01/04/2026",
          "01/05/2026",
          "01/06/2026",
          "01/07/2026",
          "01/08/2026",
          "01/09/2026",
          "01/10/2026",
          "01/11/2026",
          "01/12/2026",
          "01/01/2027",
          "01/02/2027",
          "01/03/2027",
          "01/04/2027",
          "01/05/2027",
          "01/06/2027",
          "01/07/2027",
          "01/08/2027",
          "01/09/2027",
          "01/10/2027",
          "01/11/2027",
          "01/12/2027",
          "01/01/2028",
          "01/02/2028",
          "01/03/2028",
          "01/04/2028",
          "01/05/2028",
          "01/06/2028",
          "01/07/2028",
          "01/08/2028",
          "01/09/2028",
          "01/10/2028",
          "01/11/2028",
          "01/12/2028",
          "01/01/2029",
          "01/02/2029",
          "01/03/2029",
          "01/04/2029",
          "01/05/2029",
          "01/06/2029",
          "01/07/2029",
          "01/08/2029",
          "01/09/2029",
          "01/10/2029",
          "01/11/2029",
          "01/12/2029",
          "01/01/2030",
          "01/02/2030",
          "01/03/2030",
          "01/04/2030",
          "01/05/2030",
          "01/06/2030",
          "01/07/2030",
          "01/08/2030",
          "01/09/2030",
          "01/10/2030",
          "01/11/2030",
          "01/12/2030",
          "01/01/2031",
          "01/02/2031",
          "01/03/2031",
          "01/04/2031",
          "01/05/2031",
          "01/06/2031"
         ],
         "xaxis": "x",
         "y": {
          "_inputArray": {
           "0": 82.73,
           "1": 88.83,
           "10": 83.16,
           "11": 83.65,
           "12": 87.45,
           "13": 87.31,
           "14": 89.87,
           "15": 95.66,
           "16": 93.23,
           "17": 96.26,
           "18": 97.37,
           "19": 91.24,
           "2": 90.86,
           "20": 80.31,
           "21": 78.69,
           "22": 74.94,
           "23": 75.87,
           "24": 75.37,
           "25": 76.95,
           "26": 78.83,
           "27": 83.99,
           "28": 84.23,
           "29": 85.28,
           "3": 96.27,
           "30": 86.5,
           "31": 82.54,
           "32": 74.54,
           "33": 70.13,
           "34": 69.55,
           "35": 67.67,
           "36": 68.62,
           "37": 71.9,
           "38": 76.81,
           "39": 78.17,
           "4": 100.27,
           "40": 79.59,
           "41": 83.13,
           "42": 81.31,
           "43": 79.09,
           "44": 71.53,
           "45": 71.48,
           "46": 70.37,
           "47": 69.61,
           "48": 70.72,
           "49": 70.88,
           "5": 100.02,
           "50": 72.85,
           "51": 74.93,
           "52": 78.01,
           "53": 81.11,
           "54": 84.72,
           "55": 81.27,
           "56": 76.79,
           "57": 71.69,
           "58": 70.65,
           "59": 67.48,
           "6": 100.27,
           "60": 66.81,
           "61": 68.04,
           "62": 79.26,
           "63": 80.87,
           "64": 82.17,
           "65": 82.61,
           "66": 83.79,
           "67": 81.29,
           "68": 80.58,
           "69": 75.59,
           "7": 94.37,
           "70": 72.36,
           "8": 92.98,
           "9": 88.23,
           "bdata": "H4XrUbiuVECF61G4HjVWQNejcD0Kt1ZA4XoUrkcRWEDhehSuRxFZQOF6FK5HAVlA4XoUrkcRWUBI4XoUrpdXQB+F61G4PldAH4XrUbgOVkAK16NwPcpUQJqZmZmZ6VRAzczMzMzcVUCkcD0K19NVQEjhehSud1ZACtejcD3qV0AfhetRuE5XQHE9CtejEFhASOF6FK5XWECPwvUoXM9WQKRwPQrXE1RAXI/C9SisU0Bcj8L1KLxSQEjhehSu91JASOF6FK7XUkDNzMzMzDxTQIXrUbgetVNAj8L1KFz/VEAfhetRuA5VQFK4HoXrUVVAAAAAAACgVUDD9Shcj6JUQMP1KFyPolJAuB6F61GIUUAzMzMzM2NRQHsUrkfh6lBASOF6FK4nUUCamZmZmflRQKRwPQrXM1NAexSuR+GKU0D2KFyPwuVTQLgehetRyFRApHA9CtdTVED2KFyPwsVTQFK4HoXr4VFAH4XrUbjeUUBI4XoUrpdRQNejcD0KZ1FArkfhehSuUUC4HoXrUbhRQGZmZmZmNlJA7FG4HoW7UkBxPQrXo4BTQNejcD0KR1RArkfhehQuVUDhehSuR1FUQMP1KFyPMlNAXI/C9SjsUUCamZmZmalRQB+F61G43lBApHA9CtezUEDD9ShcjwJRQHE9Ctej0FNASOF6FK43VEB7FK5H4YpUQNejcD0Kp1RAw/UoXI/yVEDD9Shcj1JUQIXrUbgeJVRA9ihcj8LlUkDXo3A9ChdSQA==",
           "dtype": "f8",
           "shape": "71"
          },
          "bdata": "H4XrUbiuVECF61G4HjVWQNejcD0Kt1ZA4XoUrkcRWEDhehSuRxFZQOF6FK5HAVlA4XoUrkcRWUBI4XoUrpdXQB+F61G4PldAH4XrUbgOVkAK16NwPcpUQJqZmZmZ6VRAzczMzMzcVUCkcD0K19NVQEjhehSud1ZACtejcD3qV0AfhetRuE5XQHE9CtejEFhASOF6FK5XWECPwvUoXM9WQKRwPQrXE1RAXI/C9SisU0Bcj8L1KLxSQEjhehSu91JASOF6FK7XUkDNzMzMzDxTQIXrUbgetVNAj8L1KFz/VEAfhetRuA5VQFK4HoXrUVVAAAAAAACgVUDD9Shcj6JUQMP1KFyPolJAuB6F61GIUUAzMzMzM2NRQHsUrkfh6lBASOF6FK4nUUCamZmZmflRQKRwPQrXM1NAexSuR+GKU0D2KFyPwuVTQLgehetRyFRApHA9CtdTVED2KFyPwsVTQFK4HoXr4VFAH4XrUbjeUUBI4XoUrpdRQNejcD0KZ1FArkfhehSuUUC4HoXrUbhRQGZmZmZmNlJA7FG4HoW7UkBxPQrXo4BTQNejcD0KR1RArkfhehQuVUDhehSuR1FUQMP1KFyPMlNAXI/C9SjsUUCamZmZmalRQB+F61G43lBApHA9CtezUEDD9ShcjwJRQHE9Ctej0FNASOF6FK43VEB7FK5H4YpUQNejcD0Kp1RAw/UoXI/yVEDD9Shcj1JUQIXrUbgeJVRA9ihcj8LlUkDXo3A9ChdSQA==",
          "dtype": "f8"
         },
         "yaxis": "y"
        }
       ],
       "layout": {
        "autosize": true,
        "legend": {
         "tracegroupgap": 0
        },
        "margin": {
         "t": 60
        },
        "template": {
         "data": {
          "bar": [
           {
            "error_x": {
             "color": "#2a3f5f"
            },
            "error_y": {
             "color": "#2a3f5f"
            },
            "marker": {
             "line": {
              "color": "#E5ECF6",
              "width": 0.5
             },
             "pattern": {
              "fillmode": "overlay",
              "size": 10,
              "solidity": 0.2
             }
            },
            "type": "bar"
           }
          ],
          "barpolar": [
           {
            "marker": {
             "line": {
              "color": "#E5ECF6",
              "width": 0.5
             },
             "pattern": {
              "fillmode": "overlay",
              "size": 10,
              "solidity": 0.2
             }
            },
            "type": "barpolar"
           }
          ],
          "carpet": [
           {
            "aaxis": {
             "endlinecolor": "#2a3f5f",
             "gridcolor": "white",
             "linecolor": "white",
             "minorgridcolor": "white",
             "startlinecolor": "#2a3f5f"
            },
            "baxis": {
             "endlinecolor": "#2a3f5f",
             "gridcolor": "white",
             "linecolor": "white",
             "minorgridcolor": "white",
             "startlinecolor": "#2a3f5f"
            },
            "type": "carpet"
           }
          ],
          "choropleth": [
           {
            "colorbar": {
             "outlinewidth": 0,
             "ticks": ""
            },
            "type": "choropleth"
           }
          ],
          "contour": [
           {
            "colorbar": {
             "outlinewidth": 0,
             "ticks": ""
            },
            "colorscale": [
             [
              0,
              "#0d0887"
             ],
             [
              0.1111111111111111,
              "#46039f"
             ],
             [
              0.2222222222222222,
              "#7201a8"
             ],
             [
              0.3333333333333333,
              "#9c179e"
             ],
             [
              0.4444444444444444,
              "#bd3786"
             ],
             [
              0.5555555555555556,
              "#d8576b"
             ],
             [
              0.6666666666666666,
              "#ed7953"
             ],
             [
              0.7777777777777778,
              "#fb9f3a"
             ],
             [
              0.8888888888888888,
              "#fdca26"
             ],
             [
              1,
              "#f0f921"
             ]
            ],
            "type": "contour"
           }
          ],
          "contourcarpet": [
           {
            "colorbar": {
             "outlinewidth": 0,
             "ticks": ""
            },
            "type": "contourcarpet"
           }
          ],
          "heatmap": [
           {
            "colorbar": {
             "outlinewidth": 0,
             "ticks": ""
            },
            "colorscale": [
             [
              0,
              "#0d0887"
             ],
             [
              0.1111111111111111,
              "#46039f"
             ],
             [
              0.2222222222222222,
              "#7201a8"
             ],
             [
              0.3333333333333333,
              "#9c179e"
             ],
             [
              0.4444444444444444,
              "#bd3786"
             ],
             [
              0.5555555555555556,
              "#d8576b"
             ],
             [
              0.6666666666666666,
              "#ed7953"
             ],
             [
              0.7777777777777778,
              "#fb9f3a"
             ],
             [
              0.8888888888888888,
              "#fdca26"
             ],
             [
              1,
              "#f0f921"
             ]
            ],
            "type": "heatmap"
           }
          ],
          "histogram": [
           {
            "marker": {
             "pattern": {
              "fillmode": "overlay",
              "size": 10,
              "solidity": 0.2
             }
            },
            "type": "histogram"
           }
          ],
          "histogram2d": [
           {
            "colorbar": {
             "outlinewidth": 0,
             "ticks": ""
            },
            "colorscale": [
             [
              0,
              "#0d0887"
             ],
             [
              0.1111111111111111,
              "#46039f"
             ],
             [
              0.2222222222222222,
              "#7201a8"
             ],
             [
              0.3333333333333333,
              "#9c179e"
             ],
             [
              0.4444444444444444,
              "#bd3786"
             ],
             [
              0.5555555555555556,
              "#d8576b"
             ],
             [
              0.6666666666666666,
              "#ed7953"
             ],
             [
              0.7777777777777778,
              "#fb9f3a"
             ],
             [
              0.8888888888888888,
              "#fdca26"
             ],
             [
              1,
              "#f0f921"
             ]
            ],
            "type": "histogram2d"
           }
          ],
          "histogram2dcontour": [
           {
            "colorbar": {
             "outlinewidth": 0,
             "ticks": ""
            },
            "colorscale": [
             [
              0,
              "#0d0887"
             ],
             [
              0.1111111111111111,
              "#46039f"
             ],
             [
              0.2222222222222222,
              "#7201a8"
             ],
             [
              0.3333333333333333,
              "#9c179e"
             ],
             [
              0.4444444444444444,
              "#bd3786"
             ],
             [
              0.5555555555555556,
              "#d8576b"
             ],
             [
              0.6666666666666666,
              "#ed7953"
             ],
             [
              0.7777777777777778,
              "#fb9f3a"
             ],
             [
              0.8888888888888888,
              "#fdca26"
             ],
             [
              1,
              "#f0f921"
             ]
            ],
            "type": "histogram2dcontour"
           }
          ],
          "mesh3d": [
           {
            "colorbar": {
             "outlinewidth": 0,
             "ticks": ""
            },
            "type": "mesh3d"
           }
          ],
          "parcoords": [
           {
            "line": {
             "colorbar": {
              "outlinewidth": 0,
              "ticks": ""
             }
            },
            "type": "parcoords"
           }
          ],
          "pie": [
           {
            "automargin": true,
            "type": "pie"
           }
          ],
          "scatter": [
           {
            "fillpattern": {
             "fillmode": "overlay",
             "size": 10,
             "solidity": 0.2
            },
            "type": "scatter"
           }
          ],
          "scatter3d": [
           {
            "line": {
             "colorbar": {
              "outlinewidth": 0,
              "ticks": ""
             }
            },
            "marker": {
             "colorbar": {
              "outlinewidth": 0,
              "ticks": ""
             }
            },
            "type": "scatter3d"
           }
          ],
          "scattercarpet": [
           {
            "marker": {
             "colorbar": {
              "outlinewidth": 0,
              "ticks": ""
             }
            },
            "type": "scattercarpet"
           }
          ],
          "scattergeo": [
           {
            "marker": {
             "colorbar": {
              "outlinewidth": 0,
              "ticks": ""
             }
            },
            "type": "scattergeo"
           }
          ],
          "scattergl": [
           {
            "marker": {
             "colorbar": {
              "outlinewidth": 0,
              "ticks": ""
             }
            },
            "type": "scattergl"
           }
          ],
          "scattermap": [
           {
            "marker": {
             "colorbar": {
              "outlinewidth": 0,
              "ticks": ""
             }
            },
            "type": "scattermap"
           }
          ],
          "scattermapbox": [
           {
            "marker": {
             "colorbar": {
              "outlinewidth": 0,
              "ticks": ""
             }
            },
            "type": "scattermapbox"
           }
          ],
          "scatterpolar": [
           {
            "marker": {
             "colorbar": {
              "outlinewidth": 0,
              "ticks": ""
             }
            },
            "type": "scatterpolar"
           }
          ],
          "scatterpolargl": [
           {
            "marker": {
             "colorbar": {
              "outlinewidth": 0,
              "ticks": ""
             }
            },
            "type": "scatterpolargl"
           }
          ],
          "scatterternary": [
           {
            "marker": {
             "colorbar": {
              "outlinewidth": 0,
              "ticks": ""
             }
            },
            "type": "scatterternary"
           }
          ],
          "surface": [
           {
            "colorbar": {
             "outlinewidth": 0,
             "ticks": ""
            },
            "colorscale": [
             [
              0,
              "#0d0887"
             ],
             [
              0.1111111111111111,
              "#46039f"
             ],
             [
              0.2222222222222222,
              "#7201a8"
             ],
             [
              0.3333333333333333,
              "#9c179e"
             ],
             [
              0.4444444444444444,
              "#bd3786"
             ],
             [
              0.5555555555555556,
              "#d8576b"
             ],
             [
              0.6666666666666666,
              "#ed7953"
             ],
             [
              0.7777777777777778,
              "#fb9f3a"
             ],
             [
              0.8888888888888888,
              "#fdca26"
             ],
             [
              1,
              "#f0f921"
             ]
            ],
            "type": "surface"
           }
          ],
          "table": [
           {
            "cells": {
             "fill": {
              "color": "#EBF0F8"
             },
             "line": {
              "color": "white"
             }
            },
            "header": {
             "fill": {
              "color": "#C8D4E3"
             },
             "line": {
              "color": "white"
             }
            },
            "type": "table"
           }
          ]
         },
         "layout": {
          "annotationdefaults": {
           "arrowcolor": "#2a3f5f",
           "arrowhead": 0,
           "arrowwidth": 1
          },
          "autotypenumbers": "strict",
          "coloraxis": {
           "colorbar": {
            "outlinewidth": 0,
            "ticks": ""
           }
          },
          "colorscale": {
           "diverging": [
            [
             0,
             "#8e0152"
            ],
            [
             0.1,
             "#c51b7d"
            ],
            [
             0.2,
             "#de77ae"
            ],
            [
             0.3,
             "#f1b6da"
            ],
            [
             0.4,
             "#fde0ef"
            ],
            [
             0.5,
             "#f7f7f7"
            ],
            [
             0.6,
             "#e6f5d0"
            ],
            [
             0.7,
             "#b8e186"
            ],
            [
             0.8,
             "#7fbc41"
            ],
            [
             0.9,
             "#4d9221"
            ],
            [
             1,
             "#276419"
            ]
           ],
           "sequential": [
            [
             0,
             "#0d0887"
            ],
            [
             0.1111111111111111,
             "#46039f"
            ],
            [
             0.2222222222222222,
             "#7201a8"
            ],
            [
             0.3333333333333333,
             "#9c179e"
            ],
            [
             0.4444444444444444,
             "#bd3786"
            ],
            [
             0.5555555555555556,
             "#d8576b"
            ],
            [
             0.6666666666666666,
             "#ed7953"
            ],
            [
             0.7777777777777778,
             "#fb9f3a"
            ],
            [
             0.8888888888888888,
             "#fdca26"
            ],
            [
             1,
             "#f0f921"
            ]
           ],
           "sequentialminus": [
            [
             0,
             "#0d0887"
            ],
            [
             0.1111111111111111,
             "#46039f"
            ],
            [
             0.2222222222222222,
             "#7201a8"
            ],
            [
             0.3333333333333333,
             "#9c179e"
            ],
            [
             0.4444444444444444,
             "#bd3786"
            ],
            [
             0.5555555555555556,
             "#d8576b"
            ],
            [
             0.6666666666666666,
             "#ed7953"
            ],
            [
             0.7777777777777778,
             "#fb9f3a"
            ],
            [
             0.8888888888888888,
             "#fdca26"
            ],
            [
             1,
             "#f0f921"
            ]
           ]
          },
          "colorway": [
           "#636efa",
           "#EF553B",
           "#00cc96",
           "#ab63fa",
           "#FFA15A",
           "#19d3f3",
           "#FF6692",
           "#B6E880",
           "#FF97FF",
           "#FECB52"
          ],
          "font": {
           "color": "#2a3f5f"
          },
          "geo": {
           "bgcolor": "white",
           "lakecolor": "white",
           "landcolor": "#E5ECF6",
           "showlakes": true,
           "showland": true,
           "subunitcolor": "white"
          },
          "hoverlabel": {
           "align": "left"
          },
          "hovermode": "closest",
          "mapbox": {
           "style": "light"
          },
          "paper_bgcolor": "white",
          "plot_bgcolor": "#E5ECF6",
          "polar": {
           "angularaxis": {
            "gridcolor": "white",
            "linecolor": "white",
            "ticks": ""
           },
           "bgcolor": "#E5ECF6",
           "radialaxis": {
            "gridcolor": "white",
            "linecolor": "white",
            "ticks": ""
           }
          },
          "scene": {
           "xaxis": {
            "backgroundcolor": "#E5ECF6",
            "gridcolor": "white",
            "gridwidth": 2,
            "linecolor": "white",
            "showbackground": true,
            "ticks": "",
            "zerolinecolor": "white"
           },
           "yaxis": {
            "backgroundcolor": "#E5ECF6",
            "gridcolor": "white",
            "gridwidth": 2,
            "linecolor": "white",
            "showbackground": true,
            "ticks": "",
            "zerolinecolor": "white"
           },
           "zaxis": {
            "backgroundcolor": "#E5ECF6",
            "gridcolor": "white",
            "gridwidth": 2,
            "linecolor": "white",
            "showbackground": true,
            "ticks": "",
            "zerolinecolor": "white"
           }
          },
          "shapedefaults": {
           "line": {
            "color": "#2a3f5f"
           }
          },
          "ternary": {
           "aaxis": {
            "gridcolor": "white",
            "linecolor": "white",
            "ticks": ""
           },
           "baxis": {
            "gridcolor": "white",
            "linecolor": "white",
            "ticks": ""
           },
           "bgcolor": "#E5ECF6",
           "caxis": {
            "gridcolor": "white",
            "linecolor": "white",
            "ticks": ""
           }
          },
          "title": {
           "x": 0.05
          },
          "xaxis": {
           "automargin": true,
           "gridcolor": "white",
           "linecolor": "white",
           "ticks": "",
           "title": {
            "standoff": 15
           },
           "zerolinecolor": "white",
           "zerolinewidth": 2
          },
          "yaxis": {
           "automargin": true,
           "gridcolor": "white",
           "linecolor": "white",
           "ticks": "",
           "title": {
            "standoff": 15
           },
           "zerolinecolor": "white",
           "zerolinewidth": 2
          }
         }
        },
        "xaxis": {
         "anchor": "y",
         "autorange": true,
         "domain": [
          0,
          1
         ],
         "range": [
          0,
          70
         ],
         "title": {
          "text": "Date"
         },
         "type": "category"
        },
        "yaxis": {
         "anchor": "x",
         "autorange": true,
         "domain": [
          0,
          1
         ],
         "range": [
          64.95111111111112,
          102.12888888888888
         ],
         "title": {
          "text": "PRC"
         },
         "type": "linear"
        }
       }
      },
      "image/png": "[encoded data removed]"
     },
     "metadata": {},
     "output_type": "display_data"
    }
   ],
   "source": [
    "fig = px.line(gas_fc,x=\"Date\", y=\"PRC\")\n",
    "fig.show()"
   ]
  },
  {
   "cell_type": "markdown",
   "id": "cd855834-95dd-485c-8344-9611f2f411ad",
   "metadata": {},
   "source": [
    "Now do the same for the gas_volume data frame:"
   ]
  },
  {
   "cell_type": "code",
   "execution_count": 58,
   "id": "76ae0729-bf3b-440d-b187-26d32fe5ee9e",
   "metadata": {},
   "outputs": [
    {
     "data": {
      "application/vnd.plotly.v1+json": {
       "config": {
        "plotlyServerURL": "https://plot.ly"
       },
       "data": [
        {
         "hovertemplate": "Date=%{x}<br>Volume therms=%{y}<extra></extra>",
         "legendgroup": "",
         "line": {
          "color": "#636efa",
          "dash": "solid"
         },
         "marker": {
          "symbol": "circle"
         },
         "mode": "lines",
         "name": "",
         "orientation": "v",
         "showlegend": false,
         "type": "scatter",
         "x": [
          "31/07/2023",
          "01/08/2023",
          "02/08/2023",
          "03/08/2023",
          "04/08/2023",
          "05/08/2023",
          "06/08/2023",
          "07/08/2023",
          "08/08/2023",
          "09/08/2023",
          "10/08/2023",
          "11/08/2023",
          "12/08/2023",
          "13/08/2023",
          "14/08/2023",
          "15/08/2023",
          "16/08/2023",
          "17/08/2023",
          "18/08/2023",
          "19/08/2023",
          "20/08/2023",
          "21/08/2023",
          "22/08/2023",
          "23/08/2023",
          "24/08/2023",
          "25/08/2023",
          "26/08/2023",
          "27/08/2023",
          "28/08/2023",
          "29/08/2023",
          "30/08/2023",
          "31/08/2023",
          "01/09/2023",
          "02/09/2023",
          "03/09/2023",
          "04/09/2023",
          "05/09/2023",
          "06/09/2023",
          "07/09/2023",
          "08/09/2023",
          "09/09/2023",
          "10/09/2023",
          "11/09/2023",
          "12/09/2023",
          "13/09/2023",
          "14/09/2023",
          "15/09/2023",
          "16/09/2023",
          "17/09/2023",
          "18/09/2023",
          "19/09/2023",
          "20/09/2023",
          "21/09/2023",
          "22/09/2023",
          "23/09/2023",
          "24/09/2023",
          "25/09/2023",
          "26/09/2023",
          "27/09/2023",
          "28/09/2023",
          "29/09/2023",
          "30/09/2023",
          "01/10/2023",
          "02/10/2023",
          "03/10/2023",
          "04/10/2023",
          "05/10/2023",
          "06/10/2023",
          "07/10/2023",
          "08/10/2023",
          "09/10/2023",
          "10/10/2023",
          "11/10/2023",
          "12/10/2023",
          "13/10/2023",
          "14/10/2023",
          "15/10/2023",
          "16/10/2023",
          "17/10/2023",
          "18/10/2023",
          "19/10/2023",
          "20/10/2023",
          "21/10/2023",
          "22/10/2023",
          "23/10/2023",
          "24/10/2023",
          "25/10/2023",
          "26/10/2023",
          "27/10/2023",
          "28/10/2023",
          "29/10/2023",
          "30/10/2023",
          "31/10/2023",
          "01/11/2023",
          "02/11/2023",
          "03/11/2023",
          "04/11/2023",
          "05/11/2023",
          "06/11/2023",
          "07/11/2023",
          "08/11/2023",
          "09/11/2023",
          "10/11/2023",
          "11/11/2023",
          "12/11/2023",
          "13/11/2023",
          "14/11/2023",
          "15/11/2023",
          "16/11/2023",
          "17/11/2023",
          "18/11/2023",
          "19/11/2023",
          "20/11/2023",
          "21/11/2023",
          "22/11/2023",
          "23/11/2023",
          "24/11/2023",
          "25/11/2023",
          "26/11/2023",
          "27/11/2023",
          "28/11/2023",
          "29/11/2023",
          "30/11/2023",
          "01/12/2023",
          "02/12/2023",
          "03/12/2023",
          "04/12/2023",
          "05/12/2023",
          "06/12/2023",
          "07/12/2023",
          "08/12/2023",
          "09/12/2023",
          "10/12/2023",
          "11/12/2023",
          "12/12/2023",
          "13/12/2023",
          "14/12/2023",
          "15/12/2023",
          "16/12/2023",
          "17/12/2023",
          "18/12/2023",
          "19/12/2023",
          "20/12/2023",
          "21/12/2023",
          "22/12/2023",
          "23/12/2023",
          "24/12/2023",
          "25/12/2023",
          "26/12/2023",
          "27/12/2023",
          "28/12/2023",
          "29/12/2023",
          "30/12/2023",
          "31/12/2023",
          "01/01/2024",
          "02/01/2024",
          "03/01/2024",
          "04/01/2024",
          "05/01/2024",
          "06/01/2024",
          "07/01/2024",
          "08/01/2024",
          "09/01/2024",
          "10/01/2024",
          "11/01/2024",
          "12/01/2024",
          "13/01/2024",
          "14/01/2024",
          "15/01/2024",
          "16/01/2024",
          "17/01/2024",
          "18/01/2024",
          "19/01/2024",
          "20/01/2024",
          "21/01/2024",
          "22/01/2024",
          "23/01/2024",
          "24/01/2024",
          "25/01/2024",
          "26/01/2024",
          "27/01/2024",
          "28/01/2024",
          "29/01/2024",
          "30/01/2024",
          "31/01/2024",
          "01/02/2024",
          "02/02/2024",
          "03/02/2024",
          "04/02/2024",
          "05/02/2024",
          "06/02/2024",
          "07/02/2024",
          "08/02/2024",
          "09/02/2024",
          "10/02/2024",
          "11/02/2024",
          "12/02/2024",
          "13/02/2024",
          "14/02/2024",
          "15/02/2024",
          "16/02/2024",
          "17/02/2024",
          "18/02/2024",
          "19/02/2024",
          "20/02/2024",
          "21/02/2024",
          "22/02/2024",
          "23/02/2024",
          "24/02/2024",
          "25/02/2024",
          "26/02/2024",
          "27/02/2024",
          "28/02/2024",
          "29/02/2024",
          "01/03/2024",
          "02/03/2024",
          "03/03/2024",
          "04/03/2024",
          "05/03/2024",
          "06/03/2024",
          "07/03/2024",
          "08/03/2024",
          "09/03/2024",
          "10/03/2024",
          "11/03/2024",
          "12/03/2024",
          "13/03/2024",
          "14/03/2024",
          "15/03/2024",
          "16/03/2024",
          "17/03/2024",
          "18/03/2024",
          "19/03/2024",
          "20/03/2024",
          "21/03/2024",
          "22/03/2024",
          "23/03/2024",
          "24/03/2024",
          "25/03/2024",
          "26/03/2024",
          "27/03/2024",
          "28/03/2024",
          "29/03/2024",
          "30/03/2024",
          "31/03/2024",
          "01/04/2024",
          "02/04/2024",
          "03/04/2024",
          "04/04/2024",
          "05/04/2024",
          "06/04/2024",
          "07/04/2024",
          "08/04/2024",
          "09/04/2024",
          "10/04/2024",
          "11/04/2024",
          "12/04/2024",
          "13/04/2024",
          "14/04/2024",
          "15/04/2024",
          "16/04/2024",
          "17/04/2024",
          "18/04/2024",
          "19/04/2024",
          "20/04/2024",
          "21/04/2024",
          "22/04/2024",
          "23/04/2024",
          "24/04/2024",
          "25/04/2024",
          "26/04/2024",
          "27/04/2024",
          "28/04/2024",
          "29/04/2024",
          "30/04/2024",
          "01/05/2024",
          "02/05/2024",
          "03/05/2024",
          "04/05/2024",
          "05/05/2024",
          "06/05/2024",
          "07/05/2024",
          "08/05/2024",
          "09/05/2024",
          "10/05/2024",
          "11/05/2024",
          "12/05/2024",
          "13/05/2024",
          "14/05/2024",
          "15/05/2024",
          "16/05/2024",
          "17/05/2024",
          "18/05/2024",
          "19/05/2024",
          "20/05/2024",
          "21/05/2024",
          "22/05/2024",
          "23/05/2024",
          "24/05/2024",
          "25/05/2024",
          "26/05/2024",
          "27/05/2024",
          "28/05/2024",
          "29/05/2024",
          "30/05/2024",
          "31/05/2024",
          "01/06/2024",
          "02/06/2024",
          "03/06/2024",
          "04/06/2024",
          "05/06/2024",
          "06/06/2024",
          "07/06/2024",
          "08/06/2024",
          "09/06/2024",
          "10/06/2024",
          "11/06/2024",
          "12/06/2024",
          "13/06/2024",
          "14/06/2024",
          "15/06/2024",
          "16/06/2024",
          "17/06/2024",
          "18/06/2024",
          "19/06/2024",
          "20/06/2024",
          "21/06/2024",
          "22/06/2024",
          "23/06/2024",
          "24/06/2024",
          "25/06/2024",
          "26/06/2024",
          "27/06/2024",
          "28/06/2024",
          "29/06/2024",
          "30/06/2024",
          "01/07/2024",
          "02/07/2024",
          "03/07/2024",
          "04/07/2024",
          "05/07/2024",
          "06/07/2024",
          "07/07/2024",
          "08/07/2024",
          "09/07/2024",
          "10/07/2024",
          "11/07/2024",
          "12/07/2024",
          "13/07/2024",
          "14/07/2024",
          "15/07/2024",
          "16/07/2024",
          "17/07/2024",
          "18/07/2024",
          "19/07/2024",
          "20/07/2024",
          "21/07/2024",
          "22/07/2024",
          "23/07/2024",
          "24/07/2024",
          "25/07/2024",
          "26/07/2024",
          "27/07/2024",
          "28/07/2024",
          "29/07/2024",
          "30/07/2024",
          "31/07/2024",
          "01/08/2024",
          "02/08/2024",
          "03/08/2024",
          "04/08/2024",
          "05/08/2024",
          "06/08/2024",
          "07/08/2024",
          "08/08/2024",
          "09/08/2024",
          "10/08/2024",
          "11/08/2024",
          "12/08/2024",
          "13/08/2024",
          "14/08/2024",
          "15/08/2024",
          "16/08/2024",
          "17/08/2024",
          "18/08/2024",
          "19/08/2024",
          "20/08/2024",
          "21/08/2024",
          "22/08/2024",
          "23/08/2024",
          "24/08/2024",
          "25/08/2024",
          "26/08/2024",
          "27/08/2024",
          "28/08/2024",
          "29/08/2024",
          "30/08/2024",
          "31/08/2024",
          "01/09/2024",
          "02/09/2024",
          "03/09/2024",
          "04/09/2024",
          "05/09/2024",
          "06/09/2024",
          "07/09/2024",
          "08/09/2024",
          "09/09/2024",
          "10/09/2024",
          "11/09/2024",
          "12/09/2024",
          "13/09/2024",
          "14/09/2024",
          "15/09/2024",
          "16/09/2024",
          "17/09/2024",
          "18/09/2024",
          "19/09/2024",
          "20/09/2024",
          "21/09/2024",
          "22/09/2024",
          "23/09/2024",
          "24/09/2024",
          "25/09/2024",
          "26/09/2024",
          "27/09/2024",
          "28/09/2024",
          "29/09/2024",
          "30/09/2024",
          "01/10/2024",
          "02/10/2024",
          "03/10/2024",
          "04/10/2024",
          "05/10/2024",
          "06/10/2024",
          "07/10/2024",
          "08/10/2024",
          "09/10/2024",
          "10/10/2024",
          "11/10/2024",
          "12/10/2024",
          "13/10/2024",
          "14/10/2024",
          "15/10/2024",
          "16/10/2024",
          "17/10/2024",
          "18/10/2024",
          "19/10/2024",
          "20/10/2024",
          "21/10/2024",
          "22/10/2024",
          "23/10/2024",
          "24/10/2024",
          "25/10/2024",
          "26/10/2024",
          "27/10/2024",
          "28/10/2024",
          "29/10/2024",
          "30/10/2024",
          "31/10/2024",
          "01/11/2024",
          "02/11/2024",
          "03/11/2024",
          "04/11/2024",
          "05/11/2024",
          "06/11/2024",
          "07/11/2024",
          "08/11/2024",
          "09/11/2024",
          "10/11/2024",
          "11/11/2024",
          "12/11/2024",
          "13/11/2024",
          "14/11/2024",
          "15/11/2024",
          "16/11/2024",
          "17/11/2024",
          "18/11/2024",
          "19/11/2024",
          "20/11/2024",
          "21/11/2024",
          "22/11/2024",
          "23/11/2024",
          "24/11/2024",
          "25/11/2024",
          "26/11/2024",
          "27/11/2024",
          "28/11/2024",
          "29/11/2024",
          "30/11/2024",
          "01/12/2024",
          "02/12/2024",
          "03/12/2024",
          "04/12/2024",
          "05/12/2024",
          "06/12/2024",
          "07/12/2024",
          "08/12/2024",
          "09/12/2024",
          "10/12/2024",
          "11/12/2024",
          "12/12/2024",
          "13/12/2024",
          "14/12/2024",
          "15/12/2024",
          "16/12/2024",
          "17/12/2024",
          "18/12/2024",
          "19/12/2024",
          "20/12/2024",
          "21/12/2024",
          "22/12/2024",
          "23/12/2024",
          "24/12/2024",
          "25/12/2024",
          "26/12/2024",
          "27/12/2024",
          "28/12/2024",
          "29/12/2024",
          "30/12/2024",
          "31/12/2024",
          "01/01/2025",
          "02/01/2025",
          "03/01/2025",
          "04/01/2025",
          "05/01/2025",
          "06/01/2025",
          "07/01/2025",
          "08/01/2025",
          "09/01/2025",
          "10/01/2025",
          "11/01/2025",
          "12/01/2025",
          "13/01/2025",
          "14/01/2025",
          "15/01/2025",
          "16/01/2025",
          "17/01/2025",
          "18/01/2025",
          "19/01/2025",
          "20/01/2025",
          "21/01/2025",
          "22/01/2025",
          "23/01/2025",
          "24/01/2025",
          "25/01/2025",
          "26/01/2025",
          "27/01/2025",
          "28/01/2025",
          "29/01/2025",
          "30/01/2025",
          "31/01/2025",
          "01/02/2025",
          "02/02/2025",
          "03/02/2025",
          "04/02/2025",
          "05/02/2025",
          "06/02/2025",
          "07/02/2025",
          "08/02/2025",
          "09/02/2025",
          "10/02/2025",
          "11/02/2025",
          "12/02/2025",
          "13/02/2025",
          "14/02/2025",
          "15/02/2025",
          "16/02/2025",
          "17/02/2025",
          "18/02/2025",
          "19/02/2025",
          "20/02/2025",
          "21/02/2025",
          "22/02/2025",
          "23/02/2025",
          "24/02/2025",
          "25/02/2025",
          "26/02/2025",
          "27/02/2025",
          "28/02/2025",
          "01/03/2025",
          "02/03/2025",
          "03/03/2025",
          "04/03/2025",
          "05/03/2025",
          "06/03/2025",
          "07/03/2025",
          "08/03/2025",
          "09/03/2025",
          "10/03/2025",
          "11/03/2025",
          "12/03/2025",
          "13/03/2025",
          "14/03/2025",
          "15/03/2025",
          "16/03/2025",
          "17/03/2025",
          "18/03/2025",
          "19/03/2025",
          "20/03/2025",
          "21/03/2025",
          "22/03/2025",
          "23/03/2025",
          "24/03/2025",
          "25/03/2025",
          "26/03/2025",
          "27/03/2025",
          "28/03/2025",
          "29/03/2025",
          "30/03/2025",
          "31/03/2025",
          "01/04/2025",
          "02/04/2025",
          "03/04/2025",
          "04/04/2025",
          "05/04/2025",
          "06/04/2025",
          "07/04/2025",
          "08/04/2025",
          "09/04/2025",
          "10/04/2025",
          "11/04/2025",
          "12/04/2025",
          "13/04/2025",
          "14/04/2025",
          "15/04/2025",
          "16/04/2025",
          "17/04/2025",
          "18/04/2025",
          "19/04/2025",
          "20/04/2025",
          "21/04/2025",
          "22/04/2025",
          "23/04/2025",
          "24/04/2025",
          "25/04/2025",
          "26/04/2025",
          "27/04/2025",
          "28/04/2025",
          "29/04/2025",
          "30/04/2025",
          "01/05/2025",
          "02/05/2025",
          "03/05/2025",
          "04/05/2025",
          "05/05/2025",
          "06/05/2025",
          "07/05/2025",
          "08/05/2025",
          "09/05/2025",
          "10/05/2025",
          "11/05/2025",
          "12/05/2025",
          "13/05/2025",
          "14/05/2025",
          "15/05/2025",
          "16/05/2025",
          "17/05/2025",
          "18/05/2025",
          "19/05/2025",
          "20/05/2025",
          "21/05/2025",
          "22/05/2025",
          "23/05/2025",
          "24/05/2025",
          "25/05/2025",
          "26/05/2025",
          "27/05/2025",
          "28/05/2025",
          "29/05/2025",
          "30/05/2025",
          "31/05/2025",
          "01/06/2025",
          "02/06/2025",
          "03/06/2025",
          "04/06/2025",
          "05/06/2025",
          "06/06/2025",
          "07/06/2025",
          "08/06/2025",
          "09/06/2025",
          "10/06/2025",
          "11/06/2025",
          "12/06/2025",
          "13/06/2025",
          "14/06/2025",
          "15/06/2025",
          "16/06/2025",
          "17/06/2025",
          "18/06/2025",
          "19/06/2025",
          "20/06/2025",
          "21/06/2025",
          "22/06/2025",
          "23/06/2025",
          "24/06/2025",
          "25/06/2025",
          "26/06/2025",
          "27/06/2025",
          "28/06/2025"
         ],
         "xaxis": "x",
         "y": {
          "_inputArray": {
           "0": 4111.17,
           "1": 3987.09,
           "10": 4406.22,
           "100": 9436.35,
           "101": 9707.53,
           "102": 9387.41,
           "103": 7749.92,
           "104": 7974.04,
           "105": 9233.27,
           "106": 9166.2,
           "107": 9397.47,
           "108": 10040.99,
           "109": 9352.21,
           "11": 4095.12,
           "110": 6932.73,
           "111": 6824.5,
           "112": 8984.88,
           "113": 9483.75,
           "114": 9530.33,
           "115": 9160.43,
           "116": 9632.3,
           "117": 8560.25,
           "118": 8864.68,
           "119": 11300.6,
           "12": 3257.58,
           "120": 11295.26,
           "121": 11977.14,
           "122": 12760.23,
           "123": 12309.73,
           "124": 10448.29,
           "125": 9882.55,
           "126": 12085.97,
           "127": 11775.79,
           "128": 12184.36,
           "129": 11851.53,
           "13": 3372.31,
           "130": 10062.87,
           "131": 7934.03,
           "132": 7879.6,
           "133": 9914.3,
           "134": 10026.73,
           "135": 10873.46,
           "136": 10813.37,
           "137": 9910.51,
           "138": 7579.29,
           "139": 7543.05,
           "14": 4507.52,
           "140": 9348,
           "141": 10031.18,
           "142": 10053.45,
           "143": 9703.61,
           "144": 9137.61,
           "145": 6168.35,
           "146": 5827.49,
           "147": 6068.05,
           "148": 6655.78,
           "149": 7457.7,
           "15": 4461.02,
           "150": 7200.76,
           "151": 7516.21,
           "152": 6818.85,
           "153": 7090.7,
           "154": 6885.91,
           "155": 9999.56,
           "156": 9986.66,
           "157": 10503.77,
           "158": 10092.83,
           "159": 8478.79,
           "16": 4430.74,
           "160": 9194.56,
           "161": 12700.81,
           "162": 12831.72,
           "163": 12447.26,
           "164": 12058.9,
           "165": 11240.45,
           "166": 9029.14,
           "167": 9362.72,
           "168": 12857.03,
           "169": 12947.39,
           "17": 4424.52,
           "170": 13398.02,
           "171": 13661.84,
           "172": 12527.08,
           "173": 9689.41,
           "174": 8412.23,
           "175": 10638.43,
           "176": 10199.81,
           "177": 9874.55,
           "178": 9601.58,
           "179": 9617.94,
           "18": 4120.55,
           "180": 8107.88,
           "181": 7926.22,
           "182": 9798.71,
           "183": 10380.3,
           "184": 10526.56,
           "185": 11057.53,
           "186": 9624.91,
           "187": 7436.1,
           "188": 7465.93,
           "189": 9759.05,
           "19": 3248.44,
           "190": 9801.14,
           "191": 10847.84,
           "192": 11745.16,
           "193": 10047.66,
           "194": 7869.9,
           "195": 8312.08,
           "196": 11043.69,
           "197": 10709.49,
           "198": 9644.62,
           "199": 8884.74,
           "2": 4037.33,
           "20": 3350.7,
           "200": 8594.57,
           "201": 6917.4,
           "202": 6895,
           "203": 9394.35,
           "204": 9591.02,
           "205": 9830.42,
           "206": 10730.44,
           "207": 10329.34,
           "208": 8532.62,
           "209": 9152.8,
           "21": 4416.63,
           "210": 11537.5,
           "211": 11328.43,
           "212": 10674.32,
           "213": 10569.59,
           "214": 10589.59,
           "215": 8672.66,
           "216": 8650.57,
           "217": 11185.19,
           "218": 10507.52,
           "219": 10648.05,
           "22": 4414.92,
           "220": 10866.31,
           "221": 10181.23,
           "222": 7800.4,
           "223": 7986.17,
           "224": 10285.28,
           "225": 9542.13,
           "226": 9035.51,
           "227": 8661.06,
           "228": 8224.74,
           "229": 6901.61,
           "23": 4420.92,
           "230": 6603.17,
           "231": 8484.18,
           "232": 8281.2,
           "233": 8257.75,
           "234": 8509.26,
           "235": 8567.51,
           "236": 7533.86,
           "237": 7303.81,
           "238": 9629.81,
           "239": 9292.75,
           "24": 4481.87,
           "240": 9513.49,
           "241": 9583.45,
           "242": 7858.79,
           "243": 6634.17,
           "244": 6830.59,
           "245": 7406.61,
           "246": 8222.66,
           "247": 8196.17,
           "248": 7887.73,
           "249": 7248.92,
           "25": 4289.65,
           "250": 5224.84,
           "251": 5608.07,
           "252": 7387.45,
           "253": 8570.62,
           "254": 8338.1,
           "255": 7110.12,
           "256": 6343.34,
           "257": 5292.34,
           "258": 5886.47,
           "259": 8688.33,
           "26": 3434.05,
           "260": 8465.12,
           "261": 8833.68,
           "262": 8744.34,
           "263": 7848.47,
           "264": 6403.88,
           "265": 6579.17,
           "266": 8816.77,
           "267": 8730.7,
           "268": 8823.8,
           "269": 9037.06,
           "27": 3493.52,
           "270": 8317.25,
           "271": 6825.47,
           "272": 6845.36,
           "273": 8023.89,
           "274": 7035.1,
           "275": 6581.77,
           "276": 6660.64,
           "277": 6672,
           "278": 5277.42,
           "279": 5041.94,
           "28": 3509.19,
           "280": 4980.12,
           "281": 6096.96,
           "282": 5882.79,
           "283": 5668.3,
           "284": 5115.46,
           "285": 4077.22,
           "286": 4072.07,
           "287": 5614.76,
           "288": 5779.76,
           "289": 5751.28,
           "29": 4787.16,
           "290": 5906.59,
           "291": 5296.27,
           "292": 4251.7,
           "293": 4278.74,
           "294": 5765.81,
           "295": 5920.59,
           "296": 6182.63,
           "297": 6419.84,
           "298": 5838.63,
           "299": 4466.81,
           "3": 3997.92,
           "30": 4811.85,
           "300": 4464.9,
           "301": 4487.91,
           "302": 5502.34,
           "303": 5403.44,
           "304": 5461.12,
           "305": 5545.29,
           "306": 4427.25,
           "307": 3922.16,
           "308": 5170.49,
           "309": 5322.29,
           "31": 4864.37,
           "310": 5560.82,
           "311": 5497.1,
           "312": 5036.48,
           "313": 4074.84,
           "314": 4241.67,
           "315": 5748.42,
           "316": 5802.09,
           "317": 5722.68,
           "318": 5835.14,
           "319": 5067.97,
           "32": 4291.96,
           "320": 4182.25,
           "321": 4064.75,
           "322": 5180.81,
           "323": 5185.14,
           "324": 5103.55,
           "325": 4955.13,
           "326": 4556.07,
           "327": 3654.25,
           "328": 3631.39,
           "329": 4736.95,
           "33": 3289.11,
           "330": 4722.45,
           "331": 4715.69,
           "332": 4747.08,
           "333": 4555.88,
           "334": 3650.79,
           "335": 3884.34,
           "336": 5125.84,
           "337": 5137.91,
           "338": 5175.11,
           "339": 5151.88,
           "34": 3315.53,
           "340": 4726.44,
           "341": 3905.3,
           "342": 3971.18,
           "343": 5109.11,
           "344": 5021.01,
           "345": 4964.91,
           "346": 5008.11,
           "347": 4717.19,
           "348": 3790.74,
           "349": 3809.25,
           "35": 4350.17,
           "350": 4946.67,
           "351": 4938.39,
           "352": 4765.18,
           "353": 4692.02,
           "354": 4138.73,
           "355": 3246.46,
           "356": 3257.19,
           "357": 4159.28,
           "358": 4155.45,
           "359": 4179.51,
           "36": 4351.13,
           "360": 4197.8,
           "361": 4197.66,
           "362": 3322.56,
           "363": 3253.25,
           "364": 4141.87,
           "365": 4144.12,
           "366": 4144.39,
           "367": 4175.08,
           "368": 4177.44,
           "369": 3281.86,
           "37": 4346.26,
           "370": 3310.94,
           "371": 4735.18,
           "372": 4735.42,
           "373": 4796.92,
           "374": 4791.84,
           "375": 4400.03,
           "376": 3522.04,
           "377": 3578.48,
           "378": 4715.37,
           "379": 4726.56,
           "38": 4344.36,
           "380": 4743.35,
           "381": 4802.68,
           "382": 4483.73,
           "383": 3636.25,
           "384": 3692.69,
           "385": 4940.16,
           "386": 4889.36,
           "387": 4963.33,
           "388": 4928.33,
           "389": 4544.21,
           "39": 4025.27,
           "390": 3677.52,
           "391": 3715.17,
           "392": 3636.18,
           "393": 4832.28,
           "394": 4773.87,
           "395": 4864.53,
           "396": 4544.3,
           "397": 3687.77,
           "398": 3668.35,
           "399": 4804.26,
           "4": 4059.61,
           "40": 3198.15,
           "400": 4875.93,
           "401": 5054.6,
           "402": 5108.41,
           "403": 4559.34,
           "404": 3660.84,
           "405": 3761.39,
           "406": 5169.06,
           "407": 5363.99,
           "408": 5851.42,
           "409": 6196.1,
           "41": 3298.76,
           "410": 5716.75,
           "411": 4194.54,
           "412": 4189.79,
           "413": 5317.93,
           "414": 5262.9,
           "415": 5142.26,
           "416": 5072.69,
           "417": 4730.44,
           "418": 3743.54,
           "419": 3971.74,
           "42": 4349.32,
           "420": 5395.4,
           "421": 5564.78,
           "422": 5836.64,
           "423": 5955.54,
           "424": 6088.96,
           "425": 5004.02,
           "426": 5288.14,
           "427": 7328.9,
           "428": 7460.48,
           "429": 7179.07,
           "43": 4489.81,
           "430": 7353.24,
           "431": 6904.84,
           "432": 5464.53,
           "433": 5625.57,
           "434": 6655.98,
           "435": 6768.89,
           "436": 7084.74,
           "437": 8111.13,
           "438": 7929.33,
           "439": 6564.38,
           "44": 4606.02,
           "440": 6976.08,
           "441": 8766.11,
           "442": 7945.03,
           "443": 6921.48,
           "444": 6719.16,
           "445": 6664,
           "446": 5338.68,
           "447": 5574.22,
           "448": 7483.04,
           "449": 7541.76,
           "45": 4616.22,
           "450": 7637.7,
           "451": 7469.4,
           "452": 6890.65,
           "453": 5872.94,
           "454": 6288.54,
           "455": 7619.47,
           "456": 7526.36,
           "457": 7818.59,
           "458": 8087.27,
           "459": 7527.88,
           "46": 4232.03,
           "460": 6070.96,
           "461": 6523.25,
           "462": 8616.4,
           "463": 8728.27,
           "464": 8633.6,
           "465": 8910.2,
           "466": 8695.47,
           "467": 7402.62,
           "468": 7190.85,
           "469": 9458.9,
           "47": 3403.74,
           "470": 9713.61,
           "471": 9578.52,
           "472": 9500.91,
           "473": 9155.23,
           "474": 7514.58,
           "475": 7896.21,
           "476": 10879,
           "477": 12115.18,
           "478": 12600.83,
           "479": 13181.63,
           "48": 3491.18,
           "480": 11800.47,
           "481": 8492.25,
           "482": 7386.47,
           "483": 9809.02,
           "484": 10354.76,
           "485": 11399.23,
           "486": 11875.61,
           "487": 10309.06,
           "488": 7249.64,
           "489": 7073.33,
           "49": 4744.63,
           "490": 10103.42,
           "491": 10935.15,
           "492": 11001.39,
           "493": 10116.44,
           "494": 9744.3,
           "495": 8798.46,
           "496": 8818.39,
           "497": 11183.36,
           "498": 11466.16,
           "499": 11547.71,
           "5": 3354.2,
           "50": 4774.5,
           "500": 11336.63,
           "501": 10789.76,
           "502": 8640.38,
           "503": 8037.15,
           "504": 10037.86,
           "505": 10269.2,
           "506": 9599.99,
           "507": 10930.57,
           "508": 10377.59,
           "509": 8353.86,
           "51": 4813.48,
           "510": 9202.07,
           "511": 9633.64,
           "512": 7696.83,
           "513": 6947.96,
           "514": 7383.3,
           "515": 8620.99,
           "516": 8065.2,
           "517": 7861.89,
           "518": 8238.93,
           "519": 7864.76,
           "52": 4964.53,
           "520": 7644.74,
           "521": 10436.89,
           "522": 10992.24,
           "523": 10217.37,
           "524": 9621.55,
           "525": 12848.01,
           "526": 13090.47,
           "527": 13681.31,
           "528": 13962.26,
           "529": 13214.93,
           "53": 4886.78,
           "530": 10625.37,
           "531": 10643.71,
           "532": 12821.12,
           "533": 11340.22,
           "534": 10927.26,
           "535": 11333.87,
           "536": 10699.43,
           "537": 9421.98,
           "538": 10068.14,
           "539": 12376.57,
           "54": 3903.1,
           "540": 12275.36,
           "541": 12334.24,
           "542": 12404.99,
           "543": 10652.22,
           "544": 8918.88,
           "545": 9545.33,
           "546": 11688.57,
           "547": 11209.78,
           "548": 11361.86,
           "549": 11760.74,
           "55": 3723.84,
           "550": 10707.56,
           "551": 8907.35,
           "552": 8971.37,
           "553": 11225.5,
           "554": 10981.71,
           "555": 11143.45,
           "556": 11688.46,
           "557": 11804.79,
           "558": 9383.95,
           "559": 9512.16,
           "56": 5154.9,
           "560": 12639.06,
           "561": 12310.3,
           "562": 12107.87,
           "563": 12441.23,
           "564": 11666.45,
           "565": 9393.17,
           "566": 9843.03,
           "567": 12777.31,
           "568": 12615.59,
           "569": 12000.02,
           "57": 5178.56,
           "570": 10145.28,
           "571": 8546.76,
           "572": 6986.44,
           "573": 7494.12,
           "574": 9352.41,
           "575": 9978.21,
           "576": 10685.87,
           "577": 10640.17,
           "578": 10009.37,
           "579": 8312.22,
           "58": 5232.1,
           "580": 8520.66,
           "581": 10766.03,
           "582": 10616.79,
           "583": 10270.55,
           "584": 9385.23,
           "585": 8172.46,
           "586": 6269.34,
           "587": 6386.76,
           "588": 9236.27,
           "589": 10093.67,
           "59": 5256.31,
           "590": 10763.74,
           "591": 11123.78,
           "592": 10231.98,
           "593": 8352.8,
           "594": 8417.43,
           "595": 11034.99,
           "596": 10639.52,
           "597": 9697.87,
           "598": 8525.29,
           "599": 7565.17,
           "6": 3306.1,
           "60": 4908.57,
           "600": 5907.06,
           "601": 6612.74,
           "602": 8761.47,
           "603": 8677.97,
           "604": 8343.36,
           "605": 8376.83,
           "606": 8179.33,
           "607": 6637.5,
           "608": 6354.15,
           "609": 7989.89,
           "61": 4059.97,
           "610": 7983.53,
           "611": 7773.83,
           "612": 7264.25,
           "613": 6350.69,
           "614": 5457.2,
           "615": 5786.26,
           "616": 7744.28,
           "617": 7754.2,
           "618": 8015.43,
           "619": 7585.88,
           "62": 4242.81,
           "620": 6248.74,
           "621": 4732.19,
           "622": 5399.97,
           "623": 7236.67,
           "624": 7287.43,
           "625": 7427.46,
           "626": 6942.17,
           "627": 6059.55,
           "628": 5163.7,
           "629": 5231.58,
           "63": 5681.36,
           "630": 6079.34,
           "631": 6703.38,
           "632": 6928.67,
           "633": 6762.55,
           "634": 6743.35,
           "635": 4968.14,
           "636": 4601.71,
           "637": 5626.89,
           "638": 5396.47,
           "639": 5205.96,
           "64": 5950.99,
           "640": 5099.22,
           "641": 4871.45,
           "642": 4541.86,
           "643": 5292.81,
           "644": 5789.63,
           "645": 7032.15,
           "646": 6817.97,
           "647": 6819.44,
           "648": 5766.68,
           "649": 4195.12,
           "65": 5969.81,
           "650": 4063.19,
           "651": 5182.48,
           "652": 5166.34,
           "653": 5374.59,
           "654": 5822.15,
           "655": 5193.16,
           "656": 4156.78,
           "657": 4379.29,
           "658": 5706.67,
           "659": 5462.05,
           "66": 5887.98,
           "660": 5544.23,
           "661": 5880.95,
           "662": 5214.73,
           "663": 4057.14,
           "664": 4080.44,
           "665": 4199.96,
           "666": 5188.33,
           "667": 4953.93,
           "668": 4742.93,
           "669": 4624.57,
           "67": 5260.03,
           "670": 3704.45,
           "671": 3554.99,
           "672": 4787.33,
           "673": 4969.22,
           "674": 5008.79,
           "675": 5113.61,
           "676": 4615.96,
           "677": 3869.36,
           "678": 3906.22,
           "679": 4995.98,
           "68": 4161.3,
           "680": 4813.06,
           "681": 4632.21,
           "682": 4507.09,
           "683": 4051.02,
           "684": 3274.25,
           "685": 3393.09,
           "686": 4450.52,
           "687": 4448.35,
           "688": 4436.62,
           "689": 4412.8,
           "69": 4206.37,
           "690": 4028.4,
           "691": 3239.83,
           "692": 3334.48,
           "693": 4511.69,
           "694": 4483.33,
           "695": 4457.98,
           "696": 4473.83,
           "697": 4070.47,
           "698": 3254.41,
           "7": 4716.04,
           "70": 5463.68,
           "71": 5494.65,
           "72": 5853.57,
           "73": 6296.92,
           "74": 6111.37,
           "75": 5659.85,
           "76": 6351.65,
           "77": 8489.57,
           "78": 8023.19,
           "79": 7525.36,
           "8": 4742.15,
           "80": 6573.86,
           "81": 6627.57,
           "82": 5580.36,
           "83": 5855.14,
           "84": 7681.1,
           "85": 7746.84,
           "86": 8006.73,
           "87": 7871.1,
           "88": 7503.25,
           "89": 5966.51,
           "9": 4520.77,
           "90": 6144.61,
           "91": 8013.96,
           "92": 8058.41,
           "93": 8474.55,
           "94": 9026.21,
           "95": 8372.53,
           "96": 7042.62,
           "97": 7088.69,
           "98": 9194.33,
           "99": 9334.59,
           "bdata": "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",
           "dtype": "f8",
           "shape": "699"
          },
          "bdata": "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",
          "dtype": "f8"
         },
         "yaxis": "y"
        }
       ],
       "layout": {
        "autosize": true,
        "legend": {
         "tracegroupgap": 0
        },
        "margin": {
         "t": 60
        },
        "template": {
         "data": {
          "bar": [
           {
            "error_x": {
             "color": "#2a3f5f"
            },
            "error_y": {
             "color": "#2a3f5f"
            },
            "marker": {
             "line": {
              "color": "#E5ECF6",
              "width": 0.5
             },
             "pattern": {
              "fillmode": "overlay",
              "size": 10,
              "solidity": 0.2
             }
            },
            "type": "bar"
           }
          ],
          "barpolar": [
           {
            "marker": {
             "line": {
              "color": "#E5ECF6",
              "width": 0.5
             },
             "pattern": {
              "fillmode": "overlay",
              "size": 10,
              "solidity": 0.2
             }
            },
            "type": "barpolar"
           }
          ],
          "carpet": [
           {
            "aaxis": {
             "endlinecolor": "#2a3f5f",
             "gridcolor": "white",
             "linecolor": "white",
             "minorgridcolor": "white",
             "startlinecolor": "#2a3f5f"
            },
            "baxis": {
             "endlinecolor": "#2a3f5f",
             "gridcolor": "white",
             "linecolor": "white",
             "minorgridcolor": "white",
             "startlinecolor": "#2a3f5f"
            },
            "type": "carpet"
           }
          ],
          "choropleth": [
           {
            "colorbar": {
             "outlinewidth": 0,
             "ticks": ""
            },
            "type": "choropleth"
           }
          ],
          "contour": [
           {
            "colorbar": {
             "outlinewidth": 0,
             "ticks": ""
            },
            "colorscale": [
             [
              0,
              "#0d0887"
             ],
             [
              0.1111111111111111,
              "#46039f"
             ],
             [
              0.2222222222222222,
              "#7201a8"
             ],
             [
              0.3333333333333333,
              "#9c179e"
             ],
             [
              0.4444444444444444,
              "#bd3786"
             ],
             [
              0.5555555555555556,
              "#d8576b"
             ],
             [
              0.6666666666666666,
              "#ed7953"
             ],
             [
              0.7777777777777778,
              "#fb9f3a"
             ],
             [
              0.8888888888888888,
              "#fdca26"
             ],
             [
              1,
              "#f0f921"
             ]
            ],
            "type": "contour"
           }
          ],
          "contourcarpet": [
           {
            "colorbar": {
             "outlinewidth": 0,
             "ticks": ""
            },
            "type": "contourcarpet"
           }
          ],
          "heatmap": [
           {
            "colorbar": {
             "outlinewidth": 0,
             "ticks": ""
            },
            "colorscale": [
             [
              0,
              "#0d0887"
             ],
             [
              0.1111111111111111,
              "#46039f"
             ],
             [
              0.2222222222222222,
              "#7201a8"
             ],
             [
              0.3333333333333333,
              "#9c179e"
             ],
             [
              0.4444444444444444,
              "#bd3786"
             ],
             [
              0.5555555555555556,
              "#d8576b"
             ],
             [
              0.6666666666666666,
              "#ed7953"
             ],
             [
              0.7777777777777778,
              "#fb9f3a"
             ],
             [
              0.8888888888888888,
              "#fdca26"
             ],
             [
              1,
              "#f0f921"
             ]
            ],
            "type": "heatmap"
           }
          ],
          "histogram": [
           {
            "marker": {
             "pattern": {
              "fillmode": "overlay",
              "size": 10,
              "solidity": 0.2
             }
            },
            "type": "histogram"
           }
          ],
          "histogram2d": [
           {
            "colorbar": {
             "outlinewidth": 0,
             "ticks": ""
            },
            "colorscale": [
             [
              0,
              "#0d0887"
             ],
             [
              0.1111111111111111,
              "#46039f"
             ],
             [
              0.2222222222222222,
              "#7201a8"
             ],
             [
              0.3333333333333333,
              "#9c179e"
             ],
             [
              0.4444444444444444,
              "#bd3786"
             ],
             [
              0.5555555555555556,
              "#d8576b"
             ],
             [
              0.6666666666666666,
              "#ed7953"
             ],
             [
              0.7777777777777778,
              "#fb9f3a"
             ],
             [
              0.8888888888888888,
              "#fdca26"
             ],
             [
              1,
              "#f0f921"
             ]
            ],
            "type": "histogram2d"
           }
          ],
          "histogram2dcontour": [
           {
            "colorbar": {
             "outlinewidth": 0,
             "ticks": ""
            },
            "colorscale": [
             [
              0,
              "#0d0887"
             ],
             [
              0.1111111111111111,
              "#46039f"
             ],
             [
              0.2222222222222222,
              "#7201a8"
             ],
             [
              0.3333333333333333,
              "#9c179e"
             ],
             [
              0.4444444444444444,
              "#bd3786"
             ],
             [
              0.5555555555555556,
              "#d8576b"
             ],
             [
              0.6666666666666666,
              "#ed7953"
             ],
             [
              0.7777777777777778,
              "#fb9f3a"
             ],
             [
              0.8888888888888888,
              "#fdca26"
             ],
             [
              1,
              "#f0f921"
             ]
            ],
            "type": "histogram2dcontour"
           }
          ],
          "mesh3d": [
           {
            "colorbar": {
             "outlinewidth": 0,
             "ticks": ""
            },
            "type": "mesh3d"
           }
          ],
          "parcoords": [
           {
            "line": {
             "colorbar": {
              "outlinewidth": 0,
              "ticks": ""
             }
            },
            "type": "parcoords"
           }
          ],
          "pie": [
           {
            "automargin": true,
            "type": "pie"
           }
          ],
          "scatter": [
           {
            "fillpattern": {
             "fillmode": "overlay",
             "size": 10,
             "solidity": 0.2
            },
            "type": "scatter"
           }
          ],
          "scatter3d": [
           {
            "line": {
             "colorbar": {
              "outlinewidth": 0,
              "ticks": ""
             }
            },
            "marker": {
             "colorbar": {
              "outlinewidth": 0,
              "ticks": ""
             }
            },
            "type": "scatter3d"
           }
          ],
          "scattercarpet": [
           {
            "marker": {
             "colorbar": {
              "outlinewidth": 0,
              "ticks": ""
             }
            },
            "type": "scattercarpet"
           }
          ],
          "scattergeo": [
           {
            "marker": {
             "colorbar": {
              "outlinewidth": 0,
              "ticks": ""
             }
            },
            "type": "scattergeo"
           }
          ],
          "scattergl": [
           {
            "marker": {
             "colorbar": {
              "outlinewidth": 0,
              "ticks": ""
             }
            },
            "type": "scattergl"
           }
          ],
          "scattermap": [
           {
            "marker": {
             "colorbar": {
              "outlinewidth": 0,
              "ticks": ""
             }
            },
            "type": "scattermap"
           }
          ],
          "scattermapbox": [
           {
            "marker": {
             "colorbar": {
              "outlinewidth": 0,
              "ticks": ""
             }
            },
            "type": "scattermapbox"
           }
          ],
          "scatterpolar": [
           {
            "marker": {
             "colorbar": {
              "outlinewidth": 0,
              "ticks": ""
             }
            },
            "type": "scatterpolar"
           }
          ],
          "scatterpolargl": [
           {
            "marker": {
             "colorbar": {
              "outlinewidth": 0,
              "ticks": ""
             }
            },
            "type": "scatterpolargl"
           }
          ],
          "scatterternary": [
           {
            "marker": {
             "colorbar": {
              "outlinewidth": 0,
              "ticks": ""
             }
            },
            "type": "scatterternary"
           }
          ],
          "surface": [
           {
            "colorbar": {
             "outlinewidth": 0,
             "ticks": ""
            },
            "colorscale": [
             [
              0,
              "#0d0887"
             ],
             [
              0.1111111111111111,
              "#46039f"
             ],
             [
              0.2222222222222222,
              "#7201a8"
             ],
             [
              0.3333333333333333,
              "#9c179e"
             ],
             [
              0.4444444444444444,
              "#bd3786"
             ],
             [
              0.5555555555555556,
              "#d8576b"
             ],
             [
              0.6666666666666666,
              "#ed7953"
             ],
             [
              0.7777777777777778,
              "#fb9f3a"
             ],
             [
              0.8888888888888888,
              "#fdca26"
             ],
             [
              1,
              "#f0f921"
             ]
            ],
            "type": "surface"
           }
          ],
          "table": [
           {
            "cells": {
             "fill": {
              "color": "#EBF0F8"
             },
             "line": {
              "color": "white"
             }
            },
            "header": {
             "fill": {
              "color": "#C8D4E3"
             },
             "line": {
              "color": "white"
             }
            },
            "type": "table"
           }
          ]
         },
         "layout": {
          "annotationdefaults": {
           "arrowcolor": "#2a3f5f",
           "arrowhead": 0,
           "arrowwidth": 1
          },
          "autotypenumbers": "strict",
          "coloraxis": {
           "colorbar": {
            "outlinewidth": 0,
            "ticks": ""
           }
          },
          "colorscale": {
           "diverging": [
            [
             0,
             "#8e0152"
            ],
            [
             0.1,
             "#c51b7d"
            ],
            [
             0.2,
             "#de77ae"
            ],
            [
             0.3,
             "#f1b6da"
            ],
            [
             0.4,
             "#fde0ef"
            ],
            [
             0.5,
             "#f7f7f7"
            ],
            [
             0.6,
             "#e6f5d0"
            ],
            [
             0.7,
             "#b8e186"
            ],
            [
             0.8,
             "#7fbc41"
            ],
            [
             0.9,
             "#4d9221"
            ],
            [
             1,
             "#276419"
            ]
           ],
           "sequential": [
            [
             0,
             "#0d0887"
            ],
            [
             0.1111111111111111,
             "#46039f"
            ],
            [
             0.2222222222222222,
             "#7201a8"
            ],
            [
             0.3333333333333333,
             "#9c179e"
            ],
            [
             0.4444444444444444,
             "#bd3786"
            ],
            [
             0.5555555555555556,
             "#d8576b"
            ],
            [
             0.6666666666666666,
             "#ed7953"
            ],
            [
             0.7777777777777778,
             "#fb9f3a"
            ],
            [
             0.8888888888888888,
             "#fdca26"
            ],
            [
             1,
             "#f0f921"
            ]
           ],
           "sequentialminus": [
            [
             0,
             "#0d0887"
            ],
            [
             0.1111111111111111,
             "#46039f"
            ],
            [
             0.2222222222222222,
             "#7201a8"
            ],
            [
             0.3333333333333333,
             "#9c179e"
            ],
            [
             0.4444444444444444,
             "#bd3786"
            ],
            [
             0.5555555555555556,
             "#d8576b"
            ],
            [
             0.6666666666666666,
             "#ed7953"
            ],
            [
             0.7777777777777778,
             "#fb9f3a"
            ],
            [
             0.8888888888888888,
             "#fdca26"
            ],
            [
             1,
             "#f0f921"
            ]
           ]
          },
          "colorway": [
           "#636efa",
           "#EF553B",
           "#00cc96",
           "#ab63fa",
           "#FFA15A",
           "#19d3f3",
           "#FF6692",
           "#B6E880",
           "#FF97FF",
           "#FECB52"
          ],
          "font": {
           "color": "#2a3f5f"
          },
          "geo": {
           "bgcolor": "white",
           "lakecolor": "white",
           "landcolor": "#E5ECF6",
           "showlakes": true,
           "showland": true,
           "subunitcolor": "white"
          },
          "hoverlabel": {
           "align": "left"
          },
          "hovermode": "closest",
          "mapbox": {
           "style": "light"
          },
          "paper_bgcolor": "white",
          "plot_bgcolor": "#E5ECF6",
          "polar": {
           "angularaxis": {
            "gridcolor": "white",
            "linecolor": "white",
            "ticks": ""
           },
           "bgcolor": "#E5ECF6",
           "radialaxis": {
            "gridcolor": "white",
            "linecolor": "white",
            "ticks": ""
           }
          },
          "scene": {
           "xaxis": {
            "backgroundcolor": "#E5ECF6",
            "gridcolor": "white",
            "gridwidth": 2,
            "linecolor": "white",
            "showbackground": true,
            "ticks": "",
            "zerolinecolor": "white"
           },
           "yaxis": {
            "backgroundcolor": "#E5ECF6",
            "gridcolor": "white",
            "gridwidth": 2,
            "linecolor": "white",
            "showbackground": true,
            "ticks": "",
            "zerolinecolor": "white"
           },
           "zaxis": {
            "backgroundcolor": "#E5ECF6",
            "gridcolor": "white",
            "gridwidth": 2,
            "linecolor": "white",
            "showbackground": true,
            "ticks": "",
            "zerolinecolor": "white"
           }
          },
          "shapedefaults": {
           "line": {
            "color": "#2a3f5f"
           }
          },
          "ternary": {
           "aaxis": {
            "gridcolor": "white",
            "linecolor": "white",
            "ticks": ""
           },
           "baxis": {
            "gridcolor": "white",
            "linecolor": "white",
            "ticks": ""
           },
           "bgcolor": "#E5ECF6",
           "caxis": {
            "gridcolor": "white",
            "linecolor": "white",
            "ticks": ""
           }
          },
          "title": {
           "x": 0.05
          },
          "xaxis": {
           "automargin": true,
           "gridcolor": "white",
           "linecolor": "white",
           "ticks": "",
           "title": {
            "standoff": 15
           },
           "zerolinecolor": "white",
           "zerolinewidth": 2
          },
          "yaxis": {
           "automargin": true,
           "gridcolor": "white",
           "linecolor": "white",
           "ticks": "",
           "title": {
            "standoff": 15
           },
           "zerolinecolor": "white",
           "zerolinewidth": 2
          }
         }
        },
        "xaxis": {
         "anchor": "y",
         "autorange": true,
         "domain": [
          0,
          1
         ],
         "range": [
          0,
          698
         ],
         "title": {
          "text": "Date"
         },
         "type": "category"
        },
        "yaxis": {
         "anchor": "x",
         "autorange": true,
         "domain": [
          0,
          1
         ],
         "range": [
          2600.143888888889,
          14560.266111111112
         ],
         "title": {
          "text": "Volume therms"
         },
         "type": "linear"
        }
       }
      },
      "image/png": "[encoded data removed]"
     },
     "metadata": {},
     "output_type": "display_data"
    }
   ],
   "source": [
    "fig = px.line(gas_vol,x=\"Date\", y=\"Volume therms\")\n",
    "fig.show()\n"
   ]
  },
  {
   "cell_type": "markdown",
   "id": "22fada18-a032-4ed3-ace4-24418e4ccb90",
   "metadata": {},
   "source": [
    "Then lets use the catalogue to start adding more elements:"
   ]
  },
  {
   "cell_type": "code",
   "execution_count": 65,
   "id": "09267697-4dff-4871-a4aa-28699a7d9715",
   "metadata": {},
   "outputs": [
    {
     "data": {
      "application/vnd.plotly.v1+json": {
       "config": {
        "plotlyServerURL": "https://plot.ly"
       },
       "data": [
        {
         "hovertemplate": "Date=%{x}<br>Volume therms=%{y}<extra></extra>",
         "legendgroup": "",
         "line": {
          "color": "#636efa",
          "dash": "solid"
         },
         "marker": {
          "symbol": "circle"
         },
         "mode": "lines",
         "name": "",
         "orientation": "v",
         "showlegend": false,
         "type": "scatter",
         "x": [
          "31/07/2023",
          "01/08/2023",
          "02/08/2023",
          "03/08/2023",
          "04/08/2023",
          "05/08/2023",
          "06/08/2023",
          "07/08/2023",
          "08/08/2023",
          "09/08/2023",
          "10/08/2023",
          "11/08/2023",
          "12/08/2023",
          "13/08/2023",
          "14/08/2023",
          "15/08/2023",
          "16/08/2023",
          "17/08/2023",
          "18/08/2023",
          "19/08/2023",
          "20/08/2023",
          "21/08/2023",
          "22/08/2023",
          "23/08/2023",
          "24/08/2023",
          "25/08/2023",
          "26/08/2023",
          "27/08/2023",
          "28/08/2023",
          "29/08/2023",
          "30/08/2023",
          "31/08/2023",
          "01/09/2023",
          "02/09/2023",
          "03/09/2023",
          "04/09/2023",
          "05/09/2023",
          "06/09/2023",
          "07/09/2023",
          "08/09/2023",
          "09/09/2023",
          "10/09/2023",
          "11/09/2023",
          "12/09/2023",
          "13/09/2023",
          "14/09/2023",
          "15/09/2023",
          "16/09/2023",
          "17/09/2023",
          "18/09/2023",
          "19/09/2023",
          "20/09/2023",
          "21/09/2023",
          "22/09/2023",
          "23/09/2023",
          "24/09/2023",
          "25/09/2023",
          "26/09/2023",
          "27/09/2023",
          "28/09/2023",
          "29/09/2023",
          "30/09/2023",
          "01/10/2023",
          "02/10/2023",
          "03/10/2023",
          "04/10/2023",
          "05/10/2023",
          "06/10/2023",
          "07/10/2023",
          "08/10/2023",
          "09/10/2023",
          "10/10/2023",
          "11/10/2023",
          "12/10/2023",
          "13/10/2023",
          "14/10/2023",
          "15/10/2023",
          "16/10/2023",
          "17/10/2023",
          "18/10/2023",
          "19/10/2023",
          "20/10/2023",
          "21/10/2023",
          "22/10/2023",
          "23/10/2023",
          "24/10/2023",
          "25/10/2023",
          "26/10/2023",
          "27/10/2023",
          "28/10/2023",
          "29/10/2023",
          "30/10/2023",
          "31/10/2023",
          "01/11/2023",
          "02/11/2023",
          "03/11/2023",
          "04/11/2023",
          "05/11/2023",
          "06/11/2023",
          "07/11/2023",
          "08/11/2023",
          "09/11/2023",
          "10/11/2023",
          "11/11/2023",
          "12/11/2023",
          "13/11/2023",
          "14/11/2023",
          "15/11/2023",
          "16/11/2023",
          "17/11/2023",
          "18/11/2023",
          "19/11/2023",
          "20/11/2023",
          "21/11/2023",
          "22/11/2023",
          "23/11/2023",
          "24/11/2023",
          "25/11/2023",
          "26/11/2023",
          "27/11/2023",
          "28/11/2023",
          "29/11/2023",
          "30/11/2023",
          "01/12/2023",
          "02/12/2023",
          "03/12/2023",
          "04/12/2023",
          "05/12/2023",
          "06/12/2023",
          "07/12/2023",
          "08/12/2023",
          "09/12/2023",
          "10/12/2023",
          "11/12/2023",
          "12/12/2023",
          "13/12/2023",
          "14/12/2023",
          "15/12/2023",
          "16/12/2023",
          "17/12/2023",
          "18/12/2023",
          "19/12/2023",
          "20/12/2023",
          "21/12/2023",
          "22/12/2023",
          "23/12/2023",
          "24/12/2023",
          "25/12/2023",
          "26/12/2023",
          "27/12/2023",
          "28/12/2023",
          "29/12/2023",
          "30/12/2023",
          "31/12/2023",
          "01/01/2024",
          "02/01/2024",
          "03/01/2024",
          "04/01/2024",
          "05/01/2024",
          "06/01/2024",
          "07/01/2024",
          "08/01/2024",
          "09/01/2024",
          "10/01/2024",
          "11/01/2024",
          "12/01/2024",
          "13/01/2024",
          "14/01/2024",
          "15/01/2024",
          "16/01/2024",
          "17/01/2024",
          "18/01/2024",
          "19/01/2024",
          "20/01/2024",
          "21/01/2024",
          "22/01/2024",
          "23/01/2024",
          "24/01/2024",
          "25/01/2024",
          "26/01/2024",
          "27/01/2024",
          "28/01/2024",
          "29/01/2024",
          "30/01/2024",
          "31/01/2024",
          "01/02/2024",
          "02/02/2024",
          "03/02/2024",
          "04/02/2024",
          "05/02/2024",
          "06/02/2024",
          "07/02/2024",
          "08/02/2024",
          "09/02/2024",
          "10/02/2024",
          "11/02/2024",
          "12/02/2024",
          "13/02/2024",
          "14/02/2024",
          "15/02/2024",
          "16/02/2024",
          "17/02/2024",
          "18/02/2024",
          "19/02/2024",
          "20/02/2024",
          "21/02/2024",
          "22/02/2024",
          "23/02/2024",
          "24/02/2024",
          "25/02/2024",
          "26/02/2024",
          "27/02/2024",
          "28/02/2024",
          "29/02/2024",
          "01/03/2024",
          "02/03/2024",
          "03/03/2024",
          "04/03/2024",
          "05/03/2024",
          "06/03/2024",
          "07/03/2024",
          "08/03/2024",
          "09/03/2024",
          "10/03/2024",
          "11/03/2024",
          "12/03/2024",
          "13/03/2024",
          "14/03/2024",
          "15/03/2024",
          "16/03/2024",
          "17/03/2024",
          "18/03/2024",
          "19/03/2024",
          "20/03/2024",
          "21/03/2024",
          "22/03/2024",
          "23/03/2024",
          "24/03/2024",
          "25/03/2024",
          "26/03/2024",
          "27/03/2024",
          "28/03/2024",
          "29/03/2024",
          "30/03/2024",
          "31/03/2024",
          "01/04/2024",
          "02/04/2024",
          "03/04/2024",
          "04/04/2024",
          "05/04/2024",
          "06/04/2024",
          "07/04/2024",
          "08/04/2024",
          "09/04/2024",
          "10/04/2024",
          "11/04/2024",
          "12/04/2024",
          "13/04/2024",
          "14/04/2024",
          "15/04/2024",
          "16/04/2024",
          "17/04/2024",
          "18/04/2024",
          "19/04/2024",
          "20/04/2024",
          "21/04/2024",
          "22/04/2024",
          "23/04/2024",
          "24/04/2024",
          "25/04/2024",
          "26/04/2024",
          "27/04/2024",
          "28/04/2024",
          "29/04/2024",
          "30/04/2024",
          "01/05/2024",
          "02/05/2024",
          "03/05/2024",
          "04/05/2024",
          "05/05/2024",
          "06/05/2024",
          "07/05/2024",
          "08/05/2024",
          "09/05/2024",
          "10/05/2024",
          "11/05/2024",
          "12/05/2024",
          "13/05/2024",
          "14/05/2024",
          "15/05/2024",
          "16/05/2024",
          "17/05/2024",
          "18/05/2024",
          "19/05/2024",
          "20/05/2024",
          "21/05/2024",
          "22/05/2024",
          "23/05/2024",
          "24/05/2024",
          "25/05/2024",
          "26/05/2024",
          "27/05/2024",
          "28/05/2024",
          "29/05/2024",
          "30/05/2024",
          "31/05/2024",
          "01/06/2024",
          "02/06/2024",
          "03/06/2024",
          "04/06/2024",
          "05/06/2024",
          "06/06/2024",
          "07/06/2024",
          "08/06/2024",
          "09/06/2024",
          "10/06/2024",
          "11/06/2024",
          "12/06/2024",
          "13/06/2024",
          "14/06/2024",
          "15/06/2024",
          "16/06/2024",
          "17/06/2024",
          "18/06/2024",
          "19/06/2024",
          "20/06/2024",
          "21/06/2024",
          "22/06/2024",
          "23/06/2024",
          "24/06/2024",
          "25/06/2024",
          "26/06/2024",
          "27/06/2024",
          "28/06/2024",
          "29/06/2024",
          "30/06/2024",
          "01/07/2024",
          "02/07/2024",
          "03/07/2024",
          "04/07/2024",
          "05/07/2024",
          "06/07/2024",
          "07/07/2024",
          "08/07/2024",
          "09/07/2024",
          "10/07/2024",
          "11/07/2024",
          "12/07/2024",
          "13/07/2024",
          "14/07/2024",
          "15/07/2024",
          "16/07/2024",
          "17/07/2024",
          "18/07/2024",
          "19/07/2024",
          "20/07/2024",
          "21/07/2024",
          "22/07/2024",
          "23/07/2024",
          "24/07/2024",
          "25/07/2024",
          "26/07/2024",
          "27/07/2024",
          "28/07/2024",
          "29/07/2024",
          "30/07/2024",
          "31/07/2024",
          "01/08/2024",
          "02/08/2024",
          "03/08/2024",
          "04/08/2024",
          "05/08/2024",
          "06/08/2024",
          "07/08/2024",
          "08/08/2024",
          "09/08/2024",
          "10/08/2024",
          "11/08/2024",
          "12/08/2024",
          "13/08/2024",
          "14/08/2024",
          "15/08/2024",
          "16/08/2024",
          "17/08/2024",
          "18/08/2024",
          "19/08/2024",
          "20/08/2024",
          "21/08/2024",
          "22/08/2024",
          "23/08/2024",
          "24/08/2024",
          "25/08/2024",
          "26/08/2024",
          "27/08/2024",
          "28/08/2024",
          "29/08/2024",
          "30/08/2024",
          "31/08/2024",
          "01/09/2024",
          "02/09/2024",
          "03/09/2024",
          "04/09/2024",
          "05/09/2024",
          "06/09/2024",
          "07/09/2024",
          "08/09/2024",
          "09/09/2024",
          "10/09/2024",
          "11/09/2024",
          "12/09/2024",
          "13/09/2024",
          "14/09/2024",
          "15/09/2024",
          "16/09/2024",
          "17/09/2024",
          "18/09/2024",
          "19/09/2024",
          "20/09/2024",
          "21/09/2024",
          "22/09/2024",
          "23/09/2024",
          "24/09/2024",
          "25/09/2024",
          "26/09/2024",
          "27/09/2024",
          "28/09/2024",
          "29/09/2024",
          "30/09/2024",
          "01/10/2024",
          "02/10/2024",
          "03/10/2024",
          "04/10/2024",
          "05/10/2024",
          "06/10/2024",
          "07/10/2024",
          "08/10/2024",
          "09/10/2024",
          "10/10/2024",
          "11/10/2024",
          "12/10/2024",
          "13/10/2024",
          "14/10/2024",
          "15/10/2024",
          "16/10/2024",
          "17/10/2024",
          "18/10/2024",
          "19/10/2024",
          "20/10/2024",
          "21/10/2024",
          "22/10/2024",
          "23/10/2024",
          "24/10/2024",
          "25/10/2024",
          "26/10/2024",
          "27/10/2024",
          "28/10/2024",
          "29/10/2024",
          "30/10/2024",
          "31/10/2024",
          "01/11/2024",
          "02/11/2024",
          "03/11/2024",
          "04/11/2024",
          "05/11/2024",
          "06/11/2024",
          "07/11/2024",
          "08/11/2024",
          "09/11/2024",
          "10/11/2024",
          "11/11/2024",
          "12/11/2024",
          "13/11/2024",
          "14/11/2024",
          "15/11/2024",
          "16/11/2024",
          "17/11/2024",
          "18/11/2024",
          "19/11/2024",
          "20/11/2024",
          "21/11/2024",
          "22/11/2024",
          "23/11/2024",
          "24/11/2024",
          "25/11/2024",
          "26/11/2024",
          "27/11/2024",
          "28/11/2024",
          "29/11/2024",
          "30/11/2024",
          "01/12/2024",
          "02/12/2024",
          "03/12/2024",
          "04/12/2024",
          "05/12/2024",
          "06/12/2024",
          "07/12/2024",
          "08/12/2024",
          "09/12/2024",
          "10/12/2024",
          "11/12/2024",
          "12/12/2024",
          "13/12/2024",
          "14/12/2024",
          "15/12/2024",
          "16/12/2024",
          "17/12/2024",
          "18/12/2024",
          "19/12/2024",
          "20/12/2024",
          "21/12/2024",
          "22/12/2024",
          "23/12/2024",
          "24/12/2024",
          "25/12/2024",
          "26/12/2024",
          "27/12/2024",
          "28/12/2024",
          "29/12/2024",
          "30/12/2024",
          "31/12/2024",
          "01/01/2025",
          "02/01/2025",
          "03/01/2025",
          "04/01/2025",
          "05/01/2025",
          "06/01/2025",
          "07/01/2025",
          "08/01/2025",
          "09/01/2025",
          "10/01/2025",
          "11/01/2025",
          "12/01/2025",
          "13/01/2025",
          "14/01/2025",
          "15/01/2025",
          "16/01/2025",
          "17/01/2025",
          "18/01/2025",
          "19/01/2025",
          "20/01/2025",
          "21/01/2025",
          "22/01/2025",
          "23/01/2025",
          "24/01/2025",
          "25/01/2025",
          "26/01/2025",
          "27/01/2025",
          "28/01/2025",
          "29/01/2025",
          "30/01/2025",
          "31/01/2025",
          "01/02/2025",
          "02/02/2025",
          "03/02/2025",
          "04/02/2025",
          "05/02/2025",
          "06/02/2025",
          "07/02/2025",
          "08/02/2025",
          "09/02/2025",
          "10/02/2025",
          "11/02/2025",
          "12/02/2025",
          "13/02/2025",
          "14/02/2025",
          "15/02/2025",
          "16/02/2025",
          "17/02/2025",
          "18/02/2025",
          "19/02/2025",
          "20/02/2025",
          "21/02/2025",
          "22/02/2025",
          "23/02/2025",
          "24/02/2025",
          "25/02/2025",
          "26/02/2025",
          "27/02/2025",
          "28/02/2025",
          "01/03/2025",
          "02/03/2025",
          "03/03/2025",
          "04/03/2025",
          "05/03/2025",
          "06/03/2025",
          "07/03/2025",
          "08/03/2025",
          "09/03/2025",
          "10/03/2025",
          "11/03/2025",
          "12/03/2025",
          "13/03/2025",
          "14/03/2025",
          "15/03/2025",
          "16/03/2025",
          "17/03/2025",
          "18/03/2025",
          "19/03/2025",
          "20/03/2025",
          "21/03/2025",
          "22/03/2025",
          "23/03/2025",
          "24/03/2025",
          "25/03/2025",
          "26/03/2025",
          "27/03/2025",
          "28/03/2025",
          "29/03/2025",
          "30/03/2025",
          "31/03/2025",
          "01/04/2025",
          "02/04/2025",
          "03/04/2025",
          "04/04/2025",
          "05/04/2025",
          "06/04/2025",
          "07/04/2025",
          "08/04/2025",
          "09/04/2025",
          "10/04/2025",
          "11/04/2025",
          "12/04/2025",
          "13/04/2025",
          "14/04/2025",
          "15/04/2025",
          "16/04/2025",
          "17/04/2025",
          "18/04/2025",
          "19/04/2025",
          "20/04/2025",
          "21/04/2025",
          "22/04/2025",
          "23/04/2025",
          "24/04/2025",
          "25/04/2025",
          "26/04/2025",
          "27/04/2025",
          "28/04/2025",
          "29/04/2025",
          "30/04/2025",
          "01/05/2025",
          "02/05/2025",
          "03/05/2025",
          "04/05/2025",
          "05/05/2025",
          "06/05/2025",
          "07/05/2025",
          "08/05/2025",
          "09/05/2025",
          "10/05/2025",
          "11/05/2025",
          "12/05/2025",
          "13/05/2025",
          "14/05/2025",
          "15/05/2025",
          "16/05/2025",
          "17/05/2025",
          "18/05/2025",
          "19/05/2025",
          "20/05/2025",
          "21/05/2025",
          "22/05/2025",
          "23/05/2025",
          "24/05/2025",
          "25/05/2025",
          "26/05/2025",
          "27/05/2025",
          "28/05/2025",
          "29/05/2025",
          "30/05/2025",
          "31/05/2025",
          "01/06/2025",
          "02/06/2025",
          "03/06/2025",
          "04/06/2025",
          "05/06/2025",
          "06/06/2025",
          "07/06/2025",
          "08/06/2025",
          "09/06/2025",
          "10/06/2025",
          "11/06/2025",
          "12/06/2025",
          "13/06/2025",
          "14/06/2025",
          "15/06/2025",
          "16/06/2025",
          "17/06/2025",
          "18/06/2025",
          "19/06/2025",
          "20/06/2025",
          "21/06/2025",
          "22/06/2025",
          "23/06/2025",
          "24/06/2025",
          "25/06/2025",
          "26/06/2025",
          "27/06/2025",
          "28/06/2025"
         ],
         "xaxis": "x",
         "y": {
          "_inputArray": {
           "0": 4111.17,
           "1": 3987.09,
           "10": 4406.22,
           "100": 9436.35,
           "101": 9707.53,
           "102": 9387.41,
           "103": 7749.92,
           "104": 7974.04,
           "105": 9233.27,
           "106": 9166.2,
           "107": 9397.47,
           "108": 10040.99,
           "109": 9352.21,
           "11": 4095.12,
           "110": 6932.73,
           "111": 6824.5,
           "112": 8984.88,
           "113": 9483.75,
           "114": 9530.33,
           "115": 9160.43,
           "116": 9632.3,
           "117": 8560.25,
           "118": 8864.68,
           "119": 11300.6,
           "12": 3257.58,
           "120": 11295.26,
           "121": 11977.14,
           "122": 12760.23,
           "123": 12309.73,
           "124": 10448.29,
           "125": 9882.55,
           "126": 12085.97,
           "127": 11775.79,
           "128": 12184.36,
           "129": 11851.53,
           "13": 3372.31,
           "130": 10062.87,
           "131": 7934.03,
           "132": 7879.6,
           "133": 9914.3,
           "134": 10026.73,
           "135": 10873.46,
           "136": 10813.37,
           "137": 9910.51,
           "138": 7579.29,
           "139": 7543.05,
           "14": 4507.52,
           "140": 9348,
           "141": 10031.18,
           "142": 10053.45,
           "143": 9703.61,
           "144": 9137.61,
           "145": 6168.35,
           "146": 5827.49,
           "147": 6068.05,
           "148": 6655.78,
           "149": 7457.7,
           "15": 4461.02,
           "150": 7200.76,
           "151": 7516.21,
           "152": 6818.85,
           "153": 7090.7,
           "154": 6885.91,
           "155": 9999.56,
           "156": 9986.66,
           "157": 10503.77,
           "158": 10092.83,
           "159": 8478.79,
           "16": 4430.74,
           "160": 9194.56,
           "161": 12700.81,
           "162": 12831.72,
           "163": 12447.26,
           "164": 12058.9,
           "165": 11240.45,
           "166": 9029.14,
           "167": 9362.72,
           "168": 12857.03,
           "169": 12947.39,
           "17": 4424.52,
           "170": 13398.02,
           "171": 13661.84,
           "172": 12527.08,
           "173": 9689.41,
           "174": 8412.23,
           "175": 10638.43,
           "176": 10199.81,
           "177": 9874.55,
           "178": 9601.58,
           "179": 9617.94,
           "18": 4120.55,
           "180": 8107.88,
           "181": 7926.22,
           "182": 9798.71,
           "183": 10380.3,
           "184": 10526.56,
           "185": 11057.53,
           "186": 9624.91,
           "187": 7436.1,
           "188": 7465.93,
           "189": 9759.05,
           "19": 3248.44,
           "190": 9801.14,
           "191": 10847.84,
           "192": 11745.16,
           "193": 10047.66,
           "194": 7869.9,
           "195": 8312.08,
           "196": 11043.69,
           "197": 10709.49,
           "198": 9644.62,
           "199": 8884.74,
           "2": 4037.33,
           "20": 3350.7,
           "200": 8594.57,
           "201": 6917.4,
           "202": 6895,
           "203": 9394.35,
           "204": 9591.02,
           "205": 9830.42,
           "206": 10730.44,
           "207": 10329.34,
           "208": 8532.62,
           "209": 9152.8,
           "21": 4416.63,
           "210": 11537.5,
           "211": 11328.43,
           "212": 10674.32,
           "213": 10569.59,
           "214": 10589.59,
           "215": 8672.66,
           "216": 8650.57,
           "217": 11185.19,
           "218": 10507.52,
           "219": 10648.05,
           "22": 4414.92,
           "220": 10866.31,
           "221": 10181.23,
           "222": 7800.4,
           "223": 7986.17,
           "224": 10285.28,
           "225": 9542.13,
           "226": 9035.51,
           "227": 8661.06,
           "228": 8224.74,
           "229": 6901.61,
           "23": 4420.92,
           "230": 6603.17,
           "231": 8484.18,
           "232": 8281.2,
           "233": 8257.75,
           "234": 8509.26,
           "235": 8567.51,
           "236": 7533.86,
           "237": 7303.81,
           "238": 9629.81,
           "239": 9292.75,
           "24": 4481.87,
           "240": 9513.49,
           "241": 9583.45,
           "242": 7858.79,
           "243": 6634.17,
           "244": 6830.59,
           "245": 7406.61,
           "246": 8222.66,
           "247": 8196.17,
           "248": 7887.73,
           "249": 7248.92,
           "25": 4289.65,
           "250": 5224.84,
           "251": 5608.07,
           "252": 7387.45,
           "253": 8570.62,
           "254": 8338.1,
           "255": 7110.12,
           "256": 6343.34,
           "257": 5292.34,
           "258": 5886.47,
           "259": 8688.33,
           "26": 3434.05,
           "260": 8465.12,
           "261": 8833.68,
           "262": 8744.34,
           "263": 7848.47,
           "264": 6403.88,
           "265": 6579.17,
           "266": 8816.77,
           "267": 8730.7,
           "268": 8823.8,
           "269": 9037.06,
           "27": 3493.52,
           "270": 8317.25,
           "271": 6825.47,
           "272": 6845.36,
           "273": 8023.89,
           "274": 7035.1,
           "275": 6581.77,
           "276": 6660.64,
           "277": 6672,
           "278": 5277.42,
           "279": 5041.94,
           "28": 3509.19,
           "280": 4980.12,
           "281": 6096.96,
           "282": 5882.79,
           "283": 5668.3,
           "284": 5115.46,
           "285": 4077.22,
           "286": 4072.07,
           "287": 5614.76,
           "288": 5779.76,
           "289": 5751.28,
           "29": 4787.16,
           "290": 5906.59,
           "291": 5296.27,
           "292": 4251.7,
           "293": 4278.74,
           "294": 5765.81,
           "295": 5920.59,
           "296": 6182.63,
           "297": 6419.84,
           "298": 5838.63,
           "299": 4466.81,
           "3": 3997.92,
           "30": 4811.85,
           "300": 4464.9,
           "301": 4487.91,
           "302": 5502.34,
           "303": 5403.44,
           "304": 5461.12,
           "305": 5545.29,
           "306": 4427.25,
           "307": 3922.16,
           "308": 5170.49,
           "309": 5322.29,
           "31": 4864.37,
           "310": 5560.82,
           "311": 5497.1,
           "312": 5036.48,
           "313": 4074.84,
           "314": 4241.67,
           "315": 5748.42,
           "316": 5802.09,
           "317": 5722.68,
           "318": 5835.14,
           "319": 5067.97,
           "32": 4291.96,
           "320": 4182.25,
           "321": 4064.75,
           "322": 5180.81,
           "323": 5185.14,
           "324": 5103.55,
           "325": 4955.13,
           "326": 4556.07,
           "327": 3654.25,
           "328": 3631.39,
           "329": 4736.95,
           "33": 3289.11,
           "330": 4722.45,
           "331": 4715.69,
           "332": 4747.08,
           "333": 4555.88,
           "334": 3650.79,
           "335": 3884.34,
           "336": 5125.84,
           "337": 5137.91,
           "338": 5175.11,
           "339": 5151.88,
           "34": 3315.53,
           "340": 4726.44,
           "341": 3905.3,
           "342": 3971.18,
           "343": 5109.11,
           "344": 5021.01,
           "345": 4964.91,
           "346": 5008.11,
           "347": 4717.19,
           "348": 3790.74,
           "349": 3809.25,
           "35": 4350.17,
           "350": 4946.67,
           "351": 4938.39,
           "352": 4765.18,
           "353": 4692.02,
           "354": 4138.73,
           "355": 3246.46,
           "356": 3257.19,
           "357": 4159.28,
           "358": 4155.45,
           "359": 4179.51,
           "36": 4351.13,
           "360": 4197.8,
           "361": 4197.66,
           "362": 3322.56,
           "363": 3253.25,
           "364": 4141.87,
           "365": 4144.12,
           "366": 4144.39,
           "367": 4175.08,
           "368": 4177.44,
           "369": 3281.86,
           "37": 4346.26,
           "370": 3310.94,
           "371": 4735.18,
           "372": 4735.42,
           "373": 4796.92,
           "374": 4791.84,
           "375": 4400.03,
           "376": 3522.04,
           "377": 3578.48,
           "378": 4715.37,
           "379": 4726.56,
           "38": 4344.36,
           "380": 4743.35,
           "381": 4802.68,
           "382": 4483.73,
           "383": 3636.25,
           "384": 3692.69,
           "385": 4940.16,
           "386": 4889.36,
           "387": 4963.33,
           "388": 4928.33,
           "389": 4544.21,
           "39": 4025.27,
           "390": 3677.52,
           "391": 3715.17,
           "392": 3636.18,
           "393": 4832.28,
           "394": 4773.87,
           "395": 4864.53,
           "396": 4544.3,
           "397": 3687.77,
           "398": 3668.35,
           "399": 4804.26,
           "4": 4059.61,
           "40": 3198.15,
           "400": 4875.93,
           "401": 5054.6,
           "402": 5108.41,
           "403": 4559.34,
           "404": 3660.84,
           "405": 3761.39,
           "406": 5169.06,
           "407": 5363.99,
           "408": 5851.42,
           "409": 6196.1,
           "41": 3298.76,
           "410": 5716.75,
           "411": 4194.54,
           "412": 4189.79,
           "413": 5317.93,
           "414": 5262.9,
           "415": 5142.26,
           "416": 5072.69,
           "417": 4730.44,
           "418": 3743.54,
           "419": 3971.74,
           "42": 4349.32,
           "420": 5395.4,
           "421": 5564.78,
           "422": 5836.64,
           "423": 5955.54,
           "424": 6088.96,
           "425": 5004.02,
           "426": 5288.14,
           "427": 7328.9,
           "428": 7460.48,
           "429": 7179.07,
           "43": 4489.81,
           "430": 7353.24,
           "431": 6904.84,
           "432": 5464.53,
           "433": 5625.57,
           "434": 6655.98,
           "435": 6768.89,
           "436": 7084.74,
           "437": 8111.13,
           "438": 7929.33,
           "439": 6564.38,
           "44": 4606.02,
           "440": 6976.08,
           "441": 8766.11,
           "442": 7945.03,
           "443": 6921.48,
           "444": 6719.16,
           "445": 6664,
           "446": 5338.68,
           "447": 5574.22,
           "448": 7483.04,
           "449": 7541.76,
           "45": 4616.22,
           "450": 7637.7,
           "451": 7469.4,
           "452": 6890.65,
           "453": 5872.94,
           "454": 6288.54,
           "455": 7619.47,
           "456": 7526.36,
           "457": 7818.59,
           "458": 8087.27,
           "459": 7527.88,
           "46": 4232.03,
           "460": 6070.96,
           "461": 6523.25,
           "462": 8616.4,
           "463": 8728.27,
           "464": 8633.6,
           "465": 8910.2,
           "466": 8695.47,
           "467": 7402.62,
           "468": 7190.85,
           "469": 9458.9,
           "47": 3403.74,
           "470": 9713.61,
           "471": 9578.52,
           "472": 9500.91,
           "473": 9155.23,
           "474": 7514.58,
           "475": 7896.21,
           "476": 10879,
           "477": 12115.18,
           "478": 12600.83,
           "479": 13181.63,
           "48": 3491.18,
           "480": 11800.47,
           "481": 8492.25,
           "482": 7386.47,
           "483": 9809.02,
           "484": 10354.76,
           "485": 11399.23,
           "486": 11875.61,
           "487": 10309.06,
           "488": 7249.64,
           "489": 7073.33,
           "49": 4744.63,
           "490": 10103.42,
           "491": 10935.15,
           "492": 11001.39,
           "493": 10116.44,
           "494": 9744.3,
           "495": 8798.46,
           "496": 8818.39,
           "497": 11183.36,
           "498": 11466.16,
           "499": 11547.71,
           "5": 3354.2,
           "50": 4774.5,
           "500": 11336.63,
           "501": 10789.76,
           "502": 8640.38,
           "503": 8037.15,
           "504": 10037.86,
           "505": 10269.2,
           "506": 9599.99,
           "507": 10930.57,
           "508": 10377.59,
           "509": 8353.86,
           "51": 4813.48,
           "510": 9202.07,
           "511": 9633.64,
           "512": 7696.83,
           "513": 6947.96,
           "514": 7383.3,
           "515": 8620.99,
           "516": 8065.2,
           "517": 7861.89,
           "518": 8238.93,
           "519": 7864.76,
           "52": 4964.53,
           "520": 7644.74,
           "521": 10436.89,
           "522": 10992.24,
           "523": 10217.37,
           "524": 9621.55,
           "525": 12848.01,
           "526": 13090.47,
           "527": 13681.31,
           "528": 13962.26,
           "529": 13214.93,
           "53": 4886.78,
           "530": 10625.37,
           "531": 10643.71,
           "532": 12821.12,
           "533": 11340.22,
           "534": 10927.26,
           "535": 11333.87,
           "536": 10699.43,
           "537": 9421.98,
           "538": 10068.14,
           "539": 12376.57,
           "54": 3903.1,
           "540": 12275.36,
           "541": 12334.24,
           "542": 12404.99,
           "543": 10652.22,
           "544": 8918.88,
           "545": 9545.33,
           "546": 11688.57,
           "547": 11209.78,
           "548": 11361.86,
           "549": 11760.74,
           "55": 3723.84,
           "550": 10707.56,
           "551": 8907.35,
           "552": 8971.37,
           "553": 11225.5,
           "554": 10981.71,
           "555": 11143.45,
           "556": 11688.46,
           "557": 11804.79,
           "558": 9383.95,
           "559": 9512.16,
           "56": 5154.9,
           "560": 12639.06,
           "561": 12310.3,
           "562": 12107.87,
           "563": 12441.23,
           "564": 11666.45,
           "565": 9393.17,
           "566": 9843.03,
           "567": 12777.31,
           "568": 12615.59,
           "569": 12000.02,
           "57": 5178.56,
           "570": 10145.28,
           "571": 8546.76,
           "572": 6986.44,
           "573": 7494.12,
           "574": 9352.41,
           "575": 9978.21,
           "576": 10685.87,
           "577": 10640.17,
           "578": 10009.37,
           "579": 8312.22,
           "58": 5232.1,
           "580": 8520.66,
           "581": 10766.03,
           "582": 10616.79,
           "583": 10270.55,
           "584": 9385.23,
           "585": 8172.46,
           "586": 6269.34,
           "587": 6386.76,
           "588": 9236.27,
           "589": 10093.67,
           "59": 5256.31,
           "590": 10763.74,
           "591": 11123.78,
           "592": 10231.98,
           "593": 8352.8,
           "594": 8417.43,
           "595": 11034.99,
           "596": 10639.52,
           "597": 9697.87,
           "598": 8525.29,
           "599": 7565.17,
           "6": 3306.1,
           "60": 4908.57,
           "600": 5907.06,
           "601": 6612.74,
           "602": 8761.47,
           "603": 8677.97,
           "604": 8343.36,
           "605": 8376.83,
           "606": 8179.33,
           "607": 6637.5,
           "608": 6354.15,
           "609": 7989.89,
           "61": 4059.97,
           "610": 7983.53,
           "611": 7773.83,
           "612": 7264.25,
           "613": 6350.69,
           "614": 5457.2,
           "615": 5786.26,
           "616": 7744.28,
           "617": 7754.2,
           "618": 8015.43,
           "619": 7585.88,
           "62": 4242.81,
           "620": 6248.74,
           "621": 4732.19,
           "622": 5399.97,
           "623": 7236.67,
           "624": 7287.43,
           "625": 7427.46,
           "626": 6942.17,
           "627": 6059.55,
           "628": 5163.7,
           "629": 5231.58,
           "63": 5681.36,
           "630": 6079.34,
           "631": 6703.38,
           "632": 6928.67,
           "633": 6762.55,
           "634": 6743.35,
           "635": 4968.14,
           "636": 4601.71,
           "637": 5626.89,
           "638": 5396.47,
           "639": 5205.96,
           "64": 5950.99,
           "640": 5099.22,
           "641": 4871.45,
           "642": 4541.86,
           "643": 5292.81,
           "644": 5789.63,
           "645": 7032.15,
           "646": 6817.97,
           "647": 6819.44,
           "648": 5766.68,
           "649": 4195.12,
           "65": 5969.81,
           "650": 4063.19,
           "651": 5182.48,
           "652": 5166.34,
           "653": 5374.59,
           "654": 5822.15,
           "655": 5193.16,
           "656": 4156.78,
           "657": 4379.29,
           "658": 5706.67,
           "659": 5462.05,
           "66": 5887.98,
           "660": 5544.23,
           "661": 5880.95,
           "662": 5214.73,
           "663": 4057.14,
           "664": 4080.44,
           "665": 4199.96,
           "666": 5188.33,
           "667": 4953.93,
           "668": 4742.93,
           "669": 4624.57,
           "67": 5260.03,
           "670": 3704.45,
           "671": 3554.99,
           "672": 4787.33,
           "673": 4969.22,
           "674": 5008.79,
           "675": 5113.61,
           "676": 4615.96,
           "677": 3869.36,
           "678": 3906.22,
           "679": 4995.98,
           "68": 4161.3,
           "680": 4813.06,
           "681": 4632.21,
           "682": 4507.09,
           "683": 4051.02,
           "684": 3274.25,
           "685": 3393.09,
           "686": 4450.52,
           "687": 4448.35,
           "688": 4436.62,
           "689": 4412.8,
           "69": 4206.37,
           "690": 4028.4,
           "691": 3239.83,
           "692": 3334.48,
           "693": 4511.69,
           "694": 4483.33,
           "695": 4457.98,
           "696": 4473.83,
           "697": 4070.47,
           "698": 3254.41,
           "7": 4716.04,
           "70": 5463.68,
           "71": 5494.65,
           "72": 5853.57,
           "73": 6296.92,
           "74": 6111.37,
           "75": 5659.85,
           "76": 6351.65,
           "77": 8489.57,
           "78": 8023.19,
           "79": 7525.36,
           "8": 4742.15,
           "80": 6573.86,
           "81": 6627.57,
           "82": 5580.36,
           "83": 5855.14,
           "84": 7681.1,
           "85": 7746.84,
           "86": 8006.73,
           "87": 7871.1,
           "88": 7503.25,
           "89": 5966.51,
           "9": 4520.77,
           "90": 6144.61,
           "91": 8013.96,
           "92": 8058.41,
           "93": 8474.55,
           "94": 9026.21,
           "95": 8372.53,
           "96": 7042.62,
           "97": 7088.69,
           "98": 9194.33,
           "99": 9334.59,
           "bdata": "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",
           "dtype": "f8",
           "shape": "699"
          },
          "bdata": "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",
          "dtype": "f8"
         },
         "yaxis": "y"
        }
       ],
       "layout": {
        "autosize": true,
        "legend": {
         "tracegroupgap": 0
        },
        "template": {
         "data": {
          "bar": [
           {
            "error_x": {
             "color": "#2a3f5f"
            },
            "error_y": {
             "color": "#2a3f5f"
            },
            "marker": {
             "line": {
              "color": "#E5ECF6",
              "width": 0.5
             },
             "pattern": {
              "fillmode": "overlay",
              "size": 10,
              "solidity": 0.2
             }
            },
            "type": "bar"
           }
          ],
          "barpolar": [
           {
            "marker": {
             "line": {
              "color": "#E5ECF6",
              "width": 0.5
             },
             "pattern": {
              "fillmode": "overlay",
              "size": 10,
              "solidity": 0.2
             }
            },
            "type": "barpolar"
           }
          ],
          "carpet": [
           {
            "aaxis": {
             "endlinecolor": "#2a3f5f",
             "gridcolor": "white",
             "linecolor": "white",
             "minorgridcolor": "white",
             "startlinecolor": "#2a3f5f"
            },
            "baxis": {
             "endlinecolor": "#2a3f5f",
             "gridcolor": "white",
             "linecolor": "white",
             "minorgridcolor": "white",
             "startlinecolor": "#2a3f5f"
            },
            "type": "carpet"
           }
          ],
          "choropleth": [
           {
            "colorbar": {
             "outlinewidth": 0,
             "ticks": ""
            },
            "type": "choropleth"
           }
          ],
          "contour": [
           {
            "colorbar": {
             "outlinewidth": 0,
             "ticks": ""
            },
            "colorscale": [
             [
              0,
              "#0d0887"
             ],
             [
              0.1111111111111111,
              "#46039f"
             ],
             [
              0.2222222222222222,
              "#7201a8"
             ],
             [
              0.3333333333333333,
              "#9c179e"
             ],
             [
              0.4444444444444444,
              "#bd3786"
             ],
             [
              0.5555555555555556,
              "#d8576b"
             ],
             [
              0.6666666666666666,
              "#ed7953"
             ],
             [
              0.7777777777777778,
              "#fb9f3a"
             ],
             [
              0.8888888888888888,
              "#fdca26"
             ],
             [
              1,
              "#f0f921"
             ]
            ],
            "type": "contour"
           }
          ],
          "contourcarpet": [
           {
            "colorbar": {
             "outlinewidth": 0,
             "ticks": ""
            },
            "type": "contourcarpet"
           }
          ],
          "heatmap": [
           {
            "colorbar": {
             "outlinewidth": 0,
             "ticks": ""
            },
            "colorscale": [
             [
              0,
              "#0d0887"
             ],
             [
              0.1111111111111111,
              "#46039f"
             ],
             [
              0.2222222222222222,
              "#7201a8"
             ],
             [
              0.3333333333333333,
              "#9c179e"
             ],
             [
              0.4444444444444444,
              "#bd3786"
             ],
             [
              0.5555555555555556,
              "#d8576b"
             ],
             [
              0.6666666666666666,
              "#ed7953"
             ],
             [
              0.7777777777777778,
              "#fb9f3a"
             ],
             [
              0.8888888888888888,
              "#fdca26"
             ],
             [
              1,
              "#f0f921"
             ]
            ],
            "type": "heatmap"
           }
          ],
          "histogram": [
           {
            "marker": {
             "pattern": {
              "fillmode": "overlay",
              "size": 10,
              "solidity": 0.2
             }
            },
            "type": "histogram"
           }
          ],
          "histogram2d": [
           {
            "colorbar": {
             "outlinewidth": 0,
             "ticks": ""
            },
            "colorscale": [
             [
              0,
              "#0d0887"
             ],
             [
              0.1111111111111111,
              "#46039f"
             ],
             [
              0.2222222222222222,
              "#7201a8"
             ],
             [
              0.3333333333333333,
              "#9c179e"
             ],
             [
              0.4444444444444444,
              "#bd3786"
             ],
             [
              0.5555555555555556,
              "#d8576b"
             ],
             [
              0.6666666666666666,
              "#ed7953"
             ],
             [
              0.7777777777777778,
              "#fb9f3a"
             ],
             [
              0.8888888888888888,
              "#fdca26"
             ],
             [
              1,
              "#f0f921"
             ]
            ],
            "type": "histogram2d"
           }
          ],
          "histogram2dcontour": [
           {
            "colorbar": {
             "outlinewidth": 0,
             "ticks": ""
            },
            "colorscale": [
             [
              0,
              "#0d0887"
             ],
             [
              0.1111111111111111,
              "#46039f"
             ],
             [
              0.2222222222222222,
              "#7201a8"
             ],
             [
              0.3333333333333333,
              "#9c179e"
             ],
             [
              0.4444444444444444,
              "#bd3786"
             ],
             [
              0.5555555555555556,
              "#d8576b"
             ],
             [
              0.6666666666666666,
              "#ed7953"
             ],
             [
              0.7777777777777778,
              "#fb9f3a"
             ],
             [
              0.8888888888888888,
              "#fdca26"
             ],
             [
              1,
              "#f0f921"
             ]
            ],
            "type": "histogram2dcontour"
           }
          ],
          "mesh3d": [
           {
            "colorbar": {
             "outlinewidth": 0,
             "ticks": ""
            },
            "type": "mesh3d"
           }
          ],
          "parcoords": [
           {
            "line": {
             "colorbar": {
              "outlinewidth": 0,
              "ticks": ""
             }
            },
            "type": "parcoords"
           }
          ],
          "pie": [
           {
            "automargin": true,
            "type": "pie"
           }
          ],
          "scatter": [
           {
            "fillpattern": {
             "fillmode": "overlay",
             "size": 10,
             "solidity": 0.2
            },
            "type": "scatter"
           }
          ],
          "scatter3d": [
           {
            "line": {
             "colorbar": {
              "outlinewidth": 0,
              "ticks": ""
             }
            },
            "marker": {
             "colorbar": {
              "outlinewidth": 0,
              "ticks": ""
             }
            },
            "type": "scatter3d"
           }
          ],
          "scattercarpet": [
           {
            "marker": {
             "colorbar": {
              "outlinewidth": 0,
              "ticks": ""
             }
            },
            "type": "scattercarpet"
           }
          ],
          "scattergeo": [
           {
            "marker": {
             "colorbar": {
              "outlinewidth": 0,
              "ticks": ""
             }
            },
            "type": "scattergeo"
           }
          ],
          "scattergl": [
           {
            "marker": {
             "colorbar": {
              "outlinewidth": 0,
              "ticks": ""
             }
            },
            "type": "scattergl"
           }
          ],
          "scattermap": [
           {
            "marker": {
             "colorbar": {
              "outlinewidth": 0,
              "ticks": ""
             }
            },
            "type": "scattermap"
           }
          ],
          "scattermapbox": [
           {
            "marker": {
             "colorbar": {
              "outlinewidth": 0,
              "ticks": ""
             }
            },
            "type": "scattermapbox"
           }
          ],
          "scatterpolar": [
           {
            "marker": {
             "colorbar": {
              "outlinewidth": 0,
              "ticks": ""
             }
            },
            "type": "scatterpolar"
           }
          ],
          "scatterpolargl": [
           {
            "marker": {
             "colorbar": {
              "outlinewidth": 0,
              "ticks": ""
             }
            },
            "type": "scatterpolargl"
           }
          ],
          "scatterternary": [
           {
            "marker": {
             "colorbar": {
              "outlinewidth": 0,
              "ticks": ""
             }
            },
            "type": "scatterternary"
           }
          ],
          "surface": [
           {
            "colorbar": {
             "outlinewidth": 0,
             "ticks": ""
            },
            "colorscale": [
             [
              0,
              "#0d0887"
             ],
             [
              0.1111111111111111,
              "#46039f"
             ],
             [
              0.2222222222222222,
              "#7201a8"
             ],
             [
              0.3333333333333333,
              "#9c179e"
             ],
             [
              0.4444444444444444,
              "#bd3786"
             ],
             [
              0.5555555555555556,
              "#d8576b"
             ],
             [
              0.6666666666666666,
              "#ed7953"
             ],
             [
              0.7777777777777778,
              "#fb9f3a"
             ],
             [
              0.8888888888888888,
              "#fdca26"
             ],
             [
              1,
              "#f0f921"
             ]
            ],
            "type": "surface"
           }
          ],
          "table": [
           {
            "cells": {
             "fill": {
              "color": "#EBF0F8"
             },
             "line": {
              "color": "white"
             }
            },
            "header": {
             "fill": {
              "color": "#C8D4E3"
             },
             "line": {
              "color": "white"
             }
            },
            "type": "table"
           }
          ]
         },
         "layout": {
          "annotationdefaults": {
           "arrowcolor": "#2a3f5f",
           "arrowhead": 0,
           "arrowwidth": 1
          },
          "autotypenumbers": "strict",
          "coloraxis": {
           "colorbar": {
            "outlinewidth": 0,
            "ticks": ""
           }
          },
          "colorscale": {
           "diverging": [
            [
             0,
             "#8e0152"
            ],
            [
             0.1,
             "#c51b7d"
            ],
            [
             0.2,
             "#de77ae"
            ],
            [
             0.3,
             "#f1b6da"
            ],
            [
             0.4,
             "#fde0ef"
            ],
            [
             0.5,
             "#f7f7f7"
            ],
            [
             0.6,
             "#e6f5d0"
            ],
            [
             0.7,
             "#b8e186"
            ],
            [
             0.8,
             "#7fbc41"
            ],
            [
             0.9,
             "#4d9221"
            ],
            [
             1,
             "#276419"
            ]
           ],
           "sequential": [
            [
             0,
             "#0d0887"
            ],
            [
             0.1111111111111111,
             "#46039f"
            ],
            [
             0.2222222222222222,
             "#7201a8"
            ],
            [
             0.3333333333333333,
             "#9c179e"
            ],
            [
             0.4444444444444444,
             "#bd3786"
            ],
            [
             0.5555555555555556,
             "#d8576b"
            ],
            [
             0.6666666666666666,
             "#ed7953"
            ],
            [
             0.7777777777777778,
             "#fb9f3a"
            ],
            [
             0.8888888888888888,
             "#fdca26"
            ],
            [
             1,
             "#f0f921"
            ]
           ],
           "sequentialminus": [
            [
             0,
             "#0d0887"
            ],
            [
             0.1111111111111111,
             "#46039f"
            ],
            [
             0.2222222222222222,
             "#7201a8"
            ],
            [
             0.3333333333333333,
             "#9c179e"
            ],
            [
             0.4444444444444444,
             "#bd3786"
            ],
            [
             0.5555555555555556,
             "#d8576b"
            ],
            [
             0.6666666666666666,
             "#ed7953"
            ],
            [
             0.7777777777777778,
             "#fb9f3a"
            ],
            [
             0.8888888888888888,
             "#fdca26"
            ],
            [
             1,
             "#f0f921"
            ]
           ]
          },
          "colorway": [
           "#636efa",
           "#EF553B",
           "#00cc96",
           "#ab63fa",
           "#FFA15A",
           "#19d3f3",
           "#FF6692",
           "#B6E880",
           "#FF97FF",
           "#FECB52"
          ],
          "font": {
           "color": "#2a3f5f"
          },
          "geo": {
           "bgcolor": "white",
           "lakecolor": "white",
           "landcolor": "#E5ECF6",
           "showlakes": true,
           "showland": true,
           "subunitcolor": "white"
          },
          "hoverlabel": {
           "align": "left"
          },
          "hovermode": "closest",
          "mapbox": {
           "style": "light"
          },
          "paper_bgcolor": "white",
          "plot_bgcolor": "#E5ECF6",
          "polar": {
           "angularaxis": {
            "gridcolor": "white",
            "linecolor": "white",
            "ticks": ""
           },
           "bgcolor": "#E5ECF6",
           "radialaxis": {
            "gridcolor": "white",
            "linecolor": "white",
            "ticks": ""
           }
          },
          "scene": {
           "xaxis": {
            "backgroundcolor": "#E5ECF6",
            "gridcolor": "white",
            "gridwidth": 2,
            "linecolor": "white",
            "showbackground": true,
            "ticks": "",
            "zerolinecolor": "white"
           },
           "yaxis": {
            "backgroundcolor": "#E5ECF6",
            "gridcolor": "white",
            "gridwidth": 2,
            "linecolor": "white",
            "showbackground": true,
            "ticks": "",
            "zerolinecolor": "white"
           },
           "zaxis": {
            "backgroundcolor": "#E5ECF6",
            "gridcolor": "white",
            "gridwidth": 2,
            "linecolor": "white",
            "showbackground": true,
            "ticks": "",
            "zerolinecolor": "white"
           }
          },
          "shapedefaults": {
           "line": {
            "color": "#2a3f5f"
           }
          },
          "ternary": {
           "aaxis": {
            "gridcolor": "white",
            "linecolor": "white",
            "ticks": ""
           },
           "baxis": {
            "gridcolor": "white",
            "linecolor": "white",
            "ticks": ""
           },
           "bgcolor": "#E5ECF6",
           "caxis": {
            "gridcolor": "white",
            "linecolor": "white",
            "ticks": ""
           }
          },
          "title": {
           "x": 0.05
          },
          "xaxis": {
           "automargin": true,
           "gridcolor": "white",
           "linecolor": "white",
           "ticks": "",
           "title": {
            "standoff": 15
           },
           "zerolinecolor": "white",
           "zerolinewidth": 2
          },
          "yaxis": {
           "automargin": true,
           "gridcolor": "white",
           "linecolor": "white",
           "ticks": "",
           "title": {
            "standoff": 15
           },
           "zerolinecolor": "white",
           "zerolinewidth": 2
          }
         }
        },
        "title": {
         "text": "Gas Volume"
        },
        "xaxis": {
         "anchor": "y",
         "autorange": true,
         "domain": [
          0,
          1
         ],
         "range": [
          0,
          698
         ],
         "title": {
          "text": "Date"
         },
         "type": "category"
        },
        "yaxis": {
         "anchor": "x",
         "autorange": true,
         "domain": [
          0,
          1
         ],
         "range": [
          2600.143888888889,
          14560.266111111112
         ],
         "title": {
          "text": "Volume therms"
         },
         "type": "linear"
        }
       }
      },
      "image/png": "[encoded data removed]"
     },
     "metadata": {},
     "output_type": "display_data"
    }
   ],
   "source": [
    "fig = px.line(gas_vol,x=\"Date\", y=\"Volume therms\",title=\"Gas Volume\")\n",
    "fig.show()"
   ]
  },
  {
   "cell_type": "markdown",
   "id": "73a6a285-85cf-4649-8019-4a5716a2f32c",
   "metadata": {},
   "source": [
    "but what if the layout isnt right. Threes a layout seciton in the library https://plotly.com/python/reference/layout/"
   ]
  },
  {
   "cell_type": "code",
   "execution_count": null,
   "id": "088f53ad-5733-430a-9c7f-30054d7e19ed",
   "metadata": {},
   "outputs": [],
   "source": [
    "fig = px.line(gas_vol,x=\"Date\", y=\"Volume therms\",title=\"Gas Volume\")\n",
    "fig.update_layout(title_x=0.5)\n",
    "fig.show()"
   ]
  }
 ],
 "metadata": {
  "kernelspec": {
   "display_name": "Python 3 (ipykernel)",
   "language": "python",
   "name": "python3"
  },
  "language_info": {
   "codemirror_mode": {
    "name": "ipython",
    "version": 3
   },
   "file_extension": ".py",
   "mimetype": "text/x-python",
   "name": "python",
   "nbconvert_exporter": "python",
   "pygments_lexer": "ipython3",
   "version": "3.12.7"
  }
 },
 "nbformat": 4,
 "nbformat_minor": 5
}
