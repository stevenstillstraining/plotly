{
 "cells": [
  {
   "cell_type": "markdown",
   "id": "232283b8-7d09-4416-a003-e032d434af18",
   "metadata": {},
   "source": [
    "<img src=\"https://raw.githubusercontent.com/stevenstillstraining/plotly/main/images/logo.png\" width=\"300\">"
   ]
  },
  {
   "cell_type": "markdown",
   "id": "2507194a-a315-4825-9f1e-819cbcd8310e",
   "metadata": {},
   "source": [
    "# Part 1: Introduction to Data Visualisation with Plotly\n",
    "**first some house keeping** \n",
    "<by>lets check you have the right version of numpy. anything less that version 2.3 should be ok"
   ]
  },
  {
   "cell_type": "code",
   "execution_count": null,
   "id": "5a617011-5236-496a-ba98-a52b29956460",
   "metadata": {},
   "outputs": [],
   "source": [
    "import os # this will tell us where we are exporting our files to later\n",
    "import pandas as pd\n",
    "import numpy as np"
   ]
  },
  {
   "cell_type": "code",
   "execution_count": null,
   "id": "24525f90-b684-402d-b66f-71abd1f4b725",
   "metadata": {},
   "outputs": [],
   "source": [
    "print(np.__version__)"
   ]
  },
  {
   "cell_type": "markdown",
   "id": "e9c474d0-b19a-408d-b69c-ac85c84e3067",
   "metadata": {},
   "source": [
    "# Step 1 Load Data Frames\n",
    "Here are some anonymised data repositories to use for this exercise:"
   ]
  },
  {
   "cell_type": "code",
   "execution_count": null,
   "id": "96553fc8-0341-4fec-956d-653625ddefc3",
   "metadata": {},
   "outputs": [],
   "source": [
    "gas_fc_data = 'https://raw.githubusercontent.com/stevenstillstraining/plotly/main/Gas/Gas_FC.csv'\n",
    "gas_vol_data = 'https://raw.githubusercontent.com/stevenstillstraining/plotly/main/Gas/Gas_Volume.csv'\n",
    "power_fc_data = 'https://raw.githubusercontent.com/stevenstillstraining/plotly/main/Power/Power_FC.csv'\n",
    "power_vol_data = 'https://raw.githubusercontent.com/stevenstillstraining/plotly/main/Power/Power_Volume.csv'"
   ]
  },
  {
   "cell_type": "markdown",
   "id": "9be5fc97-a88e-4805-9d89-7123e582b0b5",
   "metadata": {},
   "source": [
    "**Load these into data frames**"
   ]
  },
  {
   "cell_type": "code",
   "execution_count": null,
   "id": "5ca94e69-c945-4bc4-bc45-9d32d83ab1c1",
   "metadata": {},
   "outputs": [],
   "source": [
    "gas_fc = pd.read_csv(gas_fc_data)\n",
    "\n",
    "\n"
   ]
  },
  {
   "cell_type": "markdown",
   "id": "e45db62c-232c-49bf-8455-c6b1fc37661f",
   "metadata": {},
   "source": [
    "**Now print the first couple of rows for each one at a time**"
   ]
  },
  {
   "cell_type": "code",
   "execution_count": null,
   "id": "5b5bc02b-0db0-4f3b-a723-fe52fa00869e",
   "metadata": {},
   "outputs": [],
   "source": [
    "gas_fc.head(2)"
   ]
  },
  {
   "cell_type": "code",
   "execution_count": null,
   "id": "019b874e-83d8-4ed9-b1d3-42e040db78f9",
   "metadata": {},
   "outputs": [],
   "source": []
  },
  {
   "cell_type": "code",
   "execution_count": null,
   "id": "b6733443-0a4f-422f-8baa-0f091a037e41",
   "metadata": {},
   "outputs": [],
   "source": []
  },
  {
   "cell_type": "code",
   "execution_count": null,
   "id": "87569399-450b-4b2c-b8ef-e19e8882f48c",
   "metadata": {},
   "outputs": [],
   "source": []
  },
  {
   "cell_type": "markdown",
   "id": "77890bb2-add2-4b40-aa4f-1745543ed8bd",
   "metadata": {},
   "source": [
    "**can you remember how to load only the columns you want?\n",
    "<br>Lets get rid of the Unnamned columns in these data frames**"
   ]
  },
  {
   "cell_type": "code",
   "execution_count": null,
   "id": "bbe97c0f-eb7f-4d62-a0f8-1595c02d1063",
   "metadata": {},
   "outputs": [],
   "source": [
    "gas_vol ="
   ]
  },
  {
   "cell_type": "code",
   "execution_count": null,
   "id": "570b4cef-c75d-4ad4-bbb3-6959d524501c",
   "metadata": {},
   "outputs": [],
   "source": [
    "power_vol = "
   ]
  },
  {
   "cell_type": "markdown",
   "id": "50200692-dd28-4269-9018-e15cab429a46",
   "metadata": {},
   "source": [
    "# Step 2: Visualise your Data Frames"
   ]
  },
  {
   "cell_type": "markdown",
   "id": "7e2d5a65-98cb-470c-aeb6-9f30f565eb13",
   "metadata": {},
   "source": [
    "Every python library you use will have a web catalogue to help you figure out functionality\n",
    "<br>This is the one for Plotly:\n",
    "<br>[Plotly Catalogue](https://plotly.com/python/)\n",
    "<br>**Grab the introduction to plotly express code for scartter graphs and paste it below:**<br>\n"
   ]
  },
  {
   "cell_type": "code",
   "execution_count": null,
   "id": "6537e4a4-62a5-4179-9583-1e1ea13e5de1",
   "metadata": {
    "scrolled": true
   },
   "outputs": [],
   "source": []
  },
  {
   "cell_type": "markdown",
   "id": "4d3c5733-0c66-4bf1-99a2-4556acecddd0",
   "metadata": {},
   "source": [
    "**Is there a better graph type for mapping Time Series Data?**\n",
    "<br>change the scatter graph function in the next cell to a different graph type"
   ]
  },
  {
   "cell_type": "code",
   "execution_count": null,
   "id": "6f079329-9107-49ff-babd-b00df35bb5a1",
   "metadata": {},
   "outputs": [],
   "source": []
  },
  {
   "cell_type": "markdown",
   "id": "09dacd4d-5a10-4d80-ae77-d7468923550f",
   "metadata": {},
   "source": [
    "**Now add our data for the \"gas_fc\" data frame into this formula in the cell below.**<br> Heres the syntax to help:<br>\n",
    "fig = px.line(**DATAFRAME**,x=**\"COLUMN 1\"**, y=**\"COLUMN 2\"**)\n",
    "<br>paste the introduction test details below to use the **gas_fc** data frame with the x axis being the date and the y axis the price\n"
   ]
  },
  {
   "cell_type": "code",
   "execution_count": null,
   "id": "d47596e2-d0e9-40cf-bbc7-0939a37beeb1",
   "metadata": {},
   "outputs": [],
   "source": []
  },
  {
   "cell_type": "markdown",
   "id": "cd855834-95dd-485c-8344-9611f2f411ad",
   "metadata": {},
   "source": [
    "**Now do the same for the gas_volume data frame:**"
   ]
  },
  {
   "cell_type": "code",
   "execution_count": null,
   "id": "76ae0729-bf3b-440d-b187-26d32fe5ee9e",
   "metadata": {},
   "outputs": [],
   "source": []
  },
  {
   "cell_type": "markdown",
   "id": "22fada18-a032-4ed3-ace4-24418e4ccb90",
   "metadata": {},
   "source": [
    "Then lets use the catalogue to start adding more elements:<BR> **Add A title to your graph**<br> can you find any help in the data catalogue?"
   ]
  },
  {
   "cell_type": "code",
   "execution_count": null,
   "id": "09267697-4dff-4871-a4aa-28699a7d9715",
   "metadata": {},
   "outputs": [],
   "source": []
  },
  {
   "cell_type": "markdown",
   "id": "73a6a285-85cf-4649-8019-4a5716a2f32c",
   "metadata": {},
   "source": [
    "**Now center the title** <br>Theres a layout seciton in the library <br>https://plotly.com/python/reference/layout/\n"
   ]
  },
  {
   "cell_type": "code",
   "execution_count": null,
   "id": "088f53ad-5733-430a-9c7f-30054d7e19ed",
   "metadata": {},
   "outputs": [],
   "source": []
  },
  {
   "cell_type": "markdown",
   "id": "0fdb2c0e-84cd-4e2c-ad91-870eaf987213",
   "metadata": {},
   "source": [
    "# Step 3: Exporting\n",
    "Remember the cool thing about plotly is the interactive html. so lets export before we go crazy on customisation.\n",
    "<br>**Write intrustions for how to export any of your grpahs above into a html file:**\n",
    "<br>the syntax is \"FIG_NAME.write_html(\"NEW_FILE_NAME.html\")"
   ]
  },
  {
   "cell_type": "code",
   "execution_count": null,
   "id": "7060627f-84cf-4fd9-8e4e-a6e6fce108d5",
   "metadata": {},
   "outputs": [],
   "source": []
  },
  {
   "cell_type": "markdown",
   "id": "ba6a7d10-e508-4ed5-9711-376f1fc46b73",
   "metadata": {},
   "source": [
    "So thats how we export to HTML, the file will now be in the same folder as your jupyter notebook script<br>  For bonus points we can talk about a quality of life inmprovement using os here:\n",
    "<br>https://docs.python.org/3/library/os.path.html\n"
   ]
  },
  {
   "cell_type": "code",
   "execution_count": null,
   "id": "41b65843-052e-4105-aac9-f09f72493433",
   "metadata": {},
   "outputs": [],
   "source": [
    "\n",
    "\n",
    "\n",
    "\n",
    "\n"
   ]
  },
  {
   "cell_type": "markdown",
   "id": "a3e66d9f-5fd4-4798-b7ef-b21373a08b83",
   "metadata": {},
   "source": [
    "# Part 2: Editing Full Feature Charts\n",
    "In this section we'll look at some blocks of chart formatting, \n",
    "<br>comment up the script then when you understand it you can:\n",
    "<br>- edit any formats you need\n",
    "<br>- import your own dataframes in and plot what you need "
   ]
  },
  {
   "cell_type": "code",
   "execution_count": null,
   "id": "8f47392d-6c23-42a0-83d9-7cf1af6389a7",
   "metadata": {},
   "outputs": [],
   "source": []
  },
  {
   "cell_type": "code",
   "execution_count": null,
   "id": "8f4c8fc6-7678-4afc-96c8-3b495c4a9636",
   "metadata": {},
   "outputs": [],
   "source": []
  },
  {
   "cell_type": "markdown",
   "id": "fecd85a9-eb06-42c3-9bc6-e986d41749d4",
   "metadata": {},
   "source": [
    "# Example 1: Heat Maps: Forecast Error\n",
    "Heat Maps are a great way to expose data anomolies or highlight a processes strongest and weakest points.\n",
    "<br>here we use an example of power forecasting accuracy to capute the MAPE ( mean absolute percentage error) KPI\n",
    "<br> and map it into accessable information"
   ]
  },
  {
   "cell_type": "markdown",
   "id": "e6a96037-4535-41a4-9f5a-181e819e63cd",
   "metadata": {},
   "source": [
    "### Step 1: Load dataframe"
   ]
  },
  {
   "cell_type": "code",
   "execution_count": null,
   "id": "42f7bcf5-b670-4717-8e7b-46277ffcca3c",
   "metadata": {},
   "outputs": [],
   "source": [
    "df_mape = pd.read_csv(\"https://raw.githubusercontent.com/stevenstillstraining/plotly/main/Power/MAPE_HH.csv\")\n",
    "df_mape.head(5)"
   ]
  },
  {
   "cell_type": "markdown",
   "id": "33c53d93-f1b8-42a2-b748-c1ee32d8ee8f",
   "metadata": {},
   "source": [
    "### Step 2: Plot chart and explore\n",
    "Add comments to the side of the line to help you remember what each element is doing\n",
    "<br>Seach for functions you dont understand or want to see the option sin the plotly data catalogue"
   ]
  },
  {
   "cell_type": "code",
   "execution_count": null,
   "id": "8152e4c4-2058-4e2a-aff4-b2bc0061e4ca",
   "metadata": {},
   "outputs": [],
   "source": [
    "fig_mape = px.density_heatmap(\n",
    "    df_mape,\n",
    "    x=\"Week_Day\",\n",
    "    y=\"Month\",\n",
    "    z=\"Mape\",\n",
    "    histfunc=\"avg\",\n",
    "    color_continuous_scale=\"Viridis\",\n",
    "    labels={\"Mape\": \"MAPE (%)\"},\n",
    "    title=\"Forecast Error Heatmap by Weekday and Month (Half-Hourly)\"\n",
    ")\n",
    "\n",
    "fig_mape.update_layout(\n",
    "    xaxis_title=\"Day of the Week\",\n",
    "    yaxis_title=\"Month\",\n",
    "    coloraxis_colorbar_title=\"Avg MAPE (%)\",\n",
    "    height=500\n",
    ")\n",
    "\n",
    "fig_mape.show()\n"
   ]
  },
  {
   "cell_type": "code",
   "execution_count": null,
   "id": "e929b0ec-5f89-4db5-a757-54f4e277557b",
   "metadata": {},
   "outputs": [],
   "source": [
    "# Set filename\n",
    "filename = \"mape.html\"\n",
    "\n",
    "# Get full path to where the file will be saved\n",
    "full_path = os.path.abspath(filename)\n",
    "\n",
    "# Export to HTML\n",
    "fig_mape.write_html(full_path)\n",
    "\n",
    "# Print the full file path\n",
    "print(f\"Exported to: {full_path}\")"
   ]
  },
  {
   "cell_type": "markdown",
   "id": "cd4f4ca0-fc66-4de0-9a8d-4892f82f4aa1",
   "metadata": {},
   "source": [
    "**Using the df_mape dataframe, Change the heatmap axes and see what other information you can find:**"
   ]
  },
  {
   "cell_type": "markdown",
   "id": "ab339797-7167-4186-a1ec-f46a50c6a717",
   "metadata": {},
   "source": [
    "QUESTION =  If we want to play with this graph without breaking what we already have, what is the python best practice?"
   ]
  },
  {
   "cell_type": "markdown",
   "id": "ab047d54-b680-4c67-9ef6-9b7fdd643613",
   "metadata": {},
   "source": [
    "ANSWER = "
   ]
  },
  {
   "cell_type": "markdown",
   "id": "473d6628-9d67-4b83-8d5f-d7a203df73ca",
   "metadata": {},
   "source": [
    "### Step 1: Load dataframe"
   ]
  },
  {
   "cell_type": "code",
   "execution_count": null,
   "id": "35d25e93-8a92-4766-a4b3-2718fc599738",
   "metadata": {},
   "outputs": [],
   "source": [
    "df_mape_hh = pd.read_csv(\"https://raw.githubusercontent.com/stevenstillstraining/plotly/main/Power/MAPE_HH.csv\")"
   ]
  },
  {
   "cell_type": "code",
   "execution_count": null,
   "id": "08dbc7e1-d682-4dfa-b2e6-276247825578",
   "metadata": {},
   "outputs": [],
   "source": []
  },
  {
   "cell_type": "markdown",
   "id": "1d936096-1bb6-4275-b1ed-69acf6e2e81b",
   "metadata": {},
   "source": [
    "### Step 2: Plot chart and explore"
   ]
  },
  {
   "cell_type": "code",
   "execution_count": null,
   "id": "d27d452e-13a2-4ea8-aa14-82ffbada3222",
   "metadata": {},
   "outputs": [],
   "source": [
    "\n",
    "\n",
    "\n",
    "\n",
    "\n",
    "\n",
    "\n"
   ]
  },
  {
   "cell_type": "markdown",
   "id": "fb4beb78-7eb8-4341-84f4-660bdb62b240",
   "metadata": {},
   "source": [
    "### Step 3. Export!\n",
    "**Now go grab your export to html script from earlier, paste and edit it below to export this graph**"
   ]
  },
  {
   "cell_type": "code",
   "execution_count": null,
   "id": "bcb544c6-94d4-4eda-8fee-b9e5ad3f7dd6",
   "metadata": {},
   "outputs": [],
   "source": [
    "\n",
    "\n",
    "\n",
    "\n",
    "\n",
    "\n",
    "\n"
   ]
  },
  {
   "cell_type": "markdown",
   "id": "8b2a5e5e-592d-47ef-a533-52475018d6e2",
   "metadata": {},
   "source": [
    "## Example 2: Interactive Line Chart: Power Volume"
   ]
  },
  {
   "cell_type": "markdown",
   "id": "de999b6c-b3b9-4900-b597-246a9d966da7",
   "metadata": {},
   "source": [
    "### Step 1: Load dataframe"
   ]
  },
  {
   "cell_type": "code",
   "execution_count": null,
   "id": "66a14c24-3994-45de-873a-f755c37e354c",
   "metadata": {},
   "outputs": [],
   "source": [
    "power_vol =  pd.read_csv('https://raw.githubusercontent.com/stevenstillstraining/plotly/main/Power/Power_Volume.csv')"
   ]
  },
  {
   "cell_type": "code",
   "execution_count": null,
   "id": "9b602418-23ce-457b-8c13-95fadee68aba",
   "metadata": {},
   "outputs": [],
   "source": []
  },
  {
   "cell_type": "markdown",
   "id": "17e5c217-e4e5-4d79-b09f-bad30747ddd5",
   "metadata": {},
   "source": [
    "**First we need to unpivot that so here is a freebie:**"
   ]
  },
  {
   "cell_type": "code",
   "execution_count": null,
   "id": "d302e355-049d-4566-9a95-7d0166ab9355",
   "metadata": {},
   "outputs": [],
   "source": [
    "power_vol_unpivot = power_vol.melt(\n",
    "    id_vars=[\"Settlement_Day\", \"Settlement_Period\"],            # columns to keep\n",
    "    value_vars=[\"Purchased_Volume\", \"Actual_Demand\", \"Hedged Volume\"],  # columns to unpivot\n",
    "    var_name=\"Type\",    # new column of catagories\n",
    "    value_name=\"Volume\" # new column of values\n",
    ")"
   ]
  },
  {
   "cell_type": "markdown",
   "id": "2bc5b75f-5876-4ce2-ba7e-7bf73ba6928d",
   "metadata": {},
   "source": [
    "**Now Check the data frame again:**"
   ]
  },
  {
   "cell_type": "code",
   "execution_count": null,
   "id": "e05da817-a6db-4efc-bc3e-0e2946bee1ee",
   "metadata": {},
   "outputs": [],
   "source": []
  },
  {
   "cell_type": "markdown",
   "id": "36982f72-0c6b-4b37-ba11-1312e9585c7c",
   "metadata": {},
   "source": [
    "### Step 2: Plot chart and explore\n",
    "Add comments to the side of the line to help you remember what each element is doing\n",
    "<br> https://coolors.co/00314a-e34a21-efefef-17a398-00a7e1"
   ]
  },
  {
   "cell_type": "code",
   "execution_count": null,
   "id": "832b32dc-43bd-4069-b3e2-3aaf3bac05ca",
   "metadata": {},
   "outputs": [],
   "source": [
    "colour_map = {\"Purchased_Volume\": \"#00314a\", \"Actual_Demand\": \"#e34a21\", \"Hedged Volume\": \"#17a398\"}\n",
    "\n",
    "power_vol_fig = px.line(\n",
    "    power_vol_unpivot,\n",
    "    x=\"Settlement_Period\",\n",
    "    y=\"Volume\",\n",
    "    color=\"Type\",\n",
    "    animation_frame=\"Settlement_Day\",\n",
    "    color_discrete_map=colour_map,\n",
    "    title=\"Power Volume Summary\"\n",
    ")\n",
    "\n",
    "power_vol_fig.layout.updatemenus[0].buttons = []\n",
    "\n",
    "power_vol_fig.update_layout(\n",
    "    title={\"x\": 0.5, \"font\": {\"color\": \"#00314a\"}},\n",
    "    plot_bgcolor=\"#EFEFEF\",\n",
    "    paper_bgcolor=\"white\",\n",
    "    font={\"color\": \"#00314a\"},\n",
    "    legend={\"orientation\": \"v\", \"yanchor\": \"top\", \"y\": 1.0, \"xanchor\": \"left\", \"x\": 1},\n",
    "    legend_title_text=\"\",\n",
    "    xaxis={\"title\": \"Settlement Period\", \"gridcolor\": \"white\", \"range\": [1, 48]},\n",
    "    yaxis={\"title\": \"Volume\", \"gridcolor\": \"white\", \"range\": [20, 110]}\n",
    ")\n",
    "\n",
    "power_vol_fig.show()\n"
   ]
  },
  {
   "cell_type": "markdown",
   "id": "a595acf2-aa17-4a3b-8e85-65e167410609",
   "metadata": {},
   "source": [
    "### Step 3. Export!\n",
    "**Now go grab your export to html script from earlier, paste and edit it below to export this graph**"
   ]
  },
  {
   "cell_type": "code",
   "execution_count": null,
   "id": "80bdccbf-0ffc-4239-a336-3aa06a76c601",
   "metadata": {},
   "outputs": [],
   "source": [
    "# Set filename\n",
    "filename = \"power_vol.html\"\n",
    "\n",
    "# Get full path to where the file will be saved\n",
    "full_path = os.path.abspath(filename)\n",
    "\n",
    "# Export to HTML\n",
    "power_vol_fig.write_html(full_path)\n",
    "\n",
    "# Print the full file path\n",
    "print(f\"Exported to: {full_path}\")"
   ]
  },
  {
   "cell_type": "markdown",
   "id": "c0d8749b-6edb-472e-a4b6-e6a66f2a2309",
   "metadata": {},
   "source": [
    "# Good Work! Any Questions?"
   ]
  }
 ],
 "metadata": {
  "kernelspec": {
   "display_name": "Python 3 (ipykernel)",
   "language": "python",
   "name": "python3"
  },
  "language_info": {
   "codemirror_mode": {
    "name": "ipython",
    "version": 3
   },
   "file_extension": ".py",
   "mimetype": "text/x-python",
   "name": "python",
   "nbconvert_exporter": "python",
   "pygments_lexer": "ipython3",
   "version": "3.12.7"
  }
 },
 "nbformat": 4,
 "nbformat_minor": 5
}
