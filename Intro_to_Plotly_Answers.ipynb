{
 "cells": [
  {
   "cell_type": "markdown",
   "id": "232283b8-7d09-4416-a003-e032d434af18",
   "metadata": {},
   "source": [
    "<img src=\"https://raw.githubusercontent.com/stevenstillstraining/plotly/main/images/logo.png\" width=\"300\">"
   ]
  },
  {
   "cell_type": "markdown",
   "id": "2507194a-a315-4825-9f1e-819cbcd8310e",
   "metadata": {},
   "source": [
    "# Part 1: Introduction to Data Visualisation with Plotly\n",
    "**first some house keeping** \n",
    "<by>lets check you have the right version of numpy. anything less that version 2.3 should be ok"
   ]
  },
  {
   "cell_type": "code",
   "execution_count": 1,
   "id": "5a617011-5236-496a-ba98-a52b29956460",
   "metadata": {},
   "outputs": [],
   "source": [
    "import os # this will tell us where we are exporting out html files to\n",
    "import pandas as pd\n",
    "import numpy as np"
   ]
  },
  {
   "cell_type": "code",
   "execution_count": 2,
   "id": "24525f90-b684-402d-b66f-71abd1f4b725",
   "metadata": {},
   "outputs": [
    {
     "name": "stdout",
     "output_type": "stream",
     "text": [
      "1.26.4\n",
      "2.3.0\n"
     ]
    }
   ],
   "source": [
    "print(np.__version__)\n",
    "print(pd.__version__)"
   ]
  },
  {
   "cell_type": "markdown",
   "id": "e9c474d0-b19a-408d-b69c-ac85c84e3067",
   "metadata": {},
   "source": [
    "# Step 1 Load Data Frames\n",
    "Here are some anonymised data repositties to use for this exercise:"
   ]
  },
  {
   "cell_type": "code",
   "execution_count": 3,
   "id": "96553fc8-0341-4fec-956d-653625ddefc3",
   "metadata": {},
   "outputs": [],
   "source": [
    "gas_fc_data = 'https://raw.githubusercontent.com/stevenstillstraining/plotly/main/Gas/Gas_FC.csv'\n",
    "gas_vol_data = 'https://raw.githubusercontent.com/stevenstillstraining/plotly/main/Gas/Gas_Volume.csv'\n",
    "power_fc_data = 'https://raw.githubusercontent.com/stevenstillstraining/plotly/main/Power/Power_FC.csv'\n",
    "power_vol_data = 'https://raw.githubusercontent.com/stevenstillstraining/plotly/main/Power/Power_Volume.csv'"
   ]
  },
  {
   "cell_type": "markdown",
   "id": "9be5fc97-a88e-4805-9d89-7123e582b0b5",
   "metadata": {},
   "source": [
    "**Load these into data frames then check the structure one by one**"
   ]
  },
  {
   "cell_type": "code",
   "execution_count": 4,
   "id": "5ca94e69-c945-4bc4-bc45-9d32d83ab1c1",
   "metadata": {},
   "outputs": [],
   "source": [
    "gas_fc = pd.read_csv(gas_fc_data)\n",
    "gas_vol = pd.read_csv(gas_vol_data) \n",
    "power_fc = pd.read_csv(power_fc_data)\n",
    "power_vol = pd.read_csv(power_vol_data)"
   ]
  },
  {
   "cell_type": "code",
   "execution_count": 5,
   "id": "5b5bc02b-0db0-4f3b-a723-fe52fa00869e",
   "metadata": {},
   "outputs": [
    {
     "data": {
      "text/html": [
       "<div>\n",
       "<style scoped>\n",
       "    .dataframe tbody tr th:only-of-type {\n",
       "        vertical-align: middle;\n",
       "    }\n",
       "\n",
       "    .dataframe tbody tr th {\n",
       "        vertical-align: top;\n",
       "    }\n",
       "\n",
       "    .dataframe thead th {\n",
       "        text-align: right;\n",
       "    }\n",
       "</style>\n",
       "<table border=\"1\" class=\"dataframe\">\n",
       "  <thead>\n",
       "    <tr style=\"text-align: right;\">\n",
       "      <th></th>\n",
       "      <th>Date</th>\n",
       "      <th>PRC</th>\n",
       "    </tr>\n",
       "  </thead>\n",
       "  <tbody>\n",
       "    <tr>\n",
       "      <th>0</th>\n",
       "      <td>01/08/2025</td>\n",
       "      <td>82.73</td>\n",
       "    </tr>\n",
       "    <tr>\n",
       "      <th>1</th>\n",
       "      <td>01/09/2025</td>\n",
       "      <td>88.83</td>\n",
       "    </tr>\n",
       "  </tbody>\n",
       "</table>\n",
       "</div>"
      ],
      "text/plain": [
       "         Date    PRC\n",
       "0  01/08/2025  82.73\n",
       "1  01/09/2025  88.83"
      ]
     },
     "execution_count": 5,
     "metadata": {},
     "output_type": "execute_result"
    }
   ],
   "source": [
    "gas_fc.head(2)"
   ]
  },
  {
   "cell_type": "code",
   "execution_count": 6,
   "id": "019b874e-83d8-4ed9-b1d3-42e040db78f9",
   "metadata": {},
   "outputs": [
    {
     "data": {
      "text/html": [
       "<div>\n",
       "<style scoped>\n",
       "    .dataframe tbody tr th:only-of-type {\n",
       "        vertical-align: middle;\n",
       "    }\n",
       "\n",
       "    .dataframe tbody tr th {\n",
       "        vertical-align: top;\n",
       "    }\n",
       "\n",
       "    .dataframe thead th {\n",
       "        text-align: right;\n",
       "    }\n",
       "</style>\n",
       "<table border=\"1\" class=\"dataframe\">\n",
       "  <thead>\n",
       "    <tr style=\"text-align: right;\">\n",
       "      <th></th>\n",
       "      <th>Date</th>\n",
       "      <th>Volume therms</th>\n",
       "      <th>Unnamed: 2</th>\n",
       "    </tr>\n",
       "  </thead>\n",
       "  <tbody>\n",
       "    <tr>\n",
       "      <th>0</th>\n",
       "      <td>Fri 01/08/25</td>\n",
       "      <td>4059.61</td>\n",
       "      <td>NaN</td>\n",
       "    </tr>\n",
       "    <tr>\n",
       "      <th>1</th>\n",
       "      <td>Sat 02/08/25</td>\n",
       "      <td>3354.20</td>\n",
       "      <td>NaN</td>\n",
       "    </tr>\n",
       "  </tbody>\n",
       "</table>\n",
       "</div>"
      ],
      "text/plain": [
       "           Date  Volume therms  Unnamed: 2\n",
       "0  Fri 01/08/25        4059.61         NaN\n",
       "1  Sat 02/08/25        3354.20         NaN"
      ]
     },
     "execution_count": 6,
     "metadata": {},
     "output_type": "execute_result"
    }
   ],
   "source": [
    "gas_vol.head(2)"
   ]
  },
  {
   "cell_type": "code",
   "execution_count": 7,
   "id": "b6733443-0a4f-422f-8baa-0f091a037e41",
   "metadata": {},
   "outputs": [
    {
     "data": {
      "text/html": [
       "<div>\n",
       "<style scoped>\n",
       "    .dataframe tbody tr th:only-of-type {\n",
       "        vertical-align: middle;\n",
       "    }\n",
       "\n",
       "    .dataframe tbody tr th {\n",
       "        vertical-align: top;\n",
       "    }\n",
       "\n",
       "    .dataframe thead th {\n",
       "        text-align: right;\n",
       "    }\n",
       "</style>\n",
       "<table border=\"1\" class=\"dataframe\">\n",
       "  <thead>\n",
       "    <tr style=\"text-align: right;\">\n",
       "      <th></th>\n",
       "      <th>Date</th>\n",
       "      <th>bsld_prc</th>\n",
       "      <th>peak_prc</th>\n",
       "    </tr>\n",
       "  </thead>\n",
       "  <tbody>\n",
       "    <tr>\n",
       "      <th>0</th>\n",
       "      <td>Fri 01/08/2025</td>\n",
       "      <td>74.58</td>\n",
       "      <td>76.58</td>\n",
       "    </tr>\n",
       "    <tr>\n",
       "      <th>1</th>\n",
       "      <td>Mon 01/09/2025</td>\n",
       "      <td>82.33</td>\n",
       "      <td>89.97</td>\n",
       "    </tr>\n",
       "  </tbody>\n",
       "</table>\n",
       "</div>"
      ],
      "text/plain": [
       "             Date  bsld_prc peak_prc\n",
       "0  Fri 01/08/2025     74.58    76.58\n",
       "1  Mon 01/09/2025     82.33    89.97"
      ]
     },
     "execution_count": 7,
     "metadata": {},
     "output_type": "execute_result"
    }
   ],
   "source": [
    "power_fc.head(2)"
   ]
  },
  {
   "cell_type": "code",
   "execution_count": 8,
   "id": "87569399-450b-4b2c-b8ef-e19e8882f48c",
   "metadata": {},
   "outputs": [
    {
     "data": {
      "text/html": [
       "<div>\n",
       "<style scoped>\n",
       "    .dataframe tbody tr th:only-of-type {\n",
       "        vertical-align: middle;\n",
       "    }\n",
       "\n",
       "    .dataframe tbody tr th {\n",
       "        vertical-align: top;\n",
       "    }\n",
       "\n",
       "    .dataframe thead th {\n",
       "        text-align: right;\n",
       "    }\n",
       "</style>\n",
       "<table border=\"1\" class=\"dataframe\">\n",
       "  <thead>\n",
       "    <tr style=\"text-align: right;\">\n",
       "      <th></th>\n",
       "      <th>Settlement_Day</th>\n",
       "      <th>Settlement_Period</th>\n",
       "      <th>Purchased_Volume</th>\n",
       "      <th>Actual_Demand</th>\n",
       "      <th>Hedged Volume</th>\n",
       "      <th>Unnamed: 5</th>\n",
       "    </tr>\n",
       "  </thead>\n",
       "  <tbody>\n",
       "    <tr>\n",
       "      <th>0</th>\n",
       "      <td>Fri 01/08/2025</td>\n",
       "      <td>1</td>\n",
       "      <td>46.12</td>\n",
       "      <td>46.52</td>\n",
       "      <td>49.21</td>\n",
       "      <td>NaN</td>\n",
       "    </tr>\n",
       "    <tr>\n",
       "      <th>1</th>\n",
       "      <td>Fri 01/08/2025</td>\n",
       "      <td>2</td>\n",
       "      <td>46.30</td>\n",
       "      <td>46.16</td>\n",
       "      <td>49.21</td>\n",
       "      <td>NaN</td>\n",
       "    </tr>\n",
       "  </tbody>\n",
       "</table>\n",
       "</div>"
      ],
      "text/plain": [
       "   Settlement_Day  Settlement_Period  Purchased_Volume  Actual_Demand  \\\n",
       "0  Fri 01/08/2025                  1             46.12          46.52   \n",
       "1  Fri 01/08/2025                  2             46.30          46.16   \n",
       "\n",
       "   Hedged Volume  Unnamed: 5  \n",
       "0          49.21         NaN  \n",
       "1          49.21         NaN  "
      ]
     },
     "execution_count": 8,
     "metadata": {},
     "output_type": "execute_result"
    }
   ],
   "source": [
    "power_vol.head(2)"
   ]
  },
  {
   "cell_type": "markdown",
   "id": "77890bb2-add2-4b40-aa4f-1745543ed8bd",
   "metadata": {},
   "source": [
    "**can you remember how to load only the columns you want?**"
   ]
  },
  {
   "cell_type": "code",
   "execution_count": 9,
   "id": "bbe97c0f-eb7f-4d62-a0f8-1595c02d1063",
   "metadata": {},
   "outputs": [],
   "source": [
    "gas_vol = gas_vol[[\"Date\",\"Volume therms\"]]"
   ]
  },
  {
   "cell_type": "code",
   "execution_count": 10,
   "id": "570b4cef-c75d-4ad4-bbb3-6959d524501c",
   "metadata": {},
   "outputs": [],
   "source": [
    "power_vol = power_vol[[\"Settlement_Day\",\"Settlement_Period\",\"Purchased_Volume\",\"Actual_Demand\",\"Hedged Volume\"]]"
   ]
  },
  {
   "cell_type": "markdown",
   "id": "50200692-dd28-4269-9018-e15cab429a46",
   "metadata": {},
   "source": [
    "# Step 2: Get them Visualised"
   ]
  },
  {
   "cell_type": "markdown",
   "id": "78a7f99a-aca6-45fc-bc1d-39831e6a8fc8",
   "metadata": {},
   "source": [
    "First off why dont we just say \"import Plotly\" like we do with pandas"
   ]
  },
  {
   "cell_type": "markdown",
   "id": "4634cff4-037c-42a8-8cb2-06c1fefb10dd",
   "metadata": {},
   "source": [
    "Plotly is a huge catalgue of sub libraries for different purposes. <BR>We'll go through plotly express and cover how to use the catalogue to build an express plot<br> You can try the more extreme outliers if they fit your needs:<br>[Plotly Catalogue](https://plotly.com/python/)\n"
   ]
  },
  {
   "cell_type": "markdown",
   "id": "c410bd50-f9ce-4e4a-a55f-0fd6b123c2fe",
   "metadata": {},
   "source": [
    "## ...Now Actually Get them Visualised"
   ]
  },
  {
   "cell_type": "markdown",
   "id": "7e2d5a65-98cb-470c-aeb6-9f30f565eb13",
   "metadata": {},
   "source": [
    "grab the introduction to plotly express code for scartter graphs and paste it below:<br>[Plotly Catalogue](https://plotly.com/python/)"
   ]
  },
  {
   "cell_type": "code",
   "execution_count": 11,
   "id": "e7f2a9e3-f7a5-452d-bee7-2645451efa60",
   "metadata": {},
   "outputs": [],
   "source": [
    "import plotly.express as px"
   ]
  },
  {
   "cell_type": "code",
   "execution_count": 12,
   "id": "6537e4a4-62a5-4179-9583-1e1ea13e5de1",
   "metadata": {
    "scrolled": true
   },
   "outputs": [
    {
     "data": {
      "application/vnd.plotly.v1+json": {
       "config": {
        "plotlyServerURL": "https://plot.ly"
       },
       "data": [
        {
         "hovertemplate": "x=%{x}<br>y=%{y}<extra></extra>",
         "legendgroup": "",
         "marker": {
          "color": "#636efa",
          "symbol": "circle"
         },
         "mode": "markers",
         "name": "",
         "orientation": "v",
         "showlegend": false,
         "type": "scatter",
         "x": {
          "_inputArray": {
           "0": 0,
           "1": 1,
           "2": 2,
           "3": 3,
           "4": 4,
           "bdata": "AAECAwQ=",
           "dtype": "i1",
           "shape": "5"
          },
          "bdata": "AAECAwQ=",
          "dtype": "i1"
         },
         "xaxis": "x",
         "y": {
          "_inputArray": {
           "0": 0,
           "1": 1,
           "2": 4,
           "3": 9,
           "4": 16,
           "bdata": "AAEECRA=",
           "dtype": "i1",
           "shape": "5"
          },
          "bdata": "AAEECRA=",
          "dtype": "i1"
         },
         "yaxis": "y"
        }
       ],
       "layout": {
        "autosize": true,
        "legend": {
         "tracegroupgap": 0
        },
        "margin": {
         "t": 60
        },
        "template": {
         "data": {
          "bar": [
           {
            "error_x": {
             "color": "#2a3f5f"
            },
            "error_y": {
             "color": "#2a3f5f"
            },
            "marker": {
             "line": {
              "color": "#E5ECF6",
              "width": 0.5
             },
             "pattern": {
              "fillmode": "overlay",
              "size": 10,
              "solidity": 0.2
             }
            },
            "type": "bar"
           }
          ],
          "barpolar": [
           {
            "marker": {
             "line": {
              "color": "#E5ECF6",
              "width": 0.5
             },
             "pattern": {
              "fillmode": "overlay",
              "size": 10,
              "solidity": 0.2
             }
            },
            "type": "barpolar"
           }
          ],
          "carpet": [
           {
            "aaxis": {
             "endlinecolor": "#2a3f5f",
             "gridcolor": "white",
             "linecolor": "white",
             "minorgridcolor": "white",
             "startlinecolor": "#2a3f5f"
            },
            "baxis": {
             "endlinecolor": "#2a3f5f",
             "gridcolor": "white",
             "linecolor": "white",
             "minorgridcolor": "white",
             "startlinecolor": "#2a3f5f"
            },
            "type": "carpet"
           }
          ],
          "choropleth": [
           {
            "colorbar": {
             "outlinewidth": 0,
             "ticks": ""
            },
            "type": "choropleth"
           }
          ],
          "contour": [
           {
            "colorbar": {
             "outlinewidth": 0,
             "ticks": ""
            },
            "colorscale": [
             [
              0,
              "#0d0887"
             ],
             [
              0.1111111111111111,
              "#46039f"
             ],
             [
              0.2222222222222222,
              "#7201a8"
             ],
             [
              0.3333333333333333,
              "#9c179e"
             ],
             [
              0.4444444444444444,
              "#bd3786"
             ],
             [
              0.5555555555555556,
              "#d8576b"
             ],
             [
              0.6666666666666666,
              "#ed7953"
             ],
             [
              0.7777777777777778,
              "#fb9f3a"
             ],
             [
              0.8888888888888888,
              "#fdca26"
             ],
             [
              1,
              "#f0f921"
             ]
            ],
            "type": "contour"
           }
          ],
          "contourcarpet": [
           {
            "colorbar": {
             "outlinewidth": 0,
             "ticks": ""
            },
            "type": "contourcarpet"
           }
          ],
          "heatmap": [
           {
            "colorbar": {
             "outlinewidth": 0,
             "ticks": ""
            },
            "colorscale": [
             [
              0,
              "#0d0887"
             ],
             [
              0.1111111111111111,
              "#46039f"
             ],
             [
              0.2222222222222222,
              "#7201a8"
             ],
             [
              0.3333333333333333,
              "#9c179e"
             ],
             [
              0.4444444444444444,
              "#bd3786"
             ],
             [
              0.5555555555555556,
              "#d8576b"
             ],
             [
              0.6666666666666666,
              "#ed7953"
             ],
             [
              0.7777777777777778,
              "#fb9f3a"
             ],
             [
              0.8888888888888888,
              "#fdca26"
             ],
             [
              1,
              "#f0f921"
             ]
            ],
            "type": "heatmap"
           }
          ],
          "histogram": [
           {
            "marker": {
             "pattern": {
              "fillmode": "overlay",
              "size": 10,
              "solidity": 0.2
             }
            },
            "type": "histogram"
           }
          ],
          "histogram2d": [
           {
            "colorbar": {
             "outlinewidth": 0,
             "ticks": ""
            },
            "colorscale": [
             [
              0,
              "#0d0887"
             ],
             [
              0.1111111111111111,
              "#46039f"
             ],
             [
              0.2222222222222222,
              "#7201a8"
             ],
             [
              0.3333333333333333,
              "#9c179e"
             ],
             [
              0.4444444444444444,
              "#bd3786"
             ],
             [
              0.5555555555555556,
              "#d8576b"
             ],
             [
              0.6666666666666666,
              "#ed7953"
             ],
             [
              0.7777777777777778,
              "#fb9f3a"
             ],
             [
              0.8888888888888888,
              "#fdca26"
             ],
             [
              1,
              "#f0f921"
             ]
            ],
            "type": "histogram2d"
           }
          ],
          "histogram2dcontour": [
           {
            "colorbar": {
             "outlinewidth": 0,
             "ticks": ""
            },
            "colorscale": [
             [
              0,
              "#0d0887"
             ],
             [
              0.1111111111111111,
              "#46039f"
             ],
             [
              0.2222222222222222,
              "#7201a8"
             ],
             [
              0.3333333333333333,
              "#9c179e"
             ],
             [
              0.4444444444444444,
              "#bd3786"
             ],
             [
              0.5555555555555556,
              "#d8576b"
             ],
             [
              0.6666666666666666,
              "#ed7953"
             ],
             [
              0.7777777777777778,
              "#fb9f3a"
             ],
             [
              0.8888888888888888,
              "#fdca26"
             ],
             [
              1,
              "#f0f921"
             ]
            ],
            "type": "histogram2dcontour"
           }
          ],
          "mesh3d": [
           {
            "colorbar": {
             "outlinewidth": 0,
             "ticks": ""
            },
            "type": "mesh3d"
           }
          ],
          "parcoords": [
           {
            "line": {
             "colorbar": {
              "outlinewidth": 0,
              "ticks": ""
             }
            },
            "type": "parcoords"
           }
          ],
          "pie": [
           {
            "automargin": true,
            "type": "pie"
           }
          ],
          "scatter": [
           {
            "fillpattern": {
             "fillmode": "overlay",
             "size": 10,
             "solidity": 0.2
            },
            "type": "scatter"
           }
          ],
          "scatter3d": [
           {
            "line": {
             "colorbar": {
              "outlinewidth": 0,
              "ticks": ""
             }
            },
            "marker": {
             "colorbar": {
              "outlinewidth": 0,
              "ticks": ""
             }
            },
            "type": "scatter3d"
           }
          ],
          "scattercarpet": [
           {
            "marker": {
             "colorbar": {
              "outlinewidth": 0,
              "ticks": ""
             }
            },
            "type": "scattercarpet"
           }
          ],
          "scattergeo": [
           {
            "marker": {
             "colorbar": {
              "outlinewidth": 0,
              "ticks": ""
             }
            },
            "type": "scattergeo"
           }
          ],
          "scattergl": [
           {
            "marker": {
             "colorbar": {
              "outlinewidth": 0,
              "ticks": ""
             }
            },
            "type": "scattergl"
           }
          ],
          "scattermap": [
           {
            "marker": {
             "colorbar": {
              "outlinewidth": 0,
              "ticks": ""
             }
            },
            "type": "scattermap"
           }
          ],
          "scattermapbox": [
           {
            "marker": {
             "colorbar": {
              "outlinewidth": 0,
              "ticks": ""
             }
            },
            "type": "scattermapbox"
           }
          ],
          "scatterpolar": [
           {
            "marker": {
             "colorbar": {
              "outlinewidth": 0,
              "ticks": ""
             }
            },
            "type": "scatterpolar"
           }
          ],
          "scatterpolargl": [
           {
            "marker": {
             "colorbar": {
              "outlinewidth": 0,
              "ticks": ""
             }
            },
            "type": "scatterpolargl"
           }
          ],
          "scatterternary": [
           {
            "marker": {
             "colorbar": {
              "outlinewidth": 0,
              "ticks": ""
             }
            },
            "type": "scatterternary"
           }
          ],
          "surface": [
           {
            "colorbar": {
             "outlinewidth": 0,
             "ticks": ""
            },
            "colorscale": [
             [
              0,
              "#0d0887"
             ],
             [
              0.1111111111111111,
              "#46039f"
             ],
             [
              0.2222222222222222,
              "#7201a8"
             ],
             [
              0.3333333333333333,
              "#9c179e"
             ],
             [
              0.4444444444444444,
              "#bd3786"
             ],
             [
              0.5555555555555556,
              "#d8576b"
             ],
             [
              0.6666666666666666,
              "#ed7953"
             ],
             [
              0.7777777777777778,
              "#fb9f3a"
             ],
             [
              0.8888888888888888,
              "#fdca26"
             ],
             [
              1,
              "#f0f921"
             ]
            ],
            "type": "surface"
           }
          ],
          "table": [
           {
            "cells": {
             "fill": {
              "color": "#EBF0F8"
             },
             "line": {
              "color": "white"
             }
            },
            "header": {
             "fill": {
              "color": "#C8D4E3"
             },
             "line": {
              "color": "white"
             }
            },
            "type": "table"
           }
          ]
         },
         "layout": {
          "annotationdefaults": {
           "arrowcolor": "#2a3f5f",
           "arrowhead": 0,
           "arrowwidth": 1
          },
          "autotypenumbers": "strict",
          "coloraxis": {
           "colorbar": {
            "outlinewidth": 0,
            "ticks": ""
           }
          },
          "colorscale": {
           "diverging": [
            [
             0,
             "#8e0152"
            ],
            [
             0.1,
             "#c51b7d"
            ],
            [
             0.2,
             "#de77ae"
            ],
            [
             0.3,
             "#f1b6da"
            ],
            [
             0.4,
             "#fde0ef"
            ],
            [
             0.5,
             "#f7f7f7"
            ],
            [
             0.6,
             "#e6f5d0"
            ],
            [
             0.7,
             "#b8e186"
            ],
            [
             0.8,
             "#7fbc41"
            ],
            [
             0.9,
             "#4d9221"
            ],
            [
             1,
             "#276419"
            ]
           ],
           "sequential": [
            [
             0,
             "#0d0887"
            ],
            [
             0.1111111111111111,
             "#46039f"
            ],
            [
             0.2222222222222222,
             "#7201a8"
            ],
            [
             0.3333333333333333,
             "#9c179e"
            ],
            [
             0.4444444444444444,
             "#bd3786"
            ],
            [
             0.5555555555555556,
             "#d8576b"
            ],
            [
             0.6666666666666666,
             "#ed7953"
            ],
            [
             0.7777777777777778,
             "#fb9f3a"
            ],
            [
             0.8888888888888888,
             "#fdca26"
            ],
            [
             1,
             "#f0f921"
            ]
           ],
           "sequentialminus": [
            [
             0,
             "#0d0887"
            ],
            [
             0.1111111111111111,
             "#46039f"
            ],
            [
             0.2222222222222222,
             "#7201a8"
            ],
            [
             0.3333333333333333,
             "#9c179e"
            ],
            [
             0.4444444444444444,
             "#bd3786"
            ],
            [
             0.5555555555555556,
             "#d8576b"
            ],
            [
             0.6666666666666666,
             "#ed7953"
            ],
            [
             0.7777777777777778,
             "#fb9f3a"
            ],
            [
             0.8888888888888888,
             "#fdca26"
            ],
            [
             1,
             "#f0f921"
            ]
           ]
          },
          "colorway": [
           "#636efa",
           "#EF553B",
           "#00cc96",
           "#ab63fa",
           "#FFA15A",
           "#19d3f3",
           "#FF6692",
           "#B6E880",
           "#FF97FF",
           "#FECB52"
          ],
          "font": {
           "color": "#2a3f5f"
          },
          "geo": {
           "bgcolor": "white",
           "lakecolor": "white",
           "landcolor": "#E5ECF6",
           "showlakes": true,
           "showland": true,
           "subunitcolor": "white"
          },
          "hoverlabel": {
           "align": "left"
          },
          "hovermode": "closest",
          "mapbox": {
           "style": "light"
          },
          "paper_bgcolor": "white",
          "plot_bgcolor": "#E5ECF6",
          "polar": {
           "angularaxis": {
            "gridcolor": "white",
            "linecolor": "white",
            "ticks": ""
           },
           "bgcolor": "#E5ECF6",
           "radialaxis": {
            "gridcolor": "white",
            "linecolor": "white",
            "ticks": ""
           }
          },
          "scene": {
           "xaxis": {
            "backgroundcolor": "#E5ECF6",
            "gridcolor": "white",
            "gridwidth": 2,
            "linecolor": "white",
            "showbackground": true,
            "ticks": "",
            "zerolinecolor": "white"
           },
           "yaxis": {
            "backgroundcolor": "#E5ECF6",
            "gridcolor": "white",
            "gridwidth": 2,
            "linecolor": "white",
            "showbackground": true,
            "ticks": "",
            "zerolinecolor": "white"
           },
           "zaxis": {
            "backgroundcolor": "#E5ECF6",
            "gridcolor": "white",
            "gridwidth": 2,
            "linecolor": "white",
            "showbackground": true,
            "ticks": "",
            "zerolinecolor": "white"
           }
          },
          "shapedefaults": {
           "line": {
            "color": "#2a3f5f"
           }
          },
          "ternary": {
           "aaxis": {
            "gridcolor": "white",
            "linecolor": "white",
            "ticks": ""
           },
           "baxis": {
            "gridcolor": "white",
            "linecolor": "white",
            "ticks": ""
           },
           "bgcolor": "#E5ECF6",
           "caxis": {
            "gridcolor": "white",
            "linecolor": "white",
            "ticks": ""
           }
          },
          "title": {
           "x": 0.05
          },
          "xaxis": {
           "automargin": true,
           "gridcolor": "white",
           "linecolor": "white",
           "ticks": "",
           "title": {
            "standoff": 15
           },
           "zerolinecolor": "white",
           "zerolinewidth": 2
          },
          "yaxis": {
           "automargin": true,
           "gridcolor": "white",
           "linecolor": "white",
           "ticks": "",
           "title": {
            "standoff": 15
           },
           "zerolinecolor": "white",
           "zerolinewidth": 2
          }
         }
        },
        "xaxis": {
         "anchor": "y",
         "autorange": true,
         "domain": [
          0,
          1
         ],
         "range": [
          -0.25705329153605017,
          4.25705329153605
         ],
         "title": {
          "text": "x"
         },
         "type": "linear"
        },
        "yaxis": {
         "anchor": "x",
         "autorange": true,
         "domain": [
          0,
          1
         ],
         "range": [
          -1.2388451443569553,
          17.238845144356954
         ],
         "title": {
          "text": "y"
         },
         "type": "linear"
        }
       }
      }
     },
     "metadata": {},
     "output_type": "display_data"
    }
   ],
   "source": [
    "# x and y given as array_like objects\n",
    "import plotly.express as px\n",
    "fig = px.scatter(x=[0, 1, 2, 3, 4], y=[0, 1, 4, 9, 16])\n",
    "fig.show()"
   ]
  },
  {
   "cell_type": "markdown",
   "id": "4d3c5733-0c66-4bf1-99a2-4556acecddd0",
   "metadata": {},
   "source": [
    "**Is there a better graph type for mapping Time Series Data?**\n",
    "<br>change the scatter graph function in the next cell to a *** graph"
   ]
  },
  {
   "cell_type": "code",
   "execution_count": 13,
   "id": "6f079329-9107-49ff-babd-b00df35bb5a1",
   "metadata": {},
   "outputs": [
    {
     "data": {
      "application/vnd.plotly.v1+json": {
       "config": {
        "plotlyServerURL": "https://plot.ly"
       },
       "data": [
        {
         "hovertemplate": "x=%{x}<br>y=%{y}<extra></extra>",
         "legendgroup": "",
         "line": {
          "color": "#636efa",
          "dash": "solid"
         },
         "marker": {
          "symbol": "circle"
         },
         "mode": "lines",
         "name": "",
         "orientation": "v",
         "showlegend": false,
         "type": "scatter",
         "x": {
          "_inputArray": {
           "0": 0,
           "1": 1,
           "2": 2,
           "3": 3,
           "4": 4,
           "bdata": "AAECAwQ=",
           "dtype": "i1",
           "shape": "5"
          },
          "bdata": "AAECAwQ=",
          "dtype": "i1"
         },
         "xaxis": "x",
         "y": {
          "_inputArray": {
           "0": 0,
           "1": 1,
           "2": 4,
           "3": 9,
           "4": 16,
           "bdata": "AAEECRA=",
           "dtype": "i1",
           "shape": "5"
          },
          "bdata": "AAEECRA=",
          "dtype": "i1"
         },
         "yaxis": "y"
        }
       ],
       "layout": {
        "autosize": true,
        "legend": {
         "tracegroupgap": 0
        },
        "margin": {
         "t": 60
        },
        "template": {
         "data": {
          "bar": [
           {
            "error_x": {
             "color": "#2a3f5f"
            },
            "error_y": {
             "color": "#2a3f5f"
            },
            "marker": {
             "line": {
              "color": "#E5ECF6",
              "width": 0.5
             },
             "pattern": {
              "fillmode": "overlay",
              "size": 10,
              "solidity": 0.2
             }
            },
            "type": "bar"
           }
          ],
          "barpolar": [
           {
            "marker": {
             "line": {
              "color": "#E5ECF6",
              "width": 0.5
             },
             "pattern": {
              "fillmode": "overlay",
              "size": 10,
              "solidity": 0.2
             }
            },
            "type": "barpolar"
           }
          ],
          "carpet": [
           {
            "aaxis": {
             "endlinecolor": "#2a3f5f",
             "gridcolor": "white",
             "linecolor": "white",
             "minorgridcolor": "white",
             "startlinecolor": "#2a3f5f"
            },
            "baxis": {
             "endlinecolor": "#2a3f5f",
             "gridcolor": "white",
             "linecolor": "white",
             "minorgridcolor": "white",
             "startlinecolor": "#2a3f5f"
            },
            "type": "carpet"
           }
          ],
          "choropleth": [
           {
            "colorbar": {
             "outlinewidth": 0,
             "ticks": ""
            },
            "type": "choropleth"
           }
          ],
          "contour": [
           {
            "colorbar": {
             "outlinewidth": 0,
             "ticks": ""
            },
            "colorscale": [
             [
              0,
              "#0d0887"
             ],
             [
              0.1111111111111111,
              "#46039f"
             ],
             [
              0.2222222222222222,
              "#7201a8"
             ],
             [
              0.3333333333333333,
              "#9c179e"
             ],
             [
              0.4444444444444444,
              "#bd3786"
             ],
             [
              0.5555555555555556,
              "#d8576b"
             ],
             [
              0.6666666666666666,
              "#ed7953"
             ],
             [
              0.7777777777777778,
              "#fb9f3a"
             ],
             [
              0.8888888888888888,
              "#fdca26"
             ],
             [
              1,
              "#f0f921"
             ]
            ],
            "type": "contour"
           }
          ],
          "contourcarpet": [
           {
            "colorbar": {
             "outlinewidth": 0,
             "ticks": ""
            },
            "type": "contourcarpet"
           }
          ],
          "heatmap": [
           {
            "colorbar": {
             "outlinewidth": 0,
             "ticks": ""
            },
            "colorscale": [
             [
              0,
              "#0d0887"
             ],
             [
              0.1111111111111111,
              "#46039f"
             ],
             [
              0.2222222222222222,
              "#7201a8"
             ],
             [
              0.3333333333333333,
              "#9c179e"
             ],
             [
              0.4444444444444444,
              "#bd3786"
             ],
             [
              0.5555555555555556,
              "#d8576b"
             ],
             [
              0.6666666666666666,
              "#ed7953"
             ],
             [
              0.7777777777777778,
              "#fb9f3a"
             ],
             [
              0.8888888888888888,
              "#fdca26"
             ],
             [
              1,
              "#f0f921"
             ]
            ],
            "type": "heatmap"
           }
          ],
          "histogram": [
           {
            "marker": {
             "pattern": {
              "fillmode": "overlay",
              "size": 10,
              "solidity": 0.2
             }
            },
            "type": "histogram"
           }
          ],
          "histogram2d": [
           {
            "colorbar": {
             "outlinewidth": 0,
             "ticks": ""
            },
            "colorscale": [
             [
              0,
              "#0d0887"
             ],
             [
              0.1111111111111111,
              "#46039f"
             ],
             [
              0.2222222222222222,
              "#7201a8"
             ],
             [
              0.3333333333333333,
              "#9c179e"
             ],
             [
              0.4444444444444444,
              "#bd3786"
             ],
             [
              0.5555555555555556,
              "#d8576b"
             ],
             [
              0.6666666666666666,
              "#ed7953"
             ],
             [
              0.7777777777777778,
              "#fb9f3a"
             ],
             [
              0.8888888888888888,
              "#fdca26"
             ],
             [
              1,
              "#f0f921"
             ]
            ],
            "type": "histogram2d"
           }
          ],
          "histogram2dcontour": [
           {
            "colorbar": {
             "outlinewidth": 0,
             "ticks": ""
            },
            "colorscale": [
             [
              0,
              "#0d0887"
             ],
             [
              0.1111111111111111,
              "#46039f"
             ],
             [
              0.2222222222222222,
              "#7201a8"
             ],
             [
              0.3333333333333333,
              "#9c179e"
             ],
             [
              0.4444444444444444,
              "#bd3786"
             ],
             [
              0.5555555555555556,
              "#d8576b"
             ],
             [
              0.6666666666666666,
              "#ed7953"
             ],
             [
              0.7777777777777778,
              "#fb9f3a"
             ],
             [
              0.8888888888888888,
              "#fdca26"
             ],
             [
              1,
              "#f0f921"
             ]
            ],
            "type": "histogram2dcontour"
           }
          ],
          "mesh3d": [
           {
            "colorbar": {
             "outlinewidth": 0,
             "ticks": ""
            },
            "type": "mesh3d"
           }
          ],
          "parcoords": [
           {
            "line": {
             "colorbar": {
              "outlinewidth": 0,
              "ticks": ""
             }
            },
            "type": "parcoords"
           }
          ],
          "pie": [
           {
            "automargin": true,
            "type": "pie"
           }
          ],
          "scatter": [
           {
            "fillpattern": {
             "fillmode": "overlay",
             "size": 10,
             "solidity": 0.2
            },
            "type": "scatter"
           }
          ],
          "scatter3d": [
           {
            "line": {
             "colorbar": {
              "outlinewidth": 0,
              "ticks": ""
             }
            },
            "marker": {
             "colorbar": {
              "outlinewidth": 0,
              "ticks": ""
             }
            },
            "type": "scatter3d"
           }
          ],
          "scattercarpet": [
           {
            "marker": {
             "colorbar": {
              "outlinewidth": 0,
              "ticks": ""
             }
            },
            "type": "scattercarpet"
           }
          ],
          "scattergeo": [
           {
            "marker": {
             "colorbar": {
              "outlinewidth": 0,
              "ticks": ""
             }
            },
            "type": "scattergeo"
           }
          ],
          "scattergl": [
           {
            "marker": {
             "colorbar": {
              "outlinewidth": 0,
              "ticks": ""
             }
            },
            "type": "scattergl"
           }
          ],
          "scattermap": [
           {
            "marker": {
             "colorbar": {
              "outlinewidth": 0,
              "ticks": ""
             }
            },
            "type": "scattermap"
           }
          ],
          "scattermapbox": [
           {
            "marker": {
             "colorbar": {
              "outlinewidth": 0,
              "ticks": ""
             }
            },
            "type": "scattermapbox"
           }
          ],
          "scatterpolar": [
           {
            "marker": {
             "colorbar": {
              "outlinewidth": 0,
              "ticks": ""
             }
            },
            "type": "scatterpolar"
           }
          ],
          "scatterpolargl": [
           {
            "marker": {
             "colorbar": {
              "outlinewidth": 0,
              "ticks": ""
             }
            },
            "type": "scatterpolargl"
           }
          ],
          "scatterternary": [
           {
            "marker": {
             "colorbar": {
              "outlinewidth": 0,
              "ticks": ""
             }
            },
            "type": "scatterternary"
           }
          ],
          "surface": [
           {
            "colorbar": {
             "outlinewidth": 0,
             "ticks": ""
            },
            "colorscale": [
             [
              0,
              "#0d0887"
             ],
             [
              0.1111111111111111,
              "#46039f"
             ],
             [
              0.2222222222222222,
              "#7201a8"
             ],
             [
              0.3333333333333333,
              "#9c179e"
             ],
             [
              0.4444444444444444,
              "#bd3786"
             ],
             [
              0.5555555555555556,
              "#d8576b"
             ],
             [
              0.6666666666666666,
              "#ed7953"
             ],
             [
              0.7777777777777778,
              "#fb9f3a"
             ],
             [
              0.8888888888888888,
              "#fdca26"
             ],
             [
              1,
              "#f0f921"
             ]
            ],
            "type": "surface"
           }
          ],
          "table": [
           {
            "cells": {
             "fill": {
              "color": "#EBF0F8"
             },
             "line": {
              "color": "white"
             }
            },
            "header": {
             "fill": {
              "color": "#C8D4E3"
             },
             "line": {
              "color": "white"
             }
            },
            "type": "table"
           }
          ]
         },
         "layout": {
          "annotationdefaults": {
           "arrowcolor": "#2a3f5f",
           "arrowhead": 0,
           "arrowwidth": 1
          },
          "autotypenumbers": "strict",
          "coloraxis": {
           "colorbar": {
            "outlinewidth": 0,
            "ticks": ""
           }
          },
          "colorscale": {
           "diverging": [
            [
             0,
             "#8e0152"
            ],
            [
             0.1,
             "#c51b7d"
            ],
            [
             0.2,
             "#de77ae"
            ],
            [
             0.3,
             "#f1b6da"
            ],
            [
             0.4,
             "#fde0ef"
            ],
            [
             0.5,
             "#f7f7f7"
            ],
            [
             0.6,
             "#e6f5d0"
            ],
            [
             0.7,
             "#b8e186"
            ],
            [
             0.8,
             "#7fbc41"
            ],
            [
             0.9,
             "#4d9221"
            ],
            [
             1,
             "#276419"
            ]
           ],
           "sequential": [
            [
             0,
             "#0d0887"
            ],
            [
             0.1111111111111111,
             "#46039f"
            ],
            [
             0.2222222222222222,
             "#7201a8"
            ],
            [
             0.3333333333333333,
             "#9c179e"
            ],
            [
             0.4444444444444444,
             "#bd3786"
            ],
            [
             0.5555555555555556,
             "#d8576b"
            ],
            [
             0.6666666666666666,
             "#ed7953"
            ],
            [
             0.7777777777777778,
             "#fb9f3a"
            ],
            [
             0.8888888888888888,
             "#fdca26"
            ],
            [
             1,
             "#f0f921"
            ]
           ],
           "sequentialminus": [
            [
             0,
             "#0d0887"
            ],
            [
             0.1111111111111111,
             "#46039f"
            ],
            [
             0.2222222222222222,
             "#7201a8"
            ],
            [
             0.3333333333333333,
             "#9c179e"
            ],
            [
             0.4444444444444444,
             "#bd3786"
            ],
            [
             0.5555555555555556,
             "#d8576b"
            ],
            [
             0.6666666666666666,
             "#ed7953"
            ],
            [
             0.7777777777777778,
             "#fb9f3a"
            ],
            [
             0.8888888888888888,
             "#fdca26"
            ],
            [
             1,
             "#f0f921"
            ]
           ]
          },
          "colorway": [
           "#636efa",
           "#EF553B",
           "#00cc96",
           "#ab63fa",
           "#FFA15A",
           "#19d3f3",
           "#FF6692",
           "#B6E880",
           "#FF97FF",
           "#FECB52"
          ],
          "font": {
           "color": "#2a3f5f"
          },
          "geo": {
           "bgcolor": "white",
           "lakecolor": "white",
           "landcolor": "#E5ECF6",
           "showlakes": true,
           "showland": true,
           "subunitcolor": "white"
          },
          "hoverlabel": {
           "align": "left"
          },
          "hovermode": "closest",
          "mapbox": {
           "style": "light"
          },
          "paper_bgcolor": "white",
          "plot_bgcolor": "#E5ECF6",
          "polar": {
           "angularaxis": {
            "gridcolor": "white",
            "linecolor": "white",
            "ticks": ""
           },
           "bgcolor": "#E5ECF6",
           "radialaxis": {
            "gridcolor": "white",
            "linecolor": "white",
            "ticks": ""
           }
          },
          "scene": {
           "xaxis": {
            "backgroundcolor": "#E5ECF6",
            "gridcolor": "white",
            "gridwidth": 2,
            "linecolor": "white",
            "showbackground": true,
            "ticks": "",
            "zerolinecolor": "white"
           },
           "yaxis": {
            "backgroundcolor": "#E5ECF6",
            "gridcolor": "white",
            "gridwidth": 2,
            "linecolor": "white",
            "showbackground": true,
            "ticks": "",
            "zerolinecolor": "white"
           },
           "zaxis": {
            "backgroundcolor": "#E5ECF6",
            "gridcolor": "white",
            "gridwidth": 2,
            "linecolor": "white",
            "showbackground": true,
            "ticks": "",
            "zerolinecolor": "white"
           }
          },
          "shapedefaults": {
           "line": {
            "color": "#2a3f5f"
           }
          },
          "ternary": {
           "aaxis": {
            "gridcolor": "white",
            "linecolor": "white",
            "ticks": ""
           },
           "baxis": {
            "gridcolor": "white",
            "linecolor": "white",
            "ticks": ""
           },
           "bgcolor": "#E5ECF6",
           "caxis": {
            "gridcolor": "white",
            "linecolor": "white",
            "ticks": ""
           }
          },
          "title": {
           "x": 0.05
          },
          "xaxis": {
           "automargin": true,
           "gridcolor": "white",
           "linecolor": "white",
           "ticks": "",
           "title": {
            "standoff": 15
           },
           "zerolinecolor": "white",
           "zerolinewidth": 2
          },
          "yaxis": {
           "automargin": true,
           "gridcolor": "white",
           "linecolor": "white",
           "ticks": "",
           "title": {
            "standoff": 15
           },
           "zerolinecolor": "white",
           "zerolinewidth": 2
          }
         }
        },
        "xaxis": {
         "anchor": "y",
         "autorange": true,
         "domain": [
          0,
          1
         ],
         "range": [
          0,
          4
         ],
         "title": {
          "text": "x"
         },
         "type": "linear"
        },
        "yaxis": {
         "anchor": "x",
         "autorange": true,
         "domain": [
          0,
          1
         ],
         "range": [
          -0.888888888888889,
          16.88888888888889
         ],
         "title": {
          "text": "y"
         },
         "type": "linear"
        }
       }
      }
     },
     "metadata": {},
     "output_type": "display_data"
    }
   ],
   "source": [
    "# x and y given as array_like objects\n",
    "import plotly.express as px\n",
    "fig = px.line(x=[0, 1, 2, 3, 4], y=[0, 1, 4, 9, 16])\n",
    "fig.show()"
   ]
  },
  {
   "cell_type": "markdown",
   "id": "09dacd4d-5a10-4d80-ae77-d7468923550f",
   "metadata": {},
   "source": [
    "Now add our data for the \"Gas_fc\" data frame into this function below.<br> Heres the syntax to help:<br>\n",
    "fig = px.line(**DATAFRAME**,x=**\"COLUMN 1\"**, y=**\"COLUMN 2\"**)\n",
    "<br>paste the introduction test details below to use the **gas_fc** data frame with the x axis being the date and the y axis the price\n"
   ]
  },
  {
   "cell_type": "code",
   "execution_count": 14,
   "id": "d47596e2-d0e9-40cf-bbc7-0939a37beeb1",
   "metadata": {},
   "outputs": [
    {
     "data": {
      "application/vnd.plotly.v1+json": {
       "config": {
        "plotlyServerURL": "https://plot.ly"
       },
       "data": [
        {
         "hovertemplate": "Date=%{x}<br>PRC=%{y}<extra></extra>",
         "legendgroup": "",
         "line": {
          "color": "#636efa",
          "dash": "solid"
         },
         "marker": {
          "symbol": "circle"
         },
         "mode": "lines",
         "name": "",
         "orientation": "v",
         "showlegend": false,
         "type": "scatter",
         "x": [
          "01/08/2025",
          "01/09/2025",
          "01/10/2025",
          "01/11/2025",
          "01/12/2025",
          "01/01/2026",
          "01/02/2026",
          "01/03/2026",
          "01/04/2026",
          "01/05/2026",
          "01/06/2026",
          "01/07/2026",
          "01/08/2026",
          "01/09/2026",
          "01/10/2026",
          "01/11/2026",
          "01/12/2026",
          "01/01/2027",
          "01/02/2027",
          "01/03/2027",
          "01/04/2027",
          "01/05/2027",
          "01/06/2027",
          "01/07/2027",
          "01/08/2027",
          "01/09/2027",
          "01/10/2027",
          "01/11/2027",
          "01/12/2027",
          "01/01/2028",
          "01/02/2028",
          "01/03/2028",
          "01/04/2028",
          "01/05/2028",
          "01/06/2028",
          "01/07/2028",
          "01/08/2028",
          "01/09/2028",
          "01/10/2028",
          "01/11/2028",
          "01/12/2028",
          "01/01/2029",
          "01/02/2029",
          "01/03/2029",
          "01/04/2029",
          "01/05/2029",
          "01/06/2029",
          "01/07/2029",
          "01/08/2029",
          "01/09/2029",
          "01/10/2029",
          "01/11/2029",
          "01/12/2029",
          "01/01/2030",
          "01/02/2030",
          "01/03/2030",
          "01/04/2030",
          "01/05/2030",
          "01/06/2030",
          "01/07/2030",
          "01/08/2030",
          "01/09/2030",
          "01/10/2030",
          "01/11/2030",
          "01/12/2030",
          "01/01/2031",
          "01/02/2031",
          "01/03/2031",
          "01/04/2031",
          "01/05/2031",
          "01/06/2031"
         ],
         "xaxis": "x",
         "y": {
          "_inputArray": {
           "0": 82.73,
           "1": 88.83,
           "10": 83.16,
           "11": 83.65,
           "12": 87.45,
           "13": 87.31,
           "14": 89.87,
           "15": 95.66,
           "16": 93.23,
           "17": 96.26,
           "18": 97.37,
           "19": 91.24,
           "2": 90.86,
           "20": 80.31,
           "21": 78.69,
           "22": 74.94,
           "23": 75.87,
           "24": 75.37,
           "25": 76.95,
           "26": 78.83,
           "27": 83.99,
           "28": 84.23,
           "29": 85.28,
           "3": 96.27,
           "30": 86.5,
           "31": 82.54,
           "32": 74.54,
           "33": 70.13,
           "34": 69.55,
           "35": 67.67,
           "36": 68.62,
           "37": 71.9,
           "38": 76.81,
           "39": 78.17,
           "4": 100.27,
           "40": 79.59,
           "41": 83.13,
           "42": 81.31,
           "43": 79.09,
           "44": 71.53,
           "45": 71.48,
           "46": 70.37,
           "47": 69.61,
           "48": 70.72,
           "49": 70.88,
           "5": 100.02,
           "50": 72.85,
           "51": 74.93,
           "52": 78.01,
           "53": 81.11,
           "54": 84.72,
           "55": 81.27,
           "56": 76.79,
           "57": 71.69,
           "58": 70.65,
           "59": 67.48,
           "6": 100.27,
           "60": 66.81,
           "61": 68.04,
           "62": 79.26,
           "63": 80.87,
           "64": 82.17,
           "65": 82.61,
           "66": 83.79,
           "67": 81.29,
           "68": 80.58,
           "69": 75.59,
           "7": 94.37,
           "70": 72.36,
           "8": 92.98,
           "9": 88.23,
           "bdata": "H4XrUbiuVECF61G4HjVWQNejcD0Kt1ZA4XoUrkcRWEDhehSuRxFZQOF6FK5HAVlA4XoUrkcRWUBI4XoUrpdXQB+F61G4PldAH4XrUbgOVkAK16NwPcpUQJqZmZmZ6VRAzczMzMzcVUCkcD0K19NVQEjhehSud1ZACtejcD3qV0AfhetRuE5XQHE9CtejEFhASOF6FK5XWECPwvUoXM9WQKRwPQrXE1RAXI/C9SisU0Bcj8L1KLxSQEjhehSu91JASOF6FK7XUkDNzMzMzDxTQIXrUbgetVNAj8L1KFz/VEAfhetRuA5VQFK4HoXrUVVAAAAAAACgVUDD9Shcj6JUQMP1KFyPolJAuB6F61GIUUAzMzMzM2NRQHsUrkfh6lBASOF6FK4nUUCamZmZmflRQKRwPQrXM1NAexSuR+GKU0D2KFyPwuVTQLgehetRyFRApHA9CtdTVED2KFyPwsVTQFK4HoXr4VFAH4XrUbjeUUBI4XoUrpdRQNejcD0KZ1FArkfhehSuUUC4HoXrUbhRQGZmZmZmNlJA7FG4HoW7UkBxPQrXo4BTQNejcD0KR1RArkfhehQuVUDhehSuR1FUQMP1KFyPMlNAXI/C9SjsUUCamZmZmalRQB+F61G43lBApHA9CtezUEDD9ShcjwJRQHE9Ctej0FNASOF6FK43VEB7FK5H4YpUQNejcD0Kp1RAw/UoXI/yVEDD9Shcj1JUQIXrUbgeJVRA9ihcj8LlUkDXo3A9ChdSQA==",
           "dtype": "f8",
           "shape": "71"
          },
          "bdata": "H4XrUbiuVECF61G4HjVWQNejcD0Kt1ZA4XoUrkcRWEDhehSuRxFZQOF6FK5HAVlA4XoUrkcRWUBI4XoUrpdXQB+F61G4PldAH4XrUbgOVkAK16NwPcpUQJqZmZmZ6VRAzczMzMzcVUCkcD0K19NVQEjhehSud1ZACtejcD3qV0AfhetRuE5XQHE9CtejEFhASOF6FK5XWECPwvUoXM9WQKRwPQrXE1RAXI/C9SisU0Bcj8L1KLxSQEjhehSu91JASOF6FK7XUkDNzMzMzDxTQIXrUbgetVNAj8L1KFz/VEAfhetRuA5VQFK4HoXrUVVAAAAAAACgVUDD9Shcj6JUQMP1KFyPolJAuB6F61GIUUAzMzMzM2NRQHsUrkfh6lBASOF6FK4nUUCamZmZmflRQKRwPQrXM1NAexSuR+GKU0D2KFyPwuVTQLgehetRyFRApHA9CtdTVED2KFyPwsVTQFK4HoXr4VFAH4XrUbjeUUBI4XoUrpdRQNejcD0KZ1FArkfhehSuUUC4HoXrUbhRQGZmZmZmNlJA7FG4HoW7UkBxPQrXo4BTQNejcD0KR1RArkfhehQuVUDhehSuR1FUQMP1KFyPMlNAXI/C9SjsUUCamZmZmalRQB+F61G43lBApHA9CtezUEDD9ShcjwJRQHE9Ctej0FNASOF6FK43VEB7FK5H4YpUQNejcD0Kp1RAw/UoXI/yVEDD9Shcj1JUQIXrUbgeJVRA9ihcj8LlUkDXo3A9ChdSQA==",
          "dtype": "f8"
         },
         "yaxis": "y"
        }
       ],
       "layout": {
        "autosize": true,
        "legend": {
         "tracegroupgap": 0
        },
        "margin": {
         "t": 60
        },
        "template": {
         "data": {
          "bar": [
           {
            "error_x": {
             "color": "#2a3f5f"
            },
            "error_y": {
             "color": "#2a3f5f"
            },
            "marker": {
             "line": {
              "color": "#E5ECF6",
              "width": 0.5
             },
             "pattern": {
              "fillmode": "overlay",
              "size": 10,
              "solidity": 0.2
             }
            },
            "type": "bar"
           }
          ],
          "barpolar": [
           {
            "marker": {
             "line": {
              "color": "#E5ECF6",
              "width": 0.5
             },
             "pattern": {
              "fillmode": "overlay",
              "size": 10,
              "solidity": 0.2
             }
            },
            "type": "barpolar"
           }
          ],
          "carpet": [
           {
            "aaxis": {
             "endlinecolor": "#2a3f5f",
             "gridcolor": "white",
             "linecolor": "white",
             "minorgridcolor": "white",
             "startlinecolor": "#2a3f5f"
            },
            "baxis": {
             "endlinecolor": "#2a3f5f",
             "gridcolor": "white",
             "linecolor": "white",
             "minorgridcolor": "white",
             "startlinecolor": "#2a3f5f"
            },
            "type": "carpet"
           }
          ],
          "choropleth": [
           {
            "colorbar": {
             "outlinewidth": 0,
             "ticks": ""
            },
            "type": "choropleth"
           }
          ],
          "contour": [
           {
            "colorbar": {
             "outlinewidth": 0,
             "ticks": ""
            },
            "colorscale": [
             [
              0,
              "#0d0887"
             ],
             [
              0.1111111111111111,
              "#46039f"
             ],
             [
              0.2222222222222222,
              "#7201a8"
             ],
             [
              0.3333333333333333,
              "#9c179e"
             ],
             [
              0.4444444444444444,
              "#bd3786"
             ],
             [
              0.5555555555555556,
              "#d8576b"
             ],
             [
              0.6666666666666666,
              "#ed7953"
             ],
             [
              0.7777777777777778,
              "#fb9f3a"
             ],
             [
              0.8888888888888888,
              "#fdca26"
             ],
             [
              1,
              "#f0f921"
             ]
            ],
            "type": "contour"
           }
          ],
          "contourcarpet": [
           {
            "colorbar": {
             "outlinewidth": 0,
             "ticks": ""
            },
            "type": "contourcarpet"
           }
          ],
          "heatmap": [
           {
            "colorbar": {
             "outlinewidth": 0,
             "ticks": ""
            },
            "colorscale": [
             [
              0,
              "#0d0887"
             ],
             [
              0.1111111111111111,
              "#46039f"
             ],
             [
              0.2222222222222222,
              "#7201a8"
             ],
             [
              0.3333333333333333,
              "#9c179e"
             ],
             [
              0.4444444444444444,
              "#bd3786"
             ],
             [
              0.5555555555555556,
              "#d8576b"
             ],
             [
              0.6666666666666666,
              "#ed7953"
             ],
             [
              0.7777777777777778,
              "#fb9f3a"
             ],
             [
              0.8888888888888888,
              "#fdca26"
             ],
             [
              1,
              "#f0f921"
             ]
            ],
            "type": "heatmap"
           }
          ],
          "histogram": [
           {
            "marker": {
             "pattern": {
              "fillmode": "overlay",
              "size": 10,
              "solidity": 0.2
             }
            },
            "type": "histogram"
           }
          ],
          "histogram2d": [
           {
            "colorbar": {
             "outlinewidth": 0,
             "ticks": ""
            },
            "colorscale": [
             [
              0,
              "#0d0887"
             ],
             [
              0.1111111111111111,
              "#46039f"
             ],
             [
              0.2222222222222222,
              "#7201a8"
             ],
             [
              0.3333333333333333,
              "#9c179e"
             ],
             [
              0.4444444444444444,
              "#bd3786"
             ],
             [
              0.5555555555555556,
              "#d8576b"
             ],
             [
              0.6666666666666666,
              "#ed7953"
             ],
             [
              0.7777777777777778,
              "#fb9f3a"
             ],
             [
              0.8888888888888888,
              "#fdca26"
             ],
             [
              1,
              "#f0f921"
             ]
            ],
            "type": "histogram2d"
           }
          ],
          "histogram2dcontour": [
           {
            "colorbar": {
             "outlinewidth": 0,
             "ticks": ""
            },
            "colorscale": [
             [
              0,
              "#0d0887"
             ],
             [
              0.1111111111111111,
              "#46039f"
             ],
             [
              0.2222222222222222,
              "#7201a8"
             ],
             [
              0.3333333333333333,
              "#9c179e"
             ],
             [
              0.4444444444444444,
              "#bd3786"
             ],
             [
              0.5555555555555556,
              "#d8576b"
             ],
             [
              0.6666666666666666,
              "#ed7953"
             ],
             [
              0.7777777777777778,
              "#fb9f3a"
             ],
             [
              0.8888888888888888,
              "#fdca26"
             ],
             [
              1,
              "#f0f921"
             ]
            ],
            "type": "histogram2dcontour"
           }
          ],
          "mesh3d": [
           {
            "colorbar": {
             "outlinewidth": 0,
             "ticks": ""
            },
            "type": "mesh3d"
           }
          ],
          "parcoords": [
           {
            "line": {
             "colorbar": {
              "outlinewidth": 0,
              "ticks": ""
             }
            },
            "type": "parcoords"
           }
          ],
          "pie": [
           {
            "automargin": true,
            "type": "pie"
           }
          ],
          "scatter": [
           {
            "fillpattern": {
             "fillmode": "overlay",
             "size": 10,
             "solidity": 0.2
            },
            "type": "scatter"
           }
          ],
          "scatter3d": [
           {
            "line": {
             "colorbar": {
              "outlinewidth": 0,
              "ticks": ""
             }
            },
            "marker": {
             "colorbar": {
              "outlinewidth": 0,
              "ticks": ""
             }
            },
            "type": "scatter3d"
           }
          ],
          "scattercarpet": [
           {
            "marker": {
             "colorbar": {
              "outlinewidth": 0,
              "ticks": ""
             }
            },
            "type": "scattercarpet"
           }
          ],
          "scattergeo": [
           {
            "marker": {
             "colorbar": {
              "outlinewidth": 0,
              "ticks": ""
             }
            },
            "type": "scattergeo"
           }
          ],
          "scattergl": [
           {
            "marker": {
             "colorbar": {
              "outlinewidth": 0,
              "ticks": ""
             }
            },
            "type": "scattergl"
           }
          ],
          "scattermap": [
           {
            "marker": {
             "colorbar": {
              "outlinewidth": 0,
              "ticks": ""
             }
            },
            "type": "scattermap"
           }
          ],
          "scattermapbox": [
           {
            "marker": {
             "colorbar": {
              "outlinewidth": 0,
              "ticks": ""
             }
            },
            "type": "scattermapbox"
           }
          ],
          "scatterpolar": [
           {
            "marker": {
             "colorbar": {
              "outlinewidth": 0,
              "ticks": ""
             }
            },
            "type": "scatterpolar"
           }
          ],
          "scatterpolargl": [
           {
            "marker": {
             "colorbar": {
              "outlinewidth": 0,
              "ticks": ""
             }
            },
            "type": "scatterpolargl"
           }
          ],
          "scatterternary": [
           {
            "marker": {
             "colorbar": {
              "outlinewidth": 0,
              "ticks": ""
             }
            },
            "type": "scatterternary"
           }
          ],
          "surface": [
           {
            "colorbar": {
             "outlinewidth": 0,
             "ticks": ""
            },
            "colorscale": [
             [
              0,
              "#0d0887"
             ],
             [
              0.1111111111111111,
              "#46039f"
             ],
             [
              0.2222222222222222,
              "#7201a8"
             ],
             [
              0.3333333333333333,
              "#9c179e"
             ],
             [
              0.4444444444444444,
              "#bd3786"
             ],
             [
              0.5555555555555556,
              "#d8576b"
             ],
             [
              0.6666666666666666,
              "#ed7953"
             ],
             [
              0.7777777777777778,
              "#fb9f3a"
             ],
             [
              0.8888888888888888,
              "#fdca26"
             ],
             [
              1,
              "#f0f921"
             ]
            ],
            "type": "surface"
           }
          ],
          "table": [
           {
            "cells": {
             "fill": {
              "color": "#EBF0F8"
             },
             "line": {
              "color": "white"
             }
            },
            "header": {
             "fill": {
              "color": "#C8D4E3"
             },
             "line": {
              "color": "white"
             }
            },
            "type": "table"
           }
          ]
         },
         "layout": {
          "annotationdefaults": {
           "arrowcolor": "#2a3f5f",
           "arrowhead": 0,
           "arrowwidth": 1
          },
          "autotypenumbers": "strict",
          "coloraxis": {
           "colorbar": {
            "outlinewidth": 0,
            "ticks": ""
           }
          },
          "colorscale": {
           "diverging": [
            [
             0,
             "#8e0152"
            ],
            [
             0.1,
             "#c51b7d"
            ],
            [
             0.2,
             "#de77ae"
            ],
            [
             0.3,
             "#f1b6da"
            ],
            [
             0.4,
             "#fde0ef"
            ],
            [
             0.5,
             "#f7f7f7"
            ],
            [
             0.6,
             "#e6f5d0"
            ],
            [
             0.7,
             "#b8e186"
            ],
            [
             0.8,
             "#7fbc41"
            ],
            [
             0.9,
             "#4d9221"
            ],
            [
             1,
             "#276419"
            ]
           ],
           "sequential": [
            [
             0,
             "#0d0887"
            ],
            [
             0.1111111111111111,
             "#46039f"
            ],
            [
             0.2222222222222222,
             "#7201a8"
            ],
            [
             0.3333333333333333,
             "#9c179e"
            ],
            [
             0.4444444444444444,
             "#bd3786"
            ],
            [
             0.5555555555555556,
             "#d8576b"
            ],
            [
             0.6666666666666666,
             "#ed7953"
            ],
            [
             0.7777777777777778,
             "#fb9f3a"
            ],
            [
             0.8888888888888888,
             "#fdca26"
            ],
            [
             1,
             "#f0f921"
            ]
           ],
           "sequentialminus": [
            [
             0,
             "#0d0887"
            ],
            [
             0.1111111111111111,
             "#46039f"
            ],
            [
             0.2222222222222222,
             "#7201a8"
            ],
            [
             0.3333333333333333,
             "#9c179e"
            ],
            [
             0.4444444444444444,
             "#bd3786"
            ],
            [
             0.5555555555555556,
             "#d8576b"
            ],
            [
             0.6666666666666666,
             "#ed7953"
            ],
            [
             0.7777777777777778,
             "#fb9f3a"
            ],
            [
             0.8888888888888888,
             "#fdca26"
            ],
            [
             1,
             "#f0f921"
            ]
           ]
          },
          "colorway": [
           "#636efa",
           "#EF553B",
           "#00cc96",
           "#ab63fa",
           "#FFA15A",
           "#19d3f3",
           "#FF6692",
           "#B6E880",
           "#FF97FF",
           "#FECB52"
          ],
          "font": {
           "color": "#2a3f5f"
          },
          "geo": {
           "bgcolor": "white",
           "lakecolor": "white",
           "landcolor": "#E5ECF6",
           "showlakes": true,
           "showland": true,
           "subunitcolor": "white"
          },
          "hoverlabel": {
           "align": "left"
          },
          "hovermode": "closest",
          "mapbox": {
           "style": "light"
          },
          "paper_bgcolor": "white",
          "plot_bgcolor": "#E5ECF6",
          "polar": {
           "angularaxis": {
            "gridcolor": "white",
            "linecolor": "white",
            "ticks": ""
           },
           "bgcolor": "#E5ECF6",
           "radialaxis": {
            "gridcolor": "white",
            "linecolor": "white",
            "ticks": ""
           }
          },
          "scene": {
           "xaxis": {
            "backgroundcolor": "#E5ECF6",
            "gridcolor": "white",
            "gridwidth": 2,
            "linecolor": "white",
            "showbackground": true,
            "ticks": "",
            "zerolinecolor": "white"
           },
           "yaxis": {
            "backgroundcolor": "#E5ECF6",
            "gridcolor": "white",
            "gridwidth": 2,
            "linecolor": "white",
            "showbackground": true,
            "ticks": "",
            "zerolinecolor": "white"
           },
           "zaxis": {
            "backgroundcolor": "#E5ECF6",
            "gridcolor": "white",
            "gridwidth": 2,
            "linecolor": "white",
            "showbackground": true,
            "ticks": "",
            "zerolinecolor": "white"
           }
          },
          "shapedefaults": {
           "line": {
            "color": "#2a3f5f"
           }
          },
          "ternary": {
           "aaxis": {
            "gridcolor": "white",
            "linecolor": "white",
            "ticks": ""
           },
           "baxis": {
            "gridcolor": "white",
            "linecolor": "white",
            "ticks": ""
           },
           "bgcolor": "#E5ECF6",
           "caxis": {
            "gridcolor": "white",
            "linecolor": "white",
            "ticks": ""
           }
          },
          "title": {
           "x": 0.05
          },
          "xaxis": {
           "automargin": true,
           "gridcolor": "white",
           "linecolor": "white",
           "ticks": "",
           "title": {
            "standoff": 15
           },
           "zerolinecolor": "white",
           "zerolinewidth": 2
          },
          "yaxis": {
           "automargin": true,
           "gridcolor": "white",
           "linecolor": "white",
           "ticks": "",
           "title": {
            "standoff": 15
           },
           "zerolinecolor": "white",
           "zerolinewidth": 2
          }
         }
        },
        "xaxis": {
         "anchor": "y",
         "autorange": true,
         "domain": [
          0,
          1
         ],
         "range": [
          0,
          70
         ],
         "title": {
          "text": "Date"
         },
         "type": "category"
        },
        "yaxis": {
         "anchor": "x",
         "autorange": true,
         "domain": [
          0,
          1
         ],
         "range": [
          64.95111111111112,
          102.12888888888888
         ],
         "title": {
          "text": "PRC"
         },
         "type": "linear"
        }
       }
      }
     },
     "metadata": {},
     "output_type": "display_data"
    }
   ],
   "source": [
    "\n",
    "fig = px.line(gas_fc,x=\"Date\", y=\"PRC\")\n",
    "fig.show()"
   ]
  },
  {
   "cell_type": "markdown",
   "id": "cd855834-95dd-485c-8344-9611f2f411ad",
   "metadata": {},
   "source": [
    "**Now do the same for the gas_volume data frame:**"
   ]
  },
  {
   "cell_type": "code",
   "execution_count": 15,
   "id": "76ae0729-bf3b-440d-b187-26d32fe5ee9e",
   "metadata": {},
   "outputs": [
    {
     "data": {
      "application/vnd.plotly.v1+json": {
       "config": {
        "plotlyServerURL": "https://plot.ly"
       },
       "data": [
        {
         "hovertemplate": "Date=%{x}<br>Volume therms=%{y}<extra></extra>",
         "legendgroup": "",
         "line": {
          "color": "#636efa",
          "dash": "solid"
         },
         "marker": {
          "symbol": "circle"
         },
         "mode": "lines",
         "name": "",
         "orientation": "v",
         "showlegend": false,
         "type": "scatter",
         "x": [
          "Fri 01/08/25",
          "Sat 02/08/25",
          "Sun 03/08/25",
          "Mon 04/08/25",
          "Tue 05/08/25",
          "Wed 06/08/25",
          "Thu 07/08/25",
          "Fri 08/08/25",
          "Sat 09/08/25",
          "Sun 10/08/25",
          "Mon 11/08/25",
          "Tue 12/08/25",
          "Wed 13/08/25",
          "Thu 14/08/25",
          "Fri 15/08/25",
          "Sat 16/08/25",
          "Sun 17/08/25",
          "Mon 18/08/25",
          "Tue 19/08/25",
          "Wed 20/08/25",
          "Thu 21/08/25",
          "Fri 22/08/25",
          "Sat 23/08/25",
          "Sun 24/08/25",
          "Mon 25/08/25",
          "Tue 26/08/25",
          "Wed 27/08/25",
          "Thu 28/08/25",
          "Fri 29/08/25",
          "Sat 30/08/25",
          "Sun 31/08/25",
          "Mon 01/09/25",
          "Tue 02/09/25",
          "Wed 03/09/25",
          "Thu 04/09/25",
          "Fri 05/09/25",
          "Sat 06/09/25",
          "Sun 07/09/25",
          "Mon 08/09/25",
          "Tue 09/09/25",
          "Wed 10/09/25",
          "Thu 11/09/25",
          "Fri 12/09/25",
          "Sat 13/09/25",
          "Sun 14/09/25",
          "Mon 15/09/25",
          "Tue 16/09/25",
          "Wed 17/09/25",
          "Thu 18/09/25",
          "Fri 19/09/25",
          "Sat 20/09/25",
          "Sun 21/09/25",
          "Mon 22/09/25",
          "Tue 23/09/25",
          "Wed 24/09/25",
          "Thu 25/09/25",
          "Fri 26/09/25",
          "Sat 27/09/25",
          "Sun 28/09/25",
          "Mon 29/09/25",
          "Tue 30/09/25",
          "Wed 01/10/25",
          "Thu 02/10/25",
          "Fri 03/10/25",
          "Sat 04/10/25",
          "Sun 05/10/25",
          "Mon 06/10/25",
          "Tue 07/10/25",
          "Wed 08/10/25",
          "Thu 09/10/25",
          "Fri 10/10/25",
          "Sat 11/10/25",
          "Sun 12/10/25",
          "Mon 13/10/25",
          "Tue 14/10/25",
          "Wed 15/10/25",
          "Thu 16/10/25",
          "Fri 17/10/25",
          "Sat 18/10/25",
          "Sun 19/10/25",
          "Mon 20/10/25",
          "Tue 21/10/25",
          "Wed 22/10/25",
          "Thu 23/10/25",
          "Fri 24/10/25",
          "Sat 25/10/25",
          "Sun 26/10/25",
          "Mon 27/10/25",
          "Tue 28/10/25",
          "Wed 29/10/25",
          "Thu 30/10/25",
          "Fri 31/10/25",
          "Sat 01/11/25",
          "Sun 02/11/25",
          "Mon 03/11/25",
          "Tue 04/11/25",
          "Wed 05/11/25",
          "Thu 06/11/25",
          "Fri 07/11/25",
          "Sat 08/11/25",
          "Sun 09/11/25",
          "Mon 10/11/25",
          "Tue 11/11/25",
          "Wed 12/11/25",
          "Thu 13/11/25",
          "Fri 14/11/25",
          "Sat 15/11/25",
          "Sun 16/11/25",
          "Mon 17/11/25",
          "Tue 18/11/25",
          "Wed 19/11/25",
          "Thu 20/11/25",
          "Fri 21/11/25",
          "Sat 22/11/25",
          "Sun 23/11/25",
          "Mon 24/11/25",
          "Tue 25/11/25",
          "Wed 26/11/25",
          "Thu 27/11/25",
          "Fri 28/11/25",
          "Sat 29/11/25",
          "Sun 30/11/25",
          "Mon 01/12/25",
          "Tue 02/12/25",
          "Wed 03/12/25",
          "Thu 04/12/25",
          "Fri 05/12/25",
          "Sat 06/12/25",
          "Sun 07/12/25",
          "Mon 08/12/25",
          "Tue 09/12/25",
          "Wed 10/12/25",
          "Thu 11/12/25",
          "Fri 12/12/25",
          "Sat 13/12/25",
          "Sun 14/12/25",
          "Mon 15/12/25",
          "Tue 16/12/25",
          "Wed 17/12/25",
          "Thu 18/12/25",
          "Fri 19/12/25",
          "Sat 20/12/25",
          "Sun 21/12/25",
          "Mon 22/12/25",
          "Tue 23/12/25",
          "Wed 24/12/25",
          "Thu 25/12/25",
          "Fri 26/12/25",
          "Sat 27/12/25",
          "Sun 28/12/25",
          "Mon 29/12/25",
          "Tue 30/12/25",
          "Wed 31/12/25",
          "Thu 01/01/26",
          "Fri 02/01/26",
          "Sat 03/01/26",
          "Sun 04/01/26",
          "Mon 05/01/26",
          "Tue 06/01/26",
          "Wed 07/01/26",
          "Thu 08/01/26",
          "Fri 09/01/26",
          "Sat 10/01/26",
          "Sun 11/01/26",
          "Mon 12/01/26",
          "Tue 13/01/26",
          "Wed 14/01/26",
          "Thu 15/01/26",
          "Fri 16/01/26",
          "Sat 17/01/26",
          "Sun 18/01/26",
          "Mon 19/01/26",
          "Tue 20/01/26",
          "Wed 21/01/26",
          "Thu 22/01/26",
          "Fri 23/01/26",
          "Sat 24/01/26",
          "Sun 25/01/26",
          "Mon 26/01/26",
          "Tue 27/01/26",
          "Wed 28/01/26",
          "Thu 29/01/26",
          "Fri 30/01/26",
          "Sat 31/01/26",
          "Sun 01/02/26",
          "Mon 02/02/26",
          "Tue 03/02/26",
          "Wed 04/02/26",
          "Thu 05/02/26",
          "Fri 06/02/26",
          "Sat 07/02/26",
          "Sun 08/02/26",
          "Mon 09/02/26",
          "Tue 10/02/26",
          "Wed 11/02/26",
          "Thu 12/02/26",
          "Fri 13/02/26",
          "Sat 14/02/26",
          "Sun 15/02/26",
          "Mon 16/02/26",
          "Tue 17/02/26",
          "Wed 18/02/26",
          "Thu 19/02/26",
          "Fri 20/02/26",
          "Sat 21/02/26",
          "Sun 22/02/26",
          "Mon 23/02/26",
          "Tue 24/02/26",
          "Wed 25/02/26",
          "Thu 26/02/26",
          "Fri 27/02/26",
          "Sat 28/02/26",
          "Sun 01/03/26",
          "Mon 02/03/26",
          "Tue 03/03/26",
          "Wed 04/03/26",
          "Thu 05/03/26",
          "Fri 06/03/26",
          "Sat 07/03/26",
          "Sun 08/03/26",
          "Mon 09/03/26",
          "Tue 10/03/26",
          "Wed 11/03/26",
          "Thu 12/03/26",
          "Fri 13/03/26",
          "Sat 14/03/26",
          "Sun 15/03/26",
          "Mon 16/03/26",
          "Tue 17/03/26",
          "Wed 18/03/26",
          "Thu 19/03/26",
          "Fri 20/03/26",
          "Sat 21/03/26",
          "Sun 22/03/26",
          "Mon 23/03/26",
          "Tue 24/03/26",
          "Wed 25/03/26",
          "Thu 26/03/26",
          "Fri 27/03/26",
          "Sat 28/03/26",
          "Sun 29/03/26",
          "Mon 30/03/26",
          "Tue 31/03/26",
          "Wed 01/04/26",
          "Thu 02/04/26",
          "Fri 03/04/26",
          "Sat 04/04/26",
          "Sun 05/04/26",
          "Mon 06/04/26",
          "Tue 07/04/26",
          "Wed 08/04/26",
          "Thu 09/04/26",
          "Fri 10/04/26",
          "Sat 11/04/26",
          "Sun 12/04/26",
          "Mon 13/04/26",
          "Tue 14/04/26",
          "Wed 15/04/26",
          "Thu 16/04/26",
          "Fri 17/04/26",
          "Sat 18/04/26",
          "Sun 19/04/26",
          "Mon 20/04/26",
          "Tue 21/04/26",
          "Wed 22/04/26",
          "Thu 23/04/26",
          "Fri 24/04/26",
          "Sat 25/04/26",
          "Sun 26/04/26",
          "Mon 27/04/26",
          "Tue 28/04/26",
          "Wed 29/04/26",
          "Thu 30/04/26",
          "Fri 01/05/26",
          "Sat 02/05/26",
          "Sun 03/05/26",
          "Mon 04/05/26",
          "Tue 05/05/26",
          "Wed 06/05/26",
          "Thu 07/05/26",
          "Fri 08/05/26",
          "Sat 09/05/26",
          "Sun 10/05/26",
          "Mon 11/05/26",
          "Tue 12/05/26",
          "Wed 13/05/26",
          "Thu 14/05/26",
          "Fri 15/05/26",
          "Sat 16/05/26",
          "Sun 17/05/26",
          "Mon 18/05/26",
          "Tue 19/05/26",
          "Wed 20/05/26",
          "Thu 21/05/26",
          "Fri 22/05/26",
          "Sat 23/05/26",
          "Sun 24/05/26",
          "Mon 25/05/26",
          "Tue 26/05/26",
          "Wed 27/05/26",
          "Thu 28/05/26",
          "Fri 29/05/26",
          "Sat 30/05/26",
          "Sun 31/05/26",
          "Mon 01/06/26",
          "Tue 02/06/26",
          "Wed 03/06/26",
          "Thu 04/06/26",
          "Fri 05/06/26",
          "Sat 06/06/26",
          "Sun 07/06/26",
          "Mon 08/06/26",
          "Tue 09/06/26",
          "Wed 10/06/26",
          "Thu 11/06/26",
          "Fri 12/06/26",
          "Sat 13/06/26",
          "Sun 14/06/26",
          "Mon 15/06/26",
          "Tue 16/06/26",
          "Wed 17/06/26",
          "Thu 18/06/26",
          "Fri 19/06/26",
          "Sat 20/06/26",
          "Sun 21/06/26",
          "Mon 22/06/26",
          "Tue 23/06/26",
          "Wed 24/06/26",
          "Thu 25/06/26",
          "Fri 26/06/26",
          "Sat 27/06/26",
          "Sun 28/06/26",
          "Mon 29/06/26",
          "Tue 30/06/26",
          "Wed 01/07/26",
          "Thu 02/07/26",
          "Fri 03/07/26",
          "Sat 04/07/26",
          "Sun 05/07/26",
          "Mon 06/07/26",
          "Tue 07/07/26",
          "Wed 08/07/26",
          "Thu 09/07/26",
          "Fri 10/07/26",
          "Sat 11/07/26",
          "Sun 12/07/26",
          "Mon 13/07/26",
          "Tue 14/07/26",
          "Wed 15/07/26",
          "Thu 16/07/26",
          "Fri 17/07/26",
          "Sat 18/07/26",
          "Sun 19/07/26",
          "Mon 20/07/26",
          "Tue 21/07/26",
          "Wed 22/07/26",
          "Thu 23/07/26",
          "Fri 24/07/26",
          "Sat 25/07/26",
          "Sun 26/07/26",
          "Mon 27/07/26",
          "Tue 28/07/26",
          "Wed 29/07/26",
          "Thu 30/07/26",
          "Fri 31/07/26",
          "Sat 01/08/26",
          "Sun 02/08/26",
          "Mon 03/08/26",
          "Tue 04/08/26",
          "Wed 05/08/26",
          "Thu 06/08/26",
          "Fri 07/08/26",
          "Sat 08/08/26",
          "Sun 09/08/26",
          "Mon 10/08/26",
          "Tue 11/08/26",
          "Wed 12/08/26",
          "Thu 13/08/26",
          "Fri 14/08/26",
          "Sat 15/08/26",
          "Sun 16/08/26",
          "Mon 17/08/26",
          "Tue 18/08/26",
          "Wed 19/08/26",
          "Thu 20/08/26",
          "Fri 21/08/26",
          "Sat 22/08/26",
          "Sun 23/08/26",
          "Mon 24/08/26",
          "Tue 25/08/26",
          "Wed 26/08/26",
          "Thu 27/08/26",
          "Fri 28/08/26",
          "Sat 29/08/26",
          "Sun 30/08/26",
          "Mon 31/08/26",
          "Tue 01/09/26",
          "Wed 02/09/26",
          "Thu 03/09/26",
          "Fri 04/09/26",
          "Sat 05/09/26",
          "Sun 06/09/26",
          "Mon 07/09/26",
          "Tue 08/09/26",
          "Wed 09/09/26",
          "Thu 10/09/26",
          "Fri 11/09/26",
          "Sat 12/09/26",
          "Sun 13/09/26",
          "Mon 14/09/26",
          "Tue 15/09/26",
          "Wed 16/09/26",
          "Thu 17/09/26",
          "Fri 18/09/26",
          "Sat 19/09/26",
          "Sun 20/09/26",
          "Mon 21/09/26",
          "Tue 22/09/26",
          "Wed 23/09/26",
          "Thu 24/09/26",
          "Fri 25/09/26",
          "Sat 26/09/26",
          "Sun 27/09/26",
          "Mon 28/09/26",
          "Tue 29/09/26",
          "Wed 30/09/26",
          "Thu 01/10/26",
          "Fri 02/10/26",
          "Sat 03/10/26",
          "Sun 04/10/26",
          "Mon 05/10/26",
          "Tue 06/10/26",
          "Wed 07/10/26",
          "Thu 08/10/26",
          "Fri 09/10/26",
          "Sat 10/10/26",
          "Sun 11/10/26",
          "Mon 12/10/26",
          "Tue 13/10/26",
          "Wed 14/10/26",
          "Thu 15/10/26",
          "Fri 16/10/26",
          "Sat 17/10/26",
          "Sun 18/10/26",
          "Mon 19/10/26",
          "Tue 20/10/26",
          "Wed 21/10/26",
          "Thu 22/10/26",
          "Fri 23/10/26",
          "Sat 24/10/26",
          "Sun 25/10/26",
          "Mon 26/10/26",
          "Tue 27/10/26",
          "Wed 28/10/26",
          "Thu 29/10/26",
          "Fri 30/10/26",
          "Sat 31/10/26",
          "Sun 01/11/26",
          "Mon 02/11/26",
          "Tue 03/11/26",
          "Wed 04/11/26",
          "Thu 05/11/26",
          "Fri 06/11/26",
          "Sat 07/11/26",
          "Sun 08/11/26",
          "Mon 09/11/26",
          "Tue 10/11/26",
          "Wed 11/11/26",
          "Thu 12/11/26",
          "Fri 13/11/26",
          "Sat 14/11/26",
          "Sun 15/11/26",
          "Mon 16/11/26",
          "Tue 17/11/26",
          "Wed 18/11/26",
          "Thu 19/11/26",
          "Fri 20/11/26",
          "Sat 21/11/26",
          "Sun 22/11/26",
          "Mon 23/11/26",
          "Tue 24/11/26",
          "Wed 25/11/26",
          "Thu 26/11/26",
          "Fri 27/11/26",
          "Sat 28/11/26",
          "Sun 29/11/26",
          "Mon 30/11/26",
          "Tue 01/12/26",
          "Wed 02/12/26",
          "Thu 03/12/26",
          "Fri 04/12/26",
          "Sat 05/12/26",
          "Sun 06/12/26",
          "Mon 07/12/26",
          "Tue 08/12/26",
          "Wed 09/12/26",
          "Thu 10/12/26",
          "Fri 11/12/26",
          "Sat 12/12/26",
          "Sun 13/12/26",
          "Mon 14/12/26",
          "Tue 15/12/26",
          "Wed 16/12/26",
          "Thu 17/12/26",
          "Fri 18/12/26",
          "Sat 19/12/26",
          "Sun 20/12/26",
          "Mon 21/12/26",
          "Tue 22/12/26",
          "Wed 23/12/26",
          "Thu 24/12/26",
          "Fri 25/12/26",
          "Sat 26/12/26",
          "Sun 27/12/26",
          "Mon 28/12/26",
          "Tue 29/12/26",
          "Wed 30/12/26",
          "Thu 31/12/26",
          "Fri 01/01/27",
          "Sat 02/01/27",
          "Sun 03/01/27",
          "Mon 04/01/27",
          "Tue 05/01/27",
          "Wed 06/01/27",
          "Thu 07/01/27",
          "Fri 08/01/27",
          "Sat 09/01/27",
          "Sun 10/01/27",
          "Mon 11/01/27",
          "Tue 12/01/27",
          "Wed 13/01/27",
          "Thu 14/01/27",
          "Fri 15/01/27",
          "Sat 16/01/27",
          "Sun 17/01/27",
          "Mon 18/01/27",
          "Tue 19/01/27",
          "Wed 20/01/27",
          "Thu 21/01/27",
          "Fri 22/01/27",
          "Sat 23/01/27",
          "Sun 24/01/27",
          "Mon 25/01/27",
          "Tue 26/01/27",
          "Wed 27/01/27",
          "Thu 28/01/27",
          "Fri 29/01/27",
          "Sat 30/01/27",
          "Sun 31/01/27",
          "Mon 01/02/27",
          "Tue 02/02/27",
          "Wed 03/02/27",
          "Thu 04/02/27",
          "Fri 05/02/27",
          "Sat 06/02/27",
          "Sun 07/02/27",
          "Mon 08/02/27",
          "Tue 09/02/27",
          "Wed 10/02/27",
          "Thu 11/02/27",
          "Fri 12/02/27",
          "Sat 13/02/27",
          "Sun 14/02/27",
          "Mon 15/02/27",
          "Tue 16/02/27",
          "Wed 17/02/27",
          "Thu 18/02/27",
          "Fri 19/02/27",
          "Sat 20/02/27",
          "Sun 21/02/27",
          "Mon 22/02/27",
          "Tue 23/02/27",
          "Wed 24/02/27",
          "Thu 25/02/27",
          "Fri 26/02/27",
          "Sat 27/02/27",
          "Sun 28/02/27",
          "Mon 01/03/27",
          "Tue 02/03/27",
          "Wed 03/03/27",
          "Thu 04/03/27",
          "Fri 05/03/27",
          "Sat 06/03/27",
          "Sun 07/03/27",
          "Mon 08/03/27",
          "Tue 09/03/27",
          "Wed 10/03/27",
          "Thu 11/03/27",
          "Fri 12/03/27",
          "Sat 13/03/27",
          "Sun 14/03/27",
          "Mon 15/03/27",
          "Tue 16/03/27",
          "Wed 17/03/27",
          "Thu 18/03/27",
          "Fri 19/03/27",
          "Sat 20/03/27",
          "Sun 21/03/27",
          "Mon 22/03/27",
          "Tue 23/03/27",
          "Wed 24/03/27",
          "Thu 25/03/27",
          "Fri 26/03/27",
          "Sat 27/03/27",
          "Sun 28/03/27",
          "Mon 29/03/27",
          "Tue 30/03/27",
          "Wed 31/03/27",
          "Thu 01/04/27",
          "Fri 02/04/27",
          "Sat 03/04/27",
          "Sun 04/04/27",
          "Mon 05/04/27",
          "Tue 06/04/27",
          "Wed 07/04/27",
          "Thu 08/04/27",
          "Fri 09/04/27",
          "Sat 10/04/27",
          "Sun 11/04/27",
          "Mon 12/04/27",
          "Tue 13/04/27",
          "Wed 14/04/27",
          "Thu 15/04/27",
          "Fri 16/04/27",
          "Sat 17/04/27",
          "Sun 18/04/27",
          "Mon 19/04/27",
          "Tue 20/04/27",
          "Wed 21/04/27",
          "Thu 22/04/27",
          "Fri 23/04/27",
          "Sat 24/04/27",
          "Sun 25/04/27",
          "Mon 26/04/27",
          "Tue 27/04/27",
          "Wed 28/04/27",
          "Thu 29/04/27",
          "Fri 30/04/27",
          "Sat 01/05/27",
          "Sun 02/05/27",
          "Mon 03/05/27",
          "Tue 04/05/27",
          "Wed 05/05/27",
          "Thu 06/05/27",
          "Fri 07/05/27",
          "Sat 08/05/27",
          "Sun 09/05/27",
          "Mon 10/05/27",
          "Tue 11/05/27",
          "Wed 12/05/27",
          "Thu 13/05/27",
          "Fri 14/05/27",
          "Sat 15/05/27",
          "Sun 16/05/27",
          "Mon 17/05/27",
          "Tue 18/05/27",
          "Wed 19/05/27",
          "Thu 20/05/27",
          "Fri 21/05/27",
          "Sat 22/05/27",
          "Sun 23/05/27",
          "Mon 24/05/27",
          "Tue 25/05/27",
          "Wed 26/05/27",
          "Thu 27/05/27",
          "Fri 28/05/27",
          "Sat 29/05/27",
          "Sun 30/05/27",
          "Mon 31/05/27",
          "Tue 01/06/27",
          "Wed 02/06/27",
          "Thu 03/06/27",
          "Fri 04/06/27",
          "Sat 05/06/27",
          "Sun 06/06/27",
          "Mon 07/06/27",
          "Tue 08/06/27",
          "Wed 09/06/27",
          "Thu 10/06/27",
          "Fri 11/06/27",
          "Sat 12/06/27",
          "Sun 13/06/27",
          "Mon 14/06/27",
          "Tue 15/06/27",
          "Wed 16/06/27",
          "Thu 17/06/27",
          "Fri 18/06/27",
          "Sat 19/06/27",
          "Sun 20/06/27",
          "Mon 21/06/27",
          "Tue 22/06/27",
          "Wed 23/06/27",
          "Thu 24/06/27",
          "Fri 25/06/27",
          "Sat 26/06/27"
         ],
         "xaxis": "x",
         "y": {
          "_inputArray": {
           "0": 4059.61,
           "1": 3354.2,
           "10": 4507.52,
           "100": 7974.04,
           "101": 9233.27,
           "102": 9166.2,
           "103": 9397.47,
           "104": 10040.99,
           "105": 9352.21,
           "106": 6932.73,
           "107": 6824.5,
           "108": 8984.88,
           "109": 9483.75,
           "11": 4461.02,
           "110": 9530.33,
           "111": 9160.43,
           "112": 9632.3,
           "113": 8560.25,
           "114": 8864.68,
           "115": 11300.6,
           "116": 11295.26,
           "117": 11977.14,
           "118": 12760.23,
           "119": 12309.73,
           "12": 4430.74,
           "120": 10448.29,
           "121": 9882.55,
           "122": 12085.97,
           "123": 11775.79,
           "124": 12184.36,
           "125": 11851.53,
           "126": 10062.87,
           "127": 7934.03,
           "128": 7879.6,
           "129": 9914.3,
           "13": 4424.52,
           "130": 10026.73,
           "131": 10873.46,
           "132": 10813.37,
           "133": 9910.51,
           "134": 7579.29,
           "135": 7543.05,
           "136": 9348,
           "137": 10031.18,
           "138": 10053.45,
           "139": 9703.61,
           "14": 4120.55,
           "140": 9137.61,
           "141": 6168.35,
           "142": 5827.49,
           "143": 6068.05,
           "144": 6655.78,
           "145": 7457.7,
           "146": 7200.76,
           "147": 7516.21,
           "148": 6818.85,
           "149": 7090.7,
           "15": 3248.44,
           "150": 6885.91,
           "151": 9999.56,
           "152": 9986.66,
           "153": 10503.77,
           "154": 10092.83,
           "155": 8478.79,
           "156": 9194.56,
           "157": 12700.81,
           "158": 12831.72,
           "159": 12447.26,
           "16": 3350.7,
           "160": 12058.9,
           "161": 11240.45,
           "162": 9029.14,
           "163": 9362.72,
           "164": 12857.03,
           "165": 12947.39,
           "166": 13398.02,
           "167": 13661.84,
           "168": 12527.08,
           "169": 9689.41,
           "17": 4416.63,
           "170": 8412.23,
           "171": 10638.43,
           "172": 10199.81,
           "173": 9874.55,
           "174": 9601.58,
           "175": 9617.94,
           "176": 8107.88,
           "177": 7926.22,
           "178": 9798.71,
           "179": 10380.3,
           "18": 4414.92,
           "180": 10526.56,
           "181": 11057.53,
           "182": 9624.91,
           "183": 7436.1,
           "184": 7465.93,
           "185": 9759.05,
           "186": 9801.14,
           "187": 10847.84,
           "188": 11745.16,
           "189": 10047.66,
           "19": 4420.92,
           "190": 7869.9,
           "191": 8312.08,
           "192": 11043.69,
           "193": 10709.49,
           "194": 9644.62,
           "195": 8884.74,
           "196": 8594.57,
           "197": 6917.4,
           "198": 6895,
           "199": 9394.35,
           "2": 3306.1,
           "20": 4481.87,
           "200": 9591.02,
           "201": 9830.42,
           "202": 10730.44,
           "203": 10329.34,
           "204": 8532.62,
           "205": 9152.8,
           "206": 11537.5,
           "207": 11328.43,
           "208": 10674.32,
           "209": 10569.59,
           "21": 4289.65,
           "210": 10589.59,
           "211": 8672.66,
           "212": 8650.57,
           "213": 11185.19,
           "214": 10507.52,
           "215": 10648.05,
           "216": 10866.31,
           "217": 10181.23,
           "218": 7800.4,
           "219": 7986.17,
           "22": 3434.05,
           "220": 10285.28,
           "221": 9542.13,
           "222": 9035.51,
           "223": 8661.06,
           "224": 8224.74,
           "225": 6901.61,
           "226": 6603.17,
           "227": 8484.18,
           "228": 8281.2,
           "229": 8257.75,
           "23": 3493.52,
           "230": 8509.26,
           "231": 8567.51,
           "232": 7533.86,
           "233": 7303.81,
           "234": 9629.81,
           "235": 9292.75,
           "236": 9513.49,
           "237": 9583.45,
           "238": 7858.79,
           "239": 6634.17,
           "24": 3509.19,
           "240": 6830.59,
           "241": 7406.61,
           "242": 8222.66,
           "243": 8196.17,
           "244": 7887.73,
           "245": 7248.92,
           "246": 5224.84,
           "247": 5608.07,
           "248": 7387.45,
           "249": 8570.62,
           "25": 4787.16,
           "250": 8338.1,
           "251": 7110.12,
           "252": 6343.34,
           "253": 5292.34,
           "254": 5886.47,
           "255": 8688.33,
           "256": 8465.12,
           "257": 8833.68,
           "258": 8744.34,
           "259": 7848.47,
           "26": 4811.85,
           "260": 6403.88,
           "261": 6579.17,
           "262": 8816.77,
           "263": 8730.7,
           "264": 8823.8,
           "265": 9037.06,
           "266": 8317.25,
           "267": 6825.47,
           "268": 6845.36,
           "269": 8023.89,
           "27": 4864.37,
           "270": 7035.1,
           "271": 6581.77,
           "272": 6660.64,
           "273": 6672,
           "274": 5277.42,
           "275": 5041.94,
           "276": 4980.12,
           "277": 6096.96,
           "278": 5882.79,
           "279": 5668.3,
           "28": 4291.96,
           "280": 5115.46,
           "281": 4077.22,
           "282": 4072.07,
           "283": 5614.76,
           "284": 5779.76,
           "285": 5751.28,
           "286": 5906.59,
           "287": 5296.27,
           "288": 4251.7,
           "289": 4278.74,
           "29": 3289.11,
           "290": 5765.81,
           "291": 5920.59,
           "292": 6182.63,
           "293": 6419.84,
           "294": 5838.63,
           "295": 4466.81,
           "296": 4464.9,
           "297": 4487.91,
           "298": 5502.34,
           "299": 5403.44,
           "3": 4716.04,
           "30": 3315.53,
           "300": 5461.12,
           "301": 5545.29,
           "302": 4427.25,
           "303": 3922.16,
           "304": 5170.49,
           "305": 5322.29,
           "306": 5560.82,
           "307": 5497.1,
           "308": 5036.48,
           "309": 4074.84,
           "31": 4350.17,
           "310": 4241.67,
           "311": 5748.42,
           "312": 5802.09,
           "313": 5722.68,
           "314": 5835.14,
           "315": 5067.97,
           "316": 4182.25,
           "317": 4064.75,
           "318": 5180.81,
           "319": 5185.14,
           "32": 4351.13,
           "320": 5103.55,
           "321": 4955.13,
           "322": 4556.07,
           "323": 3654.25,
           "324": 3631.39,
           "325": 4736.95,
           "326": 4722.45,
           "327": 4715.69,
           "328": 4747.08,
           "329": 4555.88,
           "33": 4346.26,
           "330": 3650.79,
           "331": 3884.34,
           "332": 5125.84,
           "333": 5137.91,
           "334": 5175.11,
           "335": 5151.88,
           "336": 4726.44,
           "337": 3905.3,
           "338": 3971.18,
           "339": 5109.11,
           "34": 4344.36,
           "340": 5021.01,
           "341": 4964.91,
           "342": 5008.11,
           "343": 4717.19,
           "344": 3790.74,
           "345": 3809.25,
           "346": 4946.67,
           "347": 4938.39,
           "348": 4765.18,
           "349": 4692.02,
           "35": 4025.27,
           "350": 4138.73,
           "351": 3246.46,
           "352": 3257.19,
           "353": 4159.28,
           "354": 4155.45,
           "355": 4179.51,
           "356": 4197.8,
           "357": 4197.66,
           "358": 3322.56,
           "359": 3253.25,
           "36": 3198.15,
           "360": 4141.87,
           "361": 4144.12,
           "362": 4144.39,
           "363": 4175.08,
           "364": 4177.44,
           "365": 3281.86,
           "366": 3310.94,
           "367": 4735.18,
           "368": 4735.42,
           "369": 4796.92,
           "37": 3298.76,
           "370": 4791.84,
           "371": 4400.03,
           "372": 3522.04,
           "373": 3578.48,
           "374": 4715.37,
           "375": 4726.56,
           "376": 4743.35,
           "377": 4802.68,
           "378": 4483.73,
           "379": 3636.25,
           "38": 4349.32,
           "380": 3692.69,
           "381": 4940.16,
           "382": 4889.36,
           "383": 4963.33,
           "384": 4928.33,
           "385": 4544.21,
           "386": 3677.52,
           "387": 3715.17,
           "388": 3636.18,
           "389": 4832.28,
           "39": 4489.81,
           "390": 4773.87,
           "391": 4864.53,
           "392": 4544.3,
           "393": 3687.77,
           "394": 3668.35,
           "395": 4804.26,
           "396": 4875.93,
           "397": 5054.6,
           "398": 5108.41,
           "399": 4559.34,
           "4": 4742.15,
           "40": 4606.02,
           "400": 3660.84,
           "401": 3761.39,
           "402": 5169.06,
           "403": 5363.99,
           "404": 5851.42,
           "405": 6196.1,
           "406": 5716.75,
           "407": 4194.54,
           "408": 4189.79,
           "409": 5317.93,
           "41": 4616.22,
           "410": 5262.9,
           "411": 5142.26,
           "412": 5072.69,
           "413": 4730.44,
           "414": 3743.54,
           "415": 3971.74,
           "416": 5395.4,
           "417": 5564.78,
           "418": 5836.64,
           "419": 5955.54,
           "42": 4232.03,
           "420": 6088.96,
           "421": 5004.02,
           "422": 5288.14,
           "423": 7328.9,
           "424": 7460.48,
           "425": 7179.07,
           "426": 7353.24,
           "427": 6904.84,
           "428": 5464.53,
           "429": 5625.57,
           "43": 3403.74,
           "430": 6655.98,
           "431": 6768.89,
           "432": 7084.74,
           "433": 8111.13,
           "434": 7929.33,
           "435": 6564.38,
           "436": 6976.08,
           "437": 8766.11,
           "438": 7945.03,
           "439": 6921.48,
           "44": 3491.18,
           "440": 6719.16,
           "441": 6664,
           "442": 5338.68,
           "443": 5574.22,
           "444": 7483.04,
           "445": 7541.76,
           "446": 7637.7,
           "447": 7469.4,
           "448": 6890.65,
           "449": 5872.94,
           "45": 4744.63,
           "450": 6288.54,
           "451": 7619.47,
           "452": 7526.36,
           "453": 7818.59,
           "454": 8087.27,
           "455": 7527.88,
           "456": 6070.96,
           "457": 6523.25,
           "458": 8616.4,
           "459": 8728.27,
           "46": 4774.5,
           "460": 8633.6,
           "461": 8910.2,
           "462": 8695.47,
           "463": 7402.62,
           "464": 7190.85,
           "465": 9458.9,
           "466": 9713.61,
           "467": 9578.52,
           "468": 9500.91,
           "469": 9155.23,
           "47": 4813.48,
           "470": 7514.58,
           "471": 7896.21,
           "472": 10879,
           "473": 12115.18,
           "474": 12600.83,
           "475": 13181.63,
           "476": 11800.47,
           "477": 8492.25,
           "478": 7386.47,
           "479": 9809.02,
           "48": 4964.53,
           "480": 10354.76,
           "481": 11399.23,
           "482": 11875.61,
           "483": 10309.06,
           "484": 7249.64,
           "485": 7073.33,
           "486": 10103.42,
           "487": 10935.15,
           "488": 11001.39,
           "489": 10116.44,
           "49": 4886.78,
           "490": 9744.3,
           "491": 8798.46,
           "492": 8818.39,
           "493": 11183.36,
           "494": 11466.16,
           "495": 11547.71,
           "496": 11336.63,
           "497": 10789.76,
           "498": 8640.38,
           "499": 8037.15,
           "5": 4520.77,
           "50": 3903.1,
           "500": 10037.86,
           "501": 10269.2,
           "502": 9599.99,
           "503": 10930.57,
           "504": 10377.59,
           "505": 8353.86,
           "506": 9202.07,
           "507": 9633.64,
           "508": 7696.83,
           "509": 6947.96,
           "51": 3723.84,
           "510": 7383.3,
           "511": 8620.99,
           "512": 8065.2,
           "513": 7861.89,
           "514": 8238.93,
           "515": 7864.76,
           "516": 7644.74,
           "517": 10436.89,
           "518": 10992.24,
           "519": 10217.37,
           "52": 5154.9,
           "520": 9621.55,
           "521": 12848.01,
           "522": 13090.47,
           "523": 13681.31,
           "524": 13962.26,
           "525": 13214.93,
           "526": 10625.37,
           "527": 10643.71,
           "528": 12821.12,
           "529": 11340.22,
           "53": 5178.56,
           "530": 10927.26,
           "531": 11333.87,
           "532": 10699.43,
           "533": 9421.98,
           "534": 10068.14,
           "535": 12376.57,
           "536": 12275.36,
           "537": 12334.24,
           "538": 12404.99,
           "539": 10652.22,
           "54": 5232.1,
           "540": 8918.88,
           "541": 9545.33,
           "542": 11688.57,
           "543": 11209.78,
           "544": 11361.86,
           "545": 11760.74,
           "546": 10707.56,
           "547": 8907.35,
           "548": 8971.37,
           "549": 11225.5,
           "55": 5256.31,
           "550": 10981.71,
           "551": 11143.45,
           "552": 11688.46,
           "553": 11804.79,
           "554": 9383.95,
           "555": 9512.16,
           "556": 12639.06,
           "557": 12310.3,
           "558": 12107.87,
           "559": 12441.23,
           "56": 4908.57,
           "560": 11666.45,
           "561": 9393.17,
           "562": 9843.03,
           "563": 12777.31,
           "564": 12615.59,
           "565": 12000.02,
           "566": 10145.28,
           "567": 8546.76,
           "568": 6986.44,
           "569": 7494.12,
           "57": 4059.97,
           "570": 9352.41,
           "571": 9978.21,
           "572": 10685.87,
           "573": 10640.17,
           "574": 10009.37,
           "575": 8312.22,
           "576": 8520.66,
           "577": 10766.03,
           "578": 10616.79,
           "579": 10270.55,
           "58": 4242.81,
           "580": 9385.23,
           "581": 8172.46,
           "582": 6269.34,
           "583": 6386.76,
           "584": 9236.27,
           "585": 10093.67,
           "586": 10763.74,
           "587": 11123.78,
           "588": 10231.98,
           "589": 8352.8,
           "59": 5681.36,
           "590": 8417.43,
           "591": 11034.99,
           "592": 10639.52,
           "593": 9697.87,
           "594": 8525.29,
           "595": 7565.17,
           "596": 5907.06,
           "597": 6612.74,
           "598": 8761.47,
           "599": 8677.97,
           "6": 4406.22,
           "60": 5950.99,
           "600": 8343.36,
           "601": 8376.83,
           "602": 8179.33,
           "603": 6637.5,
           "604": 6354.15,
           "605": 7989.89,
           "606": 7983.53,
           "607": 7773.83,
           "608": 7264.25,
           "609": 6350.69,
           "61": 5969.81,
           "610": 5457.2,
           "611": 5786.26,
           "612": 7744.28,
           "613": 7754.2,
           "614": 8015.43,
           "615": 7585.88,
           "616": 6248.74,
           "617": 4732.19,
           "618": 5399.97,
           "619": 7236.67,
           "62": 5887.98,
           "620": 7287.43,
           "621": 7427.46,
           "622": 6942.17,
           "623": 6059.55,
           "624": 5163.7,
           "625": 5231.58,
           "626": 6079.34,
           "627": 6703.38,
           "628": 6928.67,
           "629": 6762.55,
           "63": 5260.03,
           "630": 6743.35,
           "631": 4968.14,
           "632": 4601.71,
           "633": 5626.89,
           "634": 5396.47,
           "635": 5205.96,
           "636": 5099.22,
           "637": 4871.45,
           "638": 4541.86,
           "639": 5292.81,
           "64": 4161.3,
           "640": 5789.63,
           "641": 7032.15,
           "642": 6817.97,
           "643": 6819.44,
           "644": 5766.68,
           "645": 4195.12,
           "646": 4063.19,
           "647": 5182.48,
           "648": 5166.34,
           "649": 5374.59,
           "65": 4206.37,
           "650": 5822.15,
           "651": 5193.16,
           "652": 4156.78,
           "653": 4379.29,
           "654": 5706.67,
           "655": 5462.05,
           "656": 5544.23,
           "657": 5880.95,
           "658": 5214.73,
           "659": 4057.14,
           "66": 5463.68,
           "660": 4080.44,
           "661": 4199.96,
           "662": 5188.33,
           "663": 4953.93,
           "664": 4742.93,
           "665": 4624.57,
           "666": 3704.45,
           "667": 3554.99,
           "668": 4787.33,
           "669": 4969.22,
           "67": 5494.65,
           "670": 5008.79,
           "671": 5113.61,
           "672": 4615.96,
           "673": 3869.36,
           "674": 3906.22,
           "675": 4995.98,
           "676": 4813.06,
           "677": 4632.21,
           "678": 4507.09,
           "679": 4051.02,
           "68": 5853.57,
           "680": 3274.25,
           "681": 3393.09,
           "682": 4450.52,
           "683": 4448.35,
           "684": 4436.62,
           "685": 4412.8,
           "686": 4028.4,
           "687": 3239.83,
           "688": 3334.48,
           "689": 4511.69,
           "69": 6296.92,
           "690": 4483.33,
           "691": 4457.98,
           "692": 4473.83,
           "693": 4070.47,
           "694": 3254.41,
           "7": 4095.12,
           "70": 6111.37,
           "71": 5659.85,
           "72": 6351.65,
           "73": 8489.57,
           "74": 8023.19,
           "75": 7525.36,
           "76": 6573.86,
           "77": 6627.57,
           "78": 5580.36,
           "79": 5855.14,
           "8": 3257.58,
           "80": 7681.1,
           "81": 7746.84,
           "82": 8006.73,
           "83": 7871.1,
           "84": 7503.25,
           "85": 5966.51,
           "86": 6144.61,
           "87": 8013.96,
           "88": 8058.41,
           "89": 8474.55,
           "9": 3372.31,
           "90": 9026.21,
           "91": 8372.53,
           "92": 7042.62,
           "93": 7088.69,
           "94": 9194.33,
           "95": 9334.59,
           "96": 9436.35,
           "97": 9707.53,
           "98": 9387.41,
           "99": 7749.92,
           "bdata": "H4XrUTi3r0BmZmZmZjSqQDMzMzMz1KlA16NwPQpsskBmZmZmJoayQOxRuB7FqLFAH4XrUTg2sUAK16NwPf6vQFyPwvUoc6lAhetRuJ5YqkDsUbgehZuxQOxRuB4FbbFACtejcL1OsUDsUbgehUixQM3MzMyMGLBAexSuR+FgqUBmZmZmZi2qQHsUrkehQLFAUrgehes+sUBSuB6F60SxQIXrUbjegbFAZmZmZqbBsECamZmZGdSqQNejcD0KS6tAexSuR2Fqq0Bcj8L1KLOyQJqZmZnZy7JAhetRuF4As0ApXI/C9cOwQB+F61E4sqlAw/UoXA/nqUBSuB6FK/6wQHsUrkch/7BA9ihcj0L6sECPwvUoXPiwQNejcD2Kcq9AzczMzEz8qEDsUbgehcWpQLgehetR/bBAw/UoXM+JsUDsUbgeBf6xQB+F61E4CLJA4XoUrgeIsEAUrkfhepeqQI/C9ShcRqtAexSuR6GIskAAAAAAgKayQBSuR+F6zbJA4XoUrodks0DhehSuxxazQDMzMzMzfq5ASOF6FK4XrUBmZmZm5iK0QMP1KFyPOrRAmpmZmRlwtEDD9ShcT4i0QLgeheuRLLNAPQrXo/C3r0DD9Shcz5KwQI/C9ShcMbZACtejcP0+t0DD9Shcz1G3QBSuR+H6/7ZA4XoUrgeMtEDNzMzMTEGwQIXrUbhebrBASOF6FK5XtUBmZmZmpna1QLgeheuR3bZAUrgeheuYuECF61G4Xt+3QJqZmZnZG7ZAZmZmZqbPuEBcj8L1yJTAQD0K16MwV79Aj8L1KFxlvUCPwvUo3K25QLgeheuR47lAj8L1KFzMtUBxPQrXI9+2QJqZmZkZAb5ApHA9CtdCvkAUrkfhuka/QJqZmZkZv75AAAAAAEBPvUD2KFyPgk63QI/C9SicALhAKVyPwvVNv0Bcj8L1aHq/QGZmZmZGjcBAFK5H4RqhwUBxPQrXQ1rAQIXrUbiegrtAPQrXo7Cwu0DXo3A9KvXBQFK4HoVLO8JAzczMzCxuwkBxPQrXw/XCQK5H4Xq0VcJAUrgehetFvkDXo3A9Cia/QPYoXI+iCMJAmpmZmRnnwUCPwvUovFrCQIXrUbh+nMNAFK5H4RpEwkAUrkfhuhS7QAAAAACAqLpAPQrXo3CMwUAAAAAA4IXCQNejcD0qncJApHA9CjfkwUBmZmZmJtDCQAAAAAAguMBApHA9CldQwUDNzMzMTBLGQHsUrkehD8ZAuB6F65Fkx0AK16NwHezIQArXo3DdCshA7FG4HiVoxEBmZmZmRk3DQI/C9Sj8msdA7FG4HuX/xkBI4XoULszHQHE9CtfDJcdAw/UoXG+nw0DhehSuB/6+QJqZmZmZx75AZmZmZiZdw0AK16NwXZXDQBSuR+G6PMVAw/UoXK8exUB7FK5HQVvDQNejcD1Km71AzczMzAx3vUAAAAAAAELCQKRwPQqXl8NAmpmZmbmiw0BI4XoUzvPCQEjhehTO2MFAmpmZmVkYuEAK16NwfcO2QM3MzMwMtLdA4XoUrsf/uUAzMzMzsyG9QPYoXI/CILxAKVyPwjVcvUCamZmZ2aK6QDMzMzOzsrtAXI/C9ejlukDhehSux4fDQK5H4XpUgcNA9ihcj+KDxEDXo3A9arbDQOxRuB5lj8BA4XoUrkf1wUDhehSuZ87IQI/C9SjcD8lAexSuR6FPyEAzMzMzc43HQJqZmZk59MVAuB6F65GiwUCPwvUoXEnCQHE9CteDHMlAuB6F67FJyUD2KFyPAivKQFK4HoXrrspA16NwPYp3yECuR+F6tOzCQArXo3AdbsBApHA9CjfHxEDhehSu5+vDQGZmZmZGScNA16NwPcrAwkAfhetR+MjCQHsUrkfhq79AH4XrUTj2vkAUrkfhWiPDQGZmZmYmRsRA4XoUrkePxEBxPQrXw5jFQK5H4Xp0zMJAmpmZmRkMvUBI4XoU7im9QGZmZmaGD8NAuB6F65Ekw0BSuB6F6y/FQK5H4XqU8MZArkfhetSfw0BmZmZm5r2+QNejcD0KPMBAH4XrUdiRxUCF61G4vurEQMP1KFxP1sJAhetRuF5awUBcj8L1SMnAQGZmZmZmBbtAAAAAAADvukDNzMzMLFnCQPYoXI+Cu8JAKVyPwjUzw0AfhetROPXEQFK4HoWrLMRAw/UoXE+qwEBmZmZmZuDBQAAAAADAiMZApHA9CjcgxkBcj8L1KNnEQFK4HoXLpMRAUrgehcuuxECuR+F6VPDAQFyPwvVI5cBAH4XrUZjYxUD2KFyPwoXEQGZmZmYGzMRA4XoUric5xUAK16NwneLDQGZmZmZmeL5AUrgehSsyv0BxPQrXoxbEQD0K16MQo8JAexSuR8GlwUDhehSuh+rAQIXrUbheEMBAj8L1KJz1ukBSuB6FK8u5QKRwPQoXksBAmpmZmZkswEAAAAAA4CDAQHsUrkehnsBAexSuR8G7wECPwvUo3G29QMP1KFzPh7xA4XoUrufOwkAAAAAAYCbCQIXrUbi+lMJAmpmZmbm3wkDXo3A9yrK+QFK4HoUr6rlApHA9CpeuukCPwvUonO68QK5H4XpUD8BAKVyPwhUCwEAUrkfhus++QFK4HoXrULxApHA9CtdotEC4HoXrEei1QDMzMzNz27xAw/UoXE+9wEDNzMzMDEnAQIXrUbgexrtApHA9ClfHuECkcD0KV6y0QB+F61F4/rZA16NwPSr4wEDD9Shcj4jAQKRwPQrXQMFAUrgehSsUwUAfhetReKi+QHsUrkfhA7lAUrgehSuzuUD2KFyPYjjBQJqZmZlZDcFAZmZmZuY7wUDhehSuh6bBQAAAAACgPsBAH4XrUXipukCPwvUoXL26QHE9CtfjV79AmpmZmRl7u0DsUbgexbW5QHE9CtejBLpAAAAAAAAQukBSuB6Fa520QD0K16PwsbNAhetRuB50s0ApXI/C9dC3QNejcD3K+rZAzczMzEwktkApXI/CdfuzQD0K16Nw2q9AcT0K1yPQr0D2KFyPwu61QPYoXI/Ck7ZA4XoUrkd3tkCkcD0KlxK3QOxRuB5FsLRAMzMzM7ObsEAK16NwvbawQMP1KFzPhbZApHA9Cpcgt0B7FK5HoSa4QKRwPQrXE7lAexSuR6HOtkDD9Shcz3KxQGZmZmbmcLFAXI/C9eiHsUCkcD0KV361QD0K16NwG7VAhetRuB5VtUDXo3A9Sqm1QAAAAABAS7FAuB6F61GkrkAK16NwfTK0QNejcD1KyrRAuB6F69G4tUCamZmZGXm1QBSuR+F6rLNASOF6FK7Vr0BSuB6Fq5GwQFK4HoVrdLZApHA9CheqtkBI4XoUrlq2QHE9Ctcjy7ZAH4XrUfjLs0AAAAAAQFawQAAAAACAwa9Aw/UoXM88tEBxPQrXI0G0QM3MzMyM77NAexSuRyFbs0C4HoXrEcyxQAAAAACAjKxA4XoUrsderEAzMzMz84CyQDMzMzNzcrJAPQrXo7BrskCuR+F6FIuyQHsUrkfhy7FArkfhepSFrEBI4XoUrliuQKRwPQrXBbRAXI/C9egRtECPwvUoHDe0QHsUrkfhH7RAPQrXo3B2skCamZmZmYKuQI/C9ShcBq9Aj8L1KBz1s0D2KFyPAp2zQFyPwvXoZLNAj8L1KByQs0A9CtejMG2yQBSuR+F6na1AAAAAAIDCrUBSuB6Fq1KzQHE9CtdjSrNASOF6FC6dskDsUbgeBVSyQBSuR+G6KrBAUrgehetcqUB7FK5HYXKpQOF6FK5HP7BAMzMzM3M7sED2KFyPglOwQM3MzMzMZbBAXI/C9ahlsECF61G4HvWpQAAAAACAaqlAhetRuN4tsECF61G4HjCwQHE9CtdjMLBArkfhehRPsEA9CtejcFGwQB+F61G4o6lAexSuR+HdqUBI4XoULn+yQFK4HoVrf7JAUrgeheu8skCkcD0K17eyQOF6FK4HMLFArkfhehSEq0ApXI/C9fSrQIXrUbhea7JAw/UoXI92skCamZmZWYeyQEjhehSuwrJAFK5H4bqDsUAAAAAAgGisQHsUrkdh2axAXI/C9ShMs0CPwvUoXBmzQK5H4XpUY7NArkfhelRAs0ApXI/CNcCxQNejcD0Ku6xApHA9ClcGrUCPwvUoXGisQOF6FK5H4LJAhetRuN6lskDhehSuhwCzQM3MzMxMwLFA16NwPYrPrEAzMzMzs6isQPYoXI9CxLJASOF6FO4Ls0CamZmZmb6zQFyPwvVo9LNApHA9ClfPsUBI4XoUrpmsQOF6FK7HYq1Aw/UoXA8xtEAK16Nw/fO0QFK4HoVr27ZAmpmZmRk0uEAAAAAAwFS2QNejcD2KYrBA16NwPcpdsEBI4XoU7sW0QGZmZmbmjrRA9ihcj0IWtEA9CtejsNCzQD0K16NwerJArkfhehQ/rUAUrkfhegevQGZmZmZmE7VA4XoUrse8tUBxPQrXo8y2QNejcD2KQ7dAKVyPwvXIt0DsUbgeBYyzQHE9CtcjqLRAZmZmZuagvEAUrkfheiS9QLgehesRC7xACtejcD25vECkcD0K1/i6QOF6FK6HWLVAuB6F65H5tUAUrkfh+v+5QHE9CtfjcLpACtejcL2su0B7FK5HIa+/QK5H4XpU+b5AexSuR2GkuUCuR+F6FEC7QEjhehQOH8FA4XoUrgcJv0AUrkfhegm7QFyPwvUoP7pAAAAAAAAIukBI4XoUrtq0QB+F61E4xrVA16NwPQo7vUD2KFyPwnW9QDMzMzOz1b1AZmZmZmYtvUBmZmZmpuq6QD0K16Pw8LZA16NwPYqQuEAfhetReMO9QI/C9ShcZr1ApHA9CpeKvkDsUbgeRZe/QHsUrkfhZ71AKVyPwvW2t0AAAAAAQHu5QDMzMzMz1MBA9ihcjyIMwUDNzMzMzNzAQJqZmZkZZ8FAj8L1KLz7wECF61G4nuq8QJqZmZnZFrxAMzMzM3N5wkBI4XoUzvjCQPYoXI9CtcJArkfhenSOwkAK16NwneHBQK5H4XqUWr1AKVyPwjXYvkAAAAAAgD/FQKRwPQqXqcdA16NwPWqcyEA9Ctej0L7JQI/C9Sg8DMdAAAAAACCWwEAfhetReNq8QPYoXI+CKMNAexSuR2E5xEAK16NwnUPGQEjhehTOMcdA4XoUrocixEBxPQrXo1G8QK5H4XpUobtAKVyPwrW7w0AzMzMzk1vFQLgeheuxfMVAH4XrUTjCw0BmZmZmJgjDQBSuR+E6L8FAuB6F6zE5wUBI4XoUrtfFQK5H4XoUZcZAFK5H4dqNxkA9CtejUCTGQHsUrkfhEsVAPQrXozDgwEBmZmZmJmW/QEjhehTumsNAmpmZmZkOxECF61G4/r/CQFyPwvVIWcVAUrgehctExEBI4XoU7lDAQFyPwvUI+cFAuB6F69HQwkCuR+F61BC+QClcj8L1I7tAzczMzEzXvECF61G4ftbAQDMzMzMzgb9AcT0K1+O1vkCkcD0KdxfAQPYoXI/CuL5ACtejcL3cvUC4HoXrcWLEQIXrUbgeeMVAw/UoXK/0w0BmZmZmxsrCQHsUrkcBGMlAj8L1KDyRyUDhehSup7jKQHsUrkchRctApHA9CnfPyUDD9Shcr8DEQBSuR+HaycRAw/UoXI8KyUCPwvUoHCbGQHsUrkehV8VAw/UoXO8ixkCkcD0Kt+XEQArXo3D9ZsJAuB6F6xGqw0Bcj8L1SCzIQEjhehSu+cdAhetRuB4XyECF61G4fjrIQI/C9SgczsRAPQrXo3BrwUDXo3A9qqTCQFyPwvVI1MZAcT0K1+PkxUBI4XoU7jDGQIXrUbhe+MZA4XoUrsfpxEDNzMzMrGXBQMP1KFyvhcFAAAAAAMDsxUAUrkfh2nLFQJqZmZm5w8VAFK5H4TrUxkDsUbgeZQ7HQJqZmZn5U8JArkfhehSUwkDhehSuh6/IQGZmZmYmC8hAw/UoXO+lx0AK16NwnUzIQJqZmZk5ycZAKVyPwpVYwkBxPQrXgznDQOF6FK6n9MhAUrgehcujyED2KFyPAnDHQHE9Ctej0MNAexSuR2GxwEA9CtejcEq7QIXrUbgeRr1ArkfhejREwkAUrkfhGn3DQMP1KFzv3sRAKVyPwhXIxEDD9Shcr4zDQI/C9SgcPMBArkfhelSkwEBxPQrXAwfFQOxRuB5lvMRAZmZmZkYPxEAK16NwnVTCQClcj8J17L9ApHA9Cld9uED2KFyPwvK4QPYoXI8iCsJAKVyPwtW2w0CF61G43gXFQHE9CtfjucVACtejcP37w0BmZmZmZlDAQKRwPQq3cMBAhetRuH6NxUD2KFyPwsfEQMP1KFzv8MJA7FG4HqWmwEBSuB6FK429QMP1KFwPE7dACtejcL3UuUCPwvUovBzBQI/C9Sj88sBASOF6FK5LwEDXo3A9alzAQK5H4XpU879AAAAAAIDtuUBmZmZmJtK4QHE9CtfjNb9A4XoUrocvv0CuR+F61F2+QAAAAABAYLxAPQrXo7DOuEAzMzMzM1G1QPYoXI9CmrZA4XoUrkdAvkAzMzMzM0q+QEjhehRuT79AexSuR+GhvUAK16NwvWi4QD0K16MwfLJAH4XrUfgXtUBSuB6Fq0S8QEjhehRud7xAKVyPwnUDvUBSuB6FKx67QM3MzMyMq7dAMzMzM7MrtECuR+F6lG+0QKRwPQpXv7dAexSuR2EvukBSuB6FqxC7QM3MzMyMarpAmpmZmVlXukBxPQrXI2izQClcj8K1+bFAcT0K1+P6tUAfhetReBS1QClcj8L1VbRAH4XrUTjrs0AzMzMzcwezQI/C9SjcvbFAw/UoXM+stEB7FK5HoZ22QGZmZmYmeLtAH4XrUfihukA9CtejcKO6QEjhehSuhrZAhetRuB5jsEB7FK5HYb6vQBSuR+F6PrRApHA9ClcutECkcD0Kl/60QGZmZmYmvrZAXI/C9ShJtEDhehSuxzywQNejcD1KG7FAUrgehatKtkDNzMzMDFa1QBSuR+E6qLVAMzMzM/P4tkAUrkfhul60QOF6FK5Hsq9AexSuR+Hgr0ApXI/C9WewQK5H4XpURLRASOF6FO5Zs0BI4XoU7oayQLgeheuRELJAZmZmZubwrEAUrkfh+sWrQK5H4XpUs7JAH4XrUThps0DXo3A9ypCzQI/C9Sic+bNAKVyPwvUHskAfhetRuDquQD0K16NwhK5AFK5H4fqDs0DD9ShcD82yQClcj8I1GLJApHA9ChebsUDXo3A9CqavQAAAAACAlKlASOF6FC6CqkDsUbgehWKxQJqZmZlZYLFAhetRuJ5UsUDNzMzMzDyxQM3MzMzMeK9AXI/C9ahPqUApXI/C9QyqQD0K16Own7FArkfhelSDsUAUrkfh+mmxQK5H4XrUebFAPQrXo/DMr0C4HoXr0WypQA==",
           "dtype": "f8",
           "shape": "695"
          },
          "bdata": "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",
          "dtype": "f8"
         },
         "yaxis": "y"
        }
       ],
       "layout": {
        "autosize": true,
        "legend": {
         "tracegroupgap": 0
        },
        "margin": {
         "t": 60
        },
        "template": {
         "data": {
          "bar": [
           {
            "error_x": {
             "color": "#2a3f5f"
            },
            "error_y": {
             "color": "#2a3f5f"
            },
            "marker": {
             "line": {
              "color": "#E5ECF6",
              "width": 0.5
             },
             "pattern": {
              "fillmode": "overlay",
              "size": 10,
              "solidity": 0.2
             }
            },
            "type": "bar"
           }
          ],
          "barpolar": [
           {
            "marker": {
             "line": {
              "color": "#E5ECF6",
              "width": 0.5
             },
             "pattern": {
              "fillmode": "overlay",
              "size": 10,
              "solidity": 0.2
             }
            },
            "type": "barpolar"
           }
          ],
          "carpet": [
           {
            "aaxis": {
             "endlinecolor": "#2a3f5f",
             "gridcolor": "white",
             "linecolor": "white",
             "minorgridcolor": "white",
             "startlinecolor": "#2a3f5f"
            },
            "baxis": {
             "endlinecolor": "#2a3f5f",
             "gridcolor": "white",
             "linecolor": "white",
             "minorgridcolor": "white",
             "startlinecolor": "#2a3f5f"
            },
            "type": "carpet"
           }
          ],
          "choropleth": [
           {
            "colorbar": {
             "outlinewidth": 0,
             "ticks": ""
            },
            "type": "choropleth"
           }
          ],
          "contour": [
           {
            "colorbar": {
             "outlinewidth": 0,
             "ticks": ""
            },
            "colorscale": [
             [
              0,
              "#0d0887"
             ],
             [
              0.1111111111111111,
              "#46039f"
             ],
             [
              0.2222222222222222,
              "#7201a8"
             ],
             [
              0.3333333333333333,
              "#9c179e"
             ],
             [
              0.4444444444444444,
              "#bd3786"
             ],
             [
              0.5555555555555556,
              "#d8576b"
             ],
             [
              0.6666666666666666,
              "#ed7953"
             ],
             [
              0.7777777777777778,
              "#fb9f3a"
             ],
             [
              0.8888888888888888,
              "#fdca26"
             ],
             [
              1,
              "#f0f921"
             ]
            ],
            "type": "contour"
           }
          ],
          "contourcarpet": [
           {
            "colorbar": {
             "outlinewidth": 0,
             "ticks": ""
            },
            "type": "contourcarpet"
           }
          ],
          "heatmap": [
           {
            "colorbar": {
             "outlinewidth": 0,
             "ticks": ""
            },
            "colorscale": [
             [
              0,
              "#0d0887"
             ],
             [
              0.1111111111111111,
              "#46039f"
             ],
             [
              0.2222222222222222,
              "#7201a8"
             ],
             [
              0.3333333333333333,
              "#9c179e"
             ],
             [
              0.4444444444444444,
              "#bd3786"
             ],
             [
              0.5555555555555556,
              "#d8576b"
             ],
             [
              0.6666666666666666,
              "#ed7953"
             ],
             [
              0.7777777777777778,
              "#fb9f3a"
             ],
             [
              0.8888888888888888,
              "#fdca26"
             ],
             [
              1,
              "#f0f921"
             ]
            ],
            "type": "heatmap"
           }
          ],
          "histogram": [
           {
            "marker": {
             "pattern": {
              "fillmode": "overlay",
              "size": 10,
              "solidity": 0.2
             }
            },
            "type": "histogram"
           }
          ],
          "histogram2d": [
           {
            "colorbar": {
             "outlinewidth": 0,
             "ticks": ""
            },
            "colorscale": [
             [
              0,
              "#0d0887"
             ],
             [
              0.1111111111111111,
              "#46039f"
             ],
             [
              0.2222222222222222,
              "#7201a8"
             ],
             [
              0.3333333333333333,
              "#9c179e"
             ],
             [
              0.4444444444444444,
              "#bd3786"
             ],
             [
              0.5555555555555556,
              "#d8576b"
             ],
             [
              0.6666666666666666,
              "#ed7953"
             ],
             [
              0.7777777777777778,
              "#fb9f3a"
             ],
             [
              0.8888888888888888,
              "#fdca26"
             ],
             [
              1,
              "#f0f921"
             ]
            ],
            "type": "histogram2d"
           }
          ],
          "histogram2dcontour": [
           {
            "colorbar": {
             "outlinewidth": 0,
             "ticks": ""
            },
            "colorscale": [
             [
              0,
              "#0d0887"
             ],
             [
              0.1111111111111111,
              "#46039f"
             ],
             [
              0.2222222222222222,
              "#7201a8"
             ],
             [
              0.3333333333333333,
              "#9c179e"
             ],
             [
              0.4444444444444444,
              "#bd3786"
             ],
             [
              0.5555555555555556,
              "#d8576b"
             ],
             [
              0.6666666666666666,
              "#ed7953"
             ],
             [
              0.7777777777777778,
              "#fb9f3a"
             ],
             [
              0.8888888888888888,
              "#fdca26"
             ],
             [
              1,
              "#f0f921"
             ]
            ],
            "type": "histogram2dcontour"
           }
          ],
          "mesh3d": [
           {
            "colorbar": {
             "outlinewidth": 0,
             "ticks": ""
            },
            "type": "mesh3d"
           }
          ],
          "parcoords": [
           {
            "line": {
             "colorbar": {
              "outlinewidth": 0,
              "ticks": ""
             }
            },
            "type": "parcoords"
           }
          ],
          "pie": [
           {
            "automargin": true,
            "type": "pie"
           }
          ],
          "scatter": [
           {
            "fillpattern": {
             "fillmode": "overlay",
             "size": 10,
             "solidity": 0.2
            },
            "type": "scatter"
           }
          ],
          "scatter3d": [
           {
            "line": {
             "colorbar": {
              "outlinewidth": 0,
              "ticks": ""
             }
            },
            "marker": {
             "colorbar": {
              "outlinewidth": 0,
              "ticks": ""
             }
            },
            "type": "scatter3d"
           }
          ],
          "scattercarpet": [
           {
            "marker": {
             "colorbar": {
              "outlinewidth": 0,
              "ticks": ""
             }
            },
            "type": "scattercarpet"
           }
          ],
          "scattergeo": [
           {
            "marker": {
             "colorbar": {
              "outlinewidth": 0,
              "ticks": ""
             }
            },
            "type": "scattergeo"
           }
          ],
          "scattergl": [
           {
            "marker": {
             "colorbar": {
              "outlinewidth": 0,
              "ticks": ""
             }
            },
            "type": "scattergl"
           }
          ],
          "scattermap": [
           {
            "marker": {
             "colorbar": {
              "outlinewidth": 0,
              "ticks": ""
             }
            },
            "type": "scattermap"
           }
          ],
          "scattermapbox": [
           {
            "marker": {
             "colorbar": {
              "outlinewidth": 0,
              "ticks": ""
             }
            },
            "type": "scattermapbox"
           }
          ],
          "scatterpolar": [
           {
            "marker": {
             "colorbar": {
              "outlinewidth": 0,
              "ticks": ""
             }
            },
            "type": "scatterpolar"
           }
          ],
          "scatterpolargl": [
           {
            "marker": {
             "colorbar": {
              "outlinewidth": 0,
              "ticks": ""
             }
            },
            "type": "scatterpolargl"
           }
          ],
          "scatterternary": [
           {
            "marker": {
             "colorbar": {
              "outlinewidth": 0,
              "ticks": ""
             }
            },
            "type": "scatterternary"
           }
          ],
          "surface": [
           {
            "colorbar": {
             "outlinewidth": 0,
             "ticks": ""
            },
            "colorscale": [
             [
              0,
              "#0d0887"
             ],
             [
              0.1111111111111111,
              "#46039f"
             ],
             [
              0.2222222222222222,
              "#7201a8"
             ],
             [
              0.3333333333333333,
              "#9c179e"
             ],
             [
              0.4444444444444444,
              "#bd3786"
             ],
             [
              0.5555555555555556,
              "#d8576b"
             ],
             [
              0.6666666666666666,
              "#ed7953"
             ],
             [
              0.7777777777777778,
              "#fb9f3a"
             ],
             [
              0.8888888888888888,
              "#fdca26"
             ],
             [
              1,
              "#f0f921"
             ]
            ],
            "type": "surface"
           }
          ],
          "table": [
           {
            "cells": {
             "fill": {
              "color": "#EBF0F8"
             },
             "line": {
              "color": "white"
             }
            },
            "header": {
             "fill": {
              "color": "#C8D4E3"
             },
             "line": {
              "color": "white"
             }
            },
            "type": "table"
           }
          ]
         },
         "layout": {
          "annotationdefaults": {
           "arrowcolor": "#2a3f5f",
           "arrowhead": 0,
           "arrowwidth": 1
          },
          "autotypenumbers": "strict",
          "coloraxis": {
           "colorbar": {
            "outlinewidth": 0,
            "ticks": ""
           }
          },
          "colorscale": {
           "diverging": [
            [
             0,
             "#8e0152"
            ],
            [
             0.1,
             "#c51b7d"
            ],
            [
             0.2,
             "#de77ae"
            ],
            [
             0.3,
             "#f1b6da"
            ],
            [
             0.4,
             "#fde0ef"
            ],
            [
             0.5,
             "#f7f7f7"
            ],
            [
             0.6,
             "#e6f5d0"
            ],
            [
             0.7,
             "#b8e186"
            ],
            [
             0.8,
             "#7fbc41"
            ],
            [
             0.9,
             "#4d9221"
            ],
            [
             1,
             "#276419"
            ]
           ],
           "sequential": [
            [
             0,
             "#0d0887"
            ],
            [
             0.1111111111111111,
             "#46039f"
            ],
            [
             0.2222222222222222,
             "#7201a8"
            ],
            [
             0.3333333333333333,
             "#9c179e"
            ],
            [
             0.4444444444444444,
             "#bd3786"
            ],
            [
             0.5555555555555556,
             "#d8576b"
            ],
            [
             0.6666666666666666,
             "#ed7953"
            ],
            [
             0.7777777777777778,
             "#fb9f3a"
            ],
            [
             0.8888888888888888,
             "#fdca26"
            ],
            [
             1,
             "#f0f921"
            ]
           ],
           "sequentialminus": [
            [
             0,
             "#0d0887"
            ],
            [
             0.1111111111111111,
             "#46039f"
            ],
            [
             0.2222222222222222,
             "#7201a8"
            ],
            [
             0.3333333333333333,
             "#9c179e"
            ],
            [
             0.4444444444444444,
             "#bd3786"
            ],
            [
             0.5555555555555556,
             "#d8576b"
            ],
            [
             0.6666666666666666,
             "#ed7953"
            ],
            [
             0.7777777777777778,
             "#fb9f3a"
            ],
            [
             0.8888888888888888,
             "#fdca26"
            ],
            [
             1,
             "#f0f921"
            ]
           ]
          },
          "colorway": [
           "#636efa",
           "#EF553B",
           "#00cc96",
           "#ab63fa",
           "#FFA15A",
           "#19d3f3",
           "#FF6692",
           "#B6E880",
           "#FF97FF",
           "#FECB52"
          ],
          "font": {
           "color": "#2a3f5f"
          },
          "geo": {
           "bgcolor": "white",
           "lakecolor": "white",
           "landcolor": "#E5ECF6",
           "showlakes": true,
           "showland": true,
           "subunitcolor": "white"
          },
          "hoverlabel": {
           "align": "left"
          },
          "hovermode": "closest",
          "mapbox": {
           "style": "light"
          },
          "paper_bgcolor": "white",
          "plot_bgcolor": "#E5ECF6",
          "polar": {
           "angularaxis": {
            "gridcolor": "white",
            "linecolor": "white",
            "ticks": ""
           },
           "bgcolor": "#E5ECF6",
           "radialaxis": {
            "gridcolor": "white",
            "linecolor": "white",
            "ticks": ""
           }
          },
          "scene": {
           "xaxis": {
            "backgroundcolor": "#E5ECF6",
            "gridcolor": "white",
            "gridwidth": 2,
            "linecolor": "white",
            "showbackground": true,
            "ticks": "",
            "zerolinecolor": "white"
           },
           "yaxis": {
            "backgroundcolor": "#E5ECF6",
            "gridcolor": "white",
            "gridwidth": 2,
            "linecolor": "white",
            "showbackground": true,
            "ticks": "",
            "zerolinecolor": "white"
           },
           "zaxis": {
            "backgroundcolor": "#E5ECF6",
            "gridcolor": "white",
            "gridwidth": 2,
            "linecolor": "white",
            "showbackground": true,
            "ticks": "",
            "zerolinecolor": "white"
           }
          },
          "shapedefaults": {
           "line": {
            "color": "#2a3f5f"
           }
          },
          "ternary": {
           "aaxis": {
            "gridcolor": "white",
            "linecolor": "white",
            "ticks": ""
           },
           "baxis": {
            "gridcolor": "white",
            "linecolor": "white",
            "ticks": ""
           },
           "bgcolor": "#E5ECF6",
           "caxis": {
            "gridcolor": "white",
            "linecolor": "white",
            "ticks": ""
           }
          },
          "title": {
           "x": 0.05
          },
          "xaxis": {
           "automargin": true,
           "gridcolor": "white",
           "linecolor": "white",
           "ticks": "",
           "title": {
            "standoff": 15
           },
           "zerolinecolor": "white",
           "zerolinewidth": 2
          },
          "yaxis": {
           "automargin": true,
           "gridcolor": "white",
           "linecolor": "white",
           "ticks": "",
           "title": {
            "standoff": 15
           },
           "zerolinecolor": "white",
           "zerolinewidth": 2
          }
         }
        },
        "xaxis": {
         "anchor": "y",
         "autorange": true,
         "domain": [
          0,
          1
         ],
         "range": [
          0,
          694
         ],
         "title": {
          "text": "Date"
         },
         "type": "category"
        },
        "yaxis": {
         "anchor": "x",
         "autorange": true,
         "domain": [
          0,
          1
         ],
         "range": [
          2600.143888888889,
          14560.266111111112
         ],
         "title": {
          "text": "Volume therms"
         },
         "type": "linear"
        }
       }
      }
     },
     "metadata": {},
     "output_type": "display_data"
    }
   ],
   "source": [
    "fig = px.line(gas_vol,x=\"Date\", y=\"Volume therms\")\n",
    "fig.show()"
   ]
  },
  {
   "cell_type": "markdown",
   "id": "22fada18-a032-4ed3-ace4-24418e4ccb90",
   "metadata": {},
   "source": [
    "Then lets use the catalogue to start adding more elements:<BR> **Add A title to your graph**"
   ]
  },
  {
   "cell_type": "code",
   "execution_count": 16,
   "id": "09267697-4dff-4871-a4aa-28699a7d9715",
   "metadata": {},
   "outputs": [
    {
     "data": {
      "application/vnd.plotly.v1+json": {
       "config": {
        "plotlyServerURL": "https://plot.ly"
       },
       "data": [
        {
         "hovertemplate": "Date=%{x}<br>Volume therms=%{y}<extra></extra>",
         "legendgroup": "",
         "line": {
          "color": "#636efa",
          "dash": "solid"
         },
         "marker": {
          "symbol": "circle"
         },
         "mode": "lines",
         "name": "",
         "orientation": "v",
         "showlegend": false,
         "type": "scatter",
         "x": [
          "Fri 01/08/25",
          "Sat 02/08/25",
          "Sun 03/08/25",
          "Mon 04/08/25",
          "Tue 05/08/25",
          "Wed 06/08/25",
          "Thu 07/08/25",
          "Fri 08/08/25",
          "Sat 09/08/25",
          "Sun 10/08/25",
          "Mon 11/08/25",
          "Tue 12/08/25",
          "Wed 13/08/25",
          "Thu 14/08/25",
          "Fri 15/08/25",
          "Sat 16/08/25",
          "Sun 17/08/25",
          "Mon 18/08/25",
          "Tue 19/08/25",
          "Wed 20/08/25",
          "Thu 21/08/25",
          "Fri 22/08/25",
          "Sat 23/08/25",
          "Sun 24/08/25",
          "Mon 25/08/25",
          "Tue 26/08/25",
          "Wed 27/08/25",
          "Thu 28/08/25",
          "Fri 29/08/25",
          "Sat 30/08/25",
          "Sun 31/08/25",
          "Mon 01/09/25",
          "Tue 02/09/25",
          "Wed 03/09/25",
          "Thu 04/09/25",
          "Fri 05/09/25",
          "Sat 06/09/25",
          "Sun 07/09/25",
          "Mon 08/09/25",
          "Tue 09/09/25",
          "Wed 10/09/25",
          "Thu 11/09/25",
          "Fri 12/09/25",
          "Sat 13/09/25",
          "Sun 14/09/25",
          "Mon 15/09/25",
          "Tue 16/09/25",
          "Wed 17/09/25",
          "Thu 18/09/25",
          "Fri 19/09/25",
          "Sat 20/09/25",
          "Sun 21/09/25",
          "Mon 22/09/25",
          "Tue 23/09/25",
          "Wed 24/09/25",
          "Thu 25/09/25",
          "Fri 26/09/25",
          "Sat 27/09/25",
          "Sun 28/09/25",
          "Mon 29/09/25",
          "Tue 30/09/25",
          "Wed 01/10/25",
          "Thu 02/10/25",
          "Fri 03/10/25",
          "Sat 04/10/25",
          "Sun 05/10/25",
          "Mon 06/10/25",
          "Tue 07/10/25",
          "Wed 08/10/25",
          "Thu 09/10/25",
          "Fri 10/10/25",
          "Sat 11/10/25",
          "Sun 12/10/25",
          "Mon 13/10/25",
          "Tue 14/10/25",
          "Wed 15/10/25",
          "Thu 16/10/25",
          "Fri 17/10/25",
          "Sat 18/10/25",
          "Sun 19/10/25",
          "Mon 20/10/25",
          "Tue 21/10/25",
          "Wed 22/10/25",
          "Thu 23/10/25",
          "Fri 24/10/25",
          "Sat 25/10/25",
          "Sun 26/10/25",
          "Mon 27/10/25",
          "Tue 28/10/25",
          "Wed 29/10/25",
          "Thu 30/10/25",
          "Fri 31/10/25",
          "Sat 01/11/25",
          "Sun 02/11/25",
          "Mon 03/11/25",
          "Tue 04/11/25",
          "Wed 05/11/25",
          "Thu 06/11/25",
          "Fri 07/11/25",
          "Sat 08/11/25",
          "Sun 09/11/25",
          "Mon 10/11/25",
          "Tue 11/11/25",
          "Wed 12/11/25",
          "Thu 13/11/25",
          "Fri 14/11/25",
          "Sat 15/11/25",
          "Sun 16/11/25",
          "Mon 17/11/25",
          "Tue 18/11/25",
          "Wed 19/11/25",
          "Thu 20/11/25",
          "Fri 21/11/25",
          "Sat 22/11/25",
          "Sun 23/11/25",
          "Mon 24/11/25",
          "Tue 25/11/25",
          "Wed 26/11/25",
          "Thu 27/11/25",
          "Fri 28/11/25",
          "Sat 29/11/25",
          "Sun 30/11/25",
          "Mon 01/12/25",
          "Tue 02/12/25",
          "Wed 03/12/25",
          "Thu 04/12/25",
          "Fri 05/12/25",
          "Sat 06/12/25",
          "Sun 07/12/25",
          "Mon 08/12/25",
          "Tue 09/12/25",
          "Wed 10/12/25",
          "Thu 11/12/25",
          "Fri 12/12/25",
          "Sat 13/12/25",
          "Sun 14/12/25",
          "Mon 15/12/25",
          "Tue 16/12/25",
          "Wed 17/12/25",
          "Thu 18/12/25",
          "Fri 19/12/25",
          "Sat 20/12/25",
          "Sun 21/12/25",
          "Mon 22/12/25",
          "Tue 23/12/25",
          "Wed 24/12/25",
          "Thu 25/12/25",
          "Fri 26/12/25",
          "Sat 27/12/25",
          "Sun 28/12/25",
          "Mon 29/12/25",
          "Tue 30/12/25",
          "Wed 31/12/25",
          "Thu 01/01/26",
          "Fri 02/01/26",
          "Sat 03/01/26",
          "Sun 04/01/26",
          "Mon 05/01/26",
          "Tue 06/01/26",
          "Wed 07/01/26",
          "Thu 08/01/26",
          "Fri 09/01/26",
          "Sat 10/01/26",
          "Sun 11/01/26",
          "Mon 12/01/26",
          "Tue 13/01/26",
          "Wed 14/01/26",
          "Thu 15/01/26",
          "Fri 16/01/26",
          "Sat 17/01/26",
          "Sun 18/01/26",
          "Mon 19/01/26",
          "Tue 20/01/26",
          "Wed 21/01/26",
          "Thu 22/01/26",
          "Fri 23/01/26",
          "Sat 24/01/26",
          "Sun 25/01/26",
          "Mon 26/01/26",
          "Tue 27/01/26",
          "Wed 28/01/26",
          "Thu 29/01/26",
          "Fri 30/01/26",
          "Sat 31/01/26",
          "Sun 01/02/26",
          "Mon 02/02/26",
          "Tue 03/02/26",
          "Wed 04/02/26",
          "Thu 05/02/26",
          "Fri 06/02/26",
          "Sat 07/02/26",
          "Sun 08/02/26",
          "Mon 09/02/26",
          "Tue 10/02/26",
          "Wed 11/02/26",
          "Thu 12/02/26",
          "Fri 13/02/26",
          "Sat 14/02/26",
          "Sun 15/02/26",
          "Mon 16/02/26",
          "Tue 17/02/26",
          "Wed 18/02/26",
          "Thu 19/02/26",
          "Fri 20/02/26",
          "Sat 21/02/26",
          "Sun 22/02/26",
          "Mon 23/02/26",
          "Tue 24/02/26",
          "Wed 25/02/26",
          "Thu 26/02/26",
          "Fri 27/02/26",
          "Sat 28/02/26",
          "Sun 01/03/26",
          "Mon 02/03/26",
          "Tue 03/03/26",
          "Wed 04/03/26",
          "Thu 05/03/26",
          "Fri 06/03/26",
          "Sat 07/03/26",
          "Sun 08/03/26",
          "Mon 09/03/26",
          "Tue 10/03/26",
          "Wed 11/03/26",
          "Thu 12/03/26",
          "Fri 13/03/26",
          "Sat 14/03/26",
          "Sun 15/03/26",
          "Mon 16/03/26",
          "Tue 17/03/26",
          "Wed 18/03/26",
          "Thu 19/03/26",
          "Fri 20/03/26",
          "Sat 21/03/26",
          "Sun 22/03/26",
          "Mon 23/03/26",
          "Tue 24/03/26",
          "Wed 25/03/26",
          "Thu 26/03/26",
          "Fri 27/03/26",
          "Sat 28/03/26",
          "Sun 29/03/26",
          "Mon 30/03/26",
          "Tue 31/03/26",
          "Wed 01/04/26",
          "Thu 02/04/26",
          "Fri 03/04/26",
          "Sat 04/04/26",
          "Sun 05/04/26",
          "Mon 06/04/26",
          "Tue 07/04/26",
          "Wed 08/04/26",
          "Thu 09/04/26",
          "Fri 10/04/26",
          "Sat 11/04/26",
          "Sun 12/04/26",
          "Mon 13/04/26",
          "Tue 14/04/26",
          "Wed 15/04/26",
          "Thu 16/04/26",
          "Fri 17/04/26",
          "Sat 18/04/26",
          "Sun 19/04/26",
          "Mon 20/04/26",
          "Tue 21/04/26",
          "Wed 22/04/26",
          "Thu 23/04/26",
          "Fri 24/04/26",
          "Sat 25/04/26",
          "Sun 26/04/26",
          "Mon 27/04/26",
          "Tue 28/04/26",
          "Wed 29/04/26",
          "Thu 30/04/26",
          "Fri 01/05/26",
          "Sat 02/05/26",
          "Sun 03/05/26",
          "Mon 04/05/26",
          "Tue 05/05/26",
          "Wed 06/05/26",
          "Thu 07/05/26",
          "Fri 08/05/26",
          "Sat 09/05/26",
          "Sun 10/05/26",
          "Mon 11/05/26",
          "Tue 12/05/26",
          "Wed 13/05/26",
          "Thu 14/05/26",
          "Fri 15/05/26",
          "Sat 16/05/26",
          "Sun 17/05/26",
          "Mon 18/05/26",
          "Tue 19/05/26",
          "Wed 20/05/26",
          "Thu 21/05/26",
          "Fri 22/05/26",
          "Sat 23/05/26",
          "Sun 24/05/26",
          "Mon 25/05/26",
          "Tue 26/05/26",
          "Wed 27/05/26",
          "Thu 28/05/26",
          "Fri 29/05/26",
          "Sat 30/05/26",
          "Sun 31/05/26",
          "Mon 01/06/26",
          "Tue 02/06/26",
          "Wed 03/06/26",
          "Thu 04/06/26",
          "Fri 05/06/26",
          "Sat 06/06/26",
          "Sun 07/06/26",
          "Mon 08/06/26",
          "Tue 09/06/26",
          "Wed 10/06/26",
          "Thu 11/06/26",
          "Fri 12/06/26",
          "Sat 13/06/26",
          "Sun 14/06/26",
          "Mon 15/06/26",
          "Tue 16/06/26",
          "Wed 17/06/26",
          "Thu 18/06/26",
          "Fri 19/06/26",
          "Sat 20/06/26",
          "Sun 21/06/26",
          "Mon 22/06/26",
          "Tue 23/06/26",
          "Wed 24/06/26",
          "Thu 25/06/26",
          "Fri 26/06/26",
          "Sat 27/06/26",
          "Sun 28/06/26",
          "Mon 29/06/26",
          "Tue 30/06/26",
          "Wed 01/07/26",
          "Thu 02/07/26",
          "Fri 03/07/26",
          "Sat 04/07/26",
          "Sun 05/07/26",
          "Mon 06/07/26",
          "Tue 07/07/26",
          "Wed 08/07/26",
          "Thu 09/07/26",
          "Fri 10/07/26",
          "Sat 11/07/26",
          "Sun 12/07/26",
          "Mon 13/07/26",
          "Tue 14/07/26",
          "Wed 15/07/26",
          "Thu 16/07/26",
          "Fri 17/07/26",
          "Sat 18/07/26",
          "Sun 19/07/26",
          "Mon 20/07/26",
          "Tue 21/07/26",
          "Wed 22/07/26",
          "Thu 23/07/26",
          "Fri 24/07/26",
          "Sat 25/07/26",
          "Sun 26/07/26",
          "Mon 27/07/26",
          "Tue 28/07/26",
          "Wed 29/07/26",
          "Thu 30/07/26",
          "Fri 31/07/26",
          "Sat 01/08/26",
          "Sun 02/08/26",
          "Mon 03/08/26",
          "Tue 04/08/26",
          "Wed 05/08/26",
          "Thu 06/08/26",
          "Fri 07/08/26",
          "Sat 08/08/26",
          "Sun 09/08/26",
          "Mon 10/08/26",
          "Tue 11/08/26",
          "Wed 12/08/26",
          "Thu 13/08/26",
          "Fri 14/08/26",
          "Sat 15/08/26",
          "Sun 16/08/26",
          "Mon 17/08/26",
          "Tue 18/08/26",
          "Wed 19/08/26",
          "Thu 20/08/26",
          "Fri 21/08/26",
          "Sat 22/08/26",
          "Sun 23/08/26",
          "Mon 24/08/26",
          "Tue 25/08/26",
          "Wed 26/08/26",
          "Thu 27/08/26",
          "Fri 28/08/26",
          "Sat 29/08/26",
          "Sun 30/08/26",
          "Mon 31/08/26",
          "Tue 01/09/26",
          "Wed 02/09/26",
          "Thu 03/09/26",
          "Fri 04/09/26",
          "Sat 05/09/26",
          "Sun 06/09/26",
          "Mon 07/09/26",
          "Tue 08/09/26",
          "Wed 09/09/26",
          "Thu 10/09/26",
          "Fri 11/09/26",
          "Sat 12/09/26",
          "Sun 13/09/26",
          "Mon 14/09/26",
          "Tue 15/09/26",
          "Wed 16/09/26",
          "Thu 17/09/26",
          "Fri 18/09/26",
          "Sat 19/09/26",
          "Sun 20/09/26",
          "Mon 21/09/26",
          "Tue 22/09/26",
          "Wed 23/09/26",
          "Thu 24/09/26",
          "Fri 25/09/26",
          "Sat 26/09/26",
          "Sun 27/09/26",
          "Mon 28/09/26",
          "Tue 29/09/26",
          "Wed 30/09/26",
          "Thu 01/10/26",
          "Fri 02/10/26",
          "Sat 03/10/26",
          "Sun 04/10/26",
          "Mon 05/10/26",
          "Tue 06/10/26",
          "Wed 07/10/26",
          "Thu 08/10/26",
          "Fri 09/10/26",
          "Sat 10/10/26",
          "Sun 11/10/26",
          "Mon 12/10/26",
          "Tue 13/10/26",
          "Wed 14/10/26",
          "Thu 15/10/26",
          "Fri 16/10/26",
          "Sat 17/10/26",
          "Sun 18/10/26",
          "Mon 19/10/26",
          "Tue 20/10/26",
          "Wed 21/10/26",
          "Thu 22/10/26",
          "Fri 23/10/26",
          "Sat 24/10/26",
          "Sun 25/10/26",
          "Mon 26/10/26",
          "Tue 27/10/26",
          "Wed 28/10/26",
          "Thu 29/10/26",
          "Fri 30/10/26",
          "Sat 31/10/26",
          "Sun 01/11/26",
          "Mon 02/11/26",
          "Tue 03/11/26",
          "Wed 04/11/26",
          "Thu 05/11/26",
          "Fri 06/11/26",
          "Sat 07/11/26",
          "Sun 08/11/26",
          "Mon 09/11/26",
          "Tue 10/11/26",
          "Wed 11/11/26",
          "Thu 12/11/26",
          "Fri 13/11/26",
          "Sat 14/11/26",
          "Sun 15/11/26",
          "Mon 16/11/26",
          "Tue 17/11/26",
          "Wed 18/11/26",
          "Thu 19/11/26",
          "Fri 20/11/26",
          "Sat 21/11/26",
          "Sun 22/11/26",
          "Mon 23/11/26",
          "Tue 24/11/26",
          "Wed 25/11/26",
          "Thu 26/11/26",
          "Fri 27/11/26",
          "Sat 28/11/26",
          "Sun 29/11/26",
          "Mon 30/11/26",
          "Tue 01/12/26",
          "Wed 02/12/26",
          "Thu 03/12/26",
          "Fri 04/12/26",
          "Sat 05/12/26",
          "Sun 06/12/26",
          "Mon 07/12/26",
          "Tue 08/12/26",
          "Wed 09/12/26",
          "Thu 10/12/26",
          "Fri 11/12/26",
          "Sat 12/12/26",
          "Sun 13/12/26",
          "Mon 14/12/26",
          "Tue 15/12/26",
          "Wed 16/12/26",
          "Thu 17/12/26",
          "Fri 18/12/26",
          "Sat 19/12/26",
          "Sun 20/12/26",
          "Mon 21/12/26",
          "Tue 22/12/26",
          "Wed 23/12/26",
          "Thu 24/12/26",
          "Fri 25/12/26",
          "Sat 26/12/26",
          "Sun 27/12/26",
          "Mon 28/12/26",
          "Tue 29/12/26",
          "Wed 30/12/26",
          "Thu 31/12/26",
          "Fri 01/01/27",
          "Sat 02/01/27",
          "Sun 03/01/27",
          "Mon 04/01/27",
          "Tue 05/01/27",
          "Wed 06/01/27",
          "Thu 07/01/27",
          "Fri 08/01/27",
          "Sat 09/01/27",
          "Sun 10/01/27",
          "Mon 11/01/27",
          "Tue 12/01/27",
          "Wed 13/01/27",
          "Thu 14/01/27",
          "Fri 15/01/27",
          "Sat 16/01/27",
          "Sun 17/01/27",
          "Mon 18/01/27",
          "Tue 19/01/27",
          "Wed 20/01/27",
          "Thu 21/01/27",
          "Fri 22/01/27",
          "Sat 23/01/27",
          "Sun 24/01/27",
          "Mon 25/01/27",
          "Tue 26/01/27",
          "Wed 27/01/27",
          "Thu 28/01/27",
          "Fri 29/01/27",
          "Sat 30/01/27",
          "Sun 31/01/27",
          "Mon 01/02/27",
          "Tue 02/02/27",
          "Wed 03/02/27",
          "Thu 04/02/27",
          "Fri 05/02/27",
          "Sat 06/02/27",
          "Sun 07/02/27",
          "Mon 08/02/27",
          "Tue 09/02/27",
          "Wed 10/02/27",
          "Thu 11/02/27",
          "Fri 12/02/27",
          "Sat 13/02/27",
          "Sun 14/02/27",
          "Mon 15/02/27",
          "Tue 16/02/27",
          "Wed 17/02/27",
          "Thu 18/02/27",
          "Fri 19/02/27",
          "Sat 20/02/27",
          "Sun 21/02/27",
          "Mon 22/02/27",
          "Tue 23/02/27",
          "Wed 24/02/27",
          "Thu 25/02/27",
          "Fri 26/02/27",
          "Sat 27/02/27",
          "Sun 28/02/27",
          "Mon 01/03/27",
          "Tue 02/03/27",
          "Wed 03/03/27",
          "Thu 04/03/27",
          "Fri 05/03/27",
          "Sat 06/03/27",
          "Sun 07/03/27",
          "Mon 08/03/27",
          "Tue 09/03/27",
          "Wed 10/03/27",
          "Thu 11/03/27",
          "Fri 12/03/27",
          "Sat 13/03/27",
          "Sun 14/03/27",
          "Mon 15/03/27",
          "Tue 16/03/27",
          "Wed 17/03/27",
          "Thu 18/03/27",
          "Fri 19/03/27",
          "Sat 20/03/27",
          "Sun 21/03/27",
          "Mon 22/03/27",
          "Tue 23/03/27",
          "Wed 24/03/27",
          "Thu 25/03/27",
          "Fri 26/03/27",
          "Sat 27/03/27",
          "Sun 28/03/27",
          "Mon 29/03/27",
          "Tue 30/03/27",
          "Wed 31/03/27",
          "Thu 01/04/27",
          "Fri 02/04/27",
          "Sat 03/04/27",
          "Sun 04/04/27",
          "Mon 05/04/27",
          "Tue 06/04/27",
          "Wed 07/04/27",
          "Thu 08/04/27",
          "Fri 09/04/27",
          "Sat 10/04/27",
          "Sun 11/04/27",
          "Mon 12/04/27",
          "Tue 13/04/27",
          "Wed 14/04/27",
          "Thu 15/04/27",
          "Fri 16/04/27",
          "Sat 17/04/27",
          "Sun 18/04/27",
          "Mon 19/04/27",
          "Tue 20/04/27",
          "Wed 21/04/27",
          "Thu 22/04/27",
          "Fri 23/04/27",
          "Sat 24/04/27",
          "Sun 25/04/27",
          "Mon 26/04/27",
          "Tue 27/04/27",
          "Wed 28/04/27",
          "Thu 29/04/27",
          "Fri 30/04/27",
          "Sat 01/05/27",
          "Sun 02/05/27",
          "Mon 03/05/27",
          "Tue 04/05/27",
          "Wed 05/05/27",
          "Thu 06/05/27",
          "Fri 07/05/27",
          "Sat 08/05/27",
          "Sun 09/05/27",
          "Mon 10/05/27",
          "Tue 11/05/27",
          "Wed 12/05/27",
          "Thu 13/05/27",
          "Fri 14/05/27",
          "Sat 15/05/27",
          "Sun 16/05/27",
          "Mon 17/05/27",
          "Tue 18/05/27",
          "Wed 19/05/27",
          "Thu 20/05/27",
          "Fri 21/05/27",
          "Sat 22/05/27",
          "Sun 23/05/27",
          "Mon 24/05/27",
          "Tue 25/05/27",
          "Wed 26/05/27",
          "Thu 27/05/27",
          "Fri 28/05/27",
          "Sat 29/05/27",
          "Sun 30/05/27",
          "Mon 31/05/27",
          "Tue 01/06/27",
          "Wed 02/06/27",
          "Thu 03/06/27",
          "Fri 04/06/27",
          "Sat 05/06/27",
          "Sun 06/06/27",
          "Mon 07/06/27",
          "Tue 08/06/27",
          "Wed 09/06/27",
          "Thu 10/06/27",
          "Fri 11/06/27",
          "Sat 12/06/27",
          "Sun 13/06/27",
          "Mon 14/06/27",
          "Tue 15/06/27",
          "Wed 16/06/27",
          "Thu 17/06/27",
          "Fri 18/06/27",
          "Sat 19/06/27",
          "Sun 20/06/27",
          "Mon 21/06/27",
          "Tue 22/06/27",
          "Wed 23/06/27",
          "Thu 24/06/27",
          "Fri 25/06/27",
          "Sat 26/06/27"
         ],
         "xaxis": "x",
         "y": {
          "_inputArray": {
           "0": 4059.61,
           "1": 3354.2,
           "10": 4507.52,
           "100": 7974.04,
           "101": 9233.27,
           "102": 9166.2,
           "103": 9397.47,
           "104": 10040.99,
           "105": 9352.21,
           "106": 6932.73,
           "107": 6824.5,
           "108": 8984.88,
           "109": 9483.75,
           "11": 4461.02,
           "110": 9530.33,
           "111": 9160.43,
           "112": 9632.3,
           "113": 8560.25,
           "114": 8864.68,
           "115": 11300.6,
           "116": 11295.26,
           "117": 11977.14,
           "118": 12760.23,
           "119": 12309.73,
           "12": 4430.74,
           "120": 10448.29,
           "121": 9882.55,
           "122": 12085.97,
           "123": 11775.79,
           "124": 12184.36,
           "125": 11851.53,
           "126": 10062.87,
           "127": 7934.03,
           "128": 7879.6,
           "129": 9914.3,
           "13": 4424.52,
           "130": 10026.73,
           "131": 10873.46,
           "132": 10813.37,
           "133": 9910.51,
           "134": 7579.29,
           "135": 7543.05,
           "136": 9348,
           "137": 10031.18,
           "138": 10053.45,
           "139": 9703.61,
           "14": 4120.55,
           "140": 9137.61,
           "141": 6168.35,
           "142": 5827.49,
           "143": 6068.05,
           "144": 6655.78,
           "145": 7457.7,
           "146": 7200.76,
           "147": 7516.21,
           "148": 6818.85,
           "149": 7090.7,
           "15": 3248.44,
           "150": 6885.91,
           "151": 9999.56,
           "152": 9986.66,
           "153": 10503.77,
           "154": 10092.83,
           "155": 8478.79,
           "156": 9194.56,
           "157": 12700.81,
           "158": 12831.72,
           "159": 12447.26,
           "16": 3350.7,
           "160": 12058.9,
           "161": 11240.45,
           "162": 9029.14,
           "163": 9362.72,
           "164": 12857.03,
           "165": 12947.39,
           "166": 13398.02,
           "167": 13661.84,
           "168": 12527.08,
           "169": 9689.41,
           "17": 4416.63,
           "170": 8412.23,
           "171": 10638.43,
           "172": 10199.81,
           "173": 9874.55,
           "174": 9601.58,
           "175": 9617.94,
           "176": 8107.88,
           "177": 7926.22,
           "178": 9798.71,
           "179": 10380.3,
           "18": 4414.92,
           "180": 10526.56,
           "181": 11057.53,
           "182": 9624.91,
           "183": 7436.1,
           "184": 7465.93,
           "185": 9759.05,
           "186": 9801.14,
           "187": 10847.84,
           "188": 11745.16,
           "189": 10047.66,
           "19": 4420.92,
           "190": 7869.9,
           "191": 8312.08,
           "192": 11043.69,
           "193": 10709.49,
           "194": 9644.62,
           "195": 8884.74,
           "196": 8594.57,
           "197": 6917.4,
           "198": 6895,
           "199": 9394.35,
           "2": 3306.1,
           "20": 4481.87,
           "200": 9591.02,
           "201": 9830.42,
           "202": 10730.44,
           "203": 10329.34,
           "204": 8532.62,
           "205": 9152.8,
           "206": 11537.5,
           "207": 11328.43,
           "208": 10674.32,
           "209": 10569.59,
           "21": 4289.65,
           "210": 10589.59,
           "211": 8672.66,
           "212": 8650.57,
           "213": 11185.19,
           "214": 10507.52,
           "215": 10648.05,
           "216": 10866.31,
           "217": 10181.23,
           "218": 7800.4,
           "219": 7986.17,
           "22": 3434.05,
           "220": 10285.28,
           "221": 9542.13,
           "222": 9035.51,
           "223": 8661.06,
           "224": 8224.74,
           "225": 6901.61,
           "226": 6603.17,
           "227": 8484.18,
           "228": 8281.2,
           "229": 8257.75,
           "23": 3493.52,
           "230": 8509.26,
           "231": 8567.51,
           "232": 7533.86,
           "233": 7303.81,
           "234": 9629.81,
           "235": 9292.75,
           "236": 9513.49,
           "237": 9583.45,
           "238": 7858.79,
           "239": 6634.17,
           "24": 3509.19,
           "240": 6830.59,
           "241": 7406.61,
           "242": 8222.66,
           "243": 8196.17,
           "244": 7887.73,
           "245": 7248.92,
           "246": 5224.84,
           "247": 5608.07,
           "248": 7387.45,
           "249": 8570.62,
           "25": 4787.16,
           "250": 8338.1,
           "251": 7110.12,
           "252": 6343.34,
           "253": 5292.34,
           "254": 5886.47,
           "255": 8688.33,
           "256": 8465.12,
           "257": 8833.68,
           "258": 8744.34,
           "259": 7848.47,
           "26": 4811.85,
           "260": 6403.88,
           "261": 6579.17,
           "262": 8816.77,
           "263": 8730.7,
           "264": 8823.8,
           "265": 9037.06,
           "266": 8317.25,
           "267": 6825.47,
           "268": 6845.36,
           "269": 8023.89,
           "27": 4864.37,
           "270": 7035.1,
           "271": 6581.77,
           "272": 6660.64,
           "273": 6672,
           "274": 5277.42,
           "275": 5041.94,
           "276": 4980.12,
           "277": 6096.96,
           "278": 5882.79,
           "279": 5668.3,
           "28": 4291.96,
           "280": 5115.46,
           "281": 4077.22,
           "282": 4072.07,
           "283": 5614.76,
           "284": 5779.76,
           "285": 5751.28,
           "286": 5906.59,
           "287": 5296.27,
           "288": 4251.7,
           "289": 4278.74,
           "29": 3289.11,
           "290": 5765.81,
           "291": 5920.59,
           "292": 6182.63,
           "293": 6419.84,
           "294": 5838.63,
           "295": 4466.81,
           "296": 4464.9,
           "297": 4487.91,
           "298": 5502.34,
           "299": 5403.44,
           "3": 4716.04,
           "30": 3315.53,
           "300": 5461.12,
           "301": 5545.29,
           "302": 4427.25,
           "303": 3922.16,
           "304": 5170.49,
           "305": 5322.29,
           "306": 5560.82,
           "307": 5497.1,
           "308": 5036.48,
           "309": 4074.84,
           "31": 4350.17,
           "310": 4241.67,
           "311": 5748.42,
           "312": 5802.09,
           "313": 5722.68,
           "314": 5835.14,
           "315": 5067.97,
           "316": 4182.25,
           "317": 4064.75,
           "318": 5180.81,
           "319": 5185.14,
           "32": 4351.13,
           "320": 5103.55,
           "321": 4955.13,
           "322": 4556.07,
           "323": 3654.25,
           "324": 3631.39,
           "325": 4736.95,
           "326": 4722.45,
           "327": 4715.69,
           "328": 4747.08,
           "329": 4555.88,
           "33": 4346.26,
           "330": 3650.79,
           "331": 3884.34,
           "332": 5125.84,
           "333": 5137.91,
           "334": 5175.11,
           "335": 5151.88,
           "336": 4726.44,
           "337": 3905.3,
           "338": 3971.18,
           "339": 5109.11,
           "34": 4344.36,
           "340": 5021.01,
           "341": 4964.91,
           "342": 5008.11,
           "343": 4717.19,
           "344": 3790.74,
           "345": 3809.25,
           "346": 4946.67,
           "347": 4938.39,
           "348": 4765.18,
           "349": 4692.02,
           "35": 4025.27,
           "350": 4138.73,
           "351": 3246.46,
           "352": 3257.19,
           "353": 4159.28,
           "354": 4155.45,
           "355": 4179.51,
           "356": 4197.8,
           "357": 4197.66,
           "358": 3322.56,
           "359": 3253.25,
           "36": 3198.15,
           "360": 4141.87,
           "361": 4144.12,
           "362": 4144.39,
           "363": 4175.08,
           "364": 4177.44,
           "365": 3281.86,
           "366": 3310.94,
           "367": 4735.18,
           "368": 4735.42,
           "369": 4796.92,
           "37": 3298.76,
           "370": 4791.84,
           "371": 4400.03,
           "372": 3522.04,
           "373": 3578.48,
           "374": 4715.37,
           "375": 4726.56,
           "376": 4743.35,
           "377": 4802.68,
           "378": 4483.73,
           "379": 3636.25,
           "38": 4349.32,
           "380": 3692.69,
           "381": 4940.16,
           "382": 4889.36,
           "383": 4963.33,
           "384": 4928.33,
           "385": 4544.21,
           "386": 3677.52,
           "387": 3715.17,
           "388": 3636.18,
           "389": 4832.28,
           "39": 4489.81,
           "390": 4773.87,
           "391": 4864.53,
           "392": 4544.3,
           "393": 3687.77,
           "394": 3668.35,
           "395": 4804.26,
           "396": 4875.93,
           "397": 5054.6,
           "398": 5108.41,
           "399": 4559.34,
           "4": 4742.15,
           "40": 4606.02,
           "400": 3660.84,
           "401": 3761.39,
           "402": 5169.06,
           "403": 5363.99,
           "404": 5851.42,
           "405": 6196.1,
           "406": 5716.75,
           "407": 4194.54,
           "408": 4189.79,
           "409": 5317.93,
           "41": 4616.22,
           "410": 5262.9,
           "411": 5142.26,
           "412": 5072.69,
           "413": 4730.44,
           "414": 3743.54,
           "415": 3971.74,
           "416": 5395.4,
           "417": 5564.78,
           "418": 5836.64,
           "419": 5955.54,
           "42": 4232.03,
           "420": 6088.96,
           "421": 5004.02,
           "422": 5288.14,
           "423": 7328.9,
           "424": 7460.48,
           "425": 7179.07,
           "426": 7353.24,
           "427": 6904.84,
           "428": 5464.53,
           "429": 5625.57,
           "43": 3403.74,
           "430": 6655.98,
           "431": 6768.89,
           "432": 7084.74,
           "433": 8111.13,
           "434": 7929.33,
           "435": 6564.38,
           "436": 6976.08,
           "437": 8766.11,
           "438": 7945.03,
           "439": 6921.48,
           "44": 3491.18,
           "440": 6719.16,
           "441": 6664,
           "442": 5338.68,
           "443": 5574.22,
           "444": 7483.04,
           "445": 7541.76,
           "446": 7637.7,
           "447": 7469.4,
           "448": 6890.65,
           "449": 5872.94,
           "45": 4744.63,
           "450": 6288.54,
           "451": 7619.47,
           "452": 7526.36,
           "453": 7818.59,
           "454": 8087.27,
           "455": 7527.88,
           "456": 6070.96,
           "457": 6523.25,
           "458": 8616.4,
           "459": 8728.27,
           "46": 4774.5,
           "460": 8633.6,
           "461": 8910.2,
           "462": 8695.47,
           "463": 7402.62,
           "464": 7190.85,
           "465": 9458.9,
           "466": 9713.61,
           "467": 9578.52,
           "468": 9500.91,
           "469": 9155.23,
           "47": 4813.48,
           "470": 7514.58,
           "471": 7896.21,
           "472": 10879,
           "473": 12115.18,
           "474": 12600.83,
           "475": 13181.63,
           "476": 11800.47,
           "477": 8492.25,
           "478": 7386.47,
           "479": 9809.02,
           "48": 4964.53,
           "480": 10354.76,
           "481": 11399.23,
           "482": 11875.61,
           "483": 10309.06,
           "484": 7249.64,
           "485": 7073.33,
           "486": 10103.42,
           "487": 10935.15,
           "488": 11001.39,
           "489": 10116.44,
           "49": 4886.78,
           "490": 9744.3,
           "491": 8798.46,
           "492": 8818.39,
           "493": 11183.36,
           "494": 11466.16,
           "495": 11547.71,
           "496": 11336.63,
           "497": 10789.76,
           "498": 8640.38,
           "499": 8037.15,
           "5": 4520.77,
           "50": 3903.1,
           "500": 10037.86,
           "501": 10269.2,
           "502": 9599.99,
           "503": 10930.57,
           "504": 10377.59,
           "505": 8353.86,
           "506": 9202.07,
           "507": 9633.64,
           "508": 7696.83,
           "509": 6947.96,
           "51": 3723.84,
           "510": 7383.3,
           "511": 8620.99,
           "512": 8065.2,
           "513": 7861.89,
           "514": 8238.93,
           "515": 7864.76,
           "516": 7644.74,
           "517": 10436.89,
           "518": 10992.24,
           "519": 10217.37,
           "52": 5154.9,
           "520": 9621.55,
           "521": 12848.01,
           "522": 13090.47,
           "523": 13681.31,
           "524": 13962.26,
           "525": 13214.93,
           "526": 10625.37,
           "527": 10643.71,
           "528": 12821.12,
           "529": 11340.22,
           "53": 5178.56,
           "530": 10927.26,
           "531": 11333.87,
           "532": 10699.43,
           "533": 9421.98,
           "534": 10068.14,
           "535": 12376.57,
           "536": 12275.36,
           "537": 12334.24,
           "538": 12404.99,
           "539": 10652.22,
           "54": 5232.1,
           "540": 8918.88,
           "541": 9545.33,
           "542": 11688.57,
           "543": 11209.78,
           "544": 11361.86,
           "545": 11760.74,
           "546": 10707.56,
           "547": 8907.35,
           "548": 8971.37,
           "549": 11225.5,
           "55": 5256.31,
           "550": 10981.71,
           "551": 11143.45,
           "552": 11688.46,
           "553": 11804.79,
           "554": 9383.95,
           "555": 9512.16,
           "556": 12639.06,
           "557": 12310.3,
           "558": 12107.87,
           "559": 12441.23,
           "56": 4908.57,
           "560": 11666.45,
           "561": 9393.17,
           "562": 9843.03,
           "563": 12777.31,
           "564": 12615.59,
           "565": 12000.02,
           "566": 10145.28,
           "567": 8546.76,
           "568": 6986.44,
           "569": 7494.12,
           "57": 4059.97,
           "570": 9352.41,
           "571": 9978.21,
           "572": 10685.87,
           "573": 10640.17,
           "574": 10009.37,
           "575": 8312.22,
           "576": 8520.66,
           "577": 10766.03,
           "578": 10616.79,
           "579": 10270.55,
           "58": 4242.81,
           "580": 9385.23,
           "581": 8172.46,
           "582": 6269.34,
           "583": 6386.76,
           "584": 9236.27,
           "585": 10093.67,
           "586": 10763.74,
           "587": 11123.78,
           "588": 10231.98,
           "589": 8352.8,
           "59": 5681.36,
           "590": 8417.43,
           "591": 11034.99,
           "592": 10639.52,
           "593": 9697.87,
           "594": 8525.29,
           "595": 7565.17,
           "596": 5907.06,
           "597": 6612.74,
           "598": 8761.47,
           "599": 8677.97,
           "6": 4406.22,
           "60": 5950.99,
           "600": 8343.36,
           "601": 8376.83,
           "602": 8179.33,
           "603": 6637.5,
           "604": 6354.15,
           "605": 7989.89,
           "606": 7983.53,
           "607": 7773.83,
           "608": 7264.25,
           "609": 6350.69,
           "61": 5969.81,
           "610": 5457.2,
           "611": 5786.26,
           "612": 7744.28,
           "613": 7754.2,
           "614": 8015.43,
           "615": 7585.88,
           "616": 6248.74,
           "617": 4732.19,
           "618": 5399.97,
           "619": 7236.67,
           "62": 5887.98,
           "620": 7287.43,
           "621": 7427.46,
           "622": 6942.17,
           "623": 6059.55,
           "624": 5163.7,
           "625": 5231.58,
           "626": 6079.34,
           "627": 6703.38,
           "628": 6928.67,
           "629": 6762.55,
           "63": 5260.03,
           "630": 6743.35,
           "631": 4968.14,
           "632": 4601.71,
           "633": 5626.89,
           "634": 5396.47,
           "635": 5205.96,
           "636": 5099.22,
           "637": 4871.45,
           "638": 4541.86,
           "639": 5292.81,
           "64": 4161.3,
           "640": 5789.63,
           "641": 7032.15,
           "642": 6817.97,
           "643": 6819.44,
           "644": 5766.68,
           "645": 4195.12,
           "646": 4063.19,
           "647": 5182.48,
           "648": 5166.34,
           "649": 5374.59,
           "65": 4206.37,
           "650": 5822.15,
           "651": 5193.16,
           "652": 4156.78,
           "653": 4379.29,
           "654": 5706.67,
           "655": 5462.05,
           "656": 5544.23,
           "657": 5880.95,
           "658": 5214.73,
           "659": 4057.14,
           "66": 5463.68,
           "660": 4080.44,
           "661": 4199.96,
           "662": 5188.33,
           "663": 4953.93,
           "664": 4742.93,
           "665": 4624.57,
           "666": 3704.45,
           "667": 3554.99,
           "668": 4787.33,
           "669": 4969.22,
           "67": 5494.65,
           "670": 5008.79,
           "671": 5113.61,
           "672": 4615.96,
           "673": 3869.36,
           "674": 3906.22,
           "675": 4995.98,
           "676": 4813.06,
           "677": 4632.21,
           "678": 4507.09,
           "679": 4051.02,
           "68": 5853.57,
           "680": 3274.25,
           "681": 3393.09,
           "682": 4450.52,
           "683": 4448.35,
           "684": 4436.62,
           "685": 4412.8,
           "686": 4028.4,
           "687": 3239.83,
           "688": 3334.48,
           "689": 4511.69,
           "69": 6296.92,
           "690": 4483.33,
           "691": 4457.98,
           "692": 4473.83,
           "693": 4070.47,
           "694": 3254.41,
           "7": 4095.12,
           "70": 6111.37,
           "71": 5659.85,
           "72": 6351.65,
           "73": 8489.57,
           "74": 8023.19,
           "75": 7525.36,
           "76": 6573.86,
           "77": 6627.57,
           "78": 5580.36,
           "79": 5855.14,
           "8": 3257.58,
           "80": 7681.1,
           "81": 7746.84,
           "82": 8006.73,
           "83": 7871.1,
           "84": 7503.25,
           "85": 5966.51,
           "86": 6144.61,
           "87": 8013.96,
           "88": 8058.41,
           "89": 8474.55,
           "9": 3372.31,
           "90": 9026.21,
           "91": 8372.53,
           "92": 7042.62,
           "93": 7088.69,
           "94": 9194.33,
           "95": 9334.59,
           "96": 9436.35,
           "97": 9707.53,
           "98": 9387.41,
           "99": 7749.92,
           "bdata": "H4XrUTi3r0BmZmZmZjSqQDMzMzMz1KlA16NwPQpsskBmZmZmJoayQOxRuB7FqLFAH4XrUTg2sUAK16NwPf6vQFyPwvUoc6lAhetRuJ5YqkDsUbgehZuxQOxRuB4FbbFACtejcL1OsUDsUbgehUixQM3MzMyMGLBAexSuR+FgqUBmZmZmZi2qQHsUrkehQLFAUrgehes+sUBSuB6F60SxQIXrUbjegbFAZmZmZqbBsECamZmZGdSqQNejcD0KS6tAexSuR2Fqq0Bcj8L1KLOyQJqZmZnZy7JAhetRuF4As0ApXI/C9cOwQB+F61E4sqlAw/UoXA/nqUBSuB6FK/6wQHsUrkch/7BA9ihcj0L6sECPwvUoXPiwQNejcD2Kcq9AzczMzEz8qEDsUbgehcWpQLgehetR/bBAw/UoXM+JsUDsUbgeBf6xQB+F61E4CLJA4XoUrgeIsEAUrkfhepeqQI/C9ShcRqtAexSuR6GIskAAAAAAgKayQBSuR+F6zbJA4XoUrodks0DhehSuxxazQDMzMzMzfq5ASOF6FK4XrUBmZmZm5iK0QMP1KFyPOrRAmpmZmRlwtEDD9ShcT4i0QLgeheuRLLNAPQrXo/C3r0DD9Shcz5KwQI/C9ShcMbZACtejcP0+t0DD9Shcz1G3QBSuR+H6/7ZA4XoUrgeMtEDNzMzMTEGwQIXrUbhebrBASOF6FK5XtUBmZmZmpna1QLgeheuR3bZAUrgeheuYuECF61G4Xt+3QJqZmZnZG7ZAZmZmZqbPuEBcj8L1yJTAQD0K16MwV79Aj8L1KFxlvUCPwvUo3K25QLgeheuR47lAj8L1KFzMtUBxPQrXI9+2QJqZmZkZAb5ApHA9CtdCvkAUrkfhuka/QJqZmZkZv75AAAAAAEBPvUD2KFyPgk63QI/C9SicALhAKVyPwvVNv0Bcj8L1aHq/QGZmZmZGjcBAFK5H4RqhwUBxPQrXQ1rAQIXrUbiegrtAPQrXo7Cwu0DXo3A9KvXBQFK4HoVLO8JAzczMzCxuwkBxPQrXw/XCQK5H4Xq0VcJAUrgehetFvkDXo3A9Cia/QPYoXI+iCMJAmpmZmRnnwUCPwvUovFrCQIXrUbh+nMNAFK5H4RpEwkAUrkfhuhS7QAAAAACAqLpAPQrXo3CMwUAAAAAA4IXCQNejcD0qncJApHA9CjfkwUBmZmZmJtDCQAAAAAAguMBApHA9CldQwUDNzMzMTBLGQHsUrkehD8ZAuB6F65Fkx0AK16NwHezIQArXo3DdCshA7FG4HiVoxEBmZmZmRk3DQI/C9Sj8msdA7FG4HuX/xkBI4XoULszHQHE9CtfDJcdAw/UoXG+nw0DhehSuB/6+QJqZmZmZx75AZmZmZiZdw0AK16NwXZXDQBSuR+G6PMVAw/UoXK8exUB7FK5HQVvDQNejcD1Km71AzczMzAx3vUAAAAAAAELCQKRwPQqXl8NAmpmZmbmiw0BI4XoUzvPCQEjhehTO2MFAmpmZmVkYuEAK16NwfcO2QM3MzMwMtLdA4XoUrsf/uUAzMzMzsyG9QPYoXI/CILxAKVyPwjVcvUCamZmZ2aK6QDMzMzOzsrtAXI/C9ejlukDhehSux4fDQK5H4XpUgcNA9ihcj+KDxEDXo3A9arbDQOxRuB5lj8BA4XoUrkf1wUDhehSuZ87IQI/C9SjcD8lAexSuR6FPyEAzMzMzc43HQJqZmZk59MVAuB6F65GiwUCPwvUoXEnCQHE9CteDHMlAuB6F67FJyUD2KFyPAivKQFK4HoXrrspA16NwPYp3yECuR+F6tOzCQArXo3AdbsBApHA9CjfHxEDhehSu5+vDQGZmZmZGScNA16NwPcrAwkAfhetR+MjCQHsUrkfhq79AH4XrUTj2vkAUrkfhWiPDQGZmZmYmRsRA4XoUrkePxEBxPQrXw5jFQK5H4Xp0zMJAmpmZmRkMvUBI4XoU7im9QGZmZmaGD8NAuB6F65Ekw0BSuB6F6y/FQK5H4XqU8MZArkfhetSfw0BmZmZm5r2+QNejcD0KPMBAH4XrUdiRxUCF61G4vurEQMP1KFxP1sJAhetRuF5awUBcj8L1SMnAQGZmZmZmBbtAAAAAAADvukDNzMzMLFnCQPYoXI+Cu8JAKVyPwjUzw0AfhetROPXEQFK4HoWrLMRAw/UoXE+qwEBmZmZmZuDBQAAAAADAiMZApHA9CjcgxkBcj8L1KNnEQFK4HoXLpMRAUrgehcuuxECuR+F6VPDAQFyPwvVI5cBAH4XrUZjYxUD2KFyPwoXEQGZmZmYGzMRA4XoUric5xUAK16NwneLDQGZmZmZmeL5AUrgehSsyv0BxPQrXoxbEQD0K16MQo8JAexSuR8GlwUDhehSuh+rAQIXrUbheEMBAj8L1KJz1ukBSuB6FK8u5QKRwPQoXksBAmpmZmZkswEAAAAAA4CDAQHsUrkehnsBAexSuR8G7wECPwvUo3G29QMP1KFzPh7xA4XoUrufOwkAAAAAAYCbCQIXrUbi+lMJAmpmZmbm3wkDXo3A9yrK+QFK4HoUr6rlApHA9CpeuukCPwvUonO68QK5H4XpUD8BAKVyPwhUCwEAUrkfhus++QFK4HoXrULxApHA9CtdotEC4HoXrEei1QDMzMzNz27xAw/UoXE+9wEDNzMzMDEnAQIXrUbgexrtApHA9ClfHuECkcD0KV6y0QB+F61F4/rZA16NwPSr4wEDD9Shcj4jAQKRwPQrXQMFAUrgehSsUwUAfhetReKi+QHsUrkfhA7lAUrgehSuzuUD2KFyPYjjBQJqZmZlZDcFAZmZmZuY7wUDhehSuh6bBQAAAAACgPsBAH4XrUXipukCPwvUoXL26QHE9CtfjV79AmpmZmRl7u0DsUbgexbW5QHE9CtejBLpAAAAAAAAQukBSuB6Fa520QD0K16PwsbNAhetRuB50s0ApXI/C9dC3QNejcD3K+rZAzczMzEwktkApXI/CdfuzQD0K16Nw2q9AcT0K1yPQr0D2KFyPwu61QPYoXI/Ck7ZA4XoUrkd3tkCkcD0KlxK3QOxRuB5FsLRAMzMzM7ObsEAK16NwvbawQMP1KFzPhbZApHA9Cpcgt0B7FK5HoSa4QKRwPQrXE7lAexSuR6HOtkDD9Shcz3KxQGZmZmbmcLFAXI/C9eiHsUCkcD0KV361QD0K16NwG7VAhetRuB5VtUDXo3A9Sqm1QAAAAABAS7FAuB6F61GkrkAK16NwfTK0QNejcD1KyrRAuB6F69G4tUCamZmZGXm1QBSuR+F6rLNASOF6FK7Vr0BSuB6Fq5GwQFK4HoVrdLZApHA9CheqtkBI4XoUrlq2QHE9Ctcjy7ZAH4XrUfjLs0AAAAAAQFawQAAAAACAwa9Aw/UoXM88tEBxPQrXI0G0QM3MzMyM77NAexSuRyFbs0C4HoXrEcyxQAAAAACAjKxA4XoUrsderEAzMzMz84CyQDMzMzNzcrJAPQrXo7BrskCuR+F6FIuyQHsUrkfhy7FArkfhepSFrEBI4XoUrliuQKRwPQrXBbRAXI/C9egRtECPwvUoHDe0QHsUrkfhH7RAPQrXo3B2skCamZmZmYKuQI/C9ShcBq9Aj8L1KBz1s0D2KFyPAp2zQFyPwvXoZLNAj8L1KByQs0A9CtejMG2yQBSuR+F6na1AAAAAAIDCrUBSuB6Fq1KzQHE9CtdjSrNASOF6FC6dskDsUbgeBVSyQBSuR+G6KrBAUrgehetcqUB7FK5HYXKpQOF6FK5HP7BAMzMzM3M7sED2KFyPglOwQM3MzMzMZbBAXI/C9ahlsECF61G4HvWpQAAAAACAaqlAhetRuN4tsECF61G4HjCwQHE9CtdjMLBArkfhehRPsEA9CtejcFGwQB+F61G4o6lAexSuR+HdqUBI4XoULn+yQFK4HoVrf7JAUrgeheu8skCkcD0K17eyQOF6FK4HMLFArkfhehSEq0ApXI/C9fSrQIXrUbhea7JAw/UoXI92skCamZmZWYeyQEjhehSuwrJAFK5H4bqDsUAAAAAAgGisQHsUrkdh2axAXI/C9ShMs0CPwvUoXBmzQK5H4XpUY7NArkfhelRAs0ApXI/CNcCxQNejcD0Ku6xApHA9ClcGrUCPwvUoXGisQOF6FK5H4LJAhetRuN6lskDhehSuhwCzQM3MzMxMwLFA16NwPYrPrEAzMzMzs6isQPYoXI9CxLJASOF6FO4Ls0CamZmZmb6zQFyPwvVo9LNApHA9ClfPsUBI4XoUrpmsQOF6FK7HYq1Aw/UoXA8xtEAK16Nw/fO0QFK4HoVr27ZAmpmZmRk0uEAAAAAAwFS2QNejcD2KYrBA16NwPcpdsEBI4XoU7sW0QGZmZmbmjrRA9ihcj0IWtEA9CtejsNCzQD0K16NwerJArkfhehQ/rUAUrkfhegevQGZmZmZmE7VA4XoUrse8tUBxPQrXo8y2QNejcD2KQ7dAKVyPwvXIt0DsUbgeBYyzQHE9CtcjqLRAZmZmZuagvEAUrkfheiS9QLgehesRC7xACtejcD25vECkcD0K1/i6QOF6FK6HWLVAuB6F65H5tUAUrkfh+v+5QHE9CtfjcLpACtejcL2su0B7FK5HIa+/QK5H4XpU+b5AexSuR2GkuUCuR+F6FEC7QEjhehQOH8FA4XoUrgcJv0AUrkfhegm7QFyPwvUoP7pAAAAAAAAIukBI4XoUrtq0QB+F61E4xrVA16NwPQo7vUD2KFyPwnW9QDMzMzOz1b1AZmZmZmYtvUBmZmZmpuq6QD0K16Pw8LZA16NwPYqQuEAfhetReMO9QI/C9ShcZr1ApHA9CpeKvkDsUbgeRZe/QHsUrkfhZ71AKVyPwvW2t0AAAAAAQHu5QDMzMzMz1MBA9ihcjyIMwUDNzMzMzNzAQJqZmZkZZ8FAj8L1KLz7wECF61G4nuq8QJqZmZnZFrxAMzMzM3N5wkBI4XoUzvjCQPYoXI9CtcJArkfhenSOwkAK16NwneHBQK5H4XqUWr1AKVyPwjXYvkAAAAAAgD/FQKRwPQqXqcdA16NwPWqcyEA9Ctej0L7JQI/C9Sg8DMdAAAAAACCWwEAfhetReNq8QPYoXI+CKMNAexSuR2E5xEAK16NwnUPGQEjhehTOMcdA4XoUrocixEBxPQrXo1G8QK5H4XpUobtAKVyPwrW7w0AzMzMzk1vFQLgeheuxfMVAH4XrUTjCw0BmZmZmJgjDQBSuR+E6L8FAuB6F6zE5wUBI4XoUrtfFQK5H4XoUZcZAFK5H4dqNxkA9CtejUCTGQHsUrkfhEsVAPQrXozDgwEBmZmZmJmW/QEjhehTumsNAmpmZmZkOxECF61G4/r/CQFyPwvVIWcVAUrgehctExEBI4XoU7lDAQFyPwvUI+cFAuB6F69HQwkCuR+F61BC+QClcj8L1I7tAzczMzEzXvECF61G4ftbAQDMzMzMzgb9AcT0K1+O1vkCkcD0KdxfAQPYoXI/CuL5ACtejcL3cvUC4HoXrcWLEQIXrUbgeeMVAw/UoXK/0w0BmZmZmxsrCQHsUrkcBGMlAj8L1KDyRyUDhehSup7jKQHsUrkchRctApHA9CnfPyUDD9Shcr8DEQBSuR+HaycRAw/UoXI8KyUCPwvUoHCbGQHsUrkehV8VAw/UoXO8ixkCkcD0Kt+XEQArXo3D9ZsJAuB6F6xGqw0Bcj8L1SCzIQEjhehSu+cdAhetRuB4XyECF61G4fjrIQI/C9SgczsRAPQrXo3BrwUDXo3A9qqTCQFyPwvVI1MZAcT0K1+PkxUBI4XoU7jDGQIXrUbhe+MZA4XoUrsfpxEDNzMzMrGXBQMP1KFyvhcFAAAAAAMDsxUAUrkfh2nLFQJqZmZm5w8VAFK5H4TrUxkDsUbgeZQ7HQJqZmZn5U8JArkfhehSUwkDhehSuh6/IQGZmZmYmC8hAw/UoXO+lx0AK16NwnUzIQJqZmZk5ycZAKVyPwpVYwkBxPQrXgznDQOF6FK6n9MhAUrgehcujyED2KFyPAnDHQHE9Ctej0MNAexSuR2GxwEA9CtejcEq7QIXrUbgeRr1ArkfhejREwkAUrkfhGn3DQMP1KFzv3sRAKVyPwhXIxEDD9Shcr4zDQI/C9SgcPMBArkfhelSkwEBxPQrXAwfFQOxRuB5lvMRAZmZmZkYPxEAK16NwnVTCQClcj8J17L9ApHA9Cld9uED2KFyPwvK4QPYoXI8iCsJAKVyPwtW2w0CF61G43gXFQHE9CtfjucVACtejcP37w0BmZmZmZlDAQKRwPQq3cMBAhetRuH6NxUD2KFyPwsfEQMP1KFzv8MJA7FG4HqWmwEBSuB6FK429QMP1KFwPE7dACtejcL3UuUCPwvUovBzBQI/C9Sj88sBASOF6FK5LwEDXo3A9alzAQK5H4XpU879AAAAAAIDtuUBmZmZmJtK4QHE9CtfjNb9A4XoUrocvv0CuR+F61F2+QAAAAABAYLxAPQrXo7DOuEAzMzMzM1G1QPYoXI9CmrZA4XoUrkdAvkAzMzMzM0q+QEjhehRuT79AexSuR+GhvUAK16NwvWi4QD0K16MwfLJAH4XrUfgXtUBSuB6Fq0S8QEjhehRud7xAKVyPwnUDvUBSuB6FKx67QM3MzMyMq7dAMzMzM7MrtECuR+F6lG+0QKRwPQpXv7dAexSuR2EvukBSuB6FqxC7QM3MzMyMarpAmpmZmVlXukBxPQrXI2izQClcj8K1+bFAcT0K1+P6tUAfhetReBS1QClcj8L1VbRAH4XrUTjrs0AzMzMzcwezQI/C9SjcvbFAw/UoXM+stEB7FK5HoZ22QGZmZmYmeLtAH4XrUfihukA9CtejcKO6QEjhehSuhrZAhetRuB5jsEB7FK5HYb6vQBSuR+F6PrRApHA9ClcutECkcD0Kl/60QGZmZmYmvrZAXI/C9ShJtEDhehSuxzywQNejcD1KG7FAUrgehatKtkDNzMzMDFa1QBSuR+E6qLVAMzMzM/P4tkAUrkfhul60QOF6FK5Hsq9AexSuR+Hgr0ApXI/C9WewQK5H4XpURLRASOF6FO5Zs0BI4XoU7oayQLgeheuRELJAZmZmZubwrEAUrkfh+sWrQK5H4XpUs7JAH4XrUThps0DXo3A9ypCzQI/C9Sic+bNAKVyPwvUHskAfhetRuDquQD0K16NwhK5AFK5H4fqDs0DD9ShcD82yQClcj8I1GLJApHA9ChebsUDXo3A9CqavQAAAAACAlKlASOF6FC6CqkDsUbgehWKxQJqZmZlZYLFAhetRuJ5UsUDNzMzMzDyxQM3MzMzMeK9AXI/C9ahPqUApXI/C9QyqQD0K16Own7FArkfhelSDsUAUrkfh+mmxQK5H4XrUebFAPQrXo/DMr0C4HoXr0WypQA==",
           "dtype": "f8",
           "shape": "695"
          },
          "bdata": "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",
          "dtype": "f8"
         },
         "yaxis": "y"
        }
       ],
       "layout": {
        "autosize": true,
        "legend": {
         "tracegroupgap": 0
        },
        "template": {
         "data": {
          "bar": [
           {
            "error_x": {
             "color": "#2a3f5f"
            },
            "error_y": {
             "color": "#2a3f5f"
            },
            "marker": {
             "line": {
              "color": "#E5ECF6",
              "width": 0.5
             },
             "pattern": {
              "fillmode": "overlay",
              "size": 10,
              "solidity": 0.2
             }
            },
            "type": "bar"
           }
          ],
          "barpolar": [
           {
            "marker": {
             "line": {
              "color": "#E5ECF6",
              "width": 0.5
             },
             "pattern": {
              "fillmode": "overlay",
              "size": 10,
              "solidity": 0.2
             }
            },
            "type": "barpolar"
           }
          ],
          "carpet": [
           {
            "aaxis": {
             "endlinecolor": "#2a3f5f",
             "gridcolor": "white",
             "linecolor": "white",
             "minorgridcolor": "white",
             "startlinecolor": "#2a3f5f"
            },
            "baxis": {
             "endlinecolor": "#2a3f5f",
             "gridcolor": "white",
             "linecolor": "white",
             "minorgridcolor": "white",
             "startlinecolor": "#2a3f5f"
            },
            "type": "carpet"
           }
          ],
          "choropleth": [
           {
            "colorbar": {
             "outlinewidth": 0,
             "ticks": ""
            },
            "type": "choropleth"
           }
          ],
          "contour": [
           {
            "colorbar": {
             "outlinewidth": 0,
             "ticks": ""
            },
            "colorscale": [
             [
              0,
              "#0d0887"
             ],
             [
              0.1111111111111111,
              "#46039f"
             ],
             [
              0.2222222222222222,
              "#7201a8"
             ],
             [
              0.3333333333333333,
              "#9c179e"
             ],
             [
              0.4444444444444444,
              "#bd3786"
             ],
             [
              0.5555555555555556,
              "#d8576b"
             ],
             [
              0.6666666666666666,
              "#ed7953"
             ],
             [
              0.7777777777777778,
              "#fb9f3a"
             ],
             [
              0.8888888888888888,
              "#fdca26"
             ],
             [
              1,
              "#f0f921"
             ]
            ],
            "type": "contour"
           }
          ],
          "contourcarpet": [
           {
            "colorbar": {
             "outlinewidth": 0,
             "ticks": ""
            },
            "type": "contourcarpet"
           }
          ],
          "heatmap": [
           {
            "colorbar": {
             "outlinewidth": 0,
             "ticks": ""
            },
            "colorscale": [
             [
              0,
              "#0d0887"
             ],
             [
              0.1111111111111111,
              "#46039f"
             ],
             [
              0.2222222222222222,
              "#7201a8"
             ],
             [
              0.3333333333333333,
              "#9c179e"
             ],
             [
              0.4444444444444444,
              "#bd3786"
             ],
             [
              0.5555555555555556,
              "#d8576b"
             ],
             [
              0.6666666666666666,
              "#ed7953"
             ],
             [
              0.7777777777777778,
              "#fb9f3a"
             ],
             [
              0.8888888888888888,
              "#fdca26"
             ],
             [
              1,
              "#f0f921"
             ]
            ],
            "type": "heatmap"
           }
          ],
          "histogram": [
           {
            "marker": {
             "pattern": {
              "fillmode": "overlay",
              "size": 10,
              "solidity": 0.2
             }
            },
            "type": "histogram"
           }
          ],
          "histogram2d": [
           {
            "colorbar": {
             "outlinewidth": 0,
             "ticks": ""
            },
            "colorscale": [
             [
              0,
              "#0d0887"
             ],
             [
              0.1111111111111111,
              "#46039f"
             ],
             [
              0.2222222222222222,
              "#7201a8"
             ],
             [
              0.3333333333333333,
              "#9c179e"
             ],
             [
              0.4444444444444444,
              "#bd3786"
             ],
             [
              0.5555555555555556,
              "#d8576b"
             ],
             [
              0.6666666666666666,
              "#ed7953"
             ],
             [
              0.7777777777777778,
              "#fb9f3a"
             ],
             [
              0.8888888888888888,
              "#fdca26"
             ],
             [
              1,
              "#f0f921"
             ]
            ],
            "type": "histogram2d"
           }
          ],
          "histogram2dcontour": [
           {
            "colorbar": {
             "outlinewidth": 0,
             "ticks": ""
            },
            "colorscale": [
             [
              0,
              "#0d0887"
             ],
             [
              0.1111111111111111,
              "#46039f"
             ],
             [
              0.2222222222222222,
              "#7201a8"
             ],
             [
              0.3333333333333333,
              "#9c179e"
             ],
             [
              0.4444444444444444,
              "#bd3786"
             ],
             [
              0.5555555555555556,
              "#d8576b"
             ],
             [
              0.6666666666666666,
              "#ed7953"
             ],
             [
              0.7777777777777778,
              "#fb9f3a"
             ],
             [
              0.8888888888888888,
              "#fdca26"
             ],
             [
              1,
              "#f0f921"
             ]
            ],
            "type": "histogram2dcontour"
           }
          ],
          "mesh3d": [
           {
            "colorbar": {
             "outlinewidth": 0,
             "ticks": ""
            },
            "type": "mesh3d"
           }
          ],
          "parcoords": [
           {
            "line": {
             "colorbar": {
              "outlinewidth": 0,
              "ticks": ""
             }
            },
            "type": "parcoords"
           }
          ],
          "pie": [
           {
            "automargin": true,
            "type": "pie"
           }
          ],
          "scatter": [
           {
            "fillpattern": {
             "fillmode": "overlay",
             "size": 10,
             "solidity": 0.2
            },
            "type": "scatter"
           }
          ],
          "scatter3d": [
           {
            "line": {
             "colorbar": {
              "outlinewidth": 0,
              "ticks": ""
             }
            },
            "marker": {
             "colorbar": {
              "outlinewidth": 0,
              "ticks": ""
             }
            },
            "type": "scatter3d"
           }
          ],
          "scattercarpet": [
           {
            "marker": {
             "colorbar": {
              "outlinewidth": 0,
              "ticks": ""
             }
            },
            "type": "scattercarpet"
           }
          ],
          "scattergeo": [
           {
            "marker": {
             "colorbar": {
              "outlinewidth": 0,
              "ticks": ""
             }
            },
            "type": "scattergeo"
           }
          ],
          "scattergl": [
           {
            "marker": {
             "colorbar": {
              "outlinewidth": 0,
              "ticks": ""
             }
            },
            "type": "scattergl"
           }
          ],
          "scattermap": [
           {
            "marker": {
             "colorbar": {
              "outlinewidth": 0,
              "ticks": ""
             }
            },
            "type": "scattermap"
           }
          ],
          "scattermapbox": [
           {
            "marker": {
             "colorbar": {
              "outlinewidth": 0,
              "ticks": ""
             }
            },
            "type": "scattermapbox"
           }
          ],
          "scatterpolar": [
           {
            "marker": {
             "colorbar": {
              "outlinewidth": 0,
              "ticks": ""
             }
            },
            "type": "scatterpolar"
           }
          ],
          "scatterpolargl": [
           {
            "marker": {
             "colorbar": {
              "outlinewidth": 0,
              "ticks": ""
             }
            },
            "type": "scatterpolargl"
           }
          ],
          "scatterternary": [
           {
            "marker": {
             "colorbar": {
              "outlinewidth": 0,
              "ticks": ""
             }
            },
            "type": "scatterternary"
           }
          ],
          "surface": [
           {
            "colorbar": {
             "outlinewidth": 0,
             "ticks": ""
            },
            "colorscale": [
             [
              0,
              "#0d0887"
             ],
             [
              0.1111111111111111,
              "#46039f"
             ],
             [
              0.2222222222222222,
              "#7201a8"
             ],
             [
              0.3333333333333333,
              "#9c179e"
             ],
             [
              0.4444444444444444,
              "#bd3786"
             ],
             [
              0.5555555555555556,
              "#d8576b"
             ],
             [
              0.6666666666666666,
              "#ed7953"
             ],
             [
              0.7777777777777778,
              "#fb9f3a"
             ],
             [
              0.8888888888888888,
              "#fdca26"
             ],
             [
              1,
              "#f0f921"
             ]
            ],
            "type": "surface"
           }
          ],
          "table": [
           {
            "cells": {
             "fill": {
              "color": "#EBF0F8"
             },
             "line": {
              "color": "white"
             }
            },
            "header": {
             "fill": {
              "color": "#C8D4E3"
             },
             "line": {
              "color": "white"
             }
            },
            "type": "table"
           }
          ]
         },
         "layout": {
          "annotationdefaults": {
           "arrowcolor": "#2a3f5f",
           "arrowhead": 0,
           "arrowwidth": 1
          },
          "autotypenumbers": "strict",
          "coloraxis": {
           "colorbar": {
            "outlinewidth": 0,
            "ticks": ""
           }
          },
          "colorscale": {
           "diverging": [
            [
             0,
             "#8e0152"
            ],
            [
             0.1,
             "#c51b7d"
            ],
            [
             0.2,
             "#de77ae"
            ],
            [
             0.3,
             "#f1b6da"
            ],
            [
             0.4,
             "#fde0ef"
            ],
            [
             0.5,
             "#f7f7f7"
            ],
            [
             0.6,
             "#e6f5d0"
            ],
            [
             0.7,
             "#b8e186"
            ],
            [
             0.8,
             "#7fbc41"
            ],
            [
             0.9,
             "#4d9221"
            ],
            [
             1,
             "#276419"
            ]
           ],
           "sequential": [
            [
             0,
             "#0d0887"
            ],
            [
             0.1111111111111111,
             "#46039f"
            ],
            [
             0.2222222222222222,
             "#7201a8"
            ],
            [
             0.3333333333333333,
             "#9c179e"
            ],
            [
             0.4444444444444444,
             "#bd3786"
            ],
            [
             0.5555555555555556,
             "#d8576b"
            ],
            [
             0.6666666666666666,
             "#ed7953"
            ],
            [
             0.7777777777777778,
             "#fb9f3a"
            ],
            [
             0.8888888888888888,
             "#fdca26"
            ],
            [
             1,
             "#f0f921"
            ]
           ],
           "sequentialminus": [
            [
             0,
             "#0d0887"
            ],
            [
             0.1111111111111111,
             "#46039f"
            ],
            [
             0.2222222222222222,
             "#7201a8"
            ],
            [
             0.3333333333333333,
             "#9c179e"
            ],
            [
             0.4444444444444444,
             "#bd3786"
            ],
            [
             0.5555555555555556,
             "#d8576b"
            ],
            [
             0.6666666666666666,
             "#ed7953"
            ],
            [
             0.7777777777777778,
             "#fb9f3a"
            ],
            [
             0.8888888888888888,
             "#fdca26"
            ],
            [
             1,
             "#f0f921"
            ]
           ]
          },
          "colorway": [
           "#636efa",
           "#EF553B",
           "#00cc96",
           "#ab63fa",
           "#FFA15A",
           "#19d3f3",
           "#FF6692",
           "#B6E880",
           "#FF97FF",
           "#FECB52"
          ],
          "font": {
           "color": "#2a3f5f"
          },
          "geo": {
           "bgcolor": "white",
           "lakecolor": "white",
           "landcolor": "#E5ECF6",
           "showlakes": true,
           "showland": true,
           "subunitcolor": "white"
          },
          "hoverlabel": {
           "align": "left"
          },
          "hovermode": "closest",
          "mapbox": {
           "style": "light"
          },
          "paper_bgcolor": "white",
          "plot_bgcolor": "#E5ECF6",
          "polar": {
           "angularaxis": {
            "gridcolor": "white",
            "linecolor": "white",
            "ticks": ""
           },
           "bgcolor": "#E5ECF6",
           "radialaxis": {
            "gridcolor": "white",
            "linecolor": "white",
            "ticks": ""
           }
          },
          "scene": {
           "xaxis": {
            "backgroundcolor": "#E5ECF6",
            "gridcolor": "white",
            "gridwidth": 2,
            "linecolor": "white",
            "showbackground": true,
            "ticks": "",
            "zerolinecolor": "white"
           },
           "yaxis": {
            "backgroundcolor": "#E5ECF6",
            "gridcolor": "white",
            "gridwidth": 2,
            "linecolor": "white",
            "showbackground": true,
            "ticks": "",
            "zerolinecolor": "white"
           },
           "zaxis": {
            "backgroundcolor": "#E5ECF6",
            "gridcolor": "white",
            "gridwidth": 2,
            "linecolor": "white",
            "showbackground": true,
            "ticks": "",
            "zerolinecolor": "white"
           }
          },
          "shapedefaults": {
           "line": {
            "color": "#2a3f5f"
           }
          },
          "ternary": {
           "aaxis": {
            "gridcolor": "white",
            "linecolor": "white",
            "ticks": ""
           },
           "baxis": {
            "gridcolor": "white",
            "linecolor": "white",
            "ticks": ""
           },
           "bgcolor": "#E5ECF6",
           "caxis": {
            "gridcolor": "white",
            "linecolor": "white",
            "ticks": ""
           }
          },
          "title": {
           "x": 0.05
          },
          "xaxis": {
           "automargin": true,
           "gridcolor": "white",
           "linecolor": "white",
           "ticks": "",
           "title": {
            "standoff": 15
           },
           "zerolinecolor": "white",
           "zerolinewidth": 2
          },
          "yaxis": {
           "automargin": true,
           "gridcolor": "white",
           "linecolor": "white",
           "ticks": "",
           "title": {
            "standoff": 15
           },
           "zerolinecolor": "white",
           "zerolinewidth": 2
          }
         }
        },
        "title": {
         "text": "Gas Volume"
        },
        "xaxis": {
         "anchor": "y",
         "autorange": true,
         "domain": [
          0,
          1
         ],
         "range": [
          0,
          694
         ],
         "title": {
          "text": "Date"
         },
         "type": "category"
        },
        "yaxis": {
         "anchor": "x",
         "autorange": true,
         "domain": [
          0,
          1
         ],
         "range": [
          2600.143888888889,
          14560.266111111112
         ],
         "title": {
          "text": "Volume therms"
         },
         "type": "linear"
        }
       }
      }
     },
     "metadata": {},
     "output_type": "display_data"
    }
   ],
   "source": [
    "fig = px.line(gas_vol,x=\"Date\", y=\"Volume therms\",title=\"Gas Volume\")\n",
    "fig.show()"
   ]
  },
  {
   "cell_type": "markdown",
   "id": "73a6a285-85cf-4649-8019-4a5716a2f32c",
   "metadata": {},
   "source": [
    "**Now center the title** <br>Theres a layout seciton in the library <br>https://plotly.com/python/reference/layout/\n"
   ]
  },
  {
   "cell_type": "code",
   "execution_count": 17,
   "id": "088f53ad-5733-430a-9c7f-30054d7e19ed",
   "metadata": {},
   "outputs": [
    {
     "data": {
      "application/vnd.plotly.v1+json": {
       "config": {
        "plotlyServerURL": "https://plot.ly"
       },
       "data": [
        {
         "hovertemplate": "Date=%{x}<br>Volume therms=%{y}<extra></extra>",
         "legendgroup": "",
         "line": {
          "color": "#636efa",
          "dash": "solid"
         },
         "marker": {
          "symbol": "circle"
         },
         "mode": "lines",
         "name": "",
         "orientation": "v",
         "showlegend": false,
         "type": "scatter",
         "x": [
          "Fri 01/08/25",
          "Sat 02/08/25",
          "Sun 03/08/25",
          "Mon 04/08/25",
          "Tue 05/08/25",
          "Wed 06/08/25",
          "Thu 07/08/25",
          "Fri 08/08/25",
          "Sat 09/08/25",
          "Sun 10/08/25",
          "Mon 11/08/25",
          "Tue 12/08/25",
          "Wed 13/08/25",
          "Thu 14/08/25",
          "Fri 15/08/25",
          "Sat 16/08/25",
          "Sun 17/08/25",
          "Mon 18/08/25",
          "Tue 19/08/25",
          "Wed 20/08/25",
          "Thu 21/08/25",
          "Fri 22/08/25",
          "Sat 23/08/25",
          "Sun 24/08/25",
          "Mon 25/08/25",
          "Tue 26/08/25",
          "Wed 27/08/25",
          "Thu 28/08/25",
          "Fri 29/08/25",
          "Sat 30/08/25",
          "Sun 31/08/25",
          "Mon 01/09/25",
          "Tue 02/09/25",
          "Wed 03/09/25",
          "Thu 04/09/25",
          "Fri 05/09/25",
          "Sat 06/09/25",
          "Sun 07/09/25",
          "Mon 08/09/25",
          "Tue 09/09/25",
          "Wed 10/09/25",
          "Thu 11/09/25",
          "Fri 12/09/25",
          "Sat 13/09/25",
          "Sun 14/09/25",
          "Mon 15/09/25",
          "Tue 16/09/25",
          "Wed 17/09/25",
          "Thu 18/09/25",
          "Fri 19/09/25",
          "Sat 20/09/25",
          "Sun 21/09/25",
          "Mon 22/09/25",
          "Tue 23/09/25",
          "Wed 24/09/25",
          "Thu 25/09/25",
          "Fri 26/09/25",
          "Sat 27/09/25",
          "Sun 28/09/25",
          "Mon 29/09/25",
          "Tue 30/09/25",
          "Wed 01/10/25",
          "Thu 02/10/25",
          "Fri 03/10/25",
          "Sat 04/10/25",
          "Sun 05/10/25",
          "Mon 06/10/25",
          "Tue 07/10/25",
          "Wed 08/10/25",
          "Thu 09/10/25",
          "Fri 10/10/25",
          "Sat 11/10/25",
          "Sun 12/10/25",
          "Mon 13/10/25",
          "Tue 14/10/25",
          "Wed 15/10/25",
          "Thu 16/10/25",
          "Fri 17/10/25",
          "Sat 18/10/25",
          "Sun 19/10/25",
          "Mon 20/10/25",
          "Tue 21/10/25",
          "Wed 22/10/25",
          "Thu 23/10/25",
          "Fri 24/10/25",
          "Sat 25/10/25",
          "Sun 26/10/25",
          "Mon 27/10/25",
          "Tue 28/10/25",
          "Wed 29/10/25",
          "Thu 30/10/25",
          "Fri 31/10/25",
          "Sat 01/11/25",
          "Sun 02/11/25",
          "Mon 03/11/25",
          "Tue 04/11/25",
          "Wed 05/11/25",
          "Thu 06/11/25",
          "Fri 07/11/25",
          "Sat 08/11/25",
          "Sun 09/11/25",
          "Mon 10/11/25",
          "Tue 11/11/25",
          "Wed 12/11/25",
          "Thu 13/11/25",
          "Fri 14/11/25",
          "Sat 15/11/25",
          "Sun 16/11/25",
          "Mon 17/11/25",
          "Tue 18/11/25",
          "Wed 19/11/25",
          "Thu 20/11/25",
          "Fri 21/11/25",
          "Sat 22/11/25",
          "Sun 23/11/25",
          "Mon 24/11/25",
          "Tue 25/11/25",
          "Wed 26/11/25",
          "Thu 27/11/25",
          "Fri 28/11/25",
          "Sat 29/11/25",
          "Sun 30/11/25",
          "Mon 01/12/25",
          "Tue 02/12/25",
          "Wed 03/12/25",
          "Thu 04/12/25",
          "Fri 05/12/25",
          "Sat 06/12/25",
          "Sun 07/12/25",
          "Mon 08/12/25",
          "Tue 09/12/25",
          "Wed 10/12/25",
          "Thu 11/12/25",
          "Fri 12/12/25",
          "Sat 13/12/25",
          "Sun 14/12/25",
          "Mon 15/12/25",
          "Tue 16/12/25",
          "Wed 17/12/25",
          "Thu 18/12/25",
          "Fri 19/12/25",
          "Sat 20/12/25",
          "Sun 21/12/25",
          "Mon 22/12/25",
          "Tue 23/12/25",
          "Wed 24/12/25",
          "Thu 25/12/25",
          "Fri 26/12/25",
          "Sat 27/12/25",
          "Sun 28/12/25",
          "Mon 29/12/25",
          "Tue 30/12/25",
          "Wed 31/12/25",
          "Thu 01/01/26",
          "Fri 02/01/26",
          "Sat 03/01/26",
          "Sun 04/01/26",
          "Mon 05/01/26",
          "Tue 06/01/26",
          "Wed 07/01/26",
          "Thu 08/01/26",
          "Fri 09/01/26",
          "Sat 10/01/26",
          "Sun 11/01/26",
          "Mon 12/01/26",
          "Tue 13/01/26",
          "Wed 14/01/26",
          "Thu 15/01/26",
          "Fri 16/01/26",
          "Sat 17/01/26",
          "Sun 18/01/26",
          "Mon 19/01/26",
          "Tue 20/01/26",
          "Wed 21/01/26",
          "Thu 22/01/26",
          "Fri 23/01/26",
          "Sat 24/01/26",
          "Sun 25/01/26",
          "Mon 26/01/26",
          "Tue 27/01/26",
          "Wed 28/01/26",
          "Thu 29/01/26",
          "Fri 30/01/26",
          "Sat 31/01/26",
          "Sun 01/02/26",
          "Mon 02/02/26",
          "Tue 03/02/26",
          "Wed 04/02/26",
          "Thu 05/02/26",
          "Fri 06/02/26",
          "Sat 07/02/26",
          "Sun 08/02/26",
          "Mon 09/02/26",
          "Tue 10/02/26",
          "Wed 11/02/26",
          "Thu 12/02/26",
          "Fri 13/02/26",
          "Sat 14/02/26",
          "Sun 15/02/26",
          "Mon 16/02/26",
          "Tue 17/02/26",
          "Wed 18/02/26",
          "Thu 19/02/26",
          "Fri 20/02/26",
          "Sat 21/02/26",
          "Sun 22/02/26",
          "Mon 23/02/26",
          "Tue 24/02/26",
          "Wed 25/02/26",
          "Thu 26/02/26",
          "Fri 27/02/26",
          "Sat 28/02/26",
          "Sun 01/03/26",
          "Mon 02/03/26",
          "Tue 03/03/26",
          "Wed 04/03/26",
          "Thu 05/03/26",
          "Fri 06/03/26",
          "Sat 07/03/26",
          "Sun 08/03/26",
          "Mon 09/03/26",
          "Tue 10/03/26",
          "Wed 11/03/26",
          "Thu 12/03/26",
          "Fri 13/03/26",
          "Sat 14/03/26",
          "Sun 15/03/26",
          "Mon 16/03/26",
          "Tue 17/03/26",
          "Wed 18/03/26",
          "Thu 19/03/26",
          "Fri 20/03/26",
          "Sat 21/03/26",
          "Sun 22/03/26",
          "Mon 23/03/26",
          "Tue 24/03/26",
          "Wed 25/03/26",
          "Thu 26/03/26",
          "Fri 27/03/26",
          "Sat 28/03/26",
          "Sun 29/03/26",
          "Mon 30/03/26",
          "Tue 31/03/26",
          "Wed 01/04/26",
          "Thu 02/04/26",
          "Fri 03/04/26",
          "Sat 04/04/26",
          "Sun 05/04/26",
          "Mon 06/04/26",
          "Tue 07/04/26",
          "Wed 08/04/26",
          "Thu 09/04/26",
          "Fri 10/04/26",
          "Sat 11/04/26",
          "Sun 12/04/26",
          "Mon 13/04/26",
          "Tue 14/04/26",
          "Wed 15/04/26",
          "Thu 16/04/26",
          "Fri 17/04/26",
          "Sat 18/04/26",
          "Sun 19/04/26",
          "Mon 20/04/26",
          "Tue 21/04/26",
          "Wed 22/04/26",
          "Thu 23/04/26",
          "Fri 24/04/26",
          "Sat 25/04/26",
          "Sun 26/04/26",
          "Mon 27/04/26",
          "Tue 28/04/26",
          "Wed 29/04/26",
          "Thu 30/04/26",
          "Fri 01/05/26",
          "Sat 02/05/26",
          "Sun 03/05/26",
          "Mon 04/05/26",
          "Tue 05/05/26",
          "Wed 06/05/26",
          "Thu 07/05/26",
          "Fri 08/05/26",
          "Sat 09/05/26",
          "Sun 10/05/26",
          "Mon 11/05/26",
          "Tue 12/05/26",
          "Wed 13/05/26",
          "Thu 14/05/26",
          "Fri 15/05/26",
          "Sat 16/05/26",
          "Sun 17/05/26",
          "Mon 18/05/26",
          "Tue 19/05/26",
          "Wed 20/05/26",
          "Thu 21/05/26",
          "Fri 22/05/26",
          "Sat 23/05/26",
          "Sun 24/05/26",
          "Mon 25/05/26",
          "Tue 26/05/26",
          "Wed 27/05/26",
          "Thu 28/05/26",
          "Fri 29/05/26",
          "Sat 30/05/26",
          "Sun 31/05/26",
          "Mon 01/06/26",
          "Tue 02/06/26",
          "Wed 03/06/26",
          "Thu 04/06/26",
          "Fri 05/06/26",
          "Sat 06/06/26",
          "Sun 07/06/26",
          "Mon 08/06/26",
          "Tue 09/06/26",
          "Wed 10/06/26",
          "Thu 11/06/26",
          "Fri 12/06/26",
          "Sat 13/06/26",
          "Sun 14/06/26",
          "Mon 15/06/26",
          "Tue 16/06/26",
          "Wed 17/06/26",
          "Thu 18/06/26",
          "Fri 19/06/26",
          "Sat 20/06/26",
          "Sun 21/06/26",
          "Mon 22/06/26",
          "Tue 23/06/26",
          "Wed 24/06/26",
          "Thu 25/06/26",
          "Fri 26/06/26",
          "Sat 27/06/26",
          "Sun 28/06/26",
          "Mon 29/06/26",
          "Tue 30/06/26",
          "Wed 01/07/26",
          "Thu 02/07/26",
          "Fri 03/07/26",
          "Sat 04/07/26",
          "Sun 05/07/26",
          "Mon 06/07/26",
          "Tue 07/07/26",
          "Wed 08/07/26",
          "Thu 09/07/26",
          "Fri 10/07/26",
          "Sat 11/07/26",
          "Sun 12/07/26",
          "Mon 13/07/26",
          "Tue 14/07/26",
          "Wed 15/07/26",
          "Thu 16/07/26",
          "Fri 17/07/26",
          "Sat 18/07/26",
          "Sun 19/07/26",
          "Mon 20/07/26",
          "Tue 21/07/26",
          "Wed 22/07/26",
          "Thu 23/07/26",
          "Fri 24/07/26",
          "Sat 25/07/26",
          "Sun 26/07/26",
          "Mon 27/07/26",
          "Tue 28/07/26",
          "Wed 29/07/26",
          "Thu 30/07/26",
          "Fri 31/07/26",
          "Sat 01/08/26",
          "Sun 02/08/26",
          "Mon 03/08/26",
          "Tue 04/08/26",
          "Wed 05/08/26",
          "Thu 06/08/26",
          "Fri 07/08/26",
          "Sat 08/08/26",
          "Sun 09/08/26",
          "Mon 10/08/26",
          "Tue 11/08/26",
          "Wed 12/08/26",
          "Thu 13/08/26",
          "Fri 14/08/26",
          "Sat 15/08/26",
          "Sun 16/08/26",
          "Mon 17/08/26",
          "Tue 18/08/26",
          "Wed 19/08/26",
          "Thu 20/08/26",
          "Fri 21/08/26",
          "Sat 22/08/26",
          "Sun 23/08/26",
          "Mon 24/08/26",
          "Tue 25/08/26",
          "Wed 26/08/26",
          "Thu 27/08/26",
          "Fri 28/08/26",
          "Sat 29/08/26",
          "Sun 30/08/26",
          "Mon 31/08/26",
          "Tue 01/09/26",
          "Wed 02/09/26",
          "Thu 03/09/26",
          "Fri 04/09/26",
          "Sat 05/09/26",
          "Sun 06/09/26",
          "Mon 07/09/26",
          "Tue 08/09/26",
          "Wed 09/09/26",
          "Thu 10/09/26",
          "Fri 11/09/26",
          "Sat 12/09/26",
          "Sun 13/09/26",
          "Mon 14/09/26",
          "Tue 15/09/26",
          "Wed 16/09/26",
          "Thu 17/09/26",
          "Fri 18/09/26",
          "Sat 19/09/26",
          "Sun 20/09/26",
          "Mon 21/09/26",
          "Tue 22/09/26",
          "Wed 23/09/26",
          "Thu 24/09/26",
          "Fri 25/09/26",
          "Sat 26/09/26",
          "Sun 27/09/26",
          "Mon 28/09/26",
          "Tue 29/09/26",
          "Wed 30/09/26",
          "Thu 01/10/26",
          "Fri 02/10/26",
          "Sat 03/10/26",
          "Sun 04/10/26",
          "Mon 05/10/26",
          "Tue 06/10/26",
          "Wed 07/10/26",
          "Thu 08/10/26",
          "Fri 09/10/26",
          "Sat 10/10/26",
          "Sun 11/10/26",
          "Mon 12/10/26",
          "Tue 13/10/26",
          "Wed 14/10/26",
          "Thu 15/10/26",
          "Fri 16/10/26",
          "Sat 17/10/26",
          "Sun 18/10/26",
          "Mon 19/10/26",
          "Tue 20/10/26",
          "Wed 21/10/26",
          "Thu 22/10/26",
          "Fri 23/10/26",
          "Sat 24/10/26",
          "Sun 25/10/26",
          "Mon 26/10/26",
          "Tue 27/10/26",
          "Wed 28/10/26",
          "Thu 29/10/26",
          "Fri 30/10/26",
          "Sat 31/10/26",
          "Sun 01/11/26",
          "Mon 02/11/26",
          "Tue 03/11/26",
          "Wed 04/11/26",
          "Thu 05/11/26",
          "Fri 06/11/26",
          "Sat 07/11/26",
          "Sun 08/11/26",
          "Mon 09/11/26",
          "Tue 10/11/26",
          "Wed 11/11/26",
          "Thu 12/11/26",
          "Fri 13/11/26",
          "Sat 14/11/26",
          "Sun 15/11/26",
          "Mon 16/11/26",
          "Tue 17/11/26",
          "Wed 18/11/26",
          "Thu 19/11/26",
          "Fri 20/11/26",
          "Sat 21/11/26",
          "Sun 22/11/26",
          "Mon 23/11/26",
          "Tue 24/11/26",
          "Wed 25/11/26",
          "Thu 26/11/26",
          "Fri 27/11/26",
          "Sat 28/11/26",
          "Sun 29/11/26",
          "Mon 30/11/26",
          "Tue 01/12/26",
          "Wed 02/12/26",
          "Thu 03/12/26",
          "Fri 04/12/26",
          "Sat 05/12/26",
          "Sun 06/12/26",
          "Mon 07/12/26",
          "Tue 08/12/26",
          "Wed 09/12/26",
          "Thu 10/12/26",
          "Fri 11/12/26",
          "Sat 12/12/26",
          "Sun 13/12/26",
          "Mon 14/12/26",
          "Tue 15/12/26",
          "Wed 16/12/26",
          "Thu 17/12/26",
          "Fri 18/12/26",
          "Sat 19/12/26",
          "Sun 20/12/26",
          "Mon 21/12/26",
          "Tue 22/12/26",
          "Wed 23/12/26",
          "Thu 24/12/26",
          "Fri 25/12/26",
          "Sat 26/12/26",
          "Sun 27/12/26",
          "Mon 28/12/26",
          "Tue 29/12/26",
          "Wed 30/12/26",
          "Thu 31/12/26",
          "Fri 01/01/27",
          "Sat 02/01/27",
          "Sun 03/01/27",
          "Mon 04/01/27",
          "Tue 05/01/27",
          "Wed 06/01/27",
          "Thu 07/01/27",
          "Fri 08/01/27",
          "Sat 09/01/27",
          "Sun 10/01/27",
          "Mon 11/01/27",
          "Tue 12/01/27",
          "Wed 13/01/27",
          "Thu 14/01/27",
          "Fri 15/01/27",
          "Sat 16/01/27",
          "Sun 17/01/27",
          "Mon 18/01/27",
          "Tue 19/01/27",
          "Wed 20/01/27",
          "Thu 21/01/27",
          "Fri 22/01/27",
          "Sat 23/01/27",
          "Sun 24/01/27",
          "Mon 25/01/27",
          "Tue 26/01/27",
          "Wed 27/01/27",
          "Thu 28/01/27",
          "Fri 29/01/27",
          "Sat 30/01/27",
          "Sun 31/01/27",
          "Mon 01/02/27",
          "Tue 02/02/27",
          "Wed 03/02/27",
          "Thu 04/02/27",
          "Fri 05/02/27",
          "Sat 06/02/27",
          "Sun 07/02/27",
          "Mon 08/02/27",
          "Tue 09/02/27",
          "Wed 10/02/27",
          "Thu 11/02/27",
          "Fri 12/02/27",
          "Sat 13/02/27",
          "Sun 14/02/27",
          "Mon 15/02/27",
          "Tue 16/02/27",
          "Wed 17/02/27",
          "Thu 18/02/27",
          "Fri 19/02/27",
          "Sat 20/02/27",
          "Sun 21/02/27",
          "Mon 22/02/27",
          "Tue 23/02/27",
          "Wed 24/02/27",
          "Thu 25/02/27",
          "Fri 26/02/27",
          "Sat 27/02/27",
          "Sun 28/02/27",
          "Mon 01/03/27",
          "Tue 02/03/27",
          "Wed 03/03/27",
          "Thu 04/03/27",
          "Fri 05/03/27",
          "Sat 06/03/27",
          "Sun 07/03/27",
          "Mon 08/03/27",
          "Tue 09/03/27",
          "Wed 10/03/27",
          "Thu 11/03/27",
          "Fri 12/03/27",
          "Sat 13/03/27",
          "Sun 14/03/27",
          "Mon 15/03/27",
          "Tue 16/03/27",
          "Wed 17/03/27",
          "Thu 18/03/27",
          "Fri 19/03/27",
          "Sat 20/03/27",
          "Sun 21/03/27",
          "Mon 22/03/27",
          "Tue 23/03/27",
          "Wed 24/03/27",
          "Thu 25/03/27",
          "Fri 26/03/27",
          "Sat 27/03/27",
          "Sun 28/03/27",
          "Mon 29/03/27",
          "Tue 30/03/27",
          "Wed 31/03/27",
          "Thu 01/04/27",
          "Fri 02/04/27",
          "Sat 03/04/27",
          "Sun 04/04/27",
          "Mon 05/04/27",
          "Tue 06/04/27",
          "Wed 07/04/27",
          "Thu 08/04/27",
          "Fri 09/04/27",
          "Sat 10/04/27",
          "Sun 11/04/27",
          "Mon 12/04/27",
          "Tue 13/04/27",
          "Wed 14/04/27",
          "Thu 15/04/27",
          "Fri 16/04/27",
          "Sat 17/04/27",
          "Sun 18/04/27",
          "Mon 19/04/27",
          "Tue 20/04/27",
          "Wed 21/04/27",
          "Thu 22/04/27",
          "Fri 23/04/27",
          "Sat 24/04/27",
          "Sun 25/04/27",
          "Mon 26/04/27",
          "Tue 27/04/27",
          "Wed 28/04/27",
          "Thu 29/04/27",
          "Fri 30/04/27",
          "Sat 01/05/27",
          "Sun 02/05/27",
          "Mon 03/05/27",
          "Tue 04/05/27",
          "Wed 05/05/27",
          "Thu 06/05/27",
          "Fri 07/05/27",
          "Sat 08/05/27",
          "Sun 09/05/27",
          "Mon 10/05/27",
          "Tue 11/05/27",
          "Wed 12/05/27",
          "Thu 13/05/27",
          "Fri 14/05/27",
          "Sat 15/05/27",
          "Sun 16/05/27",
          "Mon 17/05/27",
          "Tue 18/05/27",
          "Wed 19/05/27",
          "Thu 20/05/27",
          "Fri 21/05/27",
          "Sat 22/05/27",
          "Sun 23/05/27",
          "Mon 24/05/27",
          "Tue 25/05/27",
          "Wed 26/05/27",
          "Thu 27/05/27",
          "Fri 28/05/27",
          "Sat 29/05/27",
          "Sun 30/05/27",
          "Mon 31/05/27",
          "Tue 01/06/27",
          "Wed 02/06/27",
          "Thu 03/06/27",
          "Fri 04/06/27",
          "Sat 05/06/27",
          "Sun 06/06/27",
          "Mon 07/06/27",
          "Tue 08/06/27",
          "Wed 09/06/27",
          "Thu 10/06/27",
          "Fri 11/06/27",
          "Sat 12/06/27",
          "Sun 13/06/27",
          "Mon 14/06/27",
          "Tue 15/06/27",
          "Wed 16/06/27",
          "Thu 17/06/27",
          "Fri 18/06/27",
          "Sat 19/06/27",
          "Sun 20/06/27",
          "Mon 21/06/27",
          "Tue 22/06/27",
          "Wed 23/06/27",
          "Thu 24/06/27",
          "Fri 25/06/27",
          "Sat 26/06/27"
         ],
         "xaxis": "x",
         "y": {
          "_inputArray": {
           "0": 4059.61,
           "1": 3354.2,
           "10": 4507.52,
           "100": 7974.04,
           "101": 9233.27,
           "102": 9166.2,
           "103": 9397.47,
           "104": 10040.99,
           "105": 9352.21,
           "106": 6932.73,
           "107": 6824.5,
           "108": 8984.88,
           "109": 9483.75,
           "11": 4461.02,
           "110": 9530.33,
           "111": 9160.43,
           "112": 9632.3,
           "113": 8560.25,
           "114": 8864.68,
           "115": 11300.6,
           "116": 11295.26,
           "117": 11977.14,
           "118": 12760.23,
           "119": 12309.73,
           "12": 4430.74,
           "120": 10448.29,
           "121": 9882.55,
           "122": 12085.97,
           "123": 11775.79,
           "124": 12184.36,
           "125": 11851.53,
           "126": 10062.87,
           "127": 7934.03,
           "128": 7879.6,
           "129": 9914.3,
           "13": 4424.52,
           "130": 10026.73,
           "131": 10873.46,
           "132": 10813.37,
           "133": 9910.51,
           "134": 7579.29,
           "135": 7543.05,
           "136": 9348,
           "137": 10031.18,
           "138": 10053.45,
           "139": 9703.61,
           "14": 4120.55,
           "140": 9137.61,
           "141": 6168.35,
           "142": 5827.49,
           "143": 6068.05,
           "144": 6655.78,
           "145": 7457.7,
           "146": 7200.76,
           "147": 7516.21,
           "148": 6818.85,
           "149": 7090.7,
           "15": 3248.44,
           "150": 6885.91,
           "151": 9999.56,
           "152": 9986.66,
           "153": 10503.77,
           "154": 10092.83,
           "155": 8478.79,
           "156": 9194.56,
           "157": 12700.81,
           "158": 12831.72,
           "159": 12447.26,
           "16": 3350.7,
           "160": 12058.9,
           "161": 11240.45,
           "162": 9029.14,
           "163": 9362.72,
           "164": 12857.03,
           "165": 12947.39,
           "166": 13398.02,
           "167": 13661.84,
           "168": 12527.08,
           "169": 9689.41,
           "17": 4416.63,
           "170": 8412.23,
           "171": 10638.43,
           "172": 10199.81,
           "173": 9874.55,
           "174": 9601.58,
           "175": 9617.94,
           "176": 8107.88,
           "177": 7926.22,
           "178": 9798.71,
           "179": 10380.3,
           "18": 4414.92,
           "180": 10526.56,
           "181": 11057.53,
           "182": 9624.91,
           "183": 7436.1,
           "184": 7465.93,
           "185": 9759.05,
           "186": 9801.14,
           "187": 10847.84,
           "188": 11745.16,
           "189": 10047.66,
           "19": 4420.92,
           "190": 7869.9,
           "191": 8312.08,
           "192": 11043.69,
           "193": 10709.49,
           "194": 9644.62,
           "195": 8884.74,
           "196": 8594.57,
           "197": 6917.4,
           "198": 6895,
           "199": 9394.35,
           "2": 3306.1,
           "20": 4481.87,
           "200": 9591.02,
           "201": 9830.42,
           "202": 10730.44,
           "203": 10329.34,
           "204": 8532.62,
           "205": 9152.8,
           "206": 11537.5,
           "207": 11328.43,
           "208": 10674.32,
           "209": 10569.59,
           "21": 4289.65,
           "210": 10589.59,
           "211": 8672.66,
           "212": 8650.57,
           "213": 11185.19,
           "214": 10507.52,
           "215": 10648.05,
           "216": 10866.31,
           "217": 10181.23,
           "218": 7800.4,
           "219": 7986.17,
           "22": 3434.05,
           "220": 10285.28,
           "221": 9542.13,
           "222": 9035.51,
           "223": 8661.06,
           "224": 8224.74,
           "225": 6901.61,
           "226": 6603.17,
           "227": 8484.18,
           "228": 8281.2,
           "229": 8257.75,
           "23": 3493.52,
           "230": 8509.26,
           "231": 8567.51,
           "232": 7533.86,
           "233": 7303.81,
           "234": 9629.81,
           "235": 9292.75,
           "236": 9513.49,
           "237": 9583.45,
           "238": 7858.79,
           "239": 6634.17,
           "24": 3509.19,
           "240": 6830.59,
           "241": 7406.61,
           "242": 8222.66,
           "243": 8196.17,
           "244": 7887.73,
           "245": 7248.92,
           "246": 5224.84,
           "247": 5608.07,
           "248": 7387.45,
           "249": 8570.62,
           "25": 4787.16,
           "250": 8338.1,
           "251": 7110.12,
           "252": 6343.34,
           "253": 5292.34,
           "254": 5886.47,
           "255": 8688.33,
           "256": 8465.12,
           "257": 8833.68,
           "258": 8744.34,
           "259": 7848.47,
           "26": 4811.85,
           "260": 6403.88,
           "261": 6579.17,
           "262": 8816.77,
           "263": 8730.7,
           "264": 8823.8,
           "265": 9037.06,
           "266": 8317.25,
           "267": 6825.47,
           "268": 6845.36,
           "269": 8023.89,
           "27": 4864.37,
           "270": 7035.1,
           "271": 6581.77,
           "272": 6660.64,
           "273": 6672,
           "274": 5277.42,
           "275": 5041.94,
           "276": 4980.12,
           "277": 6096.96,
           "278": 5882.79,
           "279": 5668.3,
           "28": 4291.96,
           "280": 5115.46,
           "281": 4077.22,
           "282": 4072.07,
           "283": 5614.76,
           "284": 5779.76,
           "285": 5751.28,
           "286": 5906.59,
           "287": 5296.27,
           "288": 4251.7,
           "289": 4278.74,
           "29": 3289.11,
           "290": 5765.81,
           "291": 5920.59,
           "292": 6182.63,
           "293": 6419.84,
           "294": 5838.63,
           "295": 4466.81,
           "296": 4464.9,
           "297": 4487.91,
           "298": 5502.34,
           "299": 5403.44,
           "3": 4716.04,
           "30": 3315.53,
           "300": 5461.12,
           "301": 5545.29,
           "302": 4427.25,
           "303": 3922.16,
           "304": 5170.49,
           "305": 5322.29,
           "306": 5560.82,
           "307": 5497.1,
           "308": 5036.48,
           "309": 4074.84,
           "31": 4350.17,
           "310": 4241.67,
           "311": 5748.42,
           "312": 5802.09,
           "313": 5722.68,
           "314": 5835.14,
           "315": 5067.97,
           "316": 4182.25,
           "317": 4064.75,
           "318": 5180.81,
           "319": 5185.14,
           "32": 4351.13,
           "320": 5103.55,
           "321": 4955.13,
           "322": 4556.07,
           "323": 3654.25,
           "324": 3631.39,
           "325": 4736.95,
           "326": 4722.45,
           "327": 4715.69,
           "328": 4747.08,
           "329": 4555.88,
           "33": 4346.26,
           "330": 3650.79,
           "331": 3884.34,
           "332": 5125.84,
           "333": 5137.91,
           "334": 5175.11,
           "335": 5151.88,
           "336": 4726.44,
           "337": 3905.3,
           "338": 3971.18,
           "339": 5109.11,
           "34": 4344.36,
           "340": 5021.01,
           "341": 4964.91,
           "342": 5008.11,
           "343": 4717.19,
           "344": 3790.74,
           "345": 3809.25,
           "346": 4946.67,
           "347": 4938.39,
           "348": 4765.18,
           "349": 4692.02,
           "35": 4025.27,
           "350": 4138.73,
           "351": 3246.46,
           "352": 3257.19,
           "353": 4159.28,
           "354": 4155.45,
           "355": 4179.51,
           "356": 4197.8,
           "357": 4197.66,
           "358": 3322.56,
           "359": 3253.25,
           "36": 3198.15,
           "360": 4141.87,
           "361": 4144.12,
           "362": 4144.39,
           "363": 4175.08,
           "364": 4177.44,
           "365": 3281.86,
           "366": 3310.94,
           "367": 4735.18,
           "368": 4735.42,
           "369": 4796.92,
           "37": 3298.76,
           "370": 4791.84,
           "371": 4400.03,
           "372": 3522.04,
           "373": 3578.48,
           "374": 4715.37,
           "375": 4726.56,
           "376": 4743.35,
           "377": 4802.68,
           "378": 4483.73,
           "379": 3636.25,
           "38": 4349.32,
           "380": 3692.69,
           "381": 4940.16,
           "382": 4889.36,
           "383": 4963.33,
           "384": 4928.33,
           "385": 4544.21,
           "386": 3677.52,
           "387": 3715.17,
           "388": 3636.18,
           "389": 4832.28,
           "39": 4489.81,
           "390": 4773.87,
           "391": 4864.53,
           "392": 4544.3,
           "393": 3687.77,
           "394": 3668.35,
           "395": 4804.26,
           "396": 4875.93,
           "397": 5054.6,
           "398": 5108.41,
           "399": 4559.34,
           "4": 4742.15,
           "40": 4606.02,
           "400": 3660.84,
           "401": 3761.39,
           "402": 5169.06,
           "403": 5363.99,
           "404": 5851.42,
           "405": 6196.1,
           "406": 5716.75,
           "407": 4194.54,
           "408": 4189.79,
           "409": 5317.93,
           "41": 4616.22,
           "410": 5262.9,
           "411": 5142.26,
           "412": 5072.69,
           "413": 4730.44,
           "414": 3743.54,
           "415": 3971.74,
           "416": 5395.4,
           "417": 5564.78,
           "418": 5836.64,
           "419": 5955.54,
           "42": 4232.03,
           "420": 6088.96,
           "421": 5004.02,
           "422": 5288.14,
           "423": 7328.9,
           "424": 7460.48,
           "425": 7179.07,
           "426": 7353.24,
           "427": 6904.84,
           "428": 5464.53,
           "429": 5625.57,
           "43": 3403.74,
           "430": 6655.98,
           "431": 6768.89,
           "432": 7084.74,
           "433": 8111.13,
           "434": 7929.33,
           "435": 6564.38,
           "436": 6976.08,
           "437": 8766.11,
           "438": 7945.03,
           "439": 6921.48,
           "44": 3491.18,
           "440": 6719.16,
           "441": 6664,
           "442": 5338.68,
           "443": 5574.22,
           "444": 7483.04,
           "445": 7541.76,
           "446": 7637.7,
           "447": 7469.4,
           "448": 6890.65,
           "449": 5872.94,
           "45": 4744.63,
           "450": 6288.54,
           "451": 7619.47,
           "452": 7526.36,
           "453": 7818.59,
           "454": 8087.27,
           "455": 7527.88,
           "456": 6070.96,
           "457": 6523.25,
           "458": 8616.4,
           "459": 8728.27,
           "46": 4774.5,
           "460": 8633.6,
           "461": 8910.2,
           "462": 8695.47,
           "463": 7402.62,
           "464": 7190.85,
           "465": 9458.9,
           "466": 9713.61,
           "467": 9578.52,
           "468": 9500.91,
           "469": 9155.23,
           "47": 4813.48,
           "470": 7514.58,
           "471": 7896.21,
           "472": 10879,
           "473": 12115.18,
           "474": 12600.83,
           "475": 13181.63,
           "476": 11800.47,
           "477": 8492.25,
           "478": 7386.47,
           "479": 9809.02,
           "48": 4964.53,
           "480": 10354.76,
           "481": 11399.23,
           "482": 11875.61,
           "483": 10309.06,
           "484": 7249.64,
           "485": 7073.33,
           "486": 10103.42,
           "487": 10935.15,
           "488": 11001.39,
           "489": 10116.44,
           "49": 4886.78,
           "490": 9744.3,
           "491": 8798.46,
           "492": 8818.39,
           "493": 11183.36,
           "494": 11466.16,
           "495": 11547.71,
           "496": 11336.63,
           "497": 10789.76,
           "498": 8640.38,
           "499": 8037.15,
           "5": 4520.77,
           "50": 3903.1,
           "500": 10037.86,
           "501": 10269.2,
           "502": 9599.99,
           "503": 10930.57,
           "504": 10377.59,
           "505": 8353.86,
           "506": 9202.07,
           "507": 9633.64,
           "508": 7696.83,
           "509": 6947.96,
           "51": 3723.84,
           "510": 7383.3,
           "511": 8620.99,
           "512": 8065.2,
           "513": 7861.89,
           "514": 8238.93,
           "515": 7864.76,
           "516": 7644.74,
           "517": 10436.89,
           "518": 10992.24,
           "519": 10217.37,
           "52": 5154.9,
           "520": 9621.55,
           "521": 12848.01,
           "522": 13090.47,
           "523": 13681.31,
           "524": 13962.26,
           "525": 13214.93,
           "526": 10625.37,
           "527": 10643.71,
           "528": 12821.12,
           "529": 11340.22,
           "53": 5178.56,
           "530": 10927.26,
           "531": 11333.87,
           "532": 10699.43,
           "533": 9421.98,
           "534": 10068.14,
           "535": 12376.57,
           "536": 12275.36,
           "537": 12334.24,
           "538": 12404.99,
           "539": 10652.22,
           "54": 5232.1,
           "540": 8918.88,
           "541": 9545.33,
           "542": 11688.57,
           "543": 11209.78,
           "544": 11361.86,
           "545": 11760.74,
           "546": 10707.56,
           "547": 8907.35,
           "548": 8971.37,
           "549": 11225.5,
           "55": 5256.31,
           "550": 10981.71,
           "551": 11143.45,
           "552": 11688.46,
           "553": 11804.79,
           "554": 9383.95,
           "555": 9512.16,
           "556": 12639.06,
           "557": 12310.3,
           "558": 12107.87,
           "559": 12441.23,
           "56": 4908.57,
           "560": 11666.45,
           "561": 9393.17,
           "562": 9843.03,
           "563": 12777.31,
           "564": 12615.59,
           "565": 12000.02,
           "566": 10145.28,
           "567": 8546.76,
           "568": 6986.44,
           "569": 7494.12,
           "57": 4059.97,
           "570": 9352.41,
           "571": 9978.21,
           "572": 10685.87,
           "573": 10640.17,
           "574": 10009.37,
           "575": 8312.22,
           "576": 8520.66,
           "577": 10766.03,
           "578": 10616.79,
           "579": 10270.55,
           "58": 4242.81,
           "580": 9385.23,
           "581": 8172.46,
           "582": 6269.34,
           "583": 6386.76,
           "584": 9236.27,
           "585": 10093.67,
           "586": 10763.74,
           "587": 11123.78,
           "588": 10231.98,
           "589": 8352.8,
           "59": 5681.36,
           "590": 8417.43,
           "591": 11034.99,
           "592": 10639.52,
           "593": 9697.87,
           "594": 8525.29,
           "595": 7565.17,
           "596": 5907.06,
           "597": 6612.74,
           "598": 8761.47,
           "599": 8677.97,
           "6": 4406.22,
           "60": 5950.99,
           "600": 8343.36,
           "601": 8376.83,
           "602": 8179.33,
           "603": 6637.5,
           "604": 6354.15,
           "605": 7989.89,
           "606": 7983.53,
           "607": 7773.83,
           "608": 7264.25,
           "609": 6350.69,
           "61": 5969.81,
           "610": 5457.2,
           "611": 5786.26,
           "612": 7744.28,
           "613": 7754.2,
           "614": 8015.43,
           "615": 7585.88,
           "616": 6248.74,
           "617": 4732.19,
           "618": 5399.97,
           "619": 7236.67,
           "62": 5887.98,
           "620": 7287.43,
           "621": 7427.46,
           "622": 6942.17,
           "623": 6059.55,
           "624": 5163.7,
           "625": 5231.58,
           "626": 6079.34,
           "627": 6703.38,
           "628": 6928.67,
           "629": 6762.55,
           "63": 5260.03,
           "630": 6743.35,
           "631": 4968.14,
           "632": 4601.71,
           "633": 5626.89,
           "634": 5396.47,
           "635": 5205.96,
           "636": 5099.22,
           "637": 4871.45,
           "638": 4541.86,
           "639": 5292.81,
           "64": 4161.3,
           "640": 5789.63,
           "641": 7032.15,
           "642": 6817.97,
           "643": 6819.44,
           "644": 5766.68,
           "645": 4195.12,
           "646": 4063.19,
           "647": 5182.48,
           "648": 5166.34,
           "649": 5374.59,
           "65": 4206.37,
           "650": 5822.15,
           "651": 5193.16,
           "652": 4156.78,
           "653": 4379.29,
           "654": 5706.67,
           "655": 5462.05,
           "656": 5544.23,
           "657": 5880.95,
           "658": 5214.73,
           "659": 4057.14,
           "66": 5463.68,
           "660": 4080.44,
           "661": 4199.96,
           "662": 5188.33,
           "663": 4953.93,
           "664": 4742.93,
           "665": 4624.57,
           "666": 3704.45,
           "667": 3554.99,
           "668": 4787.33,
           "669": 4969.22,
           "67": 5494.65,
           "670": 5008.79,
           "671": 5113.61,
           "672": 4615.96,
           "673": 3869.36,
           "674": 3906.22,
           "675": 4995.98,
           "676": 4813.06,
           "677": 4632.21,
           "678": 4507.09,
           "679": 4051.02,
           "68": 5853.57,
           "680": 3274.25,
           "681": 3393.09,
           "682": 4450.52,
           "683": 4448.35,
           "684": 4436.62,
           "685": 4412.8,
           "686": 4028.4,
           "687": 3239.83,
           "688": 3334.48,
           "689": 4511.69,
           "69": 6296.92,
           "690": 4483.33,
           "691": 4457.98,
           "692": 4473.83,
           "693": 4070.47,
           "694": 3254.41,
           "7": 4095.12,
           "70": 6111.37,
           "71": 5659.85,
           "72": 6351.65,
           "73": 8489.57,
           "74": 8023.19,
           "75": 7525.36,
           "76": 6573.86,
           "77": 6627.57,
           "78": 5580.36,
           "79": 5855.14,
           "8": 3257.58,
           "80": 7681.1,
           "81": 7746.84,
           "82": 8006.73,
           "83": 7871.1,
           "84": 7503.25,
           "85": 5966.51,
           "86": 6144.61,
           "87": 8013.96,
           "88": 8058.41,
           "89": 8474.55,
           "9": 3372.31,
           "90": 9026.21,
           "91": 8372.53,
           "92": 7042.62,
           "93": 7088.69,
           "94": 9194.33,
           "95": 9334.59,
           "96": 9436.35,
           "97": 9707.53,
           "98": 9387.41,
           "99": 7749.92,
           "bdata": "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",
           "dtype": "f8",
           "shape": "695"
          },
          "bdata": "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",
          "dtype": "f8"
         },
         "yaxis": "y"
        }
       ],
       "layout": {
        "autosize": true,
        "legend": {
         "tracegroupgap": 0
        },
        "template": {
         "data": {
          "bar": [
           {
            "error_x": {
             "color": "#2a3f5f"
            },
            "error_y": {
             "color": "#2a3f5f"
            },
            "marker": {
             "line": {
              "color": "#E5ECF6",
              "width": 0.5
             },
             "pattern": {
              "fillmode": "overlay",
              "size": 10,
              "solidity": 0.2
             }
            },
            "type": "bar"
           }
          ],
          "barpolar": [
           {
            "marker": {
             "line": {
              "color": "#E5ECF6",
              "width": 0.5
             },
             "pattern": {
              "fillmode": "overlay",
              "size": 10,
              "solidity": 0.2
             }
            },
            "type": "barpolar"
           }
          ],
          "carpet": [
           {
            "aaxis": {
             "endlinecolor": "#2a3f5f",
             "gridcolor": "white",
             "linecolor": "white",
             "minorgridcolor": "white",
             "startlinecolor": "#2a3f5f"
            },
            "baxis": {
             "endlinecolor": "#2a3f5f",
             "gridcolor": "white",
             "linecolor": "white",
             "minorgridcolor": "white",
             "startlinecolor": "#2a3f5f"
            },
            "type": "carpet"
           }
          ],
          "choropleth": [
           {
            "colorbar": {
             "outlinewidth": 0,
             "ticks": ""
            },
            "type": "choropleth"
           }
          ],
          "contour": [
           {
            "colorbar": {
             "outlinewidth": 0,
             "ticks": ""
            },
            "colorscale": [
             [
              0,
              "#0d0887"
             ],
             [
              0.1111111111111111,
              "#46039f"
             ],
             [
              0.2222222222222222,
              "#7201a8"
             ],
             [
              0.3333333333333333,
              "#9c179e"
             ],
             [
              0.4444444444444444,
              "#bd3786"
             ],
             [
              0.5555555555555556,
              "#d8576b"
             ],
             [
              0.6666666666666666,
              "#ed7953"
             ],
             [
              0.7777777777777778,
              "#fb9f3a"
             ],
             [
              0.8888888888888888,
              "#fdca26"
             ],
             [
              1,
              "#f0f921"
             ]
            ],
            "type": "contour"
           }
          ],
          "contourcarpet": [
           {
            "colorbar": {
             "outlinewidth": 0,
             "ticks": ""
            },
            "type": "contourcarpet"
           }
          ],
          "heatmap": [
           {
            "colorbar": {
             "outlinewidth": 0,
             "ticks": ""
            },
            "colorscale": [
             [
              0,
              "#0d0887"
             ],
             [
              0.1111111111111111,
              "#46039f"
             ],
             [
              0.2222222222222222,
              "#7201a8"
             ],
             [
              0.3333333333333333,
              "#9c179e"
             ],
             [
              0.4444444444444444,
              "#bd3786"
             ],
             [
              0.5555555555555556,
              "#d8576b"
             ],
             [
              0.6666666666666666,
              "#ed7953"
             ],
             [
              0.7777777777777778,
              "#fb9f3a"
             ],
             [
              0.8888888888888888,
              "#fdca26"
             ],
             [
              1,
              "#f0f921"
             ]
            ],
            "type": "heatmap"
           }
          ],
          "histogram": [
           {
            "marker": {
             "pattern": {
              "fillmode": "overlay",
              "size": 10,
              "solidity": 0.2
             }
            },
            "type": "histogram"
           }
          ],
          "histogram2d": [
           {
            "colorbar": {
             "outlinewidth": 0,
             "ticks": ""
            },
            "colorscale": [
             [
              0,
              "#0d0887"
             ],
             [
              0.1111111111111111,
              "#46039f"
             ],
             [
              0.2222222222222222,
              "#7201a8"
             ],
             [
              0.3333333333333333,
              "#9c179e"
             ],
             [
              0.4444444444444444,
              "#bd3786"
             ],
             [
              0.5555555555555556,
              "#d8576b"
             ],
             [
              0.6666666666666666,
              "#ed7953"
             ],
             [
              0.7777777777777778,
              "#fb9f3a"
             ],
             [
              0.8888888888888888,
              "#fdca26"
             ],
             [
              1,
              "#f0f921"
             ]
            ],
            "type": "histogram2d"
           }
          ],
          "histogram2dcontour": [
           {
            "colorbar": {
             "outlinewidth": 0,
             "ticks": ""
            },
            "colorscale": [
             [
              0,
              "#0d0887"
             ],
             [
              0.1111111111111111,
              "#46039f"
             ],
             [
              0.2222222222222222,
              "#7201a8"
             ],
             [
              0.3333333333333333,
              "#9c179e"
             ],
             [
              0.4444444444444444,
              "#bd3786"
             ],
             [
              0.5555555555555556,
              "#d8576b"
             ],
             [
              0.6666666666666666,
              "#ed7953"
             ],
             [
              0.7777777777777778,
              "#fb9f3a"
             ],
             [
              0.8888888888888888,
              "#fdca26"
             ],
             [
              1,
              "#f0f921"
             ]
            ],
            "type": "histogram2dcontour"
           }
          ],
          "mesh3d": [
           {
            "colorbar": {
             "outlinewidth": 0,
             "ticks": ""
            },
            "type": "mesh3d"
           }
          ],
          "parcoords": [
           {
            "line": {
             "colorbar": {
              "outlinewidth": 0,
              "ticks": ""
             }
            },
            "type": "parcoords"
           }
          ],
          "pie": [
           {
            "automargin": true,
            "type": "pie"
           }
          ],
          "scatter": [
           {
            "fillpattern": {
             "fillmode": "overlay",
             "size": 10,
             "solidity": 0.2
            },
            "type": "scatter"
           }
          ],
          "scatter3d": [
           {
            "line": {
             "colorbar": {
              "outlinewidth": 0,
              "ticks": ""
             }
            },
            "marker": {
             "colorbar": {
              "outlinewidth": 0,
              "ticks": ""
             }
            },
            "type": "scatter3d"
           }
          ],
          "scattercarpet": [
           {
            "marker": {
             "colorbar": {
              "outlinewidth": 0,
              "ticks": ""
             }
            },
            "type": "scattercarpet"
           }
          ],
          "scattergeo": [
           {
            "marker": {
             "colorbar": {
              "outlinewidth": 0,
              "ticks": ""
             }
            },
            "type": "scattergeo"
           }
          ],
          "scattergl": [
           {
            "marker": {
             "colorbar": {
              "outlinewidth": 0,
              "ticks": ""
             }
            },
            "type": "scattergl"
           }
          ],
          "scattermap": [
           {
            "marker": {
             "colorbar": {
              "outlinewidth": 0,
              "ticks": ""
             }
            },
            "type": "scattermap"
           }
          ],
          "scattermapbox": [
           {
            "marker": {
             "colorbar": {
              "outlinewidth": 0,
              "ticks": ""
             }
            },
            "type": "scattermapbox"
           }
          ],
          "scatterpolar": [
           {
            "marker": {
             "colorbar": {
              "outlinewidth": 0,
              "ticks": ""
             }
            },
            "type": "scatterpolar"
           }
          ],
          "scatterpolargl": [
           {
            "marker": {
             "colorbar": {
              "outlinewidth": 0,
              "ticks": ""
             }
            },
            "type": "scatterpolargl"
           }
          ],
          "scatterternary": [
           {
            "marker": {
             "colorbar": {
              "outlinewidth": 0,
              "ticks": ""
             }
            },
            "type": "scatterternary"
           }
          ],
          "surface": [
           {
            "colorbar": {
             "outlinewidth": 0,
             "ticks": ""
            },
            "colorscale": [
             [
              0,
              "#0d0887"
             ],
             [
              0.1111111111111111,
              "#46039f"
             ],
             [
              0.2222222222222222,
              "#7201a8"
             ],
             [
              0.3333333333333333,
              "#9c179e"
             ],
             [
              0.4444444444444444,
              "#bd3786"
             ],
             [
              0.5555555555555556,
              "#d8576b"
             ],
             [
              0.6666666666666666,
              "#ed7953"
             ],
             [
              0.7777777777777778,
              "#fb9f3a"
             ],
             [
              0.8888888888888888,
              "#fdca26"
             ],
             [
              1,
              "#f0f921"
             ]
            ],
            "type": "surface"
           }
          ],
          "table": [
           {
            "cells": {
             "fill": {
              "color": "#EBF0F8"
             },
             "line": {
              "color": "white"
             }
            },
            "header": {
             "fill": {
              "color": "#C8D4E3"
             },
             "line": {
              "color": "white"
             }
            },
            "type": "table"
           }
          ]
         },
         "layout": {
          "annotationdefaults": {
           "arrowcolor": "#2a3f5f",
           "arrowhead": 0,
           "arrowwidth": 1
          },
          "autotypenumbers": "strict",
          "coloraxis": {
           "colorbar": {
            "outlinewidth": 0,
            "ticks": ""
           }
          },
          "colorscale": {
           "diverging": [
            [
             0,
             "#8e0152"
            ],
            [
             0.1,
             "#c51b7d"
            ],
            [
             0.2,
             "#de77ae"
            ],
            [
             0.3,
             "#f1b6da"
            ],
            [
             0.4,
             "#fde0ef"
            ],
            [
             0.5,
             "#f7f7f7"
            ],
            [
             0.6,
             "#e6f5d0"
            ],
            [
             0.7,
             "#b8e186"
            ],
            [
             0.8,
             "#7fbc41"
            ],
            [
             0.9,
             "#4d9221"
            ],
            [
             1,
             "#276419"
            ]
           ],
           "sequential": [
            [
             0,
             "#0d0887"
            ],
            [
             0.1111111111111111,
             "#46039f"
            ],
            [
             0.2222222222222222,
             "#7201a8"
            ],
            [
             0.3333333333333333,
             "#9c179e"
            ],
            [
             0.4444444444444444,
             "#bd3786"
            ],
            [
             0.5555555555555556,
             "#d8576b"
            ],
            [
             0.6666666666666666,
             "#ed7953"
            ],
            [
             0.7777777777777778,
             "#fb9f3a"
            ],
            [
             0.8888888888888888,
             "#fdca26"
            ],
            [
             1,
             "#f0f921"
            ]
           ],
           "sequentialminus": [
            [
             0,
             "#0d0887"
            ],
            [
             0.1111111111111111,
             "#46039f"
            ],
            [
             0.2222222222222222,
             "#7201a8"
            ],
            [
             0.3333333333333333,
             "#9c179e"
            ],
            [
             0.4444444444444444,
             "#bd3786"
            ],
            [
             0.5555555555555556,
             "#d8576b"
            ],
            [
             0.6666666666666666,
             "#ed7953"
            ],
            [
             0.7777777777777778,
             "#fb9f3a"
            ],
            [
             0.8888888888888888,
             "#fdca26"
            ],
            [
             1,
             "#f0f921"
            ]
           ]
          },
          "colorway": [
           "#636efa",
           "#EF553B",
           "#00cc96",
           "#ab63fa",
           "#FFA15A",
           "#19d3f3",
           "#FF6692",
           "#B6E880",
           "#FF97FF",
           "#FECB52"
          ],
          "font": {
           "color": "#2a3f5f"
          },
          "geo": {
           "bgcolor": "white",
           "lakecolor": "white",
           "landcolor": "#E5ECF6",
           "showlakes": true,
           "showland": true,
           "subunitcolor": "white"
          },
          "hoverlabel": {
           "align": "left"
          },
          "hovermode": "closest",
          "mapbox": {
           "style": "light"
          },
          "paper_bgcolor": "white",
          "plot_bgcolor": "#E5ECF6",
          "polar": {
           "angularaxis": {
            "gridcolor": "white",
            "linecolor": "white",
            "ticks": ""
           },
           "bgcolor": "#E5ECF6",
           "radialaxis": {
            "gridcolor": "white",
            "linecolor": "white",
            "ticks": ""
           }
          },
          "scene": {
           "xaxis": {
            "backgroundcolor": "#E5ECF6",
            "gridcolor": "white",
            "gridwidth": 2,
            "linecolor": "white",
            "showbackground": true,
            "ticks": "",
            "zerolinecolor": "white"
           },
           "yaxis": {
            "backgroundcolor": "#E5ECF6",
            "gridcolor": "white",
            "gridwidth": 2,
            "linecolor": "white",
            "showbackground": true,
            "ticks": "",
            "zerolinecolor": "white"
           },
           "zaxis": {
            "backgroundcolor": "#E5ECF6",
            "gridcolor": "white",
            "gridwidth": 2,
            "linecolor": "white",
            "showbackground": true,
            "ticks": "",
            "zerolinecolor": "white"
           }
          },
          "shapedefaults": {
           "line": {
            "color": "#2a3f5f"
           }
          },
          "ternary": {
           "aaxis": {
            "gridcolor": "white",
            "linecolor": "white",
            "ticks": ""
           },
           "baxis": {
            "gridcolor": "white",
            "linecolor": "white",
            "ticks": ""
           },
           "bgcolor": "#E5ECF6",
           "caxis": {
            "gridcolor": "white",
            "linecolor": "white",
            "ticks": ""
           }
          },
          "title": {
           "x": 0.05
          },
          "xaxis": {
           "automargin": true,
           "gridcolor": "white",
           "linecolor": "white",
           "ticks": "",
           "title": {
            "standoff": 15
           },
           "zerolinecolor": "white",
           "zerolinewidth": 2
          },
          "yaxis": {
           "automargin": true,
           "gridcolor": "white",
           "linecolor": "white",
           "ticks": "",
           "title": {
            "standoff": 15
           },
           "zerolinecolor": "white",
           "zerolinewidth": 2
          }
         }
        },
        "title": {
         "text": "Gas Volume",
         "x": 0.5
        },
        "xaxis": {
         "anchor": "y",
         "autorange": true,
         "domain": [
          0,
          1
         ],
         "range": [
          0,
          694
         ],
         "title": {
          "text": "Date"
         },
         "type": "category"
        },
        "yaxis": {
         "anchor": "x",
         "autorange": true,
         "domain": [
          0,
          1
         ],
         "range": [
          2600.143888888889,
          14560.266111111112
         ],
         "title": {
          "text": "Volume therms"
         },
         "type": "linear"
        }
       }
      }
     },
     "metadata": {},
     "output_type": "display_data"
    }
   ],
   "source": [
    "vol_fig = px.line(gas_vol,x=\"Date\", y=\"Volume therms\",title=\"Gas Volume\")\n",
    "vol_fig.update_layout(title_x=0.5)\n",
    "vol_fig.show()"
   ]
  },
  {
   "cell_type": "markdown",
   "id": "0fdb2c0e-84cd-4e2c-ad91-870eaf987213",
   "metadata": {},
   "source": [
    "# Step 3: Exporting\n",
    "remember the cool thing about plotly is the interactive html. so lets export before we go crazy on customisation.\n",
    "<br>**Write intrustions for how to export any of your grpahs above into a html file:**"
   ]
  },
  {
   "cell_type": "code",
   "execution_count": 18,
   "id": "7060627f-84cf-4fd9-8e4e-a6e6fce108d5",
   "metadata": {},
   "outputs": [],
   "source": [
    "vol_fig.write_html(\"gas_vol.html\")"
   ]
  },
  {
   "cell_type": "markdown",
   "id": "ba6a7d10-e508-4ed5-9711-376f1fc46b73",
   "metadata": {},
   "source": [
    "So thats how we export to HTML, the file will now be in the same folder as your jupyter notebook script<br>  For bonus point we can talk about a quality of life inmprovement using os here \n",
    "<br>https://docs.python.org/3/library/os.path.html\n"
   ]
  },
  {
   "cell_type": "code",
   "execution_count": 19,
   "id": "41b65843-052e-4105-aac9-f09f72493433",
   "metadata": {},
   "outputs": [
    {
     "name": "stdout",
     "output_type": "stream",
     "text": [
      "Exported to: C:\\Users\\steve\\OneDrive\\Personal Python Projects\\Training\\Plotly\\gas_vol_.html\n"
     ]
    }
   ],
   "source": [
    "# Set filename\n",
    "filename = \"gas_vol_.html\"\n",
    "\n",
    "# Get full path to where the file will be saved\n",
    "full_path = os.path.abspath(filename)\n",
    "\n",
    "# Export to HTML\n",
    "vol_fig.write_html(full_path)\n",
    "\n",
    "# Print the full file path\n",
    "print(f\"Exported to: {full_path}\")\n"
   ]
  },
  {
   "cell_type": "markdown",
   "id": "a3e66d9f-5fd4-4798-b7ef-b21373a08b83",
   "metadata": {},
   "source": [
    "# Part 2: Maximum Effort Chart\n",
    "In this section we'll look at some blocks of chart formatting, \n",
    "<br>comment up the script then when you understand it you can:\n",
    "<br>- edit any formats you need\n",
    "<br>- import your own dataframes in an plot what you need "
   ]
  },
  {
   "cell_type": "markdown",
   "id": "1f255f8d-c3cd-4da3-8bd1-5fb332658451",
   "metadata": {},
   "source": [
    "Example 1: Power Volume"
   ]
  },
  {
   "cell_type": "code",
   "execution_count": null,
   "id": "cc4218ef-63bc-4462-b2a7-f0525a3f28e7",
   "metadata": {},
   "outputs": [],
   "source": []
  },
  {
   "cell_type": "code",
   "execution_count": 20,
   "id": "756aed7c-6201-4a9f-88f8-b0200dc05d84",
   "metadata": {},
   "outputs": [],
   "source": [
    "# unpivot power_vol data frame to plot\n",
    "power_vol_unpivot = power_vol.melt(\n",
    "    id_vars=[\"Settlement_Day\", \"Settlement_Period\"],            # columns to keep\n",
    "    value_vars=[\"Purchased_Volume\", \"Actual_Demand\", \"Hedged Volume\"],  # columns to unpivot\n",
    "    var_name=\"Type\",    # new column of catagories\n",
    "    value_name=\"Volume\" # new column of values\n",
    ")"
   ]
  },
  {
   "cell_type": "code",
   "execution_count": 21,
   "id": "ae52f01b-e5f3-417f-98c2-6243e3c54c57",
   "metadata": {},
   "outputs": [
    {
     "data": {
      "text/html": [
       "<div>\n",
       "<style scoped>\n",
       "    .dataframe tbody tr th:only-of-type {\n",
       "        vertical-align: middle;\n",
       "    }\n",
       "\n",
       "    .dataframe tbody tr th {\n",
       "        vertical-align: top;\n",
       "    }\n",
       "\n",
       "    .dataframe thead th {\n",
       "        text-align: right;\n",
       "    }\n",
       "</style>\n",
       "<table border=\"1\" class=\"dataframe\">\n",
       "  <thead>\n",
       "    <tr style=\"text-align: right;\">\n",
       "      <th></th>\n",
       "      <th>Settlement_Day</th>\n",
       "      <th>Settlement_Period</th>\n",
       "      <th>Type</th>\n",
       "      <th>Volume</th>\n",
       "    </tr>\n",
       "  </thead>\n",
       "  <tbody>\n",
       "    <tr>\n",
       "      <th>0</th>\n",
       "      <td>Fri 01/08/2025</td>\n",
       "      <td>1</td>\n",
       "      <td>Purchased_Volume</td>\n",
       "      <td>46.12</td>\n",
       "    </tr>\n",
       "    <tr>\n",
       "      <th>1</th>\n",
       "      <td>Fri 01/08/2025</td>\n",
       "      <td>2</td>\n",
       "      <td>Purchased_Volume</td>\n",
       "      <td>46.30</td>\n",
       "    </tr>\n",
       "  </tbody>\n",
       "</table>\n",
       "</div>"
      ],
      "text/plain": [
       "   Settlement_Day  Settlement_Period              Type  Volume\n",
       "0  Fri 01/08/2025                  1  Purchased_Volume   46.12\n",
       "1  Fri 01/08/2025                  2  Purchased_Volume   46.30"
      ]
     },
     "execution_count": 21,
     "metadata": {},
     "output_type": "execute_result"
    }
   ],
   "source": [
    "power_vol_unpivot.head(2)"
   ]
  },
  {
   "cell_type": "code",
   "execution_count": 22,
   "id": "60b47374-bea8-44da-b2c4-f7e422d70300",
   "metadata": {
    "collapsed": true,
    "jupyter": {
     "outputs_hidden": true
    },
    "scrolled": true
   },
   "outputs": [
    {
     "data": {
      "application/vnd.plotly.v1+json": {
       "config": {
        "plotlyServerURL": "https://plot.ly"
       },
       "data": [
        {
         "hovertemplate": "Type=Purchased_Volume<br>Settlement_Day=Fri 01/08/2025<br>Settlement_Period=%{x}<br>Volume=%{y}<extra></extra>",
         "legendgroup": "Purchased_Volume",
         "line": {
          "color": "#00314a",
          "dash": "solid"
         },
         "marker": {
          "symbol": "circle"
         },
         "mode": "lines",
         "name": "Purchased_Volume",
         "orientation": "v",
         "showlegend": true,
         "type": "scatter",
         "x": {
          "_inputArray": {
           "0": 1,
           "1": 2,
           "10": 11,
           "11": 12,
           "12": 13,
           "13": 14,
           "14": 15,
           "15": 16,
           "16": 17,
           "17": 18,
           "18": 19,
           "19": 20,
           "2": 3,
           "20": 21,
           "21": 22,
           "22": 23,
           "23": 24,
           "24": 25,
           "25": 26,
           "26": 27,
           "27": 28,
           "28": 29,
           "29": 30,
           "3": 4,
           "30": 31,
           "31": 32,
           "32": 33,
           "33": 34,
           "34": 35,
           "35": 36,
           "36": 37,
           "37": 38,
           "38": 39,
           "39": 40,
           "4": 5,
           "40": 41,
           "41": 42,
           "42": 43,
           "43": 44,
           "44": 45,
           "45": 46,
           "46": 47,
           "47": 48,
           "5": 6,
           "6": 7,
           "7": 8,
           "8": 9,
           "9": 10,
           "bdata": "AQIDBAUGBwgJCgsMDQ4PEBESExQVFhcYGRobHB0eHyAhIiMkJSYnKCkqKywtLi8w",
           "dtype": "i1",
           "shape": "48"
          },
          "bdata": "AQIDBAUGBwgJCgsMDQ4PEBESExQVFhcYGRobHB0eHyAhIiMkJSYnKCkqKywtLi8w",
          "dtype": "i1"
         },
         "xaxis": "x",
         "y": {
          "_inputArray": {
           "0": 46.12,
           "1": 46.3,
           "10": 48.09,
           "11": 49.97,
           "12": 57.25,
           "13": 62.13,
           "14": 68.01,
           "15": 73.33,
           "16": 77.53,
           "17": 83.84,
           "18": 86.61,
           "19": 86.88,
           "2": 47.86,
           "20": 88.35,
           "21": 87.86,
           "22": 84.55,
           "23": 82.72,
           "24": 79.64,
           "25": 79.37,
           "26": 75.75,
           "27": 75.08,
           "28": 74.36,
           "29": 72.17,
           "3": 47.86,
           "30": 70.92,
           "31": 67.79,
           "32": 64.7,
           "33": 64.17,
           "34": 60.5,
           "35": 57.77,
           "36": 55.14,
           "37": 54.91,
           "38": 54.12,
           "39": 54.17,
           "4": 46.79,
           "40": 53.45,
           "41": 52.56,
           "42": 50.59,
           "43": 48.98,
           "44": 47.51,
           "45": 45.72,
           "46": 44.02,
           "47": 43.62,
           "5": 46.79,
           "6": 47.06,
           "7": 46.66,
           "8": 46.61,
           "9": 46.88,
           "bdata": "j8L1KFwPR0BmZmZmZiZHQK5H4XoU7kdArkfhehTuR0CF61G4HmVHQIXrUbgeZUdASOF6FK6HR0AUrkfhelRHQK5H4XoUTkdAcT0K16NwR0DsUbgehQtIQFyPwvUo/EhAAAAAAACgTEBxPQrXoxBPQHE9CtejAFFAhetRuB5VUkBSuB6F62FTQPYoXI/C9VRA16NwPQqnVUC4HoXrUbhVQGZmZmZmFlZA16NwPQr3VUAzMzMzMyNVQK5H4XoUrlRAKVyPwvXoU0BI4XoUrtdTQAAAAAAA8FJAhetRuB7FUkDXo3A9CpdSQHsUrkfhClJAexSuR+G6UUDD9Shcj/JQQM3MzMzMLFBAexSuR+EKUEAAAAAAAEBOQMP1KFyP4kxAUrgeheuRS0AUrkfhenRLQI/C9ShcD0tA9ihcj8IVS0CamZmZmblKQEjhehSuR0pA7FG4HoVLSUA9CtejcH1IQOF6FK5HwUdAXI/C9SjcRkDD9ShcjwJGQI/C9Shcz0VA",
           "dtype": "f8",
           "shape": "48"
          },
          "bdata": "j8L1KFwPR0BmZmZmZiZHQK5H4XoU7kdArkfhehTuR0CF61G4HmVHQIXrUbgeZUdASOF6FK6HR0AUrkfhelRHQK5H4XoUTkdAcT0K16NwR0DsUbgehQtIQFyPwvUo/EhAAAAAAACgTEBxPQrXoxBPQHE9CtejAFFAhetRuB5VUkBSuB6F62FTQPYoXI/C9VRA16NwPQqnVUC4HoXrUbhVQGZmZmZmFlZA16NwPQr3VUAzMzMzMyNVQK5H4XoUrlRAKVyPwvXoU0BI4XoUrtdTQAAAAAAA8FJAhetRuB7FUkDXo3A9CpdSQHsUrkfhClJAexSuR+G6UUDD9Shcj/JQQM3MzMzMLFBAexSuR+EKUEAAAAAAAEBOQMP1KFyP4kxAUrgeheuRS0AUrkfhenRLQI/C9ShcD0tA9ihcj8IVS0CamZmZmblKQEjhehSuR0pA7FG4HoVLSUA9CtejcH1IQOF6FK5HwUdAXI/C9SjcRkDD9ShcjwJGQI/C9Shcz0VA",
          "dtype": "f8"
         },
         "yaxis": "y"
        },
        {
         "hovertemplate": "Type=Actual_Demand<br>Settlement_Day=Fri 01/08/2025<br>Settlement_Period=%{x}<br>Volume=%{y}<extra></extra>",
         "legendgroup": "Actual_Demand",
         "line": {
          "color": "#e34a21",
          "dash": "solid"
         },
         "marker": {
          "symbol": "circle"
         },
         "mode": "lines",
         "name": "Actual_Demand",
         "orientation": "v",
         "showlegend": true,
         "type": "scatter",
         "x": {
          "_inputArray": {
           "0": 1,
           "1": 2,
           "10": 11,
           "11": 12,
           "12": 13,
           "13": 14,
           "14": 15,
           "15": 16,
           "16": 17,
           "17": 18,
           "18": 19,
           "19": 20,
           "2": 3,
           "20": 21,
           "21": 22,
           "22": 23,
           "23": 24,
           "24": 25,
           "25": 26,
           "26": 27,
           "27": 28,
           "28": 29,
           "29": 30,
           "3": 4,
           "30": 31,
           "31": 32,
           "32": 33,
           "33": 34,
           "34": 35,
           "35": 36,
           "36": 37,
           "37": 38,
           "38": 39,
           "39": 40,
           "4": 5,
           "40": 41,
           "41": 42,
           "42": 43,
           "43": 44,
           "44": 45,
           "45": 46,
           "46": 47,
           "47": 48,
           "5": 6,
           "6": 7,
           "7": 8,
           "8": 9,
           "9": 10,
           "bdata": "AQIDBAUGBwgJCgsMDQ4PEBESExQVFhcYGRobHB0eHyAhIiMkJSYnKCkqKywtLi8w",
           "dtype": "i1",
           "shape": "48"
          },
          "bdata": "AQIDBAUGBwgJCgsMDQ4PEBESExQVFhcYGRobHB0eHyAhIiMkJSYnKCkqKywtLi8w",
          "dtype": "i1"
         },
         "xaxis": "x",
         "y": {
          "_inputArray": {
           "0": 46.52,
           "1": 46.16,
           "10": 47.39,
           "11": 49.63,
           "12": 56.55,
           "13": 61.22,
           "14": 68.1,
           "15": 74.56,
           "16": 78.95,
           "17": 85.41,
           "18": 89.83,
           "19": 92.11,
           "2": 46.77,
           "20": 93.99,
           "21": 94.55,
           "22": 91.05,
           "23": 90.65,
           "24": 88.06,
           "25": 88.14,
           "26": 85.74,
           "27": 84.75,
           "28": 84.28,
           "29": 80,
           "3": 47.24,
           "30": 79.5,
           "31": 75.57,
           "32": 72.43,
           "33": 71,
           "34": 66.99,
           "35": 63.73,
           "36": 60.24,
           "37": 59.41,
           "38": 57.71,
           "39": 57.15,
           "4": 46.7,
           "40": 55.26,
           "41": 54.12,
           "42": 52.74,
           "43": 51.45,
           "44": 49.36,
           "45": 47.18,
           "46": 44.83,
           "47": 44.62,
           "5": 46.44,
           "6": 46.03,
           "7": 45.54,
           "8": 46.14,
           "9": 46.72,
           "bdata": "w/UoXI9CR0AUrkfhehRHQMP1KFyPYkdAH4XrUbieR0CamZmZmVlHQLgehetROEdApHA9CtcDR0CF61G4HsVGQFK4HoXrEUdAXI/C9ShcR0BSuB6F67FHQHE9Ctej0EhAZmZmZmZGTEBcj8L1KJxOQGZmZmZmBlFApHA9CtejUkDNzMzMzLxTQArXo3A9WlVAhetRuB51VkDXo3A9CgdXQI/C9Shcf1dAMzMzMzOjV0AzMzMzM8NWQJqZmZmZqVZApHA9CtcDVkApXI/C9QhWQI/C9Shcb1VAAAAAAAAwVUBSuB6F6xFVQAAAAAAAAFRAAAAAAADgU0AUrkfheuRSQOxRuB6FG1JAAAAAAADAUUCPwvUoXL9QQD0K16Nw3U9AH4XrUbgeTkAUrkfherRNQHsUrkfh2kxAMzMzMzOTTEDhehSuR6FLQI/C9ShcD0tAH4XrUbheSkCamZmZmblJQK5H4XoUrkhA16NwPQqXR0AK16NwPWpGQI/C9ShcT0ZA",
           "dtype": "f8",
           "shape": "48"
          },
          "bdata": "w/UoXI9CR0AUrkfhehRHQMP1KFyPYkdAH4XrUbieR0CamZmZmVlHQLgehetROEdApHA9CtcDR0CF61G4HsVGQFK4HoXrEUdAXI/C9ShcR0BSuB6F67FHQHE9Ctej0EhAZmZmZmZGTEBcj8L1KJxOQGZmZmZmBlFApHA9CtejUkDNzMzMzLxTQArXo3A9WlVAhetRuB51VkDXo3A9CgdXQI/C9Shcf1dAMzMzMzOjV0AzMzMzM8NWQJqZmZmZqVZApHA9CtcDVkApXI/C9QhWQI/C9Shcb1VAAAAAAAAwVUBSuB6F6xFVQAAAAAAAAFRAAAAAAADgU0AUrkfheuRSQOxRuB6FG1JAAAAAAADAUUCPwvUoXL9QQD0K16Nw3U9AH4XrUbgeTkAUrkfherRNQHsUrkfh2kxAMzMzMzOTTEDhehSuR6FLQI/C9ShcD0tAH4XrUbheSkCamZmZmblJQK5H4XoUrkhA16NwPQqXR0AK16NwPWpGQI/C9ShcT0ZA",
          "dtype": "f8"
         },
         "yaxis": "y"
        },
        {
         "hovertemplate": "Type=Hedged Volume<br>Settlement_Day=Fri 01/08/2025<br>Settlement_Period=%{x}<br>Volume=%{y}<extra></extra>",
         "legendgroup": "Hedged Volume",
         "line": {
          "color": "#17a398",
          "dash": "solid"
         },
         "marker": {
          "symbol": "circle"
         },
         "mode": "lines",
         "name": "Hedged Volume",
         "orientation": "v",
         "showlegend": true,
         "type": "scatter",
         "x": {
          "_inputArray": {
           "0": 1,
           "1": 2,
           "10": 11,
           "11": 12,
           "12": 13,
           "13": 14,
           "14": 15,
           "15": 16,
           "16": 17,
           "17": 18,
           "18": 19,
           "19": 20,
           "2": 3,
           "20": 21,
           "21": 22,
           "22": 23,
           "23": 24,
           "24": 25,
           "25": 26,
           "26": 27,
           "27": 28,
           "28": 29,
           "29": 30,
           "3": 4,
           "30": 31,
           "31": 32,
           "32": 33,
           "33": 34,
           "34": 35,
           "35": 36,
           "36": 37,
           "37": 38,
           "38": 39,
           "39": 40,
           "4": 5,
           "40": 41,
           "41": 42,
           "42": 43,
           "43": 44,
           "44": 45,
           "45": 46,
           "46": 47,
           "47": 48,
           "5": 6,
           "6": 7,
           "7": 8,
           "8": 9,
           "9": 10,
           "bdata": "AQIDBAUGBwgJCgsMDQ4PEBESExQVFhcYGRobHB0eHyAhIiMkJSYnKCkqKywtLi8w",
           "dtype": "i1",
           "shape": "48"
          },
          "bdata": "AQIDBAUGBwgJCgsMDQ4PEBESExQVFhcYGRobHB0eHyAhIiMkJSYnKCkqKywtLi8w",
          "dtype": "i1"
         },
         "xaxis": "x",
         "y": {
          "_inputArray": {
           "0": 49.21,
           "1": 49.21,
           "10": 49.21,
           "11": 49.21,
           "12": 49.21,
           "13": 49.21,
           "14": 73.83,
           "15": 73.83,
           "16": 73.83,
           "17": 73.83,
           "18": 73.83,
           "19": 73.83,
           "2": 49.21,
           "20": 73.83,
           "21": 73.83,
           "22": 73.83,
           "23": 73.83,
           "24": 73.83,
           "25": 73.83,
           "26": 73.83,
           "27": 73.83,
           "28": 73.83,
           "29": 73.83,
           "3": 49.21,
           "30": 73.83,
           "31": 73.83,
           "32": 73.83,
           "33": 73.83,
           "34": 73.83,
           "35": 73.83,
           "36": 73.83,
           "37": 73.83,
           "38": 49.21,
           "39": 49.21,
           "4": 49.21,
           "40": 49.21,
           "41": 49.21,
           "42": 49.21,
           "43": 49.21,
           "44": 49.21,
           "45": 49.21,
           "46": 49.21,
           "47": 49.21,
           "5": 49.21,
           "6": 49.21,
           "7": 49.21,
           "8": 49.21,
           "9": 49.21,
           "bdata": "exSuR+GaSEB7FK5H4ZpIQHsUrkfhmkhAexSuR+GaSEB7FK5H4ZpIQHsUrkfhmkhAexSuR+GaSEB7FK5H4ZpIQHsUrkfhmkhAexSuR+GaSEB7FK5H4ZpIQHsUrkfhmkhAexSuR+GaSEB7FK5H4ZpIQIXrUbgedVJAhetRuB51UkCF61G4HnVSQIXrUbgedVJAhetRuB51UkCF61G4HnVSQIXrUbgedVJAhetRuB51UkCF61G4HnVSQIXrUbgedVJAhetRuB51UkCF61G4HnVSQIXrUbgedVJAhetRuB51UkCF61G4HnVSQIXrUbgedVJAhetRuB51UkCF61G4HnVSQIXrUbgedVJAhetRuB51UkCF61G4HnVSQIXrUbgedVJAhetRuB51UkCF61G4HnVSQHsUrkfhmkhAexSuR+GaSEB7FK5H4ZpIQHsUrkfhmkhAexSuR+GaSEB7FK5H4ZpIQHsUrkfhmkhAexSuR+GaSEB7FK5H4ZpIQHsUrkfhmkhA",
           "dtype": "f8",
           "shape": "48"
          },
          "bdata": "exSuR+GaSEB7FK5H4ZpIQHsUrkfhmkhAexSuR+GaSEB7FK5H4ZpIQHsUrkfhmkhAexSuR+GaSEB7FK5H4ZpIQHsUrkfhmkhAexSuR+GaSEB7FK5H4ZpIQHsUrkfhmkhAexSuR+GaSEB7FK5H4ZpIQIXrUbgedVJAhetRuB51UkCF61G4HnVSQIXrUbgedVJAhetRuB51UkCF61G4HnVSQIXrUbgedVJAhetRuB51UkCF61G4HnVSQIXrUbgedVJAhetRuB51UkCF61G4HnVSQIXrUbgedVJAhetRuB51UkCF61G4HnVSQIXrUbgedVJAhetRuB51UkCF61G4HnVSQIXrUbgedVJAhetRuB51UkCF61G4HnVSQIXrUbgedVJAhetRuB51UkCF61G4HnVSQHsUrkfhmkhAexSuR+GaSEB7FK5H4ZpIQHsUrkfhmkhAexSuR+GaSEB7FK5H4ZpIQHsUrkfhmkhAexSuR+GaSEB7FK5H4ZpIQHsUrkfhmkhA",
          "dtype": "f8"
         },
         "yaxis": "y"
        }
       ],
       "frames": [
        {
         "data": [
          {
           "hovertemplate": "Type=Purchased_Volume<br>Settlement_Day=Fri 01/08/2025<br>Settlement_Period=%{x}<br>Volume=%{y}<extra></extra>",
           "legendgroup": "Purchased_Volume",
           "line": {
            "color": "#00314a",
            "dash": "solid"
           },
           "marker": {
            "symbol": "circle"
           },
           "mode": "lines",
           "name": "Purchased_Volume",
           "orientation": "v",
           "showlegend": true,
           "type": "scatter",
           "x": {
            "bdata": "AQIDBAUGBwgJCgsMDQ4PEBESExQVFhcYGRobHB0eHyAhIiMkJSYnKCkqKywtLi8w",
            "dtype": "i1"
           },
           "xaxis": "x",
           "y": {
            "bdata": "j8L1KFwPR0BmZmZmZiZHQK5H4XoU7kdArkfhehTuR0CF61G4HmVHQIXrUbgeZUdASOF6FK6HR0AUrkfhelRHQK5H4XoUTkdAcT0K16NwR0DsUbgehQtIQFyPwvUo/EhAAAAAAACgTEBxPQrXoxBPQHE9CtejAFFAhetRuB5VUkBSuB6F62FTQPYoXI/C9VRA16NwPQqnVUC4HoXrUbhVQGZmZmZmFlZA16NwPQr3VUAzMzMzMyNVQK5H4XoUrlRAKVyPwvXoU0BI4XoUrtdTQAAAAAAA8FJAhetRuB7FUkDXo3A9CpdSQHsUrkfhClJAexSuR+G6UUDD9Shcj/JQQM3MzMzMLFBAexSuR+EKUEAAAAAAAEBOQMP1KFyP4kxAUrgeheuRS0AUrkfhenRLQI/C9ShcD0tA9ihcj8IVS0CamZmZmblKQEjhehSuR0pA7FG4HoVLSUA9CtejcH1IQOF6FK5HwUdAXI/C9SjcRkDD9ShcjwJGQI/C9Shcz0VA",
            "dtype": "f8"
           },
           "yaxis": "y"
          },
          {
           "hovertemplate": "Type=Actual_Demand<br>Settlement_Day=Fri 01/08/2025<br>Settlement_Period=%{x}<br>Volume=%{y}<extra></extra>",
           "legendgroup": "Actual_Demand",
           "line": {
            "color": "#e34a21",
            "dash": "solid"
           },
           "marker": {
            "symbol": "circle"
           },
           "mode": "lines",
           "name": "Actual_Demand",
           "orientation": "v",
           "showlegend": true,
           "type": "scatter",
           "x": {
            "bdata": "AQIDBAUGBwgJCgsMDQ4PEBESExQVFhcYGRobHB0eHyAhIiMkJSYnKCkqKywtLi8w",
            "dtype": "i1"
           },
           "xaxis": "x",
           "y": {
            "bdata": "w/UoXI9CR0AUrkfhehRHQMP1KFyPYkdAH4XrUbieR0CamZmZmVlHQLgehetROEdApHA9CtcDR0CF61G4HsVGQFK4HoXrEUdAXI/C9ShcR0BSuB6F67FHQHE9Ctej0EhAZmZmZmZGTEBcj8L1KJxOQGZmZmZmBlFApHA9CtejUkDNzMzMzLxTQArXo3A9WlVAhetRuB51VkDXo3A9CgdXQI/C9Shcf1dAMzMzMzOjV0AzMzMzM8NWQJqZmZmZqVZApHA9CtcDVkApXI/C9QhWQI/C9Shcb1VAAAAAAAAwVUBSuB6F6xFVQAAAAAAAAFRAAAAAAADgU0AUrkfheuRSQOxRuB6FG1JAAAAAAADAUUCPwvUoXL9QQD0K16Nw3U9AH4XrUbgeTkAUrkfherRNQHsUrkfh2kxAMzMzMzOTTEDhehSuR6FLQI/C9ShcD0tAH4XrUbheSkCamZmZmblJQK5H4XoUrkhA16NwPQqXR0AK16NwPWpGQI/C9ShcT0ZA",
            "dtype": "f8"
           },
           "yaxis": "y"
          },
          {
           "hovertemplate": "Type=Hedged Volume<br>Settlement_Day=Fri 01/08/2025<br>Settlement_Period=%{x}<br>Volume=%{y}<extra></extra>",
           "legendgroup": "Hedged Volume",
           "line": {
            "color": "#17a398",
            "dash": "solid"
           },
           "marker": {
            "symbol": "circle"
           },
           "mode": "lines",
           "name": "Hedged Volume",
           "orientation": "v",
           "showlegend": true,
           "type": "scatter",
           "x": {
            "bdata": "AQIDBAUGBwgJCgsMDQ4PEBESExQVFhcYGRobHB0eHyAhIiMkJSYnKCkqKywtLi8w",
            "dtype": "i1"
           },
           "xaxis": "x",
           "y": {
            "bdata": "exSuR+GaSEB7FK5H4ZpIQHsUrkfhmkhAexSuR+GaSEB7FK5H4ZpIQHsUrkfhmkhAexSuR+GaSEB7FK5H4ZpIQHsUrkfhmkhAexSuR+GaSEB7FK5H4ZpIQHsUrkfhmkhAexSuR+GaSEB7FK5H4ZpIQIXrUbgedVJAhetRuB51UkCF61G4HnVSQIXrUbgedVJAhetRuB51UkCF61G4HnVSQIXrUbgedVJAhetRuB51UkCF61G4HnVSQIXrUbgedVJAhetRuB51UkCF61G4HnVSQIXrUbgedVJAhetRuB51UkCF61G4HnVSQIXrUbgedVJAhetRuB51UkCF61G4HnVSQIXrUbgedVJAhetRuB51UkCF61G4HnVSQIXrUbgedVJAhetRuB51UkCF61G4HnVSQHsUrkfhmkhAexSuR+GaSEB7FK5H4ZpIQHsUrkfhmkhAexSuR+GaSEB7FK5H4ZpIQHsUrkfhmkhAexSuR+GaSEB7FK5H4ZpIQHsUrkfhmkhA",
            "dtype": "f8"
           },
           "yaxis": "y"
          }
         ],
         "name": "Fri 01/08/2025"
        },
        {
         "data": [
          {
           "hovertemplate": "Type=Purchased_Volume<br>Settlement_Day=Sat 02/08/2025<br>Settlement_Period=%{x}<br>Volume=%{y}<extra></extra>",
           "legendgroup": "Purchased_Volume",
           "line": {
            "color": "#00314a",
            "dash": "solid"
           },
           "marker": {
            "symbol": "circle"
           },
           "mode": "lines",
           "name": "Purchased_Volume",
           "orientation": "v",
           "showlegend": true,
           "type": "scatter",
           "x": {
            "bdata": "AQIDBAUGBwgJCgsMDQ4PEBESExQVFhcYGRobHB0eHyAhIiMkJSYnKCkqKywtLi8w",
            "dtype": "i1"
           },
           "xaxis": "x",
           "y": {
            "bdata": "KVyPwvXIRUBcj8L1KDxGQK5H4XoUTkdA4XoUrkehRUDNzMzMzKxFQKRwPQrX40RAcT0K16NQRUAK16NwPepEQDMzMzMz00RAmpmZmZl5RUApXI/C9chFQK5H4XoUbkVAMzMzMzOzRkAUrkfhevRHQEjhehSuZ0lArkfhehSuSkAfhetRuP5KQIXrUbgexUpAZmZmZmamTEBxPQrXo5BNQJqZmZmZ2UxAPQrXo3D9TUBcj8L1KPxMQK5H4XoUTktAH4XrUbieS0B7FK5H4XpKQEjhehSu50pAzczMzMxMSkCkcD0K18NJQI/C9ShcT0hAj8L1KFwvSUBI4XoUrkdKQK5H4XoUrkpAPQrXo3CdSkBSuB6F65FKQB+F61G43khAKVyPwvUoSUDD9Shcj8JIQHsUrkfhOklApHA9CtcjSUDNzMzMzOxKQAAAAAAAIEpACtejcD1KSEAAAAAAAGBHQArXo3A9CkdAH4XrUbj+RkDhehSuRwFFQOF6FK5HAUVA",
            "dtype": "f8"
           },
           "yaxis": "y"
          },
          {
           "hovertemplate": "Type=Actual_Demand<br>Settlement_Day=Sat 02/08/2025<br>Settlement_Period=%{x}<br>Volume=%{y}<extra></extra>",
           "legendgroup": "Actual_Demand",
           "line": {
            "color": "#e34a21",
            "dash": "solid"
           },
           "marker": {
            "symbol": "circle"
           },
           "mode": "lines",
           "name": "Actual_Demand",
           "orientation": "v",
           "showlegend": true,
           "type": "scatter",
           "x": {
            "bdata": "AQIDBAUGBwgJCgsMDQ4PEBESExQVFhcYGRobHB0eHyAhIiMkJSYnKCkqKywtLi8w",
            "dtype": "i1"
           },
           "xaxis": "x",
           "y": {
            "bdata": "H4XrUbg+RkAAAAAAAGBGQHE9CtejcEZAzczMzMyMRUAK16NwPapFQD0K16NwnUVAPQrXo3DdRUA9CtejcJ1FQDMzMzMzU0VA9ihcj8K1RUCPwvUoXA9GQFyPwvUo/EVA4XoUrkfhRkAAAAAAAMBHQClcj8L1KElACtejcD2qSkA9CtejcD1LQPYoXI/C1UtA7FG4HoXLTEDsUbgehWtOQFK4HoXr0U1APQrXo3BdT0BSuB6F65FOQGZmZmZmpk1APQrXo3BdTUBcj8L1KLxMQLgehetRmExApHA9CtdjTEAAAAAAAEBLQHsUrkfhGkpAPQrXo3A9SkAfhetRuN5LQEjhehSuh0tAKVyPwvUoS0BI4XoUridLQFK4HoXrUUlAhetRuB6FSUDhehSuRwFJQIXrUbgeZUlAuB6F61FYSUBSuB6F65FKQArXo3A96klAexSuR+HaSEBxPQrXo3BIQJqZmZmZ+UdAKVyPwvXIR0A9CtejcP1FQClcj8L16EVA",
            "dtype": "f8"
           },
           "yaxis": "y"
          },
          {
           "hovertemplate": "Type=Hedged Volume<br>Settlement_Day=Sat 02/08/2025<br>Settlement_Period=%{x}<br>Volume=%{y}<extra></extra>",
           "legendgroup": "Hedged Volume",
           "line": {
            "color": "#17a398",
            "dash": "solid"
           },
           "marker": {
            "symbol": "circle"
           },
           "mode": "lines",
           "name": "Hedged Volume",
           "orientation": "v",
           "showlegend": true,
           "type": "scatter",
           "x": {
            "bdata": "AQIDBAUGBwgJCgsMDQ4PEBESExQVFhcYGRobHB0eHyAhIiMkJSYnKCkqKywtLi8w",
            "dtype": "i1"
           },
           "xaxis": "x",
           "y": {
            "bdata": "H4XrUbi+SEAfhetRuL5IQB+F61G4vkhAH4XrUbi+SEAfhetRuL5IQB+F61G4vkhAH4XrUbi+SEAfhetRuL5IQB+F61G4vkhAH4XrUbi+SEAfhetRuL5IQB+F61G4vkhAH4XrUbi+SEAfhetRuL5IQB+F61G4vkhAH4XrUbi+SEAfhetRuL5IQB+F61G4vkhAH4XrUbi+SEAfhetRuL5IQB+F61G4vkhAH4XrUbi+SEAfhetRuL5IQB+F61G4vkhAH4XrUbi+SEAfhetRuL5IQB+F61G4vkhAH4XrUbi+SEAfhetRuL5IQB+F61G4vkhAH4XrUbi+SEAfhetRuL5IQB+F61G4vkhAH4XrUbi+SEAfhetRuL5IQB+F61G4vkhAH4XrUbi+SEAfhetRuL5IQB+F61G4vkhAH4XrUbi+SEAfhetRuL5IQB+F61G4vkhAH4XrUbi+SEAfhetRuL5IQB+F61G4vkhAH4XrUbi+SEAfhetRuL5IQB+F61G4vkhA",
            "dtype": "f8"
           },
           "yaxis": "y"
          }
         ],
         "name": "Sat 02/08/2025"
        },
        {
         "data": [
          {
           "hovertemplate": "Type=Purchased_Volume<br>Settlement_Day=Sun 03/08/2025<br>Settlement_Period=%{x}<br>Volume=%{y}<extra></extra>",
           "legendgroup": "Purchased_Volume",
           "line": {
            "color": "#00314a",
            "dash": "solid"
           },
           "marker": {
            "symbol": "circle"
           },
           "mode": "lines",
           "name": "Purchased_Volume",
           "orientation": "v",
           "showlegend": true,
           "type": "scatter",
           "x": {
            "bdata": "AQIDBAUGBwgJCgsMDQ4PEBESExQVFhcYGRobHB0eHyAhIiMkJSYnKCkqKywtLi8w",
            "dtype": "i1"
           },
           "xaxis": "x",
           "y": {
            "bdata": "zczMzMwMRUDNzMzMzAxFQOF6FK5HAUVA4XoUrkcBRUBcj8L1KLxEQFyPwvUovERAUrgehetxREBSuB6F63FEQMP1KFyPgkRAw/UoXI+CRECamZmZmTlFQJqZmZmZOUVAzczMzMwMRUDNzMzMzAxFQHsUrkfhmkVAexSuR+GaRUBSuB6F65FGQFK4HoXrkUZAw/UoXI8iSEDD9ShcjyJIQD0K16NwHUlAPQrXo3AdSUBxPQrXo5BJQHE9CtejkElAUrgehesRSUBSuB6F6xFJQM3MzMzMrElAzczMzMysSUDD9Shcj2JJQMP1KFyPYklArkfhehQOSkCuR+F6FA5KQLgehetReEhAuB6F61F4SECPwvUoXI9IQI/C9Shcj0hApHA9CteDSECkcD0K14NIQGZmZmZmZkhAZmZmZmZmSEBI4XoUrodHQEjhehSuh0dASOF6FK6HR0BI4XoUrodHQLgehetRWEZAuB6F61FYRkCkcD0K18NFQKRwPQrXw0VA",
            "dtype": "f8"
           },
           "yaxis": "y"
          },
          {
           "hovertemplate": "Type=Actual_Demand<br>Settlement_Day=Sun 03/08/2025<br>Settlement_Period=%{x}<br>Volume=%{y}<extra></extra>",
           "legendgroup": "Actual_Demand",
           "line": {
            "color": "#e34a21",
            "dash": "solid"
           },
           "marker": {
            "symbol": "circle"
           },
           "mode": "lines",
           "name": "Actual_Demand",
           "orientation": "v",
           "showlegend": true,
           "type": "scatter",
           "x": {
            "bdata": "AQIDBAUGBwgJCgsMDQ4PEBESExQVFhcYGRobHB0eHyAhIiMkJSYnKCkqKywtLi8w",
            "dtype": "i1"
           },
           "xaxis": "x",
           "y": {
            "bdata": "FK5H4Xq0RUD2KFyPwpVFQB+F61G4/kVA7FG4HoXLRUCPwvUoXG9FQDMzMzMzU0VA16NwPQr3REBxPQrXoxBFQK5H4XoUDkVASOF6FK4nRUD2KFyPwjVFQM3MzMzMbEVAMzMzMzOzRUCamZmZmdlFQLgehetReEZASOF6FK6nRkCuR+F6FC5HQKRwPQrXA0hAj8L1KFwvSUDsUbgehUtJQB+F61G4HkpAFK5H4Xp0SkApXI/C9ehKQI/C9Shcz0pACtejcD2qSkC4HoXrUVhKQFyPwvUoPEpAXI/C9SgcSkA9CtejcP1JQIXrUbgeJUpAKVyPwvVISkCamZmZmTlKQOxRuB6Fq0lASOF6FK4nSUCamZmZmdlIQClcj8L1aEhACtejcD3KR0Bcj8L1KLxHQOxRuB6Fy0dAXI/C9SjcR0CkcD0K1wNIQEjhehSuJ0hA16NwPQoXSEBmZmZmZoZHQFK4HoXrUUdAKVyPwvWoRkAzMzMzM1NGQK5H4XoULkZA",
            "dtype": "f8"
           },
           "yaxis": "y"
          },
          {
           "hovertemplate": "Type=Hedged Volume<br>Settlement_Day=Sun 03/08/2025<br>Settlement_Period=%{x}<br>Volume=%{y}<extra></extra>",
           "legendgroup": "Hedged Volume",
           "line": {
            "color": "#17a398",
            "dash": "solid"
           },
           "marker": {
            "symbol": "circle"
           },
           "mode": "lines",
           "name": "Hedged Volume",
           "orientation": "v",
           "showlegend": true,
           "type": "scatter",
           "x": {
            "bdata": "AQIDBAUGBwgJCgsMDQ4PEBESExQVFhcYGRobHB0eHyAhIiMkJSYnKCkqKywtLi8w",
            "dtype": "i1"
           },
           "xaxis": "x",
           "y": {
            "bdata": "rkfhehQuR0CuR+F6FC5HQK5H4XoULkdArkfhehQuR0CuR+F6FC5HQK5H4XoULkdArkfhehQuR0CuR+F6FC5HQK5H4XoULkdArkfhehQuR0CuR+F6FC5HQK5H4XoULkdArkfhehQuR0CuR+F6FC5HQK5H4XoULkdArkfhehQuR0CuR+F6FC5HQK5H4XoULkdArkfhehQuR0CuR+F6FC5HQK5H4XoULkdArkfhehQuR0CuR+F6FC5HQK5H4XoULkdArkfhehQuR0CuR+F6FC5HQK5H4XoULkdArkfhehQuR0CuR+F6FC5HQK5H4XoULkdArkfhehQuR0CuR+F6FC5HQK5H4XoULkdArkfhehQuR0CuR+F6FC5HQK5H4XoULkdArkfhehQuR0CuR+F6FC5HQK5H4XoULkdArkfhehQuR0CuR+F6FC5HQK5H4XoULkdArkfhehQuR0CuR+F6FC5HQK5H4XoULkdArkfhehQuR0CuR+F6FC5HQK5H4XoULkdA",
            "dtype": "f8"
           },
           "yaxis": "y"
          }
         ],
         "name": "Sun 03/08/2025"
        },
        {
         "data": [
          {
           "hovertemplate": "Type=Purchased_Volume<br>Settlement_Day=Mon 04/08/2025<br>Settlement_Period=%{x}<br>Volume=%{y}<extra></extra>",
           "legendgroup": "Purchased_Volume",
           "line": {
            "color": "#00314a",
            "dash": "solid"
           },
           "marker": {
            "symbol": "circle"
           },
           "mode": "lines",
           "name": "Purchased_Volume",
           "orientation": "v",
           "showlegend": true,
           "type": "scatter",
           "x": {
            "bdata": "AQIDBAUGBwgJCgsMDQ4PEBESExQVFhcYGRobHB0eHyAhIiMkJSYnKCkqKywtLi8w",
            "dtype": "i1"
           },
           "xaxis": "x",
           "y": {
            "bdata": "mpmZmZlZR0CamZmZmVlHQM3MzMzMzEdAzczMzMzMR0DhehSuR4FHQOF6FK5HgUdAAAAAAABgR0AAAAAAAGBHQJqZmZmZ2UhAmpmZmZnZSEBSuB6F6zFHQFK4HoXrMUdAw/UoXI+iSkDD9Shcj6JKQOF6FK5HgUxA4XoUrkeBTEB7FK5H4fpNQHsUrkfh+k1A9ihcj8L1TUD2KFyPwvVNQArXo3A96k1ACtejcD3qTUApXI/C9ShOQClcj8L1KE5ASOF6FK5nTkBI4XoUrmdOQHsUrkfhukxAexSuR+G6TEAUrkfhevRMQBSuR+F69ExAmpmZmZmZTUCamZmZmZlNQOxRuB6Fi0tA7FG4HoWLS0DNzMzMzOxLQM3MzMzM7EtAmpmZmZkZS0CamZmZmRlLQDMzMzMzU0pAMzMzMzNTSkAUrkfhelRLQBSuR+F6VEtAH4XrUbheSkAfhetRuF5KQClcj8L16EdAKVyPwvXoR0AzMzMzMzNIQDMzMzMzM0hA",
            "dtype": "f8"
           },
           "yaxis": "y"
          },
          {
           "hovertemplate": "Type=Actual_Demand<br>Settlement_Day=Mon 04/08/2025<br>Settlement_Period=%{x}<br>Volume=%{y}<extra></extra>",
           "legendgroup": "Actual_Demand",
           "line": {
            "color": "#e34a21",
            "dash": "solid"
           },
           "marker": {
            "symbol": "circle"
           },
           "mode": "lines",
           "name": "Actual_Demand",
           "orientation": "v",
           "showlegend": true,
           "type": "scatter",
           "x": {
            "bdata": "AQIDBAUGBwgJCgsMDQ4PEBESExQVFhcYGRobHB0eHyAhIiMkJSYnKCkqKywtLi8w",
            "dtype": "i1"
           },
           "xaxis": "x",
           "y": {
            "bdata": "UrgehevRRUBSuB6F67FGQArXo3A96kZArkfhehSORkCkcD0K10NGQOxRuB6FC0ZAzczMzMxsRkDhehSuR8FGQGZmZmZm5kZA4XoUrkcBR0Bcj8L1KNxGQClcj8L1CEdAexSuR+FaSECPwvUoXM9IQJqZmZmZ2UpApHA9CtdDS0CamZmZmTlMQOF6FK5HwU1AuB6F61HYTUB7FK5H4dpOQIXrUbgeJU9AcT0K16NQT0BI4XoUrsdNQJqZmZmZ+U1AuB6F61FYTkAzMzMzM/NPQHsUrkfhOk9AmpmZmZn5TUCuR+F6FA5NQOxRuB6Fi01AAAAAAACgTEBSuB6F61FMQEjhehSuZ0xAzczMzMysTEBSuB6F6xFLQK5H4XoUbktAhetRuB5lSUBxPQrXo9BJQM3MzMzMDEpAAAAAAACgSEDhehSuR2FJQB+F61G4PklAKVyPwvVoSkAK16NwPepIQI/C9Shcz0hA9ihcj8I1SEAfhetRuJ5HQOF6FK5HoUZA",
            "dtype": "f8"
           },
           "yaxis": "y"
          },
          {
           "hovertemplate": "Type=Hedged Volume<br>Settlement_Day=Mon 04/08/2025<br>Settlement_Period=%{x}<br>Volume=%{y}<extra></extra>",
           "legendgroup": "Hedged Volume",
           "line": {
            "color": "#17a398",
            "dash": "solid"
           },
           "marker": {
            "symbol": "circle"
           },
           "mode": "lines",
           "name": "Hedged Volume",
           "orientation": "v",
           "showlegend": true,
           "type": "scatter",
           "x": {
            "bdata": "AQIDBAUGBwgJCgsMDQ4PEBESExQVFhcYGRobHB0eHyAhIiMkJSYnKCkqKywtLi8w",
            "dtype": "i1"
           },
           "xaxis": "x",
           "y": {
            "bdata": "ZmZmZmaGSkBmZmZmZoZKQGZmZmZmhkpAZmZmZmaGSkBmZmZmZoZKQGZmZmZmhkpAZmZmZmaGSkBmZmZmZoZKQGZmZmZmhkpAZmZmZmaGSkBmZmZmZoZKQGZmZmZmhkpAZmZmZmaGSkBmZmZmZoZKQPYoXI/C5VVA9ihcj8LlVUD2KFyPwuVVQPYoXI/C5VVA9ihcj8LlVUD2KFyPwuVVQPYoXI/C5VVA9ihcj8LlVUD2KFyPwuVVQPYoXI/C5VVA9ihcj8LlVUD2KFyPwuVVQPYoXI/C5VVA9ihcj8LlVUD2KFyPwuVVQPYoXI/C5VVA9ihcj8LlVUD2KFyPwuVVQPYoXI/C5VVA9ihcj8LlVUD2KFyPwuVVQPYoXI/C5VVA9ihcj8LlVUD2KFyPwuVVQGZmZmZmhkpAZmZmZmaGSkBmZmZmZoZKQGZmZmZmhkpAZmZmZmaGSkBmZmZmZoZKQGZmZmZmhkpAZmZmZmaGSkBmZmZmZoZKQFyPwvUovEhA",
            "dtype": "f8"
           },
           "yaxis": "y"
          }
         ],
         "name": "Mon 04/08/2025"
        },
        {
         "data": [
          {
           "hovertemplate": "Type=Purchased_Volume<br>Settlement_Day=Tue 05/08/2025<br>Settlement_Period=%{x}<br>Volume=%{y}<extra></extra>",
           "legendgroup": "Purchased_Volume",
           "line": {
            "color": "#00314a",
            "dash": "solid"
           },
           "marker": {
            "symbol": "circle"
           },
           "mode": "lines",
           "name": "Purchased_Volume",
           "orientation": "v",
           "showlegend": true,
           "type": "scatter",
           "x": {
            "bdata": "AQIDBAUGBwgJCgsMDQ4PEBESExQVFhcYGRobHB0eHyAhIiMkJSYnKCkqKywtLi8w",
            "dtype": "i1"
           },
           "xaxis": "x",
           "y": {
            "bdata": "zczMzMzMR0DNzMzMzMxHQEjhehSux0hASOF6FK7HSEDsUbgehQtIQOxRuB6FC0hAZmZmZmbGR0BmZmZmZsZHQEjhehSuJ0hASOF6FK4nSEDNzMzMzKxJQM3MzMzMrElAj8L1KFxPT0CPwvUoXE9PQDMzMzMzI1NAMzMzMzMjU0DNzMzMzExWQM3MzMzMTFZAZmZmZmbmV0BmZmZmZuZXQNejcD0KZ1hA16NwPQpnWEDNzMzMzGxYQM3MzMzMbFhA7FG4HoULWEDsUbgehQtYQK5H4XoUbldArkfhehRuV0BSuB6F6+FWQFK4HoXr4VZAFK5H4XpEVkAUrkfhekRWQIXrUbgeFVVAhetRuB4VVUBxPQrXo2BSQHE9CtejYFJAuB6F61GIUEC4HoXrUYhQQOF6FK5HwU9A4XoUrkfBT0DNzMzMzIxOQM3MzMzMjE5ASOF6FK5nTEBI4XoUrmdMQBSuR+F61ElAFK5H4XrUSUCPwvUoXE9IQFyPwvUoHEhA",
            "dtype": "f8"
           },
           "yaxis": "y"
          },
          {
           "hovertemplate": "Type=Actual_Demand<br>Settlement_Day=Tue 05/08/2025<br>Settlement_Period=%{x}<br>Volume=%{y}<extra></extra>",
           "legendgroup": "Actual_Demand",
           "line": {
            "color": "#e34a21",
            "dash": "solid"
           },
           "marker": {
            "symbol": "circle"
           },
           "mode": "lines",
           "name": "Actual_Demand",
           "orientation": "v",
           "showlegend": true,
           "type": "scatter",
           "x": {
            "bdata": "AQIDBAUGBwgJCgsMDQ4PEBESExQVFhcYGRobHB0eHyAhIiMkJSYnKCkqKywtLi8w",
            "dtype": "i1"
           },
           "xaxis": "x",
           "y": {
            "bdata": "AAAAAACARkD2KFyPwrVGQOxRuB6FK0dA7FG4HoVLR0DD9ShcjyJHQMP1KFyPAkdArkfhehQOR0A9CtejcB1HQClcj8L1iEdA4XoUrkfhR0DD9Shcj+JIQOF6FK5HAUpA16NwPQo3TkAUrkfhepRQQM3MzMzMjFJASOF6FK43VEAfhetRuP5VQI/C9Shcn1dASOF6FK63WECamZmZmdlYQAAAAAAAAFlAMzMzMzNTWUDsUbgehbtZQK5H4XoUHllAcT0K16PAWECPwvUoXI9YQFK4HoXr8VdApHA9CteDV0CamZmZmSlXQI/C9Shcr1ZAMzMzMzMjVkBcj8L1KMxVQK5H4XoUPlVAj8L1KFxfVEAK16NwPbpSQKRwPQrXw1FACtejcD16UEAzMzMzMyNQQMP1KFyPok9AexSuR+H6TkAzMzMzM3NOQMP1KFyP4k1ApHA9CtcjTUAUrkfherRLQOxRuB6Fi0pAexSuR+F6SUCuR+F6FG5IQHE9Ctej8EdA",
            "dtype": "f8"
           },
           "yaxis": "y"
          },
          {
           "hovertemplate": "Type=Hedged Volume<br>Settlement_Day=Tue 05/08/2025<br>Settlement_Period=%{x}<br>Volume=%{y}<extra></extra>",
           "legendgroup": "Hedged Volume",
           "line": {
            "color": "#17a398",
            "dash": "solid"
           },
           "marker": {
            "symbol": "circle"
           },
           "mode": "lines",
           "name": "Hedged Volume",
           "orientation": "v",
           "showlegend": true,
           "type": "scatter",
           "x": {
            "bdata": "AQIDBAUGBwgJCgsMDQ4PEBESExQVFhcYGRobHB0eHyAhIiMkJSYnKCkqKywtLi8w",
            "dtype": "i1"
           },
           "xaxis": "x",
           "y": {
            "bdata": "ZmZmZmaGSkBmZmZmZoZKQGZmZmZmhkpAZmZmZmaGSkBmZmZmZoZKQGZmZmZmhkpAZmZmZmaGSkBmZmZmZoZKQGZmZmZmhkpAZmZmZmaGSkBmZmZmZoZKQGZmZmZmhkpAZmZmZmaGSkBmZmZmZoZKQPYoXI/C5VVA9ihcj8LlVUD2KFyPwuVVQPYoXI/C5VVA9ihcj8LlVUD2KFyPwuVVQPYoXI/C5VVA9ihcj8LlVUD2KFyPwuVVQPYoXI/C5VVA9ihcj8LlVUD2KFyPwuVVQPYoXI/C5VVA9ihcj8LlVUD2KFyPwuVVQPYoXI/C5VVA9ihcj8LlVUD2KFyPwuVVQPYoXI/C5VVA9ihcj8LlVUD2KFyPwuVVQPYoXI/C5VVA9ihcj8LlVUD2KFyPwuVVQGZmZmZmhkpAZmZmZmaGSkBmZmZmZoZKQGZmZmZmhkpAZmZmZmaGSkBmZmZmZoZKQGZmZmZmhkpAZmZmZmaGSkBmZmZmZoZKQGZmZmZmhkpA",
            "dtype": "f8"
           },
           "yaxis": "y"
          }
         ],
         "name": "Tue 05/08/2025"
        },
        {
         "data": [
          {
           "hovertemplate": "Type=Purchased_Volume<br>Settlement_Day=Wed 06/08/2025<br>Settlement_Period=%{x}<br>Volume=%{y}<extra></extra>",
           "legendgroup": "Purchased_Volume",
           "line": {
            "color": "#00314a",
            "dash": "solid"
           },
           "marker": {
            "symbol": "circle"
           },
           "mode": "lines",
           "name": "Purchased_Volume",
           "orientation": "v",
           "showlegend": true,
           "type": "scatter",
           "x": {
            "bdata": "AQIDBAUGBwgJCgsMDQ4PEBESExQVFhcYGRobHB0eHyAhIiMkJSYnKCkqKywtLi8w",
            "dtype": "i1"
           },
           "xaxis": "x",
           "y": {
            "bdata": "j8L1KFyvR0ApXI/C9ehHQDMzMzMz00hA16NwPQq3SEC4HoXrUThIQMP1KFyP4kdAzczMzMzMR0DhehSuR8FHQFyPwvUoHEhAMzMzMzMzSEAUrkfhejRJQAAAAAAAIEpAPQrXo3D9TUA9CtejcE1QQM3MzMzMTFJAmpmZmZn5U0BmZmZmZnZVQHE9CtejIFdAXI/C9SjMV0AAAAAAAABYQB+F61G4PlhAH4XrUbiOWEAfhetRuI5YQArXo3A9SlhA4XoUrkcRWEDD9ShcjwJYQHE9CtejkFdA7FG4HoVLV0DD9ShcjxJXQK5H4XoUrlZAUrgehetxVkCkcD0K1xNWQAAAAAAAkFVACtejcD2aVEAUrkfheuRSQAAAAAAA4FFAFK5H4XrEUEDNzMzMzExQQDMzMzMzA1BAPQrXo3B9T0Bcj8L1KNxOQFyPwvUoPE5AXI/C9Sj8TEDNzMzMzMxLQArXo3A9akpAexSuR+E6SUCPwvUoXE9IQFyPwvUoHEhA",
            "dtype": "f8"
           },
           "yaxis": "y"
          },
          {
           "hovertemplate": "Type=Actual_Demand<br>Settlement_Day=Wed 06/08/2025<br>Settlement_Period=%{x}<br>Volume=%{y}<extra></extra>",
           "legendgroup": "Actual_Demand",
           "line": {
            "color": "#e34a21",
            "dash": "solid"
           },
           "marker": {
            "symbol": "circle"
           },
           "mode": "lines",
           "name": "Actual_Demand",
           "orientation": "v",
           "showlegend": true,
           "type": "scatter",
           "x": {
            "bdata": "AQIDBAUGBwgJCgsMDQ4PEBESExQVFhcYGRobHB0eHyAhIiMkJSYnKCkqKywtLi8w",
            "dtype": "i1"
           },
           "xaxis": "x",
           "y": {
            "bdata": "PQrXo3D9R0BmZmZmZiZIQLgehetRWEhA4XoUrkeBSECamZmZmVlIQB+F61G4/kdA16NwPQoXSEDD9Shcj+JHQHsUrkfhGkhArkfhehRuSEDD9Shcj2JJQFK4HoXrcUpAH4XrUbieTkB7FK5H4YpQQMP1KFyPUlJAzczMzMwcVEApXI/C9ahVQAAAAAAAEFdAmpmZmZnpV0A9CtejcO1XQEjhehSuN1hAuB6F61FIWEBxPQrXo8BXQHsUrkfhyldAzczMzMycV0BI4XoUrodXQD0K16NwTVdA9ihcj8L1VkBI4XoUrrdWQFyPwvUorFZAj8L1KFyfVkA9CtejcH1WQLgehetRqFVAZmZmZmaGVEApXI/C9fhSQEjhehSu51FArkfhehRuUEBxPQrXoyBQQClcj8L1iE9Aj8L1KFwvT0DNzMzMzGxOQFyPwvUonE1A9ihcj8LVTEBI4XoUrkdLQClcj8L1CEpAH4XrUbjeSEApXI/C9QhIQK5H4XoUjkdA",
            "dtype": "f8"
           },
           "yaxis": "y"
          },
          {
           "hovertemplate": "Type=Hedged Volume<br>Settlement_Day=Wed 06/08/2025<br>Settlement_Period=%{x}<br>Volume=%{y}<extra></extra>",
           "legendgroup": "Hedged Volume",
           "line": {
            "color": "#17a398",
            "dash": "solid"
           },
           "marker": {
            "symbol": "circle"
           },
           "mode": "lines",
           "name": "Hedged Volume",
           "orientation": "v",
           "showlegend": true,
           "type": "scatter",
           "x": {
            "bdata": "AQIDBAUGBwgJCgsMDQ4PEBESExQVFhcYGRobHB0eHyAhIiMkJSYnKCkqKywtLi8w",
            "dtype": "i1"
           },
           "xaxis": "x",
           "y": {
            "bdata": "hetRuB6FSkCF61G4HoVKQIXrUbgehUpAhetRuB6FSkCF61G4HoVKQIXrUbgehUpAhetRuB6FSkCF61G4HoVKQIXrUbgehUpAhetRuB6FSkCF61G4HoVKQIXrUbgehUpAhetRuB6FSkCF61G4HoVKQPYoXI/C5VVA9ihcj8LlVUD2KFyPwuVVQPYoXI/C5VVA9ihcj8LlVUD2KFyPwuVVQPYoXI/C5VVA9ihcj8LlVUD2KFyPwuVVQPYoXI/C5VVA9ihcj8LlVUD2KFyPwuVVQPYoXI/C5VVA9ihcj8LlVUD2KFyPwuVVQPYoXI/C5VVA9ihcj8LlVUD2KFyPwuVVQPYoXI/C5VVA9ihcj8LlVUD2KFyPwuVVQPYoXI/C5VVA9ihcj8LlVUD2KFyPwuVVQIXrUbgehUpAhetRuB6FSkCF61G4HoVKQIXrUbgehUpAhetRuB6FSkCF61G4HoVKQIXrUbgehUpAhetRuB6FSkCF61G4HoVKQIXrUbgehUpA",
            "dtype": "f8"
           },
           "yaxis": "y"
          }
         ],
         "name": "Wed 06/08/2025"
        },
        {
         "data": [
          {
           "hovertemplate": "Type=Purchased_Volume<br>Settlement_Day=Thu 07/08/2025<br>Settlement_Period=%{x}<br>Volume=%{y}<extra></extra>",
           "legendgroup": "Purchased_Volume",
           "line": {
            "color": "#00314a",
            "dash": "solid"
           },
           "marker": {
            "symbol": "circle"
           },
           "mode": "lines",
           "name": "Purchased_Volume",
           "orientation": "v",
           "showlegend": true,
           "type": "scatter",
           "x": {
            "bdata": "AQIDBAUGBwgJCgsMDQ4PEBESExQVFhcYGRobHB0eHyAhIiMkJSYnKCkqKywtLi8w",
            "dtype": "i1"
           },
           "xaxis": "x",
           "y": {
            "bdata": "j8L1KFyvR0ApXI/C9ehHQDMzMzMz00hA16NwPQq3SEC4HoXrUThIQMP1KFyP4kdAzczMzMzMR0DhehSuR8FHQFyPwvUoHEhAMzMzMzMzSEAUrkfhejRJQAAAAAAAIEpAPQrXo3D9TUA9CtejcE1QQM3MzMzMTFJAmpmZmZn5U0BmZmZmZnZVQHE9CtejIFdAXI/C9SjMV0AAAAAAAABYQB+F61G4PlhAH4XrUbiOWEAfhetRuI5YQArXo3A9SlhA4XoUrkcRWEDD9ShcjwJYQHE9CtejkFdA7FG4HoVLV0DD9ShcjxJXQK5H4XoUrlZAUrgehetxVkCkcD0K1xNWQAAAAAAAkFVACtejcD2aVEAUrkfheuRSQAAAAAAA4FFAFK5H4XrEUEDNzMzMzExQQDMzMzMzA1BAPQrXo3B9T0Bcj8L1KNxOQFyPwvUoPE5AXI/C9Sj8TEDNzMzMzMxLQArXo3A9akpAexSuR+E6SUAK16NwPUpIQHsUrkfhWkhA",
            "dtype": "f8"
           },
           "yaxis": "y"
          },
          {
           "hovertemplate": "Type=Actual_Demand<br>Settlement_Day=Thu 07/08/2025<br>Settlement_Period=%{x}<br>Volume=%{y}<extra></extra>",
           "legendgroup": "Actual_Demand",
           "line": {
            "color": "#e34a21",
            "dash": "solid"
           },
           "marker": {
            "symbol": "circle"
           },
           "mode": "lines",
           "name": "Actual_Demand",
           "orientation": "v",
           "showlegend": true,
           "type": "scatter",
           "x": {
            "bdata": "AQIDBAUGBwgJCgsMDQ4PEBESExQVFhcYGRobHB0eHyAhIiMkJSYnKCkqKywtLi8w",
            "dtype": "i1"
           },
           "xaxis": "x",
           "y": {
            "bdata": "KVyPwvUoR0CuR+F6FG5HQD0K16NwvUdASOF6FK6HR0CkcD0K12NHQI/C9ShcD0dApHA9CtfjRkBcj8L1KNxGQAAAAAAAIEdAcT0K16MwR0DXo3A9CjdIQD0K16NwXUlAMzMzMzNzTUDNzMzMzDxQQArXo3A9SlJAMzMzMzMDVEApXI/C9fhVQB+F61G4XldA9ihcj8KFWEBxPQrXoyBZQD0K16NwDVlA16NwPQqnWUB7FK5H4cpZQOxRuB6FS1lAKVyPwvXoWEDsUbgehbtYQKRwPQrXM1hAH4XrUbgOWEBxPQrXo9BXQK5H4XoUjldAw/UoXI/iVkAzMzMzMyNWQPYoXI/CRVVAZmZmZmbmU0CamZmZmYlSQKRwPQrXY1FAZmZmZmYWUEC4HoXrUdhPQK5H4XoUDk9ApHA9CtdjTkB7FK5H4RpOQFyPwvUonE1AH4XrUbieTEBSuB6F61FLQD0K16NwPUpAuB6F61E4SUCamZmZmTlIQB+F61G4nkdA",
            "dtype": "f8"
           },
           "yaxis": "y"
          },
          {
           "hovertemplate": "Type=Hedged Volume<br>Settlement_Day=Thu 07/08/2025<br>Settlement_Period=%{x}<br>Volume=%{y}<extra></extra>",
           "legendgroup": "Hedged Volume",
           "line": {
            "color": "#17a398",
            "dash": "solid"
           },
           "marker": {
            "symbol": "circle"
           },
           "mode": "lines",
           "name": "Hedged Volume",
           "orientation": "v",
           "showlegend": true,
           "type": "scatter",
           "x": {
            "bdata": "AQIDBAUGBwgJCgsMDQ4PEBESExQVFhcYGRobHB0eHyAhIiMkJSYnKCkqKywtLi8w",
            "dtype": "i1"
           },
           "xaxis": "x",
           "y": {
            "bdata": "SOF6FK6HSkBI4XoUrodKQEjhehSuh0pASOF6FK6HSkBI4XoUrodKQEjhehSuh0pASOF6FK6HSkBI4XoUrodKQEjhehSuh0pASOF6FK6HSkBI4XoUrodKQEjhehSuh0pASOF6FK6HSkBI4XoUrodKQPYoXI/C5VVA9ihcj8LlVUD2KFyPwuVVQPYoXI/C5VVA9ihcj8LlVUD2KFyPwuVVQPYoXI/C5VVA9ihcj8LlVUD2KFyPwuVVQPYoXI/C5VVA9ihcj8LlVUD2KFyPwuVVQPYoXI/C5VVA9ihcj8LlVUD2KFyPwuVVQPYoXI/C5VVA9ihcj8LlVUD2KFyPwuVVQPYoXI/C5VVA9ihcj8LlVUD2KFyPwuVVQPYoXI/C5VVA9ihcj8LlVUD2KFyPwuVVQEjhehSuh0pASOF6FK6HSkBI4XoUrodKQEjhehSuh0pASOF6FK6HSkBI4XoUrodKQEjhehSuh0pASOF6FK6HSkBI4XoUrodKQEjhehSuh0pA",
            "dtype": "f8"
           },
           "yaxis": "y"
          }
         ],
         "name": "Thu 07/08/2025"
        },
        {
         "data": [
          {
           "hovertemplate": "Type=Purchased_Volume<br>Settlement_Day=Fri 08/08/2025<br>Settlement_Period=%{x}<br>Volume=%{y}<extra></extra>",
           "legendgroup": "Purchased_Volume",
           "line": {
            "color": "#00314a",
            "dash": "solid"
           },
           "marker": {
            "symbol": "circle"
           },
           "mode": "lines",
           "name": "Purchased_Volume",
           "orientation": "v",
           "showlegend": true,
           "type": "scatter",
           "x": {
            "bdata": "AQIDBAUGBwgJCgsMDQ4PEBESExQVFhcYGRobHB0eHyAhIiMkJSYnKCkqKywtLi8w",
            "dtype": "i1"
           },
           "xaxis": "x",
           "y": {
            "bdata": "ZmZmZmZmSEBcj8L1KLxIQHE9CtejkElAZmZmZmZGSUD2KFyPwvVIQIXrUbgepUhAPQrXo3B9SEAK16NwPUpIQM3MzMzMbEhAj8L1KFyPSEA9CtejcF1JQDMzMzMzU0pAPQrXo3D9TUB7FK5H4SpQQK5H4XoU7lFAH4XrUbjOU0A9CtejcB1VQDMzMzMz01ZAMzMzMzPjV0CuR+F6FH5YQEjhehSuN1lAuB6F61FoWUCuR+F6FM5YQKRwPQrXg1hAXI/C9Sg8WEB7FK5H4SpYQLgehetRaFdAmpmZmZm5VkC4HoXrUQhWQClcj8L1mFVAw/UoXI8SVUCPwvUoXP9TQD0K16NwbVNArkfhehT+UkAK16NwPYpRQAAAAAAAgFBAhetRuB4lT0AzMzMzM7NOQD0K16Nw/U1A4XoUrkehTUC4HoXrURhNQM3MzMzMDE1Aj8L1KFzvS0AzMzMzM/NKQNejcD0K90lACtejcD3qSEBcj8L1KBxIQArXo3A9qkdA",
            "dtype": "f8"
           },
           "yaxis": "y"
          },
          {
           "hovertemplate": "Type=Actual_Demand<br>Settlement_Day=Fri 08/08/2025<br>Settlement_Period=%{x}<br>Volume=%{y}<extra></extra>",
           "legendgroup": "Actual_Demand",
           "line": {
            "color": "#e34a21",
            "dash": "solid"
           },
           "marker": {
            "symbol": "circle"
           },
           "mode": "lines",
           "name": "Actual_Demand",
           "orientation": "v",
           "showlegend": true,
           "type": "scatter",
           "x": {
            "bdata": "AQIDBAUGBwgJCgsMDQ4PEBESExQVFhcYGRobHB0eHyAhIiMkJSYnKCkqKywtLi8w",
            "dtype": "i1"
           },
           "xaxis": "x",
           "y": {
            "bdata": "cT0K16PQR0B7FK5H4dpHQArXo3A9KkhAcT0K16MQSEDXo3A9CvdHQOxRuB6Fy0dAcT0K16PwR0CPwvUoXM9HQAAAAAAAAEhAAAAAAABASEAK16NwPepIQIXrUbge5UlAFK5H4XrUTUBI4XoUridQQI/C9Shcr1FA16NwPQo3U0DXo3A9CodUQM3MzMzMrFVAKVyPwvWIVkBI4XoUrsdWQB+F61G4/lZA7FG4HoXrVkDsUbgehStWQB+F61G4DlZAmpmZmZmJVUDhehSuR6FVQFK4HoXrUVVAcT0K16PQVEAUrkfhekRUQFyPwvUo3FNApHA9CtdzU0BxPQrXo7BSQIXrUbgeBVJACtejcD26UUAzMzMzM8NQQPYoXI/CdU9APQrXo3CdTUDsUbgehWtNQKRwPQrXo0xA9ihcj8J1TECuR+F6FA5MQM3MzMzMjEtApHA9CtcDS0DsUbgehQtKQFK4HoXrMUlAPQrXo3A9SEApXI/C9UhHQBSuR+F61EZA",
            "dtype": "f8"
           },
           "yaxis": "y"
          },
          {
           "hovertemplate": "Type=Hedged Volume<br>Settlement_Day=Fri 08/08/2025<br>Settlement_Period=%{x}<br>Volume=%{y}<extra></extra>",
           "legendgroup": "Hedged Volume",
           "line": {
            "color": "#17a398",
            "dash": "solid"
           },
           "marker": {
            "symbol": "circle"
           },
           "mode": "lines",
           "name": "Hedged Volume",
           "orientation": "v",
           "showlegend": true,
           "type": "scatter",
           "x": {
            "bdata": "AQIDBAUGBwgJCgsMDQ4PEBESExQVFhcYGRobHB0eHyAhIiMkJSYnKCkqKywtLi8w",
            "dtype": "i1"
           },
           "xaxis": "x",
           "y": {
            "bdata": "XI/C9ShcSkBcj8L1KFxKQFyPwvUoXEpAXI/C9ShcSkBcj8L1KFxKQFyPwvUoXEpAXI/C9ShcSkBcj8L1KFxKQFyPwvUoXEpAXI/C9ShcSkBcj8L1KFxKQFyPwvUoXEpAXI/C9ShcSkBcj8L1KFxKQFyPwvUoXFVAXI/C9ShcVUBcj8L1KFxVQFyPwvUoXFVAXI/C9ShcVUBcj8L1KFxVQFyPwvUoXFVAXI/C9ShcVUBcj8L1KFxVQFyPwvUoXFVAXI/C9ShcVUBcj8L1KFxVQFyPwvUoXFVAXI/C9ShcVUBcj8L1KFxVQFyPwvUoXFVAXI/C9ShcVUBcj8L1KFxVQFyPwvUoXFVAXI/C9ShcVUBcj8L1KFxVQFyPwvUoXFVAXI/C9ShcVUBcj8L1KFxVQFyPwvUoXEpAXI/C9ShcSkBcj8L1KFxKQFyPwvUoXEpAXI/C9ShcSkBcj8L1KFxKQFyPwvUoXEpAXI/C9ShcSkBcj8L1KFxKQFyPwvUoXEpA",
            "dtype": "f8"
           },
           "yaxis": "y"
          }
         ],
         "name": "Fri 08/08/2025"
        },
        {
         "data": [
          {
           "hovertemplate": "Type=Purchased_Volume<br>Settlement_Day=Sat 09/08/2025<br>Settlement_Period=%{x}<br>Volume=%{y}<extra></extra>",
           "legendgroup": "Purchased_Volume",
           "line": {
            "color": "#00314a",
            "dash": "solid"
           },
           "marker": {
            "symbol": "circle"
           },
           "mode": "lines",
           "name": "Purchased_Volume",
           "orientation": "v",
           "showlegend": true,
           "type": "scatter",
           "x": {
            "bdata": "AQIDBAUGBwgJCgsMDQ4PEBESExQVFhcYGRobHB0eHyAhIiMkJSYnKCkqKywtLi8w",
            "dtype": "i1"
           },
           "xaxis": "x",
           "y": {
            "bdata": "H4XrUbieR0A9CtejcN1HQClcj8L1iEhAZmZmZmbGR0CuR+F6FE5HQI/C9ShcD0dAZmZmZmYmR0BI4XoUrudGQArXo3A9ykZAMzMzMzOzRkAUrkfhehRHQKRwPQrXA0dArkfhehTuR0DNzMzMzAxJQJqZmZmZGUpA7FG4HoULTEAUrkfhejRNQGZmZmZmZk9AmpmZmZmJUEAzMzMzM/NQQHE9Ctej8FBAKVyPwvX4UECF61G4HuVQQM3MzMzMbFBAMzMzMzPTT0C4HoXrUThPQI/C9Shcb05A7FG4HoUrTkCF61G4HoVNQI/C9ShcL01AcT0K16OQTUCPwvUoXK9OQBSuR+F6tE5A7FG4HoUrTkCF61G4HoVNQOxRuB6FC0xAj8L1KFyvS0DD9Shcj+JKQEjhehSuR0pAzczMzMxMSkDNzMzMzOxKQLgehetRWEpASOF6FK5nSUDhehSuRwFJQOF6FK5HYUhA16NwPQoXSEAK16NwPcpGQArXo3A9ykZA",
            "dtype": "f8"
           },
           "yaxis": "y"
          },
          {
           "hovertemplate": "Type=Actual_Demand<br>Settlement_Day=Sat 09/08/2025<br>Settlement_Period=%{x}<br>Volume=%{y}<extra></extra>",
           "legendgroup": "Actual_Demand",
           "line": {
            "color": "#e34a21",
            "dash": "solid"
           },
           "marker": {
            "symbol": "circle"
           },
           "mode": "lines",
           "name": "Actual_Demand",
           "orientation": "v",
           "showlegend": true,
           "type": "scatter",
           "x": {
            "bdata": "AQIDBAUGBwgJCgsMDQ4PEBESExQVFhcYGRobHB0eHyAhIiMkJSYnKCkqKywtLi8w",
            "dtype": "i1"
           },
           "xaxis": "x",
           "y": {
            "bdata": "j8L1KFyvRkAAAAAAAMBGQAAAAAAA4EZAuB6F61F4RkBcj8L1KFxGQB+F61G4PkZAH4XrUbgeRkCPwvUoXO9FQFK4HoXr8UVACtejcD0KRkBSuB6F61FGQI/C9Shcb0ZAzczMzMxMR0AAAAAAAEBIQOxRuB6FK0lASOF6FK4nSUBmZmZmZgZKQFK4HoXrcUxAexSuR+E6TUDD9ShcjyJNQB+F61G4Hk1AFK5H4XoUTkCamZmZmRlOQD0K16NwfU1AzczMzMysTEC4HoXrUdhLQK5H4XoUTktA4XoUrkchS0AfhetRuD5KQAAAAAAAAEpA4XoUrkchSkCPwvUoXM9KQDMzMzMzk0pA4XoUrkeBSkBI4XoUrmdKQGZmZmZm5klArkfhehQuSUCkcD0K1wNJQFK4HoXr8UhAMzMzMzNTSUB7FK5H4ZpIQArXo3A96khA9ihcj8KVSEAAAAAAAABIQK5H4XoUjkdApHA9CtfDRkAzMzMzM9NFQHE9CtejMEZA",
            "dtype": "f8"
           },
           "yaxis": "y"
          },
          {
           "hovertemplate": "Type=Hedged Volume<br>Settlement_Day=Sat 09/08/2025<br>Settlement_Period=%{x}<br>Volume=%{y}<extra></extra>",
           "legendgroup": "Hedged Volume",
           "line": {
            "color": "#17a398",
            "dash": "solid"
           },
           "marker": {
            "symbol": "circle"
           },
           "mode": "lines",
           "name": "Hedged Volume",
           "orientation": "v",
           "showlegend": true,
           "type": "scatter",
           "x": {
            "bdata": "AQIDBAUGBwgJCgsMDQ4PEBESExQVFhcYGRobHB0eHyAhIiMkJSYnKCkqKywtLi8w",
            "dtype": "i1"
           },
           "xaxis": "x",
           "y": {
            "bdata": "j8L1KFxPS0CPwvUoXE9LQI/C9ShcT0tAj8L1KFxPS0CPwvUoXE9LQI/C9ShcT0tAj8L1KFxPS0CPwvUoXE9LQI/C9ShcT0tAj8L1KFxPS0CPwvUoXE9LQI/C9ShcT0tAj8L1KFxPS0CPwvUoXE9LQI/C9ShcT0tAj8L1KFxPS0CPwvUoXE9LQI/C9ShcT0tAj8L1KFxPS0CPwvUoXE9LQI/C9ShcT0tAj8L1KFxPS0CPwvUoXE9LQI/C9ShcT0tAj8L1KFxPS0CPwvUoXE9LQI/C9ShcT0tAj8L1KFxPS0CPwvUoXE9LQI/C9ShcT0tAj8L1KFxPS0CPwvUoXE9LQI/C9ShcT0tAj8L1KFxPS0CPwvUoXE9LQI/C9ShcT0tAj8L1KFxPS0CPwvUoXE9LQI/C9ShcT0tAj8L1KFxPS0CPwvUoXE9LQI/C9ShcT0tAj8L1KFxPS0CPwvUoXE9LQI/C9ShcT0tAj8L1KFxPS0CPwvUoXE9LQI/C9ShcT0tA",
            "dtype": "f8"
           },
           "yaxis": "y"
          }
         ],
         "name": "Sat 09/08/2025"
        },
        {
         "data": [
          {
           "hovertemplate": "Type=Purchased_Volume<br>Settlement_Day=Sun 10/08/2025<br>Settlement_Period=%{x}<br>Volume=%{y}<extra></extra>",
           "legendgroup": "Purchased_Volume",
           "line": {
            "color": "#00314a",
            "dash": "solid"
           },
           "marker": {
            "symbol": "circle"
           },
           "mode": "lines",
           "name": "Purchased_Volume",
           "orientation": "v",
           "showlegend": true,
           "type": "scatter",
           "x": {
            "bdata": "AQIDBAUGBwgJCgsMDQ4PEBESExQVFhcYGRobHB0eHyAhIiMkJSYnKCkqKywtLi8w",
            "dtype": "i1"
           },
           "xaxis": "x",
           "y": {
            "bdata": "4XoUrkfhRkDhehSuR+FGQDMzMzMzs0ZAMzMzMzOzRkAUrkfhenRGQBSuR+F6dEZAH4XrUbgeRkAfhetRuB5GQEjhehSuB0ZASOF6FK4HRkDNzMzMzExGQM3MzMzMTEZAAAAAAACARkAAAAAAAIBGQB+F61G4vkZAH4XrUbi+RkCkcD0K16NHQKRwPQrXo0dAH4XrUbjeSEAfhetRuN5IQK5H4XoUbklArkfhehRuSUBI4XoUrqdJQEjhehSup0lAcT0K16OQSUBxPQrXo5BJQHsUrkfhOklAexSuR+E6SUCPwvUoXC9JQI/C9ShcL0lAUrgehetRSUBSuB6F61FJQFyPwvUovEhAXI/C9Si8SEDXo3A9CrdIQNejcD0Kt0hAj8L1KFwvSUCPwvUoXC9JQFK4HoXrEUlAUrgehesRSUBI4XoUrsdIQEjhehSux0hA16NwPQq3SEDXo3A9CrdIQKRwPQrXo0dApHA9CtejR0DD9Shcj6JGQMP1KFyPokZA",
            "dtype": "f8"
           },
           "yaxis": "y"
          },
          {
           "hovertemplate": "Type=Actual_Demand<br>Settlement_Day=Sun 10/08/2025<br>Settlement_Period=%{x}<br>Volume=%{y}<extra></extra>",
           "legendgroup": "Actual_Demand",
           "line": {
            "color": "#e34a21",
            "dash": "solid"
           },
           "marker": {
            "symbol": "circle"
           },
           "mode": "lines",
           "name": "Actual_Demand",
           "orientation": "v",
           "showlegend": true,
           "type": "scatter",
           "x": {
            "bdata": "AQIDBAUGBwgJCgsMDQ4PEBESExQVFhcYGRobHB0eHyAhIiMkJSYnKCkqKywtLi8w",
            "dtype": "i1"
           },
           "xaxis": "x",
           "y": {
            "bdata": "CtejcD1qRUAK16NwPQpFQEjhehSu50RAzczMzMzMRECkcD0K18NEQB+F61G4fkRArkfhehRORECPwvUoXC9EQD0K16NwXURAuB6F61GYREAAAAAAAIBEQJqZmZmZmURA9ihcj8K1REBSuB6F6/FEQEjhehSuJ0VAhetRuB6FRUC4HoXrUdhFQClcj8L1qEZACtejcD0qSEAfhetRuD5IQGZmZmZmBklA4XoUrkchSUCkcD0K16NJQHsUrkfhGkpAAAAAAADgSUAAAAAAAABJQHsUrkfhOklAFK5H4Xq0SEAzMzMzM/NIQFK4HoXrUUhAw/UoXI8iSUDNzMzMzGxJQOxRuB6FS0hAexSuR+GaSEAzMzMzM/NIQD0K16NwPUhA7FG4HoWLR0AfhetRuJ5HQClcj8L16EdAj8L1KFyPSEAzMzMzMzNIQAAAAAAAoEdAw/UoXI/CR0AAAAAAACBHQOF6FK5HwUZAZmZmZmaGRkAAAAAAAOBFQNejcD0Kt0VA",
            "dtype": "f8"
           },
           "yaxis": "y"
          },
          {
           "hovertemplate": "Type=Hedged Volume<br>Settlement_Day=Sun 10/08/2025<br>Settlement_Period=%{x}<br>Volume=%{y}<extra></extra>",
           "legendgroup": "Hedged Volume",
           "line": {
            "color": "#17a398",
            "dash": "solid"
           },
           "marker": {
            "symbol": "circle"
           },
           "mode": "lines",
           "name": "Hedged Volume",
           "orientation": "v",
           "showlegend": true,
           "type": "scatter",
           "x": {
            "bdata": "AQIDBAUGBwgJCgsMDQ4PEBESExQVFhcYGRobHB0eHyAhIiMkJSYnKCkqKywtLi8w",
            "dtype": "i1"
           },
           "xaxis": "x",
           "y": {
            "bdata": "4XoUrkcBSEDhehSuRwFIQOF6FK5HAUhA4XoUrkcBSEDhehSuRwFIQOF6FK5HAUhA4XoUrkcBSEDhehSuRwFIQOF6FK5HAUhA4XoUrkcBSEDhehSuRwFIQOF6FK5HAUhA4XoUrkcBSEDhehSuRwFIQOF6FK5HAUhA4XoUrkcBSEDhehSuRwFIQOF6FK5HAUhA4XoUrkcBSEDhehSuRwFIQOF6FK5HAUhA4XoUrkcBSEDhehSuRwFIQOF6FK5HAUhA4XoUrkcBSEDhehSuRwFIQOF6FK5HAUhA4XoUrkcBSEDhehSuRwFIQOF6FK5HAUhA4XoUrkcBSEDhehSuRwFIQOF6FK5HAUhA4XoUrkcBSEDhehSuRwFIQOF6FK5HAUhA4XoUrkcBSEDhehSuRwFIQOF6FK5HAUhA4XoUrkcBSEDhehSuRwFIQOF6FK5HAUhA4XoUrkcBSEDhehSuRwFIQOF6FK5HAUhA4XoUrkcBSEDhehSuRwFIQOF6FK5HAUhA",
            "dtype": "f8"
           },
           "yaxis": "y"
          }
         ],
         "name": "Sun 10/08/2025"
        },
        {
         "data": [
          {
           "hovertemplate": "Type=Purchased_Volume<br>Settlement_Day=Mon 11/08/2025<br>Settlement_Period=%{x}<br>Volume=%{y}<extra></extra>",
           "legendgroup": "Purchased_Volume",
           "line": {
            "color": "#00314a",
            "dash": "solid"
           },
           "marker": {
            "symbol": "circle"
           },
           "mode": "lines",
           "name": "Purchased_Volume",
           "orientation": "v",
           "showlegend": true,
           "type": "scatter",
           "x": {
            "bdata": "AQIDBAUGBwgJCgsMDQ4PEBESExQVFhcYGRobHB0eHyAhIiMkJSYnKCkqKywtLi8w",
            "dtype": "i1"
           },
           "xaxis": "x",
           "y": {
            "bdata": "UrgehesxR0BSuB6F6zFHQKRwPQrXo0dApHA9CtejR0AAAAAAAGBHQAAAAAAAYEdA4XoUrkfhRkDhehSuR+FGQOxRuB6FK0dA7FG4HoUrR0CPwvUoXI9IQI/C9Shcj0hArkfhehQOTkCuR+F6FA5OQFyPwvUoHFJAXI/C9SgcUkBI4XoUrudUQEjhehSu51RAZmZmZmY2VkBmZmZmZjZWQMP1KFyPUlZAw/UoXI9SVkB7FK5H4dpVQHsUrkfh2lVACtejcD06VUAK16NwPTpVQNejcD0Kt1RA16NwPQq3VECPwvUoXG9UQI/C9Shcb1RApHA9CtfzU0CkcD0K1/NTQEjhehSux1JASOF6FK7HUkBSuB6F68FQQFK4HoXrwVBAzczMzMysTkDNzMzMzKxOQK5H4XoUDk5ArkfhehQOTkDNzMzMzAxNQM3MzMzMDE1ASOF6FK6HS0BI4XoUrodLQLgehetRGElAuB6F61EYSUAAAAAAAGBHQOxRuB6Fa0dA",
            "dtype": "f8"
           },
           "yaxis": "y"
          },
          {
           "hovertemplate": "Type=Actual_Demand<br>Settlement_Day=Mon 11/08/2025<br>Settlement_Period=%{x}<br>Volume=%{y}<extra></extra>",
           "legendgroup": "Actual_Demand",
           "line": {
            "color": "#e34a21",
            "dash": "solid"
           },
           "marker": {
            "symbol": "circle"
           },
           "mode": "lines",
           "name": "Actual_Demand",
           "orientation": "v",
           "showlegend": true,
           "type": "scatter",
           "x": {
            "bdata": "AQIDBAUGBwgJCgsMDQ4PEBESExQVFhcYGRobHB0eHyAhIiMkJSYnKCkqKywtLi8w",
            "dtype": "i1"
           },
           "xaxis": "x",
           "y": {
            "bdata": "cT0K16NwRUDNzMzMzIxFQKRwPQrXg0VAZmZmZmaGRUBmZmZmZqZFQClcj8L1aEVAUrgehetxRUDD9Shcj2JFQAAAAAAAoEVApHA9CtfDRUC4HoXrUZhGQEjhehSup0dAH4XrUbieS0CamZmZmdlNQKRwPQrX81BAPQrXo3CtUkDD9Shcj9JUQOxRuB6Fm1ZAw/UoXI9SV0ApXI/C9QhYQLgehetRmFdApHA9CtfzV0B7FK5H4ZpXQFK4HoXrQVdAhetRuB7FVkAzMzMzM8NWQB+F61G4zlZAKVyPwvVoVkBSuB6F61FWQB+F61G4flZAMzMzMzMDVkB7FK5H4bpVQMP1KFyPolRAUrgehevhU0AfhetRuF5SQBSuR+F65FBASOF6FK5nT0DXo3A9CtdOQM3MzMzMTE5AKVyPwvVITUDXo3A9CvdMQEjhehSuR0xAXI/C9Sj8S0DD9Shcj6JKQK5H4XoULklAPQrXo3D9R0A9CtejcD1HQClcj8L16EZA",
            "dtype": "f8"
           },
           "yaxis": "y"
          },
          {
           "hovertemplate": "Type=Hedged Volume<br>Settlement_Day=Mon 11/08/2025<br>Settlement_Period=%{x}<br>Volume=%{y}<extra></extra>",
           "legendgroup": "Hedged Volume",
           "line": {
            "color": "#17a398",
            "dash": "solid"
           },
           "marker": {
            "symbol": "circle"
           },
           "mode": "lines",
           "name": "Hedged Volume",
           "orientation": "v",
           "showlegend": true,
           "type": "scatter",
           "x": {
            "bdata": "AQIDBAUGBwgJCgsMDQ4PEBESExQVFhcYGRobHB0eHyAhIiMkJSYnKCkqKywtLi8w",
            "dtype": "i1"
           },
           "xaxis": "x",
           "y": {
            "bdata": "AAAAAACASUAAAAAAAIBJQAAAAAAAgElAAAAAAACASUAAAAAAAIBJQAAAAAAAgElAAAAAAACASUAAAAAAAIBJQAAAAAAAgElAAAAAAACASUAAAAAAAIBJQAAAAAAAgElAAAAAAACASUAAAAAAAIBJQMP1KFyP4lNAw/UoXI/iU0DD9Shcj+JTQMP1KFyP4lNAw/UoXI/iU0DD9Shcj+JTQMP1KFyP4lNAw/UoXI/iU0DD9Shcj+JTQMP1KFyP4lNAw/UoXI/iU0DD9Shcj+JTQMP1KFyP4lNAw/UoXI/iU0DD9Shcj+JTQMP1KFyP4lNAw/UoXI/iU0DD9Shcj+JTQMP1KFyP4lNAw/UoXI/iU0DD9Shcj+JTQMP1KFyP4lNAw/UoXI/iU0DD9Shcj+JTQAAAAAAAgElAAAAAAACASUAAAAAAAIBJQAAAAAAAgElAAAAAAACASUAAAAAAAIBJQAAAAAAAgElAAAAAAACASUAAAAAAAIBJQAAAAAAAgElA",
            "dtype": "f8"
           },
           "yaxis": "y"
          }
         ],
         "name": "Mon 11/08/2025"
        },
        {
         "data": [
          {
           "hovertemplate": "Type=Purchased_Volume<br>Settlement_Day=Tue 12/08/2025<br>Settlement_Period=%{x}<br>Volume=%{y}<extra></extra>",
           "legendgroup": "Purchased_Volume",
           "line": {
            "color": "#00314a",
            "dash": "solid"
           },
           "marker": {
            "symbol": "circle"
           },
           "mode": "lines",
           "name": "Purchased_Volume",
           "orientation": "v",
           "showlegend": true,
           "type": "scatter",
           "x": {
            "bdata": "AQIDBAUGBwgJCgsMDQ4PEBESExQVFhcYGRobHB0eHyAhIiMkJSYnKCkqKywtLi8w",
            "dtype": "i1"
           },
           "xaxis": "x",
           "y": {
            "bdata": "ZmZmZmYmR0DD9Shcj0JHQArXo3A9qkdAH4XrUbieR0AzMzMzM5NHQFK4HoXrMUdAMzMzMzPzRkD2KFyPwtVGQHsUrkfhGkdAw/UoXI9CR0BxPQrXoxBIQGZmZmZmBklAw/UoXI/CTEAUrkfhelRPQArXo3A9ilFArkfhehSuUkA9CtejcC1UQOF6FK5HoVVApHA9CtcTVkD2KFyPwlVWQArXo3A9SlZAuB6F61FYVkDNzMzMzPxVQIXrUbgetVVAKVyPwvUoVUDsUbgehUtVQDMzMzMz01RAzczMzMycVEDD9Shcj6JUQB+F61G4PlRAj8L1KFwfVEBcj8L1KMxTQIXrUbgeFVNACtejcD16UkDhehSuRzFRQIXrUbgeVVBAZmZmZmbmTkAzMzMzM3NOQEjhehSuR05A9ihcj8LVTUB7FK5H4TpNQB+F61G43kxAZmZmZmYGTECkcD0K1wNLQLgehetRuElAuB6F61F4SEDhehSuR4FHQM3MzMzMjEdA",
            "dtype": "f8"
           },
           "yaxis": "y"
          },
          {
           "hovertemplate": "Type=Actual_Demand<br>Settlement_Day=Tue 12/08/2025<br>Settlement_Period=%{x}<br>Volume=%{y}<extra></extra>",
           "legendgroup": "Actual_Demand",
           "line": {
            "color": "#e34a21",
            "dash": "solid"
           },
           "marker": {
            "symbol": "circle"
           },
           "mode": "lines",
           "name": "Actual_Demand",
           "orientation": "v",
           "showlegend": true,
           "type": "scatter",
           "x": {
            "bdata": "AQIDBAUGBwgJCgsMDQ4PEBESExQVFhcYGRobHB0eHyAhIiMkJSYnKCkqKywtLi8w",
            "dtype": "i1"
           },
           "xaxis": "x",
           "y": {
            "bdata": "rkfhehSuRkDsUbgehYtGQClcj8L1qEZA4XoUrkeBRkAUrkfhepRGQHE9CtejUEZA4XoUrkdhRkAzMzMzMzNGQHE9CtejcEZAhetRuB6FRkDhehSuR0FHQEjhehSuZ0hApHA9CtcDTEDNzMzMzAxOQAAAAAAAMFFAH4XrUbhOUkBmZmZmZhZUQI/C9Shcj1VArkfhehQ+VkDNzMzMzExWQPYoXI/CFVZAPQrXo3BdVkC4HoXrUVhWQK5H4XoUblZAexSuR+H6VUB7FK5H4QpWQFyPwvUo3FVAj8L1KFy/VUBxPQrXo8BVQOxRuB6Fe1VAPQrXo3A9VUDXo3A9CudUQJqZmZmZWVRAAAAAAACAU0AUrkfheiRSQHE9Ctej0FBAPQrXo3BdT0AzMzMzM9NOQM3MzMzMjE5ACtejcD3KTUCamZmZmVlNQFK4HoXrcUxAzczMzMwMTEAfhetRuL5KQDMzMzMzc0lA9ihcj8JVSEDD9Shcj2JHQClcj8L1KEdA",
            "dtype": "f8"
           },
           "yaxis": "y"
          },
          {
           "hovertemplate": "Type=Hedged Volume<br>Settlement_Day=Tue 12/08/2025<br>Settlement_Period=%{x}<br>Volume=%{y}<extra></extra>",
           "legendgroup": "Hedged Volume",
           "line": {
            "color": "#17a398",
            "dash": "solid"
           },
           "marker": {
            "symbol": "circle"
           },
           "mode": "lines",
           "name": "Hedged Volume",
           "orientation": "v",
           "showlegend": true,
           "type": "scatter",
           "x": {
            "bdata": "AQIDBAUGBwgJCgsMDQ4PEBESExQVFhcYGRobHB0eHyAhIiMkJSYnKCkqKywtLi8w",
            "dtype": "i1"
           },
           "xaxis": "x",
           "y": {
            "bdata": "pHA9CteDSUCkcD0K14NJQKRwPQrXg0lApHA9CteDSUCkcD0K14NJQKRwPQrXg0lApHA9CteDSUCkcD0K14NJQKRwPQrXg0lApHA9CteDSUCkcD0K14NJQKRwPQrXg0lApHA9CteDSUCkcD0K14NJQMP1KFyP4lNAw/UoXI/iU0DD9Shcj+JTQMP1KFyP4lNAw/UoXI/iU0DD9Shcj+JTQMP1KFyP4lNAw/UoXI/iU0DD9Shcj+JTQMP1KFyP4lNAw/UoXI/iU0DD9Shcj+JTQMP1KFyP4lNAw/UoXI/iU0DD9Shcj+JTQMP1KFyP4lNAw/UoXI/iU0DD9Shcj+JTQMP1KFyP4lNAw/UoXI/iU0DD9Shcj+JTQMP1KFyP4lNAw/UoXI/iU0DD9Shcj+JTQKRwPQrXg0lApHA9CteDSUCkcD0K14NJQKRwPQrXg0lApHA9CteDSUCkcD0K14NJQKRwPQrXg0lApHA9CteDSUCkcD0K14NJQKRwPQrXg0lA",
            "dtype": "f8"
           },
           "yaxis": "y"
          }
         ],
         "name": "Tue 12/08/2025"
        },
        {
         "data": [
          {
           "hovertemplate": "Type=Purchased_Volume<br>Settlement_Day=Wed 13/08/2025<br>Settlement_Period=%{x}<br>Volume=%{y}<extra></extra>",
           "legendgroup": "Purchased_Volume",
           "line": {
            "color": "#00314a",
            "dash": "solid"
           },
           "marker": {
            "symbol": "circle"
           },
           "mode": "lines",
           "name": "Purchased_Volume",
           "orientation": "v",
           "showlegend": true,
           "type": "scatter",
           "x": {
            "bdata": "AQIDBAUGBwgJCgsMDQ4PEBESExQVFhcYGRobHB0eHyAhIiMkJSYnKCkqKywtLi8w",
            "dtype": "i1"
           },
           "xaxis": "x",
           "y": {
            "bdata": "H4XrUbieR0B7FK5H4bpHQEjhehSuJ0hA16NwPQoXSEDsUbgehQtIQKRwPQrXo0dAhetRuB5lR0CuR+F6FE5HQDMzMzMzk0dAexSuR+G6R0ApXI/C9YhIQIXrUbgehUlA16NwPQpXTUAUrkfhevRPQMP1KFyP4lFAcT0K16NwU0CuR+F6FP5UQDMzMzMzg1ZA7FG4HoX7VkA9CtejcD1XQIXrUbgeNVdAAAAAAABAV0BSuB6F6+FWQArXo3A9mlZA9ihcj8IFVkB7FK5H4SpWQM3MzMzMrFVApHA9CtdzVUCamZmZmXlVQMP1KFyPElVAw/UoXI/yVEAK16NwPZpUQD0K16Nw3VNACtejcD06U0D2KFyPwuVRQHE9CtejAFFAMzMzMzMTUECuR+F6FK5PQMP1KFyP4k5Aj8L1KFxvTkCPwvUoXM9NQBSuR+F6dE1AFK5H4XqUTECuR+F6FI5LQFyPwvUoPEpA9ihcj8L1SEDXo3A9CtdHQMP1KFyP4kdA",
            "dtype": "f8"
           },
           "yaxis": "y"
          },
          {
           "hovertemplate": "Type=Actual_Demand<br>Settlement_Day=Wed 13/08/2025<br>Settlement_Period=%{x}<br>Volume=%{y}<extra></extra>",
           "legendgroup": "Actual_Demand",
           "line": {
            "color": "#e34a21",
            "dash": "solid"
           },
           "marker": {
            "symbol": "circle"
           },
           "mode": "lines",
           "name": "Actual_Demand",
           "orientation": "v",
           "showlegend": true,
           "type": "scatter",
           "x": {
            "bdata": "AQIDBAUGBwgJCgsMDQ4PEBESExQVFhcYGRobHB0eHyAhIiMkJSYnKCkqKywtLi8w",
            "dtype": "i1"
           },
           "xaxis": "x",
           "y": {
            "bdata": "4XoUrkfhRkAUrkfhetRGQHsUrkfh2kZAXI/C9SjcRkAAAAAAAOBGQOxRuB6FS0ZAPQrXo3BdRkDsUbgehUtGQIXrUbgexUZA7FG4HoXLRkCamZmZmXlHQM3MzMzMrEhASOF6FK5HTEDsUbgehWtOQLgehetRGFFA7FG4HoWbUkBcj8L1KAxUQKRwPQrXk1VAuB6F61F4VkDsUbgehYtWQKRwPQrXQ1ZA9ihcj8K1VkAUrkfhetRWQKRwPQrXk1ZAUrgehesxVkDNzMzMzNxVQClcj8L1uFVAMzMzMzNjVUA9CtejcC1VQArXo3A9+lRAMzMzMzPjVEAK16NwPepUQOxRuB6Fa1RA9ihcj8KVU0BSuB6F6wFSQGZmZmZmxlBAhetRuB5FT0CamZmZmblOQJqZmZmZOU5A9ihcj8LVTUAK16NwPUpNQPYoXI/CdUxApHA9CtdDTEDsUbgehQtLQNejcD0Kl0lAKVyPwvVoSEAzMzMzM3NHQB+F61G4HkdA",
            "dtype": "f8"
           },
           "yaxis": "y"
          },
          {
           "hovertemplate": "Type=Hedged Volume<br>Settlement_Day=Wed 13/08/2025<br>Settlement_Period=%{x}<br>Volume=%{y}<extra></extra>",
           "legendgroup": "Hedged Volume",
           "line": {
            "color": "#17a398",
            "dash": "solid"
           },
           "marker": {
            "symbol": "circle"
           },
           "mode": "lines",
           "name": "Hedged Volume",
           "orientation": "v",
           "showlegend": true,
           "type": "scatter",
           "x": {
            "bdata": "AQIDBAUGBwgJCgsMDQ4PEBESExQVFhcYGRobHB0eHyAhIiMkJSYnKCkqKywtLi8w",
            "dtype": "i1"
           },
           "xaxis": "x",
           "y": {
            "bdata": "w/UoXI8CSkDD9ShcjwJKQMP1KFyPAkpAw/UoXI8CSkDD9ShcjwJKQMP1KFyPAkpAw/UoXI8CSkDD9ShcjwJKQMP1KFyPAkpAw/UoXI8CSkDD9ShcjwJKQMP1KFyPAkpAw/UoXI8CSkDD9ShcjwJKQK5H4XoUrlRArkfhehSuVECuR+F6FK5UQK5H4XoUrlRArkfhehSuVECuR+F6FK5UQK5H4XoUrlRArkfhehSuVECuR+F6FK5UQK5H4XoUrlRArkfhehSuVECuR+F6FK5UQK5H4XoUrlRArkfhehSuVECuR+F6FK5UQK5H4XoUrlRArkfhehSuVECuR+F6FK5UQK5H4XoUrlRArkfhehSuVECuR+F6FK5UQK5H4XoUrlRArkfhehSuVECuR+F6FK5UQMP1KFyPAkpAw/UoXI8CSkDD9ShcjwJKQMP1KFyPAkpAw/UoXI8CSkDD9ShcjwJKQMP1KFyPAkpAw/UoXI8CSkDD9ShcjwJKQMP1KFyPAkpA",
            "dtype": "f8"
           },
           "yaxis": "y"
          }
         ],
         "name": "Wed 13/08/2025"
        },
        {
         "data": [
          {
           "hovertemplate": "Type=Purchased_Volume<br>Settlement_Day=Thu 14/08/2025<br>Settlement_Period=%{x}<br>Volume=%{y}<extra></extra>",
           "legendgroup": "Purchased_Volume",
           "line": {
            "color": "#00314a",
            "dash": "solid"
           },
           "marker": {
            "symbol": "circle"
           },
           "mode": "lines",
           "name": "Purchased_Volume",
           "orientation": "v",
           "showlegend": true,
           "type": "scatter",
           "x": {
            "bdata": "AQIDBAUGBwgJCgsMDQ4PEBESExQVFhcYGRobHB0eHyAhIiMkJSYnKCkqKywtLi8w",
            "dtype": "i1"
           },
           "xaxis": "x",
           "y": {
            "bdata": "H4XrUbieR0B7FK5H4bpHQEjhehSuJ0hA16NwPQoXSEDsUbgehQtIQKRwPQrXo0dAhetRuB5lR0CuR+F6FE5HQDMzMzMzk0dAexSuR+G6R0ApXI/C9YhIQIXrUbgehUlA16NwPQpXTUAUrkfhevRPQMP1KFyP4lFAcT0K16NwU0CuR+F6FP5UQDMzMzMzg1ZA7FG4HoX7VkA9CtejcD1XQIXrUbgeNVdAAAAAAABAV0BSuB6F6+FWQArXo3A9mlZA9ihcj8IFVkB7FK5H4SpWQM3MzMzMrFVApHA9CtdzVUCamZmZmXlVQMP1KFyPElVAw/UoXI/yVEAK16NwPZpUQD0K16Nw3VNACtejcD06U0D2KFyPwuVRQHE9CtejAFFAMzMzMzMTUECuR+F6FK5PQMP1KFyP4k5Aj8L1KFxvTkCPwvUoXM9NQBSuR+F6dE1AFK5H4XqUTECuR+F6FI5LQFyPwvUoPEpA9ihcj8L1SEDXo3A9CtdHQMP1KFyP4kdA",
            "dtype": "f8"
           },
           "yaxis": "y"
          },
          {
           "hovertemplate": "Type=Actual_Demand<br>Settlement_Day=Thu 14/08/2025<br>Settlement_Period=%{x}<br>Volume=%{y}<extra></extra>",
           "legendgroup": "Actual_Demand",
           "line": {
            "color": "#e34a21",
            "dash": "solid"
           },
           "marker": {
            "symbol": "circle"
           },
           "mode": "lines",
           "name": "Actual_Demand",
           "orientation": "v",
           "showlegend": true,
           "type": "scatter",
           "x": {
            "bdata": "AQIDBAUGBwgJCgsMDQ4PEBESExQVFhcYGRobHB0eHyAhIiMkJSYnKCkqKywtLi8w",
            "dtype": "i1"
           },
           "xaxis": "x",
           "y": {
            "bdata": "hetRuB4FR0AzMzMzM/NGQNejcD0KN0dAMzMzMzMzR0AK16NwPSpHQPYoXI/C1UZA4XoUrkfBRkCF61G4HqVGQOF6FK5HAUdA4XoUrkchR0DD9Shcj+JHQJqZmZmZGUlAZmZmZmbGTECamZmZmTlPQI/C9Shcn1FArkfhehQOU0Bcj8L1KAxVQIXrUbgetVZAH4XrUbi+V0CuR+F6FF5YQDMzMzMzY1hAZmZmZma2WEDD9ShcjzJZQAAAAAAA4FhApHA9CteTWECPwvUoXF9YQNejcD0KR1hAmpmZmZn5V0BI4XoUrpdXQGZmZmZmRldAH4XrUbieVkDsUbgehUtWQClcj8L1aFVAuB6F61EoVEDD9Shcj4JSQI/C9ShcD1FAAAAAAADAT0B7FK5H4RpPQArXo3A9ik5ArkfhehTuTUApXI/C9ahNQEjhehSu50xAUrgehesRTEAUrkfherRKQBSuR+F6VElA16NwPQpXSEA9CtejcF1HQMP1KFyP4kZA",
            "dtype": "f8"
           },
           "yaxis": "y"
          },
          {
           "hovertemplate": "Type=Hedged Volume<br>Settlement_Day=Thu 14/08/2025<br>Settlement_Period=%{x}<br>Volume=%{y}<extra></extra>",
           "legendgroup": "Hedged Volume",
           "line": {
            "color": "#17a398",
            "dash": "solid"
           },
           "marker": {
            "symbol": "circle"
           },
           "mode": "lines",
           "name": "Hedged Volume",
           "orientation": "v",
           "showlegend": true,
           "type": "scatter",
           "x": {
            "bdata": "AQIDBAUGBwgJCgsMDQ4PEBESExQVFhcYGRobHB0eHyAhIiMkJSYnKCkqKywtLi8w",
            "dtype": "i1"
           },
           "xaxis": "x",
           "y": {
            "bdata": "w/UoXI8CSkDD9ShcjwJKQMP1KFyPAkpAw/UoXI8CSkDD9ShcjwJKQMP1KFyPAkpAw/UoXI8CSkDD9ShcjwJKQMP1KFyPAkpAw/UoXI8CSkDD9ShcjwJKQMP1KFyPAkpAw/UoXI8CSkDD9ShcjwJKQK5H4XoUrlRArkfhehSuVECuR+F6FK5UQK5H4XoUrlRArkfhehSuVECuR+F6FK5UQK5H4XoUrlRArkfhehSuVECuR+F6FK5UQK5H4XoUrlRArkfhehSuVECuR+F6FK5UQK5H4XoUrlRArkfhehSuVECuR+F6FK5UQK5H4XoUrlRArkfhehSuVECuR+F6FK5UQK5H4XoUrlRArkfhehSuVECuR+F6FK5UQK5H4XoUrlRArkfhehSuVECuR+F6FK5UQMP1KFyPAkpAw/UoXI8CSkDD9ShcjwJKQMP1KFyPAkpAw/UoXI8CSkDD9ShcjwJKQMP1KFyPAkpAw/UoXI8CSkDD9ShcjwJKQMP1KFyPAkpA",
            "dtype": "f8"
           },
           "yaxis": "y"
          }
         ],
         "name": "Thu 14/08/2025"
        },
        {
         "data": [
          {
           "hovertemplate": "Type=Purchased_Volume<br>Settlement_Day=Fri 15/08/2025<br>Settlement_Period=%{x}<br>Volume=%{y}<extra></extra>",
           "legendgroup": "Purchased_Volume",
           "line": {
            "color": "#00314a",
            "dash": "solid"
           },
           "marker": {
            "symbol": "circle"
           },
           "mode": "lines",
           "name": "Purchased_Volume",
           "orientation": "v",
           "showlegend": true,
           "type": "scatter",
           "x": {
            "bdata": "AQIDBAUGBwgJCgsMDQ4PEBESExQVFhcYGRobHB0eHyAhIiMkJSYnKCkqKywtLi8w",
            "dtype": "i1"
           },
           "xaxis": "x",
           "y": {
            "bdata": "w/UoXI+iRkB7FK5H4XpGQHE9Ctej0EZA4XoUrkfhRkBSuB6F65FGQI/C9Shcb0ZAcT0K16MwRkDsUbgehetFQOF6FK5HQUZAZmZmZmaGRkBI4XoUrudGQBSuR+F69EdAKVyPwvVIS0AAAAAAAIBNQB+F61G4blBAj8L1KFz/UUCPwvUoXA9TQKRwPQrXs1RAZmZmZmbGVUAK16NwPUpWQPYoXI/CpVZAhetRuB7FVkDXo3A9CvdVQFK4HoXr0VVAH4XrUbguVUAfhetRuC5VQOxRuB6Fi1RA7FG4HoU7VEBcj8L1KBxUQHE9CtejIFNA9ihcj8L1UkC4HoXrUQhSQGZmZmZmVlFAmpmZmZkJUUAK16NwPSpQQBSuR+F61E5AexSuR+FaTUApXI/C9ehMQK5H4XoULkxAuB6F61HYS0CkcD0K1wNLQOxRuB6Fi0pAZmZmZmbmSUDsUbgehUtJQKRwPQrXQ0hAAAAAAAAgR0Bcj8L1KPxFQAAAAAAA4EVA",
            "dtype": "f8"
           },
           "yaxis": "y"
          },
          {
           "hovertemplate": "Type=Actual_Demand<br>Settlement_Day=Fri 15/08/2025<br>Settlement_Period=%{x}<br>Volume=%{y}<extra></extra>",
           "legendgroup": "Actual_Demand",
           "line": {
            "color": "#e34a21",
            "dash": "solid"
           },
           "marker": {
            "symbol": "circle"
           },
           "mode": "lines",
           "name": "Actual_Demand",
           "orientation": "v",
           "showlegend": true,
           "type": "scatter",
           "x": {
            "bdata": "AQIDBAUGBwgJCgsMDQ4PEBESExQVFhcYGRobHB0eHyAhIiMkJSYnKCkqKywtLi8w",
            "dtype": "i1"
           },
           "xaxis": "x",
           "y": {
            "bdata": "pHA9CtfjRkAUrkfhehRHQI/C9ShcT0dAw/UoXI8CR0DXo3A9CvdGQOxRuB6Fq0ZAH4XrUbi+RkDD9Shcj6JGQOxRuB6F60ZAUrgehetRR0DsUbgehctHQEjhehSu50hAFK5H4XpUTEB7FK5H4VpOQArXo3A9+lBApHA9CtdDUkBSuB6F6xFUQK5H4XoUXlVACtejcD2KVkBSuB6F68FWQJqZmZmZ6VZA7FG4HoWLVkAUrkfhetRVQM3MzMzMrFVAzczMzMxMVUDNzMzMzCxVQHsUrkfh2lRAKVyPwvVIVEDNzMzMzMxTQIXrUbgeVVNA16NwPQrnUkDD9Shcj1JSQOF6FK5HwVFAhetRuB5VUUBSuB6F64FQQArXo3A9Sk9AKVyPwvVITUBxPQrXo/BMQOF6FK5HgUxAhetRuB5FTEAUrkfhetRLQIXrUbgeJUtAmpmZmZm5SkBSuB6F6xFKQDMzMzMz80hAuB6F61H4R0CuR+F6FA5HQClcj8L1iEZA",
            "dtype": "f8"
           },
           "yaxis": "y"
          },
          {
           "hovertemplate": "Type=Hedged Volume<br>Settlement_Day=Fri 15/08/2025<br>Settlement_Period=%{x}<br>Volume=%{y}<extra></extra>",
           "legendgroup": "Hedged Volume",
           "line": {
            "color": "#17a398",
            "dash": "solid"
           },
           "marker": {
            "symbol": "circle"
           },
           "mode": "lines",
           "name": "Hedged Volume",
           "orientation": "v",
           "showlegend": true,
           "type": "scatter",
           "x": {
            "bdata": "AQIDBAUGBwgJCgsMDQ4PEBESExQVFhcYGRobHB0eHyAhIiMkJSYnKCkqKywtLi8w",
            "dtype": "i1"
           },
           "xaxis": "x",
           "y": {
            "bdata": "rkfhehQuSECuR+F6FC5IQK5H4XoULkhArkfhehQuSECuR+F6FC5IQK5H4XoULkhArkfhehQuSECuR+F6FC5IQK5H4XoULkhArkfhehQuSECuR+F6FC5IQK5H4XoULkhArkfhehQuSECuR+F6FC5IQI/C9ShcP1NAj8L1KFw/U0CPwvUoXD9TQI/C9ShcP1NAj8L1KFw/U0CPwvUoXD9TQI/C9ShcP1NAj8L1KFw/U0CPwvUoXD9TQI/C9ShcP1NAj8L1KFw/U0CPwvUoXD9TQI/C9ShcP1NAj8L1KFw/U0CPwvUoXD9TQI/C9ShcP1NAj8L1KFw/U0CPwvUoXD9TQI/C9ShcP1NAj8L1KFw/U0CPwvUoXD9TQI/C9ShcP1NAj8L1KFw/U0CPwvUoXD9TQK5H4XoULkhArkfhehQuSECuR+F6FC5IQK5H4XoULkhArkfhehQuSECuR+F6FC5IQK5H4XoULkhArkfhehQuSECuR+F6FC5IQK5H4XoULkhA",
            "dtype": "f8"
           },
           "yaxis": "y"
          }
         ],
         "name": "Fri 15/08/2025"
        },
        {
         "data": [
          {
           "hovertemplate": "Type=Purchased_Volume<br>Settlement_Day=Sat 16/08/2025<br>Settlement_Period=%{x}<br>Volume=%{y}<extra></extra>",
           "legendgroup": "Purchased_Volume",
           "line": {
            "color": "#00314a",
            "dash": "solid"
           },
           "marker": {
            "symbol": "circle"
           },
           "mode": "lines",
           "name": "Purchased_Volume",
           "orientation": "v",
           "showlegend": true,
           "type": "scatter",
           "x": {
            "bdata": "AQIDBAUGBwgJCgsMDQ4PEBESExQVFhcYGRobHB0eHyAhIiMkJSYnKCkqKywtLi8w",
            "dtype": "i1"
           },
           "xaxis": "x",
           "y": {
            "bdata": "XI/C9ShcRUCF61G4HoVFQM3MzMzMrEVArkfhehSOREDsUbgehatEQClcj8L1iERAXI/C9Si8REDXo3A9CndEQEjhehSuJ0RAUrgehetxREDsUbgehatEQK5H4XoUjkRA16NwPQpXRUBxPQrXozBGQOF6FK5HgUdAH4XrUbjeSEAK16NwPYpJQB+F61G4XkpAPQrXo3A9S0A9CtejcL1MQEjhehSuJ0xAhetRuB6FTUAUrkfhepRMQPYoXI/CtUtA16NwPQp3S0DD9Shcj+JKQHE9Ctej0EpAUrgeheuRSkBxPQrXo5BJQD0K16NwfUhA7FG4HoWrSEBI4XoUrkdKQBSuR+F61ElAcT0K16OQSUAzMzMzM7NJQNejcD0KF0hAzczMzMxsSEApXI/C9ehHQKRwPQrXQ0hAH4XrUbg+SEAzMzMzM3NJQDMzMzMz00hA4XoUrkfBR0BxPQrXo3BHQDMzMzMz80ZAH4XrUbi+RkAK16NwPcpGQArXo3A9ykZA",
            "dtype": "f8"
           },
           "yaxis": "y"
          },
          {
           "hovertemplate": "Type=Actual_Demand<br>Settlement_Day=Sat 16/08/2025<br>Settlement_Period=%{x}<br>Volume=%{y}<extra></extra>",
           "legendgroup": "Actual_Demand",
           "line": {
            "color": "#e34a21",
            "dash": "solid"
           },
           "marker": {
            "symbol": "circle"
           },
           "mode": "lines",
           "name": "Actual_Demand",
           "orientation": "v",
           "showlegend": true,
           "type": "scatter",
           "x": {
            "bdata": "AQIDBAUGBwgJCgsMDQ4PEBESExQVFhcYGRobHB0eHyAhIiMkJSYnKCkqKywtLi8w",
            "dtype": "i1"
           },
           "xaxis": "x",
           "y": {
            "bdata": "w/UoXI9iRkAzMzMzM1NGQKRwPQrXY0ZA4XoUrkdBRkDNzMzMzAxGQMP1KFyP4kVAMzMzMzOzRUAzMzMzM3NFQJqZmZmZmUVA7FG4HoWrRUB7FK5H4bpFQD0K16Nw3UVASOF6FK7HRkDD9Shcj4JHQArXo3A9qkhAmpmZmZl5SUCF61G4HoVKQDMzMzMzU01ApHA9CtfDTkDsUbgehctOQHsUrkfhuk5ACtejcD0qT0CF61G4HgVPQM3MzMzMLE5AZmZmZmZmTUAfhetRuF5MQPYoXI/CtUtAZmZmZmYGS0DhehSuR0FKQKRwPQrXA0pAUrgehevxSUC4HoXrURhKQM3MzMzMDEpAPQrXo3AdSkA9CtejcL1JQOxRuB6Fa0lAzczMzMxsSECuR+F6FI5IQOF6FK5H4UhArkfhehTuSECkcD0K12NIQMP1KFyPYkhAmpmZmZmZSECamZmZmRlIQKRwPQrXY0dAAAAAAACgRkBI4XoUrudFQHsUrkfh+kVA",
            "dtype": "f8"
           },
           "yaxis": "y"
          },
          {
           "hovertemplate": "Type=Hedged Volume<br>Settlement_Day=Sat 16/08/2025<br>Settlement_Period=%{x}<br>Volume=%{y}<extra></extra>",
           "legendgroup": "Hedged Volume",
           "line": {
            "color": "#17a398",
            "dash": "solid"
           },
           "marker": {
            "symbol": "circle"
           },
           "mode": "lines",
           "name": "Hedged Volume",
           "orientation": "v",
           "showlegend": true,
           "type": "scatter",
           "x": {
            "bdata": "AQIDBAUGBwgJCgsMDQ4PEBESExQVFhcYGRobHB0eHyAhIiMkJSYnKCkqKywtLi8w",
            "dtype": "i1"
           },
           "xaxis": "x",
           "y": {
            "bdata": "pHA9CtcjSECkcD0K1yNIQKRwPQrXI0hApHA9CtcjSECkcD0K1yNIQKRwPQrXI0hApHA9CtcjSECkcD0K1yNIQKRwPQrXI0hApHA9CtcjSECkcD0K1yNIQKRwPQrXI0hApHA9CtcjSECkcD0K1yNIQKRwPQrXI0hApHA9CtcjSECkcD0K1yNIQKRwPQrXI0hApHA9CtcjSECkcD0K1yNIQKRwPQrXI0hApHA9CtcjSECkcD0K1yNIQKRwPQrXI0hApHA9CtcjSECkcD0K1yNIQKRwPQrXI0hApHA9CtcjSECkcD0K1yNIQKRwPQrXI0hApHA9CtcjSECkcD0K1yNIQKRwPQrXI0hApHA9CtcjSECkcD0K1yNIQKRwPQrXI0hApHA9CtcjSECkcD0K1yNIQKRwPQrXI0hApHA9CtcjSECkcD0K1yNIQKRwPQrXI0hApHA9CtcjSECkcD0K1yNIQKRwPQrXI0hApHA9CtcjSECkcD0K1yNIQKRwPQrXI0hA",
            "dtype": "f8"
           },
           "yaxis": "y"
          }
         ],
         "name": "Sat 16/08/2025"
        },
        {
         "data": [
          {
           "hovertemplate": "Type=Purchased_Volume<br>Settlement_Day=Sun 17/08/2025<br>Settlement_Period=%{x}<br>Volume=%{y}<extra></extra>",
           "legendgroup": "Purchased_Volume",
           "line": {
            "color": "#00314a",
            "dash": "solid"
           },
           "marker": {
            "symbol": "circle"
           },
           "mode": "lines",
           "name": "Purchased_Volume",
           "orientation": "v",
           "showlegend": true,
           "type": "scatter",
           "x": {
            "bdata": "AQIDBAUGBwgJCgsMDQ4PEBESExQVFhcYGRobHB0eHyAhIiMkJSYnKCkqKywtLi8w",
            "dtype": "i1"
           },
           "xaxis": "x",
           "y": {
            "bdata": "4XoUrkfhRkDhehSuR+FGQDMzMzMzs0ZAMzMzMzOzRkAUrkfhenRGQBSuR+F6dEZAH4XrUbgeRkAfhetRuB5GQEjhehSuB0ZASOF6FK4HRkDNzMzMzExGQM3MzMzMTEZAAAAAAACARkAAAAAAAIBGQB+F61G4vkZAH4XrUbi+RkCkcD0K16NHQKRwPQrXo0dAH4XrUbjeSEAfhetRuN5IQK5H4XoUbklArkfhehRuSUBI4XoUrqdJQEjhehSup0lAcT0K16OQSUBxPQrXo5BJQHsUrkfhOklAexSuR+E6SUCPwvUoXC9JQI/C9ShcL0lAUrgehetRSUBSuB6F61FJQFyPwvUovEhAXI/C9Si8SEDXo3A9CrdIQNejcD0Kt0hAj8L1KFwvSUCPwvUoXC9JQFK4HoXrEUlAUrgehesRSUBI4XoUrsdIQEjhehSux0hA16NwPQq3SEDXo3A9CrdIQKRwPQrXo0dApHA9CtejR0BI4XoUrgdGQEjhehSuB0ZA",
            "dtype": "f8"
           },
           "yaxis": "y"
          },
          {
           "hovertemplate": "Type=Actual_Demand<br>Settlement_Day=Sun 17/08/2025<br>Settlement_Period=%{x}<br>Volume=%{y}<extra></extra>",
           "legendgroup": "Actual_Demand",
           "line": {
            "color": "#e34a21",
            "dash": "solid"
           },
           "marker": {
            "symbol": "circle"
           },
           "mode": "lines",
           "name": "Actual_Demand",
           "orientation": "v",
           "showlegend": true,
           "type": "scatter",
           "x": {
            "bdata": "AQIDBAUGBwgJCgsMDQ4PEBESExQVFhcYGRobHB0eHyAhIiMkJSYnKCkqKywtLi8w",
            "dtype": "i1"
           },
           "xaxis": "x",
           "y": {
            "bdata": "KVyPwvXIRUBmZmZmZmZFQFK4HoXrcUVACtejcD0qRUDNzMzMzCxFQMP1KFyPwkRAUrgeheuxREBxPQrXo3BEQHE9CtejkERAH4XrUbh+REDD9Shcj2JEQDMzMzMzc0RA16NwPQrXRED2KFyPwlVFQHE9CtejsEVAH4XrUbgeRkAAAAAAAKBGQB+F61G43kdAhetRuB4FSUBI4XoUrkdJQJqZmZmZeUlACtejcD2KSUDD9Shcj2JKQM3MzMzMDEpAMzMzMzMzSkCPwvUoXI9JQJqZmZmZWUlAmpmZmZlZSUCuR+F6FC5JQNejcD0Kt0hAcT0K16PwSECkcD0K16NIQOF6FK5HQUhA16NwPQo3SEBmZmZmZkZIQMP1KFyP4kdAH4XrUbj+RkDsUbgehStHQJqZmZmZuUdAzczMzMzMR0DNzMzMzMxHQFK4HoXrMUdAFK5H4Xp0R0AAAAAAAEBHQOxRuB6Fi0ZApHA9CtcjRkCuR+F6FM5FQJqZmZmZuUVA",
            "dtype": "f8"
           },
           "yaxis": "y"
          },
          {
           "hovertemplate": "Type=Hedged Volume<br>Settlement_Day=Sun 17/08/2025<br>Settlement_Period=%{x}<br>Volume=%{y}<extra></extra>",
           "legendgroup": "Hedged Volume",
           "line": {
            "color": "#17a398",
            "dash": "solid"
           },
           "marker": {
            "symbol": "circle"
           },
           "mode": "lines",
           "name": "Hedged Volume",
           "orientation": "v",
           "showlegend": true,
           "type": "scatter",
           "x": {
            "bdata": "AQIDBAUGBwgJCgsMDQ4PEBESExQVFhcYGRobHB0eHyAhIiMkJSYnKCkqKywtLi8w",
            "dtype": "i1"
           },
           "xaxis": "x",
           "y": {
            "bdata": "exSuR+H6R0B7FK5H4fpHQHsUrkfh+kdAexSuR+H6R0B7FK5H4fpHQHsUrkfh+kdAexSuR+H6R0B7FK5H4fpHQHsUrkfh+kdAexSuR+H6R0B7FK5H4fpHQHsUrkfh+kdAexSuR+H6R0B7FK5H4fpHQHsUrkfh+kdAexSuR+H6R0B7FK5H4fpHQHsUrkfh+kdAexSuR+H6R0B7FK5H4fpHQHsUrkfh+kdAexSuR+H6R0B7FK5H4fpHQHsUrkfh+kdAexSuR+H6R0B7FK5H4fpHQHsUrkfh+kdAexSuR+H6R0B7FK5H4fpHQHsUrkfh+kdAexSuR+H6R0B7FK5H4fpHQHsUrkfh+kdAexSuR+H6R0B7FK5H4fpHQHsUrkfh+kdAexSuR+H6R0B7FK5H4fpHQHsUrkfh+kdAexSuR+H6R0B7FK5H4fpHQHsUrkfh+kdAexSuR+H6R0B7FK5H4fpHQHsUrkfh+kdAexSuR+H6R0B7FK5H4fpHQHsUrkfh+kdA",
            "dtype": "f8"
           },
           "yaxis": "y"
          }
         ],
         "name": "Sun 17/08/2025"
        },
        {
         "data": [
          {
           "hovertemplate": "Type=Purchased_Volume<br>Settlement_Day=Mon 18/08/2025<br>Settlement_Period=%{x}<br>Volume=%{y}<extra></extra>",
           "legendgroup": "Purchased_Volume",
           "line": {
            "color": "#00314a",
            "dash": "solid"
           },
           "marker": {
            "symbol": "circle"
           },
           "mode": "lines",
           "name": "Purchased_Volume",
           "orientation": "v",
           "showlegend": true,
           "type": "scatter",
           "x": {
            "bdata": "AQIDBAUGBwgJCgsMDQ4PEBESExQVFhcYGRobHB0eHyAhIiMkJSYnKCkqKywtLi8w",
            "dtype": "i1"
           },
           "xaxis": "x",
           "y": {
            "bdata": "CtejcD2qR0AK16NwPapHQFyPwvUoHEhAXI/C9SgcSEDXo3A9CtdHQNejcD0K10dAmpmZmZlZR0CamZmZmVlHQKRwPQrXo0dApHA9CtejR0BmZmZmZgZJQGZmZmZmBklAKVyPwvWoTkApXI/C9ahOQLgehetRqFJAuB6F61GoUkBxPQrXo8BVQHE9CtejwFVArkfhehQeV0CuR+F6FB5XQArXo3A9OldACtejcD06V0CPwvUoXL9WQI/C9Shcv1ZAmpmZmZkZVkCamZmZmRlWQAAAAAAAkFVAAAAAAACQVUD2KFyPwkVVQPYoXI/CRVVAhetRuB7FVECF61G4HsVUQArXo3A9ilNACtejcD2KU0AzMzMzM3NRQDMzMzMzc1FASOF6FK7nT0BI4XoUrudPQClcj8L1qE5AKVyPwvWoTkDhehSuR6FNQOF6FK5HoU1AcT0K16MQTEBxPQrXoxBMQFyPwvUonElAXI/C9SicSUDXo3A9CtdHQMP1KFyP4kdA",
            "dtype": "f8"
           },
           "yaxis": "y"
          },
          {
           "hovertemplate": "Type=Actual_Demand<br>Settlement_Day=Mon 18/08/2025<br>Settlement_Period=%{x}<br>Volume=%{y}<extra></extra>",
           "legendgroup": "Actual_Demand",
           "line": {
            "color": "#e34a21",
            "dash": "solid"
           },
           "marker": {
            "symbol": "circle"
           },
           "mode": "lines",
           "name": "Actual_Demand",
           "orientation": "v",
           "showlegend": true,
           "type": "scatter",
           "x": {
            "bdata": "AQIDBAUGBwgJCgsMDQ4PEBESExQVFhcYGRobHB0eHyAhIiMkJSYnKCkqKywtLi8w",
            "dtype": "i1"
           },
           "xaxis": "x",
           "y": {
            "bdata": "AAAAAABARUBmZmZmZmZFQNejcD0Kd0VA9ihcj8J1RUCamZmZmZlFQFyPwvUoXEVA4XoUrkdBRUB7FK5H4TpFQEjhehSup0VAUrgehevRRUAzMzMzM5NGQB+F61G4/kdAj8L1KFyvS0DXo3A9ChdOQAAAAAAAAFFAw/UoXI/SUkApXI/C9RhVQI/C9Shcn1ZAKVyPwvW4V0BxPQrXoxBYQEjhehSuB1hAzczMzMwsWEAUrkfheoRXQJqZmZmZSVdAXI/C9SjcVkBcj8L1KLxWQArXo3A92lZArkfhehROVkA9CtejcA1WQHE9Ctej8FVACtejcD1aVUCkcD0K1/NUQLgehetRyFNA7FG4HoXrUkAAAAAAALBRQM3MzMzMfFBAw/UoXI+CTkBcj8L1KPxNQKRwPQrXY01ASOF6FK4HTUC4HoXrUZhMQMP1KFyPIkxA7FG4HoWLS0B7FK5H4VpKQPYoXI/CNUlAXI/C9Sj8R0DhehSuR4FHQOF6FK5HIUdA",
            "dtype": "f8"
           },
           "yaxis": "y"
          },
          {
           "hovertemplate": "Type=Hedged Volume<br>Settlement_Day=Mon 18/08/2025<br>Settlement_Period=%{x}<br>Volume=%{y}<extra></extra>",
           "legendgroup": "Hedged Volume",
           "line": {
            "color": "#17a398",
            "dash": "solid"
           },
           "marker": {
            "symbol": "circle"
           },
           "mode": "lines",
           "name": "Hedged Volume",
           "orientation": "v",
           "showlegend": true,
           "type": "scatter",
           "x": {
            "bdata": "AQIDBAUGBwgJCgsMDQ4PEBESExQVFhcYGRobHB0eHyAhIiMkJSYnKCkqKywtLi8w",
            "dtype": "i1"
           },
           "xaxis": "x",
           "y": {
            "bdata": "w/UoXI8CSkDD9ShcjwJKQMP1KFyPAkpAw/UoXI8CSkDD9ShcjwJKQMP1KFyPAkpAw/UoXI8CSkDD9ShcjwJKQMP1KFyPAkpAw/UoXI8CSkDD9ShcjwJKQMP1KFyPAkpAw/UoXI8CSkDD9ShcjwJKQK5H4XoUrlRArkfhehSuVECuR+F6FK5UQK5H4XoUrlRArkfhehSuVECuR+F6FK5UQK5H4XoUrlRArkfhehSuVECuR+F6FK5UQK5H4XoUrlRArkfhehSuVECuR+F6FK5UQK5H4XoUrlRArkfhehSuVECuR+F6FK5UQK5H4XoUrlRArkfhehSuVECuR+F6FK5UQK5H4XoUrlRArkfhehSuVECuR+F6FK5UQK5H4XoUrlRArkfhehSuVECuR+F6FK5UQMP1KFyPAkpAw/UoXI8CSkDD9ShcjwJKQMP1KFyPAkpAw/UoXI8CSkDD9ShcjwJKQMP1KFyPAkpAw/UoXI8CSkDD9ShcjwJKQMP1KFyPAkpA",
            "dtype": "f8"
           },
           "yaxis": "y"
          }
         ],
         "name": "Mon 18/08/2025"
        },
        {
         "data": [
          {
           "hovertemplate": "Type=Purchased_Volume<br>Settlement_Day=Tue 19/08/2025<br>Settlement_Period=%{x}<br>Volume=%{y}<extra></extra>",
           "legendgroup": "Purchased_Volume",
           "line": {
            "color": "#00314a",
            "dash": "solid"
           },
           "marker": {
            "symbol": "circle"
           },
           "mode": "lines",
           "name": "Purchased_Volume",
           "orientation": "v",
           "showlegend": true,
           "type": "scatter",
           "x": {
            "bdata": "AQIDBAUGBwgJCgsMDQ4PEBESExQVFhcYGRobHB0eHyAhIiMkJSYnKCkqKywtLi8w",
            "dtype": "i1"
           },
           "xaxis": "x",
           "y": {
            "bdata": "H4XrUbieR0B7FK5H4bpHQEjhehSuJ0hA16NwPQoXSEDsUbgehQtIQKRwPQrXo0dAhetRuB5lR0CuR+F6FE5HQDMzMzMzk0dAexSuR+G6R0ApXI/C9YhIQIXrUbgehUlA16NwPQpXTUAUrkfhevRPQMP1KFyP4lFAcT0K16NwU0CuR+F6FP5UQDMzMzMzg1ZA7FG4HoX7VkA9CtejcD1XQIXrUbgeNVdAAAAAAABAV0BSuB6F6+FWQArXo3A9mlZA9ihcj8IFVkB7FK5H4SpWQM3MzMzMrFVApHA9CtdzVUCamZmZmXlVQMP1KFyPElVAw/UoXI/yVEAK16NwPZpUQD0K16Nw3VNACtejcD06U0D2KFyPwuVRQHE9CtejAFFAMzMzMzMTUECuR+F6FK5PQMP1KFyP4k5Aj8L1KFxvTkCPwvUoXM9NQBSuR+F6dE1AFK5H4XqUTECuR+F6FI5LQFyPwvUoPEpA9ihcj8L1SEDXo3A9CtdHQMP1KFyP4kdA",
            "dtype": "f8"
           },
           "yaxis": "y"
          },
          {
           "hovertemplate": "Type=Actual_Demand<br>Settlement_Day=Tue 19/08/2025<br>Settlement_Period=%{x}<br>Volume=%{y}<extra></extra>",
           "legendgroup": "Actual_Demand",
           "line": {
            "color": "#e34a21",
            "dash": "solid"
           },
           "marker": {
            "symbol": "circle"
           },
           "mode": "lines",
           "name": "Actual_Demand",
           "orientation": "v",
           "showlegend": true,
           "type": "scatter",
           "x": {
            "bdata": "AQIDBAUGBwgJCgsMDQ4PEBESExQVFhcYGRobHB0eHyAhIiMkJSYnKCkqKywtLi8w",
            "dtype": "i1"
           },
           "xaxis": "x",
           "y": {
            "bdata": "j8L1KFzPRkCkcD0K18NGQNejcD0K90ZAUrgeheuxRkBmZmZmZsZGQMP1KFyPgkZASOF6FK6nRkAAAAAAAIBGQBSuR+F6tEZAAAAAAAAAR0CamZmZmZlHQArXo3A9ykhAexSuR+F6TECkcD0K18NOQB+F61G4TlFA7FG4HoWrUkA9CtejcF1UQFyPwvUonFVAFK5H4XpEVkAfhetRuC5WQHsUrkfh+lVAPQrXo3ANVkB7FK5H4RpWQNejcD0KF1ZA7FG4HoWbVUDNzMzMzKxVQArXo3A9WlVApHA9CteDVUApXI/C9ThVQI/C9ShcH1VAXI/C9SgMVUCkcD0K19NUQM3MzMzMrFRA7FG4HoXrU0BSuB6F64FSQLgehetRCFFAmpmZmZmZT0AK16NwPepOQFK4HoXrEU5AFK5H4Xq0TUDXo3A9CvdMQHsUrkfhWkxArkfhehTOS0DD9Shcj4JKQOF6FK5HQUlAUrgehesxSEBSuB6F61FHQOxRuB6F60ZA",
            "dtype": "f8"
           },
           "yaxis": "y"
          },
          {
           "hovertemplate": "Type=Hedged Volume<br>Settlement_Day=Tue 19/08/2025<br>Settlement_Period=%{x}<br>Volume=%{y}<extra></extra>",
           "legendgroup": "Hedged Volume",
           "line": {
            "color": "#17a398",
            "dash": "solid"
           },
           "marker": {
            "symbol": "circle"
           },
           "mode": "lines",
           "name": "Hedged Volume",
           "orientation": "v",
           "showlegend": true,
           "type": "scatter",
           "x": {
            "bdata": "AQIDBAUGBwgJCgsMDQ4PEBESExQVFhcYGRobHB0eHyAhIiMkJSYnKCkqKywtLi8w",
            "dtype": "i1"
           },
           "xaxis": "x",
           "y": {
            "bdata": "w/UoXI8CSkDD9ShcjwJKQMP1KFyPAkpAw/UoXI8CSkDD9ShcjwJKQMP1KFyPAkpAw/UoXI8CSkDD9ShcjwJKQMP1KFyPAkpAw/UoXI8CSkDD9ShcjwJKQMP1KFyPAkpAw/UoXI8CSkDD9ShcjwJKQK5H4XoUrlRArkfhehSuVECuR+F6FK5UQK5H4XoUrlRArkfhehSuVECuR+F6FK5UQK5H4XoUrlRArkfhehSuVECuR+F6FK5UQK5H4XoUrlRArkfhehSuVECuR+F6FK5UQK5H4XoUrlRArkfhehSuVECuR+F6FK5UQK5H4XoUrlRArkfhehSuVECuR+F6FK5UQK5H4XoUrlRArkfhehSuVECuR+F6FK5UQK5H4XoUrlRArkfhehSuVECuR+F6FK5UQMP1KFyPAkpAw/UoXI8CSkDD9ShcjwJKQMP1KFyPAkpAw/UoXI8CSkDD9ShcjwJKQMP1KFyPAkpAw/UoXI8CSkDD9ShcjwJKQMP1KFyPAkpA",
            "dtype": "f8"
           },
           "yaxis": "y"
          }
         ],
         "name": "Tue 19/08/2025"
        },
        {
         "data": [
          {
           "hovertemplate": "Type=Purchased_Volume<br>Settlement_Day=Wed 20/08/2025<br>Settlement_Period=%{x}<br>Volume=%{y}<extra></extra>",
           "legendgroup": "Purchased_Volume",
           "line": {
            "color": "#00314a",
            "dash": "solid"
           },
           "marker": {
            "symbol": "circle"
           },
           "mode": "lines",
           "name": "Purchased_Volume",
           "orientation": "v",
           "showlegend": true,
           "type": "scatter",
           "x": {
            "bdata": "AQIDBAUGBwgJCgsMDQ4PEBESExQVFhcYGRobHB0eHyAhIiMkJSYnKCkqKywtLi8w",
            "dtype": "i1"
           },
           "xaxis": "x",
           "y": {
            "bdata": "H4XrUbieR0B7FK5H4bpHQEjhehSuJ0hA16NwPQoXSEDsUbgehQtIQKRwPQrXo0dAhetRuB5lR0CuR+F6FE5HQDMzMzMzk0dAexSuR+G6R0ApXI/C9YhIQIXrUbgehUlA16NwPQpXTUAUrkfhevRPQMP1KFyP4lFAcT0K16NwU0CuR+F6FP5UQDMzMzMzg1ZA7FG4HoX7VkA9CtejcD1XQIXrUbgeNVdAAAAAAABAV0BSuB6F6+FWQArXo3A9mlZA9ihcj8IFVkB7FK5H4SpWQM3MzMzMrFVApHA9CtdzVUCamZmZmXlVQMP1KFyPElVAw/UoXI/yVEAK16NwPZpUQD0K16Nw3VNACtejcD06U0D2KFyPwuVRQHE9CtejAFFAMzMzMzMTUECuR+F6FK5PQMP1KFyP4k5Aj8L1KFxvTkCPwvUoXM9NQBSuR+F6dE1AFK5H4XqUTECuR+F6FI5LQFyPwvUoPEpA9ihcj8L1SEBI4XoUrodHQLgehetRmEdA",
            "dtype": "f8"
           },
           "yaxis": "y"
          },
          {
           "hovertemplate": "Type=Actual_Demand<br>Settlement_Day=Wed 20/08/2025<br>Settlement_Period=%{x}<br>Volume=%{y}<extra></extra>",
           "legendgroup": "Actual_Demand",
           "line": {
            "color": "#e34a21",
            "dash": "solid"
           },
           "marker": {
            "symbol": "circle"
           },
           "mode": "lines",
           "name": "Actual_Demand",
           "orientation": "v",
           "showlegend": true,
           "type": "scatter",
           "x": {
            "bdata": "AQIDBAUGBwgJCgsMDQ4PEBESExQVFhcYGRobHB0eHyAhIiMkJSYnKCkqKywtLi8w",
            "dtype": "i1"
           },
           "xaxis": "x",
           "y": {
            "bdata": "CtejcD2qRkDXo3A9CrdGQGZmZmZm5kZASOF6FK6nRkCkcD0K16NGQOxRuB6FS0ZApHA9CtdDRkDD9ShcjyJGQBSuR+F6lEZAexSuR+HaRkDsUbgehUtHQJqZmZmZuUhA9ihcj8JVTECkcD0K18NOQD0K16NwTVFAKVyPwvVoU0AAAAAAAMBUQM3MzMzMPFZA7FG4HoVLV0CF61G4HqVXQEjhehSuh1dAw/UoXI+iV0C4HoXrUZhXQB+F61G4fldAuB6F61FIV0BxPQrXo9BWQK5H4XoUflZAUrgehethVkDhehSuRxFWQLgehetR2FVA4XoUrkexVUApXI/C9ZhVQMP1KFyP4lRAKVyPwvXoU0CamZmZmSlSQI/C9Shc/1BA9ihcj8KVT0CkcD0K1+NOQI/C9ShcT05A16NwPQo3TkCF61G4HgVNQArXo3A9akxAKVyPwvXIS0AfhetRuL5KQIXrUbgehUlA4XoUrkeBSEAK16NwPYpHQMP1KFyPIkdA",
            "dtype": "f8"
           },
           "yaxis": "y"
          },
          {
           "hovertemplate": "Type=Hedged Volume<br>Settlement_Day=Wed 20/08/2025<br>Settlement_Period=%{x}<br>Volume=%{y}<extra></extra>",
           "legendgroup": "Hedged Volume",
           "line": {
            "color": "#17a398",
            "dash": "solid"
           },
           "marker": {
            "symbol": "circle"
           },
           "mode": "lines",
           "name": "Hedged Volume",
           "orientation": "v",
           "showlegend": true,
           "type": "scatter",
           "x": {
            "bdata": "AQIDBAUGBwgJCgsMDQ4PEBESExQVFhcYGRobHB0eHyAhIiMkJSYnKCkqKywtLi8w",
            "dtype": "i1"
           },
           "xaxis": "x",
           "y": {
            "bdata": "XI/C9Sj8SUBcj8L1KPxJQFyPwvUo/ElAXI/C9Sj8SUBcj8L1KPxJQFyPwvUo/ElAXI/C9Sj8SUBcj8L1KPxJQFyPwvUo/ElAXI/C9Sj8SUBcj8L1KPxJQFyPwvUo/ElAXI/C9Sj8SUBcj8L1KPxJQK5H4XoUrlRArkfhehSuVECuR+F6FK5UQK5H4XoUrlRArkfhehSuVECuR+F6FK5UQK5H4XoUrlRArkfhehSuVECuR+F6FK5UQK5H4XoUrlRArkfhehSuVECuR+F6FK5UQK5H4XoUrlRArkfhehSuVECuR+F6FK5UQK5H4XoUrlRArkfhehSuVECuR+F6FK5UQK5H4XoUrlRArkfhehSuVECuR+F6FK5UQK5H4XoUrlRArkfhehSuVECuR+F6FK5UQFyPwvUo/ElAXI/C9Sj8SUBcj8L1KPxJQFyPwvUo/ElAXI/C9Sj8SUBcj8L1KPxJQFyPwvUo/ElAXI/C9Sj8SUBcj8L1KPxJQFyPwvUo/ElA",
            "dtype": "f8"
           },
           "yaxis": "y"
          }
         ],
         "name": "Wed 20/08/2025"
        },
        {
         "data": [
          {
           "hovertemplate": "Type=Purchased_Volume<br>Settlement_Day=Thu 21/08/2025<br>Settlement_Period=%{x}<br>Volume=%{y}<extra></extra>",
           "legendgroup": "Purchased_Volume",
           "line": {
            "color": "#00314a",
            "dash": "solid"
           },
           "marker": {
            "symbol": "circle"
           },
           "mode": "lines",
           "name": "Purchased_Volume",
           "orientation": "v",
           "showlegend": true,
           "type": "scatter",
           "x": {
            "bdata": "AQIDBAUGBwgJCgsMDQ4PEBESExQVFhcYGRobHB0eHyAhIiMkJSYnKCkqKywtLi8w",
            "dtype": "i1"
           },
           "xaxis": "x",
           "y": {
            "bdata": "pHA9CtejR0BI4XoUrodHQPYoXI/CtUdAAAAAAABgR0BxPQrXo3BHQBSuR+F6FEdApHA9CtcDR0CF61G4HsVGQLgehetR+EZAuB6F61H4RkD2KFyPwrVHQOxRuB6Fq0hAXI/C9ShcTEBmZmZmZoZOQOF6FK5HgVFApHA9CtezUkB7FK5H4VpUQAAAAAAA4FVAAAAAAACgVkDD9Shcj6JWQHE9CtejgFZApHA9CtezVkAAAAAAAKBWQGZmZmZmhlZApHA9CtcTVkBmZmZmZhZWQClcj8L16FVASOF6FK7XVUBcj8L1KMxVQFyPwvUofFVA4XoUrkdRVUDD9Shcj/JUQMP1KFyPUlRAMzMzMzNzU0DsUbgehTtSQIXrUbge9VBAXI/C9SjcT0AfhetRuF5PQNejcD0K105ArkfhehQOTkC4HoXrUbhNQIXrUbge5UxA16NwPQq3TEAfhetRuJ5LQDMzMzMzU0pAj8L1KFwvSUCF61G4HgVIQNejcD0K10dA",
            "dtype": "f8"
           },
           "yaxis": "y"
          },
          {
           "hovertemplate": "Type=Actual_Demand<br>Settlement_Day=Thu 21/08/2025<br>Settlement_Period=%{x}<br>Volume=%{y}<extra></extra>",
           "legendgroup": "Actual_Demand",
           "line": {
            "color": "#e34a21",
            "dash": "solid"
           },
           "marker": {
            "symbol": "circle"
           },
           "mode": "lines",
           "name": "Actual_Demand",
           "orientation": "v",
           "showlegend": true,
           "type": "scatter",
           "x": {
            "bdata": "AQIDBAUGBwgJCgsMDQ4PEBESExQVFhcYGRobHB0eHyAhIiMkJSYnKCkqKywtLi8w",
            "dtype": "i1"
           },
           "xaxis": "x",
           "y": {
            "bdata": "rkfhehQuR0CPwvUoXA9HQGZmZmZmZkdA9ihcj8IVR0DsUbgehUtHQK5H4XoU7kZAMzMzMzPzRkBxPQrXo7BGQClcj8L1KEdAPQrXo3A9R0D2KFyPwtVHQIXrUbgeRUlAhetRuB4FTUCPwvUoXK9PQDMzMzMzw1FA4XoUrkeRU0AzMzMzMxNVQClcj8L1SFZAcT0K16MQV0BmZmZmZjZYQMP1KFyPIlhAcT0K16NwWECamZmZmdlYQFK4HoXrkVhAUrgehetRWEAK16NwPepXQKRwPQrXo1dAKVyPwvV4V0B7FK5H4WpXQM3MzMzMHFdArkfhehR+VkCuR+F6FC5WQOF6FK5HIVVAPQrXo3DNU0AK16NwPSpSQOxRuB6F21BAhetRuB5lT0ApXI/C9ehOQPYoXI/CVU5AKVyPwvXITUCF61G4HmVNQHsUrkfhukxAexSuR+H6S0CamZmZmdlKQHsUrkfhuklAZmZmZmamSED2KFyPwrVHQJqZmZmZGUdA",
            "dtype": "f8"
           },
           "yaxis": "y"
          },
          {
           "hovertemplate": "Type=Hedged Volume<br>Settlement_Day=Thu 21/08/2025<br>Settlement_Period=%{x}<br>Volume=%{y}<extra></extra>",
           "legendgroup": "Hedged Volume",
           "line": {
            "color": "#17a398",
            "dash": "solid"
           },
           "marker": {
            "symbol": "circle"
           },
           "mode": "lines",
           "name": "Hedged Volume",
           "orientation": "v",
           "showlegend": true,
           "type": "scatter",
           "x": {
            "bdata": "AQIDBAUGBwgJCgsMDQ4PEBESExQVFhcYGRobHB0eHyAhIiMkJSYnKCkqKywtLi8w",
            "dtype": "i1"
           },
           "xaxis": "x",
           "y": {
            "bdata": "AAAAAACgSUAAAAAAAKBJQAAAAAAAoElAAAAAAACgSUAAAAAAAKBJQAAAAAAAoElAAAAAAACgSUAAAAAAAKBJQAAAAAAAoElAAAAAAACgSUAAAAAAAKBJQAAAAAAAoElAAAAAAACgSUAAAAAAAKBJQGZmZmZmllRAZmZmZmaWVEBmZmZmZpZUQGZmZmZmllRAZmZmZmaWVEBmZmZmZpZUQGZmZmZmllRAZmZmZmaWVEBmZmZmZpZUQGZmZmZmllRAZmZmZmaWVEBmZmZmZpZUQGZmZmZmllRAZmZmZmaWVEBmZmZmZpZUQGZmZmZmllRAZmZmZmaWVEBmZmZmZpZUQGZmZmZmllRAZmZmZmaWVEBmZmZmZpZUQGZmZmZmllRAZmZmZmaWVEBmZmZmZpZUQAAAAAAAoElAAAAAAACgSUAAAAAAAKBJQAAAAAAAoElAAAAAAACgSUAAAAAAAKBJQAAAAAAAoElAAAAAAACgSUAAAAAAAKBJQAAAAAAAoElA",
            "dtype": "f8"
           },
           "yaxis": "y"
          }
         ],
         "name": "Thu 21/08/2025"
        },
        {
         "data": [
          {
           "hovertemplate": "Type=Purchased_Volume<br>Settlement_Day=Fri 22/08/2025<br>Settlement_Period=%{x}<br>Volume=%{y}<extra></extra>",
           "legendgroup": "Purchased_Volume",
           "line": {
            "color": "#00314a",
            "dash": "solid"
           },
           "marker": {
            "symbol": "circle"
           },
           "mode": "lines",
           "name": "Purchased_Volume",
           "orientation": "v",
           "showlegend": true,
           "type": "scatter",
           "x": {
            "bdata": "AQIDBAUGBwgJCgsMDQ4PEBESExQVFhcYGRobHB0eHyAhIiMkJSYnKCkqKywtLi8w",
            "dtype": "i1"
           },
           "xaxis": "x",
           "y": {
            "bdata": "9ihcj8K1R0DhehSuR8FHQIXrUbgeBUhAw/UoXI/iR0B7FK5H4bpHQM3MzMzMjEdAXI/C9Sh8R0DD9Shcj0JHQOF6FK5HgUdA4XoUrkfBR0C4HoXrUThIQClcj8L1KElArkfhehTOTEBmZmZmZiZPQM3MzMzMPFFAexSuR+HKUkDhehSuR/FTQI/C9ShcX1VAw/UoXI9SVkDhehSuR7FWQClcj8L1+FZA9ihcj8L1VkBxPQrXozBWQOxRuB6FC1ZAXI/C9Sh8VUBI4XoUrodVQK5H4XoU/lRAcT0K16OAVEAUrkfheiRUQDMzMzMzc1NAZmZmZmYmU0CamZmZmUlSQKRwPQrXo1FAXI/C9ShcUUD2KFyPwoVQQAAAAAAAgE9AH4XrUbjeTUApXI/C9YhNQK5H4XoUzkxAKVyPwvWITECPwvUoXO9LQMP1KFyPgktAzczMzMzsSkCF61G4HiVKQClcj8L1KElA16NwPQoXSECkcD0K1wNHQArXo3A9ykZA",
            "dtype": "f8"
           },
           "yaxis": "y"
          },
          {
           "hovertemplate": "Type=Actual_Demand<br>Settlement_Day=Fri 22/08/2025<br>Settlement_Period=%{x}<br>Volume=%{y}<extra></extra>",
           "legendgroup": "Actual_Demand",
           "line": {
            "color": "#e34a21",
            "dash": "solid"
           },
           "marker": {
            "symbol": "circle"
           },
           "mode": "lines",
           "name": "Actual_Demand",
           "orientation": "v",
           "showlegend": true,
           "type": "scatter",
           "x": {
            "bdata": "AQIDBAUGBwgJCgsMDQ4PEBESExQVFhcYGRobHB0eHyAhIiMkJSYnKCkqKywtLi8w",
            "dtype": "i1"
           },
           "xaxis": "x",
           "y": {
            "bdata": "4XoUrkcBR0DhehSuRwFHQFyPwvUoXEdAuB6F61H4RkCkcD0K1wNHQHE9Ctej8EZAKVyPwvXoRkCF61G4HsVGQFK4HoXr8UZASOF6FK4nR0DXo3A9CrdHQLgehetR+EhAuB6F61F4TEBSuB6F65FOQLgehetRyFBAzczMzMxcUkBcj8L1KOxTQDMzMzMz01RAXI/C9SgcVkB7FK5H4TpWQFyPwvUorFZAAAAAAACgVkDhehSuRyFWQK5H4XoUXlZAAAAAAAAwVkDNzMzMzBxWQI/C9Shcf1VAj8L1KFy/VEBmZmZmZlZUQMP1KFyP4lNAPQrXo3BtU0Bcj8L1KNxSQClcj8L1+FFA16NwPQpXUUAK16NwPYpQQAAAAAAAYE9AmpmZmZlZTUBSuB6F69FMQHsUrkfhOkxAXI/C9SgcTEAzMzMzM5NLQFK4HoXrMUtAj8L1KFyPSkCamZmZmblJQFK4HoXrsUhAw/UoXI+iR0D2KFyPwvVGQFK4HoXrcUZA",
            "dtype": "f8"
           },
           "yaxis": "y"
          },
          {
           "hovertemplate": "Type=Hedged Volume<br>Settlement_Day=Fri 22/08/2025<br>Settlement_Period=%{x}<br>Volume=%{y}<extra></extra>",
           "legendgroup": "Hedged Volume",
           "line": {
            "color": "#17a398",
            "dash": "solid"
           },
           "marker": {
            "symbol": "circle"
           },
           "mode": "lines",
           "name": "Hedged Volume",
           "orientation": "v",
           "showlegend": true,
           "type": "scatter",
           "x": {
            "bdata": "AQIDBAUGBwgJCgsMDQ4PEBESExQVFhcYGRobHB0eHyAhIiMkJSYnKCkqKywtLi8w",
            "dtype": "i1"
           },
           "xaxis": "x",
           "y": {
            "bdata": "CtejcD1KSUAK16NwPUpJQArXo3A9SklACtejcD1KSUAK16NwPUpJQArXo3A9SklACtejcD1KSUAK16NwPUpJQArXo3A9SklACtejcD1KSUAK16NwPUpJQArXo3A9SklACtejcD1KSUAK16NwPUpJQHE9CtejoFNAcT0K16OgU0BxPQrXo6BTQHE9CtejoFNAcT0K16OgU0BxPQrXo6BTQHE9CtejoFNAcT0K16OgU0BxPQrXo6BTQHE9CtejoFNAcT0K16OgU0BxPQrXo6BTQHE9CtejoFNAcT0K16OgU0BxPQrXo6BTQHE9CtejoFNAcT0K16OgU0BxPQrXo6BTQHE9CtejoFNAcT0K16OgU0BxPQrXo6BTQHE9CtejoFNAcT0K16OgU0BxPQrXo6BTQArXo3A9SklACtejcD1KSUAK16NwPUpJQArXo3A9SklACtejcD1KSUAK16NwPUpJQArXo3A9SklACtejcD1KSUAK16NwPUpJQArXo3A9SklA",
            "dtype": "f8"
           },
           "yaxis": "y"
          }
         ],
         "name": "Fri 22/08/2025"
        },
        {
         "data": [
          {
           "hovertemplate": "Type=Purchased_Volume<br>Settlement_Day=Sat 23/08/2025<br>Settlement_Period=%{x}<br>Volume=%{y}<extra></extra>",
           "legendgroup": "Purchased_Volume",
           "line": {
            "color": "#00314a",
            "dash": "solid"
           },
           "marker": {
            "symbol": "circle"
           },
           "mode": "lines",
           "name": "Purchased_Volume",
           "orientation": "v",
           "showlegend": true,
           "type": "scatter",
           "x": {
            "bdata": "AQIDBAUGBwgJCgsMDQ4PEBESExQVFhcYGRobHB0eHyAhIiMkJSYnKCkqKywtLi8w",
            "dtype": "i1"
           },
           "xaxis": "x",
           "y": {
            "bdata": "9ihcj8I1RkA9CtejcF1GQOxRuB6Fi0ZAUrgeheuxRUDNzMzMzKxFQIXrUbgehUVACtejcD2KRUCF61G4HkVFQLgehetRGEVAmpmZmZk5RUCuR+F6FG5FQMP1KFyPYkVA9ihcj8I1RkB7FK5H4RpHQB+F61G4PkhAcT0K16PwSEC4HoXrUbhJQK5H4XoUTktAAAAAAAAATECuR+F6FM5MQLgehetReExA7FG4HoWLTUAfhetRuN5MQK5H4XoULkxAhetRuB6lS0A9CtejcD1LQDMzMzMz80pAFK5H4Xq0SkApXI/C9chJQD0K16NwHUlA7FG4HoVLSUD2KFyPwnVKQAAAAAAAIEpA16NwPQr3SUApXI/C9QhKQFyPwvUo/EhAMzMzMzPTSEA9CtejcH1IQHE9CtejsEhAmpmZmZnZSEA9CtejcB1JQFyPwvUo/EhApHA9CtdDSEBSuB6F69FHQBSuR+F6VEdA4XoUrkfhRkCPwvUoXI9FQI/C9Shcj0VA",
            "dtype": "f8"
           },
           "yaxis": "y"
          },
          {
           "hovertemplate": "Type=Actual_Demand<br>Settlement_Day=Sat 23/08/2025<br>Settlement_Period=%{x}<br>Volume=%{y}<extra></extra>",
           "legendgroup": "Actual_Demand",
           "line": {
            "color": "#e34a21",
            "dash": "solid"
           },
           "marker": {
            "symbol": "circle"
           },
           "mode": "lines",
           "name": "Actual_Demand",
           "orientation": "v",
           "showlegend": true,
           "type": "scatter",
           "x": {
            "bdata": "AQIDBAUGBwgJCgsMDQ4PEBESExQVFhcYGRobHB0eHyAhIiMkJSYnKCkqKywtLi8w",
            "dtype": "i1"
           },
           "xaxis": "x",
           "y": {
            "bdata": "pHA9CtcjRkBI4XoUrudFQEjhehSu50VAw/UoXI+iRUAzMzMzM7NFQClcj8L1iEVAH4XrUbieRUAK16NwPWpFQOxRuB6Fa0VAMzMzMzOTRUAUrkfhetRFQB+F61G4HkZAj8L1KFzPRkCF61G4HoVHQI/C9Shcr0hAzczMzMxsSUDD9Shcj8JKQD0K16NwPU1AUrgehesxT0CuR+F6FG5PQFK4HoXr0U9AexSuR+EaUEAzMzMzM4NQQD0K16NwbVBACtejcD0KUEAzMzMzM5NPQHE9CtejcE9AmpmZmZn5TkCuR+F6FG5OQOxRuB6FK05Aw/UoXI8iTkCuR+F6FO5NQIXrUbgehU1AhetRuB4lTUBI4XoUridMQHsUrkfhektAj8L1KFwPSkCF61G4HsVJQNejcD0Kl0lArkfhehRuSUAzMzMzM/NIQPYoXI/ClUhAZmZmZmaGSEApXI/C9ehHQMP1KFyPIkdAPQrXo3B9RkA9CtejcN1FQOF6FK5HoUVA",
            "dtype": "f8"
           },
           "yaxis": "y"
          },
          {
           "hovertemplate": "Type=Hedged Volume<br>Settlement_Day=Sat 23/08/2025<br>Settlement_Period=%{x}<br>Volume=%{y}<extra></extra>",
           "legendgroup": "Hedged Volume",
           "line": {
            "color": "#17a398",
            "dash": "solid"
           },
           "marker": {
            "symbol": "circle"
           },
           "mode": "lines",
           "name": "Hedged Volume",
           "orientation": "v",
           "showlegend": true,
           "type": "scatter",
           "x": {
            "bdata": "AQIDBAUGBwgJCgsMDQ4PEBESExQVFhcYGRobHB0eHyAhIiMkJSYnKCkqKywtLi8w",
            "dtype": "i1"
           },
           "xaxis": "x",
           "y": {
            "bdata": "9ihcj8KVSED2KFyPwpVIQPYoXI/ClUhA9ihcj8KVSED2KFyPwpVIQPYoXI/ClUhA9ihcj8KVSED2KFyPwpVIQPYoXI/ClUhA9ihcj8KVSED2KFyPwpVIQPYoXI/ClUhA9ihcj8KVSED2KFyPwpVIQPYoXI/ClUhA9ihcj8KVSED2KFyPwpVIQPYoXI/ClUhA9ihcj8KVSED2KFyPwpVIQPYoXI/ClUhA9ihcj8KVSED2KFyPwpVIQPYoXI/ClUhA9ihcj8KVSED2KFyPwpVIQPYoXI/ClUhA9ihcj8KVSED2KFyPwpVIQPYoXI/ClUhA9ihcj8KVSED2KFyPwpVIQPYoXI/ClUhA9ihcj8KVSED2KFyPwpVIQPYoXI/ClUhA9ihcj8KVSED2KFyPwpVIQPYoXI/ClUhA9ihcj8KVSED2KFyPwpVIQPYoXI/ClUhA9ihcj8KVSED2KFyPwpVIQPYoXI/ClUhA9ihcj8KVSED2KFyPwpVIQPYoXI/ClUhA",
            "dtype": "f8"
           },
           "yaxis": "y"
          }
         ],
         "name": "Sat 23/08/2025"
        },
        {
         "data": [
          {
           "hovertemplate": "Type=Purchased_Volume<br>Settlement_Day=Sun 24/08/2025<br>Settlement_Period=%{x}<br>Volume=%{y}<extra></extra>",
           "legendgroup": "Purchased_Volume",
           "line": {
            "color": "#00314a",
            "dash": "solid"
           },
           "marker": {
            "symbol": "circle"
           },
           "mode": "lines",
           "name": "Purchased_Volume",
           "orientation": "v",
           "showlegend": true,
           "type": "scatter",
           "x": {
            "bdata": "AQIDBAUGBwgJCgsMDQ4PEBESExQVFhcYGRobHB0eHyAhIiMkJSYnKCkqKywtLi8w",
            "dtype": "i1"
           },
           "xaxis": "x",
           "y": {
            "bdata": "mpmZmZk5RUCamZmZmTlFQFyPwvUovERAXI/C9Si8REDsUbgehWtEQOxRuB6Fa0RAmpmZmZn5Q0CamZmZmflDQM3MzMzMLERAzczMzMwsREDhehSuRyFEQOF6FK5HIURA16NwPQp3REDXo3A9CndEQGZmZmZmBkVAZmZmZmYGRUDsUbgehetFQOxRuB6F60VAw/UoXI/iR0DD9Shcj+JHQNejcD0Kt0hA16NwPQq3SEAzMzMzM3NJQDMzMzMzc0lAZmZmZmYGSUBmZmZmZgZJQI/C9Shcj0hAj8L1KFyPSEAzMzMzMzNIQDMzMzMzM0hArkfhehTOSECuR+F6FM5IQK5H4XoULkhArkfhehQuSEC4HoXrUXhIQLgehetReEhApHA9CtejR0CkcD0K16NHQB+F61G4PkhAH4XrUbg+SECuR+F6FO5HQK5H4XoU7kdA4XoUrkeBR0DhehSuR4FHQDMzMzMzs0ZAMzMzMzOzRkDD9ShcjwJGQMP1KFyPAkZA",
            "dtype": "f8"
           },
           "yaxis": "y"
          },
          {
           "hovertemplate": "Type=Actual_Demand<br>Settlement_Day=Sun 24/08/2025<br>Settlement_Period=%{x}<br>Volume=%{y}<extra></extra>",
           "legendgroup": "Actual_Demand",
           "line": {
            "color": "#e34a21",
            "dash": "solid"
           },
           "marker": {
            "symbol": "circle"
           },
           "mode": "lines",
           "name": "Actual_Demand",
           "orientation": "v",
           "showlegend": true,
           "type": "scatter",
           "x": {
            "bdata": "AQIDBAUGBwgJCgsMDQ4PEBESExQVFhcYGRobHB0eHyAhIiMkJSYnKCkqKywtLi8w",
            "dtype": "i1"
           },
           "xaxis": "x",
           "y": {
            "bdata": "CtejcD2KRUDsUbgehStFQAAAAAAAAEVAw/UoXI+iREAAAAAAAKBEQOxRuB6FS0RAXI/C9Sh8REBSuB6F61FEQFyPwvUoXERA9ihcj8JVREA9CtejcD1EQFyPwvUoPERAFK5H4XqURED2KFyPwvVEQOF6FK5HgUVAmpmZmZn5RUBxPQrXo3BGQGZmZmZmpkdA7FG4HoXrSEAK16NwPQpJQArXo3A9SklAj8L1KFxvSUCamZmZmRlKQIXrUbgexUlAMzMzMzPzSUAK16NwPWpJQLgehetROElAj8L1KFwvSUDhehSuRwFJQI/C9Shcj0hAj8L1KFyPSEAAAAAAAGBIQJqZmZmZ+UdAw/UoXI/CR0DXo3A9CtdHQFyPwvUofEdAj8L1KFyvRkCF61G4HsVGQFK4HoXrEUdAj8L1KFwPR0C4HoXrUdhGQJqZmZmZeUZAH4XrUbi+RkAzMzMzM9NGQFK4HoXrMUZAH4XrUbjeRUD2KFyPwpVFQD0K16NwfUVA",
            "dtype": "f8"
           },
           "yaxis": "y"
          },
          {
           "hovertemplate": "Type=Hedged Volume<br>Settlement_Day=Sun 24/08/2025<br>Settlement_Period=%{x}<br>Volume=%{y}<extra></extra>",
           "legendgroup": "Hedged Volume",
           "line": {
            "color": "#17a398",
            "dash": "solid"
           },
           "marker": {
            "symbol": "circle"
           },
           "mode": "lines",
           "name": "Hedged Volume",
           "orientation": "v",
           "showlegend": true,
           "type": "scatter",
           "x": {
            "bdata": "AQIDBAUGBwgJCgsMDQ4PEBESExQVFhcYGRobHB0eHyAhIiMkJSYnKCkqKywtLi8w",
            "dtype": "i1"
           },
           "xaxis": "x",
           "y": {
            "bdata": "j8L1KFzPRkCPwvUoXM9GQI/C9Shcz0ZAj8L1KFzPRkCPwvUoXM9GQI/C9Shcz0ZAj8L1KFzPRkCPwvUoXM9GQI/C9Shcz0ZAj8L1KFzPRkCPwvUoXM9GQI/C9Shcz0ZAj8L1KFzPRkCPwvUoXM9GQI/C9Shcz0ZAj8L1KFzPRkCPwvUoXM9GQI/C9Shcz0ZAj8L1KFzPRkCPwvUoXM9GQI/C9Shcz0ZAj8L1KFzPRkCPwvUoXM9GQI/C9Shcz0ZAj8L1KFzPRkCPwvUoXM9GQI/C9Shcz0ZAj8L1KFzPRkCPwvUoXM9GQI/C9Shcz0ZAj8L1KFzPRkCPwvUoXM9GQI/C9Shcz0ZAj8L1KFzPRkCPwvUoXM9GQI/C9Shcz0ZAj8L1KFzPRkCPwvUoXM9GQI/C9Shcz0ZAj8L1KFzPRkCPwvUoXM9GQI/C9Shcz0ZAj8L1KFzPRkCPwvUoXM9GQI/C9Shcz0ZAj8L1KFzPRkCPwvUoXM9GQI/C9Shcz0ZA",
            "dtype": "f8"
           },
           "yaxis": "y"
          }
         ],
         "name": "Sun 24/08/2025"
        },
        {
         "data": [
          {
           "hovertemplate": "Type=Purchased_Volume<br>Settlement_Day=Mon 25/08/2025<br>Settlement_Period=%{x}<br>Volume=%{y}<extra></extra>",
           "legendgroup": "Purchased_Volume",
           "line": {
            "color": "#00314a",
            "dash": "solid"
           },
           "marker": {
            "symbol": "circle"
           },
           "mode": "lines",
           "name": "Purchased_Volume",
           "orientation": "v",
           "showlegend": true,
           "type": "scatter",
           "x": {
            "bdata": "AQIDBAUGBwgJCgsMDQ4PEBESExQVFhcYGRobHB0eHyAhIiMkJSYnKCkqKywtLi8w",
            "dtype": "i1"
           },
           "xaxis": "x",
           "y": {
            "bdata": "FK5H4XrURUAUrkfhetRFQArXo3A9ikVACtejcD2KRUC4HoXrURhFQLgehetRGEVAUrgehesRRUBSuB6F6xFFQMP1KFyPYkVAw/UoXI9iRUCuR+F6FG5FQK5H4XoUbkVApHA9CtdjRkCkcD0K12NGQNejcD0KN0hA16NwPQo3SECkcD0K1+NJQKRwPQrX40lAPQrXo3CdS0A9CtejcJ1LQArXo3A9akxACtejcD1qTEAAAAAAACBMQAAAAAAAIExAH4XrUbieTEAfhetRuJ5MQHE9CtejcExAcT0K16NwTECamZmZmRlLQJqZmZmZGUtA4XoUrkehSkDhehSuR6FKQClcj8L1yEpAKVyPwvXISkCkcD0K18NKQKRwPQrXw0pAzczMzMzMSUDNzMzMzMxJQHE9CtejkElAcT0K16OQSUDXo3A9CldJQNejcD0KV0lAKVyPwvUoSUApXI/C9ShJQB+F61G4PkhAH4XrUbg+SEA9CtejcD1HQD0K16NwPUdA",
            "dtype": "f8"
           },
           "yaxis": "y"
          },
          {
           "hovertemplate": "Type=Actual_Demand<br>Settlement_Day=Mon 25/08/2025<br>Settlement_Period=%{x}<br>Volume=%{y}<extra></extra>",
           "legendgroup": "Actual_Demand",
           "line": {
            "color": "#e34a21",
            "dash": "solid"
           },
           "marker": {
            "symbol": "circle"
           },
           "mode": "lines",
           "name": "Actual_Demand",
           "orientation": "v",
           "showlegend": true,
           "type": "scatter",
           "x": {
            "bdata": "AQIDBAUGBwgJCgsMDQ4PEBESExQVFhcYGRobHB0eHyAhIiMkJSYnKCkqKywtLi8w",
            "dtype": "i1"
           },
           "xaxis": "x",
           "y": {
            "bdata": "uB6F61G4REDXo3A9ChdFQPYoXI/CNUVArkfhehQORUAfhetRuJ5FQK5H4XoUjkRAuB6F61H4REC4HoXrUZhEQPYoXI/ClURA4XoUrkdBRUAUrkfhelRFQAAAAAAAAEVA16NwPQqXRkCF61G4HsVFQNejcD0KF0dAw/UoXI9CSECamZmZmRlJQNejcD0K10pAKVyPwvWoS0ApXI/C9ShMQIXrUbgeJUxASOF6FK4HTEAK16NwPcpMQGZmZmZmZkxACtejcD1qTkD2KFyPwvVNQGZmZmZmZk1AhetRuB5lTEDhehSuR8FLQHsUrkfhWkxAMzMzMzNzTEBcj8L1KNxMQAAAAAAA4E1AMzMzMzMTTUCkcD0K18NLQB+F61G4fktAj8L1KFxvSUBI4XoUridIQLgehetRWElAuB6F61FYSkAK16NwPapJQArXo3A9SklArkfhehQOSEAUrkfhelRHQD0K16NwfUZA16NwPQo3RkAAAAAAAIBFQDMzMzMzs0RA",
            "dtype": "f8"
           },
           "yaxis": "y"
          },
          {
           "hovertemplate": "Type=Hedged Volume<br>Settlement_Day=Mon 25/08/2025<br>Settlement_Period=%{x}<br>Volume=%{y}<extra></extra>",
           "legendgroup": "Hedged Volume",
           "line": {
            "color": "#17a398",
            "dash": "solid"
           },
           "marker": {
            "symbol": "circle"
           },
           "mode": "lines",
           "name": "Hedged Volume",
           "orientation": "v",
           "showlegend": true,
           "type": "scatter",
           "x": {
            "bdata": "AQIDBAUGBwgJCgsMDQ4PEBESExQVFhcYGRobHB0eHyAhIiMkJSYnKCkqKywtLi8w",
            "dtype": "i1"
           },
           "xaxis": "x",
           "y": {
            "bdata": "ZmZmZmYmSUBmZmZmZiZJQGZmZmZmJklAZmZmZmYmSUBmZmZmZiZJQGZmZmZmJklAZmZmZmYmSUBmZmZmZiZJQGZmZmZmJklAZmZmZmYmSUBmZmZmZiZJQGZmZmZmJklAZmZmZmYmSUBmZmZmZiZJQJqZmZmZCVRAmpmZmZkJVECamZmZmQlUQJqZmZmZCVRAmpmZmZkJVECamZmZmQlUQJqZmZmZCVRAmpmZmZkJVECamZmZmQlUQJqZmZmZCVRAmpmZmZkJVECamZmZmQlUQJqZmZmZCVRAmpmZmZkJVECamZmZmQlUQJqZmZmZCVRAmpmZmZkJVECamZmZmQlUQJqZmZmZCVRAmpmZmZkJVECamZmZmQlUQJqZmZmZCVRAmpmZmZkJVECamZmZmQlUQGZmZmZmJklAZmZmZmYmSUBmZmZmZiZJQGZmZmZmJklAZmZmZmYmSUBmZmZmZiZJQGZmZmZmJklAZmZmZmYmSUBmZmZmZiZJQGZmZmZmJklA",
            "dtype": "f8"
           },
           "yaxis": "y"
          }
         ],
         "name": "Mon 25/08/2025"
        },
        {
         "data": [
          {
           "hovertemplate": "Type=Purchased_Volume<br>Settlement_Day=Tue 26/08/2025<br>Settlement_Period=%{x}<br>Volume=%{y}<extra></extra>",
           "legendgroup": "Purchased_Volume",
           "line": {
            "color": "#00314a",
            "dash": "solid"
           },
           "marker": {
            "symbol": "circle"
           },
           "mode": "lines",
           "name": "Purchased_Volume",
           "orientation": "v",
           "showlegend": true,
           "type": "scatter",
           "x": {
            "bdata": "AQIDBAUGBwgJCgsMDQ4PEBESExQVFhcYGRobHB0eHyAhIiMkJSYnKCkqKywtLi8w",
            "dtype": "i1"
           },
           "xaxis": "x",
           "y": {
            "bdata": "PQrXo3A9R0A9CtejcD1HQHsUrkfhGkdAexSuR+EaR0CF61G4HsVGQIXrUbgexUZApHA9CtdjRkCkcD0K12NGQMP1KFyPokZAw/UoXI+iRkBmZmZmZsZHQGZmZmZmxkdAMzMzMzMTTUAzMzMzMxNNQDMzMzMzw1FAMzMzMzPDUUDsUbgehatUQOxRuB6Fq1RA9ihcj8JVVkD2KFyPwlVWQGZmZmZmFlZAZmZmZmYWVkCuR+F6FA5WQK5H4XoUDlZAXI/C9Sh8VUBcj8L1KHxVQK5H4XoU/lRArkfhehT+VEApXI/C9YhUQClcj8L1iFRAj8L1KFxvVECPwvUoXG9UQClcj8L1eFNAKVyPwvV4U0DsUbgehStRQOxRuB6FK1FA7FG4HoXrTkDsUbgehetOQD0K16Nw/U1APQrXo3D9TUCF61G4HuVMQIXrUbge5UxAj8L1KFyvS0CPwvUoXK9LQGZmZmZmBklAZmZmZmYGSUAUrkfhelRHQGZmZmZmJkdA",
            "dtype": "f8"
           },
           "yaxis": "y"
          },
          {
           "hovertemplate": "Type=Actual_Demand<br>Settlement_Day=Tue 26/08/2025<br>Settlement_Period=%{x}<br>Volume=%{y}<extra></extra>",
           "legendgroup": "Actual_Demand",
           "line": {
            "color": "#e34a21",
            "dash": "solid"
           },
           "marker": {
            "symbol": "circle"
           },
           "mode": "lines",
           "name": "Actual_Demand",
           "orientation": "v",
           "showlegend": true,
           "type": "scatter",
           "x": {
            "bdata": "AQIDBAUGBwgJCgsMDQ4PEBESExQVFhcYGRobHB0eHyAhIiMkJSYnKCkqKywtLi8w",
            "dtype": "i1"
           },
           "xaxis": "x",
           "y": {
            "bdata": "FK5H4Xp0RUA9CtejcF1FQPYoXI/C1UVApHA9CteDRUDXo3A9CtdFQArXo3A9ykVAmpmZmZm5RUAAAAAAAKBFQI/C9ShcD0ZAj8L1KFwPRkDNzMzMzKxGQMP1KFyPwkdApHA9CtcDS0CamZmZmRlNQB+F61G4DlBAzczMzMx8UUCamZmZmUlTQOF6FK5H0VRA16NwPQrXVUApXI/C9XhWQEjhehSuF1dAj8L1KFyfV0CuR+F6FF5YQFK4HoXrgVhAXI/C9Sh8WECuR+F6FK5YQK5H4XoUXlhASOF6FK53WECF61G4HjVYQIXrUbgedVdAcT0K16MAV0DD9Shcj5JWQOF6FK5H0VVApHA9CtezVEA9CtejcA1TQHE9CtejsFFACtejcD1KUEA9CtejcL1PQOF6FK5H4U5AKVyPwvVITkAUrkfhehRNQDMzMzMzk0xAzczMzMzMS0CF61G4HsVKQEjhehSuh0lA9ihcj8KVSEDNzMzMzGxHQMP1KFyPAkdA",
            "dtype": "f8"
           },
           "yaxis": "y"
          },
          {
           "hovertemplate": "Type=Hedged Volume<br>Settlement_Day=Tue 26/08/2025<br>Settlement_Period=%{x}<br>Volume=%{y}<extra></extra>",
           "legendgroup": "Hedged Volume",
           "line": {
            "color": "#17a398",
            "dash": "solid"
           },
           "marker": {
            "symbol": "circle"
           },
           "mode": "lines",
           "name": "Hedged Volume",
           "orientation": "v",
           "showlegend": true,
           "type": "scatter",
           "x": {
            "bdata": "AQIDBAUGBwgJCgsMDQ4PEBESExQVFhcYGRobHB0eHyAhIiMkJSYnKCkqKywtLi8w",
            "dtype": "i1"
           },
           "xaxis": "x",
           "y": {
            "bdata": "ZmZmZmYmSUBmZmZmZiZJQGZmZmZmJklAZmZmZmYmSUBmZmZmZiZJQGZmZmZmJklAZmZmZmYmSUBmZmZmZiZJQGZmZmZmJklAZmZmZmYmSUBmZmZmZiZJQGZmZmZmJklAZmZmZmYmSUBmZmZmZiZJQJqZmZmZCVRAmpmZmZkJVECamZmZmQlUQJqZmZmZCVRAmpmZmZkJVECamZmZmQlUQJqZmZmZCVRAmpmZmZkJVECamZmZmQlUQJqZmZmZCVRAmpmZmZkJVECamZmZmQlUQJqZmZmZCVRAmpmZmZkJVECamZmZmQlUQJqZmZmZCVRAmpmZmZkJVECamZmZmQlUQJqZmZmZCVRAmpmZmZkJVECamZmZmQlUQJqZmZmZCVRAmpmZmZkJVECamZmZmQlUQGZmZmZmJklAZmZmZmYmSUBmZmZmZiZJQGZmZmZmJklAZmZmZmYmSUBmZmZmZiZJQGZmZmZmJklAZmZmZmYmSUBmZmZmZiZJQGZmZmZmJklA",
            "dtype": "f8"
           },
           "yaxis": "y"
          }
         ],
         "name": "Tue 26/08/2025"
        },
        {
         "data": [
          {
           "hovertemplate": "Type=Purchased_Volume<br>Settlement_Day=Wed 27/08/2025<br>Settlement_Period=%{x}<br>Volume=%{y}<extra></extra>",
           "legendgroup": "Purchased_Volume",
           "line": {
            "color": "#00314a",
            "dash": "solid"
           },
           "marker": {
            "symbol": "circle"
           },
           "mode": "lines",
           "name": "Purchased_Volume",
           "orientation": "v",
           "showlegend": true,
           "type": "scatter",
           "x": {
            "bdata": "AQIDBAUGBwgJCgsMDQ4PEBESExQVFhcYGRobHB0eHyAhIiMkJSYnKCkqKywtLi8w",
            "dtype": "i1"
           },
           "xaxis": "x",
           "y": {
            "bdata": "PQrXo3A9R0A9CtejcD1HQFK4HoXrMUdACtejcD0KR0B7FK5H4RpHQBSuR+F6dEZAexSuR+F6RkDNzMzMzExGQMP1KFyPokZAKVyPwvWoRkDD9Shcj0JHQI/C9ShcT0hAFK5H4Xr0S0DsUbgehStOQK5H4XoU/lBA7FG4HoWLUkApXI/C9ehTQHE9CtejcFVAAAAAAABQVkC4HoXrUVhWQAAAAAAAAFZAPQrXo3AtVkBI4XoUridWQBSuR+F69FVAH4XrUbieVUCamZmZmVlVQDMzMzMzI1VAKVyPwvXYVEDXo3A9CpdUQHsUrkfhelRAZmZmZmaGVEB7FK5H4VpUQArXo3A92lNASOF6FK4XU0CamZmZmalRQK5H4XoUrlBA9ihcj8I1T0DhehSuR6FOQHE9CtejME5ApHA9CtfDTUAAAAAAAEBNQKRwPQrXg0xACtejcD1KTED2KFyPwhVLQOF6FK5HoUlAzczMzMxsSEAUrkfhelRHQGZmZmZmJkdA",
            "dtype": "f8"
           },
           "yaxis": "y"
          },
          {
           "hovertemplate": "Type=Actual_Demand<br>Settlement_Day=Wed 27/08/2025<br>Settlement_Period=%{x}<br>Volume=%{y}<extra></extra>",
           "legendgroup": "Actual_Demand",
           "line": {
            "color": "#e34a21",
            "dash": "solid"
           },
           "marker": {
            "symbol": "circle"
           },
           "mode": "lines",
           "name": "Actual_Demand",
           "orientation": "v",
           "showlegend": true,
           "type": "scatter",
           "x": {
            "bdata": "AQIDBAUGBwgJCgsMDQ4PEBESExQVFhcYGRobHB0eHyAhIiMkJSYnKCkqKywtLi8w",
            "dtype": "i1"
           },
           "xaxis": "x",
           "y": {
            "bdata": "CtejcD3KRkAUrkfherRGQB+F61G43kZAAAAAAACARkDD9Shcj6JGQLgehetRWEZA4XoUrkdBRkCamZmZmRlGQOxRuB6Fa0ZAzczMzMyMRkD2KFyPwvVGQLgehetROEhAMzMzMzMzS0DD9ShcjyJNQMP1KFyP4k9Aj8L1KFyvUUAzMzMzM0NTQHsUrkfhilRAKVyPwvWoVUC4HoXrUThWQPYoXI/CVVZA16NwPQrHVkBxPQrXo9BWQPYoXI/ClVZASOF6FK63VkAzMzMzM2NWQNejcD0K91VAMzMzMzPjVUC4HoXrUZhVQOxRuB6Fe1VAPQrXo3BdVUBI4XoUrodUQKRwPQrX41NApHA9CteDUkBSuB6F6xFRQI/C9Shcj1BAMzMzMzPTTkAUrkfhejROQFK4HoXr0U1ApHA9CtfDTUBxPQrXo9BMQClcj8L1SExAUrgeheuxS0CamZmZmblKQHsUrkfhWklACtejcD1qSEB7FK5H4XpHQHE9CtejEEdA",
            "dtype": "f8"
           },
           "yaxis": "y"
          },
          {
           "hovertemplate": "Type=Hedged Volume<br>Settlement_Day=Wed 27/08/2025<br>Settlement_Period=%{x}<br>Volume=%{y}<extra></extra>",
           "legendgroup": "Hedged Volume",
           "line": {
            "color": "#17a398",
            "dash": "solid"
           },
           "marker": {
            "symbol": "circle"
           },
           "mode": "lines",
           "name": "Hedged Volume",
           "orientation": "v",
           "showlegend": true,
           "type": "scatter",
           "x": {
            "bdata": "AQIDBAUGBwgJCgsMDQ4PEBESExQVFhcYGRobHB0eHyAhIiMkJSYnKCkqKywtLi8w",
            "dtype": "i1"
           },
           "xaxis": "x",
           "y": {
            "bdata": "SOF6FK4nSUBI4XoUridJQEjhehSuJ0lASOF6FK4nSUBI4XoUridJQEjhehSuJ0lASOF6FK4nSUBI4XoUridJQEjhehSuJ0lASOF6FK4nSUBI4XoUridJQEjhehSuJ0lASOF6FK4nSUBI4XoUridJQArXo3A9ClRACtejcD0KVEAK16NwPQpUQArXo3A9ClRACtejcD0KVEAK16NwPQpUQArXo3A9ClRACtejcD0KVEAK16NwPQpUQArXo3A9ClRACtejcD0KVEAK16NwPQpUQArXo3A9ClRACtejcD0KVEAK16NwPQpUQArXo3A9ClRACtejcD0KVEAK16NwPQpUQArXo3A9ClRACtejcD0KVEAK16NwPQpUQArXo3A9ClRACtejcD0KVEAK16NwPQpUQEjhehSuJ0lASOF6FK4nSUBI4XoUridJQEjhehSuJ0lASOF6FK4nSUBI4XoUridJQEjhehSuJ0lASOF6FK4nSUBI4XoUridJQEjhehSuJ0lA",
            "dtype": "f8"
           },
           "yaxis": "y"
          }
         ],
         "name": "Wed 27/08/2025"
        },
        {
         "data": [
          {
           "hovertemplate": "Type=Purchased_Volume<br>Settlement_Day=Thu 28/08/2025<br>Settlement_Period=%{x}<br>Volume=%{y}<extra></extra>",
           "legendgroup": "Purchased_Volume",
           "line": {
            "color": "#00314a",
            "dash": "solid"
           },
           "marker": {
            "symbol": "circle"
           },
           "mode": "lines",
           "name": "Purchased_Volume",
           "orientation": "v",
           "showlegend": true,
           "type": "scatter",
           "x": {
            "bdata": "AQIDBAUGBwgJCgsMDQ4PEBESExQVFhcYGRobHB0eHyAhIiMkJSYnKCkqKywtLi8w",
            "dtype": "i1"
           },
           "xaxis": "x",
           "y": {
            "bdata": "PQrXo3A9R0A9CtejcD1HQFK4HoXrMUdACtejcD0KR0B7FK5H4RpHQBSuR+F6dEZAexSuR+F6RkDNzMzMzExGQMP1KFyPokZAKVyPwvWoRkDD9Shcj0JHQI/C9ShcT0hAFK5H4Xr0S0DsUbgehStOQK5H4XoU/lBA7FG4HoWLUkApXI/C9ehTQHE9CtejcFVAAAAAAABQVkC4HoXrUVhWQAAAAAAAAFZAPQrXo3AtVkBI4XoUridWQBSuR+F69FVAH4XrUbieVUCamZmZmVlVQDMzMzMzI1VAKVyPwvXYVEDXo3A9CpdUQHsUrkfhelRAZmZmZmaGVEB7FK5H4VpUQArXo3A92lNASOF6FK4XU0CamZmZmalRQK5H4XoUrlBA9ihcj8I1T0DhehSuR6FOQHE9CtejME5ApHA9CtfDTUAAAAAAAEBNQKRwPQrXg0xACtejcD1KTED2KFyPwhVLQOF6FK5HoUlAzczMzMxsSECF61G4HiVGQHE9CtejMEZA",
            "dtype": "f8"
           },
           "yaxis": "y"
          },
          {
           "hovertemplate": "Type=Actual_Demand<br>Settlement_Day=Thu 28/08/2025<br>Settlement_Period=%{x}<br>Volume=%{y}<extra></extra>",
           "legendgroup": "Actual_Demand",
           "line": {
            "color": "#e34a21",
            "dash": "solid"
           },
           "marker": {
            "symbol": "circle"
           },
           "mode": "lines",
           "name": "Actual_Demand",
           "orientation": "v",
           "showlegend": true,
           "type": "scatter",
           "x": {
            "bdata": "AQIDBAUGBwgJCgsMDQ4PEBESExQVFhcYGRobHB0eHyAhIiMkJSYnKCkqKywtLi8w",
            "dtype": "i1"
           },
           "xaxis": "x",
           "y": {
            "bdata": "ZmZmZmbmRkApXI/C9ahGQClcj8L1yEZAzczMzMxMRkDD9Shcj8JGQI/C9Shcj0ZApHA9CtdjRkB7FK5H4TpGQDMzMzMzc0ZAFK5H4XqURkCkcD0K10NHQPYoXI/CdUhAAAAAAADgS0BSuB6F6xFOQD0K16NwvVBAzczMzMwsUkDhehSuRwFUQHsUrkfhulVAuB6F61GYVkA9CtejcF1XQGZmZmZmZldAuB6F61H4V0Bcj8L1KExYQNejcD0KB1hAAAAAAAAAWEAAAAAAAPBXQArXo3A9yldAZmZmZmZWV0DNzMzMzExXQM3MzMzM/FZAKVyPwvWIVkAzMzMzMyNWQFyPwvUo/FRA4XoUrkehU0CPwvUoXI9SQIXrUbgeVVFAj8L1KFwfUEAzMzMzM5NPQAAAAAAAwE5AmpmZmZn5TUAfhetRuF5NQI/C9Shcz0xAexSuR+H6S0B7FK5H4dpKQK5H4XoUbklA16NwPQqXSEAK16NwPYpHQPYoXI/C1UZA",
            "dtype": "f8"
           },
           "yaxis": "y"
          },
          {
           "hovertemplate": "Type=Hedged Volume<br>Settlement_Day=Thu 28/08/2025<br>Settlement_Period=%{x}<br>Volume=%{y}<extra></extra>",
           "legendgroup": "Hedged Volume",
           "line": {
            "color": "#17a398",
            "dash": "solid"
           },
           "marker": {
            "symbol": "circle"
           },
           "mode": "lines",
           "name": "Hedged Volume",
           "orientation": "v",
           "showlegend": true,
           "type": "scatter",
           "x": {
            "bdata": "AQIDBAUGBwgJCgsMDQ4PEBESExQVFhcYGRobHB0eHyAhIiMkJSYnKCkqKywtLi8w",
            "dtype": "i1"
           },
           "xaxis": "x",
           "y": {
            "bdata": "cT0K16MQSUBxPQrXoxBJQHE9CtejEElAcT0K16MQSUBxPQrXoxBJQHE9CtejEElAcT0K16MQSUBxPQrXoxBJQHE9CtejEElAcT0K16MQSUBxPQrXoxBJQHE9CtejEElAcT0K16MQSUBxPQrXoxBJQArXo3A9ClRACtejcD0KVEAK16NwPQpUQArXo3A9ClRACtejcD0KVEAK16NwPQpUQArXo3A9ClRACtejcD0KVEAK16NwPQpUQArXo3A9ClRACtejcD0KVEAK16NwPQpUQArXo3A9ClRACtejcD0KVEAK16NwPQpUQArXo3A9ClRACtejcD0KVEAK16NwPQpUQArXo3A9ClRACtejcD0KVEAK16NwPQpUQArXo3A9ClRACtejcD0KVEAK16NwPQpUQHE9CtejEElAcT0K16MQSUBxPQrXoxBJQHE9CtejEElAcT0K16MQSUBxPQrXoxBJQHE9CtejEElAcT0K16MQSUBxPQrXoxBJQHE9CtejEElA",
            "dtype": "f8"
           },
           "yaxis": "y"
          }
         ],
         "name": "Thu 28/08/2025"
        },
        {
         "data": [
          {
           "hovertemplate": "Type=Purchased_Volume<br>Settlement_Day=Fri 29/08/2025<br>Settlement_Period=%{x}<br>Volume=%{y}<extra></extra>",
           "legendgroup": "Purchased_Volume",
           "line": {
            "color": "#00314a",
            "dash": "solid"
           },
           "marker": {
            "symbol": "circle"
           },
           "mode": "lines",
           "name": "Purchased_Volume",
           "orientation": "v",
           "showlegend": true,
           "type": "scatter",
           "x": {
            "bdata": "AQIDBAUGBwgJCgsMDQ4PEBESExQVFhcYGRobHB0eHyAhIiMkJSYnKCkqKywtLi8w",
            "dtype": "i1"
           },
           "xaxis": "x",
           "y": {
            "bdata": "4XoUrkdBRkApXI/C9ahGQM3MzMzM7EZAuB6F61FYRkD2KFyPwjVGQGZmZmZm5kVA7FG4HoXrRUB7FK5H4dpFQK5H4XoUDkZApHA9CtdjRkBxPQrXo9BGQHsUrkfhukdApHA9CtcDS0DhehSuRwFNQOxRuB6FO1BA7FG4HoV7UUDhehSuRzFTQIXrUbgedVRACtejcD2KVUCF61G4HrVVQEjhehSu11VApHA9CtdzVUDXo3A9CrdUQB+F61G4jlRAMzMzMzMzVECamZmZmRlUQFK4HoXr0VNAw/UoXI9CU0B7FK5H4cpSQM3MzMzMTFJAuB6F61HoUUCuR+F6FE5RQAAAAAAA0FBAXI/C9ShsUEAfhetRuF5PQDMzMzMz001Aj8L1KFwPTEAfhetRuL5LQOxRuB6Fa0tAzczMzMwsS0CF61G4HsVKQHE9CtejMEpApHA9CtfDSUApXI/C9ShJQHE9CtejEEhAFK5H4XoUR0C4HoXrUVhGQOxRuB6F60VA",
            "dtype": "f8"
           },
           "yaxis": "y"
          },
          {
           "hovertemplate": "Type=Actual_Demand<br>Settlement_Day=Fri 29/08/2025<br>Settlement_Period=%{x}<br>Volume=%{y}<extra></extra>",
           "legendgroup": "Actual_Demand",
           "line": {
            "color": "#e34a21",
            "dash": "solid"
           },
           "marker": {
            "symbol": "circle"
           },
           "mode": "lines",
           "name": "Actual_Demand",
           "orientation": "v",
           "showlegend": true,
           "type": "scatter",
           "x": {
            "bdata": "AQIDBAUGBwgJCgsMDQ4PEBESExQVFhcYGRobHB0eHyAhIiMkJSYnKCkqKywtLi8w",
            "dtype": "i1"
           },
           "xaxis": "x",
           "y": {
            "bdata": "exSuR+HaRkApXI/C9YhGQAAAAAAAwEZA9ihcj8I1RkAAAAAAAEBGQB+F61G43kVAhetRuB4FRkA9CtejcL1FQHE9Ctej8EVASOF6FK5HRkCamZmZmblGQM3MzMzMjEdA9ihcj8L1SkAAAAAAAABNQD0K16NwnU9A9ihcj8KlUUAzMzMzM2NTQBSuR+F6xFRAUrgehevRVUCuR+F6FN5VQClcj8L1qFZAmpmZmZkJV0BmZmZmZpZWQJqZmZmZWVZAhetRuB4VVkBcj8L1KAxWQM3MzMzMvFVAXI/C9SgcVUAK16NwPepUQKRwPQrXk1RACtejcD36U0DhehSuRzFTQFyPwvUoPFJAcT0K16OgUUAK16NwPbpQQK5H4XoUDlBA9ihcj8L1TUDsUbgehStNQEjhehSuh0xAcT0K16MwTECF61G4HmVLQClcj8L16EpAj8L1KFwvSkAfhetRuN5JQDMzMzMzk0hA4XoUrkehR0C4HoXrUbhGQArXo3A9KkZA",
            "dtype": "f8"
           },
           "yaxis": "y"
          },
          {
           "hovertemplate": "Type=Hedged Volume<br>Settlement_Day=Fri 29/08/2025<br>Settlement_Period=%{x}<br>Volume=%{y}<extra></extra>",
           "legendgroup": "Hedged Volume",
           "line": {
            "color": "#17a398",
            "dash": "solid"
           },
           "marker": {
            "symbol": "circle"
           },
           "mode": "lines",
           "name": "Hedged Volume",
           "orientation": "v",
           "showlegend": true,
           "type": "scatter",
           "x": {
            "bdata": "AQIDBAUGBwgJCgsMDQ4PEBESExQVFhcYGRobHB0eHyAhIiMkJSYnKCkqKywtLi8w",
            "dtype": "i1"
           },
           "xaxis": "x",
           "y": {
            "bdata": "FK5H4Xr0R0AUrkfhevRHQBSuR+F69EdAFK5H4Xr0R0AUrkfhevRHQBSuR+F69EdAFK5H4Xr0R0AUrkfhevRHQBSuR+F69EdAFK5H4Xr0R0AUrkfhevRHQBSuR+F69EdAFK5H4Xr0R0AUrkfhevRHQGZmZmZmhlJAZmZmZmaGUkBmZmZmZoZSQGZmZmZmhlJAZmZmZmaGUkBmZmZmZoZSQGZmZmZmhlJAZmZmZmaGUkBmZmZmZoZSQGZmZmZmhlJAZmZmZmaGUkBmZmZmZoZSQGZmZmZmhlJAZmZmZmaGUkBmZmZmZoZSQGZmZmZmhlJAZmZmZmaGUkBmZmZmZoZSQGZmZmZmhlJAZmZmZmaGUkBmZmZmZoZSQGZmZmZmhlJAZmZmZmaGUkBmZmZmZoZSQBSuR+F69EdAFK5H4Xr0R0AUrkfhevRHQBSuR+F69EdAFK5H4Xr0R0AUrkfhevRHQBSuR+F69EdAFK5H4Xr0R0AUrkfhevRHQBSuR+F69EdA",
            "dtype": "f8"
           },
           "yaxis": "y"
          }
         ],
         "name": "Fri 29/08/2025"
        },
        {
         "data": [
          {
           "hovertemplate": "Type=Purchased_Volume<br>Settlement_Day=Sat 30/08/2025<br>Settlement_Period=%{x}<br>Volume=%{y}<extra></extra>",
           "legendgroup": "Purchased_Volume",
           "line": {
            "color": "#00314a",
            "dash": "solid"
           },
           "marker": {
            "symbol": "circle"
           },
           "mode": "lines",
           "name": "Purchased_Volume",
           "orientation": "v",
           "showlegend": true,
           "type": "scatter",
           "x": {
            "bdata": "AQIDBAUGBwgJCgsMDQ4PEBESExQVFhcYGRobHB0eHyAhIiMkJSYnKCkqKywtLi8w",
            "dtype": "i1"
           },
           "xaxis": "x",
           "y": {
            "bdata": "PQrXo3BdRkB7FK5H4XpGQMP1KFyPokZACtejcD0qRkBcj8L1KPxFQBSuR+F61EVAexSuR+GaRUBcj8L1KFxFQEjhehSuZ0VAw/UoXI9iRUAzMzMzM3NFQB+F61G4fkVAUrgehetRRkAAAAAAACBHQEjhehSuJ0hAj8L1KFyPSEAK16NwPYpJQHsUrkfh+ktAw/UoXI/CTECuR+F6FM5MQD0K16NwvUxA7FG4HoVLTUBcj8L1KPxMQOF6FK5HYUxArkfhehSOS0A9CtejcD1LQK5H4XoUrkpAXI/C9Sg8SkCuR+F6FG5JQBSuR+F6NElAAAAAAABASUDNzMzMzKxJQHE9CtejkElA9ihcj8KVSUAfhetRuH5JQD0K16NwHUlA9ihcj8JVSEB7FK5H4VpIQClcj8L1iEhA16NwPQq3SEDD9ShcjyJIQPYoXI/CVUhApHA9CtdDSEDhehSuR8FHQGZmZmZmJkdAj8L1KFxvRkCF61G4HqVFQIXrUbgepUVA",
            "dtype": "f8"
           },
           "yaxis": "y"
          },
          {
           "hovertemplate": "Type=Actual_Demand<br>Settlement_Day=Sat 30/08/2025<br>Settlement_Period=%{x}<br>Volume=%{y}<extra></extra>",
           "legendgroup": "Actual_Demand",
           "line": {
            "color": "#e34a21",
            "dash": "solid"
           },
           "marker": {
            "symbol": "circle"
           },
           "mode": "lines",
           "name": "Actual_Demand",
           "orientation": "v",
           "showlegend": true,
           "type": "scatter",
           "x": {
            "bdata": "AQIDBAUGBwgJCgsMDQ4PEBESExQVFhcYGRobHB0eHyAhIiMkJSYnKCkqKywtLi8w",
            "dtype": "i1"
           },
           "xaxis": "x",
           "y": {
            "bdata": "CtejcD3qRUBI4XoUrqdFQEjhehSup0VAw/UoXI8iRUDXo3A9CjdFQHE9Ctej8ERASOF6FK7nREBmZmZmZoZEQFK4HoXrcURA16NwPQqXREAUrkfhepREQIXrUbge5URAhetRuB7FRUDsUbgehWtGQDMzMzMzk0dA16NwPQr3R0C4HoXrUZhJQClcj8L1iEtAAAAAAAAgTUAfhetRuP5MQOF6FK5HAU1AH4XrUbg+TUDsUbgehctNQJqZmZmZ+U1A4XoUrkeBTUAAAAAAAIBNQIXrUbge5UxAAAAAAACATEDXo3A9ChdMQBSuR+F6NExAexSuR+E6TEAUrkfhelRMQAAAAAAAIExAexSuR+H6S0DsUbgehUtLQB+F61G4nkpA4XoUrkdhSUB7FK5H4TpJQI/C9ShcD0lAPQrXo3D9SECkcD0K14NIQJqZmZmZOUhAKVyPwvXIR0BxPQrXo5BHQOxRuB6FK0dAXI/C9Sh8RkBxPQrXoxBGQDMzMzMzk0VA",
            "dtype": "f8"
           },
           "yaxis": "y"
          },
          {
           "hovertemplate": "Type=Hedged Volume<br>Settlement_Day=Sat 30/08/2025<br>Settlement_Period=%{x}<br>Volume=%{y}<extra></extra>",
           "legendgroup": "Hedged Volume",
           "line": {
            "color": "#17a398",
            "dash": "solid"
           },
           "marker": {
            "symbol": "circle"
           },
           "mode": "lines",
           "name": "Hedged Volume",
           "orientation": "v",
           "showlegend": true,
           "type": "scatter",
           "x": {
            "bdata": "AQIDBAUGBwgJCgsMDQ4PEBESExQVFhcYGRobHB0eHyAhIiMkJSYnKCkqKywtLi8w",
            "dtype": "i1"
           },
           "xaxis": "x",
           "y": {
            "bdata": "ZmZmZmaGSEBmZmZmZoZIQGZmZmZmhkhAZmZmZmaGSEBmZmZmZoZIQGZmZmZmhkhAZmZmZmaGSEBmZmZmZoZIQGZmZmZmhkhAZmZmZmaGSEBmZmZmZoZIQGZmZmZmhkhAZmZmZmaGSEBmZmZmZoZIQGZmZmZmhkhAZmZmZmaGSEBmZmZmZoZIQGZmZmZmhkhAZmZmZmaGSEBmZmZmZoZIQGZmZmZmhkhAZmZmZmaGSEBmZmZmZoZIQGZmZmZmhkhAZmZmZmaGSEBmZmZmZoZIQGZmZmZmhkhAZmZmZmaGSEBmZmZmZoZIQGZmZmZmhkhAZmZmZmaGSEBmZmZmZoZIQGZmZmZmhkhAZmZmZmaGSEBmZmZmZoZIQGZmZmZmhkhAZmZmZmaGSEBmZmZmZoZIQGZmZmZmhkhAZmZmZmaGSEBmZmZmZoZIQGZmZmZmhkhAZmZmZmaGSEBmZmZmZoZIQGZmZmZmhkhAZmZmZmaGSEBmZmZmZoZIQGZmZmZmhkhA",
            "dtype": "f8"
           },
           "yaxis": "y"
          }
         ],
         "name": "Sat 30/08/2025"
        },
        {
         "data": [
          {
           "hovertemplate": "Type=Purchased_Volume<br>Settlement_Day=Sun 31/08/2025<br>Settlement_Period=%{x}<br>Volume=%{y}<extra></extra>",
           "legendgroup": "Purchased_Volume",
           "line": {
            "color": "#00314a",
            "dash": "solid"
           },
           "marker": {
            "symbol": "circle"
           },
           "mode": "lines",
           "name": "Purchased_Volume",
           "orientation": "v",
           "showlegend": true,
           "type": "scatter",
           "x": {
            "bdata": "AQIDBAUGBwgJCgsMDQ4PEBESExQVFhcYGRobHB0eHyAhIiMkJSYnKCkqKywtLi8w",
            "dtype": "i1"
           },
           "xaxis": "x",
           "y": {
            "bdata": "KVyPwvXoREApXI/C9ehEQArXo3A9qkRACtejcD2qREDXo3A9CjdEQNejcD0KN0RAcT0K16PQQ0BxPQrXo9BDQFyPwvUo3ENAXI/C9SjcQ0BxPQrXo9BDQHE9Ctej0ENAPQrXo3A9REA9CtejcD1EQFK4HoXr0URAUrgehevRRECuR+F6FM5FQK5H4XoUzkVAPQrXo3CdR0A9CtejcJ1HQBSuR+F6VEhAFK5H4XpUSECPwvUoXO9IQI/C9Shc70hAmpmZmZmZSECamZmZmZlIQM3MzMzMLEhAzczMzMwsSEDNzMzMzOxHQM3MzMzM7EdAZmZmZmYmSEBmZmZmZiZIQFK4HoXrkUdAUrgeheuRR0C4HoXrUVhHQLgehetRWEdA9ihcj8KVRkD2KFyPwpVGQOF6FK5HQUdA4XoUrkdBR0CF61G4HiVHQIXrUbgeJUdAAAAAAADgRkAAAAAAAOBGQGZmZmZmBkZAZmZmZmYGRkD2KFyPwlVFQPYoXI/CVUVA",
            "dtype": "f8"
           },
           "yaxis": "y"
          },
          {
           "hovertemplate": "Type=Actual_Demand<br>Settlement_Day=Sun 31/08/2025<br>Settlement_Period=%{x}<br>Volume=%{y}<extra></extra>",
           "legendgroup": "Actual_Demand",
           "line": {
            "color": "#e34a21",
            "dash": "solid"
           },
           "marker": {
            "symbol": "circle"
           },
           "mode": "lines",
           "name": "Actual_Demand",
           "orientation": "v",
           "showlegend": true,
           "type": "scatter",
           "x": {
            "bdata": "AQIDBAUGBwgJCgsMDQ4PEBESExQVFhcYGRobHB0eHyAhIiMkJSYnKCkqKywtLi8w",
            "dtype": "i1"
           },
           "xaxis": "x",
           "y": {
            "bdata": "CtejcD3KRUAzMzMzM3NFQArXo3A9SkVASOF6FK6HRECkcD0K16NEQPYoXI/CNURA4XoUrkchRECF61G4HgVEQFyPwvUo/ENAKVyPwvXoQ0BxPQrXo/BDQB+F61G4/kNAH4XrUbheREC4HoXrUZhEQAAAAAAAIEVAexSuR+F6RUC4HoXrUfhFQClcj8L1CEdAj8L1KFxvSEAfhetRuL5IQGZmZmZmhklA9ihcj8L1SUApXI/C9YhKQBSuR+F6lEpASOF6FK7nSkCuR+F6FG5KQB+F61G4PkpAuB6F61F4SkBSuB6F61FKQBSuR+F6FEpAuB6F61E4SkDhehSuR0FKQOF6FK5H4UlAj8L1KFyvSUAfhetRuJ5JQEjhehSuZ0lAUrgehevRSECamZmZmZlIQEjhehSup0hAcT0K16NwSEBSuB6F6xFIQPYoXI/CtUdAMzMzMzOzR0Bcj8L1KLxHQJqZmZmZWUdAAAAAAACgRkAAAAAAACBGQOxRuB6F60VA",
            "dtype": "f8"
           },
           "yaxis": "y"
          },
          {
           "hovertemplate": "Type=Hedged Volume<br>Settlement_Day=Sun 31/08/2025<br>Settlement_Period=%{x}<br>Volume=%{y}<extra></extra>",
           "legendgroup": "Hedged Volume",
           "line": {
            "color": "#17a398",
            "dash": "solid"
           },
           "marker": {
            "symbol": "circle"
           },
           "mode": "lines",
           "name": "Hedged Volume",
           "orientation": "v",
           "showlegend": true,
           "type": "scatter",
           "x": {
            "bdata": "AQIDBAUGBwgJCgsMDQ4PEBESExQVFhcYGRobHB0eHyAhIiMkJSYnKCkqKywtLi8w",
            "dtype": "i1"
           },
           "xaxis": "x",
           "y": {
            "bdata": "9ihcj8JVRkD2KFyPwlVGQPYoXI/CVUZA9ihcj8JVRkD2KFyPwlVGQPYoXI/CVUZA9ihcj8JVRkD2KFyPwlVGQPYoXI/CVUZA9ihcj8JVRkD2KFyPwlVGQPYoXI/CVUZA9ihcj8JVRkD2KFyPwlVGQPYoXI/CVUZA9ihcj8JVRkD2KFyPwlVGQPYoXI/CVUZA9ihcj8JVRkD2KFyPwlVGQPYoXI/CVUZA9ihcj8JVRkD2KFyPwlVGQPYoXI/CVUZA9ihcj8JVRkD2KFyPwlVGQPYoXI/CVUZA9ihcj8JVRkD2KFyPwlVGQPYoXI/CVUZA9ihcj8JVRkD2KFyPwlVGQPYoXI/CVUZA9ihcj8JVRkD2KFyPwlVGQPYoXI/CVUZA9ihcj8JVRkD2KFyPwlVGQPYoXI/CVUZA9ihcj8JVRkD2KFyPwlVGQPYoXI/CVUZA9ihcj8JVRkD2KFyPwlVGQPYoXI/CVUZA9ihcj8JVRkD2KFyPwlVGQPYoXI/CVUZA",
            "dtype": "f8"
           },
           "yaxis": "y"
          }
         ],
         "name": "Sun 31/08/2025"
        },
        {
         "data": [
          {
           "hovertemplate": "Type=Purchased_Volume<br>Settlement_Day=Mon 01/09/2025<br>Settlement_Period=%{x}<br>Volume=%{y}<extra></extra>",
           "legendgroup": "Purchased_Volume",
           "line": {
            "color": "#00314a",
            "dash": "solid"
           },
           "marker": {
            "symbol": "circle"
           },
           "mode": "lines",
           "name": "Purchased_Volume",
           "orientation": "v",
           "showlegend": true,
           "type": "scatter",
           "x": {
            "bdata": "AQIDBAUGBwgJCgsMDQ4PEBESExQVFhcYGRobHB0eHyAhIiMkJSYnKCkqKywtLi8w",
            "dtype": "i1"
           },
           "xaxis": "x",
           "y": {
            "bdata": "hetRuB6FRkCF61G4HoVGQJqZmZmZeUZAmpmZmZl5RkBxPQrXo1BGQHE9CtejUEZA4XoUrkcBRkDhehSuRwFGQOxRuB6FS0ZA7FG4HoVLRkA9CtejcJ1HQD0K16NwnUdA7FG4HoULTUDsUbgehQtNQOF6FK5H0VFA4XoUrkfRUUCuR+F6FC5VQK5H4XoULlVA4XoUrkfhVkDhehSuR+FWQBSuR+F6xFZAFK5H4XrEVkD2KFyPwoVWQPYoXI/ChVZASOF6FK4HVkBI4XoUrgdWQJqZmZmZqVVAmpmZmZmpVUCamZmZmTlVQJqZmZmZOVVAKVyPwvW4VEApXI/C9bhUQI/C9Shcj1NAj8L1KFyPU0AAAAAAAHBRQAAAAAAAcFFA9ihcj8L1TkD2KFyPwvVOQClcj8L1yE1AKVyPwvXITUDhehSuR8FMQOF6FK5HwUxAuB6F61FYS0C4HoXrUVhLQClcj8L16EhAKVyPwvXoSEBSuB6F65FHQOF6FK5HQUdA",
            "dtype": "f8"
           },
           "yaxis": "y"
          },
          {
           "hovertemplate": "Type=Actual_Demand<br>Settlement_Day=Mon 01/09/2025<br>Settlement_Period=%{x}<br>Volume=%{y}<extra></extra>",
           "legendgroup": "Actual_Demand",
           "line": {
            "color": "#e34a21",
            "dash": "solid"
           },
           "marker": {
            "symbol": "circle"
           },
           "mode": "lines",
           "name": "Actual_Demand",
           "orientation": "v",
           "showlegend": true,
           "type": "scatter",
           "x": {
            "bdata": "AQIDBAUGBwgJCgsMDQ4PEBESExQVFhcYGRobHB0eHyAhIiMkJSYnKCkqKywtLi8w",
            "dtype": "i1"
           },
           "xaxis": "x",
           "y": {
            "bdata": "16NwPQrXRUCamZmZmblFQNejcD0Kt0VA4XoUrkdBRUBcj8L1KJxFQFyPwvUonEVAAAAAAACgRUBI4XoUrodFQJqZmZmZuUVAUrgehevRRUCkcD0K16NGQGZmZmZm5kdAXI/C9Sh8S0DhehSuR8FNQJqZmZmZmVBArkfhehQeUkDNzMzMzBxUQAAAAAAAgFVAH4XrUbiOVkApXI/C9fhWQB+F61G4/lZAw/UoXI9CV0CF61G4HgVXQHsUrkfhqlZApHA9CtdzVkDXo3A9CpdWQAAAAAAAQFZAUrgeheuxVUDNzMzMzHxVQPYoXI/ChVVAzczMzMzsVEA9CtejcN1UQEjhehSux1NAzczMzMzcUkC4HoXrUehRQM3MzMzM/FBApHA9CtfjT0CuR+F6FC5PQAAAAAAAQE5ArkfhehTOTUBcj8L1KDxNQAAAAAAAAE1AzczMzMxMTECkcD0K10NLQFK4HoXr8UlAcT0K16OwSEBmZmZmZsZHQEjhehSuZ0dA",
            "dtype": "f8"
           },
           "yaxis": "y"
          },
          {
           "hovertemplate": "Type=Hedged Volume<br>Settlement_Day=Mon 01/09/2025<br>Settlement_Period=%{x}<br>Volume=%{y}<extra></extra>",
           "legendgroup": "Hedged Volume",
           "line": {
            "color": "#17a398",
            "dash": "solid"
           },
           "marker": {
            "symbol": "circle"
           },
           "mode": "lines",
           "name": "Hedged Volume",
           "orientation": "v",
           "showlegend": true,
           "type": "scatter",
           "x": {
            "bdata": "AQIDBAUGBwgJCgsMDQ4PEBESExQVFhcYGRobHB0eHyAhIiMkJSYnKCkqKywtLi8w",
            "dtype": "i1"
           },
           "xaxis": "x",
           "y": {
            "bdata": "AAAAAADgSEAAAAAAAOBIQAAAAAAA4EhAAAAAAADgSEAAAAAAAOBIQAAAAAAA4EhAAAAAAADgSEAAAAAAAOBIQAAAAAAA4EhAAAAAAADgSEAAAAAAAOBIQAAAAAAA4EhAAAAAAADgSEAAAAAAAOBIQHE9CtejcFRAcT0K16NwVEBxPQrXo3BUQHE9CtejcFRAcT0K16NwVEBxPQrXo3BUQHE9CtejcFRAcT0K16NwVEBxPQrXo3BUQHE9CtejcFRAcT0K16NwVEBxPQrXo3BUQHE9CtejcFRAcT0K16NwVEBxPQrXo3BUQHE9CtejcFRAcT0K16NwVEBxPQrXo3BUQHE9CtejcFRAcT0K16NwVEBxPQrXo3BUQHE9CtejcFRAcT0K16NwVEBxPQrXo3BUQAAAAAAA4EhAAAAAAADgSEAAAAAAAOBIQAAAAAAA4EhAAAAAAADgSEAAAAAAAOBIQAAAAAAA4EhAAAAAAADgSEAAAAAAAOBIQAAAAAAA4EhA",
            "dtype": "f8"
           },
           "yaxis": "y"
          }
         ],
         "name": "Mon 01/09/2025"
        },
        {
         "data": [
          {
           "hovertemplate": "Type=Purchased_Volume<br>Settlement_Day=Tue 02/09/2025<br>Settlement_Period=%{x}<br>Volume=%{y}<extra></extra>",
           "legendgroup": "Purchased_Volume",
           "line": {
            "color": "#00314a",
            "dash": "solid"
           },
           "marker": {
            "symbol": "circle"
           },
           "mode": "lines",
           "name": "Purchased_Volume",
           "orientation": "v",
           "showlegend": true,
           "type": "scatter",
           "x": {
            "bdata": "AQIDBAUGBwgJCgsMDQ4PEBESExQVFhcYGRobHB0eHyAhIiMkJSYnKCkqKywtLi8w",
            "dtype": "i1"
           },
           "xaxis": "x",
           "y": {
            "bdata": "rkfhehRuRkD2KFyPwpVGQEjhehSup0ZAZmZmZmZGRkDD9Shcj2JGQBSuR+F6NEZAUrgehesRRkAK16NwPepFQHsUrkfhOkZAXI/C9ShcRkA9CtejcP1GQFK4HoXrMUhAXI/C9SjcS0CPwvUoXC9OQB+F61G4DlFAcT0K16OQUkDXo3A9CndUQI/C9Shc31VAUrgehevBVkB7FK5H4fpWQFyPwvUovFZASOF6FK7HVkCamZmZmZlWQFyPwvUobFZAUrgehesBVkCF61G4HgVWQAAAAAAAwFVAzczMzMyMVUC4HoXrUUhVQLgehetRKFVA9ihcj8LVVEBmZmZmZpZUQLgehetR6FNApHA9CtczU0DD9ShcjxJSQJqZmZmZyVBAexSuR+E6T0DsUbgehatOQHE9Ctej8E1Aj8L1KFyPTUAUrkfhevRMQFyPwvUofExAMzMzMzPzS0C4HoXrUbhKQD0K16NwfUlAFK5H4XpUSEApXI/C9chGQHsUrkfh2kZA",
            "dtype": "f8"
           },
           "yaxis": "y"
          },
          {
           "hovertemplate": "Type=Actual_Demand<br>Settlement_Day=Tue 02/09/2025<br>Settlement_Period=%{x}<br>Volume=%{y}<extra></extra>",
           "legendgroup": "Actual_Demand",
           "line": {
            "color": "#e34a21",
            "dash": "solid"
           },
           "marker": {
            "symbol": "circle"
           },
           "mode": "lines",
           "name": "Actual_Demand",
           "orientation": "v",
           "showlegend": true,
           "type": "scatter",
           "x": {
            "bdata": "AQIDBAUGBwgJCgsMDQ4PEBESExQVFhcYGRobHB0eHyAhIiMkJSYnKCkqKywtLi8w",
            "dtype": "i1"
           },
           "xaxis": "x",
           "y": {
            "bdata": "4XoUrkeBR0DD9Shcj2JHQPYoXI/CdUdA7FG4HoXrRkCuR+F6FE5HQHsUrkfhOkdAXI/C9Sg8R0D2KFyPwvVGQMP1KFyPIkdAKVyPwvVIR0DXo3A9CrdHQD0K16NwHUlAH4XrUbjeTEAUrkfherRPQKRwPQrX01FAUrgeheuxU0DD9Shcj9JVQAAAAAAAUFdAZmZmZmZGWEA9CtejcI1YQPYoXI/CtVhArkfhehTuWEBSuB6F60FZQArXo3A9ulhA9ihcj8JlWEBcj8L1KCxYQI/C9Shcv1dAZmZmZmaWV0BSuB6F63FXQB+F61G4zlZAmpmZmZlpVkDsUbgehTtWQNejcD0Kl1VACtejcD1qVED2KFyPwgVTQJqZmZmZ6VFA4XoUrkfBUEDNzMzMzFxQQOxRuB6Fi09AUrgehesRT0AzMzMzMzNOQJqZmZmZeU1Aw/UoXI+iTECamZmZmZlLQI/C9ShcT0pAKVyPwvUoSUCkcD0K1wNIQM3MzMzMjEdA",
            "dtype": "f8"
           },
           "yaxis": "y"
          },
          {
           "hovertemplate": "Type=Hedged Volume<br>Settlement_Day=Tue 02/09/2025<br>Settlement_Period=%{x}<br>Volume=%{y}<extra></extra>",
           "legendgroup": "Hedged Volume",
           "line": {
            "color": "#17a398",
            "dash": "solid"
           },
           "marker": {
            "symbol": "circle"
           },
           "mode": "lines",
           "name": "Hedged Volume",
           "orientation": "v",
           "showlegend": true,
           "type": "scatter",
           "x": {
            "bdata": "AQIDBAUGBwgJCgsMDQ4PEBESExQVFhcYGRobHB0eHyAhIiMkJSYnKCkqKywtLi8w",
            "dtype": "i1"
           },
           "xaxis": "x",
           "y": {
            "bdata": "j8L1KFzPSECPwvUoXM9IQI/C9Shcz0hAj8L1KFzPSECPwvUoXM9IQI/C9Shcz0hAj8L1KFzPSECPwvUoXM9IQI/C9Shcz0hAj8L1KFzPSECPwvUoXM9IQI/C9Shcz0hAj8L1KFzPSECPwvUoXM9IQK5H4XoUblRArkfhehRuVECuR+F6FG5UQK5H4XoUblRArkfhehRuVECuR+F6FG5UQK5H4XoUblRArkfhehRuVECuR+F6FG5UQK5H4XoUblRArkfhehRuVECuR+F6FG5UQK5H4XoUblRArkfhehRuVECuR+F6FG5UQK5H4XoUblRArkfhehRuVECuR+F6FG5UQK5H4XoUblRArkfhehRuVECuR+F6FG5UQK5H4XoUblRArkfhehRuVECuR+F6FG5UQI/C9Shcz0hAj8L1KFzPSECPwvUoXM9IQI/C9Shcz0hAj8L1KFzPSECPwvUoXM9IQI/C9Shcz0hAj8L1KFzPSECPwvUoXM9IQI/C9Shcz0hA",
            "dtype": "f8"
           },
           "yaxis": "y"
          }
         ],
         "name": "Tue 02/09/2025"
        },
        {
         "data": [
          {
           "hovertemplate": "Type=Purchased_Volume<br>Settlement_Day=Wed 03/09/2025<br>Settlement_Period=%{x}<br>Volume=%{y}<extra></extra>",
           "legendgroup": "Purchased_Volume",
           "line": {
            "color": "#00314a",
            "dash": "solid"
           },
           "marker": {
            "symbol": "circle"
           },
           "mode": "lines",
           "name": "Purchased_Volume",
           "orientation": "v",
           "showlegend": true,
           "type": "scatter",
           "x": {
            "bdata": "AQIDBAUGBwgJCgsMDQ4PEBESExQVFhcYGRobHB0eHyAhIiMkJSYnKCkqKywtLi8w",
            "dtype": "i1"
           },
           "xaxis": "x",
           "y": {
            "bdata": "ZmZmZmbmRkDXo3A9CvdGQIXrUbgeJUdAKVyPwvXIRkBmZmZmZuZGQArXo3A9ikZArkfhehRuRkBmZmZmZkZGQFyPwvUonEZAuB6F61G4RkDNzMzMzExHQMP1KFyPgkhAzczMzMwsTEBxPQrXo5BOQI/C9ShcP1FArkfhehTeUkD2KFyPwoVUQJqZmZmZ+VVApHA9CtfjVkCkcD0K11NXQPYoXI/CJVdArkfhehROV0BSuB6F62FXQOxRuB6FK1dAuB6F61HYVkDD9Shcj6JWQDMzMzMzY1ZAzczMzMwsVkB7FK5H4epVQEjhehSut1VAFK5H4XpkVUD2KFyPwiVVQClcj8L1aFRAuB6F61F4U0DD9ShcjxJSQHE9Ctej4FBAmpmZmZl5T0CF61G4HuVOQGZmZmZmRk5AmpmZmZnZTUAK16NwPUpNQFyPwvUovExA4XoUrkchTEDsUbgehetKQGZmZmZmpklArkfhehSOSEDXo3A9CpdHQOF6FK5HQUdA",
            "dtype": "f8"
           },
           "yaxis": "y"
          },
          {
           "hovertemplate": "Type=Actual_Demand<br>Settlement_Day=Wed 03/09/2025<br>Settlement_Period=%{x}<br>Volume=%{y}<extra></extra>",
           "legendgroup": "Actual_Demand",
           "line": {
            "color": "#e34a21",
            "dash": "solid"
           },
           "marker": {
            "symbol": "circle"
           },
           "mode": "lines",
           "name": "Actual_Demand",
           "orientation": "v",
           "showlegend": true,
           "type": "scatter",
           "x": {
            "bdata": "AQIDBAUGBwgJCgsMDQ4PEBESExQVFhcYGRobHB0eHyAhIiMkJSYnKCkqKywtLi8w",
            "dtype": "i1"
           },
           "xaxis": "x",
           "y": {
            "bdata": "CtejcD2KR0CkcD0K14NHQPYoXI/C1UdArkfhehQuR0AfhetRuF5HQKRwPQrXA0dAPQrXo3AdR0BSuB6F6xFHQFK4HoXrcUdACtejcD2KR0CPwvUoXA9IQDMzMzMzc0lAFK5H4XoUTUBI4XoUrmdPQM3MzMzMXFFA9ihcj8JFU0DNzMzMzGxUQPYoXI/C1VVAAAAAAADgVkAfhetRuO5WQClcj8L1OFdApHA9CteDV0AK16NwPbpXQOF6FK5HkVdA7FG4HoWLV0D2KFyPwkVXQFK4HoXr4VZASOF6FK6nVkDsUbgehTtWQNejcD0K91VAcT0K16PwVUD2KFyPwsVVQOxRuB6FG1VAAAAAAAAAVECF61G4HoVSQEjhehSul1FAH4XrUbh+UED2KFyPwiVQQMP1KFyPIk9AuB6F61H4TkA9CtejcB1OQM3MzMzMbE1ArkfhehTOTEDhehSuR8FLQMP1KFyPQkpAexSuR+E6SUDhehSuRyFIQFyPwvUonEdA",
            "dtype": "f8"
           },
           "yaxis": "y"
          },
          {
           "hovertemplate": "Type=Hedged Volume<br>Settlement_Day=Wed 03/09/2025<br>Settlement_Period=%{x}<br>Volume=%{y}<extra></extra>",
           "legendgroup": "Hedged Volume",
           "line": {
            "color": "#17a398",
            "dash": "solid"
           },
           "marker": {
            "symbol": "circle"
           },
           "mode": "lines",
           "name": "Hedged Volume",
           "orientation": "v",
           "showlegend": true,
           "type": "scatter",
           "x": {
            "bdata": "AQIDBAUGBwgJCgsMDQ4PEBESExQVFhcYGRobHB0eHyAhIiMkJSYnKCkqKywtLi8w",
            "dtype": "i1"
           },
           "xaxis": "x",
           "y": {
            "bdata": "7FG4HoUrSUDsUbgehStJQOxRuB6FK0lA7FG4HoUrSUDsUbgehStJQOxRuB6FK0lA7FG4HoUrSUDsUbgehStJQOxRuB6FK0lA7FG4HoUrSUDsUbgehStJQOxRuB6FK0lA7FG4HoUrSUDsUbgehStJQPYoXI/C1VRA9ihcj8LVVED2KFyPwtVUQPYoXI/C1VRA9ihcj8LVVED2KFyPwtVUQPYoXI/C1VRA9ihcj8LVVED2KFyPwtVUQPYoXI/C1VRA9ihcj8LVVED2KFyPwtVUQPYoXI/C1VRA9ihcj8LVVED2KFyPwtVUQPYoXI/C1VRA9ihcj8LVVED2KFyPwtVUQPYoXI/C1VRA9ihcj8LVVED2KFyPwtVUQPYoXI/C1VRA9ihcj8LVVED2KFyPwtVUQOxRuB6FK0lA7FG4HoUrSUDsUbgehStJQOxRuB6FK0lA7FG4HoUrSUDsUbgehStJQOxRuB6FK0lA7FG4HoUrSUDsUbgehStJQOxRuB6FK0lA",
            "dtype": "f8"
           },
           "yaxis": "y"
          }
         ],
         "name": "Wed 03/09/2025"
        },
        {
         "data": [
          {
           "hovertemplate": "Type=Purchased_Volume<br>Settlement_Day=Thu 04/09/2025<br>Settlement_Period=%{x}<br>Volume=%{y}<extra></extra>",
           "legendgroup": "Purchased_Volume",
           "line": {
            "color": "#00314a",
            "dash": "solid"
           },
           "marker": {
            "symbol": "circle"
           },
           "mode": "lines",
           "name": "Purchased_Volume",
           "orientation": "v",
           "showlegend": true,
           "type": "scatter",
           "x": {
            "bdata": "AQIDBAUGBwgJCgsMDQ4PEBESExQVFhcYGRobHB0eHyAhIiMkJSYnKCkqKywtLi8w",
            "dtype": "i1"
           },
           "xaxis": "x",
           "y": {
            "bdata": "ZmZmZmbmRkDXo3A9CvdGQIXrUbgeJUdAKVyPwvXIRkBmZmZmZuZGQArXo3A9ikZArkfhehRuRkBmZmZmZkZGQFyPwvUonEZAuB6F61G4RkDNzMzMzExHQMP1KFyPgkhAzczMzMwsTEBxPQrXo5BOQI/C9ShcP1FArkfhehTeUkD2KFyPwoVUQJqZmZmZ+VVApHA9CtfjVkCkcD0K11NXQPYoXI/CJVdArkfhehROV0BSuB6F62FXQOxRuB6FK1dAuB6F61HYVkDD9Shcj6JWQDMzMzMzY1ZAzczMzMwsVkB7FK5H4epVQEjhehSut1VAFK5H4XpkVUD2KFyPwiVVQClcj8L1aFRAuB6F61F4U0DD9ShcjxJSQHE9Ctej4FBAmpmZmZl5T0CF61G4HuVOQGZmZmZmRk5AmpmZmZnZTUAK16NwPUpNQFyPwvUovExA4XoUrkchTEDsUbgehetKQGZmZmZmpklArkfhehSOSEDD9ShcjwJHQBSuR+F6FEdA",
            "dtype": "f8"
           },
           "yaxis": "y"
          },
          {
           "hovertemplate": "Type=Actual_Demand<br>Settlement_Day=Thu 04/09/2025<br>Settlement_Period=%{x}<br>Volume=%{y}<extra></extra>",
           "legendgroup": "Actual_Demand",
           "line": {
            "color": "#e34a21",
            "dash": "solid"
           },
           "marker": {
            "symbol": "circle"
           },
           "mode": "lines",
           "name": "Actual_Demand",
           "orientation": "v",
           "showlegend": true,
           "type": "scatter",
           "x": {
            "bdata": "AQIDBAUGBwgJCgsMDQ4PEBESExQVFhcYGRobHB0eHyAhIiMkJSYnKCkqKywtLi8w",
            "dtype": "i1"
           },
           "xaxis": "x",
           "y": {
            "bdata": "XI/C9Si8RkC4HoXrUZhGQLgehetRuEZA4XoUrkdBRkDhehSuR2FGQMP1KFyPIkZAPQrXo3D9RUCF61G4HuVFQJqZmZmZOUZAcT0K16MwRkBmZmZmZsZGQI/C9Shc70dAexSuR+GaS0DsUbgehYtOQM3MzMzMbFFA9ihcj8JFU0DsUbgehUtVQArXo3A96lZAhetRuB4FWEBmZmZmZtZYQKRwPQrXA1lAAAAAAACAWUBcj8L1KPxZQBSuR+F6lFlAmpmZmZk5WUDD9ShcjwJZQFK4HoXrgVhAmpmZmZk5WEDNzMzMzOxXQFK4HoXrEVdAXI/C9ShsVkDNzMzMzFxWQD0K16NwjVVA4XoUrkdhVEAzMzMzM/NSQArXo3A96lFA7FG4HoWbUED2KFyPwkVQQAAAAAAAQE9A9ihcj8KVTkDhehSuRyFOQHsUrkfhWk1ArkfhehQuTEAAAAAAACBLQClcj8L1CEpArkfhehTOSEDhehSuR6FHQD0K16Nw/UZA",
            "dtype": "f8"
           },
           "yaxis": "y"
          },
          {
           "hovertemplate": "Type=Hedged Volume<br>Settlement_Day=Thu 04/09/2025<br>Settlement_Period=%{x}<br>Volume=%{y}<extra></extra>",
           "legendgroup": "Hedged Volume",
           "line": {
            "color": "#17a398",
            "dash": "solid"
           },
           "marker": {
            "symbol": "circle"
           },
           "mode": "lines",
           "name": "Hedged Volume",
           "orientation": "v",
           "showlegend": true,
           "type": "scatter",
           "x": {
            "bdata": "AQIDBAUGBwgJCgsMDQ4PEBESExQVFhcYGRobHB0eHyAhIiMkJSYnKCkqKywtLi8w",
            "dtype": "i1"
           },
           "xaxis": "x",
           "y": {
            "bdata": "pHA9CtcjSUCkcD0K1yNJQKRwPQrXI0lApHA9CtcjSUCkcD0K1yNJQKRwPQrXI0lApHA9CtcjSUCkcD0K1yNJQKRwPQrXI0lApHA9CtcjSUCkcD0K1yNJQKRwPQrXI0lApHA9CtcjSUCkcD0K1yNJQPYoXI/C1VRA9ihcj8LVVED2KFyPwtVUQPYoXI/C1VRA9ihcj8LVVED2KFyPwtVUQPYoXI/C1VRA9ihcj8LVVED2KFyPwtVUQPYoXI/C1VRA9ihcj8LVVED2KFyPwtVUQPYoXI/C1VRA9ihcj8LVVED2KFyPwtVUQPYoXI/C1VRA9ihcj8LVVED2KFyPwtVUQPYoXI/C1VRA9ihcj8LVVED2KFyPwtVUQPYoXI/C1VRA9ihcj8LVVED2KFyPwtVUQKRwPQrXI0lApHA9CtcjSUCkcD0K1yNJQKRwPQrXI0lApHA9CtcjSUCkcD0K1yNJQKRwPQrXI0lApHA9CtcjSUCkcD0K1yNJQKRwPQrXI0lA",
            "dtype": "f8"
           },
           "yaxis": "y"
          }
         ],
         "name": "Thu 04/09/2025"
        },
        {
         "data": [
          {
           "hovertemplate": "Type=Purchased_Volume<br>Settlement_Day=Fri 05/09/2025<br>Settlement_Period=%{x}<br>Volume=%{y}<extra></extra>",
           "legendgroup": "Purchased_Volume",
           "line": {
            "color": "#00314a",
            "dash": "solid"
           },
           "marker": {
            "symbol": "circle"
           },
           "mode": "lines",
           "name": "Purchased_Volume",
           "orientation": "v",
           "showlegend": true,
           "type": "scatter",
           "x": {
            "bdata": "AQIDBAUGBwgJCgsMDQ4PEBESExQVFhcYGRobHB0eHyAhIiMkJSYnKCkqKywtLi8w",
            "dtype": "i1"
           },
           "xaxis": "x",
           "y": {
            "bdata": "H4XrUbgeR0BxPQrXozBHQGZmZmZmhkdA9ihcj8I1R0AUrkfhehRHQGZmZmZm5kZAAAAAAADgRkA9CtejcL1GQFK4HoXr8UZA9ihcj8I1R0CamZmZmblHQOF6FK5HwUhApHA9CtdDTECF61G4HoVOQHE9Ctej4FBAAAAAAABgUkC4HoXrUchTQB+F61G4DlVAH4XrUbgeVkBmZmZmZmZWQGZmZmZmtlZAzczMzMycVkDD9Shcj+JVQArXo3A92lVAPQrXo3BtVUAK16NwPWpVQEjhehSu91RA4XoUrkdxVEA9CtejcA1UQMP1KFyPclNACtejcD0aU0AAAAAAAGBSQB+F61G4rlFASOF6FK5HUUDsUbgehWtQQD0K16NwHU9ArkfhehROTUC4HoXrUfhMQBSuR+F6VExA4XoUrkchTEDNzMzMzIxLQK5H4XoUDktAmpmZmZl5SkDXo3A9CrdJQPYoXI/CtUhAKVyPwvWoR0CkcD0K18NGQFyPwvUoXEZA",
            "dtype": "f8"
           },
           "yaxis": "y"
          },
          {
           "hovertemplate": "Type=Actual_Demand<br>Settlement_Day=Fri 05/09/2025<br>Settlement_Period=%{x}<br>Volume=%{y}<extra></extra>",
           "legendgroup": "Actual_Demand",
           "line": {
            "color": "#e34a21",
            "dash": "solid"
           },
           "marker": {
            "symbol": "circle"
           },
           "mode": "lines",
           "name": "Actual_Demand",
           "orientation": "v",
           "showlegend": true,
           "type": "scatter",
           "x": {
            "bdata": "AQIDBAUGBwgJCgsMDQ4PEBESExQVFhcYGRobHB0eHyAhIiMkJSYnKCkqKywtLi8w",
            "dtype": "i1"
           },
           "xaxis": "x",
           "y": {
            "bdata": "XI/C9SgcR0CamZmZmflGQIXrUbgeZUdAcT0K16OwRkBI4XoUrsdGQHE9Ctej0EZAmpmZmZm5RkC4HoXrUZhGQI/C9Shcr0ZAexSuR+G6RkAAAAAAACBHQAAAAAAAIEhAhetRuB6FS0A9CtejcN1NQArXo3A9qlBAuB6F61FoUkApXI/C9RhUQOF6FK5HoVVAexSuR+G6VkDsUbgehQtXQM3MzMzMTFdAmpmZmZk5V0DD9Shcj7JWQOxRuB6FS1ZA7FG4HoUrVkDhehSuR0FWQAAAAAAAoFVArkfhehT+VEBxPQrXo7BUQGZmZmZmFlRA7FG4HoVLU0C4HoXrUahSQMP1KFyPIlJAAAAAAACQUUCPwvUoXN9QQIXrUbgeNVBAzczMzMyMTkBSuB6F6xFOQB+F61G4/kxAcT0K16OwTEBI4XoUrudLQB+F61G4XktAMzMzMzNzSkDD9Shcj+JJQD0K16Nw/UhAZmZmZmYGSECamZmZmdlGQAAAAAAAQEZA",
            "dtype": "f8"
           },
           "yaxis": "y"
          },
          {
           "hovertemplate": "Type=Hedged Volume<br>Settlement_Day=Fri 05/09/2025<br>Settlement_Period=%{x}<br>Volume=%{y}<extra></extra>",
           "legendgroup": "Hedged Volume",
           "line": {
            "color": "#17a398",
            "dash": "solid"
           },
           "marker": {
            "symbol": "circle"
           },
           "mode": "lines",
           "name": "Hedged Volume",
           "orientation": "v",
           "showlegend": true,
           "type": "scatter",
           "x": {
            "bdata": "AQIDBAUGBwgJCgsMDQ4PEBESExQVFhcYGRobHB0eHyAhIiMkJSYnKCkqKywtLi8w",
            "dtype": "i1"
           },
           "xaxis": "x",
           "y": {
            "bdata": "KVyPwvXISEApXI/C9chIQClcj8L1yEhAKVyPwvXISEApXI/C9chIQClcj8L1yEhAKVyPwvXISEApXI/C9chIQClcj8L1yEhAKVyPwvXISEApXI/C9chIQClcj8L1yEhAKVyPwvXISEApXI/C9chIQIXrUbgedVNAhetRuB51U0CF61G4HnVTQIXrUbgedVNAhetRuB51U0CF61G4HnVTQIXrUbgedVNAhetRuB51U0CF61G4HnVTQIXrUbgedVNAhetRuB51U0CF61G4HnVTQIXrUbgedVNAhetRuB51U0CF61G4HnVTQIXrUbgedVNAhetRuB51U0CF61G4HnVTQIXrUbgedVNAhetRuB51U0CF61G4HnVTQIXrUbgedVNAhetRuB51U0CF61G4HnVTQClcj8L1yEhAKVyPwvXISEApXI/C9chIQClcj8L1yEhAKVyPwvXISEApXI/C9chIQClcj8L1yEhAKVyPwvXISEApXI/C9chIQClcj8L1yEhA",
            "dtype": "f8"
           },
           "yaxis": "y"
          }
         ],
         "name": "Fri 05/09/2025"
        },
        {
         "data": [
          {
           "hovertemplate": "Type=Purchased_Volume<br>Settlement_Day=Sat 06/09/2025<br>Settlement_Period=%{x}<br>Volume=%{y}<extra></extra>",
           "legendgroup": "Purchased_Volume",
           "line": {
            "color": "#00314a",
            "dash": "solid"
           },
           "marker": {
            "symbol": "circle"
           },
           "mode": "lines",
           "name": "Purchased_Volume",
           "orientation": "v",
           "showlegend": true,
           "type": "scatter",
           "x": {
            "bdata": "AQIDBAUGBwgJCgsMDQ4PEBESExQVFhcYGRobHB0eHyAhIiMkJSYnKCkqKywtLi8w",
            "dtype": "i1"
           },
           "xaxis": "x",
           "y": {
            "bdata": "exSuR+E6RkCPwvUoXC9GQAAAAAAAQEZAH4XrUbjeRUCuR+F6FM5FQIXrUbgepUVAKVyPwvWIRUD2KFyPwlVFQOF6FK5HYUVAUrgehetxRUAAAAAAAKBFQMP1KFyPwkVACtejcD2KRkDNzMzMzExHQJqZmZmZWUhAuB6F61HYSED2KFyPwvVJQOxRuB6Fa0xAAAAAAACgTUDsUbgehatNQNejcD0Kt01Aw/UoXI9iTkApXI/C9WhOQHE9Ctej8E1AhetRuB5FTUBcj8L1KLxMQClcj8L1SExAXI/C9SjcS0CF61G4HiVLQGZmZmZm5kpAZmZmZmbmSkAAAAAAACBLQOxRuB6F60pAj8L1KFzPSkApXI/C9WhKQHE9Ctej8ElAFK5H4Xr0SEA9CtejcN1IQKRwPQrX40hAexSuR+H6SEBxPQrXo3BIQHE9CtejcEhAAAAAAABgSEDXo3A9CtdHQArXo3A9KkdArkfhehRuRkDsUbgehatFQOxRuB6Fq0VA",
            "dtype": "f8"
           },
           "yaxis": "y"
          },
          {
           "hovertemplate": "Type=Actual_Demand<br>Settlement_Day=Sat 06/09/2025<br>Settlement_Period=%{x}<br>Volume=%{y}<extra></extra>",
           "legendgroup": "Actual_Demand",
           "line": {
            "color": "#e34a21",
            "dash": "solid"
           },
           "marker": {
            "symbol": "circle"
           },
           "mode": "lines",
           "name": "Actual_Demand",
           "orientation": "v",
           "showlegend": true,
           "type": "scatter",
           "x": {
            "bdata": "AQIDBAUGBwgJCgsMDQ4PEBESExQVFhcYGRobHB0eHyAhIiMkJSYnKCkqKywtLi8w",
            "dtype": "i1"
           },
           "xaxis": "x",
           "y": {
            "bdata": "H4XrUbg+RkDD9ShcjwJGQMP1KFyPgkZAH4XrUbi+RUAUrkfhetRFQIXrUbgexUVA9ihcj8K1RUAK16NwPYpFQAAAAAAAoEVASOF6FK5HRUB7FK5H4VpFQFK4HoXr0UVApHA9CtejRkCkcD0K12NHQGZmZmZmRkhAXI/C9ShcSUApXI/C9chKQBSuR+F61ExAFK5H4Xr0TUDsUbgehWtOQFK4HoXrkU5Aw/UoXI8CT0AAAAAAAKBPQJqZmZmZeU9AXI/C9SgcT0A9CtejcL1OQM3MzMzM7E5AhetRuB4lTkAzMzMzMxNOQFyPwvUo3E1ACtejcD3KTUAK16NwPapNQK5H4XoUzk1AFK5H4Xq0TUBmZmZmZuZMQFK4HoXr8UtAFK5H4XrUSkBmZmZmZoZKQI/C9ShcD0pAXI/C9SicSUBmZmZmZmZJQFK4HoXrMUlAmpmZmZkZSUBcj8L1KNxIQOF6FK5HIUhAFK5H4Xo0R0Bcj8L1KDxGQIXrUbge5UVA",
            "dtype": "f8"
           },
           "yaxis": "y"
          },
          {
           "hovertemplate": "Type=Hedged Volume<br>Settlement_Day=Sat 06/09/2025<br>Settlement_Period=%{x}<br>Volume=%{y}<extra></extra>",
           "legendgroup": "Hedged Volume",
           "line": {
            "color": "#17a398",
            "dash": "solid"
           },
           "marker": {
            "symbol": "circle"
           },
           "mode": "lines",
           "name": "Hedged Volume",
           "orientation": "v",
           "showlegend": true,
           "type": "scatter",
           "x": {
            "bdata": "AQIDBAUGBwgJCgsMDQ4PEBESExQVFhcYGRobHB0eHyAhIiMkJSYnKCkqKywtLi8w",
            "dtype": "i1"
           },
           "xaxis": "x",
           "y": {
            "bdata": "16NwPQoXSUDXo3A9ChdJQNejcD0KF0lA16NwPQoXSUDXo3A9ChdJQNejcD0KF0lA16NwPQoXSUDXo3A9ChdJQNejcD0KF0lA16NwPQoXSUDXo3A9ChdJQNejcD0KF0lA16NwPQoXSUDXo3A9ChdJQNejcD0KF0lA16NwPQoXSUDXo3A9ChdJQNejcD0KF0lA16NwPQoXSUDXo3A9ChdJQNejcD0KF0lA16NwPQoXSUDXo3A9ChdJQNejcD0KF0lA16NwPQoXSUDXo3A9ChdJQNejcD0KF0lA16NwPQoXSUDXo3A9ChdJQNejcD0KF0lA16NwPQoXSUDXo3A9ChdJQNejcD0KF0lA16NwPQoXSUDXo3A9ChdJQNejcD0KF0lA16NwPQoXSUDXo3A9ChdJQNejcD0KF0lA16NwPQoXSUDXo3A9ChdJQNejcD0KF0lA16NwPQoXSUDXo3A9ChdJQNejcD0KF0lA16NwPQoXSUDXo3A9ChdJQNejcD0KF0lA",
            "dtype": "f8"
           },
           "yaxis": "y"
          }
         ],
         "name": "Sat 06/09/2025"
        },
        {
         "data": [
          {
           "hovertemplate": "Type=Purchased_Volume<br>Settlement_Day=Sun 07/09/2025<br>Settlement_Period=%{x}<br>Volume=%{y}<extra></extra>",
           "legendgroup": "Purchased_Volume",
           "line": {
            "color": "#00314a",
            "dash": "solid"
           },
           "marker": {
            "symbol": "circle"
           },
           "mode": "lines",
           "name": "Purchased_Volume",
           "orientation": "v",
           "showlegend": true,
           "type": "scatter",
           "x": {
            "bdata": "AQIDBAUGBwgJCgsMDQ4PEBESExQVFhcYGRobHB0eHyAhIiMkJSYnKCkqKywtLi8w",
            "dtype": "i1"
           },
           "xaxis": "x",
           "y": {
            "bdata": "zczMzMwsRUDNzMzMzCxFQArXo3A9qkRACtejcD2qREDsUbgehStEQOxRuB6FK0RAXI/C9SjcQ0Bcj8L1KNxDQB+F61G4vkNAH4XrUbi+Q0BmZmZmZoZDQGZmZmZmhkNAKVyPwvUIREApXI/C9QhEQClcj8L16ERAKVyPwvXoREDsUbgehUtGQOxRuB6FS0ZAw/UoXI9CSEDD9Shcj0JIQKRwPQrXo0hApHA9CtejSEBI4XoUridJQEjhehSuJ0lAKVyPwvXoSEApXI/C9ehIQAAAAAAAYEhAAAAAAABgSECkcD0K1wNIQKRwPQrXA0hAcT0K16PQR0BxPQrXo9BHQKRwPQrXY0dApHA9CtdjR0BxPQrXozBHQHE9CtejMEdAmpmZmZl5RkCamZmZmXlGQClcj8L1CEdAKVyPwvUIR0BSuB6F67FGQFK4HoXrsUZAzczMzMysRkDNzMzMzKxGQK5H4XoUzkVArkfhehTORUCkcD0K10NFQKRwPQrXQ0VA",
            "dtype": "f8"
           },
           "yaxis": "y"
          },
          {
           "hovertemplate": "Type=Actual_Demand<br>Settlement_Day=Sun 07/09/2025<br>Settlement_Period=%{x}<br>Volume=%{y}<extra></extra>",
           "legendgroup": "Actual_Demand",
           "line": {
            "color": "#e34a21",
            "dash": "solid"
           },
           "marker": {
            "symbol": "circle"
           },
           "mode": "lines",
           "name": "Actual_Demand",
           "orientation": "v",
           "showlegend": true,
           "type": "scatter",
           "x": {
            "bdata": "AQIDBAUGBwgJCgsMDQ4PEBESExQVFhcYGRobHB0eHyAhIiMkJSYnKCkqKywtLi8w",
            "dtype": "i1"
           },
           "xaxis": "x",
           "y": {
            "bdata": "rkfhehTORUBxPQrXo3BFQNejcD0KV0VArkfhehRuREApXI/C9YhEQB+F61G4XkRAMzMzMzNTRECuR+F6FC5EQLgehetRGERA7FG4HoXLQ0CF61G4HsVDQI/C9Shcz0NAFK5H4XoUREA9CtejcH1EQBSuR+F6NEVAj8L1KFxvRUBmZmZmZuZFQOF6FK5HIUdA9ihcj8JVSEAzMzMzM/NIQClcj8L1SElACtejcD2KSUA9CtejcD1KQK5H4XoULkpA7FG4HoXLSkBI4XoUrqdKQI/C9Shcj0pA9ihcj8LVSkCkcD0K18NKQI/C9Shcr0pAZmZmZmZmSkBcj8L1KPxJQEjhehSux0lAcT0K16NwSUAzMzMzMzNJQClcj8L1KElAj8L1KFyPSEBSuB6F69FIQLgehetRmEhAexSuR+FaSEDsUbgehStIQNejcD0KF0hACtejcD3qR0DNzMzMzMxHQFyPwvUoXEdAhetRuB5lRkBcj8L1KBxGQLgehetRmEVA",
            "dtype": "f8"
           },
           "yaxis": "y"
          },
          {
           "hovertemplate": "Type=Hedged Volume<br>Settlement_Day=Sun 07/09/2025<br>Settlement_Period=%{x}<br>Volume=%{y}<extra></extra>",
           "legendgroup": "Hedged Volume",
           "line": {
            "color": "#17a398",
            "dash": "solid"
           },
           "marker": {
            "symbol": "circle"
           },
           "mode": "lines",
           "name": "Hedged Volume",
           "orientation": "v",
           "showlegend": true,
           "type": "scatter",
           "x": {
            "bdata": "AQIDBAUGBwgJCgsMDQ4PEBESExQVFhcYGRobHB0eHyAhIiMkJSYnKCkqKywtLi8w",
            "dtype": "i1"
           },
           "xaxis": "x",
           "y": {
            "bdata": "9ihcj8JVRkD2KFyPwlVGQPYoXI/CVUZA9ihcj8JVRkD2KFyPwlVGQPYoXI/CVUZA9ihcj8JVRkD2KFyPwlVGQPYoXI/CVUZA9ihcj8JVRkD2KFyPwlVGQPYoXI/CVUZA9ihcj8JVRkD2KFyPwlVGQPYoXI/CVUZA9ihcj8JVRkD2KFyPwlVGQPYoXI/CVUZA9ihcj8JVRkD2KFyPwlVGQPYoXI/CVUZA9ihcj8JVRkD2KFyPwlVGQPYoXI/CVUZA9ihcj8JVRkD2KFyPwlVGQPYoXI/CVUZA9ihcj8JVRkD2KFyPwlVGQPYoXI/CVUZA9ihcj8JVRkD2KFyPwlVGQPYoXI/CVUZA9ihcj8JVRkD2KFyPwlVGQPYoXI/CVUZA9ihcj8JVRkD2KFyPwlVGQPYoXI/CVUZA9ihcj8JVRkD2KFyPwlVGQPYoXI/CVUZA9ihcj8JVRkD2KFyPwlVGQPYoXI/CVUZA9ihcj8JVRkD2KFyPwlVGQPYoXI/CVUZA",
            "dtype": "f8"
           },
           "yaxis": "y"
          }
         ],
         "name": "Sun 07/09/2025"
        },
        {
         "data": [
          {
           "hovertemplate": "Type=Purchased_Volume<br>Settlement_Day=Mon 08/09/2025<br>Settlement_Period=%{x}<br>Volume=%{y}<extra></extra>",
           "legendgroup": "Purchased_Volume",
           "line": {
            "color": "#00314a",
            "dash": "solid"
           },
           "marker": {
            "symbol": "circle"
           },
           "mode": "lines",
           "name": "Purchased_Volume",
           "orientation": "v",
           "showlegend": true,
           "type": "scatter",
           "x": {
            "bdata": "AQIDBAUGBwgJCgsMDQ4PEBESExQVFhcYGRobHB0eHyAhIiMkJSYnKCkqKywtLi8w",
            "dtype": "i1"
           },
           "xaxis": "x",
           "y": {
            "bdata": "mpmZmZnZRUCamZmZmdlFQPYoXI/C9UVA9ihcj8L1RUCamZmZmdlFQJqZmZmZ2UVAFK5H4XqURUAUrkfhepRFQI/C9Shc70VAj8L1KFzvRUAUrkfhehRHQBSuR+F6FEdAw/UoXI/iS0DD9Shcj+JLQOxRuB6Fu1BA7FG4HoW7UEBxPQrXo/BTQHE9Ctej8FNAZmZmZmb2VUBmZmZmZvZVQFK4HoXrwVZAUrgehevBVkCPwvUoXF9XQI/C9ShcX1dAhetRuB5lV0CF61G4HmVXQKRwPQrXA1dApHA9CtcDV0D2KFyPwoVWQPYoXI/ChVZA9ihcj8LFVUD2KFyPwsVVQNejcD0KJ1RA16NwPQonVEAzMzMzM6NRQDMzMzMzo1FAH4XrUbh+T0AfhetRuH5PQMP1KFyPYk5Aw/UoXI9iTkAUrkfhevRMQBSuR+F69ExAexSuR+F6S0B7FK5H4XpLQNejcD0KF0lA16NwPQoXSUCkcD0K18NGQI/C9Shcz0ZA",
            "dtype": "f8"
           },
           "yaxis": "y"
          },
          {
           "hovertemplate": "Type=Actual_Demand<br>Settlement_Day=Mon 08/09/2025<br>Settlement_Period=%{x}<br>Volume=%{y}<extra></extra>",
           "legendgroup": "Actual_Demand",
           "line": {
            "color": "#e34a21",
            "dash": "solid"
           },
           "marker": {
            "symbol": "circle"
           },
           "mode": "lines",
           "name": "Actual_Demand",
           "orientation": "v",
           "showlegend": true,
           "type": "scatter",
           "x": {
            "bdata": "AQIDBAUGBwgJCgsMDQ4PEBESExQVFhcYGRobHB0eHyAhIiMkJSYnKCkqKywtLi8w",
            "dtype": "i1"
           },
           "xaxis": "x",
           "y": {
            "bdata": "rkfhehRuRUApXI/C9WhFQEjhehSuh0VAcT0K16MQRUA9CtejcF1FQMP1KFyPIkVAMzMzMzMTRUDXo3A9CjdFQLgehetRWEVApHA9CtdjRUDNzMzMzCxGQLgehetReEdAw/UoXI9CS0DsUbgehQtOQI/C9Shcz1BAKVyPwvV4UkCuR+F6FH5UQClcj8L12FVAuB6F61EIV0C4HoXrUXhXQMP1KFyPsldAuB6F61EIWEBmZmZmZgZYQDMzMzMzg1dA16NwPQpnV0CPwvUoXK9XQJqZmZmZSVdAMzMzMzOjVkAAAAAAAHBWQJqZmZmZSVZAXI/C9SjcVUAUrkfherRVQD0K16NwvVRAH4XrUbi+U0B7FK5H4apSQClcj8L1qFFAMzMzMzODUEBmZmZmZgZQQOF6FK5HAU9AcT0K16NQTkDD9Shcj4JNQD0K16Nw3UxAAAAAAAAATEDsUbgehetKQKRwPQrXY0lAPQrXo3A9SEDD9Shcj0JHQKRwPQrXo0ZA",
            "dtype": "f8"
           },
           "yaxis": "y"
          },
          {
           "hovertemplate": "Type=Hedged Volume<br>Settlement_Day=Mon 08/09/2025<br>Settlement_Period=%{x}<br>Volume=%{y}<extra></extra>",
           "legendgroup": "Hedged Volume",
           "line": {
            "color": "#17a398",
            "dash": "solid"
           },
           "marker": {
            "symbol": "circle"
           },
           "mode": "lines",
           "name": "Hedged Volume",
           "orientation": "v",
           "showlegend": true,
           "type": "scatter",
           "x": {
            "bdata": "AQIDBAUGBwgJCgsMDQ4PEBESExQVFhcYGRobHB0eHyAhIiMkJSYnKCkqKywtLi8w",
            "dtype": "i1"
           },
           "xaxis": "x",
           "y": {
            "bdata": "UrgeheuRSEBSuB6F65FIQFK4HoXrkUhAUrgeheuRSEBSuB6F65FIQFK4HoXrkUhAUrgeheuRSEBSuB6F65FIQFK4HoXrkUhAUrgeheuRSEBSuB6F65FIQFK4HoXrkUhAUrgeheuRSEBSuB6F65FIQAAAAAAAwFRAAAAAAADAVEAAAAAAAMBUQAAAAAAAwFRAAAAAAADAVEAAAAAAAMBUQAAAAAAAwFRAAAAAAADAVEAAAAAAAMBUQAAAAAAAwFRAAAAAAADAVEAAAAAAAMBUQAAAAAAAwFRAAAAAAADAVEAAAAAAAMBUQAAAAAAAwFRAAAAAAADAVEAAAAAAAMBUQAAAAAAAwFRAAAAAAADAVEAAAAAAAMBUQAAAAAAAwFRAAAAAAADAVEAAAAAAAMBUQFK4HoXrkUhAUrgeheuRSEBSuB6F65FIQFK4HoXrkUhAUrgeheuRSEBSuB6F65FIQFK4HoXrkUhAUrgeheuRSEBSuB6F65FIQFK4HoXrkUhA",
            "dtype": "f8"
           },
           "yaxis": "y"
          }
         ],
         "name": "Mon 08/09/2025"
        },
        {
         "data": [
          {
           "hovertemplate": "Type=Purchased_Volume<br>Settlement_Day=Tue 09/09/2025<br>Settlement_Period=%{x}<br>Volume=%{y}<extra></extra>",
           "legendgroup": "Purchased_Volume",
           "line": {
            "color": "#00314a",
            "dash": "solid"
           },
           "marker": {
            "symbol": "circle"
           },
           "mode": "lines",
           "name": "Purchased_Volume",
           "orientation": "v",
           "showlegend": true,
           "type": "scatter",
           "x": {
            "bdata": "AQIDBAUGBwgJCgsMDQ4PEBESExQVFhcYGRobHB0eHyAhIiMkJSYnKCkqKywtLi8w",
            "dtype": "i1"
           },
           "xaxis": "x",
           "y": {
            "bdata": "AAAAAADgRkBxPQrXo5BGQAAAAAAA4EZASOF6FK5nRkDNzMzMzKxGQEjhehSuZ0ZAAAAAAABARkBmZmZmZgZGQGZmZmZmRkZArkfhehRuRkDD9ShcjwJHQD0K16NwPUhApHA9CtdjS0DNzMzMzGxNQFyPwvUoTFBAUrgehevhUUBxPQrXo6BTQPYoXI/CJVVA16NwPQonVkB7FK5H4apWQHE9CtejsFZA7FG4HoUrV0CkcD0K11NXQD0K16NwHVdAAAAAAAAgV0CamZmZmelWQEjhehSup1ZAcT0K16NgVkAK16NwPSpWQGZmZmZm9lVAH4XrUbiuVUDhehSuRzFVQHE9CtejQFRAAAAAAAAAU0DsUbgehctRQFK4HoXr8VBA4XoUrkehT0BI4XoUrgdPQClcj8L1aE5ASOF6FK4HTkBxPQrXo1BNQLgehetR2ExA9ihcj8IVTEA9CtejcP1KQHsUrkfhmklAH4XrUbieSEDsUbgehYtHQOxRuB6F60ZA",
            "dtype": "f8"
           },
           "yaxis": "y"
          },
          {
           "hovertemplate": "Type=Actual_Demand<br>Settlement_Day=Tue 09/09/2025<br>Settlement_Period=%{x}<br>Volume=%{y}<extra></extra>",
           "legendgroup": "Actual_Demand",
           "line": {
            "color": "#e34a21",
            "dash": "solid"
           },
           "marker": {
            "symbol": "circle"
           },
           "mode": "lines",
           "name": "Actual_Demand",
           "orientation": "v",
           "showlegend": true,
           "type": "scatter",
           "x": {
            "bdata": "AQIDBAUGBwgJCgsMDQ4PEBESExQVFhcYGRobHB0eHyAhIiMkJSYnKCkqKywtLi8w",
            "dtype": "i1"
           },
           "xaxis": "x",
           "y": {
            "bdata": "AAAAAABARkCkcD0K1yNGQD0K16NwPUZAMzMzMzOTRUDsUbgehatFQClcj8L1aEVAuB6F61FYRUCamZmZmVlFQFK4HoXrcUVAzczMzMxMRUDsUbgehQtGQOF6FK5HIUdAmpmZmZkZS0CPwvUoXO9NQI/C9Shc/1BAuB6F61GIUkCuR+F6FH5UQOxRuB6Fy1VAmpmZmZlZVkB7FK5H4WpWQI/C9Shcf1ZArkfhehTOVkAfhetRuP5WQAAAAAAA0FZAFK5H4XqUVkCPwvUoXI9WQHE9CtejIFZAhetRuB6lVUBmZmZmZnZVQFyPwvUo3FRACtejcD2qVEAzMzMzM3NUQD0K16NwDVRAFK5H4Xo0U0CF61G4HhVSQEjhehSuB1FAj8L1KFzvT0AUrkfhejRPQI/C9ShcT05AexSuR+HaTUDsUbgehStNQMP1KFyPokxA4XoUrkfhS0AUrkfhevRKQEjhehSux0lA4XoUrkeBSEDhehSuR6FHQFK4HoXrEUdA",
            "dtype": "f8"
           },
           "yaxis": "y"
          },
          {
           "hovertemplate": "Type=Hedged Volume<br>Settlement_Day=Tue 09/09/2025<br>Settlement_Period=%{x}<br>Volume=%{y}<extra></extra>",
           "legendgroup": "Hedged Volume",
           "line": {
            "color": "#17a398",
            "dash": "solid"
           },
           "marker": {
            "symbol": "circle"
           },
           "mode": "lines",
           "name": "Hedged Volume",
           "orientation": "v",
           "showlegend": true,
           "type": "scatter",
           "x": {
            "bdata": "AQIDBAUGBwgJCgsMDQ4PEBESExQVFhcYGRobHB0eHyAhIiMkJSYnKCkqKywtLi8w",
            "dtype": "i1"
           },
           "xaxis": "x",
           "y": {
            "bdata": "16NwPQr3SEDXo3A9CvdIQNejcD0K90hA16NwPQr3SEDXo3A9CvdIQNejcD0K90hA16NwPQr3SEDXo3A9CvdIQNejcD0K90hA16NwPQr3SEDXo3A9CvdIQNejcD0K90hA16NwPQr3SEDXo3A9CvdIQIXrUbgepVRAhetRuB6lVECF61G4HqVUQIXrUbgepVRAhetRuB6lVECF61G4HqVUQIXrUbgepVRAhetRuB6lVECF61G4HqVUQIXrUbgepVRAhetRuB6lVECF61G4HqVUQIXrUbgepVRAhetRuB6lVECF61G4HqVUQIXrUbgepVRAhetRuB6lVECF61G4HqVUQIXrUbgepVRAhetRuB6lVECF61G4HqVUQIXrUbgepVRAhetRuB6lVECF61G4HqVUQNejcD0K90hA16NwPQr3SEDXo3A9CvdIQNejcD0K90hA16NwPQr3SEDXo3A9CvdIQNejcD0K90hA16NwPQr3SEDXo3A9CvdIQNejcD0K90hA",
            "dtype": "f8"
           },
           "yaxis": "y"
          }
         ],
         "name": "Tue 09/09/2025"
        },
        {
         "data": [
          {
           "hovertemplate": "Type=Purchased_Volume<br>Settlement_Day=Wed 10/09/2025<br>Settlement_Period=%{x}<br>Volume=%{y}<extra></extra>",
           "legendgroup": "Purchased_Volume",
           "line": {
            "color": "#00314a",
            "dash": "solid"
           },
           "marker": {
            "symbol": "circle"
           },
           "mode": "lines",
           "name": "Purchased_Volume",
           "orientation": "v",
           "showlegend": true,
           "type": "scatter",
           "x": {
            "bdata": "AQIDBAUGBwgJCgsMDQ4PEBESExQVFhcYGRobHB0eHyAhIiMkJSYnKCkqKywtLi8w",
            "dtype": "i1"
           },
           "xaxis": "x",
           "y": {
            "bdata": "AAAAAADgRkBxPQrXo5BGQAAAAAAA4EZASOF6FK5nRkDNzMzMzKxGQEjhehSuZ0ZAAAAAAABARkBmZmZmZgZGQGZmZmZmRkZArkfhehRuRkDD9ShcjwJHQD0K16NwPUhApHA9CtdjS0DNzMzMzGxNQFyPwvUoTFBAUrgehevhUUBxPQrXo6BTQPYoXI/CJVVA16NwPQonVkB7FK5H4apWQHE9CtejsFZA7FG4HoUrV0CkcD0K11NXQD0K16NwHVdAAAAAAAAgV0CamZmZmelWQEjhehSup1ZAcT0K16NgVkAK16NwPSpWQGZmZmZm9lVAH4XrUbiuVUDhehSuRzFVQHE9CtejQFRAAAAAAAAAU0DsUbgehctRQFK4HoXr8VBA4XoUrkehT0BI4XoUrgdPQClcj8L1aE5ASOF6FK4HTkBxPQrXo1BNQLgehetR2ExA9ihcj8IVTEA9CtejcP1KQHsUrkfhmklAH4XrUbieSEDsUbgehYtHQOxRuB6F60ZA",
            "dtype": "f8"
           },
           "yaxis": "y"
          },
          {
           "hovertemplate": "Type=Actual_Demand<br>Settlement_Day=Wed 10/09/2025<br>Settlement_Period=%{x}<br>Volume=%{y}<extra></extra>",
           "legendgroup": "Actual_Demand",
           "line": {
            "color": "#e34a21",
            "dash": "solid"
           },
           "marker": {
            "symbol": "circle"
           },
           "mode": "lines",
           "name": "Actual_Demand",
           "orientation": "v",
           "showlegend": true,
           "type": "scatter",
           "x": {
            "bdata": "AQIDBAUGBwgJCgsMDQ4PEBESExQVFhcYGRobHB0eHyAhIiMkJSYnKCkqKywtLi8w",
            "dtype": "i1"
           },
           "xaxis": "x",
           "y": {
            "bdata": "CtejcD0KR0B7FK5H4bpGQHE9CtejEEdAhetRuB5lRkAAAAAAAKBGQGZmZmZmBkZAmpmZmZkZRkBmZmZmZiZGQArXo3A9akZAXI/C9ShcRkCuR+F6FO5GQGZmZmZmJkhAXI/C9SicS0DD9ShcjwJOQD0K16Nw3VBAzczMzMy8UkCamZmZmRlUQD0K16NwfVVAj8L1KFxfVkAfhetRuJ5WQOxRuB6Fq1ZAw/UoXI/CVkBcj8L1KLxWQArXo3A9elZA9ihcj8J1VkAAAAAAABBWQNejcD0Kt1VAmpmZmZlZVUDsUbgehftUQDMzMzMz41RACtejcD36VEAUrkfheuRUQHsUrkfhWlRArkfhehR+U0AfhetRuP5RQD0K16NwPVFAuB6F61EoUEAzMzMzM5NPQGZmZmZmpk5AKVyPwvVITkAUrkfhenRNQEjhehSup0xA4XoUrkfBS0DXo3A9ChdLQClcj8L1qElA7FG4HoWLSEAUrkfhelRHQEjhehSux0ZA",
            "dtype": "f8"
           },
           "yaxis": "y"
          },
          {
           "hovertemplate": "Type=Hedged Volume<br>Settlement_Day=Wed 10/09/2025<br>Settlement_Period=%{x}<br>Volume=%{y}<extra></extra>",
           "legendgroup": "Hedged Volume",
           "line": {
            "color": "#17a398",
            "dash": "solid"
           },
           "marker": {
            "symbol": "circle"
           },
           "mode": "lines",
           "name": "Hedged Volume",
           "orientation": "v",
           "showlegend": true,
           "type": "scatter",
           "x": {
            "bdata": "AQIDBAUGBwgJCgsMDQ4PEBESExQVFhcYGRobHB0eHyAhIiMkJSYnKCkqKywtLi8w",
            "dtype": "i1"
           },
           "xaxis": "x",
           "y": {
            "bdata": "16NwPQr3SEDXo3A9CvdIQNejcD0K90hA16NwPQr3SEDXo3A9CvdIQNejcD0K90hA16NwPQr3SEDXo3A9CvdIQNejcD0K90hA16NwPQr3SEDXo3A9CvdIQNejcD0K90hA16NwPQr3SEDXo3A9CvdIQIXrUbgepVRAhetRuB6lVECF61G4HqVUQIXrUbgepVRAhetRuB6lVECF61G4HqVUQIXrUbgepVRAhetRuB6lVECF61G4HqVUQIXrUbgepVRAhetRuB6lVECF61G4HqVUQIXrUbgepVRAhetRuB6lVECF61G4HqVUQIXrUbgepVRAhetRuB6lVECF61G4HqVUQIXrUbgepVRAhetRuB6lVECF61G4HqVUQIXrUbgepVRAhetRuB6lVECF61G4HqVUQNejcD0K90hA16NwPQr3SEDXo3A9CvdIQNejcD0K90hA16NwPQr3SEDXo3A9CvdIQNejcD0K90hA16NwPQr3SEDXo3A9CvdIQNejcD0K90hA",
            "dtype": "f8"
           },
           "yaxis": "y"
          }
         ],
         "name": "Wed 10/09/2025"
        },
        {
         "data": [
          {
           "hovertemplate": "Type=Purchased_Volume<br>Settlement_Day=Thu 11/09/2025<br>Settlement_Period=%{x}<br>Volume=%{y}<extra></extra>",
           "legendgroup": "Purchased_Volume",
           "line": {
            "color": "#00314a",
            "dash": "solid"
           },
           "marker": {
            "symbol": "circle"
           },
           "mode": "lines",
           "name": "Purchased_Volume",
           "orientation": "v",
           "showlegend": true,
           "type": "scatter",
           "x": {
            "bdata": "AQIDBAUGBwgJCgsMDQ4PEBESExQVFhcYGRobHB0eHyAhIiMkJSYnKCkqKywtLi8w",
            "dtype": "i1"
           },
           "xaxis": "x",
           "y": {
            "bdata": "AAAAAADgRkBxPQrXo5BGQAAAAAAA4EZASOF6FK5nRkDNzMzMzKxGQEjhehSuZ0ZAAAAAAABARkBmZmZmZgZGQGZmZmZmRkZArkfhehRuRkDD9ShcjwJHQD0K16NwPUhApHA9CtdjS0DNzMzMzGxNQFyPwvUoTFBAUrgehevhUUBxPQrXo6BTQPYoXI/CJVVA16NwPQonVkB7FK5H4apWQHE9CtejsFZA7FG4HoUrV0CkcD0K11NXQD0K16NwHVdAAAAAAAAgV0CamZmZmelWQEjhehSup1ZAcT0K16NgVkAK16NwPSpWQGZmZmZm9lVAH4XrUbiuVUDhehSuRzFVQHE9CtejQFRAAAAAAAAAU0DsUbgehctRQFK4HoXr8VBA4XoUrkehT0BI4XoUrgdPQClcj8L1aE5ASOF6FK4HTkBxPQrXo1BNQLgehetR2ExA9ihcj8IVTEA9CtejcP1KQHsUrkfhmklAH4XrUbieSEC4HoXrURhGQKRwPQrXI0ZA",
            "dtype": "f8"
           },
           "yaxis": "y"
          },
          {
           "hovertemplate": "Type=Actual_Demand<br>Settlement_Day=Thu 11/09/2025<br>Settlement_Period=%{x}<br>Volume=%{y}<extra></extra>",
           "legendgroup": "Actual_Demand",
           "line": {
            "color": "#e34a21",
            "dash": "solid"
           },
           "marker": {
            "symbol": "circle"
           },
           "mode": "lines",
           "name": "Actual_Demand",
           "orientation": "v",
           "showlegend": true,
           "type": "scatter",
           "x": {
            "bdata": "AQIDBAUGBwgJCgsMDQ4PEBESExQVFhcYGRobHB0eHyAhIiMkJSYnKCkqKywtLi8w",
            "dtype": "i1"
           },
           "xaxis": "x",
           "y": {
            "bdata": "hetRuB6lRkCamZmZmVlGQOxRuB6Fi0ZACtejcD3KRUC4HoXrUThGQB+F61G4/kVAw/UoXI/iRUA9CtejcN1FQNejcD0K90VAPQrXo3CdRUDNzMzMzCxGQHE9CtejUEdAexSuR+H6SkApXI/C9ahNQFK4HoXrwVBAw/UoXI+SUkAUrkfheiRUQNejcD0Kd1VAw/UoXI9iVkAUrkfhekRXQK5H4XoUjldAhetRuB51WECkcD0K1/NYQClcj8L16FhAH4XrUbjuWEAzMzMzM8NYQNejcD0Kd1hAexSuR+HaV0BI4XoUrgdYQD0K16NwvVdAKVyPwvV4V0DD9ShcjwJXQD0K16NwHVZAMzMzMzPDVEC4HoXrUShTQAAAAAAA0FFASOF6FK6HUECuR+F6FE5QQIXrUbgeZU9A4XoUrkeBTkDNzMzMzOxNQHsUrkfhGk1ASOF6FK4nTECuR+F6FC5LQK5H4XoU7klAj8L1KFzvSEA9CtejcL1HQDMzMzMz80ZA",
            "dtype": "f8"
           },
           "yaxis": "y"
          },
          {
           "hovertemplate": "Type=Hedged Volume<br>Settlement_Day=Thu 11/09/2025<br>Settlement_Period=%{x}<br>Volume=%{y}<extra></extra>",
           "legendgroup": "Hedged Volume",
           "line": {
            "color": "#17a398",
            "dash": "solid"
           },
           "marker": {
            "symbol": "circle"
           },
           "mode": "lines",
           "name": "Hedged Volume",
           "orientation": "v",
           "showlegend": true,
           "type": "scatter",
           "x": {
            "bdata": "AQIDBAUGBwgJCgsMDQ4PEBESExQVFhcYGRobHB0eHyAhIiMkJSYnKCkqKywtLi8w",
            "dtype": "i1"
           },
           "xaxis": "x",
           "y": {
            "bdata": "AAAAAADgSEAAAAAAAOBIQAAAAAAA4EhAAAAAAADgSEAAAAAAAOBIQAAAAAAA4EhAAAAAAADgSEAAAAAAAOBIQAAAAAAA4EhAAAAAAADgSEAAAAAAAOBIQAAAAAAA4EhAAAAAAADgSEAAAAAAAOBIQIXrUbgepVRAhetRuB6lVECF61G4HqVUQIXrUbgepVRAhetRuB6lVECF61G4HqVUQIXrUbgepVRAhetRuB6lVECF61G4HqVUQIXrUbgepVRAhetRuB6lVECF61G4HqVUQIXrUbgepVRAhetRuB6lVECF61G4HqVUQIXrUbgepVRAhetRuB6lVECF61G4HqVUQIXrUbgepVRAhetRuB6lVECF61G4HqVUQIXrUbgepVRAhetRuB6lVECF61G4HqVUQAAAAAAA4EhAAAAAAADgSEAAAAAAAOBIQAAAAAAA4EhAAAAAAADgSEAAAAAAAOBIQAAAAAAA4EhAAAAAAADgSEAAAAAAAOBIQAAAAAAA4EhA",
            "dtype": "f8"
           },
           "yaxis": "y"
          }
         ],
         "name": "Thu 11/09/2025"
        },
        {
         "data": [
          {
           "hovertemplate": "Type=Purchased_Volume<br>Settlement_Day=Fri 12/09/2025<br>Settlement_Period=%{x}<br>Volume=%{y}<extra></extra>",
           "legendgroup": "Purchased_Volume",
           "line": {
            "color": "#00314a",
            "dash": "solid"
           },
           "marker": {
            "symbol": "circle"
           },
           "mode": "lines",
           "name": "Purchased_Volume",
           "orientation": "v",
           "showlegend": true,
           "type": "scatter",
           "x": {
            "bdata": "AQIDBAUGBwgJCgsMDQ4PEBESExQVFhcYGRobHB0eHyAhIiMkJSYnKCkqKywtLi8w",
            "dtype": "i1"
           },
           "xaxis": "x",
           "y": {
            "bdata": "FK5H4Xo0RkCamZmZmdlFQBSuR+F6NEZA7FG4HoWrRUBxPQrXo7BFQDMzMzMzM0VACtejcD1KRUAUrkfhevREQFyPwvUoHEVAUrgehetxRUAfhetRuN5FQLgehetRuEZAKVyPwvUoSkC4HoXrUThMQHE9Ctej8E5AUrgehetBUUAAAAAAAABTQPYoXI/CZVRAH4XrUbheVUAzMzMzM3NVQK5H4XoUPlZAzczMzMycVkAUrkfheiRWQMP1KFyP4lVAcT0K16OgVUC4HoXrUZhVQLgehetRSFVAcT0K16OwVEDhehSuR3FUQDMzMzMzE1RA7FG4HoV7U0D2KFyPwrVSQJqZmZmZ2VFAMzMzMzNTUUCamZmZmXlQQLgehetRuE9ACtejcD2qTUDhehSuR+FMQLgehetROExArkfhehTuS0CF61G4HiVLQDMzMzMzs0pA4XoUrkcBSkBmZmZmZqZJQAAAAAAAYEhACtejcD1qR0CuR+F6FG5GQIXrUbge5UVA",
            "dtype": "f8"
           },
           "yaxis": "y"
          },
          {
           "hovertemplate": "Type=Actual_Demand<br>Settlement_Day=Fri 12/09/2025<br>Settlement_Period=%{x}<br>Volume=%{y}<extra></extra>",
           "legendgroup": "Actual_Demand",
           "line": {
            "color": "#e34a21",
            "dash": "solid"
           },
           "marker": {
            "symbol": "circle"
           },
           "mode": "lines",
           "name": "Actual_Demand",
           "orientation": "v",
           "showlegend": true,
           "type": "scatter",
           "x": {
            "bdata": "AQIDBAUGBwgJCgsMDQ4PEBESExQVFhcYGRobHB0eHyAhIiMkJSYnKCkqKywtLi8w",
            "dtype": "i1"
           },
           "xaxis": "x",
           "y": {
            "bdata": "CtejcD3KRkAK16NwPapGQFK4HoXr8UZAuB6F61EYRkBmZmZmZkZGQJqZmZmZ+UVAw/UoXI8iRkCF61G4HgVGQK5H4XoUDkZAXI/C9SgcRkBxPQrXo7BGQB+F61G4nkdASOF6FK4nS0CF61G4HoVNQAAAAAAAYFBAcT0K16MQUkAAAAAAAMBTQD0K16NwXVVApHA9CtczVkDhehSuR7FWQDMzMzMzM1dAAAAAAAAwV0CamZmZmYlWQB+F61G4jlZAw/UoXI9CVkCkcD0K11NWQAAAAAAA4FVAMzMzMzNDVUBI4XoUrvdUQAAAAAAAoFRACtejcD1qVEBmZmZmZtZTQPYoXI/CZVNAKVyPwvXoUkCPwvUoXM9RQDMzMzMz81BAH4XrUbj+T0DXo3A9CldPQJqZmZmZWU5AZmZmZmamTUDD9ShcjwJNQKRwPQrXI0xAPQrXo3BdS0B7FK5H4bpKQClcj8L1aElA16NwPQpXSEDD9ShcjyJHQM3MzMzMjEZA",
            "dtype": "f8"
           },
           "yaxis": "y"
          },
          {
           "hovertemplate": "Type=Hedged Volume<br>Settlement_Day=Fri 12/09/2025<br>Settlement_Period=%{x}<br>Volume=%{y}<extra></extra>",
           "legendgroup": "Hedged Volume",
           "line": {
            "color": "#17a398",
            "dash": "solid"
           },
           "marker": {
            "symbol": "circle"
           },
           "mode": "lines",
           "name": "Hedged Volume",
           "orientation": "v",
           "showlegend": true,
           "type": "scatter",
           "x": {
            "bdata": "AQIDBAUGBwgJCgsMDQ4PEBESExQVFhcYGRobHB0eHyAhIiMkJSYnKCkqKywtLi8w",
            "dtype": "i1"
           },
           "xaxis": "x",
           "y": {
            "bdata": "rkfhehSuR0CuR+F6FK5HQK5H4XoUrkdArkfhehSuR0CuR+F6FK5HQK5H4XoUrkdArkfhehSuR0CuR+F6FK5HQK5H4XoUrkdArkfhehSuR0CuR+F6FK5HQK5H4XoUrkdArkfhehSuR0CuR+F6FK5HQHsUrkfhWlNAexSuR+FaU0B7FK5H4VpTQHsUrkfhWlNAexSuR+FaU0B7FK5H4VpTQHsUrkfhWlNAexSuR+FaU0B7FK5H4VpTQHsUrkfhWlNAexSuR+FaU0B7FK5H4VpTQHsUrkfhWlNAexSuR+FaU0B7FK5H4VpTQHsUrkfhWlNAexSuR+FaU0B7FK5H4VpTQHsUrkfhWlNAexSuR+FaU0B7FK5H4VpTQHsUrkfhWlNAexSuR+FaU0B7FK5H4VpTQK5H4XoUrkdArkfhehSuR0CuR+F6FK5HQK5H4XoUrkdArkfhehSuR0CuR+F6FK5HQK5H4XoUrkdArkfhehSuR0CuR+F6FK5HQK5H4XoUrkdA",
            "dtype": "f8"
           },
           "yaxis": "y"
          }
         ],
         "name": "Fri 12/09/2025"
        },
        {
         "data": [
          {
           "hovertemplate": "Type=Purchased_Volume<br>Settlement_Day=Sat 13/09/2025<br>Settlement_Period=%{x}<br>Volume=%{y}<extra></extra>",
           "legendgroup": "Purchased_Volume",
           "line": {
            "color": "#00314a",
            "dash": "solid"
           },
           "marker": {
            "symbol": "circle"
           },
           "mode": "lines",
           "name": "Purchased_Volume",
           "orientation": "v",
           "showlegend": true,
           "type": "scatter",
           "x": {
            "bdata": "AQIDBAUGBwgJCgsMDQ4PEBESExQVFhcYGRobHB0eHyAhIiMkJSYnKCkqKywtLi8w",
            "dtype": "i1"
           },
           "xaxis": "x",
           "y": {
            "bdata": "w/UoXI/CRUCkcD0K14NFQLgehetReEVAhetRuB4FRUDsUbgehQtFQFK4HoXr0URAUrgehevRREDhehSuR4FEQOF6FK5HgURApHA9CtejREBSuB6F69FEQNejcD0KF0VAMzMzMzPTRUCuR+F6FG5GQFK4HoXrkUdA4XoUrkchSEAAAAAAAKBJQMP1KFyP4ktACtejcD2KTUD2KFyPwpVNQGZmZmZmpk1AMzMzMzMTTkCamZmZmXlOQOxRuB6Fi05AH4XrUbgeTkCF61G4HuVNQB+F61G4fk1A7FG4HoULTUBI4XoUrodMQHE9CtejcExAcT0K16NwTEBmZmZmZmZMQGZmZmZmJkxAH4XrUbj+S0DXo3A9CjdLQArXo3A9ikpACtejcD1KSUDXo3A9ChdJQBSuR+F69EhAUrgehevRSECamZmZmVlIQI/C9ShcD0hA7FG4HoXLR0AfhetRuF5HQClcj8L1yEZAUrgehesRRkD2KFyPwlVFQPYoXI/CVUVA",
            "dtype": "f8"
           },
           "yaxis": "y"
          },
          {
           "hovertemplate": "Type=Actual_Demand<br>Settlement_Day=Sat 13/09/2025<br>Settlement_Period=%{x}<br>Volume=%{y}<extra></extra>",
           "legendgroup": "Actual_Demand",
           "line": {
            "color": "#e34a21",
            "dash": "solid"
           },
           "marker": {
            "symbol": "circle"
           },
           "mode": "lines",
           "name": "Actual_Demand",
           "orientation": "v",
           "showlegend": true,
           "type": "scatter",
           "x": {
            "bdata": "AQIDBAUGBwgJCgsMDQ4PEBESExQVFhcYGRobHB0eHyAhIiMkJSYnKCkqKywtLi8w",
            "dtype": "i1"
           },
           "xaxis": "x",
           "y": {
            "bdata": "9ihcj8KVRkDXo3A9ChdGQGZmZmZmZkZA4XoUrkdhRUCamZmZmZlFQFK4HoXrMUVASOF6FK4nRUAAAAAAACBFQJqZmZmZ+URAH4XrUbi+REBSuB6F65FEQMP1KFyPIkVAzczMzMwsRkDD9Shcj+JGQHsUrkfhOkhAw/UoXI/iSEApXI/C9ShLQOF6FK5HYU1A4XoUrkehTkBxPQrXo9BOQOxRuB6Fi05AFK5H4Xp0TkApXI/C9ehOQEjhehSuZ05AFK5H4Xr0TUBSuB6F63FNQJqZmZmZ2UxAAAAAAACATEBSuB6F6/FLQI/C9Shcj0tApHA9CtfDS0AfhetRuN5LQB+F61G4/ktAMzMzMzPzS0BmZmZmZqZLQEjhehSux0pAmpmZmZn5SUDNzMzMzKxJQDMzMzMzU0lAKVyPwvVoSUBxPQrXoxBJQHsUrkfh2khAmpmZmZn5R0BI4XoUridIQIXrUbgexUdAFK5H4Xr0RkAK16NwPUpGQM3MzMzMzEVA",
            "dtype": "f8"
           },
           "yaxis": "y"
          },
          {
           "hovertemplate": "Type=Hedged Volume<br>Settlement_Day=Sat 13/09/2025<br>Settlement_Period=%{x}<br>Volume=%{y}<extra></extra>",
           "legendgroup": "Hedged Volume",
           "line": {
            "color": "#17a398",
            "dash": "solid"
           },
           "marker": {
            "symbol": "circle"
           },
           "mode": "lines",
           "name": "Hedged Volume",
           "orientation": "v",
           "showlegend": true,
           "type": "scatter",
           "x": {
            "bdata": "AQIDBAUGBwgJCgsMDQ4PEBESExQVFhcYGRobHB0eHyAhIiMkJSYnKCkqKywtLi8w",
            "dtype": "i1"
           },
           "xaxis": "x",
           "y": {
            "bdata": "j8L1KFwPSUCPwvUoXA9JQI/C9ShcD0lAj8L1KFwPSUCPwvUoXA9JQI/C9ShcD0lAj8L1KFwPSUCPwvUoXA9JQI/C9ShcD0lAj8L1KFwPSUCPwvUoXA9JQI/C9ShcD0lAj8L1KFwPSUCPwvUoXA9JQI/C9ShcD0lAj8L1KFwPSUCPwvUoXA9JQI/C9ShcD0lAj8L1KFwPSUCPwvUoXA9JQI/C9ShcD0lAj8L1KFwPSUCPwvUoXA9JQI/C9ShcD0lAj8L1KFwPSUCPwvUoXA9JQI/C9ShcD0lAj8L1KFwPSUCPwvUoXA9JQI/C9ShcD0lAj8L1KFwPSUCPwvUoXA9JQI/C9ShcD0lAj8L1KFwPSUCPwvUoXA9JQI/C9ShcD0lAj8L1KFwPSUCPwvUoXA9JQI/C9ShcD0lAj8L1KFwPSUCPwvUoXA9JQI/C9ShcD0lAj8L1KFwPSUCPwvUoXA9JQI/C9ShcD0lAj8L1KFwPSUCPwvUoXA9JQI/C9ShcD0lA",
            "dtype": "f8"
           },
           "yaxis": "y"
          }
         ],
         "name": "Sat 13/09/2025"
        },
        {
         "data": [
          {
           "hovertemplate": "Type=Purchased_Volume<br>Settlement_Day=Sun 14/09/2025<br>Settlement_Period=%{x}<br>Volume=%{y}<extra></extra>",
           "legendgroup": "Purchased_Volume",
           "line": {
            "color": "#00314a",
            "dash": "solid"
           },
           "marker": {
            "symbol": "circle"
           },
           "mode": "lines",
           "name": "Purchased_Volume",
           "orientation": "v",
           "showlegend": true,
           "type": "scatter",
           "x": {
            "bdata": "AQIDBAUGBwgJCgsMDQ4PEBESExQVFhcYGRobHB0eHyAhIiMkJSYnKCkqKywtLi8w",
            "dtype": "i1"
           },
           "xaxis": "x",
           "y": {
            "bdata": "AAAAAACgRUAAAAAAAKBFQHE9CtejEEVAcT0K16MQRUDNzMzMzIxEQM3MzMzMjERAw/UoXI9CREDD9Shcj0JEQGZmZmZmJkRAZmZmZmYmRECPwvUoXA9EQI/C9ShcD0RApHA9CtejRECkcD0K16NEQGZmZmZmZkVAZmZmZmZmRUDhehSuR6FGQOF6FK5HoUZACtejcD2qSEAK16NwPapIQHE9CtejUElAcT0K16NQSUBcj8L1KPxJQFyPwvUo/ElAH4XrUbjeSUAfhetRuN5JQGZmZmZmZklAZmZmZmZmSUDXo3A9ChdJQNejcD0KF0lAj8L1KFzvSECPwvUoXO9IQHE9CtejcEhAcT0K16NwSEDD9Shcj0JIQMP1KFyPQkhAexSuR+F6R0B7FK5H4XpHQKRwPQrXA0hApHA9CtcDSEBSuB6F65FHQFK4HoXrkUdA9ihcj8J1R0D2KFyPwnVHQFyPwvUonEZAXI/C9SicRkCF61G4HuVFQIXrUbge5UVA",
            "dtype": "f8"
           },
           "yaxis": "y"
          },
          {
           "hovertemplate": "Type=Actual_Demand<br>Settlement_Day=Sun 14/09/2025<br>Settlement_Period=%{x}<br>Volume=%{y}<extra></extra>",
           "legendgroup": "Actual_Demand",
           "line": {
            "color": "#e34a21",
            "dash": "solid"
           },
           "marker": {
            "symbol": "circle"
           },
           "mode": "lines",
           "name": "Actual_Demand",
           "orientation": "v",
           "showlegend": true,
           "type": "scatter",
           "x": {
            "bdata": "AQIDBAUGBwgJCgsMDQ4PEBESExQVFhcYGRobHB0eHyAhIiMkJSYnKCkqKywtLi8w",
            "dtype": "i1"
           },
           "xaxis": "x",
           "y": {
            "bdata": "cT0K16MwRUD2KFyPwtVEQGZmZmZmxkRA4XoUrkehQ0CPwvUoXK9DQPYoXI/CdUNAZmZmZmZmQ0BmZmZmZkZDQPYoXI/CNUNAFK5H4Xr0QkDsUbgehetCQGZmZmZmRkNA9ihcj8K1Q0D2KFyPwtVDQNejcD0Kt0RAzczMzMwsRUD2KFyPwrVFQBSuR+F6tEZAexSuR+E6SEDXo3A9CrdIQMP1KFyPwklASOF6FK7nSUDNzMzMzAxKQHE9CtejcEpAcT0K16MQSkCF61G4HsVJQB+F61G4nklAj8L1KFxvSUC4HoXrUVhJQFK4HoXrEUlAw/UoXI9CSUBxPQrXo9BJQMP1KFyPQklAmpmZmZlZSUAUrkfhejRJQClcj8L16EhA16NwPQqXSEC4HoXrUbhIQMP1KFyPIkhAhetRuB4lSEDhehSuR8FHQKRwPQrX40dAw/UoXI+CR0C4HoXrUbhHQFyPwvUofEdAFK5H4XqURkDD9Shcj8JFQEjhehSuZ0VA",
            "dtype": "f8"
           },
           "yaxis": "y"
          },
          {
           "hovertemplate": "Type=Hedged Volume<br>Settlement_Day=Sun 14/09/2025<br>Settlement_Period=%{x}<br>Volume=%{y}<extra></extra>",
           "legendgroup": "Hedged Volume",
           "line": {
            "color": "#17a398",
            "dash": "solid"
           },
           "marker": {
            "symbol": "circle"
           },
           "mode": "lines",
           "name": "Hedged Volume",
           "orientation": "v",
           "showlegend": true,
           "type": "scatter",
           "x": {
            "bdata": "AQIDBAUGBwgJCgsMDQ4PEBESExQVFhcYGRobHB0eHyAhIiMkJSYnKCkqKywtLi8w",
            "dtype": "i1"
           },
           "xaxis": "x",
           "y": {
            "bdata": "rkfhehQOR0CuR+F6FA5HQK5H4XoUDkdArkfhehQOR0CuR+F6FA5HQK5H4XoUDkdArkfhehQOR0CuR+F6FA5HQK5H4XoUDkdArkfhehQOR0CuR+F6FA5HQK5H4XoUDkdArkfhehQOR0CuR+F6FA5HQK5H4XoUDkdArkfhehQOR0CuR+F6FA5HQK5H4XoUDkdArkfhehQOR0CuR+F6FA5HQK5H4XoUDkdArkfhehQOR0CuR+F6FA5HQK5H4XoUDkdArkfhehQOR0CuR+F6FA5HQK5H4XoUDkdArkfhehQOR0CuR+F6FA5HQK5H4XoUDkdArkfhehQOR0CuR+F6FA5HQK5H4XoUDkdArkfhehQOR0CuR+F6FA5HQK5H4XoUDkdArkfhehQOR0CuR+F6FA5HQK5H4XoUDkdArkfhehQOR0CuR+F6FA5HQK5H4XoUDkdArkfhehQOR0CuR+F6FA5HQK5H4XoUDkdArkfhehQOR0CuR+F6FA5HQK5H4XoUDkdA",
            "dtype": "f8"
           },
           "yaxis": "y"
          }
         ],
         "name": "Sun 14/09/2025"
        },
        {
         "data": [
          {
           "hovertemplate": "Type=Purchased_Volume<br>Settlement_Day=Mon 15/09/2025<br>Settlement_Period=%{x}<br>Volume=%{y}<extra></extra>",
           "legendgroup": "Purchased_Volume",
           "line": {
            "color": "#00314a",
            "dash": "solid"
           },
           "marker": {
            "symbol": "circle"
           },
           "mode": "lines",
           "name": "Purchased_Volume",
           "orientation": "v",
           "showlegend": true,
           "type": "scatter",
           "x": {
            "bdata": "AQIDBAUGBwgJCgsMDQ4PEBESExQVFhcYGRobHB0eHyAhIiMkJSYnKCkqKywtLi8w",
            "dtype": "i1"
           },
           "xaxis": "x",
           "y": {
            "bdata": "KVyPwvXIRkApXI/C9chGQB+F61G4fkZAH4XrUbh+RkBxPQrXo5BGQHE9CtejkEZAuB6F61EYRkC4HoXrURhGQBSuR+F6NEZAFK5H4Xo0RkDD9Shcj6JHQMP1KFyPokdAMzMzMzOTTEAzMzMzM5NMQIXrUbgeRVFAhetRuB5FUUDsUbgehbtUQOxRuB6Fu1RA4XoUrkfhVkDhehSuR+FWQNejcD0Kh1dA16NwPQqHV0DNzMzMzNxXQM3MzMzM3FdArkfhehSeV0CuR+F6FJ5XQJqZmZmZOVdAmpmZmZk5V0AfhetRuL5WQB+F61G4vlZAmpmZmZn5VUCamZmZmflVQArXo3A9ClRACtejcD0KVED2KFyPwsVRQPYoXI/CxVFApHA9CtfDT0CkcD0K18NPQM3MzMzMTE5AzczMzMxMTkA9CtejcB1NQD0K16NwHU1AexSuR+F6S0B7FK5H4XpLQOxRuB6FC0lA7FG4HoULSUAK16NwPWpHQEjhehSup0ZA",
            "dtype": "f8"
           },
           "yaxis": "y"
          },
          {
           "hovertemplate": "Type=Actual_Demand<br>Settlement_Day=Mon 15/09/2025<br>Settlement_Period=%{x}<br>Volume=%{y}<extra></extra>",
           "legendgroup": "Actual_Demand",
           "line": {
            "color": "#e34a21",
            "dash": "solid"
           },
           "marker": {
            "symbol": "circle"
           },
           "mode": "lines",
           "name": "Actual_Demand",
           "orientation": "v",
           "showlegend": true,
           "type": "scatter",
           "x": {
            "bdata": "AQIDBAUGBwgJCgsMDQ4PEBESExQVFhcYGRobHB0eHyAhIiMkJSYnKCkqKywtLi8w",
            "dtype": "i1"
           },
           "xaxis": "x",
           "y": {
            "bdata": "AAAAAAAARkBSuB6F6/FFQArXo3A96kVAPQrXo3BdRUCkcD0K14NFQEjhehSuh0VAzczMzMyMRUCF61G4HoVFQHsUrkfhekVA4XoUrkehRUCuR+F6FE5GQPYoXI/CVUdAUrgeheuRSkAAAAAAAABNQM3MzMzMbFBACtejcD0KUkBcj8L1KOxTQHE9CtejgFVAMzMzMzOjVkDXo3A9CidXQLgehetRWFdA7FG4HoWbV0BSuB6F6xFXQM3MzMzMvFZAH4XrUbhuVkCamZmZmWlWQDMzMzMzQ1ZAexSuR+HaVUC4HoXrUZhVQIXrUbgedVVAH4XrUbheVUBcj8L1KAxVQJqZmZmZKVRApHA9CtdDU0CuR+F6FF5SQBSuR+F6ZFFAexSuR+FKUEBxPQrXo9BPQBSuR+F6FE9AFK5H4XoUTkBI4XoUrudNQOxRuB6FS01AuB6F61F4TEBcj8L1KJxLQNejcD0KV0pA9ihcj8JVSUAzMzMzM7NIQClcj8L16EdA",
            "dtype": "f8"
           },
           "yaxis": "y"
          },
          {
           "hovertemplate": "Type=Hedged Volume<br>Settlement_Day=Mon 15/09/2025<br>Settlement_Period=%{x}<br>Volume=%{y}<extra></extra>",
           "legendgroup": "Hedged Volume",
           "line": {
            "color": "#17a398",
            "dash": "solid"
           },
           "marker": {
            "symbol": "circle"
           },
           "mode": "lines",
           "name": "Hedged Volume",
           "orientation": "v",
           "showlegend": true,
           "type": "scatter",
           "x": {
            "bdata": "AQIDBAUGBwgJCgsMDQ4PEBESExQVFhcYGRobHB0eHyAhIiMkJSYnKCkqKywtLi8w",
            "dtype": "i1"
           },
           "xaxis": "x",
           "y": {
            "bdata": "UrgehevxSEBSuB6F6/FIQFK4HoXr8UhAUrgehevxSEBSuB6F6/FIQFK4HoXr8UhAUrgehevxSEBSuB6F6/FIQFK4HoXr8UhAUrgehevxSEBSuB6F6/FIQFK4HoXr8UhAUrgehevxSEBSuB6F6/FIQHE9CtejIFVAcT0K16MgVUBxPQrXoyBVQHE9CtejIFVAcT0K16MgVUBxPQrXoyBVQHE9CtejIFVAcT0K16MgVUBxPQrXoyBVQHE9CtejIFVAcT0K16MgVUBxPQrXoyBVQHE9CtejIFVAcT0K16MgVUBxPQrXoyBVQHE9CtejIFVAcT0K16MgVUBxPQrXoyBVQHE9CtejIFVAcT0K16MgVUBxPQrXoyBVQHE9CtejIFVAcT0K16MgVUBxPQrXoyBVQFK4HoXr8UhAUrgehevxSEBSuB6F6/FIQFK4HoXr8UhAUrgehevxSEBSuB6F6/FIQFK4HoXr8UhAUrgehevxSEBSuB6F6/FIQFK4HoXr8UhA",
            "dtype": "f8"
           },
           "yaxis": "y"
          }
         ],
         "name": "Mon 15/09/2025"
        },
        {
         "data": [
          {
           "hovertemplate": "Type=Purchased_Volume<br>Settlement_Day=Tue 16/09/2025<br>Settlement_Period=%{x}<br>Volume=%{y}<extra></extra>",
           "legendgroup": "Purchased_Volume",
           "line": {
            "color": "#00314a",
            "dash": "solid"
           },
           "marker": {
            "symbol": "circle"
           },
           "mode": "lines",
           "name": "Purchased_Volume",
           "orientation": "v",
           "showlegend": true,
           "type": "scatter",
           "x": {
            "bdata": "AQIDBAUGBwgJCgsMDQ4PEBESExQVFhcYGRobHB0eHyAhIiMkJSYnKCkqKywtLi8w",
            "dtype": "i1"
           },
           "xaxis": "x",
           "y": {
            "bdata": "UrgehevxRkBI4XoUrqdGQClcj8L1yEZAexSuR+E6RkDNzMzMzKxGQDMzMzMzc0ZAAAAAAABARkD2KFyPwvVFQD0K16NwHUZA7FG4HoVLRkCuR+F6FA5HQD0K16NwPUhA4XoUrkeBS0BmZmZmZqZNQHsUrkfhilBAH4XrUbj+UUDD9Shcj+JTQIXrUbgelVVA16NwPQp3VkC4HoXrUUhXQIXrUbgeRVdAKVyPwvXIV0CPwvUoXP9XQHsUrkfhuldAZmZmZmamV0D2KFyPwpVXQPYoXI/CdVdArkfhehT+VkDXo3A9CudWQNejcD0Kl1ZAzczMzMwsVkApXI/C9chVQGZmZmZmtlRAH4XrUbheU0AzMzMzM2NSQLgehetRKFFACtejcD0KUECamZmZmXlPQK5H4XoUrk5A7FG4HoXrTUBcj8L1KFxNQD0K16Nw3UxAj8L1KFwPTEBmZmZmZuZKQD0K16NwfUlAmpmZmZmZSEBI4XoUrkdHQLgehetRWEdA",
            "dtype": "f8"
           },
           "yaxis": "y"
          },
          {
           "hovertemplate": "Type=Actual_Demand<br>Settlement_Day=Tue 16/09/2025<br>Settlement_Period=%{x}<br>Volume=%{y}<extra></extra>",
           "legendgroup": "Actual_Demand",
           "line": {
            "color": "#e34a21",
            "dash": "solid"
           },
           "marker": {
            "symbol": "circle"
           },
           "mode": "lines",
           "name": "Actual_Demand",
           "orientation": "v",
           "showlegend": true,
           "type": "scatter",
           "x": {
            "bdata": "AQIDBAUGBwgJCgsMDQ4PEBESExQVFhcYGRobHB0eHyAhIiMkJSYnKCkqKywtLi8w",
            "dtype": "i1"
           },
           "xaxis": "x",
           "y": {
            "bdata": "SOF6FK4nR0AK16NwPepGQIXrUbge5UZAKVyPwvUIRkCkcD0K12NGQAAAAAAAIEZAPQrXo3AdRkCF61G4HsVFQKRwPQrXA0ZA7FG4HoULRkCamZmZmdlGQDMzMzMz80dACtejcD1qS0BxPQrXozBOQHE9Ctej8FBAH4XrUbh+UkCamZmZmTlUQJqZmZmZuVVA4XoUrkdBVkAAAAAAAHBWQB+F61G47lZASOF6FK4nV0BI4XoUrkdXQIXrUbgeNVdApHA9CtfDVkBmZmZmZsZWQArXo3A9elZASOF6FK5XVkDhehSuRxFWQK5H4XoUzlVArkfhehSeVUAUrkfhenRVQOxRuB6FO1VA7FG4HoWLVEBSuB6F6+FSQJqZmZmZuVFAKVyPwvWIUEAzMzMzMzNQQM3MzMzMbE9AUrgeheuxTkBmZmZmZsZNQHE9CtejEE1AmpmZmZk5TED2KFyPwnVLQMP1KFyPYkpASOF6FK4nSUAAAAAAAABIQDMzMzMzc0dA",
            "dtype": "f8"
           },
           "yaxis": "y"
          },
          {
           "hovertemplate": "Type=Hedged Volume<br>Settlement_Day=Tue 16/09/2025<br>Settlement_Period=%{x}<br>Volume=%{y}<extra></extra>",
           "legendgroup": "Hedged Volume",
           "line": {
            "color": "#17a398",
            "dash": "solid"
           },
           "marker": {
            "symbol": "circle"
           },
           "mode": "lines",
           "name": "Hedged Volume",
           "orientation": "v",
           "showlegend": true,
           "type": "scatter",
           "x": {
            "bdata": "AQIDBAUGBwgJCgsMDQ4PEBESExQVFhcYGRobHB0eHyAhIiMkJSYnKCkqKywtLi8w",
            "dtype": "i1"
           },
           "xaxis": "x",
           "y": {
            "bdata": "uB6F61H4SEC4HoXrUfhIQLgehetR+EhAuB6F61H4SEC4HoXrUfhIQLgehetR+EhAuB6F61H4SEC4HoXrUfhIQLgehetR+EhAuB6F61H4SEC4HoXrUfhIQLgehetR+EhAuB6F61H4SEC4HoXrUfhIQHE9CtejIFVAcT0K16MgVUBxPQrXoyBVQHE9CtejIFVAcT0K16MgVUBxPQrXoyBVQHE9CtejIFVAcT0K16MgVUBxPQrXoyBVQHE9CtejIFVAcT0K16MgVUBxPQrXoyBVQHE9CtejIFVAcT0K16MgVUBxPQrXoyBVQHE9CtejIFVAcT0K16MgVUBxPQrXoyBVQHE9CtejIFVAcT0K16MgVUBxPQrXoyBVQHE9CtejIFVAcT0K16MgVUBxPQrXoyBVQLgehetR+EhAuB6F61H4SEC4HoXrUfhIQLgehetR+EhAuB6F61H4SEC4HoXrUfhIQLgehetR+EhAuB6F61H4SEC4HoXrUfhIQLgehetR+EhA",
            "dtype": "f8"
           },
           "yaxis": "y"
          }
         ],
         "name": "Tue 16/09/2025"
        },
        {
         "data": [
          {
           "hovertemplate": "Type=Purchased_Volume<br>Settlement_Day=Wed 17/09/2025<br>Settlement_Period=%{x}<br>Volume=%{y}<extra></extra>",
           "legendgroup": "Purchased_Volume",
           "line": {
            "color": "#00314a",
            "dash": "solid"
           },
           "marker": {
            "symbol": "circle"
           },
           "mode": "lines",
           "name": "Purchased_Volume",
           "orientation": "v",
           "showlegend": true,
           "type": "scatter",
           "x": {
            "bdata": "AQIDBAUGBwgJCgsMDQ4PEBESExQVFhcYGRobHB0eHyAhIiMkJSYnKCkqKywtLi8w",
            "dtype": "i1"
           },
           "xaxis": "x",
           "y": {
            "bdata": "pHA9CtdjR0CamZmZmRlHQFyPwvUoPEdASOF6FK6nRkAfhetRuB5HQGZmZmZm5kZAzczMzMysRkBI4XoUrmdGQArXo3A9ikZAPQrXo3C9RkAAAAAAAIBHQPYoXI/CtUhACtejcD0KTEB7FK5H4TpOQK5H4XoU3lBASOF6FK5XUkBmZmZmZkZUQFK4HoXrAVZAmpmZmZnpVkA9CtejcL1XQHsUrkfhuldA4XoUrkdBWEBI4XoUrndYQMP1KFyPMlhAXI/C9SgcWEB7FK5H4QpYQOxRuB6F61dAAAAAAABwV0CamZmZmVlXQGZmZmZmBldAzczMzMycVkD2KFyPwjVWQAAAAAAAIFVAAAAAAADAU0AfhetRuL5SQK5H4XoUflFACtejcD1aUEDNzMzMzAxQQEjhehSuR09AhetRuB6FTkBxPQrXo/BNQM3MzMzMbE1AH4XrUbieTEAK16NwPWpLQOF6FK5HAUpA16NwPQoXSUBcj8L1KNxHQJqZmZmZGUdA",
            "dtype": "f8"
           },
           "yaxis": "y"
          },
          {
           "hovertemplate": "Type=Actual_Demand<br>Settlement_Day=Wed 17/09/2025<br>Settlement_Period=%{x}<br>Volume=%{y}<extra></extra>",
           "legendgroup": "Actual_Demand",
           "line": {
            "color": "#e34a21",
            "dash": "solid"
           },
           "marker": {
            "symbol": "circle"
           },
           "mode": "lines",
           "name": "Actual_Demand",
           "orientation": "v",
           "showlegend": true,
           "type": "scatter",
           "x": {
            "bdata": "AQIDBAUGBwgJCgsMDQ4PEBESExQVFhcYGRobHB0eHyAhIiMkJSYnKCkqKywtLi8w",
            "dtype": "i1"
           },
           "xaxis": "x",
           "y": {
            "bdata": "exSuR+HaR0DD9Shcj6JHQJqZmZmZ2UdApHA9CtcDR0AzMzMzMzNHQLgehetR+EZAAAAAAAAgR0AzMzMzM/NGQClcj8L1SEdApHA9CtdDR0AUrkfhetRHQJqZmZmZGUlAuB6F61FYTEC4HoXrUdhOQArXo3A9SlFAj8L1KFz/UkB7FK5H4VpUQOF6FK5H4VVAcT0K16PwVkAK16NwPQpXQLgehetRKFdAH4XrUbiOV0AfhetRuD5XQFyPwvUoLFdACtejcD3KVkAAAAAAAHBWQM3MzMzMLFZAKVyPwvUYVkBmZmZmZhZWQArXo3A9+lVA9ihcj8I1VkDXo3A9CjdWQNejcD0Kt1VAhetRuB7VVEAUrkfhehRTQFyPwvUoTFJACtejcD0qUUBmZmZmZtZQQB+F61G4flBA16NwPQo3UEAAAAAAAIBPQLgehetRmE5AFK5H4XrUTUDhehSuRyFNQD0K16NwvUtAmpmZmZl5SkDhehSuR0FJQB+F61G4vkhA",
            "dtype": "f8"
           },
           "yaxis": "y"
          },
          {
           "hovertemplate": "Type=Hedged Volume<br>Settlement_Day=Wed 17/09/2025<br>Settlement_Period=%{x}<br>Volume=%{y}<extra></extra>",
           "legendgroup": "Hedged Volume",
           "line": {
            "color": "#17a398",
            "dash": "solid"
           },
           "marker": {
            "symbol": "circle"
           },
           "mode": "lines",
           "name": "Hedged Volume",
           "orientation": "v",
           "showlegend": true,
           "type": "scatter",
           "x": {
            "bdata": "AQIDBAUGBwgJCgsMDQ4PEBESExQVFhcYGRobHB0eHyAhIiMkJSYnKCkqKywtLi8w",
            "dtype": "i1"
           },
           "xaxis": "x",
           "y": {
            "bdata": "cT0K16NwSUBxPQrXo3BJQHE9CtejcElAcT0K16NwSUBxPQrXo3BJQHE9CtejcElAcT0K16NwSUBxPQrXo3BJQHE9CtejcElAcT0K16NwSUBxPQrXo3BJQHE9CtejcElAcT0K16NwSUBxPQrXo3BJQHsUrkfhilVAexSuR+GKVUB7FK5H4YpVQHsUrkfhilVAexSuR+GKVUB7FK5H4YpVQHsUrkfhilVAexSuR+GKVUB7FK5H4YpVQHsUrkfhilVAexSuR+GKVUB7FK5H4YpVQHsUrkfhilVAexSuR+GKVUB7FK5H4YpVQHsUrkfhilVAexSuR+GKVUB7FK5H4YpVQHsUrkfhilVAexSuR+GKVUB7FK5H4YpVQHsUrkfhilVAexSuR+GKVUB7FK5H4YpVQHE9CtejcElAcT0K16NwSUBxPQrXo3BJQHE9CtejcElAcT0K16NwSUBxPQrXo3BJQHE9CtejcElAcT0K16NwSUBxPQrXo3BJQHE9CtejcElA",
            "dtype": "f8"
           },
           "yaxis": "y"
          }
         ],
         "name": "Wed 17/09/2025"
        },
        {
         "data": [
          {
           "hovertemplate": "Type=Purchased_Volume<br>Settlement_Day=Thu 18/09/2025<br>Settlement_Period=%{x}<br>Volume=%{y}<extra></extra>",
           "legendgroup": "Purchased_Volume",
           "line": {
            "color": "#00314a",
            "dash": "solid"
           },
           "marker": {
            "symbol": "circle"
           },
           "mode": "lines",
           "name": "Purchased_Volume",
           "orientation": "v",
           "showlegend": true,
           "type": "scatter",
           "x": {
            "bdata": "AQIDBAUGBwgJCgsMDQ4PEBESExQVFhcYGRobHB0eHyAhIiMkJSYnKCkqKywtLi8w",
            "dtype": "i1"
           },
           "xaxis": "x",
           "y": {
            "bdata": "pHA9CtdjR0CamZmZmRlHQFyPwvUoPEdASOF6FK6nRkAfhetRuB5HQGZmZmZm5kZAzczMzMysRkBI4XoUrmdGQArXo3A9ikZAPQrXo3C9RkAAAAAAAIBHQPYoXI/CtUhACtejcD0KTEB7FK5H4TpOQK5H4XoU3lBASOF6FK5XUkBmZmZmZkZUQFK4HoXrAVZAmpmZmZnpVkA9CtejcL1XQHsUrkfhuldA4XoUrkdBWEBI4XoUrndYQMP1KFyPMlhAXI/C9SgcWEB7FK5H4QpYQOxRuB6F61dAAAAAAABwV0CamZmZmVlXQGZmZmZmBldAzczMzMycVkD2KFyPwjVWQAAAAAAAIFVAAAAAAADAU0AfhetRuL5SQK5H4XoUflFACtejcD1aUEDNzMzMzAxQQEjhehSuR09AhetRuB6FTkBxPQrXo/BNQM3MzMzMbE1AH4XrUbieTEAK16NwPWpLQOF6FK5HAUpA16NwPQoXSUBSuB6F65FHQMP1KFyPokdA",
            "dtype": "f8"
           },
           "yaxis": "y"
          },
          {
           "hovertemplate": "Type=Actual_Demand<br>Settlement_Day=Thu 18/09/2025<br>Settlement_Period=%{x}<br>Volume=%{y}<extra></extra>",
           "legendgroup": "Actual_Demand",
           "line": {
            "color": "#e34a21",
            "dash": "solid"
           },
           "marker": {
            "symbol": "circle"
           },
           "mode": "lines",
           "name": "Actual_Demand",
           "orientation": "v",
           "showlegend": true,
           "type": "scatter",
           "x": {
            "bdata": "AQIDBAUGBwgJCgsMDQ4PEBESExQVFhcYGRobHB0eHyAhIiMkJSYnKCkqKywtLi8w",
            "dtype": "i1"
           },
           "xaxis": "x",
           "y": {
            "bdata": "16NwPQr3R0DNzMzMzIxHQDMzMzMzs0dAZmZmZmbGRkCuR+F6FE5HQDMzMzMzM0dAzczMzMxMR0DhehSuRyFHQHE9CtejEEdAPQrXo3D9RkBcj8L1KJxHQAAAAAAA4EhAKVyPwvVoTED2KFyPwvVOQFK4HoXrYVFAuB6F61EIU0BmZmZmZsZUQI/C9ShcT1ZAAAAAAABgV0DsUbgehStYQD0K16NwLVhAFK5H4Xp0WEBxPQrXo5BYQOxRuB6FW1hAmpmZmZlJWECPwvUoXP9XQClcj8L1uFdAj8L1KFxfV0DD9Shcj3JXQDMzMzMzM1dAUrgehevRVkCamZmZmalWQAAAAAAA0FVAuB6F61G4VEAfhetRuD5TQPYoXI/CNVJAhetRuB4VUUAfhetRuN5QQFyPwvUofFBAexSuR+H6T0ApXI/C9YhPQBSuR+F6lE5ASOF6FK6HTUBmZmZmZqZMQHE9CtejUEtAj8L1KFxPSkApXI/C9QhJQPYoXI/CdUhA",
            "dtype": "f8"
           },
           "yaxis": "y"
          },
          {
           "hovertemplate": "Type=Hedged Volume<br>Settlement_Day=Thu 18/09/2025<br>Settlement_Period=%{x}<br>Volume=%{y}<extra></extra>",
           "legendgroup": "Hedged Volume",
           "line": {
            "color": "#17a398",
            "dash": "solid"
           },
           "marker": {
            "symbol": "circle"
           },
           "mode": "lines",
           "name": "Hedged Volume",
           "orientation": "v",
           "showlegend": true,
           "type": "scatter",
           "x": {
            "bdata": "AQIDBAUGBwgJCgsMDQ4PEBESExQVFhcYGRobHB0eHyAhIiMkJSYnKCkqKywtLi8w",
            "dtype": "i1"
           },
           "xaxis": "x",
           "y": {
            "bdata": "MzMzMzNzSUAzMzMzM3NJQDMzMzMzc0lAMzMzMzNzSUAzMzMzM3NJQDMzMzMzc0lAMzMzMzNzSUAzMzMzM3NJQDMzMzMzc0lAMzMzMzNzSUAzMzMzM3NJQDMzMzMzc0lAMzMzMzNzSUAzMzMzM3NJQHsUrkfhilVAexSuR+GKVUB7FK5H4YpVQHsUrkfhilVAexSuR+GKVUB7FK5H4YpVQHsUrkfhilVAexSuR+GKVUB7FK5H4YpVQHsUrkfhilVAexSuR+GKVUB7FK5H4YpVQHsUrkfhilVAexSuR+GKVUB7FK5H4YpVQHsUrkfhilVAexSuR+GKVUB7FK5H4YpVQHsUrkfhilVAexSuR+GKVUB7FK5H4YpVQHsUrkfhilVAexSuR+GKVUB7FK5H4YpVQDMzMzMzc0lAMzMzMzNzSUAzMzMzM3NJQDMzMzMzc0lAMzMzMzNzSUAzMzMzM3NJQDMzMzMzc0lAMzMzMzNzSUAzMzMzM3NJQDMzMzMzc0lA",
            "dtype": "f8"
           },
           "yaxis": "y"
          }
         ],
         "name": "Thu 18/09/2025"
        }
       ],
       "layout": {
        "autosize": true,
        "font": {
         "color": "#00314a"
        },
        "legend": {
         "orientation": "h",
         "title": {
          "text": "Type"
         },
         "tracegroupgap": 0,
         "x": 0.5,
         "xanchor": "center",
         "y": 1,
         "yanchor": "bottom"
        },
        "paper_bgcolor": "white",
        "plot_bgcolor": "#dfdfdf",
        "sliders": [
         {
          "active": 0,
          "currentvalue": {
           "prefix": "Settlement_Day="
          },
          "len": 0.9,
          "pad": {
           "b": 10,
           "t": 60
          },
          "steps": [
           {
            "args": [
             [
              "Fri 01/08/2025"
             ],
             {
              "frame": {
               "duration": 0,
               "redraw": false
              },
              "fromcurrent": true,
              "mode": "immediate",
              "transition": {
               "duration": 0,
               "easing": "linear"
              }
             }
            ],
            "label": "Fri 01/08/2025",
            "method": "animate"
           },
           {
            "args": [
             [
              "Sat 02/08/2025"
             ],
             {
              "frame": {
               "duration": 0,
               "redraw": false
              },
              "fromcurrent": true,
              "mode": "immediate",
              "transition": {
               "duration": 0,
               "easing": "linear"
              }
             }
            ],
            "label": "Sat 02/08/2025",
            "method": "animate"
           },
           {
            "args": [
             [
              "Sun 03/08/2025"
             ],
             {
              "frame": {
               "duration": 0,
               "redraw": false
              },
              "fromcurrent": true,
              "mode": "immediate",
              "transition": {
               "duration": 0,
               "easing": "linear"
              }
             }
            ],
            "label": "Sun 03/08/2025",
            "method": "animate"
           },
           {
            "args": [
             [
              "Mon 04/08/2025"
             ],
             {
              "frame": {
               "duration": 0,
               "redraw": false
              },
              "fromcurrent": true,
              "mode": "immediate",
              "transition": {
               "duration": 0,
               "easing": "linear"
              }
             }
            ],
            "label": "Mon 04/08/2025",
            "method": "animate"
           },
           {
            "args": [
             [
              "Tue 05/08/2025"
             ],
             {
              "frame": {
               "duration": 0,
               "redraw": false
              },
              "fromcurrent": true,
              "mode": "immediate",
              "transition": {
               "duration": 0,
               "easing": "linear"
              }
             }
            ],
            "label": "Tue 05/08/2025",
            "method": "animate"
           },
           {
            "args": [
             [
              "Wed 06/08/2025"
             ],
             {
              "frame": {
               "duration": 0,
               "redraw": false
              },
              "fromcurrent": true,
              "mode": "immediate",
              "transition": {
               "duration": 0,
               "easing": "linear"
              }
             }
            ],
            "label": "Wed 06/08/2025",
            "method": "animate"
           },
           {
            "args": [
             [
              "Thu 07/08/2025"
             ],
             {
              "frame": {
               "duration": 0,
               "redraw": false
              },
              "fromcurrent": true,
              "mode": "immediate",
              "transition": {
               "duration": 0,
               "easing": "linear"
              }
             }
            ],
            "label": "Thu 07/08/2025",
            "method": "animate"
           },
           {
            "args": [
             [
              "Fri 08/08/2025"
             ],
             {
              "frame": {
               "duration": 0,
               "redraw": false
              },
              "fromcurrent": true,
              "mode": "immediate",
              "transition": {
               "duration": 0,
               "easing": "linear"
              }
             }
            ],
            "label": "Fri 08/08/2025",
            "method": "animate"
           },
           {
            "args": [
             [
              "Sat 09/08/2025"
             ],
             {
              "frame": {
               "duration": 0,
               "redraw": false
              },
              "fromcurrent": true,
              "mode": "immediate",
              "transition": {
               "duration": 0,
               "easing": "linear"
              }
             }
            ],
            "label": "Sat 09/08/2025",
            "method": "animate"
           },
           {
            "args": [
             [
              "Sun 10/08/2025"
             ],
             {
              "frame": {
               "duration": 0,
               "redraw": false
              },
              "fromcurrent": true,
              "mode": "immediate",
              "transition": {
               "duration": 0,
               "easing": "linear"
              }
             }
            ],
            "label": "Sun 10/08/2025",
            "method": "animate"
           },
           {
            "args": [
             [
              "Mon 11/08/2025"
             ],
             {
              "frame": {
               "duration": 0,
               "redraw": false
              },
              "fromcurrent": true,
              "mode": "immediate",
              "transition": {
               "duration": 0,
               "easing": "linear"
              }
             }
            ],
            "label": "Mon 11/08/2025",
            "method": "animate"
           },
           {
            "args": [
             [
              "Tue 12/08/2025"
             ],
             {
              "frame": {
               "duration": 0,
               "redraw": false
              },
              "fromcurrent": true,
              "mode": "immediate",
              "transition": {
               "duration": 0,
               "easing": "linear"
              }
             }
            ],
            "label": "Tue 12/08/2025",
            "method": "animate"
           },
           {
            "args": [
             [
              "Wed 13/08/2025"
             ],
             {
              "frame": {
               "duration": 0,
               "redraw": false
              },
              "fromcurrent": true,
              "mode": "immediate",
              "transition": {
               "duration": 0,
               "easing": "linear"
              }
             }
            ],
            "label": "Wed 13/08/2025",
            "method": "animate"
           },
           {
            "args": [
             [
              "Thu 14/08/2025"
             ],
             {
              "frame": {
               "duration": 0,
               "redraw": false
              },
              "fromcurrent": true,
              "mode": "immediate",
              "transition": {
               "duration": 0,
               "easing": "linear"
              }
             }
            ],
            "label": "Thu 14/08/2025",
            "method": "animate"
           },
           {
            "args": [
             [
              "Fri 15/08/2025"
             ],
             {
              "frame": {
               "duration": 0,
               "redraw": false
              },
              "fromcurrent": true,
              "mode": "immediate",
              "transition": {
               "duration": 0,
               "easing": "linear"
              }
             }
            ],
            "label": "Fri 15/08/2025",
            "method": "animate"
           },
           {
            "args": [
             [
              "Sat 16/08/2025"
             ],
             {
              "frame": {
               "duration": 0,
               "redraw": false
              },
              "fromcurrent": true,
              "mode": "immediate",
              "transition": {
               "duration": 0,
               "easing": "linear"
              }
             }
            ],
            "label": "Sat 16/08/2025",
            "method": "animate"
           },
           {
            "args": [
             [
              "Sun 17/08/2025"
             ],
             {
              "frame": {
               "duration": 0,
               "redraw": false
              },
              "fromcurrent": true,
              "mode": "immediate",
              "transition": {
               "duration": 0,
               "easing": "linear"
              }
             }
            ],
            "label": "Sun 17/08/2025",
            "method": "animate"
           },
           {
            "args": [
             [
              "Mon 18/08/2025"
             ],
             {
              "frame": {
               "duration": 0,
               "redraw": false
              },
              "fromcurrent": true,
              "mode": "immediate",
              "transition": {
               "duration": 0,
               "easing": "linear"
              }
             }
            ],
            "label": "Mon 18/08/2025",
            "method": "animate"
           },
           {
            "args": [
             [
              "Tue 19/08/2025"
             ],
             {
              "frame": {
               "duration": 0,
               "redraw": false
              },
              "fromcurrent": true,
              "mode": "immediate",
              "transition": {
               "duration": 0,
               "easing": "linear"
              }
             }
            ],
            "label": "Tue 19/08/2025",
            "method": "animate"
           },
           {
            "args": [
             [
              "Wed 20/08/2025"
             ],
             {
              "frame": {
               "duration": 0,
               "redraw": false
              },
              "fromcurrent": true,
              "mode": "immediate",
              "transition": {
               "duration": 0,
               "easing": "linear"
              }
             }
            ],
            "label": "Wed 20/08/2025",
            "method": "animate"
           },
           {
            "args": [
             [
              "Thu 21/08/2025"
             ],
             {
              "frame": {
               "duration": 0,
               "redraw": false
              },
              "fromcurrent": true,
              "mode": "immediate",
              "transition": {
               "duration": 0,
               "easing": "linear"
              }
             }
            ],
            "label": "Thu 21/08/2025",
            "method": "animate"
           },
           {
            "args": [
             [
              "Fri 22/08/2025"
             ],
             {
              "frame": {
               "duration": 0,
               "redraw": false
              },
              "fromcurrent": true,
              "mode": "immediate",
              "transition": {
               "duration": 0,
               "easing": "linear"
              }
             }
            ],
            "label": "Fri 22/08/2025",
            "method": "animate"
           },
           {
            "args": [
             [
              "Sat 23/08/2025"
             ],
             {
              "frame": {
               "duration": 0,
               "redraw": false
              },
              "fromcurrent": true,
              "mode": "immediate",
              "transition": {
               "duration": 0,
               "easing": "linear"
              }
             }
            ],
            "label": "Sat 23/08/2025",
            "method": "animate"
           },
           {
            "args": [
             [
              "Sun 24/08/2025"
             ],
             {
              "frame": {
               "duration": 0,
               "redraw": false
              },
              "fromcurrent": true,
              "mode": "immediate",
              "transition": {
               "duration": 0,
               "easing": "linear"
              }
             }
            ],
            "label": "Sun 24/08/2025",
            "method": "animate"
           },
           {
            "args": [
             [
              "Mon 25/08/2025"
             ],
             {
              "frame": {
               "duration": 0,
               "redraw": false
              },
              "fromcurrent": true,
              "mode": "immediate",
              "transition": {
               "duration": 0,
               "easing": "linear"
              }
             }
            ],
            "label": "Mon 25/08/2025",
            "method": "animate"
           },
           {
            "args": [
             [
              "Tue 26/08/2025"
             ],
             {
              "frame": {
               "duration": 0,
               "redraw": false
              },
              "fromcurrent": true,
              "mode": "immediate",
              "transition": {
               "duration": 0,
               "easing": "linear"
              }
             }
            ],
            "label": "Tue 26/08/2025",
            "method": "animate"
           },
           {
            "args": [
             [
              "Wed 27/08/2025"
             ],
             {
              "frame": {
               "duration": 0,
               "redraw": false
              },
              "fromcurrent": true,
              "mode": "immediate",
              "transition": {
               "duration": 0,
               "easing": "linear"
              }
             }
            ],
            "label": "Wed 27/08/2025",
            "method": "animate"
           },
           {
            "args": [
             [
              "Thu 28/08/2025"
             ],
             {
              "frame": {
               "duration": 0,
               "redraw": false
              },
              "fromcurrent": true,
              "mode": "immediate",
              "transition": {
               "duration": 0,
               "easing": "linear"
              }
             }
            ],
            "label": "Thu 28/08/2025",
            "method": "animate"
           },
           {
            "args": [
             [
              "Fri 29/08/2025"
             ],
             {
              "frame": {
               "duration": 0,
               "redraw": false
              },
              "fromcurrent": true,
              "mode": "immediate",
              "transition": {
               "duration": 0,
               "easing": "linear"
              }
             }
            ],
            "label": "Fri 29/08/2025",
            "method": "animate"
           },
           {
            "args": [
             [
              "Sat 30/08/2025"
             ],
             {
              "frame": {
               "duration": 0,
               "redraw": false
              },
              "fromcurrent": true,
              "mode": "immediate",
              "transition": {
               "duration": 0,
               "easing": "linear"
              }
             }
            ],
            "label": "Sat 30/08/2025",
            "method": "animate"
           },
           {
            "args": [
             [
              "Sun 31/08/2025"
             ],
             {
              "frame": {
               "duration": 0,
               "redraw": false
              },
              "fromcurrent": true,
              "mode": "immediate",
              "transition": {
               "duration": 0,
               "easing": "linear"
              }
             }
            ],
            "label": "Sun 31/08/2025",
            "method": "animate"
           },
           {
            "args": [
             [
              "Mon 01/09/2025"
             ],
             {
              "frame": {
               "duration": 0,
               "redraw": false
              },
              "fromcurrent": true,
              "mode": "immediate",
              "transition": {
               "duration": 0,
               "easing": "linear"
              }
             }
            ],
            "label": "Mon 01/09/2025",
            "method": "animate"
           },
           {
            "args": [
             [
              "Tue 02/09/2025"
             ],
             {
              "frame": {
               "duration": 0,
               "redraw": false
              },
              "fromcurrent": true,
              "mode": "immediate",
              "transition": {
               "duration": 0,
               "easing": "linear"
              }
             }
            ],
            "label": "Tue 02/09/2025",
            "method": "animate"
           },
           {
            "args": [
             [
              "Wed 03/09/2025"
             ],
             {
              "frame": {
               "duration": 0,
               "redraw": false
              },
              "fromcurrent": true,
              "mode": "immediate",
              "transition": {
               "duration": 0,
               "easing": "linear"
              }
             }
            ],
            "label": "Wed 03/09/2025",
            "method": "animate"
           },
           {
            "args": [
             [
              "Thu 04/09/2025"
             ],
             {
              "frame": {
               "duration": 0,
               "redraw": false
              },
              "fromcurrent": true,
              "mode": "immediate",
              "transition": {
               "duration": 0,
               "easing": "linear"
              }
             }
            ],
            "label": "Thu 04/09/2025",
            "method": "animate"
           },
           {
            "args": [
             [
              "Fri 05/09/2025"
             ],
             {
              "frame": {
               "duration": 0,
               "redraw": false
              },
              "fromcurrent": true,
              "mode": "immediate",
              "transition": {
               "duration": 0,
               "easing": "linear"
              }
             }
            ],
            "label": "Fri 05/09/2025",
            "method": "animate"
           },
           {
            "args": [
             [
              "Sat 06/09/2025"
             ],
             {
              "frame": {
               "duration": 0,
               "redraw": false
              },
              "fromcurrent": true,
              "mode": "immediate",
              "transition": {
               "duration": 0,
               "easing": "linear"
              }
             }
            ],
            "label": "Sat 06/09/2025",
            "method": "animate"
           },
           {
            "args": [
             [
              "Sun 07/09/2025"
             ],
             {
              "frame": {
               "duration": 0,
               "redraw": false
              },
              "fromcurrent": true,
              "mode": "immediate",
              "transition": {
               "duration": 0,
               "easing": "linear"
              }
             }
            ],
            "label": "Sun 07/09/2025",
            "method": "animate"
           },
           {
            "args": [
             [
              "Mon 08/09/2025"
             ],
             {
              "frame": {
               "duration": 0,
               "redraw": false
              },
              "fromcurrent": true,
              "mode": "immediate",
              "transition": {
               "duration": 0,
               "easing": "linear"
              }
             }
            ],
            "label": "Mon 08/09/2025",
            "method": "animate"
           },
           {
            "args": [
             [
              "Tue 09/09/2025"
             ],
             {
              "frame": {
               "duration": 0,
               "redraw": false
              },
              "fromcurrent": true,
              "mode": "immediate",
              "transition": {
               "duration": 0,
               "easing": "linear"
              }
             }
            ],
            "label": "Tue 09/09/2025",
            "method": "animate"
           },
           {
            "args": [
             [
              "Wed 10/09/2025"
             ],
             {
              "frame": {
               "duration": 0,
               "redraw": false
              },
              "fromcurrent": true,
              "mode": "immediate",
              "transition": {
               "duration": 0,
               "easing": "linear"
              }
             }
            ],
            "label": "Wed 10/09/2025",
            "method": "animate"
           },
           {
            "args": [
             [
              "Thu 11/09/2025"
             ],
             {
              "frame": {
               "duration": 0,
               "redraw": false
              },
              "fromcurrent": true,
              "mode": "immediate",
              "transition": {
               "duration": 0,
               "easing": "linear"
              }
             }
            ],
            "label": "Thu 11/09/2025",
            "method": "animate"
           },
           {
            "args": [
             [
              "Fri 12/09/2025"
             ],
             {
              "frame": {
               "duration": 0,
               "redraw": false
              },
              "fromcurrent": true,
              "mode": "immediate",
              "transition": {
               "duration": 0,
               "easing": "linear"
              }
             }
            ],
            "label": "Fri 12/09/2025",
            "method": "animate"
           },
           {
            "args": [
             [
              "Sat 13/09/2025"
             ],
             {
              "frame": {
               "duration": 0,
               "redraw": false
              },
              "fromcurrent": true,
              "mode": "immediate",
              "transition": {
               "duration": 0,
               "easing": "linear"
              }
             }
            ],
            "label": "Sat 13/09/2025",
            "method": "animate"
           },
           {
            "args": [
             [
              "Sun 14/09/2025"
             ],
             {
              "frame": {
               "duration": 0,
               "redraw": false
              },
              "fromcurrent": true,
              "mode": "immediate",
              "transition": {
               "duration": 0,
               "easing": "linear"
              }
             }
            ],
            "label": "Sun 14/09/2025",
            "method": "animate"
           },
           {
            "args": [
             [
              "Mon 15/09/2025"
             ],
             {
              "frame": {
               "duration": 0,
               "redraw": false
              },
              "fromcurrent": true,
              "mode": "immediate",
              "transition": {
               "duration": 0,
               "easing": "linear"
              }
             }
            ],
            "label": "Mon 15/09/2025",
            "method": "animate"
           },
           {
            "args": [
             [
              "Tue 16/09/2025"
             ],
             {
              "frame": {
               "duration": 0,
               "redraw": false
              },
              "fromcurrent": true,
              "mode": "immediate",
              "transition": {
               "duration": 0,
               "easing": "linear"
              }
             }
            ],
            "label": "Tue 16/09/2025",
            "method": "animate"
           },
           {
            "args": [
             [
              "Wed 17/09/2025"
             ],
             {
              "frame": {
               "duration": 0,
               "redraw": false
              },
              "fromcurrent": true,
              "mode": "immediate",
              "transition": {
               "duration": 0,
               "easing": "linear"
              }
             }
            ],
            "label": "Wed 17/09/2025",
            "method": "animate"
           },
           {
            "args": [
             [
              "Thu 18/09/2025"
             ],
             {
              "frame": {
               "duration": 0,
               "redraw": false
              },
              "fromcurrent": true,
              "mode": "immediate",
              "transition": {
               "duration": 0,
               "easing": "linear"
              }
             }
            ],
            "label": "Thu 18/09/2025",
            "method": "animate"
           }
          ],
          "x": 0.1,
          "xanchor": "left",
          "y": 0,
          "yanchor": "top"
         }
        ],
        "template": {
         "data": {
          "bar": [
           {
            "error_x": {
             "color": "#2a3f5f"
            },
            "error_y": {
             "color": "#2a3f5f"
            },
            "marker": {
             "line": {
              "color": "#E5ECF6",
              "width": 0.5
             },
             "pattern": {
              "fillmode": "overlay",
              "size": 10,
              "solidity": 0.2
             }
            },
            "type": "bar"
           }
          ],
          "barpolar": [
           {
            "marker": {
             "line": {
              "color": "#E5ECF6",
              "width": 0.5
             },
             "pattern": {
              "fillmode": "overlay",
              "size": 10,
              "solidity": 0.2
             }
            },
            "type": "barpolar"
           }
          ],
          "carpet": [
           {
            "aaxis": {
             "endlinecolor": "#2a3f5f",
             "gridcolor": "white",
             "linecolor": "white",
             "minorgridcolor": "white",
             "startlinecolor": "#2a3f5f"
            },
            "baxis": {
             "endlinecolor": "#2a3f5f",
             "gridcolor": "white",
             "linecolor": "white",
             "minorgridcolor": "white",
             "startlinecolor": "#2a3f5f"
            },
            "type": "carpet"
           }
          ],
          "choropleth": [
           {
            "colorbar": {
             "outlinewidth": 0,
             "ticks": ""
            },
            "type": "choropleth"
           }
          ],
          "contour": [
           {
            "colorbar": {
             "outlinewidth": 0,
             "ticks": ""
            },
            "colorscale": [
             [
              0,
              "#0d0887"
             ],
             [
              0.1111111111111111,
              "#46039f"
             ],
             [
              0.2222222222222222,
              "#7201a8"
             ],
             [
              0.3333333333333333,
              "#9c179e"
             ],
             [
              0.4444444444444444,
              "#bd3786"
             ],
             [
              0.5555555555555556,
              "#d8576b"
             ],
             [
              0.6666666666666666,
              "#ed7953"
             ],
             [
              0.7777777777777778,
              "#fb9f3a"
             ],
             [
              0.8888888888888888,
              "#fdca26"
             ],
             [
              1,
              "#f0f921"
             ]
            ],
            "type": "contour"
           }
          ],
          "contourcarpet": [
           {
            "colorbar": {
             "outlinewidth": 0,
             "ticks": ""
            },
            "type": "contourcarpet"
           }
          ],
          "heatmap": [
           {
            "colorbar": {
             "outlinewidth": 0,
             "ticks": ""
            },
            "colorscale": [
             [
              0,
              "#0d0887"
             ],
             [
              0.1111111111111111,
              "#46039f"
             ],
             [
              0.2222222222222222,
              "#7201a8"
             ],
             [
              0.3333333333333333,
              "#9c179e"
             ],
             [
              0.4444444444444444,
              "#bd3786"
             ],
             [
              0.5555555555555556,
              "#d8576b"
             ],
             [
              0.6666666666666666,
              "#ed7953"
             ],
             [
              0.7777777777777778,
              "#fb9f3a"
             ],
             [
              0.8888888888888888,
              "#fdca26"
             ],
             [
              1,
              "#f0f921"
             ]
            ],
            "type": "heatmap"
           }
          ],
          "histogram": [
           {
            "marker": {
             "pattern": {
              "fillmode": "overlay",
              "size": 10,
              "solidity": 0.2
             }
            },
            "type": "histogram"
           }
          ],
          "histogram2d": [
           {
            "colorbar": {
             "outlinewidth": 0,
             "ticks": ""
            },
            "colorscale": [
             [
              0,
              "#0d0887"
             ],
             [
              0.1111111111111111,
              "#46039f"
             ],
             [
              0.2222222222222222,
              "#7201a8"
             ],
             [
              0.3333333333333333,
              "#9c179e"
             ],
             [
              0.4444444444444444,
              "#bd3786"
             ],
             [
              0.5555555555555556,
              "#d8576b"
             ],
             [
              0.6666666666666666,
              "#ed7953"
             ],
             [
              0.7777777777777778,
              "#fb9f3a"
             ],
             [
              0.8888888888888888,
              "#fdca26"
             ],
             [
              1,
              "#f0f921"
             ]
            ],
            "type": "histogram2d"
           }
          ],
          "histogram2dcontour": [
           {
            "colorbar": {
             "outlinewidth": 0,
             "ticks": ""
            },
            "colorscale": [
             [
              0,
              "#0d0887"
             ],
             [
              0.1111111111111111,
              "#46039f"
             ],
             [
              0.2222222222222222,
              "#7201a8"
             ],
             [
              0.3333333333333333,
              "#9c179e"
             ],
             [
              0.4444444444444444,
              "#bd3786"
             ],
             [
              0.5555555555555556,
              "#d8576b"
             ],
             [
              0.6666666666666666,
              "#ed7953"
             ],
             [
              0.7777777777777778,
              "#fb9f3a"
             ],
             [
              0.8888888888888888,
              "#fdca26"
             ],
             [
              1,
              "#f0f921"
             ]
            ],
            "type": "histogram2dcontour"
           }
          ],
          "mesh3d": [
           {
            "colorbar": {
             "outlinewidth": 0,
             "ticks": ""
            },
            "type": "mesh3d"
           }
          ],
          "parcoords": [
           {
            "line": {
             "colorbar": {
              "outlinewidth": 0,
              "ticks": ""
             }
            },
            "type": "parcoords"
           }
          ],
          "pie": [
           {
            "automargin": true,
            "type": "pie"
           }
          ],
          "scatter": [
           {
            "fillpattern": {
             "fillmode": "overlay",
             "size": 10,
             "solidity": 0.2
            },
            "type": "scatter"
           }
          ],
          "scatter3d": [
           {
            "line": {
             "colorbar": {
              "outlinewidth": 0,
              "ticks": ""
             }
            },
            "marker": {
             "colorbar": {
              "outlinewidth": 0,
              "ticks": ""
             }
            },
            "type": "scatter3d"
           }
          ],
          "scattercarpet": [
           {
            "marker": {
             "colorbar": {
              "outlinewidth": 0,
              "ticks": ""
             }
            },
            "type": "scattercarpet"
           }
          ],
          "scattergeo": [
           {
            "marker": {
             "colorbar": {
              "outlinewidth": 0,
              "ticks": ""
             }
            },
            "type": "scattergeo"
           }
          ],
          "scattergl": [
           {
            "marker": {
             "colorbar": {
              "outlinewidth": 0,
              "ticks": ""
             }
            },
            "type": "scattergl"
           }
          ],
          "scattermap": [
           {
            "marker": {
             "colorbar": {
              "outlinewidth": 0,
              "ticks": ""
             }
            },
            "type": "scattermap"
           }
          ],
          "scattermapbox": [
           {
            "marker": {
             "colorbar": {
              "outlinewidth": 0,
              "ticks": ""
             }
            },
            "type": "scattermapbox"
           }
          ],
          "scatterpolar": [
           {
            "marker": {
             "colorbar": {
              "outlinewidth": 0,
              "ticks": ""
             }
            },
            "type": "scatterpolar"
           }
          ],
          "scatterpolargl": [
           {
            "marker": {
             "colorbar": {
              "outlinewidth": 0,
              "ticks": ""
             }
            },
            "type": "scatterpolargl"
           }
          ],
          "scatterternary": [
           {
            "marker": {
             "colorbar": {
              "outlinewidth": 0,
              "ticks": ""
             }
            },
            "type": "scatterternary"
           }
          ],
          "surface": [
           {
            "colorbar": {
             "outlinewidth": 0,
             "ticks": ""
            },
            "colorscale": [
             [
              0,
              "#0d0887"
             ],
             [
              0.1111111111111111,
              "#46039f"
             ],
             [
              0.2222222222222222,
              "#7201a8"
             ],
             [
              0.3333333333333333,
              "#9c179e"
             ],
             [
              0.4444444444444444,
              "#bd3786"
             ],
             [
              0.5555555555555556,
              "#d8576b"
             ],
             [
              0.6666666666666666,
              "#ed7953"
             ],
             [
              0.7777777777777778,
              "#fb9f3a"
             ],
             [
              0.8888888888888888,
              "#fdca26"
             ],
             [
              1,
              "#f0f921"
             ]
            ],
            "type": "surface"
           }
          ],
          "table": [
           {
            "cells": {
             "fill": {
              "color": "#EBF0F8"
             },
             "line": {
              "color": "white"
             }
            },
            "header": {
             "fill": {
              "color": "#C8D4E3"
             },
             "line": {
              "color": "white"
             }
            },
            "type": "table"
           }
          ]
         },
         "layout": {
          "annotationdefaults": {
           "arrowcolor": "#2a3f5f",
           "arrowhead": 0,
           "arrowwidth": 1
          },
          "autotypenumbers": "strict",
          "coloraxis": {
           "colorbar": {
            "outlinewidth": 0,
            "ticks": ""
           }
          },
          "colorscale": {
           "diverging": [
            [
             0,
             "#8e0152"
            ],
            [
             0.1,
             "#c51b7d"
            ],
            [
             0.2,
             "#de77ae"
            ],
            [
             0.3,
             "#f1b6da"
            ],
            [
             0.4,
             "#fde0ef"
            ],
            [
             0.5,
             "#f7f7f7"
            ],
            [
             0.6,
             "#e6f5d0"
            ],
            [
             0.7,
             "#b8e186"
            ],
            [
             0.8,
             "#7fbc41"
            ],
            [
             0.9,
             "#4d9221"
            ],
            [
             1,
             "#276419"
            ]
           ],
           "sequential": [
            [
             0,
             "#0d0887"
            ],
            [
             0.1111111111111111,
             "#46039f"
            ],
            [
             0.2222222222222222,
             "#7201a8"
            ],
            [
             0.3333333333333333,
             "#9c179e"
            ],
            [
             0.4444444444444444,
             "#bd3786"
            ],
            [
             0.5555555555555556,
             "#d8576b"
            ],
            [
             0.6666666666666666,
             "#ed7953"
            ],
            [
             0.7777777777777778,
             "#fb9f3a"
            ],
            [
             0.8888888888888888,
             "#fdca26"
            ],
            [
             1,
             "#f0f921"
            ]
           ],
           "sequentialminus": [
            [
             0,
             "#0d0887"
            ],
            [
             0.1111111111111111,
             "#46039f"
            ],
            [
             0.2222222222222222,
             "#7201a8"
            ],
            [
             0.3333333333333333,
             "#9c179e"
            ],
            [
             0.4444444444444444,
             "#bd3786"
            ],
            [
             0.5555555555555556,
             "#d8576b"
            ],
            [
             0.6666666666666666,
             "#ed7953"
            ],
            [
             0.7777777777777778,
             "#fb9f3a"
            ],
            [
             0.8888888888888888,
             "#fdca26"
            ],
            [
             1,
             "#f0f921"
            ]
           ]
          },
          "colorway": [
           "#636efa",
           "#EF553B",
           "#00cc96",
           "#ab63fa",
           "#FFA15A",
           "#19d3f3",
           "#FF6692",
           "#B6E880",
           "#FF97FF",
           "#FECB52"
          ],
          "font": {
           "color": "#2a3f5f"
          },
          "geo": {
           "bgcolor": "white",
           "lakecolor": "white",
           "landcolor": "#E5ECF6",
           "showlakes": true,
           "showland": true,
           "subunitcolor": "white"
          },
          "hoverlabel": {
           "align": "left"
          },
          "hovermode": "closest",
          "mapbox": {
           "style": "light"
          },
          "paper_bgcolor": "white",
          "plot_bgcolor": "#E5ECF6",
          "polar": {
           "angularaxis": {
            "gridcolor": "white",
            "linecolor": "white",
            "ticks": ""
           },
           "bgcolor": "#E5ECF6",
           "radialaxis": {
            "gridcolor": "white",
            "linecolor": "white",
            "ticks": ""
           }
          },
          "scene": {
           "xaxis": {
            "backgroundcolor": "#E5ECF6",
            "gridcolor": "white",
            "gridwidth": 2,
            "linecolor": "white",
            "showbackground": true,
            "ticks": "",
            "zerolinecolor": "white"
           },
           "yaxis": {
            "backgroundcolor": "#E5ECF6",
            "gridcolor": "white",
            "gridwidth": 2,
            "linecolor": "white",
            "showbackground": true,
            "ticks": "",
            "zerolinecolor": "white"
           },
           "zaxis": {
            "backgroundcolor": "#E5ECF6",
            "gridcolor": "white",
            "gridwidth": 2,
            "linecolor": "white",
            "showbackground": true,
            "ticks": "",
            "zerolinecolor": "white"
           }
          },
          "shapedefaults": {
           "line": {
            "color": "#2a3f5f"
           }
          },
          "ternary": {
           "aaxis": {
            "gridcolor": "white",
            "linecolor": "white",
            "ticks": ""
           },
           "baxis": {
            "gridcolor": "white",
            "linecolor": "white",
            "ticks": ""
           },
           "bgcolor": "#E5ECF6",
           "caxis": {
            "gridcolor": "white",
            "linecolor": "white",
            "ticks": ""
           }
          },
          "title": {
           "x": 0.05
          },
          "xaxis": {
           "automargin": true,
           "gridcolor": "white",
           "linecolor": "white",
           "ticks": "",
           "title": {
            "standoff": 15
           },
           "zerolinecolor": "white",
           "zerolinewidth": 2
          },
          "yaxis": {
           "automargin": true,
           "gridcolor": "white",
           "linecolor": "white",
           "ticks": "",
           "title": {
            "standoff": 15
           },
           "zerolinecolor": "white",
           "zerolinewidth": 2
          }
         }
        },
        "title": {
         "font": {
          "color": "#00314a"
         },
         "text": "Power Volume Summary",
         "x": 0.5
        },
        "updatemenus": [
         {
          "buttons": [
           {
            "args": [
             null,
             {
              "frame": {
               "duration": 500,
               "redraw": false
              },
              "fromcurrent": true,
              "mode": "immediate",
              "transition": {
               "duration": 500,
               "easing": "linear"
              }
             }
            ],
            "label": "&#9654;",
            "method": "animate"
           },
           {
            "args": [
             [
              null
             ],
             {
              "frame": {
               "duration": 0,
               "redraw": false
              },
              "fromcurrent": true,
              "mode": "immediate",
              "transition": {
               "duration": 0,
               "easing": "linear"
              }
             }
            ],
            "label": "&#9724;",
            "method": "animate"
           }
          ],
          "direction": "left",
          "pad": {
           "r": 10,
           "t": 70
          },
          "showactive": false,
          "type": "buttons",
          "x": 0.1,
          "xanchor": "right",
          "y": 0,
          "yanchor": "top"
         }
        ],
        "xaxis": {
         "anchor": "y",
         "autorange": true,
         "domain": [
          0,
          1
         ],
         "gridcolor": "white",
         "range": [
          1,
          48
         ],
         "title": {
          "text": "Settlement Period"
         },
         "type": "linear"
        },
        "yaxis": {
         "anchor": "x",
         "autorange": true,
         "domain": [
          0,
          1
         ],
         "gridcolor": "white",
         "range": [
          40.79055555555555,
          97.37944444444445
         ],
         "title": {
          "text": "Volume"
         },
         "type": "linear"
        }
       }
      },
      "image/png": "[encoded data removed]"
     },
     "metadata": {},
     "output_type": "display_data"
    }
   ],
   "source": [
    "# Set custom colours (must match order in data)\n",
    "colour_map = {\n",
    "    \"Purchased_Volume\": \"#00314a\",   # navy\n",
    "    \"Actual_Demand\": \"#e34a21\",      # orange\n",
    "    \"Hedged Volume\": \"#17a398\"       # turquoise\n",
    "}\n",
    "\n",
    "# Create the figure\n",
    "power_vol_fig = px.line(\n",
    "    power_vol_unpivot,\n",
    "    x=\"Settlement_Period\",\n",
    "    y=\"Volume\",\n",
    "    color=\"Type\",\n",
    "    animation_frame=\"Settlement_Day\",\n",
    "    color_discrete_map=colour_map,\n",
    "    title=\"Power Volume Summary\"\n",
    ")\n",
    "\n",
    "# Update layout (everything in one call)\n",
    "power_vol_fig.update_layout(\n",
    "    title={\"x\": 0.5, \"font\": {\"color\": \"#00314a\"}},\n",
    "    plot_bgcolor=\"#dfdfdf\",\n",
    "    paper_bgcolor=\"white\",\n",
    "    font={\"color\": \"#00314a\"},\n",
    "    legend={\"orientation\": \"h\",\"yanchor\": \"bottom\",\"y\": 1.0,\"xanchor\": \"center\",\"x\": 0.5},\n",
    "    xaxis={\"title\": \"Settlement Period\",\"gridcolor\": \"white\"},\n",
    "    yaxis={\"title\": \"Volume\",\"gridcolor\": \"white\"}\n",
    ")\n",
    "\n",
    "power_vol_fig.show()\n"
   ]
  },
  {
   "cell_type": "code",
   "execution_count": 23,
   "id": "a794c7c1-0119-4148-b40b-c7653872ef20",
   "metadata": {},
   "outputs": [
    {
     "name": "stdout",
     "output_type": "stream",
     "text": [
      "Exported to: C:\\Users\\steve\\OneDrive\\Personal Python Projects\\Training\\Plotly\\power_vol.html\n"
     ]
    }
   ],
   "source": [
    "import os\n",
    "\n",
    "# Set filename\n",
    "filename = \"power_vol.html\"\n",
    "\n",
    "# Get full path to where the file will be saved\n",
    "full_path = os.path.abspath(filename)\n",
    "\n",
    "# Export to HTML\n",
    "power_vol_fig.write_html(full_path)\n",
    "\n",
    "# Print the full file path\n",
    "print(f\"Exported to: {full_path}\")\n"
   ]
  },
  {
   "cell_type": "code",
   "execution_count": null,
   "id": "8f47392d-6c23-42a0-83d9-7cf1af6389a7",
   "metadata": {},
   "outputs": [],
   "source": []
  },
  {
   "cell_type": "code",
   "execution_count": null,
   "id": "8f4c8fc6-7678-4afc-96c8-3b495c4a9636",
   "metadata": {
    "jupyter": {
     "source_hidden": true
    }
   },
   "outputs": [],
   "source": []
  },
  {
   "cell_type": "code",
   "execution_count": null,
   "id": "1387afe9-8cda-4c22-be43-5d2e9b7cca73",
   "metadata": {},
   "outputs": [],
   "source": []
  },
  {
   "cell_type": "code",
   "execution_count": 38,
   "id": "d18bd015-3743-4495-bc13-8895ab596a09",
   "metadata": {},
   "outputs": [
    {
     "data": {
      "application/vnd.plotly.v1+json": {
       "config": {
        "plotlyServerURL": "https://plot.ly"
       },
       "data": [
        {
         "coloraxis": "coloraxis",
         "histfunc": "avg",
         "hovertemplate": "Week_Day=%{x}<br>Month=%{y}<br>avg of MAPE (%)=%{z}<extra></extra>",
         "name": "",
         "type": "histogram2d",
         "x": [
          "Sat",
          "Sun",
          "Mon",
          "Tue",
          "Wed",
          "Thu",
          "Fri",
          "Sat",
          "Sun",
          "Mon",
          "Tue",
          "Wed",
          "Thu",
          "Fri",
          "Sat",
          "Sun",
          "Mon",
          "Tue",
          "Wed",
          "Thu",
          "Fri",
          "Sat",
          "Sun",
          "Tue",
          "Wed",
          "Thu",
          "Fri",
          "Sat",
          "Sun",
          "Mon",
          "Tue",
          "Wed",
          "Thu",
          "Fri",
          "Sat",
          "Sun",
          "Mon",
          "Tue",
          "Wed",
          "Thu",
          "Fri",
          "Sat",
          "Sun",
          "Thu",
          "Fri",
          "Sat",
          "Sun",
          "Mon",
          "Tue",
          "Wed",
          "Thu",
          "Fri",
          "Sat",
          "Sun",
          "Mon",
          "Tue",
          "Wed",
          "Thu",
          "Fri",
          "Sat",
          "Sun",
          "Mon",
          "Tue",
          "Wed",
          "Thu",
          "Fri",
          "Sat",
          "Sun",
          "Mon",
          "Tue",
          "Wed",
          "Thu",
          "Fri",
          "Sat",
          "Sun",
          "Mon",
          "Tue",
          "Wed",
          "Thu",
          "Fri",
          "Sat",
          "Sun",
          "Mon",
          "Tue",
          "Wed",
          "Thu",
          "Fri",
          "Sat",
          "Sun",
          "Mon",
          "Tue",
          "Wed",
          "Thu",
          "Fri",
          "Sat",
          "Sun",
          "Mon",
          "Tue",
          "Wed",
          "Thu",
          "Fri",
          "Sat",
          "Sun",
          "Mon",
          "Tue",
          "Wed",
          "Thu",
          "Fri",
          "Sat",
          "Sun",
          "Mon",
          "Tue",
          "Wed",
          "Thu",
          "Fri",
          "Sat",
          "Sun",
          "Mon",
          "Tue",
          "Wed",
          "Thu",
          "Fri",
          "Sat",
          "Sun",
          "Mon",
          "Tue",
          "Wed",
          "Thu",
          "Fri",
          "Sat",
          "Sun",
          "Mon",
          "Tue",
          "Wed",
          "Thu",
          "Fri",
          "Sat",
          "Sun",
          "Mon",
          "Tue",
          "Wed",
          "Thu",
          "Fri",
          "Sat",
          "Sun",
          "Mon",
          "Tue",
          "Wed",
          "Thu",
          "Fri",
          "Sat",
          "Sun",
          "Mon",
          "Tue",
          "Wed",
          "Thu",
          "Fri",
          "Sat",
          "Sun",
          "Mon",
          "Tue",
          "Wed",
          "Thu",
          "Fri",
          "Sat",
          "Sun",
          "Mon",
          "Tue",
          "Wed",
          "Thu",
          "Fri",
          "Sat",
          "Sun",
          "Mon",
          "Tue",
          "Wed",
          "Thu",
          "Fri",
          "Sat",
          "Sun",
          "Mon",
          "Tue",
          "Wed",
          "Thu",
          "Fri",
          "Sat",
          "Sun",
          "Mon",
          "Tue",
          "Wed",
          "Thu",
          "Fri",
          "Sat",
          "Sun",
          "Mon",
          "Tue",
          "Wed",
          "Thu",
          "Fri",
          "Sat",
          "Sun",
          "Mon",
          "Tue",
          "Wed",
          "Thu",
          "Fri",
          "Sat",
          "Sun",
          "Mon",
          "Tue",
          "Wed",
          "Thu",
          "Fri",
          "Sat",
          "Sun",
          "Mon",
          "Tue",
          "Wed",
          "Thu",
          "Fri",
          "Sat",
          "Sun",
          "Mon",
          "Tue",
          "Wed",
          "Thu",
          "Fri",
          "Sat",
          "Sun",
          "Mon",
          "Tue",
          "Wed",
          "Thu",
          "Fri",
          "Sat",
          "Sun",
          "Mon",
          "Tue",
          "Wed",
          "Thu",
          "Fri",
          "Sat",
          "Sun",
          "Mon",
          "Tue",
          "Wed",
          "Thu",
          "Fri",
          "Sat",
          "Sun",
          "Tue",
          "Wed",
          "Thu",
          "Fri",
          "Sat",
          "Sun",
          "Mon",
          "Tue",
          "Wed",
          "Thu",
          "Fri",
          "Sat",
          "Sun",
          "Mon",
          "Tue",
          "Wed",
          "Thu",
          "Fri",
          "Sat",
          "Sun",
          "Mon",
          "Tue",
          "Wed",
          "Thu",
          "Fri",
          "Sat",
          "Sun",
          "Mon",
          "Tue",
          "Wed",
          "Thu",
          "Fri",
          "Sat",
          "Sun",
          "Mon",
          "Tue",
          "Wed",
          "Thu",
          "Fri",
          "Sat",
          "Sun",
          "Mon",
          "Tue",
          "Wed",
          "Thu",
          "Fri",
          "Sat",
          "Sun",
          "Mon",
          "Tue",
          "Wed",
          "Thu",
          "Fri",
          "Sat",
          "Sun",
          "Mon",
          "Tue",
          "Wed",
          "Thu",
          "Fri",
          "Sat",
          "Sun",
          "Mon",
          "Tue",
          "Wed",
          "Thu",
          "Fri",
          "Sat",
          "Sun",
          "Mon",
          "Tue",
          "Wed",
          "Thu",
          "Fri",
          "Sat",
          "Sun",
          "Mon",
          "Tue",
          "Wed",
          "Thu",
          "Fri",
          "Sat",
          "Sun",
          "Mon",
          "Tue",
          "Wed",
          "Thu",
          "Fri",
          "Sat",
          "Sun",
          "Mon",
          "Tue",
          "Wed",
          "Thu",
          "Fri",
          "Sat",
          "Sun",
          "Mon",
          "Tue",
          "Wed",
          "Thu",
          "Fri",
          "Sat",
          "Sun",
          "Mon",
          "Tue",
          "Wed",
          "Thu",
          "Fri",
          "Sat",
          "Sun",
          "Mon",
          "Tue",
          "Wed",
          "Thu",
          "Fri",
          "Sat",
          "Sun",
          "Mon",
          "Tue",
          "Wed",
          "Thu",
          "Fri",
          "Sat",
          "Sun",
          "Mon",
          "Tue",
          "Wed",
          "Thu",
          "Fri",
          "Sat",
          "Sun",
          "Mon",
          "Tue",
          "Wed",
          "Thu",
          "Fri",
          "Sat",
          "Sun",
          "Mon",
          "Tue",
          "Wed",
          "Thu",
          "Fri",
          "Sat",
          "Sun",
          "Mon",
          "Tue",
          "Wed",
          "Thu",
          "Fri",
          "Sat",
          "Sun",
          "Mon",
          "Tue",
          "Wed",
          "Thu",
          "Fri",
          "Sat",
          "Sun",
          "Mon",
          "Tue",
          "Wed",
          "Mon",
          "Tue",
          "Wed",
          "Thu",
          "Fri",
          "Sat",
          "Sun",
          "Mon",
          "Tue",
          "Wed",
          "Thu",
          "Fri",
          "Sat",
          "Sun",
          "Mon",
          "Tue",
          "Wed",
          "Thu",
          "Fri",
          "Sat",
          "Sun",
          "Mon",
          "Tue",
          "Wed",
          "Thu",
          "Fri",
          "Sat",
          "Sun",
          "Mon",
          "Tue",
          "Wed",
          "Thu",
          "Fri",
          "Sat",
          "Sun",
          "Mon",
          "Tue",
          "Wed",
          "Thu",
          "Fri",
          "Sat",
          "Sun",
          "Mon",
          "Tue",
          "Wed",
          "Thu",
          "Fri",
          "Sat",
          "Sun",
          "Mon",
          "Tue",
          "Wed",
          "Thu",
          "Fri",
          "Sat",
          "Sun",
          "Mon",
          "Tue",
          "Wed",
          "Thu",
          "Fri",
          "Sat",
          "Sun",
          "Mon",
          "Tue",
          "Wed",
          "Thu",
          "Fri",
          "Sat",
          "Sun",
          "Mon",
          "Tue",
          "Wed",
          "Thu",
          "Fri",
          "Sat",
          "Sun",
          "Mon",
          "Tue",
          "Wed",
          "Thu",
          "Fri",
          "Sat",
          "Sun",
          "Mon",
          "Tue",
          "Wed",
          "Thu",
          "Fri",
          "Sat",
          "Sun",
          "Mon",
          "Tue",
          "Wed",
          "Thu",
          "Fri",
          "Sat",
          "Sun",
          "Mon",
          "Tue",
          "Wed",
          "Thu",
          "Fri",
          "Sat",
          "Sun",
          "Mon",
          "Tue",
          "Wed",
          "Thu",
          "Fri",
          "Sat",
          "Sun",
          "Mon",
          "Tue",
          "Wed",
          "Thu",
          "Fri",
          "Sat",
          "Sun",
          "Mon",
          "Tue",
          "Wed",
          "Thu",
          "Fri",
          "Sat",
          "Sun",
          "Mon",
          "Tue",
          "Wed",
          "Thu",
          "Fri",
          "Sat",
          "Sun",
          "Mon",
          "Tue",
          "Wed",
          "Thu",
          "Fri",
          "Sat",
          "Sun",
          "Mon",
          "Tue",
          "Wed",
          "Thu",
          "Wed",
          "Thu",
          "Fri",
          "Sat",
          "Sun",
          "Mon",
          "Tue",
          "Wed",
          "Thu",
          "Fri",
          "Sat",
          "Sun",
          "Mon",
          "Tue",
          "Wed",
          "Thu",
          "Fri",
          "Sat",
          "Sun",
          "Mon",
          "Tue",
          "Wed",
          "Thu",
          "Fri",
          "Sat",
          "Sun",
          "Mon",
          "Tue",
          "Wed",
          "Thu",
          "Fri",
          "Sat",
          "Sun",
          "Mon",
          "Tue",
          "Wed",
          "Thu",
          "Fri",
          "Sat",
          "Sun",
          "Mon",
          "Tue",
          "Wed",
          "Thu",
          "Fri",
          "Sat",
          "Sun",
          "Mon",
          "Tue",
          "Wed",
          "Thu",
          "Fri",
          "Sat",
          "Sun",
          "Mon",
          "Tue",
          "Wed",
          "Thu",
          "Fri",
          "Sat",
          "Sun",
          "Mon",
          "Tue",
          "Wed",
          "Thu",
          "Fri",
          "Sat",
          "Sun",
          "Mon",
          "Tue",
          "Wed",
          "Thu",
          "Fri",
          "Sat",
          "Sun",
          "Mon",
          "Tue",
          "Wed",
          "Thu",
          "Fri",
          "Sat",
          "Sun",
          "Mon",
          "Tue",
          "Wed",
          "Thu",
          "Fri",
          "Sat",
          "Sun",
          "Mon",
          "Tue",
          "Wed",
          "Fri",
          "Sat",
          "Sun",
          "Mon",
          "Tue",
          "Wed",
          "Thu",
          "Fri",
          "Sat",
          "Sun",
          "Mon",
          "Tue",
          "Wed",
          "Thu",
          "Fri",
          "Sat",
          "Sun",
          "Mon",
          "Tue",
          "Wed",
          "Thu",
          "Fri",
          "Sat",
          "Sun",
          "Mon",
          "Tue",
          "Wed",
          "Thu",
          "Fri",
          "Sat",
          "Sun",
          "Mon",
          "Tue",
          "Wed",
          "Thu",
          "Fri",
          "Sat",
          "Sun",
          "Mon",
          "Tue",
          "Wed",
          "Thu",
          "Fri",
          "Sat",
          "Sun",
          "Mon",
          "Tue",
          "Wed",
          "Thu",
          "Fri",
          "Sat",
          "Sun",
          "Mon",
          "Tue",
          "Wed",
          "Thu",
          "Fri",
          "Sat",
          "Sun",
          "Mon",
          "Tue",
          "Wed",
          "Thu",
          "Fri",
          "Sat",
          "Sun",
          "Mon",
          "Tue",
          "Wed",
          "Thu",
          "Fri",
          "Sat",
          "Sun",
          "Mon",
          "Tue",
          "Wed",
          "Thu",
          "Fri",
          "Sat",
          "Sun",
          "Mon",
          "Tue",
          "Wed",
          "Thu",
          "Fri",
          "Sat",
          "Sun",
          "Mon",
          "Tue",
          "Wed",
          "Thu",
          "Fri",
          "Sat",
          "Sun",
          "Mon",
          "Tue",
          "Wed",
          "Thu",
          "Fri",
          "Sat",
          "Sun",
          "Mon",
          "Tue",
          "Wed",
          "Thu",
          "Fri",
          "Sat",
          "Sun",
          "Mon",
          "Tue",
          "Wed",
          "Thu",
          "Fri",
          "Sat",
          "Sun",
          "Mon",
          "Tue",
          "Wed",
          "Thu",
          "Fri",
          "Sat",
          "Sun",
          "Mon",
          "Tue",
          "Wed",
          "Thu",
          "Fri",
          "Sat",
          "Sun",
          "Mon",
          "Tue",
          "Wed",
          "Thu",
          "Fri",
          "Sat",
          "Sun",
          "Mon",
          "Tue",
          "Wed",
          "Thu",
          "Fri",
          "Sat",
          "Sun",
          "Mon",
          "Tue",
          "Wed",
          "Thu",
          "Fri",
          "Sat",
          "Sun",
          "Mon",
          "Tue",
          "Wed",
          "Thu",
          "Fri",
          "Sat",
          "Sun",
          "Mon",
          "Tue",
          "Wed",
          "Thu",
          "Fri",
          "Sat",
          "Sun",
          "Mon",
          "Tue",
          "Wed",
          "Thu",
          "Fri",
          "Sat",
          "Sun",
          "Mon",
          "Tue",
          "Wed",
          "Thu",
          "Fri",
          "Sat",
          "Sun",
          "Mon",
          "Tue",
          "Wed",
          "Thu",
          "Fri",
          "Sat",
          "Sun",
          "Mon",
          "Tue",
          "Wed",
          "Thu",
          "Fri",
          "Sat",
          "Sun",
          "Mon",
          "Tue",
          "Wed",
          "Thu",
          "Fri",
          "Sat",
          "Sun",
          "Mon",
          "Tue",
          "Wed",
          "Thu",
          "Fri",
          "Sat",
          "Sun",
          "Mon",
          "Tue",
          "Wed",
          "Thu",
          "Fri",
          "Sat",
          "Sun",
          "Mon",
          "Tue",
          "Wed",
          "Thu",
          "Fri",
          "Sat",
          "Sun",
          "Mon",
          "Tue",
          "Wed",
          "Thu",
          "Fri",
          "Sat",
          "Sun",
          "Mon",
          "Tue",
          "Wed",
          "Thu",
          "Fri",
          "Sat",
          "Sun",
          "Mon",
          "Tue",
          "Wed",
          "Thu",
          "Fri",
          "Sat",
          "Sun",
          "Mon",
          "Tue",
          "Wed",
          "Thu",
          "Fri",
          "Sat",
          "Sun",
          "Mon",
          "Tue",
          "Wed",
          "Thu",
          "Fri",
          "Sat",
          "Sun",
          "Mon",
          "Tue",
          "Wed",
          "Thu",
          "Fri",
          "Sat",
          "Sun",
          "Mon",
          "Tue",
          "Wed",
          "Thu",
          "Fri",
          "Sat",
          "Sun",
          "Mon",
          "Tue",
          "Wed",
          "Thu",
          "Fri",
          "Sat",
          "Sun",
          "Mon",
          "Tue",
          "Wed",
          "Thu",
          "Fri",
          "Sat",
          "Sun",
          "Mon",
          "Tue",
          "Wed",
          "Thu",
          "Fri",
          "Sat",
          "Sun",
          "Mon",
          "Tue",
          "Wed",
          "Thu",
          "Fri",
          "Sat",
          "Sun",
          "Mon",
          "Tue",
          "Wed",
          "Thu",
          "Fri",
          "Sat",
          "Sun",
          "Mon",
          "Tue",
          "Wed",
          "Thu",
          "Fri",
          "Sat",
          "Sun",
          "Mon",
          "Tue",
          "Wed",
          "Thu",
          "Fri",
          "Sat",
          "Sun",
          "Mon",
          "Tue",
          "Wed",
          "Thu",
          "Fri",
          "Sat",
          "Sun",
          "Mon",
          "Tue",
          "Wed",
          "Thu",
          "Fri",
          "Sat",
          "Sun",
          "Mon",
          "Tue",
          "Wed",
          "Thu",
          "Fri",
          "Sat",
          "Sun",
          "Mon",
          "Tue",
          "Wed",
          "Thu",
          "Fri",
          "Sat",
          "Sun",
          "Mon",
          "Tue",
          "Wed",
          "Thu",
          "Fri",
          "Sat",
          "Sun",
          "Mon",
          "Tue",
          "Wed",
          "Thu",
          "Fri",
          "Sat",
          "Sun",
          "Mon",
          "Tue",
          "Wed",
          "Thu",
          "Fri",
          "Sat",
          "Sun",
          "Mon",
          "Tue",
          "Wed",
          "Thu",
          "Fri",
          "Sat",
          "Sun",
          "Mon",
          "Tue",
          "Wed",
          "Thu",
          "Fri",
          "Sat",
          "Sun",
          "Mon",
          "Tue",
          "Wed",
          "Thu",
          "Fri",
          "Sat",
          "Sun",
          "Mon",
          "Tue",
          "Wed",
          "Thu",
          "Fri",
          "Sat",
          "Sun",
          "Mon",
          "Tue",
          "Wed",
          "Thu",
          "Fri",
          "Sat",
          "Sun",
          "Mon",
          "Tue",
          "Wed",
          "Thu",
          "Fri",
          "Sat",
          "Sun",
          "Mon",
          "Tue",
          "Wed",
          "Thu",
          "Fri",
          "Sat",
          "Sun",
          "Mon",
          "Tue",
          "Wed",
          "Thu",
          "Fri",
          "Sat",
          "Sun",
          "Mon",
          "Tue",
          "Wed",
          "Thu",
          "Fri",
          "Sat",
          "Sun",
          "Mon",
          "Tue",
          "Wed",
          "Thu",
          "Fri",
          "Sat",
          "Sun",
          "Mon",
          "Tue",
          "Wed",
          "Thu",
          "Fri",
          "Sat",
          "Sun",
          "Mon",
          "Tue",
          "Wed",
          "Thu",
          "Fri",
          "Sat",
          "Sun",
          "Mon",
          "Tue",
          "Wed",
          "Thu",
          "Fri",
          "Sat",
          "Sun",
          "Mon",
          "Tue",
          "Wed",
          "Thu",
          "Fri",
          "Sat",
          "Sun",
          "Mon",
          "Tue",
          "Wed",
          "Thu",
          "Fri",
          "Sat",
          "Sun",
          "Mon",
          "Tue",
          "Wed",
          "Thu",
          "Fri",
          "Sat",
          "Sun",
          "Mon",
          "Tue",
          "Wed",
          "Thu",
          "Fri",
          "Sat",
          "Sun",
          "Mon",
          "Tue",
          "Wed",
          "Thu",
          "Fri",
          "Sat",
          "Sun",
          "Mon",
          "Tue",
          "Wed",
          "Thu",
          "Fri",
          "Sat",
          "Sun",
          "Mon",
          "Tue",
          "Wed",
          "Thu",
          "Fri",
          "Sat",
          "Sun",
          "Mon",
          "Tue",
          "Wed",
          "Thu",
          "Fri",
          "Sat",
          "Sun",
          "Mon",
          "Tue",
          "Wed",
          "Thu",
          "Fri",
          "Sat",
          "Sun",
          "Mon",
          "Tue",
          "Wed",
          "Thu",
          "Fri",
          "Sat",
          "Sun",
          "Mon",
          "Tue",
          "Wed",
          "Thu",
          "Fri",
          "Sat",
          "Sun",
          "Mon",
          "Tue",
          "Wed",
          "Thu",
          "Fri",
          "Sat",
          "Sun",
          "Mon",
          "Tue",
          "Wed",
          "Thu",
          "Fri",
          "Sat",
          "Sun",
          "Mon",
          "Tue",
          "Wed",
          "Thu",
          "Fri",
          "Sat",
          "Sun",
          "Mon",
          "Tue",
          "Wed",
          "Thu",
          "Fri",
          "Sat",
          "Sun",
          "Mon",
          "Tue",
          "Wed",
          "Thu",
          "Fri",
          "Sat",
          "Sun",
          "Mon",
          "Tue",
          "Wed",
          "Thu",
          "Fri",
          "Sat",
          "Sun",
          "Mon",
          "Tue",
          "Wed",
          "Thu",
          "Fri",
          "Sat",
          "Sun",
          "Mon",
          "Tue",
          "Wed",
          "Thu",
          "Fri",
          "Sat",
          "Sun",
          "Mon",
          "Tue",
          "Wed",
          "Thu"
         ],
         "xaxis": "x",
         "xbingroup": "x",
         "y": [
          "Jan",
          "Jan",
          "Jan",
          "Jan",
          "Jan",
          "Jan",
          "Jan",
          "Jan",
          "Jan",
          "Jan",
          "Jan",
          "Jan",
          "Jan",
          "Jan",
          "Jan",
          "Jan",
          "Jan",
          "Jan",
          "Jan",
          "Jan",
          "Jan",
          "Jan",
          "Jan",
          "Feb",
          "Feb",
          "Feb",
          "Feb",
          "Feb",
          "Feb",
          "Feb",
          "Feb",
          "Feb",
          "Feb",
          "Feb",
          "Feb",
          "Feb",
          "Feb",
          "Feb",
          "Feb",
          "Feb",
          "Feb",
          "Feb",
          "Feb",
          "Feb",
          "Feb",
          "Feb",
          "Feb",
          "Feb",
          "Mar",
          "Mar",
          "Mar",
          "Mar",
          "Mar",
          "Mar",
          "Mar",
          "Mar",
          "Mar",
          "Mar",
          "Mar",
          "Mar",
          "Mar",
          "Mar",
          "Mar",
          "Mar",
          "Mar",
          "Mar",
          "Mar",
          "Mar",
          "Mar",
          "Mar",
          "Mar",
          "Mar",
          "Mar",
          "Mar",
          "Mar",
          "Mar",
          "Mar",
          "Mar",
          "Mar",
          "Apr",
          "Apr",
          "Apr",
          "Apr",
          "Apr",
          "Apr",
          "Apr",
          "Apr",
          "Apr",
          "Apr",
          "Apr",
          "Apr",
          "Apr",
          "Apr",
          "Apr",
          "Apr",
          "Apr",
          "Apr",
          "Apr",
          "Apr",
          "Apr",
          "Apr",
          "Apr",
          "Apr",
          "Apr",
          "Apr",
          "Apr",
          "Apr",
          "Apr",
          "Apr",
          "May",
          "May",
          "May",
          "May",
          "May",
          "May",
          "May",
          "May",
          "May",
          "May",
          "May",
          "May",
          "May",
          "May",
          "May",
          "May",
          "May",
          "May",
          "May",
          "May",
          "May",
          "May",
          "May",
          "May",
          "May",
          "May",
          "May",
          "May",
          "May",
          "May",
          "May",
          "Jun",
          "Jun",
          "Jun",
          "Jun",
          "Jun",
          "Jun",
          "Jun",
          "Jun",
          "Jun",
          "Jun",
          "Jun",
          "Jun",
          "Jun",
          "Jun",
          "Jun",
          "Jun",
          "Jun",
          "Jun",
          "Jun",
          "Jun",
          "Jun",
          "Jun",
          "Jun",
          "Jun",
          "Jun",
          "Jun",
          "Jun",
          "Jun",
          "Jun",
          "Jun",
          "Jul",
          "Jul",
          "Jul",
          "Jul",
          "Jul",
          "Jul",
          "Jul",
          "Jul",
          "Jul",
          "Jul",
          "Jul",
          "Jul",
          "Jul",
          "Jul",
          "Jul",
          "Jul",
          "Jul",
          "Jul",
          "Jul",
          "Jul",
          "Jul",
          "Jul",
          "Jul",
          "Jul",
          "Jul",
          "Jul",
          "Jul",
          "Jul",
          "Jul",
          "Jul",
          "Jul",
          "Aug",
          "Aug",
          "Aug",
          "Aug",
          "Aug",
          "Aug",
          "Aug",
          "Aug",
          "Aug",
          "Aug",
          "Aug",
          "Aug",
          "Aug",
          "Aug",
          "Aug",
          "Aug",
          "Aug",
          "Aug",
          "Aug",
          "Aug",
          "Aug",
          "Aug",
          "Aug",
          "Aug",
          "Aug",
          "Aug",
          "Aug",
          "Aug",
          "Aug",
          "Aug",
          "Aug",
          "Sep",
          "Sep",
          "Sep",
          "Sep",
          "Sep",
          "Sep",
          "Sep",
          "Sep",
          "Sep",
          "Sep",
          "Sep",
          "Sep",
          "Sep",
          "Sep",
          "Sep",
          "Sep",
          "Sep",
          "Sep",
          "Sep",
          "Sep",
          "Sep",
          "Sep",
          "Sep",
          "Sep",
          "Sep",
          "Sep",
          "Sep",
          "Sep",
          "Sep",
          "Oct",
          "Oct",
          "Oct",
          "Oct",
          "Oct",
          "Oct",
          "Oct",
          "Oct",
          "Oct",
          "Oct",
          "Oct",
          "Oct",
          "Oct",
          "Oct",
          "Oct",
          "Oct",
          "Oct",
          "Oct",
          "Oct",
          "Oct",
          "Oct",
          "Oct",
          "Oct",
          "Oct",
          "Oct",
          "Oct",
          "Oct",
          "Oct",
          "Oct",
          "Oct",
          "Oct",
          "Nov",
          "Nov",
          "Nov",
          "Nov",
          "Nov",
          "Nov",
          "Nov",
          "Nov",
          "Nov",
          "Nov",
          "Nov",
          "Nov",
          "Nov",
          "Nov",
          "Nov",
          "Nov",
          "Nov",
          "Nov",
          "Nov",
          "Nov",
          "Nov",
          "Nov",
          "Nov",
          "Nov",
          "Nov",
          "Nov",
          "Nov",
          "Nov",
          "Nov",
          "Nov",
          "Dec",
          "Dec",
          "Dec",
          "Dec",
          "Dec",
          "Dec",
          "Dec",
          "Dec",
          "Dec",
          "Dec",
          "Dec",
          "Dec",
          "Dec",
          "Dec",
          "Dec",
          "Dec",
          "Dec",
          "Dec",
          "Dec",
          "Dec",
          "Dec",
          "Dec",
          "Dec",
          "Dec",
          "Dec",
          "Dec",
          "Dec",
          "Dec",
          "Dec",
          "Dec",
          "Dec",
          "Jan",
          "Jan",
          "Jan",
          "Jan",
          "Jan",
          "Jan",
          "Jan",
          "Jan",
          "Jan",
          "Jan",
          "Jan",
          "Jan",
          "Jan",
          "Jan",
          "Jan",
          "Jan",
          "Jan",
          "Jan",
          "Jan",
          "Jan",
          "Jan",
          "Jan",
          "Jan",
          "Jan",
          "Jan",
          "Jan",
          "Jan",
          "Jan",
          "Jan",
          "Jan",
          "Jan",
          "Feb",
          "Feb",
          "Feb",
          "Feb",
          "Feb",
          "Feb",
          "Feb",
          "Feb",
          "Feb",
          "Feb",
          "Feb",
          "Feb",
          "Feb",
          "Feb",
          "Feb",
          "Feb",
          "Feb",
          "Feb",
          "Feb",
          "Feb",
          "Feb",
          "Feb",
          "Feb",
          "Feb",
          "Feb",
          "Feb",
          "Feb",
          "Feb",
          "Mar",
          "Mar",
          "Mar",
          "Mar",
          "Mar",
          "Mar",
          "Mar",
          "Mar",
          "Mar",
          "Mar",
          "Mar",
          "Mar",
          "Mar",
          "Mar",
          "Mar",
          "Mar",
          "Mar",
          "Mar",
          "Mar",
          "Mar",
          "Mar",
          "Mar",
          "Mar",
          "Mar",
          "Mar",
          "Mar",
          "Mar",
          "Apr",
          "Apr",
          "Apr",
          "Apr",
          "Apr",
          "Apr",
          "Apr",
          "Apr",
          "Apr",
          "Apr",
          "Apr",
          "Apr",
          "Apr",
          "Apr",
          "Apr",
          "Apr",
          "Apr",
          "Apr",
          "Apr",
          "Apr",
          "Apr",
          "Apr",
          "Apr",
          "Apr",
          "Apr",
          "Apr",
          "Apr",
          "Apr",
          "Apr",
          "Apr",
          "May",
          "May",
          "May",
          "May",
          "May",
          "May",
          "May",
          "May",
          "May",
          "May",
          "May",
          "May",
          "May",
          "May",
          "May",
          "May",
          "May",
          "May",
          "May",
          "May",
          "May",
          "May",
          "May",
          "May",
          "May",
          "May",
          "May",
          "May",
          "May",
          "May",
          "May",
          "Jun",
          "Jun",
          "Jun",
          "Jun",
          "Jun",
          "Jun",
          "Jun",
          "Jun",
          "Jun",
          "Jun",
          "Jun",
          "Jun",
          "Jun",
          "Jun",
          "Jun",
          "Jun",
          "Jun",
          "Jun",
          "Jun",
          "Jun",
          "Jun",
          "Jun",
          "Jun",
          "Jun",
          "Jun",
          "Jun",
          "Jun",
          "Jun",
          "Jun",
          "Jun",
          "Jul",
          "Jul",
          "Jul",
          "Jul",
          "Jul",
          "Jul",
          "Jul",
          "Jul",
          "Jul",
          "Jul",
          "Jul",
          "Jul",
          "Jul",
          "Jul",
          "Jul",
          "Jul",
          "Jul",
          "Jul",
          "Jul",
          "Jul",
          "Jul",
          "Jul",
          "Jul",
          "Jul",
          "Jul",
          "Jul",
          "Jul",
          "Aug",
          "Aug",
          "Aug",
          "Aug",
          "Aug",
          "Aug",
          "Aug",
          "Aug",
          "Aug",
          "Aug",
          "Aug",
          "Aug",
          "Aug",
          "Aug",
          "Aug",
          "Aug",
          "Aug",
          "Aug",
          "Aug",
          "Aug",
          "Aug",
          "Aug",
          "Aug",
          "Aug",
          "Aug",
          "Aug",
          "Aug",
          "Aug",
          "Aug",
          "Aug",
          "Sep",
          "Sep",
          "Sep",
          "Sep",
          "Sep",
          "Sep",
          "Sep",
          "Sep",
          "Sep",
          "Sep",
          "Sep",
          "Sep",
          "Sep",
          "Sep",
          "Sep",
          "Sep",
          "Sep",
          "Sep",
          "Sep",
          "Sep",
          "Sep",
          "Sep",
          "Sep",
          "Sep",
          "Sep",
          "Sep",
          "Sep",
          "Sep",
          "Sep",
          "Sep",
          "Oct",
          "Oct",
          "Oct",
          "Oct",
          "Oct",
          "Oct",
          "Oct",
          "Oct",
          "Oct",
          "Oct",
          "Oct",
          "Oct",
          "Oct",
          "Oct",
          "Oct",
          "Oct",
          "Oct",
          "Oct",
          "Oct",
          "Oct",
          "Oct",
          "Oct",
          "Oct",
          "Oct",
          "Oct",
          "Oct",
          "Oct",
          "Oct",
          "Oct",
          "Oct",
          "Oct",
          "Nov",
          "Nov",
          "Nov",
          "Nov",
          "Nov",
          "Nov",
          "Nov",
          "Nov",
          "Nov",
          "Nov",
          "Nov",
          "Nov",
          "Nov",
          "Nov",
          "Nov",
          "Nov",
          "Nov",
          "Nov",
          "Nov",
          "Nov",
          "Nov",
          "Nov",
          "Nov",
          "Nov",
          "Nov",
          "Nov",
          "Nov",
          "Nov",
          "Nov",
          "Dec",
          "Dec",
          "Dec",
          "Dec",
          "Dec",
          "Dec",
          "Dec",
          "Dec",
          "Dec",
          "Dec",
          "Dec",
          "Dec",
          "Dec",
          "Dec",
          "Dec",
          "Dec",
          "Dec",
          "Dec",
          "Dec",
          "Dec",
          "Dec",
          "Dec",
          "Dec",
          "Dec",
          "Dec",
          "Dec",
          "Dec",
          "Dec",
          "Dec",
          "Dec",
          "Dec",
          "Jan",
          "Jan",
          "Jan",
          "Jan",
          "Jan",
          "Jan",
          "Jan",
          "Jan",
          "Jan",
          "Jan",
          "Jan",
          "Jan",
          "Jan",
          "Jan",
          "Jan",
          "Jan",
          "Jan",
          "Jan",
          "Jan",
          "Jan",
          "Jan",
          "Jan",
          "Jan",
          "Jan",
          "Jan",
          "Jan",
          "Jan",
          "Jan",
          "Jan",
          "Jan",
          "Jan",
          "Feb",
          "Feb",
          "Feb",
          "Feb",
          "Feb",
          "Feb",
          "Feb",
          "Feb",
          "Feb",
          "Feb",
          "Feb",
          "Feb",
          "Feb",
          "Feb",
          "Feb",
          "Feb",
          "Feb",
          "Feb",
          "Feb",
          "Feb",
          "Feb",
          "Feb",
          "Feb",
          "Feb",
          "Feb",
          "Feb",
          "Feb",
          "Feb",
          "Feb",
          "Mar",
          "Mar",
          "Mar",
          "Mar",
          "Mar",
          "Mar",
          "Mar",
          "Mar",
          "Mar",
          "Mar",
          "Mar",
          "Mar",
          "Mar",
          "Mar",
          "Mar",
          "Mar",
          "Mar",
          "Mar",
          "Mar",
          "Mar",
          "Mar",
          "Mar",
          "Mar",
          "Mar",
          "Mar",
          "Mar",
          "Mar",
          "Mar",
          "Mar",
          "Mar",
          "Mar",
          "Apr",
          "Apr",
          "Apr",
          "Apr",
          "Apr",
          "Apr",
          "Apr",
          "Apr",
          "Apr",
          "Apr",
          "Apr",
          "Apr",
          "Apr",
          "Apr",
          "Apr",
          "Apr",
          "Apr",
          "Apr",
          "Apr",
          "Apr",
          "Apr",
          "Apr",
          "Apr",
          "Apr",
          "Apr",
          "Apr",
          "Apr",
          "Apr",
          "Apr",
          "Apr",
          "May",
          "May",
          "May",
          "May",
          "May",
          "May",
          "May",
          "May",
          "May",
          "May",
          "May",
          "May",
          "May",
          "May",
          "May",
          "May",
          "May",
          "May",
          "May",
          "May",
          "May",
          "May",
          "May",
          "May",
          "May",
          "May",
          "May",
          "May",
          "May",
          "May",
          "May",
          "Jun",
          "Jun",
          "Jun",
          "Jun",
          "Jun",
          "Jun",
          "Jun",
          "Jun",
          "Jun",
          "Jun",
          "Jun",
          "Jun",
          "Jun",
          "Jun",
          "Jun",
          "Jun",
          "Jun",
          "Jun",
          "Jun",
          "Jun",
          "Jun",
          "Jun",
          "Jun",
          "Jun",
          "Jun",
          "Jun",
          "Jun",
          "Jun",
          "Jun",
          "Jun",
          "Jul",
          "Jul",
          "Jul",
          "Jul",
          "Jul",
          "Jul",
          "Jul",
          "Jul",
          "Jul",
          "Jul",
          "Jul",
          "Jul",
          "Jul",
          "Jul",
          "Jul",
          "Jul",
          "Jul",
          "Jul",
          "Jul",
          "Jul",
          "Jul",
          "Jul",
          "Jul",
          "Jul",
          "Jul",
          "Jul",
          "Jul",
          "Jul",
          "Jul",
          "Jul",
          "Jul",
          "Aug",
          "Aug",
          "Aug",
          "Aug",
          "Aug",
          "Aug",
          "Aug",
          "Aug",
          "Aug",
          "Aug",
          "Aug",
          "Aug",
          "Aug",
          "Aug",
          "Aug",
          "Aug",
          "Aug",
          "Aug",
          "Aug",
          "Aug",
          "Aug",
          "Aug",
          "Aug",
          "Aug",
          "Aug",
          "Aug",
          "Aug",
          "Aug",
          "Aug",
          "Aug",
          "Aug",
          "Sep",
          "Sep",
          "Sep",
          "Sep",
          "Sep",
          "Sep",
          "Sep",
          "Sep",
          "Sep",
          "Sep",
          "Sep",
          "Sep",
          "Sep",
          "Sep",
          "Sep",
          "Sep",
          "Sep",
          "Sep",
          "Sep",
          "Sep",
          "Sep",
          "Sep",
          "Sep",
          "Sep",
          "Sep",
          "Sep",
          "Sep",
          "Sep",
          "Sep",
          "Sep",
          "Oct",
          "Oct",
          "Oct",
          "Oct",
          "Oct",
          "Oct",
          "Oct",
          "Oct",
          "Oct",
          "Oct",
          "Oct",
          "Oct",
          "Oct",
          "Oct",
          "Oct",
          "Oct",
          "Oct",
          "Oct",
          "Oct",
          "Oct",
          "Oct",
          "Oct",
          "Oct",
          "Oct",
          "Oct",
          "Oct",
          "Oct",
          "Oct",
          "Oct",
          "Oct",
          "Oct",
          "Nov",
          "Nov",
          "Nov",
          "Nov",
          "Nov",
          "Nov",
          "Nov",
          "Nov",
          "Nov",
          "Nov",
          "Nov",
          "Nov",
          "Nov",
          "Nov",
          "Nov",
          "Nov",
          "Nov",
          "Nov",
          "Nov",
          "Nov",
          "Nov",
          "Nov",
          "Nov",
          "Nov",
          "Nov",
          "Nov",
          "Nov",
          "Nov",
          "Nov",
          "Nov",
          "Dec",
          "Dec",
          "Dec",
          "Dec",
          "Dec",
          "Dec",
          "Dec",
          "Dec",
          "Dec",
          "Dec",
          "Dec",
          "Dec",
          "Dec",
          "Dec",
          "Dec",
          "Dec",
          "Dec",
          "Dec",
          "Dec",
          "Dec",
          "Dec",
          "Dec",
          "Dec",
          "Dec",
          "Dec",
          "Dec",
          "Dec",
          "Dec",
          "Dec",
          "Dec",
          "Dec",
          "Jan",
          "Jan",
          "Jan",
          "Jan",
          "Jan",
          "Jan",
          "Jan",
          "Jan",
          "Jan",
          "Jan",
          "Jan",
          "Jan",
          "Jan",
          "Jan",
          "Jan",
          "Jan",
          "Jan",
          "Jan",
          "Jan",
          "Jan",
          "Jan",
          "Jan",
          "Jan",
          "Jan",
          "Jan",
          "Jan",
          "Jan",
          "Jan",
          "Jan",
          "Jan",
          "Jan",
          "Feb",
          "Feb",
          "Feb",
          "Feb",
          "Feb",
          "Feb",
          "Feb",
          "Feb",
          "Feb",
          "Feb",
          "Feb",
          "Feb",
          "Feb",
          "Feb",
          "Feb",
          "Feb",
          "Feb",
          "Feb",
          "Feb",
          "Feb",
          "Feb",
          "Feb",
          "Feb",
          "Feb",
          "Feb",
          "Feb",
          "Feb",
          "Feb",
          "Mar",
          "Mar",
          "Mar",
          "Mar",
          "Mar",
          "Mar",
          "Mar",
          "Mar",
          "Mar",
          "Mar",
          "Mar",
          "Mar",
          "Mar",
          "Mar",
          "Mar",
          "Mar",
          "Mar",
          "Mar",
          "Mar",
          "Mar",
          "Mar",
          "Mar",
          "Mar",
          "Mar",
          "Mar",
          "Mar",
          "Mar",
          "Mar",
          "Mar",
          "Mar",
          "Mar",
          "Apr",
          "Apr",
          "Apr",
          "Apr",
          "Apr",
          "Apr",
          "Apr",
          "Apr",
          "Apr",
          "Apr",
          "Apr",
          "Apr",
          "Apr",
          "Apr",
          "Apr",
          "Apr",
          "Apr",
          "Apr",
          "Apr",
          "Apr",
          "Apr",
          "Apr",
          "Apr",
          "Apr",
          "Apr",
          "Apr",
          "Apr",
          "Apr",
          "Apr",
          "Apr",
          "May",
          "May",
          "May",
          "May",
          "May",
          "May",
          "May",
          "May",
          "May",
          "May",
          "May",
          "May",
          "May",
          "May",
          "May",
          "May",
          "May",
          "May",
          "May",
          "May",
          "May",
          "May",
          "May",
          "May",
          "May",
          "May",
          "May",
          "May",
          "May",
          "May",
          "May",
          "Jun",
          "Jun",
          "Jun",
          "Jun",
          "Jun",
          "Jun",
          "Jun",
          "Jun",
          "Jun",
          "Jun",
          "Jun",
          "Jun",
          "Jun",
          "Jun",
          "Jun",
          "Jun",
          "Jun",
          "Jun",
          "Jun"
         ],
         "yaxis": "y",
         "ybingroup": "y",
         "z": {
          "_inputArray": {
           "0": 0.22,
           "1": 0.1,
           "10": 0.03,
           "100": 0.09,
           "1000": 0.03,
           "1001": 0.03,
           "1002": 0.06,
           "1003": 0.03,
           "1004": 0.03,
           "1005": 0.03,
           "1006": 0.04,
           "1007": 0.01,
           "1008": 0.05,
           "1009": 0.15,
           "101": 0.07,
           "1010": 0.11,
           "1011": 0.03,
           "1012": 0.04,
           "1013": 0.04,
           "1014": 0.04,
           "1015": 0.03,
           "1016": 0.07,
           "1017": 0.04,
           "1018": 0.04,
           "1019": 0.04,
           "102": 0.07,
           "1020": 0.07,
           "1021": 0.08,
           "1022": 0.05,
           "1023": 0.03,
           "1024": 0.04,
           "1025": 0.03,
           "1026": 0.03,
           "1027": 0.03,
           "1028": 0.03,
           "1029": 0.03,
           "103": 0.11,
           "1030": 0.03,
           "1031": 0.1,
           "1032": 0.12,
           "1033": 0.14,
           "1034": 0.1,
           "1035": 0.17,
           "1036": 0.06,
           "1037": 0.02,
           "1038": 0.02,
           "1039": 0.05,
           "104": 0.08,
           "1040": 0.08,
           "1041": 0.1,
           "1042": 0.07,
           "1043": 0.07,
           "1044": 0.03,
           "1045": 0.06,
           "1046": 0.07,
           "1047": 0.03,
           "1048": 0.1,
           "1049": 0.08,
           "105": 0.09,
           "1050": 0.08,
           "1051": 0.05,
           "1052": 0.07,
           "1053": 0.07,
           "1054": 0.05,
           "1055": 0.06,
           "1056": 0.03,
           "1057": 0.05,
           "1058": 0.11,
           "1059": 0.02,
           "106": 0.11,
           "1060": 0.06,
           "1061": 0.07,
           "1062": 0.06,
           "1063": 0.05,
           "1064": 0.04,
           "1065": 0.11,
           "1066": 0.1,
           "1067": 0.03,
           "1068": 0.05,
           "1069": 0.06,
           "107": 0.09,
           "1070": 0.03,
           "1071": 0.04,
           "1072": 0.09,
           "1073": 0.21,
           "1074": 0.03,
           "1075": 0.05,
           "1076": 0.07,
           "1077": 0.08,
           "1078": 0.05,
           "1079": 0.03,
           "108": 0.08,
           "1080": 0.04,
           "1081": 0.07,
           "1082": 0.07,
           "1083": 0.02,
           "1084": 0.03,
           "1085": 0.02,
           "1086": 0.03,
           "1087": 0.07,
           "1088": 0.09,
           "1089": 0.07,
           "109": 0.03,
           "1090": 0.03,
           "1091": 0.03,
           "1092": 0.03,
           "1093": 0.05,
           "1094": 0.04,
           "1095": 0.04,
           "1096": 0.04,
           "1097": 0.04,
           "1098": 0.05,
           "1099": 0.02,
           "11": 0.03,
           "110": 0.12,
           "1100": 0.05,
           "1101": 0.02,
           "1102": 0.01,
           "1103": 0.02,
           "1104": 0.02,
           "1105": 0.04,
           "1106": 0.06,
           "1107": 0.08,
           "1108": 0.06,
           "1109": 0.03,
           "111": 0.04,
           "1110": 0.04,
           "1111": 0.02,
           "1112": 0.07,
           "1113": 0.03,
           "1114": 0.05,
           "1115": 0.03,
           "1116": 0.05,
           "1117": 0.04,
           "1118": 0.02,
           "1119": 0.05,
           "112": 0.08,
           "1120": 0.04,
           "1121": 0.02,
           "1122": 0.03,
           "1123": 0.03,
           "1124": 0.06,
           "1125": 0.02,
           "1126": 0.04,
           "1127": 0.02,
           "1128": 0.07,
           "1129": 0.05,
           "113": 0.08,
           "1130": 0.02,
           "1131": 0.05,
           "1132": 0.06,
           "1133": 0.08,
           "1134": 0.1,
           "1135": 0.09,
           "1136": 0.07,
           "1137": 0.08,
           "1138": 0.05,
           "1139": 0.03,
           "114": 0.06,
           "1140": 0.05,
           "1141": 0.09,
           "1142": 0.04,
           "1143": 0.01,
           "1144": 0.02,
           "1145": 0.05,
           "1146": 0.02,
           "1147": 0.02,
           "1148": 0.02,
           "1149": 0.06,
           "115": 0.1,
           "1150": 0.04,
           "1151": 0.03,
           "1152": 0.06,
           "1153": 0.04,
           "1154": 0.03,
           "1155": 0.05,
           "1156": 0.04,
           "1157": 0.02,
           "1158": 0.04,
           "1159": 0.06,
           "116": 0.12,
           "1160": 0.1,
           "1161": 0.05,
           "1162": 0.12,
           "1163": 0.11,
           "1164": 0.07,
           "1165": 0.06,
           "1166": 0.06,
           "1167": 0.04,
           "1168": 0.09,
           "1169": 0.04,
           "117": 0.06,
           "1170": 0.1,
           "1171": 0.07,
           "1172": 0.07,
           "1173": 0.03,
           "1174": 0.03,
           "1175": 0.07,
           "1176": 0.05,
           "1177": 0.04,
           "1178": 0.06,
           "1179": 0.06,
           "118": 0.06,
           "1180": 0.05,
           "1181": 0.05,
           "1182": 0.12,
           "1183": 0.1,
           "1184": 0.05,
           "1185": 0.05,
           "1186": 0.05,
           "1187": 0.06,
           "1188": 0.05,
           "1189": 0.06,
           "119": 0.05,
           "1190": 0.04,
           "1191": 0.02,
           "1192": 0.04,
           "1193": 0.05,
           "1194": 0.02,
           "1195": 0.04,
           "1196": 0.02,
           "1197": 0.02,
           "1198": 0.07,
           "1199": 0.03,
           "12": 0.04,
           "120": 0.07,
           "1200": 0.03,
           "1201": 0.02,
           "1202": 0.07,
           "1203": 0.11,
           "1204": 0.08,
           "1205": 0.05,
           "1206": 0.03,
           "1207": 0.05,
           "1208": 0.05,
           "1209": 0.02,
           "121": 0.06,
           "1210": 0.03,
           "1211": 0.06,
           "1212": 0.06,
           "1213": 0.05,
           "1214": 0.03,
           "1215": 0.03,
           "1216": 0.03,
           "1217": 0.05,
           "1218": 0.04,
           "1219": 0.05,
           "122": 0.13,
           "1220": 0.07,
           "1221": 0.03,
           "1222": 0.03,
           "1223": 0.04,
           "1224": 0.04,
           "1225": 0.03,
           "1226": 0.03,
           "1227": 0.02,
           "1228": 0.01,
           "1229": 0.04,
           "123": 0.05,
           "1230": 0.02,
           "1231": 0.04,
           "1232": 0.05,
           "1233": 0.03,
           "1234": 0.02,
           "1235": 0.02,
           "1236": 0.04,
           "1237": 0.04,
           "1238": 0.02,
           "1239": 0.03,
           "124": 0.04,
           "1240": 0.03,
           "1241": 0.02,
           "1242": 0.03,
           "1243": 0.02,
           "125": 0.08,
           "126": 0.08,
           "127": 0.08,
           "128": 0.04,
           "129": 0.05,
           "13": 0.03,
           "130": 0.06,
           "131": 0.04,
           "132": 0.07,
           "133": 0.07,
           "134": 0.06,
           "135": 0.07,
           "136": 0.05,
           "137": 0.05,
           "138": 0.12,
           "139": 0.07,
           "14": 0.02,
           "140": 0.09,
           "141": 0.15,
           "142": 0.13,
           "143": 0.07,
           "144": 0.02,
           "145": 0.04,
           "146": 0.04,
           "147": 0.06,
           "148": 0.05,
           "149": 0.05,
           "15": 0.03,
           "150": 0.05,
           "151": 0.05,
           "152": 0.07,
           "153": 0.08,
           "154": 0.07,
           "155": 0.07,
           "156": 0.05,
           "157": 0.04,
           "158": 0.2,
           "159": 0.12,
           "16": 0.04,
           "160": 0.09,
           "161": 0.08,
           "162": 0.06,
           "163": 0.05,
           "164": 0.06,
           "165": 0.05,
           "166": 0.08,
           "167": 0.07,
           "168": 0.07,
           "169": 0.07,
           "17": 0.03,
           "170": 0.12,
           "171": 0.09,
           "172": 0.1,
           "173": 0.13,
           "174": 0.13,
           "175": 0.1,
           "176": 0.13,
           "177": 0.11,
           "178": 0.07,
           "179": 0.05,
           "18": 0.04,
           "180": 0.09,
           "181": 0.07,
           "182": 0.1,
           "183": 0.12,
           "184": 0.06,
           "185": 0.06,
           "186": 0.05,
           "187": 0.07,
           "188": 0.07,
           "189": 0.07,
           "19": 0.06,
           "190": 0.06,
           "191": 0.06,
           "192": 0.04,
           "193": 0.06,
           "194": 0.07,
           "195": 0.07,
           "196": 0.06,
           "197": 0.07,
           "198": 0.07,
           "199": 0.05,
           "2": 0.05,
           "20": 0.02,
           "200": 0.04,
           "201": 0.08,
           "202": 0.05,
           "203": 0.06,
           "204": 0.1,
           "205": 0.12,
           "206": 0.1,
           "207": 0.1,
           "208": 0.06,
           "209": 0.07,
           "21": 0.03,
           "210": 0.06,
           "211": 0.05,
           "212": 0.05,
           "213": 0.06,
           "214": 0.05,
           "215": 0.04,
           "216": 0.05,
           "217": 0.06,
           "218": 0.06,
           "219": 0.08,
           "22": 0.02,
           "220": 0.07,
           "221": 0.05,
           "222": 0.06,
           "223": 0.06,
           "224": 0.05,
           "225": 0.07,
           "226": 0.14,
           "227": 0.31,
           "228": 0.23,
           "229": 0.05,
           "23": 0.06,
           "230": 0.13,
           "231": 0.11,
           "232": 0.05,
           "233": 0.06,
           "234": 0.03,
           "235": 0.05,
           "236": 0.08,
           "237": 0.04,
           "238": 0.08,
           "239": 0.07,
           "24": 0.04,
           "240": 0.09,
           "241": 0.05,
           "242": 0.05,
           "243": 0.09,
           "244": 0.1,
           "245": 0.1,
           "246": 0.05,
           "247": 0.09,
           "248": 0.07,
           "249": 0.07,
           "25": 0.03,
           "250": 0.06,
           "251": 0.04,
           "252": 0.04,
           "253": 0.05,
           "254": 0.07,
           "255": 0.06,
           "256": 0.03,
           "257": 0.02,
           "258": 0.02,
           "259": 0.02,
           "26": 0.02,
           "260": 0.04,
           "261": 0.07,
           "262": 0.07,
           "263": 0.07,
           "264": 0.08,
           "265": 0.04,
           "266": 0.06,
           "267": 0.06,
           "268": 0.05,
           "269": 0.06,
           "27": 0.03,
           "270": 0.08,
           "271": 0.07,
           "272": 0.08,
           "273": 0.03,
           "274": 0.03,
           "275": 0.01,
           "276": 0.02,
           "277": 0.06,
           "278": 0.05,
           "279": 0.03,
           "28": 0.02,
           "280": 0.03,
           "281": 0.03,
           "282": 0.03,
           "283": 0.05,
           "284": 0.06,
           "285": 0.06,
           "286": 0.09,
           "287": 0.09,
           "288": 0.1,
           "289": 0.11,
           "29": 0.03,
           "290": 0.13,
           "291": 0.12,
           "292": 0.17,
           "293": 0.06,
           "294": 0.08,
           "295": 0.06,
           "296": 0.04,
           "297": 0.04,
           "298": 0.06,
           "299": 0.08,
           "3": 0.03,
           "30": 0.04,
           "300": 0.08,
           "301": 0.07,
           "302": 0.06,
           "303": 0.06,
           "304": 0.04,
           "305": 0.06,
           "306": 0.03,
           "307": 0.05,
           "308": 0.03,
           "309": 0.04,
           "31": 0.05,
           "310": 0.04,
           "311": 0.03,
           "312": 0.04,
           "313": 0.06,
           "314": 0.07,
           "315": 0.04,
           "316": 0.05,
           "317": 0.03,
           "318": 0.02,
           "319": 0.05,
           "32": 0.04,
           "320": 0.07,
           "321": 0.09,
           "322": 0.12,
           "323": 0.07,
           "324": 0.08,
           "325": 0.07,
           "326": 0.12,
           "327": 0.1,
           "328": 0.07,
           "329": 0.04,
           "33": 0.04,
           "330": 0.03,
           "331": 0.03,
           "332": 0.04,
           "333": 0.04,
           "334": 0.04,
           "335": 0.05,
           "336": 0.06,
           "337": 0.07,
           "338": 0.07,
           "339": 0.06,
           "34": 0.03,
           "340": 0.1,
           "341": 0.13,
           "342": 0.12,
           "343": 0.1,
           "344": 0.08,
           "345": 0.09,
           "346": 0.13,
           "347": 0.1,
           "348": 0.1,
           "349": 0.05,
           "35": 0.03,
           "350": 0.07,
           "351": 0.04,
           "352": 0.08,
           "353": 0.04,
           "354": 0.1,
           "355": 0.03,
           "356": 0.08,
           "357": 0.13,
           "358": 0.11,
           "359": 0.05,
           "36": 0.06,
           "360": 0.04,
           "361": 0.05,
           "362": 0.05,
           "363": 0.07,
           "364": 0.08,
           "365": 0.08,
           "366": 0.04,
           "367": 0.04,
           "368": 0.03,
           "369": 0.03,
           "37": 0.04,
           "370": 0.03,
           "371": 0.03,
           "372": 0.03,
           "373": 0.05,
           "374": 0.05,
           "375": 0.04,
           "376": 0.02,
           "377": 0.03,
           "378": 0.02,
           "379": 0.02,
           "38": 0.08,
           "380": 0.04,
           "381": 0.04,
           "382": 0.03,
           "383": 0.02,
           "384": 0.02,
           "385": 0.03,
           "386": 0.05,
           "387": 0.06,
           "388": 0.09,
           "389": 0.04,
           "39": 0.07,
           "390": 0.03,
           "391": 0.03,
           "392": 0.03,
           "393": 0.01,
           "394": 0.06,
           "395": 0.08,
           "396": 0.11,
           "397": 0.08,
           "398": 0.09,
           "399": 0.12,
           "4": 0.03,
           "40": 0.05,
           "400": 0.09,
           "401": 0.06,
           "402": 0.12,
           "403": 0.12,
           "404": 0.11,
           "405": 0.05,
           "406": 0.04,
           "407": 0.06,
           "408": 0.07,
           "409": 0.02,
           "41": 0.02,
           "410": 0.03,
           "411": 0.02,
           "412": 0.02,
           "413": 0.04,
           "414": 0.03,
           "415": 0.03,
           "416": 0.03,
           "417": 0.02,
           "418": 0.06,
           "419": 0.03,
           "42": 0.03,
           "420": 0.11,
           "421": 0.07,
           "422": 0.04,
           "423": 0.06,
           "424": 0.05,
           "425": 0.12,
           "426": 0.09,
           "427": 0.12,
           "428": 0.13,
           "429": 0.13,
           "43": 0.03,
           "430": 0.07,
           "431": 0.09,
           "432": 0.15,
           "433": 0.18,
           "434": 0.18,
           "435": 0.11,
           "436": 0.15,
           "437": 0.2,
           "438": 0.06,
           "439": 0.03,
           "44": 0.06,
           "440": 0.03,
           "441": 0.1,
           "442": 0.11,
           "443": 0.02,
           "444": 0.04,
           "445": 0.04,
           "446": 0.09,
           "447": 0.1,
           "448": 0.07,
           "449": 0.05,
           "45": 0.06,
           "450": 0.04,
           "451": 0.08,
           "452": 0.04,
           "453": 0.04,
           "454": 0.1,
           "455": 0.07,
           "456": 0.06,
           "457": 0.07,
           "458": 0.08,
           "459": 0.03,
           "46": 0.05,
           "460": 0.19,
           "461": 0.04,
           "462": 0.06,
           "463": 0.04,
           "464": 0.04,
           "465": 0.04,
           "466": 0.03,
           "467": 0.05,
           "468": 0.05,
           "469": 0.07,
           "47": 0.04,
           "470": 0.05,
           "471": 0.06,
           "472": 0.03,
           "473": 0.08,
           "474": 0.07,
           "475": 0.11,
           "476": 0.27,
           "477": 0.04,
           "478": 0.03,
           "479": 0.03,
           "48": 0.04,
           "480": 0.05,
           "481": 0.05,
           "482": 0.09,
           "483": 0.08,
           "484": 0.05,
           "485": 0.05,
           "486": 0.05,
           "487": 0.05,
           "488": 0.07,
           "489": 0.05,
           "49": 0.01,
           "490": 0.07,
           "491": 0.06,
           "492": 0.06,
           "493": 0.05,
           "494": 0.08,
           "495": 0.08,
           "496": 0.05,
           "497": 0.07,
           "498": 0.04,
           "499": 0.02,
           "5": 0.09,
           "50": 0.04,
           "500": 0.03,
           "501": 0.05,
           "502": 0.05,
           "503": 0.05,
           "504": 0.04,
           "505": 0.04,
           "506": 0.02,
           "507": 0.03,
           "508": 0.03,
           "509": 0.06,
           "51": 0.03,
           "510": 0.07,
           "511": 0.05,
           "512": 0.05,
           "513": 0.03,
           "514": 0.04,
           "515": 0.05,
           "516": 0.08,
           "517": 0.06,
           "518": 0.05,
           "519": 0.05,
           "52": 0.01,
           "520": 0.03,
           "521": 0.04,
           "522": 0.02,
           "523": 0.02,
           "524": 0.02,
           "525": 0.04,
           "526": 0.02,
           "527": 0.03,
           "528": 0.09,
           "529": 0.03,
           "53": 0.04,
           "530": 0.02,
           "531": 0.07,
           "532": 0.02,
           "533": 0.02,
           "534": 0.02,
           "535": 0.02,
           "536": 0.01,
           "537": 0.04,
           "538": 0.02,
           "539": 0.03,
           "54": 0.04,
           "540": 0.01,
           "541": 0.01,
           "542": 0.02,
           "543": 0.04,
           "544": 0.02,
           "545": 0.02,
           "546": 0.03,
           "547": 0.01,
           "548": 0.02,
           "549": 0.02,
           "55": 0.05,
           "550": 0.02,
           "551": 0.05,
           "552": 0.03,
           "553": 0.03,
           "554": 0.03,
           "555": 0.03,
           "556": 0.02,
           "557": 0.02,
           "558": 0.03,
           "559": 0.04,
           "56": 0.06,
           "560": 0.02,
           "561": 0.02,
           "562": 0.05,
           "563": 0.02,
           "564": 0.03,
           "565": 0.03,
           "566": 0.02,
           "567": 0.02,
           "568": 0.03,
           "569": 0.03,
           "57": 0.08,
           "570": 0.02,
           "571": 0.01,
           "572": 0.02,
           "573": 0.05,
           "574": 0.03,
           "575": 0.02,
           "576": 0.03,
           "577": 0.03,
           "578": 0.04,
           "579": 0.05,
           "58": 0.05,
           "580": 0.01,
           "581": 0.02,
           "582": 0.02,
           "583": 0.27,
           "584": 0.03,
           "585": 0.02,
           "586": 0.02,
           "587": 0.03,
           "588": 0.02,
           "589": 0.03,
           "59": 0.07,
           "590": 0.03,
           "591": 0.07,
           "592": 0.08,
           "593": 0.11,
           "594": 0.07,
           "595": 0.12,
           "596": 0.18,
           "597": 0.07,
           "598": 0.08,
           "599": 0.06,
           "6": 0.03,
           "60": 0.04,
           "600": 0.05,
           "601": 0.05,
           "602": 0.07,
           "603": 0.11,
           "604": 0.05,
           "605": 0.08,
           "606": 0.08,
           "607": 0.09,
           "608": 0.08,
           "609": 0.05,
           "61": 0.09,
           "610": 0.09,
           "611": 0.06,
           "612": 0.09,
           "613": 0.11,
           "614": 0.11,
           "615": 0.07,
           "616": 0.05,
           "617": 0.08,
           "618": 0.03,
           "619": 0.02,
           "62": 0.07,
           "620": 0.03,
           "621": 0.03,
           "622": 0.02,
           "623": 0.03,
           "624": 0.02,
           "625": 0.03,
           "626": 0.02,
           "627": 0.04,
           "628": 0.03,
           "629": 0.05,
           "63": 0.02,
           "630": 0.04,
           "631": 0.04,
           "632": 0.06,
           "633": 0.06,
           "634": 0.06,
           "635": 0.04,
           "636": 0.06,
           "637": 0.09,
           "638": 0.06,
           "639": 0.04,
           "64": 0.05,
           "640": 0.05,
           "641": 0.05,
           "642": 0.05,
           "643": 0.07,
           "644": 0.05,
           "645": 0.05,
           "646": 0.1,
           "647": 0.08,
           "648": 0.07,
           "649": 0.08,
           "65": 0.07,
           "650": 0.07,
           "651": 0.06,
           "652": 0.05,
           "653": 0.04,
           "654": 0.04,
           "655": 0.03,
           "656": 0.08,
           "657": 0.05,
           "658": 0.08,
           "659": 0.03,
           "66": 0.07,
           "660": 0.05,
           "661": 0.05,
           "662": 0.07,
           "663": 0.04,
           "664": 0.03,
           "665": 0.03,
           "666": 0.02,
           "667": 0.02,
           "668": 0.04,
           "669": 0.02,
           "67": 0.05,
           "670": 0.02,
           "671": 0.05,
           "672": 0.06,
           "673": 0.04,
           "674": 0.07,
           "675": 0.09,
           "676": 0.09,
           "677": 0.09,
           "678": 0.15,
           "679": 0.11,
           "68": 0.04,
           "680": 0.06,
           "681": 0.08,
           "682": 0.09,
           "683": 0.09,
           "684": 0.08,
           "685": 0.09,
           "686": 0.07,
           "687": 0.03,
           "688": 0.05,
           "689": 0.04,
           "69": 0.08,
           "690": 0.05,
           "691": 0.01,
           "692": 0.02,
           "693": 0.03,
           "694": 0.09,
           "695": 0.06,
           "696": 0.05,
           "697": 0.09,
           "698": 0.03,
           "699": 0.03,
           "7": 0.04,
           "70": 0.09,
           "700": 0.03,
           "701": 0.18,
           "702": 0.13,
           "703": 0.1,
           "704": 0.06,
           "705": 0.08,
           "706": 0.09,
           "707": 0.08,
           "708": 0.15,
           "709": 0.15,
           "71": 0.09,
           "710": 0.07,
           "711": 0.03,
           "712": 0.05,
           "713": 0.01,
           "714": 0.03,
           "715": 0.03,
           "716": 0.02,
           "717": 0.02,
           "718": 0.02,
           "719": 0.02,
           "72": 0.07,
           "720": 0.1,
           "721": 0.04,
           "722": 0.03,
           "723": 0.03,
           "724": 0.03,
           "725": 0.04,
           "726": 0.03,
           "727": 0.05,
           "728": 0.03,
           "729": 0.05,
           "73": 0.08,
           "730": 0.03,
           "731": 0.03,
           "732": 0.03,
           "733": 0.09,
           "734": 0.06,
           "735": 0.02,
           "736": 0.04,
           "737": 0.03,
           "738": 0.05,
           "739": 0.02,
           "74": 0.2,
           "740": 0.05,
           "741": 0.08,
           "742": 0.08,
           "743": 0.07,
           "744": 0.06,
           "745": 0.11,
           "746": 0.06,
           "747": 0.05,
           "748": 0.06,
           "749": 0.03,
           "75": 0.05,
           "750": 0.05,
           "751": 0.02,
           "752": 0.05,
           "753": 0.06,
           "754": 0.07,
           "755": 0.03,
           "756": 0.03,
           "757": 0.06,
           "758": 0.02,
           "759": 0.01,
           "76": 0.05,
           "760": 0.03,
           "761": 0.03,
           "762": 0.02,
           "763": 0.06,
           "764": 0.04,
           "765": 0.06,
           "766": 0.06,
           "767": 0.04,
           "768": 0.04,
           "769": 0.05,
           "77": 0.06,
           "770": 0.03,
           "771": 0.04,
           "772": 0.04,
           "773": 0.03,
           "774": 0.03,
           "775": 0.02,
           "776": 0.01,
           "777": 0.03,
           "778": 0.03,
           "779": 0.01,
           "78": 0.12,
           "780": 0.04,
           "781": 0.02,
           "782": 0.01,
           "783": 0.06,
           "784": 0.02,
           "785": 0.08,
           "786": 0.05,
           "787": 0.05,
           "788": 0.08,
           "789": 0.07,
           "79": 0.2,
           "790": 0.08,
           "791": 0.09,
           "792": 0.07,
           "793": 0.08,
           "794": 0.05,
           "795": 0.06,
           "796": 0.04,
           "797": 0.09,
           "798": 0.17,
           "799": 0.09,
           "8": 0.04,
           "80": 0.14,
           "800": 0.08,
           "801": 0.06,
           "802": 0.06,
           "803": 0.03,
           "804": 0.12,
           "805": 0.14,
           "806": 0.07,
           "807": 0.05,
           "808": 0.04,
           "809": 0.03,
           "81": 0.16,
           "810": 0.06,
           "811": 0.13,
           "812": 0.13,
           "813": 0.05,
           "814": 0.03,
           "815": 0.03,
           "816": 0.04,
           "817": 0.04,
           "818": 0.05,
           "819": 0.05,
           "82": 0.21,
           "820": 0.05,
           "821": 0.03,
           "822": 0.02,
           "823": 0.02,
           "824": 0.03,
           "825": 0.11,
           "826": 0.07,
           "827": 0.05,
           "828": 0.07,
           "829": 0.03,
           "83": 0.14,
           "830": 0.03,
           "831": 0.06,
           "832": 0.01,
           "833": 0.06,
           "834": 0.05,
           "835": 0.08,
           "836": 0.07,
           "837": 0.09,
           "838": 0.07,
           "839": 0.08,
           "84": 0.14,
           "840": 0.12,
           "841": 0.07,
           "842": 0.05,
           "843": 0.04,
           "844": 0.05,
           "845": 0.05,
           "846": 0.05,
           "847": 0.08,
           "848": 0.05,
           "849": 0.02,
           "85": 0.19,
           "850": 0.05,
           "851": 0.05,
           "852": 0.01,
           "853": 0.03,
           "854": 0.03,
           "855": 0.04,
           "856": 0.04,
           "857": 0.04,
           "858": 0.02,
           "859": 0.02,
           "86": 0.21,
           "860": 0.02,
           "861": 0.02,
           "862": 0.04,
           "863": 0.03,
           "864": 0.07,
           "865": 0.06,
           "866": 0.04,
           "867": 0.02,
           "868": 0.02,
           "869": 0.09,
           "87": 0.11,
           "870": 0.04,
           "871": 0.04,
           "872": 0.05,
           "873": 0.09,
           "874": 0.02,
           "875": 0.02,
           "876": 0.02,
           "877": 0.01,
           "878": 0.03,
           "879": 0.03,
           "88": 0.17,
           "880": 0.04,
           "881": 0.02,
           "882": 0.03,
           "883": 0.04,
           "884": 0.02,
           "885": 0.04,
           "886": 0.04,
           "887": 0.02,
           "888": 0.03,
           "889": 0.04,
           "89": 0.16,
           "890": 0.04,
           "891": 0.02,
           "892": 0.02,
           "893": 0.02,
           "894": 0.02,
           "895": 0.01,
           "896": 0.04,
           "897": 0.03,
           "898": 0.04,
           "899": 0.03,
           "9": 0.06,
           "90": 0.08,
           "900": 0.02,
           "901": 0.03,
           "902": 0.03,
           "903": 0.02,
           "904": 0.08,
           "905": 0.04,
           "906": 0.05,
           "907": 0.03,
           "908": 0.03,
           "909": 0.03,
           "91": 0.09,
           "910": 0.02,
           "911": 0.05,
           "912": 0.04,
           "913": 0.03,
           "914": 0.03,
           "915": 0.05,
           "916": 0.04,
           "917": 0.05,
           "918": 0.1,
           "919": 0.02,
           "92": 0.1,
           "920": 0.01,
           "921": 0.01,
           "922": 0.01,
           "923": 0.04,
           "924": 0.03,
           "925": 0.04,
           "926": 0.02,
           "927": 0.02,
           "928": 0.03,
           "929": 0.03,
           "93": 0.1,
           "930": 0.02,
           "931": 0.01,
           "932": 0.05,
           "933": 0.02,
           "934": 0.02,
           "935": 0.02,
           "936": 0.03,
           "937": 0.03,
           "938": 0.02,
           "939": 0.04,
           "94": 0.1,
           "940": 0.02,
           "941": 0.02,
           "942": 0.05,
           "943": 0.03,
           "944": 0.03,
           "945": 0.08,
           "946": 0.05,
           "947": 0.12,
           "948": 0.01,
           "949": 0.02,
           "95": 0.08,
           "950": 0.03,
           "951": 0.01,
           "952": 0.04,
           "953": 0.05,
           "954": 0.02,
           "955": 0.02,
           "956": 0.05,
           "957": 0.04,
           "958": 0.04,
           "959": 0.03,
           "96": 0.11,
           "960": 0.04,
           "961": 0.03,
           "962": 0.02,
           "963": 0.03,
           "964": 0.03,
           "965": 0.03,
           "966": 0.04,
           "967": 0.03,
           "968": 0.03,
           "969": 0.03,
           "97": 0.08,
           "970": 0.03,
           "971": 0.04,
           "972": 0.04,
           "973": 0.06,
           "974": 0.05,
           "975": 0.03,
           "976": 0.05,
           "977": 0.05,
           "978": 0.06,
           "979": 0.05,
           "98": 0.1,
           "980": 0.04,
           "981": 0.07,
           "982": 0.13,
           "983": 0.12,
           "984": 0.11,
           "985": 0.1,
           "986": 0.11,
           "987": 0.11,
           "988": 0.04,
           "989": 0.08,
           "99": 0.1,
           "990": 0.09,
           "991": 0.06,
           "992": 0.04,
           "993": 0.02,
           "994": 0.05,
           "995": 0.11,
           "996": 0.04,
           "997": 0.03,
           "998": 0.06,
           "999": 0.02,
           "bdata": "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",
           "dtype": "f8",
           "shape": "1244"
          },
          "bdata": "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",
          "dtype": "f8"
         }
        }
       ],
       "layout": {
        "autosize": true,
        "coloraxis": {
         "colorbar": {
          "title": {
           "text": "Avg MAPE (%)"
          }
         },
         "colorscale": [
          [
           0,
           "#440154"
          ],
          [
           0.1111111111111111,
           "#482878"
          ],
          [
           0.2222222222222222,
           "#3e4989"
          ],
          [
           0.3333333333333333,
           "#31688e"
          ],
          [
           0.4444444444444444,
           "#26828e"
          ],
          [
           0.5555555555555556,
           "#1f9e89"
          ],
          [
           0.6666666666666666,
           "#35b779"
          ],
          [
           0.7777777777777778,
           "#6ece58"
          ],
          [
           0.8888888888888888,
           "#b5de2b"
          ],
          [
           1,
           "#fde725"
          ]
         ]
        },
        "legend": {
         "tracegroupgap": 0
        },
        "template": {
         "data": {
          "bar": [
           {
            "error_x": {
             "color": "#2a3f5f"
            },
            "error_y": {
             "color": "#2a3f5f"
            },
            "marker": {
             "line": {
              "color": "#E5ECF6",
              "width": 0.5
             },
             "pattern": {
              "fillmode": "overlay",
              "size": 10,
              "solidity": 0.2
             }
            },
            "type": "bar"
           }
          ],
          "barpolar": [
           {
            "marker": {
             "line": {
              "color": "#E5ECF6",
              "width": 0.5
             },
             "pattern": {
              "fillmode": "overlay",
              "size": 10,
              "solidity": 0.2
             }
            },
            "type": "barpolar"
           }
          ],
          "carpet": [
           {
            "aaxis": {
             "endlinecolor": "#2a3f5f",
             "gridcolor": "white",
             "linecolor": "white",
             "minorgridcolor": "white",
             "startlinecolor": "#2a3f5f"
            },
            "baxis": {
             "endlinecolor": "#2a3f5f",
             "gridcolor": "white",
             "linecolor": "white",
             "minorgridcolor": "white",
             "startlinecolor": "#2a3f5f"
            },
            "type": "carpet"
           }
          ],
          "choropleth": [
           {
            "colorbar": {
             "outlinewidth": 0,
             "ticks": ""
            },
            "type": "choropleth"
           }
          ],
          "contour": [
           {
            "colorbar": {
             "outlinewidth": 0,
             "ticks": ""
            },
            "colorscale": [
             [
              0,
              "#0d0887"
             ],
             [
              0.1111111111111111,
              "#46039f"
             ],
             [
              0.2222222222222222,
              "#7201a8"
             ],
             [
              0.3333333333333333,
              "#9c179e"
             ],
             [
              0.4444444444444444,
              "#bd3786"
             ],
             [
              0.5555555555555556,
              "#d8576b"
             ],
             [
              0.6666666666666666,
              "#ed7953"
             ],
             [
              0.7777777777777778,
              "#fb9f3a"
             ],
             [
              0.8888888888888888,
              "#fdca26"
             ],
             [
              1,
              "#f0f921"
             ]
            ],
            "type": "contour"
           }
          ],
          "contourcarpet": [
           {
            "colorbar": {
             "outlinewidth": 0,
             "ticks": ""
            },
            "type": "contourcarpet"
           }
          ],
          "heatmap": [
           {
            "colorbar": {
             "outlinewidth": 0,
             "ticks": ""
            },
            "colorscale": [
             [
              0,
              "#0d0887"
             ],
             [
              0.1111111111111111,
              "#46039f"
             ],
             [
              0.2222222222222222,
              "#7201a8"
             ],
             [
              0.3333333333333333,
              "#9c179e"
             ],
             [
              0.4444444444444444,
              "#bd3786"
             ],
             [
              0.5555555555555556,
              "#d8576b"
             ],
             [
              0.6666666666666666,
              "#ed7953"
             ],
             [
              0.7777777777777778,
              "#fb9f3a"
             ],
             [
              0.8888888888888888,
              "#fdca26"
             ],
             [
              1,
              "#f0f921"
             ]
            ],
            "type": "heatmap"
           }
          ],
          "histogram": [
           {
            "marker": {
             "pattern": {
              "fillmode": "overlay",
              "size": 10,
              "solidity": 0.2
             }
            },
            "type": "histogram"
           }
          ],
          "histogram2d": [
           {
            "colorbar": {
             "outlinewidth": 0,
             "ticks": ""
            },
            "colorscale": [
             [
              0,
              "#0d0887"
             ],
             [
              0.1111111111111111,
              "#46039f"
             ],
             [
              0.2222222222222222,
              "#7201a8"
             ],
             [
              0.3333333333333333,
              "#9c179e"
             ],
             [
              0.4444444444444444,
              "#bd3786"
             ],
             [
              0.5555555555555556,
              "#d8576b"
             ],
             [
              0.6666666666666666,
              "#ed7953"
             ],
             [
              0.7777777777777778,
              "#fb9f3a"
             ],
             [
              0.8888888888888888,
              "#fdca26"
             ],
             [
              1,
              "#f0f921"
             ]
            ],
            "type": "histogram2d"
           }
          ],
          "histogram2dcontour": [
           {
            "colorbar": {
             "outlinewidth": 0,
             "ticks": ""
            },
            "colorscale": [
             [
              0,
              "#0d0887"
             ],
             [
              0.1111111111111111,
              "#46039f"
             ],
             [
              0.2222222222222222,
              "#7201a8"
             ],
             [
              0.3333333333333333,
              "#9c179e"
             ],
             [
              0.4444444444444444,
              "#bd3786"
             ],
             [
              0.5555555555555556,
              "#d8576b"
             ],
             [
              0.6666666666666666,
              "#ed7953"
             ],
             [
              0.7777777777777778,
              "#fb9f3a"
             ],
             [
              0.8888888888888888,
              "#fdca26"
             ],
             [
              1,
              "#f0f921"
             ]
            ],
            "type": "histogram2dcontour"
           }
          ],
          "mesh3d": [
           {
            "colorbar": {
             "outlinewidth": 0,
             "ticks": ""
            },
            "type": "mesh3d"
           }
          ],
          "parcoords": [
           {
            "line": {
             "colorbar": {
              "outlinewidth": 0,
              "ticks": ""
             }
            },
            "type": "parcoords"
           }
          ],
          "pie": [
           {
            "automargin": true,
            "type": "pie"
           }
          ],
          "scatter": [
           {
            "fillpattern": {
             "fillmode": "overlay",
             "size": 10,
             "solidity": 0.2
            },
            "type": "scatter"
           }
          ],
          "scatter3d": [
           {
            "line": {
             "colorbar": {
              "outlinewidth": 0,
              "ticks": ""
             }
            },
            "marker": {
             "colorbar": {
              "outlinewidth": 0,
              "ticks": ""
             }
            },
            "type": "scatter3d"
           }
          ],
          "scattercarpet": [
           {
            "marker": {
             "colorbar": {
              "outlinewidth": 0,
              "ticks": ""
             }
            },
            "type": "scattercarpet"
           }
          ],
          "scattergeo": [
           {
            "marker": {
             "colorbar": {
              "outlinewidth": 0,
              "ticks": ""
             }
            },
            "type": "scattergeo"
           }
          ],
          "scattergl": [
           {
            "marker": {
             "colorbar": {
              "outlinewidth": 0,
              "ticks": ""
             }
            },
            "type": "scattergl"
           }
          ],
          "scattermap": [
           {
            "marker": {
             "colorbar": {
              "outlinewidth": 0,
              "ticks": ""
             }
            },
            "type": "scattermap"
           }
          ],
          "scattermapbox": [
           {
            "marker": {
             "colorbar": {
              "outlinewidth": 0,
              "ticks": ""
             }
            },
            "type": "scattermapbox"
           }
          ],
          "scatterpolar": [
           {
            "marker": {
             "colorbar": {
              "outlinewidth": 0,
              "ticks": ""
             }
            },
            "type": "scatterpolar"
           }
          ],
          "scatterpolargl": [
           {
            "marker": {
             "colorbar": {
              "outlinewidth": 0,
              "ticks": ""
             }
            },
            "type": "scatterpolargl"
           }
          ],
          "scatterternary": [
           {
            "marker": {
             "colorbar": {
              "outlinewidth": 0,
              "ticks": ""
             }
            },
            "type": "scatterternary"
           }
          ],
          "surface": [
           {
            "colorbar": {
             "outlinewidth": 0,
             "ticks": ""
            },
            "colorscale": [
             [
              0,
              "#0d0887"
             ],
             [
              0.1111111111111111,
              "#46039f"
             ],
             [
              0.2222222222222222,
              "#7201a8"
             ],
             [
              0.3333333333333333,
              "#9c179e"
             ],
             [
              0.4444444444444444,
              "#bd3786"
             ],
             [
              0.5555555555555556,
              "#d8576b"
             ],
             [
              0.6666666666666666,
              "#ed7953"
             ],
             [
              0.7777777777777778,
              "#fb9f3a"
             ],
             [
              0.8888888888888888,
              "#fdca26"
             ],
             [
              1,
              "#f0f921"
             ]
            ],
            "type": "surface"
           }
          ],
          "table": [
           {
            "cells": {
             "fill": {
              "color": "#EBF0F8"
             },
             "line": {
              "color": "white"
             }
            },
            "header": {
             "fill": {
              "color": "#C8D4E3"
             },
             "line": {
              "color": "white"
             }
            },
            "type": "table"
           }
          ]
         },
         "layout": {
          "annotationdefaults": {
           "arrowcolor": "#2a3f5f",
           "arrowhead": 0,
           "arrowwidth": 1
          },
          "autotypenumbers": "strict",
          "coloraxis": {
           "colorbar": {
            "outlinewidth": 0,
            "ticks": ""
           }
          },
          "colorscale": {
           "diverging": [
            [
             0,
             "#8e0152"
            ],
            [
             0.1,
             "#c51b7d"
            ],
            [
             0.2,
             "#de77ae"
            ],
            [
             0.3,
             "#f1b6da"
            ],
            [
             0.4,
             "#fde0ef"
            ],
            [
             0.5,
             "#f7f7f7"
            ],
            [
             0.6,
             "#e6f5d0"
            ],
            [
             0.7,
             "#b8e186"
            ],
            [
             0.8,
             "#7fbc41"
            ],
            [
             0.9,
             "#4d9221"
            ],
            [
             1,
             "#276419"
            ]
           ],
           "sequential": [
            [
             0,
             "#0d0887"
            ],
            [
             0.1111111111111111,
             "#46039f"
            ],
            [
             0.2222222222222222,
             "#7201a8"
            ],
            [
             0.3333333333333333,
             "#9c179e"
            ],
            [
             0.4444444444444444,
             "#bd3786"
            ],
            [
             0.5555555555555556,
             "#d8576b"
            ],
            [
             0.6666666666666666,
             "#ed7953"
            ],
            [
             0.7777777777777778,
             "#fb9f3a"
            ],
            [
             0.8888888888888888,
             "#fdca26"
            ],
            [
             1,
             "#f0f921"
            ]
           ],
           "sequentialminus": [
            [
             0,
             "#0d0887"
            ],
            [
             0.1111111111111111,
             "#46039f"
            ],
            [
             0.2222222222222222,
             "#7201a8"
            ],
            [
             0.3333333333333333,
             "#9c179e"
            ],
            [
             0.4444444444444444,
             "#bd3786"
            ],
            [
             0.5555555555555556,
             "#d8576b"
            ],
            [
             0.6666666666666666,
             "#ed7953"
            ],
            [
             0.7777777777777778,
             "#fb9f3a"
            ],
            [
             0.8888888888888888,
             "#fdca26"
            ],
            [
             1,
             "#f0f921"
            ]
           ]
          },
          "colorway": [
           "#636efa",
           "#EF553B",
           "#00cc96",
           "#ab63fa",
           "#FFA15A",
           "#19d3f3",
           "#FF6692",
           "#B6E880",
           "#FF97FF",
           "#FECB52"
          ],
          "font": {
           "color": "#2a3f5f"
          },
          "geo": {
           "bgcolor": "white",
           "lakecolor": "white",
           "landcolor": "#E5ECF6",
           "showlakes": true,
           "showland": true,
           "subunitcolor": "white"
          },
          "hoverlabel": {
           "align": "left"
          },
          "hovermode": "closest",
          "mapbox": {
           "style": "light"
          },
          "paper_bgcolor": "white",
          "plot_bgcolor": "#E5ECF6",
          "polar": {
           "angularaxis": {
            "gridcolor": "white",
            "linecolor": "white",
            "ticks": ""
           },
           "bgcolor": "#E5ECF6",
           "radialaxis": {
            "gridcolor": "white",
            "linecolor": "white",
            "ticks": ""
           }
          },
          "scene": {
           "xaxis": {
            "backgroundcolor": "#E5ECF6",
            "gridcolor": "white",
            "gridwidth": 2,
            "linecolor": "white",
            "showbackground": true,
            "ticks": "",
            "zerolinecolor": "white"
           },
           "yaxis": {
            "backgroundcolor": "#E5ECF6",
            "gridcolor": "white",
            "gridwidth": 2,
            "linecolor": "white",
            "showbackground": true,
            "ticks": "",
            "zerolinecolor": "white"
           },
           "zaxis": {
            "backgroundcolor": "#E5ECF6",
            "gridcolor": "white",
            "gridwidth": 2,
            "linecolor": "white",
            "showbackground": true,
            "ticks": "",
            "zerolinecolor": "white"
           }
          },
          "shapedefaults": {
           "line": {
            "color": "#2a3f5f"
           }
          },
          "ternary": {
           "aaxis": {
            "gridcolor": "white",
            "linecolor": "white",
            "ticks": ""
           },
           "baxis": {
            "gridcolor": "white",
            "linecolor": "white",
            "ticks": ""
           },
           "bgcolor": "#E5ECF6",
           "caxis": {
            "gridcolor": "white",
            "linecolor": "white",
            "ticks": ""
           }
          },
          "title": {
           "x": 0.05
          },
          "xaxis": {
           "automargin": true,
           "gridcolor": "white",
           "linecolor": "white",
           "ticks": "",
           "title": {
            "standoff": 15
           },
           "zerolinecolor": "white",
           "zerolinewidth": 2
          },
          "yaxis": {
           "automargin": true,
           "gridcolor": "white",
           "linecolor": "white",
           "ticks": "",
           "title": {
            "standoff": 15
           },
           "zerolinecolor": "white",
           "zerolinewidth": 2
          }
         }
        },
        "title": {
         "text": "Forecast Error Heatmap by Weekday and Month"
        },
        "xaxis": {
         "anchor": "y",
         "autorange": true,
         "domain": [
          0,
          1
         ],
         "range": [
          -0.5,
          6.5
         ],
         "title": {
          "text": "Day of the Week"
         },
         "type": "category"
        },
        "yaxis": {
         "anchor": "x",
         "autorange": true,
         "domain": [
          0,
          1
         ],
         "range": [
          -0.5,
          11.5
         ],
         "title": {
          "text": "Month"
         },
         "type": "category"
        }
       }
      },
      "image/png": "[encoded data removed]"
     },
     "metadata": {},
     "output_type": "display_data"
    }
   ],
   "source": [
    "# Load data from GitHub\n",
    "df_mape_daily = pd.read_csv(\"https://raw.githubusercontent.com/stevenstillstraining/plotly/main/Power/MAPE_Daily.csv\")\n",
    "\n",
    "# Create heatmap using average instead of sum\n",
    "fig_mape_daily = px.density_heatmap(\n",
    "    df_mape_daily,\n",
    "    x=\"Week_Day\",\n",
    "    y=\"Month\",\n",
    "    z=\"Mape\",\n",
    "    histfunc=\"avg\",\n",
    "    color_continuous_scale=\"Viridis\",\n",
    "    labels={\"Mape\": \"MAPE (%)\"},\n",
    "    title=\"Forecast Error Heatmap by Weekday and Month\"\n",
    ")\n",
    "\n",
    "fig_mape_daily.update_layout(\n",
    "    xaxis_title=\"Day of the Week\",\n",
    "    yaxis_title=\"Month\",\n",
    "    coloraxis_colorbar_title=\"Avg MAPE (%)\",\n",
    "    height=500\n",
    ")\n",
    "\n",
    "fig_mape_daily.show()\n"
   ]
  },
  {
   "cell_type": "code",
   "execution_count": 39,
   "id": "85cddf33-d218-45d1-bb42-cb80144fbb21",
   "metadata": {},
   "outputs": [
    {
     "name": "stdout",
     "output_type": "stream",
     "text": [
      "Object `this` not found.\n"
     ]
    }
   ],
   "source": [
    "Are there any ways You could impreove this?"
   ]
  },
  {
   "cell_type": "code",
   "execution_count": null,
   "id": "8152e4c4-2058-4e2a-aff4-b2bc0061e4ca",
   "metadata": {},
   "outputs": [],
   "source": [
    "import pandas as pd\n",
    "import plotly.express as px\n",
    "\n",
    "# Load half-hourly MAPE data from GitHub\n",
    "df_mape_hh = pd.read_csv(\"https://raw.githubusercontent.com/stevenstillstraining/plotly/main/Power/MAPE_HH.csv\")\n",
    "\n",
    "# Create heatmap using average MAPE\n",
    "fig_mape_hh = px.density_heatmap(\n",
    "    df_mape_hh,\n",
    "    x=\"Week_Day\",\n",
    "    y=\"Month\",\n",
    "    z=\"Mape\",\n",
    "    histfunc=\"avg\",\n",
    "    color_continuous_scale=\"Viridis\",\n",
    "    labels={\"Mape\": \"MAPE (%)\"},\n",
    "    title=\"Forecast Error Heatmap by Weekday and Month (Half-Hourly)\"\n",
    ")\n",
    "\n",
    "fig_mape_hh.update_layout(\n",
    "    xaxis_title=\"Day of the Week\",\n",
    "    yaxis_title=\"Month\",\n",
    "    coloraxis_colorbar_title=\"Avg MAPE (%)\",\n",
    "    height=500\n",
    ")\n",
    "\n",
    "fig_mape_hh.show()\n"
   ]
  },
  {
   "cell_type": "code",
   "execution_count": null,
   "id": "7a6e76a9-5281-4562-865a-c7e2d541b1f7",
   "metadata": {},
   "outputs": [],
   "source": []
  }
 ],
 "metadata": {
  "kernelspec": {
   "display_name": "Python 3 (ipykernel)",
   "language": "python",
   "name": "python3"
  },
  "language_info": {
   "codemirror_mode": {
    "name": "ipython",
    "version": 3
   },
   "file_extension": ".py",
   "mimetype": "text/x-python",
   "name": "python",
   "nbconvert_exporter": "python",
   "pygments_lexer": "ipython3",
   "version": "3.12.7"
  }
 },
 "nbformat": 4,
 "nbformat_minor": 5
}
