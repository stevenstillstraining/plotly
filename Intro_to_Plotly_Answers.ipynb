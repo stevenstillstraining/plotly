{
 "cells": [
  {
   "cell_type": "markdown",
   "id": "c1b7b7c6-360f-46fb-a65f-af4493f08909",
   "metadata": {},
   "source": [
    "# Introduction to Data Visualisation with Plotly\n",
    "**first some house keeping** \n",
    "<by>lets check you have the right version of numpy. anything less that version 2.3 should be ok"
   ]
  },
  {
   "cell_type": "code",
   "execution_count": 109,
   "id": "5a617011-5236-496a-ba98-a52b29956460",
   "metadata": {},
   "outputs": [],
   "source": [
    "import os # this will tell us where we are exporting out html files too\n",
    "import pandas as pd\n",
    "import numpy as np"
   ]
  },
  {
   "cell_type": "code",
   "execution_count": 91,
   "id": "24525f90-b684-402d-b66f-71abd1f4b725",
   "metadata": {},
   "outputs": [
    {
     "name": "stdout",
     "output_type": "stream",
     "text": [
      "1.26.4\n",
      "2.3.0\n"
     ]
    }
   ],
   "source": [
    "print(np.__version__)\n",
    "print(pd.__version__)"
   ]
  },
  {
   "cell_type": "markdown",
   "id": "e9c474d0-b19a-408d-b69c-ac85c84e3067",
   "metadata": {},
   "source": [
    "# Step 1 Load Data Frames"
   ]
  },
  {
   "cell_type": "code",
   "execution_count": 92,
   "id": "96553fc8-0341-4fec-956d-653625ddefc3",
   "metadata": {},
   "outputs": [],
   "source": [
    "gas_fc_data = 'https://raw.githubusercontent.com/stevenstillstraining/plotly/main/Gas/Gas_FC.csv'\n",
    "gas_vol_data = 'https://raw.githubusercontent.com/stevenstillstraining/plotly/main/Gas/Gas_Volume.csv'\n",
    "power_fc_data = 'https://raw.githubusercontent.com/stevenstillstraining/plotly/main/Power/Power_FC.csv'\n",
    "power_vol_data = 'https://raw.githubusercontent.com/stevenstillstraining/plotly/main/Power/Power_Volume.csv'"
   ]
  },
  {
   "cell_type": "code",
   "execution_count": 93,
   "id": "5ca94e69-c945-4bc4-bc45-9d32d83ab1c1",
   "metadata": {},
   "outputs": [],
   "source": [
    "gas_fc = pd.read_csv(gas_fc_data)\n",
    "gas_vol = pd.read_csv(gas_vol_data) \n",
    "power_fc = pd.read_csv(power_fc_data)\n",
    "power_vol = pd.read_csv(power_vol_data)"
   ]
  },
  {
   "cell_type": "code",
   "execution_count": 94,
   "id": "5b5bc02b-0db0-4f3b-a723-fe52fa00869e",
   "metadata": {},
   "outputs": [
    {
     "data": {
      "text/html": [
       "<div>\n",
       "<style scoped>\n",
       "    .dataframe tbody tr th:only-of-type {\n",
       "        vertical-align: middle;\n",
       "    }\n",
       "\n",
       "    .dataframe tbody tr th {\n",
       "        vertical-align: top;\n",
       "    }\n",
       "\n",
       "    .dataframe thead th {\n",
       "        text-align: right;\n",
       "    }\n",
       "</style>\n",
       "<table border=\"1\" class=\"dataframe\">\n",
       "  <thead>\n",
       "    <tr style=\"text-align: right;\">\n",
       "      <th></th>\n",
       "      <th>Date</th>\n",
       "      <th>PRC</th>\n",
       "    </tr>\n",
       "  </thead>\n",
       "  <tbody>\n",
       "    <tr>\n",
       "      <th>0</th>\n",
       "      <td>01/08/2025</td>\n",
       "      <td>82.73</td>\n",
       "    </tr>\n",
       "    <tr>\n",
       "      <th>1</th>\n",
       "      <td>01/09/2025</td>\n",
       "      <td>88.83</td>\n",
       "    </tr>\n",
       "  </tbody>\n",
       "</table>\n",
       "</div>"
      ],
      "text/plain": [
       "         Date    PRC\n",
       "0  01/08/2025  82.73\n",
       "1  01/09/2025  88.83"
      ]
     },
     "execution_count": 94,
     "metadata": {},
     "output_type": "execute_result"
    }
   ],
   "source": [
    "gas_fc.head(2)"
   ]
  },
  {
   "cell_type": "code",
   "execution_count": 100,
   "id": "019b874e-83d8-4ed9-b1d3-42e040db78f9",
   "metadata": {},
   "outputs": [
    {
     "data": {
      "text/html": [
       "<div>\n",
       "<style scoped>\n",
       "    .dataframe tbody tr th:only-of-type {\n",
       "        vertical-align: middle;\n",
       "    }\n",
       "\n",
       "    .dataframe tbody tr th {\n",
       "        vertical-align: top;\n",
       "    }\n",
       "\n",
       "    .dataframe thead th {\n",
       "        text-align: right;\n",
       "    }\n",
       "</style>\n",
       "<table border=\"1\" class=\"dataframe\">\n",
       "  <thead>\n",
       "    <tr style=\"text-align: right;\">\n",
       "      <th></th>\n",
       "      <th>Date</th>\n",
       "      <th>Volume therms</th>\n",
       "    </tr>\n",
       "  </thead>\n",
       "  <tbody>\n",
       "    <tr>\n",
       "      <th>0</th>\n",
       "      <td>Fri 01/08/25</td>\n",
       "      <td>4059.61</td>\n",
       "    </tr>\n",
       "    <tr>\n",
       "      <th>1</th>\n",
       "      <td>Sat 02/08/25</td>\n",
       "      <td>3354.20</td>\n",
       "    </tr>\n",
       "  </tbody>\n",
       "</table>\n",
       "</div>"
      ],
      "text/plain": [
       "           Date  Volume therms\n",
       "0  Fri 01/08/25        4059.61\n",
       "1  Sat 02/08/25        3354.20"
      ]
     },
     "execution_count": 100,
     "metadata": {},
     "output_type": "execute_result"
    }
   ],
   "source": [
    "gas_vol.head(2)"
   ]
  },
  {
   "cell_type": "code",
   "execution_count": 96,
   "id": "b6733443-0a4f-422f-8baa-0f091a037e41",
   "metadata": {},
   "outputs": [
    {
     "data": {
      "text/html": [
       "<div>\n",
       "<style scoped>\n",
       "    .dataframe tbody tr th:only-of-type {\n",
       "        vertical-align: middle;\n",
       "    }\n",
       "\n",
       "    .dataframe tbody tr th {\n",
       "        vertical-align: top;\n",
       "    }\n",
       "\n",
       "    .dataframe thead th {\n",
       "        text-align: right;\n",
       "    }\n",
       "</style>\n",
       "<table border=\"1\" class=\"dataframe\">\n",
       "  <thead>\n",
       "    <tr style=\"text-align: right;\">\n",
       "      <th></th>\n",
       "      <th>Date</th>\n",
       "      <th>bsld_prc</th>\n",
       "      <th>peak_prc</th>\n",
       "    </tr>\n",
       "  </thead>\n",
       "  <tbody>\n",
       "    <tr>\n",
       "      <th>0</th>\n",
       "      <td>Fri 01/08/2025</td>\n",
       "      <td>74.58</td>\n",
       "      <td>76.58</td>\n",
       "    </tr>\n",
       "    <tr>\n",
       "      <th>1</th>\n",
       "      <td>Mon 01/09/2025</td>\n",
       "      <td>82.33</td>\n",
       "      <td>89.97</td>\n",
       "    </tr>\n",
       "  </tbody>\n",
       "</table>\n",
       "</div>"
      ],
      "text/plain": [
       "             Date  bsld_prc peak_prc\n",
       "0  Fri 01/08/2025     74.58    76.58\n",
       "1  Mon 01/09/2025     82.33    89.97"
      ]
     },
     "execution_count": 96,
     "metadata": {},
     "output_type": "execute_result"
    }
   ],
   "source": [
    "power_fc.head(2)"
   ]
  },
  {
   "cell_type": "code",
   "execution_count": 101,
   "id": "87569399-450b-4b2c-b8ef-e19e8882f48c",
   "metadata": {},
   "outputs": [
    {
     "data": {
      "text/html": [
       "<div>\n",
       "<style scoped>\n",
       "    .dataframe tbody tr th:only-of-type {\n",
       "        vertical-align: middle;\n",
       "    }\n",
       "\n",
       "    .dataframe tbody tr th {\n",
       "        vertical-align: top;\n",
       "    }\n",
       "\n",
       "    .dataframe thead th {\n",
       "        text-align: right;\n",
       "    }\n",
       "</style>\n",
       "<table border=\"1\" class=\"dataframe\">\n",
       "  <thead>\n",
       "    <tr style=\"text-align: right;\">\n",
       "      <th></th>\n",
       "      <th>Settlement_Day</th>\n",
       "      <th>Settlement_Period</th>\n",
       "      <th>Purchased_Volume</th>\n",
       "      <th>Actual_Demand</th>\n",
       "      <th>Hedged Volume</th>\n",
       "    </tr>\n",
       "  </thead>\n",
       "  <tbody>\n",
       "    <tr>\n",
       "      <th>0</th>\n",
       "      <td>Fri 01/08/2025</td>\n",
       "      <td>1</td>\n",
       "      <td>46.12</td>\n",
       "      <td>46.52</td>\n",
       "      <td>49.21</td>\n",
       "    </tr>\n",
       "    <tr>\n",
       "      <th>1</th>\n",
       "      <td>Fri 01/08/2025</td>\n",
       "      <td>2</td>\n",
       "      <td>46.30</td>\n",
       "      <td>46.16</td>\n",
       "      <td>49.21</td>\n",
       "    </tr>\n",
       "  </tbody>\n",
       "</table>\n",
       "</div>"
      ],
      "text/plain": [
       "   Settlement_Day  Settlement_Period  Purchased_Volume  Actual_Demand  \\\n",
       "0  Fri 01/08/2025                  1             46.12          46.52   \n",
       "1  Fri 01/08/2025                  2             46.30          46.16   \n",
       "\n",
       "   Hedged Volume  \n",
       "0          49.21  \n",
       "1          49.21  "
      ]
     },
     "execution_count": 101,
     "metadata": {},
     "output_type": "execute_result"
    }
   ],
   "source": [
    "power_vol.head(2)"
   ]
  },
  {
   "cell_type": "markdown",
   "id": "77890bb2-add2-4b40-aa4f-1745543ed8bd",
   "metadata": {},
   "source": [
    "**can you remember how to load only the columns you want?**"
   ]
  },
  {
   "cell_type": "code",
   "execution_count": 98,
   "id": "bbe97c0f-eb7f-4d62-a0f8-1595c02d1063",
   "metadata": {},
   "outputs": [],
   "source": [
    "gas_vol = gas_vol[[\"Date\",\"Volume therms\"]]"
   ]
  },
  {
   "cell_type": "code",
   "execution_count": 99,
   "id": "570b4cef-c75d-4ad4-bbb3-6959d524501c",
   "metadata": {},
   "outputs": [],
   "source": [
    "power_vol = power_vol[[\"Settlement_Day\",\"Settlement_Period\",\"Purchased_Volume\",\"Actual_Demand\",\"Hedged Volume\"]]"
   ]
  },
  {
   "cell_type": "markdown",
   "id": "50200692-dd28-4269-9018-e15cab429a46",
   "metadata": {},
   "source": [
    "# Step 2: Get them Visualised"
   ]
  },
  {
   "cell_type": "markdown",
   "id": "78a7f99a-aca6-45fc-bc1d-39831e6a8fc8",
   "metadata": {},
   "source": [
    "First off why dont we just say \"import Plotly\" like we do with pandas"
   ]
  },
  {
   "cell_type": "markdown",
   "id": "4634cff4-037c-42a8-8cb2-06c1fefb10dd",
   "metadata": {},
   "source": [
    "Plotly is a huge catalgue of sub libraries for different purposes. <BR>We'll go through plotly express and cover how to use the catalogue to build an express plot<br> You can try the more extreme outliers if they fit your needs:<br>[Plotly Catalogue](https://plotly.com/python/)\n"
   ]
  },
  {
   "cell_type": "markdown",
   "id": "c410bd50-f9ce-4e4a-a55f-0fd6b123c2fe",
   "metadata": {},
   "source": [
    "## ...Now Actually Get them Visualised"
   ]
  },
  {
   "cell_type": "markdown",
   "id": "7e2d5a65-98cb-470c-aeb6-9f30f565eb13",
   "metadata": {},
   "source": [
    "grab the introduction to plotly express code for scartter graphs and paste it below:<br>[Plotly Catalogue](https://plotly.com/python/)"
   ]
  },
  {
   "cell_type": "code",
   "execution_count": 102,
   "id": "e7f2a9e3-f7a5-452d-bee7-2645451efa60",
   "metadata": {},
   "outputs": [],
   "source": [
    "import plotly.express as px"
   ]
  },
  {
   "cell_type": "code",
   "execution_count": 112,
   "id": "6537e4a4-62a5-4179-9583-1e1ea13e5de1",
   "metadata": {
    "scrolled": true
   },
   "outputs": [
    {
     "data": {
      "application/vnd.plotly.v1+json": {
       "config": {
        "plotlyServerURL": "https://plot.ly"
       },
       "data": [
        {
         "hovertemplate": "x=%{x}<br>y=%{y}<extra></extra>",
         "legendgroup": "",
         "marker": {
          "color": "#636efa",
          "symbol": "circle"
         },
         "mode": "markers",
         "name": "",
         "orientation": "v",
         "showlegend": false,
         "type": "scatter",
         "x": {
          "_inputArray": {
           "0": 0,
           "1": 1,
           "2": 2,
           "3": 3,
           "4": 4,
           "bdata": "AAECAwQ=",
           "dtype": "i1",
           "shape": "5"
          },
          "bdata": "AAECAwQ=",
          "dtype": "i1"
         },
         "xaxis": "x",
         "y": {
          "_inputArray": {
           "0": 0,
           "1": 1,
           "2": 4,
           "3": 9,
           "4": 16,
           "bdata": "AAEECRA=",
           "dtype": "i1",
           "shape": "5"
          },
          "bdata": "AAEECRA=",
          "dtype": "i1"
         },
         "yaxis": "y"
        }
       ],
       "layout": {
        "autosize": true,
        "legend": {
         "tracegroupgap": 0
        },
        "margin": {
         "t": 60
        },
        "template": {
         "data": {
          "bar": [
           {
            "error_x": {
             "color": "#2a3f5f"
            },
            "error_y": {
             "color": "#2a3f5f"
            },
            "marker": {
             "line": {
              "color": "#E5ECF6",
              "width": 0.5
             },
             "pattern": {
              "fillmode": "overlay",
              "size": 10,
              "solidity": 0.2
             }
            },
            "type": "bar"
           }
          ],
          "barpolar": [
           {
            "marker": {
             "line": {
              "color": "#E5ECF6",
              "width": 0.5
             },
             "pattern": {
              "fillmode": "overlay",
              "size": 10,
              "solidity": 0.2
             }
            },
            "type": "barpolar"
           }
          ],
          "carpet": [
           {
            "aaxis": {
             "endlinecolor": "#2a3f5f",
             "gridcolor": "white",
             "linecolor": "white",
             "minorgridcolor": "white",
             "startlinecolor": "#2a3f5f"
            },
            "baxis": {
             "endlinecolor": "#2a3f5f",
             "gridcolor": "white",
             "linecolor": "white",
             "minorgridcolor": "white",
             "startlinecolor": "#2a3f5f"
            },
            "type": "carpet"
           }
          ],
          "choropleth": [
           {
            "colorbar": {
             "outlinewidth": 0,
             "ticks": ""
            },
            "type": "choropleth"
           }
          ],
          "contour": [
           {
            "colorbar": {
             "outlinewidth": 0,
             "ticks": ""
            },
            "colorscale": [
             [
              0,
              "#0d0887"
             ],
             [
              0.1111111111111111,
              "#46039f"
             ],
             [
              0.2222222222222222,
              "#7201a8"
             ],
             [
              0.3333333333333333,
              "#9c179e"
             ],
             [
              0.4444444444444444,
              "#bd3786"
             ],
             [
              0.5555555555555556,
              "#d8576b"
             ],
             [
              0.6666666666666666,
              "#ed7953"
             ],
             [
              0.7777777777777778,
              "#fb9f3a"
             ],
             [
              0.8888888888888888,
              "#fdca26"
             ],
             [
              1,
              "#f0f921"
             ]
            ],
            "type": "contour"
           }
          ],
          "contourcarpet": [
           {
            "colorbar": {
             "outlinewidth": 0,
             "ticks": ""
            },
            "type": "contourcarpet"
           }
          ],
          "heatmap": [
           {
            "colorbar": {
             "outlinewidth": 0,
             "ticks": ""
            },
            "colorscale": [
             [
              0,
              "#0d0887"
             ],
             [
              0.1111111111111111,
              "#46039f"
             ],
             [
              0.2222222222222222,
              "#7201a8"
             ],
             [
              0.3333333333333333,
              "#9c179e"
             ],
             [
              0.4444444444444444,
              "#bd3786"
             ],
             [
              0.5555555555555556,
              "#d8576b"
             ],
             [
              0.6666666666666666,
              "#ed7953"
             ],
             [
              0.7777777777777778,
              "#fb9f3a"
             ],
             [
              0.8888888888888888,
              "#fdca26"
             ],
             [
              1,
              "#f0f921"
             ]
            ],
            "type": "heatmap"
           }
          ],
          "histogram": [
           {
            "marker": {
             "pattern": {
              "fillmode": "overlay",
              "size": 10,
              "solidity": 0.2
             }
            },
            "type": "histogram"
           }
          ],
          "histogram2d": [
           {
            "colorbar": {
             "outlinewidth": 0,
             "ticks": ""
            },
            "colorscale": [
             [
              0,
              "#0d0887"
             ],
             [
              0.1111111111111111,
              "#46039f"
             ],
             [
              0.2222222222222222,
              "#7201a8"
             ],
             [
              0.3333333333333333,
              "#9c179e"
             ],
             [
              0.4444444444444444,
              "#bd3786"
             ],
             [
              0.5555555555555556,
              "#d8576b"
             ],
             [
              0.6666666666666666,
              "#ed7953"
             ],
             [
              0.7777777777777778,
              "#fb9f3a"
             ],
             [
              0.8888888888888888,
              "#fdca26"
             ],
             [
              1,
              "#f0f921"
             ]
            ],
            "type": "histogram2d"
           }
          ],
          "histogram2dcontour": [
           {
            "colorbar": {
             "outlinewidth": 0,
             "ticks": ""
            },
            "colorscale": [
             [
              0,
              "#0d0887"
             ],
             [
              0.1111111111111111,
              "#46039f"
             ],
             [
              0.2222222222222222,
              "#7201a8"
             ],
             [
              0.3333333333333333,
              "#9c179e"
             ],
             [
              0.4444444444444444,
              "#bd3786"
             ],
             [
              0.5555555555555556,
              "#d8576b"
             ],
             [
              0.6666666666666666,
              "#ed7953"
             ],
             [
              0.7777777777777778,
              "#fb9f3a"
             ],
             [
              0.8888888888888888,
              "#fdca26"
             ],
             [
              1,
              "#f0f921"
             ]
            ],
            "type": "histogram2dcontour"
           }
          ],
          "mesh3d": [
           {
            "colorbar": {
             "outlinewidth": 0,
             "ticks": ""
            },
            "type": "mesh3d"
           }
          ],
          "parcoords": [
           {
            "line": {
             "colorbar": {
              "outlinewidth": 0,
              "ticks": ""
             }
            },
            "type": "parcoords"
           }
          ],
          "pie": [
           {
            "automargin": true,
            "type": "pie"
           }
          ],
          "scatter": [
           {
            "fillpattern": {
             "fillmode": "overlay",
             "size": 10,
             "solidity": 0.2
            },
            "type": "scatter"
           }
          ],
          "scatter3d": [
           {
            "line": {
             "colorbar": {
              "outlinewidth": 0,
              "ticks": ""
             }
            },
            "marker": {
             "colorbar": {
              "outlinewidth": 0,
              "ticks": ""
             }
            },
            "type": "scatter3d"
           }
          ],
          "scattercarpet": [
           {
            "marker": {
             "colorbar": {
              "outlinewidth": 0,
              "ticks": ""
             }
            },
            "type": "scattercarpet"
           }
          ],
          "scattergeo": [
           {
            "marker": {
             "colorbar": {
              "outlinewidth": 0,
              "ticks": ""
             }
            },
            "type": "scattergeo"
           }
          ],
          "scattergl": [
           {
            "marker": {
             "colorbar": {
              "outlinewidth": 0,
              "ticks": ""
             }
            },
            "type": "scattergl"
           }
          ],
          "scattermap": [
           {
            "marker": {
             "colorbar": {
              "outlinewidth": 0,
              "ticks": ""
             }
            },
            "type": "scattermap"
           }
          ],
          "scattermapbox": [
           {
            "marker": {
             "colorbar": {
              "outlinewidth": 0,
              "ticks": ""
             }
            },
            "type": "scattermapbox"
           }
          ],
          "scatterpolar": [
           {
            "marker": {
             "colorbar": {
              "outlinewidth": 0,
              "ticks": ""
             }
            },
            "type": "scatterpolar"
           }
          ],
          "scatterpolargl": [
           {
            "marker": {
             "colorbar": {
              "outlinewidth": 0,
              "ticks": ""
             }
            },
            "type": "scatterpolargl"
           }
          ],
          "scatterternary": [
           {
            "marker": {
             "colorbar": {
              "outlinewidth": 0,
              "ticks": ""
             }
            },
            "type": "scatterternary"
           }
          ],
          "surface": [
           {
            "colorbar": {
             "outlinewidth": 0,
             "ticks": ""
            },
            "colorscale": [
             [
              0,
              "#0d0887"
             ],
             [
              0.1111111111111111,
              "#46039f"
             ],
             [
              0.2222222222222222,
              "#7201a8"
             ],
             [
              0.3333333333333333,
              "#9c179e"
             ],
             [
              0.4444444444444444,
              "#bd3786"
             ],
             [
              0.5555555555555556,
              "#d8576b"
             ],
             [
              0.6666666666666666,
              "#ed7953"
             ],
             [
              0.7777777777777778,
              "#fb9f3a"
             ],
             [
              0.8888888888888888,
              "#fdca26"
             ],
             [
              1,
              "#f0f921"
             ]
            ],
            "type": "surface"
           }
          ],
          "table": [
           {
            "cells": {
             "fill": {
              "color": "#EBF0F8"
             },
             "line": {
              "color": "white"
             }
            },
            "header": {
             "fill": {
              "color": "#C8D4E3"
             },
             "line": {
              "color": "white"
             }
            },
            "type": "table"
           }
          ]
         },
         "layout": {
          "annotationdefaults": {
           "arrowcolor": "#2a3f5f",
           "arrowhead": 0,
           "arrowwidth": 1
          },
          "autotypenumbers": "strict",
          "coloraxis": {
           "colorbar": {
            "outlinewidth": 0,
            "ticks": ""
           }
          },
          "colorscale": {
           "diverging": [
            [
             0,
             "#8e0152"
            ],
            [
             0.1,
             "#c51b7d"
            ],
            [
             0.2,
             "#de77ae"
            ],
            [
             0.3,
             "#f1b6da"
            ],
            [
             0.4,
             "#fde0ef"
            ],
            [
             0.5,
             "#f7f7f7"
            ],
            [
             0.6,
             "#e6f5d0"
            ],
            [
             0.7,
             "#b8e186"
            ],
            [
             0.8,
             "#7fbc41"
            ],
            [
             0.9,
             "#4d9221"
            ],
            [
             1,
             "#276419"
            ]
           ],
           "sequential": [
            [
             0,
             "#0d0887"
            ],
            [
             0.1111111111111111,
             "#46039f"
            ],
            [
             0.2222222222222222,
             "#7201a8"
            ],
            [
             0.3333333333333333,
             "#9c179e"
            ],
            [
             0.4444444444444444,
             "#bd3786"
            ],
            [
             0.5555555555555556,
             "#d8576b"
            ],
            [
             0.6666666666666666,
             "#ed7953"
            ],
            [
             0.7777777777777778,
             "#fb9f3a"
            ],
            [
             0.8888888888888888,
             "#fdca26"
            ],
            [
             1,
             "#f0f921"
            ]
           ],
           "sequentialminus": [
            [
             0,
             "#0d0887"
            ],
            [
             0.1111111111111111,
             "#46039f"
            ],
            [
             0.2222222222222222,
             "#7201a8"
            ],
            [
             0.3333333333333333,
             "#9c179e"
            ],
            [
             0.4444444444444444,
             "#bd3786"
            ],
            [
             0.5555555555555556,
             "#d8576b"
            ],
            [
             0.6666666666666666,
             "#ed7953"
            ],
            [
             0.7777777777777778,
             "#fb9f3a"
            ],
            [
             0.8888888888888888,
             "#fdca26"
            ],
            [
             1,
             "#f0f921"
            ]
           ]
          },
          "colorway": [
           "#636efa",
           "#EF553B",
           "#00cc96",
           "#ab63fa",
           "#FFA15A",
           "#19d3f3",
           "#FF6692",
           "#B6E880",
           "#FF97FF",
           "#FECB52"
          ],
          "font": {
           "color": "#2a3f5f"
          },
          "geo": {
           "bgcolor": "white",
           "lakecolor": "white",
           "landcolor": "#E5ECF6",
           "showlakes": true,
           "showland": true,
           "subunitcolor": "white"
          },
          "hoverlabel": {
           "align": "left"
          },
          "hovermode": "closest",
          "mapbox": {
           "style": "light"
          },
          "paper_bgcolor": "white",
          "plot_bgcolor": "#E5ECF6",
          "polar": {
           "angularaxis": {
            "gridcolor": "white",
            "linecolor": "white",
            "ticks": ""
           },
           "bgcolor": "#E5ECF6",
           "radialaxis": {
            "gridcolor": "white",
            "linecolor": "white",
            "ticks": ""
           }
          },
          "scene": {
           "xaxis": {
            "backgroundcolor": "#E5ECF6",
            "gridcolor": "white",
            "gridwidth": 2,
            "linecolor": "white",
            "showbackground": true,
            "ticks": "",
            "zerolinecolor": "white"
           },
           "yaxis": {
            "backgroundcolor": "#E5ECF6",
            "gridcolor": "white",
            "gridwidth": 2,
            "linecolor": "white",
            "showbackground": true,
            "ticks": "",
            "zerolinecolor": "white"
           },
           "zaxis": {
            "backgroundcolor": "#E5ECF6",
            "gridcolor": "white",
            "gridwidth": 2,
            "linecolor": "white",
            "showbackground": true,
            "ticks": "",
            "zerolinecolor": "white"
           }
          },
          "shapedefaults": {
           "line": {
            "color": "#2a3f5f"
           }
          },
          "ternary": {
           "aaxis": {
            "gridcolor": "white",
            "linecolor": "white",
            "ticks": ""
           },
           "baxis": {
            "gridcolor": "white",
            "linecolor": "white",
            "ticks": ""
           },
           "bgcolor": "#E5ECF6",
           "caxis": {
            "gridcolor": "white",
            "linecolor": "white",
            "ticks": ""
           }
          },
          "title": {
           "x": 0.05
          },
          "xaxis": {
           "automargin": true,
           "gridcolor": "white",
           "linecolor": "white",
           "ticks": "",
           "title": {
            "standoff": 15
           },
           "zerolinecolor": "white",
           "zerolinewidth": 2
          },
          "yaxis": {
           "automargin": true,
           "gridcolor": "white",
           "linecolor": "white",
           "ticks": "",
           "title": {
            "standoff": 15
           },
           "zerolinecolor": "white",
           "zerolinewidth": 2
          }
         }
        },
        "xaxis": {
         "anchor": "y",
         "autorange": true,
         "domain": [
          0,
          1
         ],
         "range": [
          -0.24229287090558768,
          4.242292870905588
         ],
         "title": {
          "text": "x"
         },
         "type": "linear"
        },
        "yaxis": {
         "anchor": "x",
         "autorange": true,
         "domain": [
          0,
          1
         ],
         "range": [
          -1.2388451443569553,
          17.238845144356954
         ],
         "title": {
          "text": "y"
         },
         "type": "linear"
        }
       }
      },
      "image/png": "[encoded data removed]"
     },
     "metadata": {},
     "output_type": "display_data"
    }
   ],
   "source": [
    "fig = px.scatter(x=[0, 1, 2, 3, 4], y=[0, 1, 4, 9, 16])\n",
    "fig.show()"
   ]
  },
  {
   "cell_type": "markdown",
   "id": "4d3c5733-0c66-4bf1-99a2-4556acecddd0",
   "metadata": {},
   "source": [
    "There is probably a better graph type for us doing time series:"
   ]
  },
  {
   "cell_type": "code",
   "execution_count": 113,
   "id": "6f079329-9107-49ff-babd-b00df35bb5a1",
   "metadata": {},
   "outputs": [
    {
     "data": {
      "application/vnd.plotly.v1+json": {
       "config": {
        "plotlyServerURL": "https://plot.ly"
       },
       "data": [
        {
         "hovertemplate": "x=%{x}<br>y=%{y}<extra></extra>",
         "legendgroup": "",
         "line": {
          "color": "#636efa",
          "dash": "solid"
         },
         "marker": {
          "symbol": "circle"
         },
         "mode": "lines",
         "name": "",
         "orientation": "v",
         "showlegend": false,
         "type": "scatter",
         "x": {
          "_inputArray": {
           "0": 0,
           "1": 1,
           "2": 2,
           "3": 3,
           "4": 4,
           "bdata": "AAECAwQ=",
           "dtype": "i1",
           "shape": "5"
          },
          "bdata": "AAECAwQ=",
          "dtype": "i1"
         },
         "xaxis": "x",
         "y": {
          "_inputArray": {
           "0": 0,
           "1": 1,
           "2": 4,
           "3": 9,
           "4": 16,
           "bdata": "AAEECRA=",
           "dtype": "i1",
           "shape": "5"
          },
          "bdata": "AAEECRA=",
          "dtype": "i1"
         },
         "yaxis": "y"
        }
       ],
       "layout": {
        "autosize": true,
        "legend": {
         "tracegroupgap": 0
        },
        "margin": {
         "t": 60
        },
        "template": {
         "data": {
          "bar": [
           {
            "error_x": {
             "color": "#2a3f5f"
            },
            "error_y": {
             "color": "#2a3f5f"
            },
            "marker": {
             "line": {
              "color": "#E5ECF6",
              "width": 0.5
             },
             "pattern": {
              "fillmode": "overlay",
              "size": 10,
              "solidity": 0.2
             }
            },
            "type": "bar"
           }
          ],
          "barpolar": [
           {
            "marker": {
             "line": {
              "color": "#E5ECF6",
              "width": 0.5
             },
             "pattern": {
              "fillmode": "overlay",
              "size": 10,
              "solidity": 0.2
             }
            },
            "type": "barpolar"
           }
          ],
          "carpet": [
           {
            "aaxis": {
             "endlinecolor": "#2a3f5f",
             "gridcolor": "white",
             "linecolor": "white",
             "minorgridcolor": "white",
             "startlinecolor": "#2a3f5f"
            },
            "baxis": {
             "endlinecolor": "#2a3f5f",
             "gridcolor": "white",
             "linecolor": "white",
             "minorgridcolor": "white",
             "startlinecolor": "#2a3f5f"
            },
            "type": "carpet"
           }
          ],
          "choropleth": [
           {
            "colorbar": {
             "outlinewidth": 0,
             "ticks": ""
            },
            "type": "choropleth"
           }
          ],
          "contour": [
           {
            "colorbar": {
             "outlinewidth": 0,
             "ticks": ""
            },
            "colorscale": [
             [
              0,
              "#0d0887"
             ],
             [
              0.1111111111111111,
              "#46039f"
             ],
             [
              0.2222222222222222,
              "#7201a8"
             ],
             [
              0.3333333333333333,
              "#9c179e"
             ],
             [
              0.4444444444444444,
              "#bd3786"
             ],
             [
              0.5555555555555556,
              "#d8576b"
             ],
             [
              0.6666666666666666,
              "#ed7953"
             ],
             [
              0.7777777777777778,
              "#fb9f3a"
             ],
             [
              0.8888888888888888,
              "#fdca26"
             ],
             [
              1,
              "#f0f921"
             ]
            ],
            "type": "contour"
           }
          ],
          "contourcarpet": [
           {
            "colorbar": {
             "outlinewidth": 0,
             "ticks": ""
            },
            "type": "contourcarpet"
           }
          ],
          "heatmap": [
           {
            "colorbar": {
             "outlinewidth": 0,
             "ticks": ""
            },
            "colorscale": [
             [
              0,
              "#0d0887"
             ],
             [
              0.1111111111111111,
              "#46039f"
             ],
             [
              0.2222222222222222,
              "#7201a8"
             ],
             [
              0.3333333333333333,
              "#9c179e"
             ],
             [
              0.4444444444444444,
              "#bd3786"
             ],
             [
              0.5555555555555556,
              "#d8576b"
             ],
             [
              0.6666666666666666,
              "#ed7953"
             ],
             [
              0.7777777777777778,
              "#fb9f3a"
             ],
             [
              0.8888888888888888,
              "#fdca26"
             ],
             [
              1,
              "#f0f921"
             ]
            ],
            "type": "heatmap"
           }
          ],
          "histogram": [
           {
            "marker": {
             "pattern": {
              "fillmode": "overlay",
              "size": 10,
              "solidity": 0.2
             }
            },
            "type": "histogram"
           }
          ],
          "histogram2d": [
           {
            "colorbar": {
             "outlinewidth": 0,
             "ticks": ""
            },
            "colorscale": [
             [
              0,
              "#0d0887"
             ],
             [
              0.1111111111111111,
              "#46039f"
             ],
             [
              0.2222222222222222,
              "#7201a8"
             ],
             [
              0.3333333333333333,
              "#9c179e"
             ],
             [
              0.4444444444444444,
              "#bd3786"
             ],
             [
              0.5555555555555556,
              "#d8576b"
             ],
             [
              0.6666666666666666,
              "#ed7953"
             ],
             [
              0.7777777777777778,
              "#fb9f3a"
             ],
             [
              0.8888888888888888,
              "#fdca26"
             ],
             [
              1,
              "#f0f921"
             ]
            ],
            "type": "histogram2d"
           }
          ],
          "histogram2dcontour": [
           {
            "colorbar": {
             "outlinewidth": 0,
             "ticks": ""
            },
            "colorscale": [
             [
              0,
              "#0d0887"
             ],
             [
              0.1111111111111111,
              "#46039f"
             ],
             [
              0.2222222222222222,
              "#7201a8"
             ],
             [
              0.3333333333333333,
              "#9c179e"
             ],
             [
              0.4444444444444444,
              "#bd3786"
             ],
             [
              0.5555555555555556,
              "#d8576b"
             ],
             [
              0.6666666666666666,
              "#ed7953"
             ],
             [
              0.7777777777777778,
              "#fb9f3a"
             ],
             [
              0.8888888888888888,
              "#fdca26"
             ],
             [
              1,
              "#f0f921"
             ]
            ],
            "type": "histogram2dcontour"
           }
          ],
          "mesh3d": [
           {
            "colorbar": {
             "outlinewidth": 0,
             "ticks": ""
            },
            "type": "mesh3d"
           }
          ],
          "parcoords": [
           {
            "line": {
             "colorbar": {
              "outlinewidth": 0,
              "ticks": ""
             }
            },
            "type": "parcoords"
           }
          ],
          "pie": [
           {
            "automargin": true,
            "type": "pie"
           }
          ],
          "scatter": [
           {
            "fillpattern": {
             "fillmode": "overlay",
             "size": 10,
             "solidity": 0.2
            },
            "type": "scatter"
           }
          ],
          "scatter3d": [
           {
            "line": {
             "colorbar": {
              "outlinewidth": 0,
              "ticks": ""
             }
            },
            "marker": {
             "colorbar": {
              "outlinewidth": 0,
              "ticks": ""
             }
            },
            "type": "scatter3d"
           }
          ],
          "scattercarpet": [
           {
            "marker": {
             "colorbar": {
              "outlinewidth": 0,
              "ticks": ""
             }
            },
            "type": "scattercarpet"
           }
          ],
          "scattergeo": [
           {
            "marker": {
             "colorbar": {
              "outlinewidth": 0,
              "ticks": ""
             }
            },
            "type": "scattergeo"
           }
          ],
          "scattergl": [
           {
            "marker": {
             "colorbar": {
              "outlinewidth": 0,
              "ticks": ""
             }
            },
            "type": "scattergl"
           }
          ],
          "scattermap": [
           {
            "marker": {
             "colorbar": {
              "outlinewidth": 0,
              "ticks": ""
             }
            },
            "type": "scattermap"
           }
          ],
          "scattermapbox": [
           {
            "marker": {
             "colorbar": {
              "outlinewidth": 0,
              "ticks": ""
             }
            },
            "type": "scattermapbox"
           }
          ],
          "scatterpolar": [
           {
            "marker": {
             "colorbar": {
              "outlinewidth": 0,
              "ticks": ""
             }
            },
            "type": "scatterpolar"
           }
          ],
          "scatterpolargl": [
           {
            "marker": {
             "colorbar": {
              "outlinewidth": 0,
              "ticks": ""
             }
            },
            "type": "scatterpolargl"
           }
          ],
          "scatterternary": [
           {
            "marker": {
             "colorbar": {
              "outlinewidth": 0,
              "ticks": ""
             }
            },
            "type": "scatterternary"
           }
          ],
          "surface": [
           {
            "colorbar": {
             "outlinewidth": 0,
             "ticks": ""
            },
            "colorscale": [
             [
              0,
              "#0d0887"
             ],
             [
              0.1111111111111111,
              "#46039f"
             ],
             [
              0.2222222222222222,
              "#7201a8"
             ],
             [
              0.3333333333333333,
              "#9c179e"
             ],
             [
              0.4444444444444444,
              "#bd3786"
             ],
             [
              0.5555555555555556,
              "#d8576b"
             ],
             [
              0.6666666666666666,
              "#ed7953"
             ],
             [
              0.7777777777777778,
              "#fb9f3a"
             ],
             [
              0.8888888888888888,
              "#fdca26"
             ],
             [
              1,
              "#f0f921"
             ]
            ],
            "type": "surface"
           }
          ],
          "table": [
           {
            "cells": {
             "fill": {
              "color": "#EBF0F8"
             },
             "line": {
              "color": "white"
             }
            },
            "header": {
             "fill": {
              "color": "#C8D4E3"
             },
             "line": {
              "color": "white"
             }
            },
            "type": "table"
           }
          ]
         },
         "layout": {
          "annotationdefaults": {
           "arrowcolor": "#2a3f5f",
           "arrowhead": 0,
           "arrowwidth": 1
          },
          "autotypenumbers": "strict",
          "coloraxis": {
           "colorbar": {
            "outlinewidth": 0,
            "ticks": ""
           }
          },
          "colorscale": {
           "diverging": [
            [
             0,
             "#8e0152"
            ],
            [
             0.1,
             "#c51b7d"
            ],
            [
             0.2,
             "#de77ae"
            ],
            [
             0.3,
             "#f1b6da"
            ],
            [
             0.4,
             "#fde0ef"
            ],
            [
             0.5,
             "#f7f7f7"
            ],
            [
             0.6,
             "#e6f5d0"
            ],
            [
             0.7,
             "#b8e186"
            ],
            [
             0.8,
             "#7fbc41"
            ],
            [
             0.9,
             "#4d9221"
            ],
            [
             1,
             "#276419"
            ]
           ],
           "sequential": [
            [
             0,
             "#0d0887"
            ],
            [
             0.1111111111111111,
             "#46039f"
            ],
            [
             0.2222222222222222,
             "#7201a8"
            ],
            [
             0.3333333333333333,
             "#9c179e"
            ],
            [
             0.4444444444444444,
             "#bd3786"
            ],
            [
             0.5555555555555556,
             "#d8576b"
            ],
            [
             0.6666666666666666,
             "#ed7953"
            ],
            [
             0.7777777777777778,
             "#fb9f3a"
            ],
            [
             0.8888888888888888,
             "#fdca26"
            ],
            [
             1,
             "#f0f921"
            ]
           ],
           "sequentialminus": [
            [
             0,
             "#0d0887"
            ],
            [
             0.1111111111111111,
             "#46039f"
            ],
            [
             0.2222222222222222,
             "#7201a8"
            ],
            [
             0.3333333333333333,
             "#9c179e"
            ],
            [
             0.4444444444444444,
             "#bd3786"
            ],
            [
             0.5555555555555556,
             "#d8576b"
            ],
            [
             0.6666666666666666,
             "#ed7953"
            ],
            [
             0.7777777777777778,
             "#fb9f3a"
            ],
            [
             0.8888888888888888,
             "#fdca26"
            ],
            [
             1,
             "#f0f921"
            ]
           ]
          },
          "colorway": [
           "#636efa",
           "#EF553B",
           "#00cc96",
           "#ab63fa",
           "#FFA15A",
           "#19d3f3",
           "#FF6692",
           "#B6E880",
           "#FF97FF",
           "#FECB52"
          ],
          "font": {
           "color": "#2a3f5f"
          },
          "geo": {
           "bgcolor": "white",
           "lakecolor": "white",
           "landcolor": "#E5ECF6",
           "showlakes": true,
           "showland": true,
           "subunitcolor": "white"
          },
          "hoverlabel": {
           "align": "left"
          },
          "hovermode": "closest",
          "mapbox": {
           "style": "light"
          },
          "paper_bgcolor": "white",
          "plot_bgcolor": "#E5ECF6",
          "polar": {
           "angularaxis": {
            "gridcolor": "white",
            "linecolor": "white",
            "ticks": ""
           },
           "bgcolor": "#E5ECF6",
           "radialaxis": {
            "gridcolor": "white",
            "linecolor": "white",
            "ticks": ""
           }
          },
          "scene": {
           "xaxis": {
            "backgroundcolor": "#E5ECF6",
            "gridcolor": "white",
            "gridwidth": 2,
            "linecolor": "white",
            "showbackground": true,
            "ticks": "",
            "zerolinecolor": "white"
           },
           "yaxis": {
            "backgroundcolor": "#E5ECF6",
            "gridcolor": "white",
            "gridwidth": 2,
            "linecolor": "white",
            "showbackground": true,
            "ticks": "",
            "zerolinecolor": "white"
           },
           "zaxis": {
            "backgroundcolor": "#E5ECF6",
            "gridcolor": "white",
            "gridwidth": 2,
            "linecolor": "white",
            "showbackground": true,
            "ticks": "",
            "zerolinecolor": "white"
           }
          },
          "shapedefaults": {
           "line": {
            "color": "#2a3f5f"
           }
          },
          "ternary": {
           "aaxis": {
            "gridcolor": "white",
            "linecolor": "white",
            "ticks": ""
           },
           "baxis": {
            "gridcolor": "white",
            "linecolor": "white",
            "ticks": ""
           },
           "bgcolor": "#E5ECF6",
           "caxis": {
            "gridcolor": "white",
            "linecolor": "white",
            "ticks": ""
           }
          },
          "title": {
           "x": 0.05
          },
          "xaxis": {
           "automargin": true,
           "gridcolor": "white",
           "linecolor": "white",
           "ticks": "",
           "title": {
            "standoff": 15
           },
           "zerolinecolor": "white",
           "zerolinewidth": 2
          },
          "yaxis": {
           "automargin": true,
           "gridcolor": "white",
           "linecolor": "white",
           "ticks": "",
           "title": {
            "standoff": 15
           },
           "zerolinecolor": "white",
           "zerolinewidth": 2
          }
         }
        },
        "xaxis": {
         "anchor": "y",
         "autorange": true,
         "domain": [
          0,
          1
         ],
         "range": [
          0,
          4
         ],
         "title": {
          "text": "x"
         },
         "type": "linear"
        },
        "yaxis": {
         "anchor": "x",
         "autorange": true,
         "domain": [
          0,
          1
         ],
         "range": [
          -0.888888888888889,
          16.88888888888889
         ],
         "title": {
          "text": "y"
         },
         "type": "linear"
        }
       }
      },
      "image/png": "[encoded data removed]"
     },
     "metadata": {},
     "output_type": "display_data"
    }
   ],
   "source": [
    "fig = px.line(x=[0, 1, 2, 3, 4], y=[0, 1, 4, 9, 16])\n",
    "fig.show()"
   ]
  },
  {
   "cell_type": "markdown",
   "id": "09dacd4d-5a10-4d80-ae77-d7468923550f",
   "metadata": {},
   "source": [
    "Now we can add our data into this framework.<br> Heres the syntax to help:<br>\n",
    "fig = px.line(**DATAFRAME**,x=**\"COLUMN 1\"**, y=**\"COLUMN 2\"**)\n",
    "paste the introduction test details below to use the **gas_fc** data frame with the x axis being the date and the y axis the price\n"
   ]
  },
  {
   "cell_type": "code",
   "execution_count": 104,
   "id": "d47596e2-d0e9-40cf-bbc7-0939a37beeb1",
   "metadata": {},
   "outputs": [
    {
     "data": {
      "application/vnd.plotly.v1+json": {
       "config": {
        "plotlyServerURL": "https://plot.ly"
       },
       "data": [
        {
         "hovertemplate": "Date=%{x}<br>PRC=%{y}<extra></extra>",
         "legendgroup": "",
         "line": {
          "color": "#636efa",
          "dash": "solid"
         },
         "marker": {
          "symbol": "circle"
         },
         "mode": "lines",
         "name": "",
         "orientation": "v",
         "showlegend": false,
         "type": "scatter",
         "x": [
          "01/08/2025",
          "01/09/2025",
          "01/10/2025",
          "01/11/2025",
          "01/12/2025",
          "01/01/2026",
          "01/02/2026",
          "01/03/2026",
          "01/04/2026",
          "01/05/2026",
          "01/06/2026",
          "01/07/2026",
          "01/08/2026",
          "01/09/2026",
          "01/10/2026",
          "01/11/2026",
          "01/12/2026",
          "01/01/2027",
          "01/02/2027",
          "01/03/2027",
          "01/04/2027",
          "01/05/2027",
          "01/06/2027",
          "01/07/2027",
          "01/08/2027",
          "01/09/2027",
          "01/10/2027",
          "01/11/2027",
          "01/12/2027",
          "01/01/2028",
          "01/02/2028",
          "01/03/2028",
          "01/04/2028",
          "01/05/2028",
          "01/06/2028",
          "01/07/2028",
          "01/08/2028",
          "01/09/2028",
          "01/10/2028",
          "01/11/2028",
          "01/12/2028",
          "01/01/2029",
          "01/02/2029",
          "01/03/2029",
          "01/04/2029",
          "01/05/2029",
          "01/06/2029",
          "01/07/2029",
          "01/08/2029",
          "01/09/2029",
          "01/10/2029",
          "01/11/2029",
          "01/12/2029",
          "01/01/2030",
          "01/02/2030",
          "01/03/2030",
          "01/04/2030",
          "01/05/2030",
          "01/06/2030",
          "01/07/2030",
          "01/08/2030",
          "01/09/2030",
          "01/10/2030",
          "01/11/2030",
          "01/12/2030",
          "01/01/2031",
          "01/02/2031",
          "01/03/2031",
          "01/04/2031",
          "01/05/2031",
          "01/06/2031"
         ],
         "xaxis": "x",
         "y": {
          "_inputArray": {
           "0": 82.73,
           "1": 88.83,
           "10": 83.16,
           "11": 83.65,
           "12": 87.45,
           "13": 87.31,
           "14": 89.87,
           "15": 95.66,
           "16": 93.23,
           "17": 96.26,
           "18": 97.37,
           "19": 91.24,
           "2": 90.86,
           "20": 80.31,
           "21": 78.69,
           "22": 74.94,
           "23": 75.87,
           "24": 75.37,
           "25": 76.95,
           "26": 78.83,
           "27": 83.99,
           "28": 84.23,
           "29": 85.28,
           "3": 96.27,
           "30": 86.5,
           "31": 82.54,
           "32": 74.54,
           "33": 70.13,
           "34": 69.55,
           "35": 67.67,
           "36": 68.62,
           "37": 71.9,
           "38": 76.81,
           "39": 78.17,
           "4": 100.27,
           "40": 79.59,
           "41": 83.13,
           "42": 81.31,
           "43": 79.09,
           "44": 71.53,
           "45": 71.48,
           "46": 70.37,
           "47": 69.61,
           "48": 70.72,
           "49": 70.88,
           "5": 100.02,
           "50": 72.85,
           "51": 74.93,
           "52": 78.01,
           "53": 81.11,
           "54": 84.72,
           "55": 81.27,
           "56": 76.79,
           "57": 71.69,
           "58": 70.65,
           "59": 67.48,
           "6": 100.27,
           "60": 66.81,
           "61": 68.04,
           "62": 79.26,
           "63": 80.87,
           "64": 82.17,
           "65": 82.61,
           "66": 83.79,
           "67": 81.29,
           "68": 80.58,
           "69": 75.59,
           "7": 94.37,
           "70": 72.36,
           "8": 92.98,
           "9": 88.23,
           "bdata": "H4XrUbiuVECF61G4HjVWQNejcD0Kt1ZA4XoUrkcRWEDhehSuRxFZQOF6FK5HAVlA4XoUrkcRWUBI4XoUrpdXQB+F61G4PldAH4XrUbgOVkAK16NwPcpUQJqZmZmZ6VRAzczMzMzcVUCkcD0K19NVQEjhehSud1ZACtejcD3qV0AfhetRuE5XQHE9CtejEFhASOF6FK5XWECPwvUoXM9WQKRwPQrXE1RAXI/C9SisU0Bcj8L1KLxSQEjhehSu91JASOF6FK7XUkDNzMzMzDxTQIXrUbgetVNAj8L1KFz/VEAfhetRuA5VQFK4HoXrUVVAAAAAAACgVUDD9Shcj6JUQMP1KFyPolJAuB6F61GIUUAzMzMzM2NRQHsUrkfh6lBASOF6FK4nUUCamZmZmflRQKRwPQrXM1NAexSuR+GKU0D2KFyPwuVTQLgehetRyFRApHA9CtdTVED2KFyPwsVTQFK4HoXr4VFAH4XrUbjeUUBI4XoUrpdRQNejcD0KZ1FArkfhehSuUUC4HoXrUbhRQGZmZmZmNlJA7FG4HoW7UkBxPQrXo4BTQNejcD0KR1RArkfhehQuVUDhehSuR1FUQMP1KFyPMlNAXI/C9SjsUUCamZmZmalRQB+F61G43lBApHA9CtezUEDD9ShcjwJRQHE9Ctej0FNASOF6FK43VEB7FK5H4YpUQNejcD0Kp1RAw/UoXI/yVEDD9Shcj1JUQIXrUbgeJVRA9ihcj8LlUkDXo3A9ChdSQA==",
           "dtype": "f8",
           "shape": "71"
          },
          "bdata": "H4XrUbiuVECF61G4HjVWQNejcD0Kt1ZA4XoUrkcRWEDhehSuRxFZQOF6FK5HAVlA4XoUrkcRWUBI4XoUrpdXQB+F61G4PldAH4XrUbgOVkAK16NwPcpUQJqZmZmZ6VRAzczMzMzcVUCkcD0K19NVQEjhehSud1ZACtejcD3qV0AfhetRuE5XQHE9CtejEFhASOF6FK5XWECPwvUoXM9WQKRwPQrXE1RAXI/C9SisU0Bcj8L1KLxSQEjhehSu91JASOF6FK7XUkDNzMzMzDxTQIXrUbgetVNAj8L1KFz/VEAfhetRuA5VQFK4HoXrUVVAAAAAAACgVUDD9Shcj6JUQMP1KFyPolJAuB6F61GIUUAzMzMzM2NRQHsUrkfh6lBASOF6FK4nUUCamZmZmflRQKRwPQrXM1NAexSuR+GKU0D2KFyPwuVTQLgehetRyFRApHA9CtdTVED2KFyPwsVTQFK4HoXr4VFAH4XrUbjeUUBI4XoUrpdRQNejcD0KZ1FArkfhehSuUUC4HoXrUbhRQGZmZmZmNlJA7FG4HoW7UkBxPQrXo4BTQNejcD0KR1RArkfhehQuVUDhehSuR1FUQMP1KFyPMlNAXI/C9SjsUUCamZmZmalRQB+F61G43lBApHA9CtezUEDD9ShcjwJRQHE9Ctej0FNASOF6FK43VEB7FK5H4YpUQNejcD0Kp1RAw/UoXI/yVEDD9Shcj1JUQIXrUbgeJVRA9ihcj8LlUkDXo3A9ChdSQA==",
          "dtype": "f8"
         },
         "yaxis": "y"
        }
       ],
       "layout": {
        "autosize": true,
        "legend": {
         "tracegroupgap": 0
        },
        "margin": {
         "t": 60
        },
        "template": {
         "data": {
          "bar": [
           {
            "error_x": {
             "color": "#2a3f5f"
            },
            "error_y": {
             "color": "#2a3f5f"
            },
            "marker": {
             "line": {
              "color": "#E5ECF6",
              "width": 0.5
             },
             "pattern": {
              "fillmode": "overlay",
              "size": 10,
              "solidity": 0.2
             }
            },
            "type": "bar"
           }
          ],
          "barpolar": [
           {
            "marker": {
             "line": {
              "color": "#E5ECF6",
              "width": 0.5
             },
             "pattern": {
              "fillmode": "overlay",
              "size": 10,
              "solidity": 0.2
             }
            },
            "type": "barpolar"
           }
          ],
          "carpet": [
           {
            "aaxis": {
             "endlinecolor": "#2a3f5f",
             "gridcolor": "white",
             "linecolor": "white",
             "minorgridcolor": "white",
             "startlinecolor": "#2a3f5f"
            },
            "baxis": {
             "endlinecolor": "#2a3f5f",
             "gridcolor": "white",
             "linecolor": "white",
             "minorgridcolor": "white",
             "startlinecolor": "#2a3f5f"
            },
            "type": "carpet"
           }
          ],
          "choropleth": [
           {
            "colorbar": {
             "outlinewidth": 0,
             "ticks": ""
            },
            "type": "choropleth"
           }
          ],
          "contour": [
           {
            "colorbar": {
             "outlinewidth": 0,
             "ticks": ""
            },
            "colorscale": [
             [
              0,
              "#0d0887"
             ],
             [
              0.1111111111111111,
              "#46039f"
             ],
             [
              0.2222222222222222,
              "#7201a8"
             ],
             [
              0.3333333333333333,
              "#9c179e"
             ],
             [
              0.4444444444444444,
              "#bd3786"
             ],
             [
              0.5555555555555556,
              "#d8576b"
             ],
             [
              0.6666666666666666,
              "#ed7953"
             ],
             [
              0.7777777777777778,
              "#fb9f3a"
             ],
             [
              0.8888888888888888,
              "#fdca26"
             ],
             [
              1,
              "#f0f921"
             ]
            ],
            "type": "contour"
           }
          ],
          "contourcarpet": [
           {
            "colorbar": {
             "outlinewidth": 0,
             "ticks": ""
            },
            "type": "contourcarpet"
           }
          ],
          "heatmap": [
           {
            "colorbar": {
             "outlinewidth": 0,
             "ticks": ""
            },
            "colorscale": [
             [
              0,
              "#0d0887"
             ],
             [
              0.1111111111111111,
              "#46039f"
             ],
             [
              0.2222222222222222,
              "#7201a8"
             ],
             [
              0.3333333333333333,
              "#9c179e"
             ],
             [
              0.4444444444444444,
              "#bd3786"
             ],
             [
              0.5555555555555556,
              "#d8576b"
             ],
             [
              0.6666666666666666,
              "#ed7953"
             ],
             [
              0.7777777777777778,
              "#fb9f3a"
             ],
             [
              0.8888888888888888,
              "#fdca26"
             ],
             [
              1,
              "#f0f921"
             ]
            ],
            "type": "heatmap"
           }
          ],
          "histogram": [
           {
            "marker": {
             "pattern": {
              "fillmode": "overlay",
              "size": 10,
              "solidity": 0.2
             }
            },
            "type": "histogram"
           }
          ],
          "histogram2d": [
           {
            "colorbar": {
             "outlinewidth": 0,
             "ticks": ""
            },
            "colorscale": [
             [
              0,
              "#0d0887"
             ],
             [
              0.1111111111111111,
              "#46039f"
             ],
             [
              0.2222222222222222,
              "#7201a8"
             ],
             [
              0.3333333333333333,
              "#9c179e"
             ],
             [
              0.4444444444444444,
              "#bd3786"
             ],
             [
              0.5555555555555556,
              "#d8576b"
             ],
             [
              0.6666666666666666,
              "#ed7953"
             ],
             [
              0.7777777777777778,
              "#fb9f3a"
             ],
             [
              0.8888888888888888,
              "#fdca26"
             ],
             [
              1,
              "#f0f921"
             ]
            ],
            "type": "histogram2d"
           }
          ],
          "histogram2dcontour": [
           {
            "colorbar": {
             "outlinewidth": 0,
             "ticks": ""
            },
            "colorscale": [
             [
              0,
              "#0d0887"
             ],
             [
              0.1111111111111111,
              "#46039f"
             ],
             [
              0.2222222222222222,
              "#7201a8"
             ],
             [
              0.3333333333333333,
              "#9c179e"
             ],
             [
              0.4444444444444444,
              "#bd3786"
             ],
             [
              0.5555555555555556,
              "#d8576b"
             ],
             [
              0.6666666666666666,
              "#ed7953"
             ],
             [
              0.7777777777777778,
              "#fb9f3a"
             ],
             [
              0.8888888888888888,
              "#fdca26"
             ],
             [
              1,
              "#f0f921"
             ]
            ],
            "type": "histogram2dcontour"
           }
          ],
          "mesh3d": [
           {
            "colorbar": {
             "outlinewidth": 0,
             "ticks": ""
            },
            "type": "mesh3d"
           }
          ],
          "parcoords": [
           {
            "line": {
             "colorbar": {
              "outlinewidth": 0,
              "ticks": ""
             }
            },
            "type": "parcoords"
           }
          ],
          "pie": [
           {
            "automargin": true,
            "type": "pie"
           }
          ],
          "scatter": [
           {
            "fillpattern": {
             "fillmode": "overlay",
             "size": 10,
             "solidity": 0.2
            },
            "type": "scatter"
           }
          ],
          "scatter3d": [
           {
            "line": {
             "colorbar": {
              "outlinewidth": 0,
              "ticks": ""
             }
            },
            "marker": {
             "colorbar": {
              "outlinewidth": 0,
              "ticks": ""
             }
            },
            "type": "scatter3d"
           }
          ],
          "scattercarpet": [
           {
            "marker": {
             "colorbar": {
              "outlinewidth": 0,
              "ticks": ""
             }
            },
            "type": "scattercarpet"
           }
          ],
          "scattergeo": [
           {
            "marker": {
             "colorbar": {
              "outlinewidth": 0,
              "ticks": ""
             }
            },
            "type": "scattergeo"
           }
          ],
          "scattergl": [
           {
            "marker": {
             "colorbar": {
              "outlinewidth": 0,
              "ticks": ""
             }
            },
            "type": "scattergl"
           }
          ],
          "scattermap": [
           {
            "marker": {
             "colorbar": {
              "outlinewidth": 0,
              "ticks": ""
             }
            },
            "type": "scattermap"
           }
          ],
          "scattermapbox": [
           {
            "marker": {
             "colorbar": {
              "outlinewidth": 0,
              "ticks": ""
             }
            },
            "type": "scattermapbox"
           }
          ],
          "scatterpolar": [
           {
            "marker": {
             "colorbar": {
              "outlinewidth": 0,
              "ticks": ""
             }
            },
            "type": "scatterpolar"
           }
          ],
          "scatterpolargl": [
           {
            "marker": {
             "colorbar": {
              "outlinewidth": 0,
              "ticks": ""
             }
            },
            "type": "scatterpolargl"
           }
          ],
          "scatterternary": [
           {
            "marker": {
             "colorbar": {
              "outlinewidth": 0,
              "ticks": ""
             }
            },
            "type": "scatterternary"
           }
          ],
          "surface": [
           {
            "colorbar": {
             "outlinewidth": 0,
             "ticks": ""
            },
            "colorscale": [
             [
              0,
              "#0d0887"
             ],
             [
              0.1111111111111111,
              "#46039f"
             ],
             [
              0.2222222222222222,
              "#7201a8"
             ],
             [
              0.3333333333333333,
              "#9c179e"
             ],
             [
              0.4444444444444444,
              "#bd3786"
             ],
             [
              0.5555555555555556,
              "#d8576b"
             ],
             [
              0.6666666666666666,
              "#ed7953"
             ],
             [
              0.7777777777777778,
              "#fb9f3a"
             ],
             [
              0.8888888888888888,
              "#fdca26"
             ],
             [
              1,
              "#f0f921"
             ]
            ],
            "type": "surface"
           }
          ],
          "table": [
           {
            "cells": {
             "fill": {
              "color": "#EBF0F8"
             },
             "line": {
              "color": "white"
             }
            },
            "header": {
             "fill": {
              "color": "#C8D4E3"
             },
             "line": {
              "color": "white"
             }
            },
            "type": "table"
           }
          ]
         },
         "layout": {
          "annotationdefaults": {
           "arrowcolor": "#2a3f5f",
           "arrowhead": 0,
           "arrowwidth": 1
          },
          "autotypenumbers": "strict",
          "coloraxis": {
           "colorbar": {
            "outlinewidth": 0,
            "ticks": ""
           }
          },
          "colorscale": {
           "diverging": [
            [
             0,
             "#8e0152"
            ],
            [
             0.1,
             "#c51b7d"
            ],
            [
             0.2,
             "#de77ae"
            ],
            [
             0.3,
             "#f1b6da"
            ],
            [
             0.4,
             "#fde0ef"
            ],
            [
             0.5,
             "#f7f7f7"
            ],
            [
             0.6,
             "#e6f5d0"
            ],
            [
             0.7,
             "#b8e186"
            ],
            [
             0.8,
             "#7fbc41"
            ],
            [
             0.9,
             "#4d9221"
            ],
            [
             1,
             "#276419"
            ]
           ],
           "sequential": [
            [
             0,
             "#0d0887"
            ],
            [
             0.1111111111111111,
             "#46039f"
            ],
            [
             0.2222222222222222,
             "#7201a8"
            ],
            [
             0.3333333333333333,
             "#9c179e"
            ],
            [
             0.4444444444444444,
             "#bd3786"
            ],
            [
             0.5555555555555556,
             "#d8576b"
            ],
            [
             0.6666666666666666,
             "#ed7953"
            ],
            [
             0.7777777777777778,
             "#fb9f3a"
            ],
            [
             0.8888888888888888,
             "#fdca26"
            ],
            [
             1,
             "#f0f921"
            ]
           ],
           "sequentialminus": [
            [
             0,
             "#0d0887"
            ],
            [
             0.1111111111111111,
             "#46039f"
            ],
            [
             0.2222222222222222,
             "#7201a8"
            ],
            [
             0.3333333333333333,
             "#9c179e"
            ],
            [
             0.4444444444444444,
             "#bd3786"
            ],
            [
             0.5555555555555556,
             "#d8576b"
            ],
            [
             0.6666666666666666,
             "#ed7953"
            ],
            [
             0.7777777777777778,
             "#fb9f3a"
            ],
            [
             0.8888888888888888,
             "#fdca26"
            ],
            [
             1,
             "#f0f921"
            ]
           ]
          },
          "colorway": [
           "#636efa",
           "#EF553B",
           "#00cc96",
           "#ab63fa",
           "#FFA15A",
           "#19d3f3",
           "#FF6692",
           "#B6E880",
           "#FF97FF",
           "#FECB52"
          ],
          "font": {
           "color": "#2a3f5f"
          },
          "geo": {
           "bgcolor": "white",
           "lakecolor": "white",
           "landcolor": "#E5ECF6",
           "showlakes": true,
           "showland": true,
           "subunitcolor": "white"
          },
          "hoverlabel": {
           "align": "left"
          },
          "hovermode": "closest",
          "mapbox": {
           "style": "light"
          },
          "paper_bgcolor": "white",
          "plot_bgcolor": "#E5ECF6",
          "polar": {
           "angularaxis": {
            "gridcolor": "white",
            "linecolor": "white",
            "ticks": ""
           },
           "bgcolor": "#E5ECF6",
           "radialaxis": {
            "gridcolor": "white",
            "linecolor": "white",
            "ticks": ""
           }
          },
          "scene": {
           "xaxis": {
            "backgroundcolor": "#E5ECF6",
            "gridcolor": "white",
            "gridwidth": 2,
            "linecolor": "white",
            "showbackground": true,
            "ticks": "",
            "zerolinecolor": "white"
           },
           "yaxis": {
            "backgroundcolor": "#E5ECF6",
            "gridcolor": "white",
            "gridwidth": 2,
            "linecolor": "white",
            "showbackground": true,
            "ticks": "",
            "zerolinecolor": "white"
           },
           "zaxis": {
            "backgroundcolor": "#E5ECF6",
            "gridcolor": "white",
            "gridwidth": 2,
            "linecolor": "white",
            "showbackground": true,
            "ticks": "",
            "zerolinecolor": "white"
           }
          },
          "shapedefaults": {
           "line": {
            "color": "#2a3f5f"
           }
          },
          "ternary": {
           "aaxis": {
            "gridcolor": "white",
            "linecolor": "white",
            "ticks": ""
           },
           "baxis": {
            "gridcolor": "white",
            "linecolor": "white",
            "ticks": ""
           },
           "bgcolor": "#E5ECF6",
           "caxis": {
            "gridcolor": "white",
            "linecolor": "white",
            "ticks": ""
           }
          },
          "title": {
           "x": 0.05
          },
          "xaxis": {
           "automargin": true,
           "gridcolor": "white",
           "linecolor": "white",
           "ticks": "",
           "title": {
            "standoff": 15
           },
           "zerolinecolor": "white",
           "zerolinewidth": 2
          },
          "yaxis": {
           "automargin": true,
           "gridcolor": "white",
           "linecolor": "white",
           "ticks": "",
           "title": {
            "standoff": 15
           },
           "zerolinecolor": "white",
           "zerolinewidth": 2
          }
         }
        },
        "xaxis": {
         "anchor": "y",
         "autorange": true,
         "domain": [
          0,
          1
         ],
         "range": [
          0,
          70
         ],
         "title": {
          "text": "Date"
         },
         "type": "category"
        },
        "yaxis": {
         "anchor": "x",
         "autorange": true,
         "domain": [
          0,
          1
         ],
         "range": [
          64.95111111111112,
          102.12888888888888
         ],
         "title": {
          "text": "PRC"
         },
         "type": "linear"
        }
       }
      },
      "image/png": "[encoded data removed]"
     },
     "metadata": {},
     "output_type": "display_data"
    }
   ],
   "source": [
    "fig = px.line(gas_fc,x=\"Date\", y=\"PRC\")\n",
    "fig.show()"
   ]
  },
  {
   "cell_type": "markdown",
   "id": "cd855834-95dd-485c-8344-9611f2f411ad",
   "metadata": {},
   "source": [
    "Now do the same for the gas_volume data frame:"
   ]
  },
  {
   "cell_type": "code",
   "execution_count": 105,
   "id": "76ae0729-bf3b-440d-b187-26d32fe5ee9e",
   "metadata": {},
   "outputs": [
    {
     "data": {
      "application/vnd.plotly.v1+json": {
       "config": {
        "plotlyServerURL": "https://plot.ly"
       },
       "data": [
        {
         "hovertemplate": "Date=%{x}<br>Volume therms=%{y}<extra></extra>",
         "legendgroup": "",
         "line": {
          "color": "#636efa",
          "dash": "solid"
         },
         "marker": {
          "symbol": "circle"
         },
         "mode": "lines",
         "name": "",
         "orientation": "v",
         "showlegend": false,
         "type": "scatter",
         "x": [
          "Fri 01/08/25",
          "Sat 02/08/25",
          "Sun 03/08/25",
          "Mon 04/08/25",
          "Tue 05/08/25",
          "Wed 06/08/25",
          "Thu 07/08/25",
          "Fri 08/08/25",
          "Sat 09/08/25",
          "Sun 10/08/25",
          "Mon 11/08/25",
          "Tue 12/08/25",
          "Wed 13/08/25",
          "Thu 14/08/25",
          "Fri 15/08/25",
          "Sat 16/08/25",
          "Sun 17/08/25",
          "Mon 18/08/25",
          "Tue 19/08/25",
          "Wed 20/08/25",
          "Thu 21/08/25",
          "Fri 22/08/25",
          "Sat 23/08/25",
          "Sun 24/08/25",
          "Mon 25/08/25",
          "Tue 26/08/25",
          "Wed 27/08/25",
          "Thu 28/08/25",
          "Fri 29/08/25",
          "Sat 30/08/25",
          "Sun 31/08/25",
          "Mon 01/09/25",
          "Tue 02/09/25",
          "Wed 03/09/25",
          "Thu 04/09/25",
          "Fri 05/09/25",
          "Sat 06/09/25",
          "Sun 07/09/25",
          "Mon 08/09/25",
          "Tue 09/09/25",
          "Wed 10/09/25",
          "Thu 11/09/25",
          "Fri 12/09/25",
          "Sat 13/09/25",
          "Sun 14/09/25",
          "Mon 15/09/25",
          "Tue 16/09/25",
          "Wed 17/09/25",
          "Thu 18/09/25",
          "Fri 19/09/25",
          "Sat 20/09/25",
          "Sun 21/09/25",
          "Mon 22/09/25",
          "Tue 23/09/25",
          "Wed 24/09/25",
          "Thu 25/09/25",
          "Fri 26/09/25",
          "Sat 27/09/25",
          "Sun 28/09/25",
          "Mon 29/09/25",
          "Tue 30/09/25",
          "Wed 01/10/25",
          "Thu 02/10/25",
          "Fri 03/10/25",
          "Sat 04/10/25",
          "Sun 05/10/25",
          "Mon 06/10/25",
          "Tue 07/10/25",
          "Wed 08/10/25",
          "Thu 09/10/25",
          "Fri 10/10/25",
          "Sat 11/10/25",
          "Sun 12/10/25",
          "Mon 13/10/25",
          "Tue 14/10/25",
          "Wed 15/10/25",
          "Thu 16/10/25",
          "Fri 17/10/25",
          "Sat 18/10/25",
          "Sun 19/10/25",
          "Mon 20/10/25",
          "Tue 21/10/25",
          "Wed 22/10/25",
          "Thu 23/10/25",
          "Fri 24/10/25",
          "Sat 25/10/25",
          "Sun 26/10/25",
          "Mon 27/10/25",
          "Tue 28/10/25",
          "Wed 29/10/25",
          "Thu 30/10/25",
          "Fri 31/10/25",
          "Sat 01/11/25",
          "Sun 02/11/25",
          "Mon 03/11/25",
          "Tue 04/11/25",
          "Wed 05/11/25",
          "Thu 06/11/25",
          "Fri 07/11/25",
          "Sat 08/11/25",
          "Sun 09/11/25",
          "Mon 10/11/25",
          "Tue 11/11/25",
          "Wed 12/11/25",
          "Thu 13/11/25",
          "Fri 14/11/25",
          "Sat 15/11/25",
          "Sun 16/11/25",
          "Mon 17/11/25",
          "Tue 18/11/25",
          "Wed 19/11/25",
          "Thu 20/11/25",
          "Fri 21/11/25",
          "Sat 22/11/25",
          "Sun 23/11/25",
          "Mon 24/11/25",
          "Tue 25/11/25",
          "Wed 26/11/25",
          "Thu 27/11/25",
          "Fri 28/11/25",
          "Sat 29/11/25",
          "Sun 30/11/25",
          "Mon 01/12/25",
          "Tue 02/12/25",
          "Wed 03/12/25",
          "Thu 04/12/25",
          "Fri 05/12/25",
          "Sat 06/12/25",
          "Sun 07/12/25",
          "Mon 08/12/25",
          "Tue 09/12/25",
          "Wed 10/12/25",
          "Thu 11/12/25",
          "Fri 12/12/25",
          "Sat 13/12/25",
          "Sun 14/12/25",
          "Mon 15/12/25",
          "Tue 16/12/25",
          "Wed 17/12/25",
          "Thu 18/12/25",
          "Fri 19/12/25",
          "Sat 20/12/25",
          "Sun 21/12/25",
          "Mon 22/12/25",
          "Tue 23/12/25",
          "Wed 24/12/25",
          "Thu 25/12/25",
          "Fri 26/12/25",
          "Sat 27/12/25",
          "Sun 28/12/25",
          "Mon 29/12/25",
          "Tue 30/12/25",
          "Wed 31/12/25",
          "Thu 01/01/26",
          "Fri 02/01/26",
          "Sat 03/01/26",
          "Sun 04/01/26",
          "Mon 05/01/26",
          "Tue 06/01/26",
          "Wed 07/01/26",
          "Thu 08/01/26",
          "Fri 09/01/26",
          "Sat 10/01/26",
          "Sun 11/01/26",
          "Mon 12/01/26",
          "Tue 13/01/26",
          "Wed 14/01/26",
          "Thu 15/01/26",
          "Fri 16/01/26",
          "Sat 17/01/26",
          "Sun 18/01/26",
          "Mon 19/01/26",
          "Tue 20/01/26",
          "Wed 21/01/26",
          "Thu 22/01/26",
          "Fri 23/01/26",
          "Sat 24/01/26",
          "Sun 25/01/26",
          "Mon 26/01/26",
          "Tue 27/01/26",
          "Wed 28/01/26",
          "Thu 29/01/26",
          "Fri 30/01/26",
          "Sat 31/01/26",
          "Sun 01/02/26",
          "Mon 02/02/26",
          "Tue 03/02/26",
          "Wed 04/02/26",
          "Thu 05/02/26",
          "Fri 06/02/26",
          "Sat 07/02/26",
          "Sun 08/02/26",
          "Mon 09/02/26",
          "Tue 10/02/26",
          "Wed 11/02/26",
          "Thu 12/02/26",
          "Fri 13/02/26",
          "Sat 14/02/26",
          "Sun 15/02/26",
          "Mon 16/02/26",
          "Tue 17/02/26",
          "Wed 18/02/26",
          "Thu 19/02/26",
          "Fri 20/02/26",
          "Sat 21/02/26",
          "Sun 22/02/26",
          "Mon 23/02/26",
          "Tue 24/02/26",
          "Wed 25/02/26",
          "Thu 26/02/26",
          "Fri 27/02/26",
          "Sat 28/02/26",
          "Sun 01/03/26",
          "Mon 02/03/26",
          "Tue 03/03/26",
          "Wed 04/03/26",
          "Thu 05/03/26",
          "Fri 06/03/26",
          "Sat 07/03/26",
          "Sun 08/03/26",
          "Mon 09/03/26",
          "Tue 10/03/26",
          "Wed 11/03/26",
          "Thu 12/03/26",
          "Fri 13/03/26",
          "Sat 14/03/26",
          "Sun 15/03/26",
          "Mon 16/03/26",
          "Tue 17/03/26",
          "Wed 18/03/26",
          "Thu 19/03/26",
          "Fri 20/03/26",
          "Sat 21/03/26",
          "Sun 22/03/26",
          "Mon 23/03/26",
          "Tue 24/03/26",
          "Wed 25/03/26",
          "Thu 26/03/26",
          "Fri 27/03/26",
          "Sat 28/03/26",
          "Sun 29/03/26",
          "Mon 30/03/26",
          "Tue 31/03/26",
          "Wed 01/04/26",
          "Thu 02/04/26",
          "Fri 03/04/26",
          "Sat 04/04/26",
          "Sun 05/04/26",
          "Mon 06/04/26",
          "Tue 07/04/26",
          "Wed 08/04/26",
          "Thu 09/04/26",
          "Fri 10/04/26",
          "Sat 11/04/26",
          "Sun 12/04/26",
          "Mon 13/04/26",
          "Tue 14/04/26",
          "Wed 15/04/26",
          "Thu 16/04/26",
          "Fri 17/04/26",
          "Sat 18/04/26",
          "Sun 19/04/26",
          "Mon 20/04/26",
          "Tue 21/04/26",
          "Wed 22/04/26",
          "Thu 23/04/26",
          "Fri 24/04/26",
          "Sat 25/04/26",
          "Sun 26/04/26",
          "Mon 27/04/26",
          "Tue 28/04/26",
          "Wed 29/04/26",
          "Thu 30/04/26",
          "Fri 01/05/26",
          "Sat 02/05/26",
          "Sun 03/05/26",
          "Mon 04/05/26",
          "Tue 05/05/26",
          "Wed 06/05/26",
          "Thu 07/05/26",
          "Fri 08/05/26",
          "Sat 09/05/26",
          "Sun 10/05/26",
          "Mon 11/05/26",
          "Tue 12/05/26",
          "Wed 13/05/26",
          "Thu 14/05/26",
          "Fri 15/05/26",
          "Sat 16/05/26",
          "Sun 17/05/26",
          "Mon 18/05/26",
          "Tue 19/05/26",
          "Wed 20/05/26",
          "Thu 21/05/26",
          "Fri 22/05/26",
          "Sat 23/05/26",
          "Sun 24/05/26",
          "Mon 25/05/26",
          "Tue 26/05/26",
          "Wed 27/05/26",
          "Thu 28/05/26",
          "Fri 29/05/26",
          "Sat 30/05/26",
          "Sun 31/05/26",
          "Mon 01/06/26",
          "Tue 02/06/26",
          "Wed 03/06/26",
          "Thu 04/06/26",
          "Fri 05/06/26",
          "Sat 06/06/26",
          "Sun 07/06/26",
          "Mon 08/06/26",
          "Tue 09/06/26",
          "Wed 10/06/26",
          "Thu 11/06/26",
          "Fri 12/06/26",
          "Sat 13/06/26",
          "Sun 14/06/26",
          "Mon 15/06/26",
          "Tue 16/06/26",
          "Wed 17/06/26",
          "Thu 18/06/26",
          "Fri 19/06/26",
          "Sat 20/06/26",
          "Sun 21/06/26",
          "Mon 22/06/26",
          "Tue 23/06/26",
          "Wed 24/06/26",
          "Thu 25/06/26",
          "Fri 26/06/26",
          "Sat 27/06/26",
          "Sun 28/06/26",
          "Mon 29/06/26",
          "Tue 30/06/26",
          "Wed 01/07/26",
          "Thu 02/07/26",
          "Fri 03/07/26",
          "Sat 04/07/26",
          "Sun 05/07/26",
          "Mon 06/07/26",
          "Tue 07/07/26",
          "Wed 08/07/26",
          "Thu 09/07/26",
          "Fri 10/07/26",
          "Sat 11/07/26",
          "Sun 12/07/26",
          "Mon 13/07/26",
          "Tue 14/07/26",
          "Wed 15/07/26",
          "Thu 16/07/26",
          "Fri 17/07/26",
          "Sat 18/07/26",
          "Sun 19/07/26",
          "Mon 20/07/26",
          "Tue 21/07/26",
          "Wed 22/07/26",
          "Thu 23/07/26",
          "Fri 24/07/26",
          "Sat 25/07/26",
          "Sun 26/07/26",
          "Mon 27/07/26",
          "Tue 28/07/26",
          "Wed 29/07/26",
          "Thu 30/07/26",
          "Fri 31/07/26",
          "Sat 01/08/26",
          "Sun 02/08/26",
          "Mon 03/08/26",
          "Tue 04/08/26",
          "Wed 05/08/26",
          "Thu 06/08/26",
          "Fri 07/08/26",
          "Sat 08/08/26",
          "Sun 09/08/26",
          "Mon 10/08/26",
          "Tue 11/08/26",
          "Wed 12/08/26",
          "Thu 13/08/26",
          "Fri 14/08/26",
          "Sat 15/08/26",
          "Sun 16/08/26",
          "Mon 17/08/26",
          "Tue 18/08/26",
          "Wed 19/08/26",
          "Thu 20/08/26",
          "Fri 21/08/26",
          "Sat 22/08/26",
          "Sun 23/08/26",
          "Mon 24/08/26",
          "Tue 25/08/26",
          "Wed 26/08/26",
          "Thu 27/08/26",
          "Fri 28/08/26",
          "Sat 29/08/26",
          "Sun 30/08/26",
          "Mon 31/08/26",
          "Tue 01/09/26",
          "Wed 02/09/26",
          "Thu 03/09/26",
          "Fri 04/09/26",
          "Sat 05/09/26",
          "Sun 06/09/26",
          "Mon 07/09/26",
          "Tue 08/09/26",
          "Wed 09/09/26",
          "Thu 10/09/26",
          "Fri 11/09/26",
          "Sat 12/09/26",
          "Sun 13/09/26",
          "Mon 14/09/26",
          "Tue 15/09/26",
          "Wed 16/09/26",
          "Thu 17/09/26",
          "Fri 18/09/26",
          "Sat 19/09/26",
          "Sun 20/09/26",
          "Mon 21/09/26",
          "Tue 22/09/26",
          "Wed 23/09/26",
          "Thu 24/09/26",
          "Fri 25/09/26",
          "Sat 26/09/26",
          "Sun 27/09/26",
          "Mon 28/09/26",
          "Tue 29/09/26",
          "Wed 30/09/26",
          "Thu 01/10/26",
          "Fri 02/10/26",
          "Sat 03/10/26",
          "Sun 04/10/26",
          "Mon 05/10/26",
          "Tue 06/10/26",
          "Wed 07/10/26",
          "Thu 08/10/26",
          "Fri 09/10/26",
          "Sat 10/10/26",
          "Sun 11/10/26",
          "Mon 12/10/26",
          "Tue 13/10/26",
          "Wed 14/10/26",
          "Thu 15/10/26",
          "Fri 16/10/26",
          "Sat 17/10/26",
          "Sun 18/10/26",
          "Mon 19/10/26",
          "Tue 20/10/26",
          "Wed 21/10/26",
          "Thu 22/10/26",
          "Fri 23/10/26",
          "Sat 24/10/26",
          "Sun 25/10/26",
          "Mon 26/10/26",
          "Tue 27/10/26",
          "Wed 28/10/26",
          "Thu 29/10/26",
          "Fri 30/10/26",
          "Sat 31/10/26",
          "Sun 01/11/26",
          "Mon 02/11/26",
          "Tue 03/11/26",
          "Wed 04/11/26",
          "Thu 05/11/26",
          "Fri 06/11/26",
          "Sat 07/11/26",
          "Sun 08/11/26",
          "Mon 09/11/26",
          "Tue 10/11/26",
          "Wed 11/11/26",
          "Thu 12/11/26",
          "Fri 13/11/26",
          "Sat 14/11/26",
          "Sun 15/11/26",
          "Mon 16/11/26",
          "Tue 17/11/26",
          "Wed 18/11/26",
          "Thu 19/11/26",
          "Fri 20/11/26",
          "Sat 21/11/26",
          "Sun 22/11/26",
          "Mon 23/11/26",
          "Tue 24/11/26",
          "Wed 25/11/26",
          "Thu 26/11/26",
          "Fri 27/11/26",
          "Sat 28/11/26",
          "Sun 29/11/26",
          "Mon 30/11/26",
          "Tue 01/12/26",
          "Wed 02/12/26",
          "Thu 03/12/26",
          "Fri 04/12/26",
          "Sat 05/12/26",
          "Sun 06/12/26",
          "Mon 07/12/26",
          "Tue 08/12/26",
          "Wed 09/12/26",
          "Thu 10/12/26",
          "Fri 11/12/26",
          "Sat 12/12/26",
          "Sun 13/12/26",
          "Mon 14/12/26",
          "Tue 15/12/26",
          "Wed 16/12/26",
          "Thu 17/12/26",
          "Fri 18/12/26",
          "Sat 19/12/26",
          "Sun 20/12/26",
          "Mon 21/12/26",
          "Tue 22/12/26",
          "Wed 23/12/26",
          "Thu 24/12/26",
          "Fri 25/12/26",
          "Sat 26/12/26",
          "Sun 27/12/26",
          "Mon 28/12/26",
          "Tue 29/12/26",
          "Wed 30/12/26",
          "Thu 31/12/26",
          "Fri 01/01/27",
          "Sat 02/01/27",
          "Sun 03/01/27",
          "Mon 04/01/27",
          "Tue 05/01/27",
          "Wed 06/01/27",
          "Thu 07/01/27",
          "Fri 08/01/27",
          "Sat 09/01/27",
          "Sun 10/01/27",
          "Mon 11/01/27",
          "Tue 12/01/27",
          "Wed 13/01/27",
          "Thu 14/01/27",
          "Fri 15/01/27",
          "Sat 16/01/27",
          "Sun 17/01/27",
          "Mon 18/01/27",
          "Tue 19/01/27",
          "Wed 20/01/27",
          "Thu 21/01/27",
          "Fri 22/01/27",
          "Sat 23/01/27",
          "Sun 24/01/27",
          "Mon 25/01/27",
          "Tue 26/01/27",
          "Wed 27/01/27",
          "Thu 28/01/27",
          "Fri 29/01/27",
          "Sat 30/01/27",
          "Sun 31/01/27",
          "Mon 01/02/27",
          "Tue 02/02/27",
          "Wed 03/02/27",
          "Thu 04/02/27",
          "Fri 05/02/27",
          "Sat 06/02/27",
          "Sun 07/02/27",
          "Mon 08/02/27",
          "Tue 09/02/27",
          "Wed 10/02/27",
          "Thu 11/02/27",
          "Fri 12/02/27",
          "Sat 13/02/27",
          "Sun 14/02/27",
          "Mon 15/02/27",
          "Tue 16/02/27",
          "Wed 17/02/27",
          "Thu 18/02/27",
          "Fri 19/02/27",
          "Sat 20/02/27",
          "Sun 21/02/27",
          "Mon 22/02/27",
          "Tue 23/02/27",
          "Wed 24/02/27",
          "Thu 25/02/27",
          "Fri 26/02/27",
          "Sat 27/02/27",
          "Sun 28/02/27",
          "Mon 01/03/27",
          "Tue 02/03/27",
          "Wed 03/03/27",
          "Thu 04/03/27",
          "Fri 05/03/27",
          "Sat 06/03/27",
          "Sun 07/03/27",
          "Mon 08/03/27",
          "Tue 09/03/27",
          "Wed 10/03/27",
          "Thu 11/03/27",
          "Fri 12/03/27",
          "Sat 13/03/27",
          "Sun 14/03/27",
          "Mon 15/03/27",
          "Tue 16/03/27",
          "Wed 17/03/27",
          "Thu 18/03/27",
          "Fri 19/03/27",
          "Sat 20/03/27",
          "Sun 21/03/27",
          "Mon 22/03/27",
          "Tue 23/03/27",
          "Wed 24/03/27",
          "Thu 25/03/27",
          "Fri 26/03/27",
          "Sat 27/03/27",
          "Sun 28/03/27",
          "Mon 29/03/27",
          "Tue 30/03/27",
          "Wed 31/03/27",
          "Thu 01/04/27",
          "Fri 02/04/27",
          "Sat 03/04/27",
          "Sun 04/04/27",
          "Mon 05/04/27",
          "Tue 06/04/27",
          "Wed 07/04/27",
          "Thu 08/04/27",
          "Fri 09/04/27",
          "Sat 10/04/27",
          "Sun 11/04/27",
          "Mon 12/04/27",
          "Tue 13/04/27",
          "Wed 14/04/27",
          "Thu 15/04/27",
          "Fri 16/04/27",
          "Sat 17/04/27",
          "Sun 18/04/27",
          "Mon 19/04/27",
          "Tue 20/04/27",
          "Wed 21/04/27",
          "Thu 22/04/27",
          "Fri 23/04/27",
          "Sat 24/04/27",
          "Sun 25/04/27",
          "Mon 26/04/27",
          "Tue 27/04/27",
          "Wed 28/04/27",
          "Thu 29/04/27",
          "Fri 30/04/27",
          "Sat 01/05/27",
          "Sun 02/05/27",
          "Mon 03/05/27",
          "Tue 04/05/27",
          "Wed 05/05/27",
          "Thu 06/05/27",
          "Fri 07/05/27",
          "Sat 08/05/27",
          "Sun 09/05/27",
          "Mon 10/05/27",
          "Tue 11/05/27",
          "Wed 12/05/27",
          "Thu 13/05/27",
          "Fri 14/05/27",
          "Sat 15/05/27",
          "Sun 16/05/27",
          "Mon 17/05/27",
          "Tue 18/05/27",
          "Wed 19/05/27",
          "Thu 20/05/27",
          "Fri 21/05/27",
          "Sat 22/05/27",
          "Sun 23/05/27",
          "Mon 24/05/27",
          "Tue 25/05/27",
          "Wed 26/05/27",
          "Thu 27/05/27",
          "Fri 28/05/27",
          "Sat 29/05/27",
          "Sun 30/05/27",
          "Mon 31/05/27",
          "Tue 01/06/27",
          "Wed 02/06/27",
          "Thu 03/06/27",
          "Fri 04/06/27",
          "Sat 05/06/27",
          "Sun 06/06/27",
          "Mon 07/06/27",
          "Tue 08/06/27",
          "Wed 09/06/27",
          "Thu 10/06/27",
          "Fri 11/06/27",
          "Sat 12/06/27",
          "Sun 13/06/27",
          "Mon 14/06/27",
          "Tue 15/06/27",
          "Wed 16/06/27",
          "Thu 17/06/27",
          "Fri 18/06/27",
          "Sat 19/06/27",
          "Sun 20/06/27",
          "Mon 21/06/27",
          "Tue 22/06/27",
          "Wed 23/06/27",
          "Thu 24/06/27",
          "Fri 25/06/27",
          "Sat 26/06/27"
         ],
         "xaxis": "x",
         "y": {
          "_inputArray": {
           "0": 4059.61,
           "1": 3354.2,
           "10": 4507.52,
           "100": 7974.04,
           "101": 9233.27,
           "102": 9166.2,
           "103": 9397.47,
           "104": 10040.99,
           "105": 9352.21,
           "106": 6932.73,
           "107": 6824.5,
           "108": 8984.88,
           "109": 9483.75,
           "11": 4461.02,
           "110": 9530.33,
           "111": 9160.43,
           "112": 9632.3,
           "113": 8560.25,
           "114": 8864.68,
           "115": 11300.6,
           "116": 11295.26,
           "117": 11977.14,
           "118": 12760.23,
           "119": 12309.73,
           "12": 4430.74,
           "120": 10448.29,
           "121": 9882.55,
           "122": 12085.97,
           "123": 11775.79,
           "124": 12184.36,
           "125": 11851.53,
           "126": 10062.87,
           "127": 7934.03,
           "128": 7879.6,
           "129": 9914.3,
           "13": 4424.52,
           "130": 10026.73,
           "131": 10873.46,
           "132": 10813.37,
           "133": 9910.51,
           "134": 7579.29,
           "135": 7543.05,
           "136": 9348,
           "137": 10031.18,
           "138": 10053.45,
           "139": 9703.61,
           "14": 4120.55,
           "140": 9137.61,
           "141": 6168.35,
           "142": 5827.49,
           "143": 6068.05,
           "144": 6655.78,
           "145": 7457.7,
           "146": 7200.76,
           "147": 7516.21,
           "148": 6818.85,
           "149": 7090.7,
           "15": 3248.44,
           "150": 6885.91,
           "151": 9999.56,
           "152": 9986.66,
           "153": 10503.77,
           "154": 10092.83,
           "155": 8478.79,
           "156": 9194.56,
           "157": 12700.81,
           "158": 12831.72,
           "159": 12447.26,
           "16": 3350.7,
           "160": 12058.9,
           "161": 11240.45,
           "162": 9029.14,
           "163": 9362.72,
           "164": 12857.03,
           "165": 12947.39,
           "166": 13398.02,
           "167": 13661.84,
           "168": 12527.08,
           "169": 9689.41,
           "17": 4416.63,
           "170": 8412.23,
           "171": 10638.43,
           "172": 10199.81,
           "173": 9874.55,
           "174": 9601.58,
           "175": 9617.94,
           "176": 8107.88,
           "177": 7926.22,
           "178": 9798.71,
           "179": 10380.3,
           "18": 4414.92,
           "180": 10526.56,
           "181": 11057.53,
           "182": 9624.91,
           "183": 7436.1,
           "184": 7465.93,
           "185": 9759.05,
           "186": 9801.14,
           "187": 10847.84,
           "188": 11745.16,
           "189": 10047.66,
           "19": 4420.92,
           "190": 7869.9,
           "191": 8312.08,
           "192": 11043.69,
           "193": 10709.49,
           "194": 9644.62,
           "195": 8884.74,
           "196": 8594.57,
           "197": 6917.4,
           "198": 6895,
           "199": 9394.35,
           "2": 3306.1,
           "20": 4481.87,
           "200": 9591.02,
           "201": 9830.42,
           "202": 10730.44,
           "203": 10329.34,
           "204": 8532.62,
           "205": 9152.8,
           "206": 11537.5,
           "207": 11328.43,
           "208": 10674.32,
           "209": 10569.59,
           "21": 4289.65,
           "210": 10589.59,
           "211": 8672.66,
           "212": 8650.57,
           "213": 11185.19,
           "214": 10507.52,
           "215": 10648.05,
           "216": 10866.31,
           "217": 10181.23,
           "218": 7800.4,
           "219": 7986.17,
           "22": 3434.05,
           "220": 10285.28,
           "221": 9542.13,
           "222": 9035.51,
           "223": 8661.06,
           "224": 8224.74,
           "225": 6901.61,
           "226": 6603.17,
           "227": 8484.18,
           "228": 8281.2,
           "229": 8257.75,
           "23": 3493.52,
           "230": 8509.26,
           "231": 8567.51,
           "232": 7533.86,
           "233": 7303.81,
           "234": 9629.81,
           "235": 9292.75,
           "236": 9513.49,
           "237": 9583.45,
           "238": 7858.79,
           "239": 6634.17,
           "24": 3509.19,
           "240": 6830.59,
           "241": 7406.61,
           "242": 8222.66,
           "243": 8196.17,
           "244": 7887.73,
           "245": 7248.92,
           "246": 5224.84,
           "247": 5608.07,
           "248": 7387.45,
           "249": 8570.62,
           "25": 4787.16,
           "250": 8338.1,
           "251": 7110.12,
           "252": 6343.34,
           "253": 5292.34,
           "254": 5886.47,
           "255": 8688.33,
           "256": 8465.12,
           "257": 8833.68,
           "258": 8744.34,
           "259": 7848.47,
           "26": 4811.85,
           "260": 6403.88,
           "261": 6579.17,
           "262": 8816.77,
           "263": 8730.7,
           "264": 8823.8,
           "265": 9037.06,
           "266": 8317.25,
           "267": 6825.47,
           "268": 6845.36,
           "269": 8023.89,
           "27": 4864.37,
           "270": 7035.1,
           "271": 6581.77,
           "272": 6660.64,
           "273": 6672,
           "274": 5277.42,
           "275": 5041.94,
           "276": 4980.12,
           "277": 6096.96,
           "278": 5882.79,
           "279": 5668.3,
           "28": 4291.96,
           "280": 5115.46,
           "281": 4077.22,
           "282": 4072.07,
           "283": 5614.76,
           "284": 5779.76,
           "285": 5751.28,
           "286": 5906.59,
           "287": 5296.27,
           "288": 4251.7,
           "289": 4278.74,
           "29": 3289.11,
           "290": 5765.81,
           "291": 5920.59,
           "292": 6182.63,
           "293": 6419.84,
           "294": 5838.63,
           "295": 4466.81,
           "296": 4464.9,
           "297": 4487.91,
           "298": 5502.34,
           "299": 5403.44,
           "3": 4716.04,
           "30": 3315.53,
           "300": 5461.12,
           "301": 5545.29,
           "302": 4427.25,
           "303": 3922.16,
           "304": 5170.49,
           "305": 5322.29,
           "306": 5560.82,
           "307": 5497.1,
           "308": 5036.48,
           "309": 4074.84,
           "31": 4350.17,
           "310": 4241.67,
           "311": 5748.42,
           "312": 5802.09,
           "313": 5722.68,
           "314": 5835.14,
           "315": 5067.97,
           "316": 4182.25,
           "317": 4064.75,
           "318": 5180.81,
           "319": 5185.14,
           "32": 4351.13,
           "320": 5103.55,
           "321": 4955.13,
           "322": 4556.07,
           "323": 3654.25,
           "324": 3631.39,
           "325": 4736.95,
           "326": 4722.45,
           "327": 4715.69,
           "328": 4747.08,
           "329": 4555.88,
           "33": 4346.26,
           "330": 3650.79,
           "331": 3884.34,
           "332": 5125.84,
           "333": 5137.91,
           "334": 5175.11,
           "335": 5151.88,
           "336": 4726.44,
           "337": 3905.3,
           "338": 3971.18,
           "339": 5109.11,
           "34": 4344.36,
           "340": 5021.01,
           "341": 4964.91,
           "342": 5008.11,
           "343": 4717.19,
           "344": 3790.74,
           "345": 3809.25,
           "346": 4946.67,
           "347": 4938.39,
           "348": 4765.18,
           "349": 4692.02,
           "35": 4025.27,
           "350": 4138.73,
           "351": 3246.46,
           "352": 3257.19,
           "353": 4159.28,
           "354": 4155.45,
           "355": 4179.51,
           "356": 4197.8,
           "357": 4197.66,
           "358": 3322.56,
           "359": 3253.25,
           "36": 3198.15,
           "360": 4141.87,
           "361": 4144.12,
           "362": 4144.39,
           "363": 4175.08,
           "364": 4177.44,
           "365": 3281.86,
           "366": 3310.94,
           "367": 4735.18,
           "368": 4735.42,
           "369": 4796.92,
           "37": 3298.76,
           "370": 4791.84,
           "371": 4400.03,
           "372": 3522.04,
           "373": 3578.48,
           "374": 4715.37,
           "375": 4726.56,
           "376": 4743.35,
           "377": 4802.68,
           "378": 4483.73,
           "379": 3636.25,
           "38": 4349.32,
           "380": 3692.69,
           "381": 4940.16,
           "382": 4889.36,
           "383": 4963.33,
           "384": 4928.33,
           "385": 4544.21,
           "386": 3677.52,
           "387": 3715.17,
           "388": 3636.18,
           "389": 4832.28,
           "39": 4489.81,
           "390": 4773.87,
           "391": 4864.53,
           "392": 4544.3,
           "393": 3687.77,
           "394": 3668.35,
           "395": 4804.26,
           "396": 4875.93,
           "397": 5054.6,
           "398": 5108.41,
           "399": 4559.34,
           "4": 4742.15,
           "40": 4606.02,
           "400": 3660.84,
           "401": 3761.39,
           "402": 5169.06,
           "403": 5363.99,
           "404": 5851.42,
           "405": 6196.1,
           "406": 5716.75,
           "407": 4194.54,
           "408": 4189.79,
           "409": 5317.93,
           "41": 4616.22,
           "410": 5262.9,
           "411": 5142.26,
           "412": 5072.69,
           "413": 4730.44,
           "414": 3743.54,
           "415": 3971.74,
           "416": 5395.4,
           "417": 5564.78,
           "418": 5836.64,
           "419": 5955.54,
           "42": 4232.03,
           "420": 6088.96,
           "421": 5004.02,
           "422": 5288.14,
           "423": 7328.9,
           "424": 7460.48,
           "425": 7179.07,
           "426": 7353.24,
           "427": 6904.84,
           "428": 5464.53,
           "429": 5625.57,
           "43": 3403.74,
           "430": 6655.98,
           "431": 6768.89,
           "432": 7084.74,
           "433": 8111.13,
           "434": 7929.33,
           "435": 6564.38,
           "436": 6976.08,
           "437": 8766.11,
           "438": 7945.03,
           "439": 6921.48,
           "44": 3491.18,
           "440": 6719.16,
           "441": 6664,
           "442": 5338.68,
           "443": 5574.22,
           "444": 7483.04,
           "445": 7541.76,
           "446": 7637.7,
           "447": 7469.4,
           "448": 6890.65,
           "449": 5872.94,
           "45": 4744.63,
           "450": 6288.54,
           "451": 7619.47,
           "452": 7526.36,
           "453": 7818.59,
           "454": 8087.27,
           "455": 7527.88,
           "456": 6070.96,
           "457": 6523.25,
           "458": 8616.4,
           "459": 8728.27,
           "46": 4774.5,
           "460": 8633.6,
           "461": 8910.2,
           "462": 8695.47,
           "463": 7402.62,
           "464": 7190.85,
           "465": 9458.9,
           "466": 9713.61,
           "467": 9578.52,
           "468": 9500.91,
           "469": 9155.23,
           "47": 4813.48,
           "470": 7514.58,
           "471": 7896.21,
           "472": 10879,
           "473": 12115.18,
           "474": 12600.83,
           "475": 13181.63,
           "476": 11800.47,
           "477": 8492.25,
           "478": 7386.47,
           "479": 9809.02,
           "48": 4964.53,
           "480": 10354.76,
           "481": 11399.23,
           "482": 11875.61,
           "483": 10309.06,
           "484": 7249.64,
           "485": 7073.33,
           "486": 10103.42,
           "487": 10935.15,
           "488": 11001.39,
           "489": 10116.44,
           "49": 4886.78,
           "490": 9744.3,
           "491": 8798.46,
           "492": 8818.39,
           "493": 11183.36,
           "494": 11466.16,
           "495": 11547.71,
           "496": 11336.63,
           "497": 10789.76,
           "498": 8640.38,
           "499": 8037.15,
           "5": 4520.77,
           "50": 3903.1,
           "500": 10037.86,
           "501": 10269.2,
           "502": 9599.99,
           "503": 10930.57,
           "504": 10377.59,
           "505": 8353.86,
           "506": 9202.07,
           "507": 9633.64,
           "508": 7696.83,
           "509": 6947.96,
           "51": 3723.84,
           "510": 7383.3,
           "511": 8620.99,
           "512": 8065.2,
           "513": 7861.89,
           "514": 8238.93,
           "515": 7864.76,
           "516": 7644.74,
           "517": 10436.89,
           "518": 10992.24,
           "519": 10217.37,
           "52": 5154.9,
           "520": 9621.55,
           "521": 12848.01,
           "522": 13090.47,
           "523": 13681.31,
           "524": 13962.26,
           "525": 13214.93,
           "526": 10625.37,
           "527": 10643.71,
           "528": 12821.12,
           "529": 11340.22,
           "53": 5178.56,
           "530": 10927.26,
           "531": 11333.87,
           "532": 10699.43,
           "533": 9421.98,
           "534": 10068.14,
           "535": 12376.57,
           "536": 12275.36,
           "537": 12334.24,
           "538": 12404.99,
           "539": 10652.22,
           "54": 5232.1,
           "540": 8918.88,
           "541": 9545.33,
           "542": 11688.57,
           "543": 11209.78,
           "544": 11361.86,
           "545": 11760.74,
           "546": 10707.56,
           "547": 8907.35,
           "548": 8971.37,
           "549": 11225.5,
           "55": 5256.31,
           "550": 10981.71,
           "551": 11143.45,
           "552": 11688.46,
           "553": 11804.79,
           "554": 9383.95,
           "555": 9512.16,
           "556": 12639.06,
           "557": 12310.3,
           "558": 12107.87,
           "559": 12441.23,
           "56": 4908.57,
           "560": 11666.45,
           "561": 9393.17,
           "562": 9843.03,
           "563": 12777.31,
           "564": 12615.59,
           "565": 12000.02,
           "566": 10145.28,
           "567": 8546.76,
           "568": 6986.44,
           "569": 7494.12,
           "57": 4059.97,
           "570": 9352.41,
           "571": 9978.21,
           "572": 10685.87,
           "573": 10640.17,
           "574": 10009.37,
           "575": 8312.22,
           "576": 8520.66,
           "577": 10766.03,
           "578": 10616.79,
           "579": 10270.55,
           "58": 4242.81,
           "580": 9385.23,
           "581": 8172.46,
           "582": 6269.34,
           "583": 6386.76,
           "584": 9236.27,
           "585": 10093.67,
           "586": 10763.74,
           "587": 11123.78,
           "588": 10231.98,
           "589": 8352.8,
           "59": 5681.36,
           "590": 8417.43,
           "591": 11034.99,
           "592": 10639.52,
           "593": 9697.87,
           "594": 8525.29,
           "595": 7565.17,
           "596": 5907.06,
           "597": 6612.74,
           "598": 8761.47,
           "599": 8677.97,
           "6": 4406.22,
           "60": 5950.99,
           "600": 8343.36,
           "601": 8376.83,
           "602": 8179.33,
           "603": 6637.5,
           "604": 6354.15,
           "605": 7989.89,
           "606": 7983.53,
           "607": 7773.83,
           "608": 7264.25,
           "609": 6350.69,
           "61": 5969.81,
           "610": 5457.2,
           "611": 5786.26,
           "612": 7744.28,
           "613": 7754.2,
           "614": 8015.43,
           "615": 7585.88,
           "616": 6248.74,
           "617": 4732.19,
           "618": 5399.97,
           "619": 7236.67,
           "62": 5887.98,
           "620": 7287.43,
           "621": 7427.46,
           "622": 6942.17,
           "623": 6059.55,
           "624": 5163.7,
           "625": 5231.58,
           "626": 6079.34,
           "627": 6703.38,
           "628": 6928.67,
           "629": 6762.55,
           "63": 5260.03,
           "630": 6743.35,
           "631": 4968.14,
           "632": 4601.71,
           "633": 5626.89,
           "634": 5396.47,
           "635": 5205.96,
           "636": 5099.22,
           "637": 4871.45,
           "638": 4541.86,
           "639": 5292.81,
           "64": 4161.3,
           "640": 5789.63,
           "641": 7032.15,
           "642": 6817.97,
           "643": 6819.44,
           "644": 5766.68,
           "645": 4195.12,
           "646": 4063.19,
           "647": 5182.48,
           "648": 5166.34,
           "649": 5374.59,
           "65": 4206.37,
           "650": 5822.15,
           "651": 5193.16,
           "652": 4156.78,
           "653": 4379.29,
           "654": 5706.67,
           "655": 5462.05,
           "656": 5544.23,
           "657": 5880.95,
           "658": 5214.73,
           "659": 4057.14,
           "66": 5463.68,
           "660": 4080.44,
           "661": 4199.96,
           "662": 5188.33,
           "663": 4953.93,
           "664": 4742.93,
           "665": 4624.57,
           "666": 3704.45,
           "667": 3554.99,
           "668": 4787.33,
           "669": 4969.22,
           "67": 5494.65,
           "670": 5008.79,
           "671": 5113.61,
           "672": 4615.96,
           "673": 3869.36,
           "674": 3906.22,
           "675": 4995.98,
           "676": 4813.06,
           "677": 4632.21,
           "678": 4507.09,
           "679": 4051.02,
           "68": 5853.57,
           "680": 3274.25,
           "681": 3393.09,
           "682": 4450.52,
           "683": 4448.35,
           "684": 4436.62,
           "685": 4412.8,
           "686": 4028.4,
           "687": 3239.83,
           "688": 3334.48,
           "689": 4511.69,
           "69": 6296.92,
           "690": 4483.33,
           "691": 4457.98,
           "692": 4473.83,
           "693": 4070.47,
           "694": 3254.41,
           "7": 4095.12,
           "70": 6111.37,
           "71": 5659.85,
           "72": 6351.65,
           "73": 8489.57,
           "74": 8023.19,
           "75": 7525.36,
           "76": 6573.86,
           "77": 6627.57,
           "78": 5580.36,
           "79": 5855.14,
           "8": 3257.58,
           "80": 7681.1,
           "81": 7746.84,
           "82": 8006.73,
           "83": 7871.1,
           "84": 7503.25,
           "85": 5966.51,
           "86": 6144.61,
           "87": 8013.96,
           "88": 8058.41,
           "89": 8474.55,
           "9": 3372.31,
           "90": 9026.21,
           "91": 8372.53,
           "92": 7042.62,
           "93": 7088.69,
           "94": 9194.33,
           "95": 9334.59,
           "96": 9436.35,
           "97": 9707.53,
           "98": 9387.41,
           "99": 7749.92,
           "bdata": "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",
           "dtype": "f8",
           "shape": "695"
          },
          "bdata": "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",
          "dtype": "f8"
         },
         "yaxis": "y"
        }
       ],
       "layout": {
        "autosize": true,
        "legend": {
         "tracegroupgap": 0
        },
        "margin": {
         "t": 60
        },
        "template": {
         "data": {
          "bar": [
           {
            "error_x": {
             "color": "#2a3f5f"
            },
            "error_y": {
             "color": "#2a3f5f"
            },
            "marker": {
             "line": {
              "color": "#E5ECF6",
              "width": 0.5
             },
             "pattern": {
              "fillmode": "overlay",
              "size": 10,
              "solidity": 0.2
             }
            },
            "type": "bar"
           }
          ],
          "barpolar": [
           {
            "marker": {
             "line": {
              "color": "#E5ECF6",
              "width": 0.5
             },
             "pattern": {
              "fillmode": "overlay",
              "size": 10,
              "solidity": 0.2
             }
            },
            "type": "barpolar"
           }
          ],
          "carpet": [
           {
            "aaxis": {
             "endlinecolor": "#2a3f5f",
             "gridcolor": "white",
             "linecolor": "white",
             "minorgridcolor": "white",
             "startlinecolor": "#2a3f5f"
            },
            "baxis": {
             "endlinecolor": "#2a3f5f",
             "gridcolor": "white",
             "linecolor": "white",
             "minorgridcolor": "white",
             "startlinecolor": "#2a3f5f"
            },
            "type": "carpet"
           }
          ],
          "choropleth": [
           {
            "colorbar": {
             "outlinewidth": 0,
             "ticks": ""
            },
            "type": "choropleth"
           }
          ],
          "contour": [
           {
            "colorbar": {
             "outlinewidth": 0,
             "ticks": ""
            },
            "colorscale": [
             [
              0,
              "#0d0887"
             ],
             [
              0.1111111111111111,
              "#46039f"
             ],
             [
              0.2222222222222222,
              "#7201a8"
             ],
             [
              0.3333333333333333,
              "#9c179e"
             ],
             [
              0.4444444444444444,
              "#bd3786"
             ],
             [
              0.5555555555555556,
              "#d8576b"
             ],
             [
              0.6666666666666666,
              "#ed7953"
             ],
             [
              0.7777777777777778,
              "#fb9f3a"
             ],
             [
              0.8888888888888888,
              "#fdca26"
             ],
             [
              1,
              "#f0f921"
             ]
            ],
            "type": "contour"
           }
          ],
          "contourcarpet": [
           {
            "colorbar": {
             "outlinewidth": 0,
             "ticks": ""
            },
            "type": "contourcarpet"
           }
          ],
          "heatmap": [
           {
            "colorbar": {
             "outlinewidth": 0,
             "ticks": ""
            },
            "colorscale": [
             [
              0,
              "#0d0887"
             ],
             [
              0.1111111111111111,
              "#46039f"
             ],
             [
              0.2222222222222222,
              "#7201a8"
             ],
             [
              0.3333333333333333,
              "#9c179e"
             ],
             [
              0.4444444444444444,
              "#bd3786"
             ],
             [
              0.5555555555555556,
              "#d8576b"
             ],
             [
              0.6666666666666666,
              "#ed7953"
             ],
             [
              0.7777777777777778,
              "#fb9f3a"
             ],
             [
              0.8888888888888888,
              "#fdca26"
             ],
             [
              1,
              "#f0f921"
             ]
            ],
            "type": "heatmap"
           }
          ],
          "histogram": [
           {
            "marker": {
             "pattern": {
              "fillmode": "overlay",
              "size": 10,
              "solidity": 0.2
             }
            },
            "type": "histogram"
           }
          ],
          "histogram2d": [
           {
            "colorbar": {
             "outlinewidth": 0,
             "ticks": ""
            },
            "colorscale": [
             [
              0,
              "#0d0887"
             ],
             [
              0.1111111111111111,
              "#46039f"
             ],
             [
              0.2222222222222222,
              "#7201a8"
             ],
             [
              0.3333333333333333,
              "#9c179e"
             ],
             [
              0.4444444444444444,
              "#bd3786"
             ],
             [
              0.5555555555555556,
              "#d8576b"
             ],
             [
              0.6666666666666666,
              "#ed7953"
             ],
             [
              0.7777777777777778,
              "#fb9f3a"
             ],
             [
              0.8888888888888888,
              "#fdca26"
             ],
             [
              1,
              "#f0f921"
             ]
            ],
            "type": "histogram2d"
           }
          ],
          "histogram2dcontour": [
           {
            "colorbar": {
             "outlinewidth": 0,
             "ticks": ""
            },
            "colorscale": [
             [
              0,
              "#0d0887"
             ],
             [
              0.1111111111111111,
              "#46039f"
             ],
             [
              0.2222222222222222,
              "#7201a8"
             ],
             [
              0.3333333333333333,
              "#9c179e"
             ],
             [
              0.4444444444444444,
              "#bd3786"
             ],
             [
              0.5555555555555556,
              "#d8576b"
             ],
             [
              0.6666666666666666,
              "#ed7953"
             ],
             [
              0.7777777777777778,
              "#fb9f3a"
             ],
             [
              0.8888888888888888,
              "#fdca26"
             ],
             [
              1,
              "#f0f921"
             ]
            ],
            "type": "histogram2dcontour"
           }
          ],
          "mesh3d": [
           {
            "colorbar": {
             "outlinewidth": 0,
             "ticks": ""
            },
            "type": "mesh3d"
           }
          ],
          "parcoords": [
           {
            "line": {
             "colorbar": {
              "outlinewidth": 0,
              "ticks": ""
             }
            },
            "type": "parcoords"
           }
          ],
          "pie": [
           {
            "automargin": true,
            "type": "pie"
           }
          ],
          "scatter": [
           {
            "fillpattern": {
             "fillmode": "overlay",
             "size": 10,
             "solidity": 0.2
            },
            "type": "scatter"
           }
          ],
          "scatter3d": [
           {
            "line": {
             "colorbar": {
              "outlinewidth": 0,
              "ticks": ""
             }
            },
            "marker": {
             "colorbar": {
              "outlinewidth": 0,
              "ticks": ""
             }
            },
            "type": "scatter3d"
           }
          ],
          "scattercarpet": [
           {
            "marker": {
             "colorbar": {
              "outlinewidth": 0,
              "ticks": ""
             }
            },
            "type": "scattercarpet"
           }
          ],
          "scattergeo": [
           {
            "marker": {
             "colorbar": {
              "outlinewidth": 0,
              "ticks": ""
             }
            },
            "type": "scattergeo"
           }
          ],
          "scattergl": [
           {
            "marker": {
             "colorbar": {
              "outlinewidth": 0,
              "ticks": ""
             }
            },
            "type": "scattergl"
           }
          ],
          "scattermap": [
           {
            "marker": {
             "colorbar": {
              "outlinewidth": 0,
              "ticks": ""
             }
            },
            "type": "scattermap"
           }
          ],
          "scattermapbox": [
           {
            "marker": {
             "colorbar": {
              "outlinewidth": 0,
              "ticks": ""
             }
            },
            "type": "scattermapbox"
           }
          ],
          "scatterpolar": [
           {
            "marker": {
             "colorbar": {
              "outlinewidth": 0,
              "ticks": ""
             }
            },
            "type": "scatterpolar"
           }
          ],
          "scatterpolargl": [
           {
            "marker": {
             "colorbar": {
              "outlinewidth": 0,
              "ticks": ""
             }
            },
            "type": "scatterpolargl"
           }
          ],
          "scatterternary": [
           {
            "marker": {
             "colorbar": {
              "outlinewidth": 0,
              "ticks": ""
             }
            },
            "type": "scatterternary"
           }
          ],
          "surface": [
           {
            "colorbar": {
             "outlinewidth": 0,
             "ticks": ""
            },
            "colorscale": [
             [
              0,
              "#0d0887"
             ],
             [
              0.1111111111111111,
              "#46039f"
             ],
             [
              0.2222222222222222,
              "#7201a8"
             ],
             [
              0.3333333333333333,
              "#9c179e"
             ],
             [
              0.4444444444444444,
              "#bd3786"
             ],
             [
              0.5555555555555556,
              "#d8576b"
             ],
             [
              0.6666666666666666,
              "#ed7953"
             ],
             [
              0.7777777777777778,
              "#fb9f3a"
             ],
             [
              0.8888888888888888,
              "#fdca26"
             ],
             [
              1,
              "#f0f921"
             ]
            ],
            "type": "surface"
           }
          ],
          "table": [
           {
            "cells": {
             "fill": {
              "color": "#EBF0F8"
             },
             "line": {
              "color": "white"
             }
            },
            "header": {
             "fill": {
              "color": "#C8D4E3"
             },
             "line": {
              "color": "white"
             }
            },
            "type": "table"
           }
          ]
         },
         "layout": {
          "annotationdefaults": {
           "arrowcolor": "#2a3f5f",
           "arrowhead": 0,
           "arrowwidth": 1
          },
          "autotypenumbers": "strict",
          "coloraxis": {
           "colorbar": {
            "outlinewidth": 0,
            "ticks": ""
           }
          },
          "colorscale": {
           "diverging": [
            [
             0,
             "#8e0152"
            ],
            [
             0.1,
             "#c51b7d"
            ],
            [
             0.2,
             "#de77ae"
            ],
            [
             0.3,
             "#f1b6da"
            ],
            [
             0.4,
             "#fde0ef"
            ],
            [
             0.5,
             "#f7f7f7"
            ],
            [
             0.6,
             "#e6f5d0"
            ],
            [
             0.7,
             "#b8e186"
            ],
            [
             0.8,
             "#7fbc41"
            ],
            [
             0.9,
             "#4d9221"
            ],
            [
             1,
             "#276419"
            ]
           ],
           "sequential": [
            [
             0,
             "#0d0887"
            ],
            [
             0.1111111111111111,
             "#46039f"
            ],
            [
             0.2222222222222222,
             "#7201a8"
            ],
            [
             0.3333333333333333,
             "#9c179e"
            ],
            [
             0.4444444444444444,
             "#bd3786"
            ],
            [
             0.5555555555555556,
             "#d8576b"
            ],
            [
             0.6666666666666666,
             "#ed7953"
            ],
            [
             0.7777777777777778,
             "#fb9f3a"
            ],
            [
             0.8888888888888888,
             "#fdca26"
            ],
            [
             1,
             "#f0f921"
            ]
           ],
           "sequentialminus": [
            [
             0,
             "#0d0887"
            ],
            [
             0.1111111111111111,
             "#46039f"
            ],
            [
             0.2222222222222222,
             "#7201a8"
            ],
            [
             0.3333333333333333,
             "#9c179e"
            ],
            [
             0.4444444444444444,
             "#bd3786"
            ],
            [
             0.5555555555555556,
             "#d8576b"
            ],
            [
             0.6666666666666666,
             "#ed7953"
            ],
            [
             0.7777777777777778,
             "#fb9f3a"
            ],
            [
             0.8888888888888888,
             "#fdca26"
            ],
            [
             1,
             "#f0f921"
            ]
           ]
          },
          "colorway": [
           "#636efa",
           "#EF553B",
           "#00cc96",
           "#ab63fa",
           "#FFA15A",
           "#19d3f3",
           "#FF6692",
           "#B6E880",
           "#FF97FF",
           "#FECB52"
          ],
          "font": {
           "color": "#2a3f5f"
          },
          "geo": {
           "bgcolor": "white",
           "lakecolor": "white",
           "landcolor": "#E5ECF6",
           "showlakes": true,
           "showland": true,
           "subunitcolor": "white"
          },
          "hoverlabel": {
           "align": "left"
          },
          "hovermode": "closest",
          "mapbox": {
           "style": "light"
          },
          "paper_bgcolor": "white",
          "plot_bgcolor": "#E5ECF6",
          "polar": {
           "angularaxis": {
            "gridcolor": "white",
            "linecolor": "white",
            "ticks": ""
           },
           "bgcolor": "#E5ECF6",
           "radialaxis": {
            "gridcolor": "white",
            "linecolor": "white",
            "ticks": ""
           }
          },
          "scene": {
           "xaxis": {
            "backgroundcolor": "#E5ECF6",
            "gridcolor": "white",
            "gridwidth": 2,
            "linecolor": "white",
            "showbackground": true,
            "ticks": "",
            "zerolinecolor": "white"
           },
           "yaxis": {
            "backgroundcolor": "#E5ECF6",
            "gridcolor": "white",
            "gridwidth": 2,
            "linecolor": "white",
            "showbackground": true,
            "ticks": "",
            "zerolinecolor": "white"
           },
           "zaxis": {
            "backgroundcolor": "#E5ECF6",
            "gridcolor": "white",
            "gridwidth": 2,
            "linecolor": "white",
            "showbackground": true,
            "ticks": "",
            "zerolinecolor": "white"
           }
          },
          "shapedefaults": {
           "line": {
            "color": "#2a3f5f"
           }
          },
          "ternary": {
           "aaxis": {
            "gridcolor": "white",
            "linecolor": "white",
            "ticks": ""
           },
           "baxis": {
            "gridcolor": "white",
            "linecolor": "white",
            "ticks": ""
           },
           "bgcolor": "#E5ECF6",
           "caxis": {
            "gridcolor": "white",
            "linecolor": "white",
            "ticks": ""
           }
          },
          "title": {
           "x": 0.05
          },
          "xaxis": {
           "automargin": true,
           "gridcolor": "white",
           "linecolor": "white",
           "ticks": "",
           "title": {
            "standoff": 15
           },
           "zerolinecolor": "white",
           "zerolinewidth": 2
          },
          "yaxis": {
           "automargin": true,
           "gridcolor": "white",
           "linecolor": "white",
           "ticks": "",
           "title": {
            "standoff": 15
           },
           "zerolinecolor": "white",
           "zerolinewidth": 2
          }
         }
        },
        "xaxis": {
         "anchor": "y",
         "autorange": true,
         "domain": [
          0,
          1
         ],
         "range": [
          0,
          694
         ],
         "showspikes": false,
         "title": {
          "text": "Date"
         },
         "type": "category"
        },
        "yaxis": {
         "anchor": "x",
         "autorange": true,
         "domain": [
          0,
          1
         ],
         "range": [
          2600.143888888889,
          14560.266111111112
         ],
         "showspikes": false,
         "title": {
          "text": "Volume therms"
         },
         "type": "linear"
        }
       }
      },
      "image/png": "[encoded data removed]"
     },
     "metadata": {},
     "output_type": "display_data"
    }
   ],
   "source": [
    "fig = px.line(gas_vol,x=\"Date\", y=\"Volume therms\")\n",
    "fig.show()\n"
   ]
  },
  {
   "cell_type": "markdown",
   "id": "22fada18-a032-4ed3-ace4-24418e4ccb90",
   "metadata": {},
   "source": [
    "Then lets use the catalogue to start adding more elements:<BR> **Add A title to your graph**"
   ]
  },
  {
   "cell_type": "code",
   "execution_count": 65,
   "id": "09267697-4dff-4871-a4aa-28699a7d9715",
   "metadata": {},
   "outputs": [
    {
     "data": {
      "application/vnd.plotly.v1+json": {
       "config": {
        "plotlyServerURL": "https://plot.ly"
       },
       "data": [
        {
         "hovertemplate": "Date=%{x}<br>Volume therms=%{y}<extra></extra>",
         "legendgroup": "",
         "line": {
          "color": "#636efa",
          "dash": "solid"
         },
         "marker": {
          "symbol": "circle"
         },
         "mode": "lines",
         "name": "",
         "orientation": "v",
         "showlegend": false,
         "type": "scatter",
         "x": [
          "31/07/2023",
          "01/08/2023",
          "02/08/2023",
          "03/08/2023",
          "04/08/2023",
          "05/08/2023",
          "06/08/2023",
          "07/08/2023",
          "08/08/2023",
          "09/08/2023",
          "10/08/2023",
          "11/08/2023",
          "12/08/2023",
          "13/08/2023",
          "14/08/2023",
          "15/08/2023",
          "16/08/2023",
          "17/08/2023",
          "18/08/2023",
          "19/08/2023",
          "20/08/2023",
          "21/08/2023",
          "22/08/2023",
          "23/08/2023",
          "24/08/2023",
          "25/08/2023",
          "26/08/2023",
          "27/08/2023",
          "28/08/2023",
          "29/08/2023",
          "30/08/2023",
          "31/08/2023",
          "01/09/2023",
          "02/09/2023",
          "03/09/2023",
          "04/09/2023",
          "05/09/2023",
          "06/09/2023",
          "07/09/2023",
          "08/09/2023",
          "09/09/2023",
          "10/09/2023",
          "11/09/2023",
          "12/09/2023",
          "13/09/2023",
          "14/09/2023",
          "15/09/2023",
          "16/09/2023",
          "17/09/2023",
          "18/09/2023",
          "19/09/2023",
          "20/09/2023",
          "21/09/2023",
          "22/09/2023",
          "23/09/2023",
          "24/09/2023",
          "25/09/2023",
          "26/09/2023",
          "27/09/2023",
          "28/09/2023",
          "29/09/2023",
          "30/09/2023",
          "01/10/2023",
          "02/10/2023",
          "03/10/2023",
          "04/10/2023",
          "05/10/2023",
          "06/10/2023",
          "07/10/2023",
          "08/10/2023",
          "09/10/2023",
          "10/10/2023",
          "11/10/2023",
          "12/10/2023",
          "13/10/2023",
          "14/10/2023",
          "15/10/2023",
          "16/10/2023",
          "17/10/2023",
          "18/10/2023",
          "19/10/2023",
          "20/10/2023",
          "21/10/2023",
          "22/10/2023",
          "23/10/2023",
          "24/10/2023",
          "25/10/2023",
          "26/10/2023",
          "27/10/2023",
          "28/10/2023",
          "29/10/2023",
          "30/10/2023",
          "31/10/2023",
          "01/11/2023",
          "02/11/2023",
          "03/11/2023",
          "04/11/2023",
          "05/11/2023",
          "06/11/2023",
          "07/11/2023",
          "08/11/2023",
          "09/11/2023",
          "10/11/2023",
          "11/11/2023",
          "12/11/2023",
          "13/11/2023",
          "14/11/2023",
          "15/11/2023",
          "16/11/2023",
          "17/11/2023",
          "18/11/2023",
          "19/11/2023",
          "20/11/2023",
          "21/11/2023",
          "22/11/2023",
          "23/11/2023",
          "24/11/2023",
          "25/11/2023",
          "26/11/2023",
          "27/11/2023",
          "28/11/2023",
          "29/11/2023",
          "30/11/2023",
          "01/12/2023",
          "02/12/2023",
          "03/12/2023",
          "04/12/2023",
          "05/12/2023",
          "06/12/2023",
          "07/12/2023",
          "08/12/2023",
          "09/12/2023",
          "10/12/2023",
          "11/12/2023",
          "12/12/2023",
          "13/12/2023",
          "14/12/2023",
          "15/12/2023",
          "16/12/2023",
          "17/12/2023",
          "18/12/2023",
          "19/12/2023",
          "20/12/2023",
          "21/12/2023",
          "22/12/2023",
          "23/12/2023",
          "24/12/2023",
          "25/12/2023",
          "26/12/2023",
          "27/12/2023",
          "28/12/2023",
          "29/12/2023",
          "30/12/2023",
          "31/12/2023",
          "01/01/2024",
          "02/01/2024",
          "03/01/2024",
          "04/01/2024",
          "05/01/2024",
          "06/01/2024",
          "07/01/2024",
          "08/01/2024",
          "09/01/2024",
          "10/01/2024",
          "11/01/2024",
          "12/01/2024",
          "13/01/2024",
          "14/01/2024",
          "15/01/2024",
          "16/01/2024",
          "17/01/2024",
          "18/01/2024",
          "19/01/2024",
          "20/01/2024",
          "21/01/2024",
          "22/01/2024",
          "23/01/2024",
          "24/01/2024",
          "25/01/2024",
          "26/01/2024",
          "27/01/2024",
          "28/01/2024",
          "29/01/2024",
          "30/01/2024",
          "31/01/2024",
          "01/02/2024",
          "02/02/2024",
          "03/02/2024",
          "04/02/2024",
          "05/02/2024",
          "06/02/2024",
          "07/02/2024",
          "08/02/2024",
          "09/02/2024",
          "10/02/2024",
          "11/02/2024",
          "12/02/2024",
          "13/02/2024",
          "14/02/2024",
          "15/02/2024",
          "16/02/2024",
          "17/02/2024",
          "18/02/2024",
          "19/02/2024",
          "20/02/2024",
          "21/02/2024",
          "22/02/2024",
          "23/02/2024",
          "24/02/2024",
          "25/02/2024",
          "26/02/2024",
          "27/02/2024",
          "28/02/2024",
          "29/02/2024",
          "01/03/2024",
          "02/03/2024",
          "03/03/2024",
          "04/03/2024",
          "05/03/2024",
          "06/03/2024",
          "07/03/2024",
          "08/03/2024",
          "09/03/2024",
          "10/03/2024",
          "11/03/2024",
          "12/03/2024",
          "13/03/2024",
          "14/03/2024",
          "15/03/2024",
          "16/03/2024",
          "17/03/2024",
          "18/03/2024",
          "19/03/2024",
          "20/03/2024",
          "21/03/2024",
          "22/03/2024",
          "23/03/2024",
          "24/03/2024",
          "25/03/2024",
          "26/03/2024",
          "27/03/2024",
          "28/03/2024",
          "29/03/2024",
          "30/03/2024",
          "31/03/2024",
          "01/04/2024",
          "02/04/2024",
          "03/04/2024",
          "04/04/2024",
          "05/04/2024",
          "06/04/2024",
          "07/04/2024",
          "08/04/2024",
          "09/04/2024",
          "10/04/2024",
          "11/04/2024",
          "12/04/2024",
          "13/04/2024",
          "14/04/2024",
          "15/04/2024",
          "16/04/2024",
          "17/04/2024",
          "18/04/2024",
          "19/04/2024",
          "20/04/2024",
          "21/04/2024",
          "22/04/2024",
          "23/04/2024",
          "24/04/2024",
          "25/04/2024",
          "26/04/2024",
          "27/04/2024",
          "28/04/2024",
          "29/04/2024",
          "30/04/2024",
          "01/05/2024",
          "02/05/2024",
          "03/05/2024",
          "04/05/2024",
          "05/05/2024",
          "06/05/2024",
          "07/05/2024",
          "08/05/2024",
          "09/05/2024",
          "10/05/2024",
          "11/05/2024",
          "12/05/2024",
          "13/05/2024",
          "14/05/2024",
          "15/05/2024",
          "16/05/2024",
          "17/05/2024",
          "18/05/2024",
          "19/05/2024",
          "20/05/2024",
          "21/05/2024",
          "22/05/2024",
          "23/05/2024",
          "24/05/2024",
          "25/05/2024",
          "26/05/2024",
          "27/05/2024",
          "28/05/2024",
          "29/05/2024",
          "30/05/2024",
          "31/05/2024",
          "01/06/2024",
          "02/06/2024",
          "03/06/2024",
          "04/06/2024",
          "05/06/2024",
          "06/06/2024",
          "07/06/2024",
          "08/06/2024",
          "09/06/2024",
          "10/06/2024",
          "11/06/2024",
          "12/06/2024",
          "13/06/2024",
          "14/06/2024",
          "15/06/2024",
          "16/06/2024",
          "17/06/2024",
          "18/06/2024",
          "19/06/2024",
          "20/06/2024",
          "21/06/2024",
          "22/06/2024",
          "23/06/2024",
          "24/06/2024",
          "25/06/2024",
          "26/06/2024",
          "27/06/2024",
          "28/06/2024",
          "29/06/2024",
          "30/06/2024",
          "01/07/2024",
          "02/07/2024",
          "03/07/2024",
          "04/07/2024",
          "05/07/2024",
          "06/07/2024",
          "07/07/2024",
          "08/07/2024",
          "09/07/2024",
          "10/07/2024",
          "11/07/2024",
          "12/07/2024",
          "13/07/2024",
          "14/07/2024",
          "15/07/2024",
          "16/07/2024",
          "17/07/2024",
          "18/07/2024",
          "19/07/2024",
          "20/07/2024",
          "21/07/2024",
          "22/07/2024",
          "23/07/2024",
          "24/07/2024",
          "25/07/2024",
          "26/07/2024",
          "27/07/2024",
          "28/07/2024",
          "29/07/2024",
          "30/07/2024",
          "31/07/2024",
          "01/08/2024",
          "02/08/2024",
          "03/08/2024",
          "04/08/2024",
          "05/08/2024",
          "06/08/2024",
          "07/08/2024",
          "08/08/2024",
          "09/08/2024",
          "10/08/2024",
          "11/08/2024",
          "12/08/2024",
          "13/08/2024",
          "14/08/2024",
          "15/08/2024",
          "16/08/2024",
          "17/08/2024",
          "18/08/2024",
          "19/08/2024",
          "20/08/2024",
          "21/08/2024",
          "22/08/2024",
          "23/08/2024",
          "24/08/2024",
          "25/08/2024",
          "26/08/2024",
          "27/08/2024",
          "28/08/2024",
          "29/08/2024",
          "30/08/2024",
          "31/08/2024",
          "01/09/2024",
          "02/09/2024",
          "03/09/2024",
          "04/09/2024",
          "05/09/2024",
          "06/09/2024",
          "07/09/2024",
          "08/09/2024",
          "09/09/2024",
          "10/09/2024",
          "11/09/2024",
          "12/09/2024",
          "13/09/2024",
          "14/09/2024",
          "15/09/2024",
          "16/09/2024",
          "17/09/2024",
          "18/09/2024",
          "19/09/2024",
          "20/09/2024",
          "21/09/2024",
          "22/09/2024",
          "23/09/2024",
          "24/09/2024",
          "25/09/2024",
          "26/09/2024",
          "27/09/2024",
          "28/09/2024",
          "29/09/2024",
          "30/09/2024",
          "01/10/2024",
          "02/10/2024",
          "03/10/2024",
          "04/10/2024",
          "05/10/2024",
          "06/10/2024",
          "07/10/2024",
          "08/10/2024",
          "09/10/2024",
          "10/10/2024",
          "11/10/2024",
          "12/10/2024",
          "13/10/2024",
          "14/10/2024",
          "15/10/2024",
          "16/10/2024",
          "17/10/2024",
          "18/10/2024",
          "19/10/2024",
          "20/10/2024",
          "21/10/2024",
          "22/10/2024",
          "23/10/2024",
          "24/10/2024",
          "25/10/2024",
          "26/10/2024",
          "27/10/2024",
          "28/10/2024",
          "29/10/2024",
          "30/10/2024",
          "31/10/2024",
          "01/11/2024",
          "02/11/2024",
          "03/11/2024",
          "04/11/2024",
          "05/11/2024",
          "06/11/2024",
          "07/11/2024",
          "08/11/2024",
          "09/11/2024",
          "10/11/2024",
          "11/11/2024",
          "12/11/2024",
          "13/11/2024",
          "14/11/2024",
          "15/11/2024",
          "16/11/2024",
          "17/11/2024",
          "18/11/2024",
          "19/11/2024",
          "20/11/2024",
          "21/11/2024",
          "22/11/2024",
          "23/11/2024",
          "24/11/2024",
          "25/11/2024",
          "26/11/2024",
          "27/11/2024",
          "28/11/2024",
          "29/11/2024",
          "30/11/2024",
          "01/12/2024",
          "02/12/2024",
          "03/12/2024",
          "04/12/2024",
          "05/12/2024",
          "06/12/2024",
          "07/12/2024",
          "08/12/2024",
          "09/12/2024",
          "10/12/2024",
          "11/12/2024",
          "12/12/2024",
          "13/12/2024",
          "14/12/2024",
          "15/12/2024",
          "16/12/2024",
          "17/12/2024",
          "18/12/2024",
          "19/12/2024",
          "20/12/2024",
          "21/12/2024",
          "22/12/2024",
          "23/12/2024",
          "24/12/2024",
          "25/12/2024",
          "26/12/2024",
          "27/12/2024",
          "28/12/2024",
          "29/12/2024",
          "30/12/2024",
          "31/12/2024",
          "01/01/2025",
          "02/01/2025",
          "03/01/2025",
          "04/01/2025",
          "05/01/2025",
          "06/01/2025",
          "07/01/2025",
          "08/01/2025",
          "09/01/2025",
          "10/01/2025",
          "11/01/2025",
          "12/01/2025",
          "13/01/2025",
          "14/01/2025",
          "15/01/2025",
          "16/01/2025",
          "17/01/2025",
          "18/01/2025",
          "19/01/2025",
          "20/01/2025",
          "21/01/2025",
          "22/01/2025",
          "23/01/2025",
          "24/01/2025",
          "25/01/2025",
          "26/01/2025",
          "27/01/2025",
          "28/01/2025",
          "29/01/2025",
          "30/01/2025",
          "31/01/2025",
          "01/02/2025",
          "02/02/2025",
          "03/02/2025",
          "04/02/2025",
          "05/02/2025",
          "06/02/2025",
          "07/02/2025",
          "08/02/2025",
          "09/02/2025",
          "10/02/2025",
          "11/02/2025",
          "12/02/2025",
          "13/02/2025",
          "14/02/2025",
          "15/02/2025",
          "16/02/2025",
          "17/02/2025",
          "18/02/2025",
          "19/02/2025",
          "20/02/2025",
          "21/02/2025",
          "22/02/2025",
          "23/02/2025",
          "24/02/2025",
          "25/02/2025",
          "26/02/2025",
          "27/02/2025",
          "28/02/2025",
          "01/03/2025",
          "02/03/2025",
          "03/03/2025",
          "04/03/2025",
          "05/03/2025",
          "06/03/2025",
          "07/03/2025",
          "08/03/2025",
          "09/03/2025",
          "10/03/2025",
          "11/03/2025",
          "12/03/2025",
          "13/03/2025",
          "14/03/2025",
          "15/03/2025",
          "16/03/2025",
          "17/03/2025",
          "18/03/2025",
          "19/03/2025",
          "20/03/2025",
          "21/03/2025",
          "22/03/2025",
          "23/03/2025",
          "24/03/2025",
          "25/03/2025",
          "26/03/2025",
          "27/03/2025",
          "28/03/2025",
          "29/03/2025",
          "30/03/2025",
          "31/03/2025",
          "01/04/2025",
          "02/04/2025",
          "03/04/2025",
          "04/04/2025",
          "05/04/2025",
          "06/04/2025",
          "07/04/2025",
          "08/04/2025",
          "09/04/2025",
          "10/04/2025",
          "11/04/2025",
          "12/04/2025",
          "13/04/2025",
          "14/04/2025",
          "15/04/2025",
          "16/04/2025",
          "17/04/2025",
          "18/04/2025",
          "19/04/2025",
          "20/04/2025",
          "21/04/2025",
          "22/04/2025",
          "23/04/2025",
          "24/04/2025",
          "25/04/2025",
          "26/04/2025",
          "27/04/2025",
          "28/04/2025",
          "29/04/2025",
          "30/04/2025",
          "01/05/2025",
          "02/05/2025",
          "03/05/2025",
          "04/05/2025",
          "05/05/2025",
          "06/05/2025",
          "07/05/2025",
          "08/05/2025",
          "09/05/2025",
          "10/05/2025",
          "11/05/2025",
          "12/05/2025",
          "13/05/2025",
          "14/05/2025",
          "15/05/2025",
          "16/05/2025",
          "17/05/2025",
          "18/05/2025",
          "19/05/2025",
          "20/05/2025",
          "21/05/2025",
          "22/05/2025",
          "23/05/2025",
          "24/05/2025",
          "25/05/2025",
          "26/05/2025",
          "27/05/2025",
          "28/05/2025",
          "29/05/2025",
          "30/05/2025",
          "31/05/2025",
          "01/06/2025",
          "02/06/2025",
          "03/06/2025",
          "04/06/2025",
          "05/06/2025",
          "06/06/2025",
          "07/06/2025",
          "08/06/2025",
          "09/06/2025",
          "10/06/2025",
          "11/06/2025",
          "12/06/2025",
          "13/06/2025",
          "14/06/2025",
          "15/06/2025",
          "16/06/2025",
          "17/06/2025",
          "18/06/2025",
          "19/06/2025",
          "20/06/2025",
          "21/06/2025",
          "22/06/2025",
          "23/06/2025",
          "24/06/2025",
          "25/06/2025",
          "26/06/2025",
          "27/06/2025",
          "28/06/2025"
         ],
         "xaxis": "x",
         "y": {
          "_inputArray": {
           "0": 4111.17,
           "1": 3987.09,
           "10": 4406.22,
           "100": 9436.35,
           "101": 9707.53,
           "102": 9387.41,
           "103": 7749.92,
           "104": 7974.04,
           "105": 9233.27,
           "106": 9166.2,
           "107": 9397.47,
           "108": 10040.99,
           "109": 9352.21,
           "11": 4095.12,
           "110": 6932.73,
           "111": 6824.5,
           "112": 8984.88,
           "113": 9483.75,
           "114": 9530.33,
           "115": 9160.43,
           "116": 9632.3,
           "117": 8560.25,
           "118": 8864.68,
           "119": 11300.6,
           "12": 3257.58,
           "120": 11295.26,
           "121": 11977.14,
           "122": 12760.23,
           "123": 12309.73,
           "124": 10448.29,
           "125": 9882.55,
           "126": 12085.97,
           "127": 11775.79,
           "128": 12184.36,
           "129": 11851.53,
           "13": 3372.31,
           "130": 10062.87,
           "131": 7934.03,
           "132": 7879.6,
           "133": 9914.3,
           "134": 10026.73,
           "135": 10873.46,
           "136": 10813.37,
           "137": 9910.51,
           "138": 7579.29,
           "139": 7543.05,
           "14": 4507.52,
           "140": 9348,
           "141": 10031.18,
           "142": 10053.45,
           "143": 9703.61,
           "144": 9137.61,
           "145": 6168.35,
           "146": 5827.49,
           "147": 6068.05,
           "148": 6655.78,
           "149": 7457.7,
           "15": 4461.02,
           "150": 7200.76,
           "151": 7516.21,
           "152": 6818.85,
           "153": 7090.7,
           "154": 6885.91,
           "155": 9999.56,
           "156": 9986.66,
           "157": 10503.77,
           "158": 10092.83,
           "159": 8478.79,
           "16": 4430.74,
           "160": 9194.56,
           "161": 12700.81,
           "162": 12831.72,
           "163": 12447.26,
           "164": 12058.9,
           "165": 11240.45,
           "166": 9029.14,
           "167": 9362.72,
           "168": 12857.03,
           "169": 12947.39,
           "17": 4424.52,
           "170": 13398.02,
           "171": 13661.84,
           "172": 12527.08,
           "173": 9689.41,
           "174": 8412.23,
           "175": 10638.43,
           "176": 10199.81,
           "177": 9874.55,
           "178": 9601.58,
           "179": 9617.94,
           "18": 4120.55,
           "180": 8107.88,
           "181": 7926.22,
           "182": 9798.71,
           "183": 10380.3,
           "184": 10526.56,
           "185": 11057.53,
           "186": 9624.91,
           "187": 7436.1,
           "188": 7465.93,
           "189": 9759.05,
           "19": 3248.44,
           "190": 9801.14,
           "191": 10847.84,
           "192": 11745.16,
           "193": 10047.66,
           "194": 7869.9,
           "195": 8312.08,
           "196": 11043.69,
           "197": 10709.49,
           "198": 9644.62,
           "199": 8884.74,
           "2": 4037.33,
           "20": 3350.7,
           "200": 8594.57,
           "201": 6917.4,
           "202": 6895,
           "203": 9394.35,
           "204": 9591.02,
           "205": 9830.42,
           "206": 10730.44,
           "207": 10329.34,
           "208": 8532.62,
           "209": 9152.8,
           "21": 4416.63,
           "210": 11537.5,
           "211": 11328.43,
           "212": 10674.32,
           "213": 10569.59,
           "214": 10589.59,
           "215": 8672.66,
           "216": 8650.57,
           "217": 11185.19,
           "218": 10507.52,
           "219": 10648.05,
           "22": 4414.92,
           "220": 10866.31,
           "221": 10181.23,
           "222": 7800.4,
           "223": 7986.17,
           "224": 10285.28,
           "225": 9542.13,
           "226": 9035.51,
           "227": 8661.06,
           "228": 8224.74,
           "229": 6901.61,
           "23": 4420.92,
           "230": 6603.17,
           "231": 8484.18,
           "232": 8281.2,
           "233": 8257.75,
           "234": 8509.26,
           "235": 8567.51,
           "236": 7533.86,
           "237": 7303.81,
           "238": 9629.81,
           "239": 9292.75,
           "24": 4481.87,
           "240": 9513.49,
           "241": 9583.45,
           "242": 7858.79,
           "243": 6634.17,
           "244": 6830.59,
           "245": 7406.61,
           "246": 8222.66,
           "247": 8196.17,
           "248": 7887.73,
           "249": 7248.92,
           "25": 4289.65,
           "250": 5224.84,
           "251": 5608.07,
           "252": 7387.45,
           "253": 8570.62,
           "254": 8338.1,
           "255": 7110.12,
           "256": 6343.34,
           "257": 5292.34,
           "258": 5886.47,
           "259": 8688.33,
           "26": 3434.05,
           "260": 8465.12,
           "261": 8833.68,
           "262": 8744.34,
           "263": 7848.47,
           "264": 6403.88,
           "265": 6579.17,
           "266": 8816.77,
           "267": 8730.7,
           "268": 8823.8,
           "269": 9037.06,
           "27": 3493.52,
           "270": 8317.25,
           "271": 6825.47,
           "272": 6845.36,
           "273": 8023.89,
           "274": 7035.1,
           "275": 6581.77,
           "276": 6660.64,
           "277": 6672,
           "278": 5277.42,
           "279": 5041.94,
           "28": 3509.19,
           "280": 4980.12,
           "281": 6096.96,
           "282": 5882.79,
           "283": 5668.3,
           "284": 5115.46,
           "285": 4077.22,
           "286": 4072.07,
           "287": 5614.76,
           "288": 5779.76,
           "289": 5751.28,
           "29": 4787.16,
           "290": 5906.59,
           "291": 5296.27,
           "292": 4251.7,
           "293": 4278.74,
           "294": 5765.81,
           "295": 5920.59,
           "296": 6182.63,
           "297": 6419.84,
           "298": 5838.63,
           "299": 4466.81,
           "3": 3997.92,
           "30": 4811.85,
           "300": 4464.9,
           "301": 4487.91,
           "302": 5502.34,
           "303": 5403.44,
           "304": 5461.12,
           "305": 5545.29,
           "306": 4427.25,
           "307": 3922.16,
           "308": 5170.49,
           "309": 5322.29,
           "31": 4864.37,
           "310": 5560.82,
           "311": 5497.1,
           "312": 5036.48,
           "313": 4074.84,
           "314": 4241.67,
           "315": 5748.42,
           "316": 5802.09,
           "317": 5722.68,
           "318": 5835.14,
           "319": 5067.97,
           "32": 4291.96,
           "320": 4182.25,
           "321": 4064.75,
           "322": 5180.81,
           "323": 5185.14,
           "324": 5103.55,
           "325": 4955.13,
           "326": 4556.07,
           "327": 3654.25,
           "328": 3631.39,
           "329": 4736.95,
           "33": 3289.11,
           "330": 4722.45,
           "331": 4715.69,
           "332": 4747.08,
           "333": 4555.88,
           "334": 3650.79,
           "335": 3884.34,
           "336": 5125.84,
           "337": 5137.91,
           "338": 5175.11,
           "339": 5151.88,
           "34": 3315.53,
           "340": 4726.44,
           "341": 3905.3,
           "342": 3971.18,
           "343": 5109.11,
           "344": 5021.01,
           "345": 4964.91,
           "346": 5008.11,
           "347": 4717.19,
           "348": 3790.74,
           "349": 3809.25,
           "35": 4350.17,
           "350": 4946.67,
           "351": 4938.39,
           "352": 4765.18,
           "353": 4692.02,
           "354": 4138.73,
           "355": 3246.46,
           "356": 3257.19,
           "357": 4159.28,
           "358": 4155.45,
           "359": 4179.51,
           "36": 4351.13,
           "360": 4197.8,
           "361": 4197.66,
           "362": 3322.56,
           "363": 3253.25,
           "364": 4141.87,
           "365": 4144.12,
           "366": 4144.39,
           "367": 4175.08,
           "368": 4177.44,
           "369": 3281.86,
           "37": 4346.26,
           "370": 3310.94,
           "371": 4735.18,
           "372": 4735.42,
           "373": 4796.92,
           "374": 4791.84,
           "375": 4400.03,
           "376": 3522.04,
           "377": 3578.48,
           "378": 4715.37,
           "379": 4726.56,
           "38": 4344.36,
           "380": 4743.35,
           "381": 4802.68,
           "382": 4483.73,
           "383": 3636.25,
           "384": 3692.69,
           "385": 4940.16,
           "386": 4889.36,
           "387": 4963.33,
           "388": 4928.33,
           "389": 4544.21,
           "39": 4025.27,
           "390": 3677.52,
           "391": 3715.17,
           "392": 3636.18,
           "393": 4832.28,
           "394": 4773.87,
           "395": 4864.53,
           "396": 4544.3,
           "397": 3687.77,
           "398": 3668.35,
           "399": 4804.26,
           "4": 4059.61,
           "40": 3198.15,
           "400": 4875.93,
           "401": 5054.6,
           "402": 5108.41,
           "403": 4559.34,
           "404": 3660.84,
           "405": 3761.39,
           "406": 5169.06,
           "407": 5363.99,
           "408": 5851.42,
           "409": 6196.1,
           "41": 3298.76,
           "410": 5716.75,
           "411": 4194.54,
           "412": 4189.79,
           "413": 5317.93,
           "414": 5262.9,
           "415": 5142.26,
           "416": 5072.69,
           "417": 4730.44,
           "418": 3743.54,
           "419": 3971.74,
           "42": 4349.32,
           "420": 5395.4,
           "421": 5564.78,
           "422": 5836.64,
           "423": 5955.54,
           "424": 6088.96,
           "425": 5004.02,
           "426": 5288.14,
           "427": 7328.9,
           "428": 7460.48,
           "429": 7179.07,
           "43": 4489.81,
           "430": 7353.24,
           "431": 6904.84,
           "432": 5464.53,
           "433": 5625.57,
           "434": 6655.98,
           "435": 6768.89,
           "436": 7084.74,
           "437": 8111.13,
           "438": 7929.33,
           "439": 6564.38,
           "44": 4606.02,
           "440": 6976.08,
           "441": 8766.11,
           "442": 7945.03,
           "443": 6921.48,
           "444": 6719.16,
           "445": 6664,
           "446": 5338.68,
           "447": 5574.22,
           "448": 7483.04,
           "449": 7541.76,
           "45": 4616.22,
           "450": 7637.7,
           "451": 7469.4,
           "452": 6890.65,
           "453": 5872.94,
           "454": 6288.54,
           "455": 7619.47,
           "456": 7526.36,
           "457": 7818.59,
           "458": 8087.27,
           "459": 7527.88,
           "46": 4232.03,
           "460": 6070.96,
           "461": 6523.25,
           "462": 8616.4,
           "463": 8728.27,
           "464": 8633.6,
           "465": 8910.2,
           "466": 8695.47,
           "467": 7402.62,
           "468": 7190.85,
           "469": 9458.9,
           "47": 3403.74,
           "470": 9713.61,
           "471": 9578.52,
           "472": 9500.91,
           "473": 9155.23,
           "474": 7514.58,
           "475": 7896.21,
           "476": 10879,
           "477": 12115.18,
           "478": 12600.83,
           "479": 13181.63,
           "48": 3491.18,
           "480": 11800.47,
           "481": 8492.25,
           "482": 7386.47,
           "483": 9809.02,
           "484": 10354.76,
           "485": 11399.23,
           "486": 11875.61,
           "487": 10309.06,
           "488": 7249.64,
           "489": 7073.33,
           "49": 4744.63,
           "490": 10103.42,
           "491": 10935.15,
           "492": 11001.39,
           "493": 10116.44,
           "494": 9744.3,
           "495": 8798.46,
           "496": 8818.39,
           "497": 11183.36,
           "498": 11466.16,
           "499": 11547.71,
           "5": 3354.2,
           "50": 4774.5,
           "500": 11336.63,
           "501": 10789.76,
           "502": 8640.38,
           "503": 8037.15,
           "504": 10037.86,
           "505": 10269.2,
           "506": 9599.99,
           "507": 10930.57,
           "508": 10377.59,
           "509": 8353.86,
           "51": 4813.48,
           "510": 9202.07,
           "511": 9633.64,
           "512": 7696.83,
           "513": 6947.96,
           "514": 7383.3,
           "515": 8620.99,
           "516": 8065.2,
           "517": 7861.89,
           "518": 8238.93,
           "519": 7864.76,
           "52": 4964.53,
           "520": 7644.74,
           "521": 10436.89,
           "522": 10992.24,
           "523": 10217.37,
           "524": 9621.55,
           "525": 12848.01,
           "526": 13090.47,
           "527": 13681.31,
           "528": 13962.26,
           "529": 13214.93,
           "53": 4886.78,
           "530": 10625.37,
           "531": 10643.71,
           "532": 12821.12,
           "533": 11340.22,
           "534": 10927.26,
           "535": 11333.87,
           "536": 10699.43,
           "537": 9421.98,
           "538": 10068.14,
           "539": 12376.57,
           "54": 3903.1,
           "540": 12275.36,
           "541": 12334.24,
           "542": 12404.99,
           "543": 10652.22,
           "544": 8918.88,
           "545": 9545.33,
           "546": 11688.57,
           "547": 11209.78,
           "548": 11361.86,
           "549": 11760.74,
           "55": 3723.84,
           "550": 10707.56,
           "551": 8907.35,
           "552": 8971.37,
           "553": 11225.5,
           "554": 10981.71,
           "555": 11143.45,
           "556": 11688.46,
           "557": 11804.79,
           "558": 9383.95,
           "559": 9512.16,
           "56": 5154.9,
           "560": 12639.06,
           "561": 12310.3,
           "562": 12107.87,
           "563": 12441.23,
           "564": 11666.45,
           "565": 9393.17,
           "566": 9843.03,
           "567": 12777.31,
           "568": 12615.59,
           "569": 12000.02,
           "57": 5178.56,
           "570": 10145.28,
           "571": 8546.76,
           "572": 6986.44,
           "573": 7494.12,
           "574": 9352.41,
           "575": 9978.21,
           "576": 10685.87,
           "577": 10640.17,
           "578": 10009.37,
           "579": 8312.22,
           "58": 5232.1,
           "580": 8520.66,
           "581": 10766.03,
           "582": 10616.79,
           "583": 10270.55,
           "584": 9385.23,
           "585": 8172.46,
           "586": 6269.34,
           "587": 6386.76,
           "588": 9236.27,
           "589": 10093.67,
           "59": 5256.31,
           "590": 10763.74,
           "591": 11123.78,
           "592": 10231.98,
           "593": 8352.8,
           "594": 8417.43,
           "595": 11034.99,
           "596": 10639.52,
           "597": 9697.87,
           "598": 8525.29,
           "599": 7565.17,
           "6": 3306.1,
           "60": 4908.57,
           "600": 5907.06,
           "601": 6612.74,
           "602": 8761.47,
           "603": 8677.97,
           "604": 8343.36,
           "605": 8376.83,
           "606": 8179.33,
           "607": 6637.5,
           "608": 6354.15,
           "609": 7989.89,
           "61": 4059.97,
           "610": 7983.53,
           "611": 7773.83,
           "612": 7264.25,
           "613": 6350.69,
           "614": 5457.2,
           "615": 5786.26,
           "616": 7744.28,
           "617": 7754.2,
           "618": 8015.43,
           "619": 7585.88,
           "62": 4242.81,
           "620": 6248.74,
           "621": 4732.19,
           "622": 5399.97,
           "623": 7236.67,
           "624": 7287.43,
           "625": 7427.46,
           "626": 6942.17,
           "627": 6059.55,
           "628": 5163.7,
           "629": 5231.58,
           "63": 5681.36,
           "630": 6079.34,
           "631": 6703.38,
           "632": 6928.67,
           "633": 6762.55,
           "634": 6743.35,
           "635": 4968.14,
           "636": 4601.71,
           "637": 5626.89,
           "638": 5396.47,
           "639": 5205.96,
           "64": 5950.99,
           "640": 5099.22,
           "641": 4871.45,
           "642": 4541.86,
           "643": 5292.81,
           "644": 5789.63,
           "645": 7032.15,
           "646": 6817.97,
           "647": 6819.44,
           "648": 5766.68,
           "649": 4195.12,
           "65": 5969.81,
           "650": 4063.19,
           "651": 5182.48,
           "652": 5166.34,
           "653": 5374.59,
           "654": 5822.15,
           "655": 5193.16,
           "656": 4156.78,
           "657": 4379.29,
           "658": 5706.67,
           "659": 5462.05,
           "66": 5887.98,
           "660": 5544.23,
           "661": 5880.95,
           "662": 5214.73,
           "663": 4057.14,
           "664": 4080.44,
           "665": 4199.96,
           "666": 5188.33,
           "667": 4953.93,
           "668": 4742.93,
           "669": 4624.57,
           "67": 5260.03,
           "670": 3704.45,
           "671": 3554.99,
           "672": 4787.33,
           "673": 4969.22,
           "674": 5008.79,
           "675": 5113.61,
           "676": 4615.96,
           "677": 3869.36,
           "678": 3906.22,
           "679": 4995.98,
           "68": 4161.3,
           "680": 4813.06,
           "681": 4632.21,
           "682": 4507.09,
           "683": 4051.02,
           "684": 3274.25,
           "685": 3393.09,
           "686": 4450.52,
           "687": 4448.35,
           "688": 4436.62,
           "689": 4412.8,
           "69": 4206.37,
           "690": 4028.4,
           "691": 3239.83,
           "692": 3334.48,
           "693": 4511.69,
           "694": 4483.33,
           "695": 4457.98,
           "696": 4473.83,
           "697": 4070.47,
           "698": 3254.41,
           "7": 4716.04,
           "70": 5463.68,
           "71": 5494.65,
           "72": 5853.57,
           "73": 6296.92,
           "74": 6111.37,
           "75": 5659.85,
           "76": 6351.65,
           "77": 8489.57,
           "78": 8023.19,
           "79": 7525.36,
           "8": 4742.15,
           "80": 6573.86,
           "81": 6627.57,
           "82": 5580.36,
           "83": 5855.14,
           "84": 7681.1,
           "85": 7746.84,
           "86": 8006.73,
           "87": 7871.1,
           "88": 7503.25,
           "89": 5966.51,
           "9": 4520.77,
           "90": 6144.61,
           "91": 8013.96,
           "92": 8058.41,
           "93": 8474.55,
           "94": 9026.21,
           "95": 8372.53,
           "96": 7042.62,
           "97": 7088.69,
           "98": 9194.33,
           "99": 9334.59,
           "bdata": "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",
           "dtype": "f8",
           "shape": "699"
          },
          "bdata": "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",
          "dtype": "f8"
         },
         "yaxis": "y"
        }
       ],
       "layout": {
        "autosize": true,
        "legend": {
         "tracegroupgap": 0
        },
        "template": {
         "data": {
          "bar": [
           {
            "error_x": {
             "color": "#2a3f5f"
            },
            "error_y": {
             "color": "#2a3f5f"
            },
            "marker": {
             "line": {
              "color": "#E5ECF6",
              "width": 0.5
             },
             "pattern": {
              "fillmode": "overlay",
              "size": 10,
              "solidity": 0.2
             }
            },
            "type": "bar"
           }
          ],
          "barpolar": [
           {
            "marker": {
             "line": {
              "color": "#E5ECF6",
              "width": 0.5
             },
             "pattern": {
              "fillmode": "overlay",
              "size": 10,
              "solidity": 0.2
             }
            },
            "type": "barpolar"
           }
          ],
          "carpet": [
           {
            "aaxis": {
             "endlinecolor": "#2a3f5f",
             "gridcolor": "white",
             "linecolor": "white",
             "minorgridcolor": "white",
             "startlinecolor": "#2a3f5f"
            },
            "baxis": {
             "endlinecolor": "#2a3f5f",
             "gridcolor": "white",
             "linecolor": "white",
             "minorgridcolor": "white",
             "startlinecolor": "#2a3f5f"
            },
            "type": "carpet"
           }
          ],
          "choropleth": [
           {
            "colorbar": {
             "outlinewidth": 0,
             "ticks": ""
            },
            "type": "choropleth"
           }
          ],
          "contour": [
           {
            "colorbar": {
             "outlinewidth": 0,
             "ticks": ""
            },
            "colorscale": [
             [
              0,
              "#0d0887"
             ],
             [
              0.1111111111111111,
              "#46039f"
             ],
             [
              0.2222222222222222,
              "#7201a8"
             ],
             [
              0.3333333333333333,
              "#9c179e"
             ],
             [
              0.4444444444444444,
              "#bd3786"
             ],
             [
              0.5555555555555556,
              "#d8576b"
             ],
             [
              0.6666666666666666,
              "#ed7953"
             ],
             [
              0.7777777777777778,
              "#fb9f3a"
             ],
             [
              0.8888888888888888,
              "#fdca26"
             ],
             [
              1,
              "#f0f921"
             ]
            ],
            "type": "contour"
           }
          ],
          "contourcarpet": [
           {
            "colorbar": {
             "outlinewidth": 0,
             "ticks": ""
            },
            "type": "contourcarpet"
           }
          ],
          "heatmap": [
           {
            "colorbar": {
             "outlinewidth": 0,
             "ticks": ""
            },
            "colorscale": [
             [
              0,
              "#0d0887"
             ],
             [
              0.1111111111111111,
              "#46039f"
             ],
             [
              0.2222222222222222,
              "#7201a8"
             ],
             [
              0.3333333333333333,
              "#9c179e"
             ],
             [
              0.4444444444444444,
              "#bd3786"
             ],
             [
              0.5555555555555556,
              "#d8576b"
             ],
             [
              0.6666666666666666,
              "#ed7953"
             ],
             [
              0.7777777777777778,
              "#fb9f3a"
             ],
             [
              0.8888888888888888,
              "#fdca26"
             ],
             [
              1,
              "#f0f921"
             ]
            ],
            "type": "heatmap"
           }
          ],
          "histogram": [
           {
            "marker": {
             "pattern": {
              "fillmode": "overlay",
              "size": 10,
              "solidity": 0.2
             }
            },
            "type": "histogram"
           }
          ],
          "histogram2d": [
           {
            "colorbar": {
             "outlinewidth": 0,
             "ticks": ""
            },
            "colorscale": [
             [
              0,
              "#0d0887"
             ],
             [
              0.1111111111111111,
              "#46039f"
             ],
             [
              0.2222222222222222,
              "#7201a8"
             ],
             [
              0.3333333333333333,
              "#9c179e"
             ],
             [
              0.4444444444444444,
              "#bd3786"
             ],
             [
              0.5555555555555556,
              "#d8576b"
             ],
             [
              0.6666666666666666,
              "#ed7953"
             ],
             [
              0.7777777777777778,
              "#fb9f3a"
             ],
             [
              0.8888888888888888,
              "#fdca26"
             ],
             [
              1,
              "#f0f921"
             ]
            ],
            "type": "histogram2d"
           }
          ],
          "histogram2dcontour": [
           {
            "colorbar": {
             "outlinewidth": 0,
             "ticks": ""
            },
            "colorscale": [
             [
              0,
              "#0d0887"
             ],
             [
              0.1111111111111111,
              "#46039f"
             ],
             [
              0.2222222222222222,
              "#7201a8"
             ],
             [
              0.3333333333333333,
              "#9c179e"
             ],
             [
              0.4444444444444444,
              "#bd3786"
             ],
             [
              0.5555555555555556,
              "#d8576b"
             ],
             [
              0.6666666666666666,
              "#ed7953"
             ],
             [
              0.7777777777777778,
              "#fb9f3a"
             ],
             [
              0.8888888888888888,
              "#fdca26"
             ],
             [
              1,
              "#f0f921"
             ]
            ],
            "type": "histogram2dcontour"
           }
          ],
          "mesh3d": [
           {
            "colorbar": {
             "outlinewidth": 0,
             "ticks": ""
            },
            "type": "mesh3d"
           }
          ],
          "parcoords": [
           {
            "line": {
             "colorbar": {
              "outlinewidth": 0,
              "ticks": ""
             }
            },
            "type": "parcoords"
           }
          ],
          "pie": [
           {
            "automargin": true,
            "type": "pie"
           }
          ],
          "scatter": [
           {
            "fillpattern": {
             "fillmode": "overlay",
             "size": 10,
             "solidity": 0.2
            },
            "type": "scatter"
           }
          ],
          "scatter3d": [
           {
            "line": {
             "colorbar": {
              "outlinewidth": 0,
              "ticks": ""
             }
            },
            "marker": {
             "colorbar": {
              "outlinewidth": 0,
              "ticks": ""
             }
            },
            "type": "scatter3d"
           }
          ],
          "scattercarpet": [
           {
            "marker": {
             "colorbar": {
              "outlinewidth": 0,
              "ticks": ""
             }
            },
            "type": "scattercarpet"
           }
          ],
          "scattergeo": [
           {
            "marker": {
             "colorbar": {
              "outlinewidth": 0,
              "ticks": ""
             }
            },
            "type": "scattergeo"
           }
          ],
          "scattergl": [
           {
            "marker": {
             "colorbar": {
              "outlinewidth": 0,
              "ticks": ""
             }
            },
            "type": "scattergl"
           }
          ],
          "scattermap": [
           {
            "marker": {
             "colorbar": {
              "outlinewidth": 0,
              "ticks": ""
             }
            },
            "type": "scattermap"
           }
          ],
          "scattermapbox": [
           {
            "marker": {
             "colorbar": {
              "outlinewidth": 0,
              "ticks": ""
             }
            },
            "type": "scattermapbox"
           }
          ],
          "scatterpolar": [
           {
            "marker": {
             "colorbar": {
              "outlinewidth": 0,
              "ticks": ""
             }
            },
            "type": "scatterpolar"
           }
          ],
          "scatterpolargl": [
           {
            "marker": {
             "colorbar": {
              "outlinewidth": 0,
              "ticks": ""
             }
            },
            "type": "scatterpolargl"
           }
          ],
          "scatterternary": [
           {
            "marker": {
             "colorbar": {
              "outlinewidth": 0,
              "ticks": ""
             }
            },
            "type": "scatterternary"
           }
          ],
          "surface": [
           {
            "colorbar": {
             "outlinewidth": 0,
             "ticks": ""
            },
            "colorscale": [
             [
              0,
              "#0d0887"
             ],
             [
              0.1111111111111111,
              "#46039f"
             ],
             [
              0.2222222222222222,
              "#7201a8"
             ],
             [
              0.3333333333333333,
              "#9c179e"
             ],
             [
              0.4444444444444444,
              "#bd3786"
             ],
             [
              0.5555555555555556,
              "#d8576b"
             ],
             [
              0.6666666666666666,
              "#ed7953"
             ],
             [
              0.7777777777777778,
              "#fb9f3a"
             ],
             [
              0.8888888888888888,
              "#fdca26"
             ],
             [
              1,
              "#f0f921"
             ]
            ],
            "type": "surface"
           }
          ],
          "table": [
           {
            "cells": {
             "fill": {
              "color": "#EBF0F8"
             },
             "line": {
              "color": "white"
             }
            },
            "header": {
             "fill": {
              "color": "#C8D4E3"
             },
             "line": {
              "color": "white"
             }
            },
            "type": "table"
           }
          ]
         },
         "layout": {
          "annotationdefaults": {
           "arrowcolor": "#2a3f5f",
           "arrowhead": 0,
           "arrowwidth": 1
          },
          "autotypenumbers": "strict",
          "coloraxis": {
           "colorbar": {
            "outlinewidth": 0,
            "ticks": ""
           }
          },
          "colorscale": {
           "diverging": [
            [
             0,
             "#8e0152"
            ],
            [
             0.1,
             "#c51b7d"
            ],
            [
             0.2,
             "#de77ae"
            ],
            [
             0.3,
             "#f1b6da"
            ],
            [
             0.4,
             "#fde0ef"
            ],
            [
             0.5,
             "#f7f7f7"
            ],
            [
             0.6,
             "#e6f5d0"
            ],
            [
             0.7,
             "#b8e186"
            ],
            [
             0.8,
             "#7fbc41"
            ],
            [
             0.9,
             "#4d9221"
            ],
            [
             1,
             "#276419"
            ]
           ],
           "sequential": [
            [
             0,
             "#0d0887"
            ],
            [
             0.1111111111111111,
             "#46039f"
            ],
            [
             0.2222222222222222,
             "#7201a8"
            ],
            [
             0.3333333333333333,
             "#9c179e"
            ],
            [
             0.4444444444444444,
             "#bd3786"
            ],
            [
             0.5555555555555556,
             "#d8576b"
            ],
            [
             0.6666666666666666,
             "#ed7953"
            ],
            [
             0.7777777777777778,
             "#fb9f3a"
            ],
            [
             0.8888888888888888,
             "#fdca26"
            ],
            [
             1,
             "#f0f921"
            ]
           ],
           "sequentialminus": [
            [
             0,
             "#0d0887"
            ],
            [
             0.1111111111111111,
             "#46039f"
            ],
            [
             0.2222222222222222,
             "#7201a8"
            ],
            [
             0.3333333333333333,
             "#9c179e"
            ],
            [
             0.4444444444444444,
             "#bd3786"
            ],
            [
             0.5555555555555556,
             "#d8576b"
            ],
            [
             0.6666666666666666,
             "#ed7953"
            ],
            [
             0.7777777777777778,
             "#fb9f3a"
            ],
            [
             0.8888888888888888,
             "#fdca26"
            ],
            [
             1,
             "#f0f921"
            ]
           ]
          },
          "colorway": [
           "#636efa",
           "#EF553B",
           "#00cc96",
           "#ab63fa",
           "#FFA15A",
           "#19d3f3",
           "#FF6692",
           "#B6E880",
           "#FF97FF",
           "#FECB52"
          ],
          "font": {
           "color": "#2a3f5f"
          },
          "geo": {
           "bgcolor": "white",
           "lakecolor": "white",
           "landcolor": "#E5ECF6",
           "showlakes": true,
           "showland": true,
           "subunitcolor": "white"
          },
          "hoverlabel": {
           "align": "left"
          },
          "hovermode": "closest",
          "mapbox": {
           "style": "light"
          },
          "paper_bgcolor": "white",
          "plot_bgcolor": "#E5ECF6",
          "polar": {
           "angularaxis": {
            "gridcolor": "white",
            "linecolor": "white",
            "ticks": ""
           },
           "bgcolor": "#E5ECF6",
           "radialaxis": {
            "gridcolor": "white",
            "linecolor": "white",
            "ticks": ""
           }
          },
          "scene": {
           "xaxis": {
            "backgroundcolor": "#E5ECF6",
            "gridcolor": "white",
            "gridwidth": 2,
            "linecolor": "white",
            "showbackground": true,
            "ticks": "",
            "zerolinecolor": "white"
           },
           "yaxis": {
            "backgroundcolor": "#E5ECF6",
            "gridcolor": "white",
            "gridwidth": 2,
            "linecolor": "white",
            "showbackground": true,
            "ticks": "",
            "zerolinecolor": "white"
           },
           "zaxis": {
            "backgroundcolor": "#E5ECF6",
            "gridcolor": "white",
            "gridwidth": 2,
            "linecolor": "white",
            "showbackground": true,
            "ticks": "",
            "zerolinecolor": "white"
           }
          },
          "shapedefaults": {
           "line": {
            "color": "#2a3f5f"
           }
          },
          "ternary": {
           "aaxis": {
            "gridcolor": "white",
            "linecolor": "white",
            "ticks": ""
           },
           "baxis": {
            "gridcolor": "white",
            "linecolor": "white",
            "ticks": ""
           },
           "bgcolor": "#E5ECF6",
           "caxis": {
            "gridcolor": "white",
            "linecolor": "white",
            "ticks": ""
           }
          },
          "title": {
           "x": 0.05
          },
          "xaxis": {
           "automargin": true,
           "gridcolor": "white",
           "linecolor": "white",
           "ticks": "",
           "title": {
            "standoff": 15
           },
           "zerolinecolor": "white",
           "zerolinewidth": 2
          },
          "yaxis": {
           "automargin": true,
           "gridcolor": "white",
           "linecolor": "white",
           "ticks": "",
           "title": {
            "standoff": 15
           },
           "zerolinecolor": "white",
           "zerolinewidth": 2
          }
         }
        },
        "title": {
         "text": "Gas Volume"
        },
        "xaxis": {
         "anchor": "y",
         "autorange": true,
         "domain": [
          0,
          1
         ],
         "range": [
          0,
          698
         ],
         "title": {
          "text": "Date"
         },
         "type": "category"
        },
        "yaxis": {
         "anchor": "x",
         "autorange": true,
         "domain": [
          0,
          1
         ],
         "range": [
          2600.143888888889,
          14560.266111111112
         ],
         "title": {
          "text": "Volume therms"
         },
         "type": "linear"
        }
       }
      },
      "image/png": "[encoded data removed]"
     },
     "metadata": {},
     "output_type": "display_data"
    }
   ],
   "source": [
    "fig = px.line(gas_vol,x=\"Date\", y=\"Volume therms\",title=\"Gas Volume\")\n",
    "fig.show()"
   ]
  },
  {
   "cell_type": "markdown",
   "id": "73a6a285-85cf-4649-8019-4a5716a2f32c",
   "metadata": {},
   "source": [
    "**Now center the title** <br>Theres a layout seciton in the library <br>https://plotly.com/python/reference/layout/\n"
   ]
  },
  {
   "cell_type": "code",
   "execution_count": 107,
   "id": "088f53ad-5733-430a-9c7f-30054d7e19ed",
   "metadata": {},
   "outputs": [
    {
     "data": {
      "application/vnd.plotly.v1+json": {
       "config": {
        "plotlyServerURL": "https://plot.ly"
       },
       "data": [
        {
         "hovertemplate": "Date=%{x}<br>Volume therms=%{y}<extra></extra>",
         "legendgroup": "",
         "line": {
          "color": "#636efa",
          "dash": "solid"
         },
         "marker": {
          "symbol": "circle"
         },
         "mode": "lines",
         "name": "",
         "orientation": "v",
         "showlegend": false,
         "type": "scatter",
         "x": [
          "Fri 01/08/25",
          "Sat 02/08/25",
          "Sun 03/08/25",
          "Mon 04/08/25",
          "Tue 05/08/25",
          "Wed 06/08/25",
          "Thu 07/08/25",
          "Fri 08/08/25",
          "Sat 09/08/25",
          "Sun 10/08/25",
          "Mon 11/08/25",
          "Tue 12/08/25",
          "Wed 13/08/25",
          "Thu 14/08/25",
          "Fri 15/08/25",
          "Sat 16/08/25",
          "Sun 17/08/25",
          "Mon 18/08/25",
          "Tue 19/08/25",
          "Wed 20/08/25",
          "Thu 21/08/25",
          "Fri 22/08/25",
          "Sat 23/08/25",
          "Sun 24/08/25",
          "Mon 25/08/25",
          "Tue 26/08/25",
          "Wed 27/08/25",
          "Thu 28/08/25",
          "Fri 29/08/25",
          "Sat 30/08/25",
          "Sun 31/08/25",
          "Mon 01/09/25",
          "Tue 02/09/25",
          "Wed 03/09/25",
          "Thu 04/09/25",
          "Fri 05/09/25",
          "Sat 06/09/25",
          "Sun 07/09/25",
          "Mon 08/09/25",
          "Tue 09/09/25",
          "Wed 10/09/25",
          "Thu 11/09/25",
          "Fri 12/09/25",
          "Sat 13/09/25",
          "Sun 14/09/25",
          "Mon 15/09/25",
          "Tue 16/09/25",
          "Wed 17/09/25",
          "Thu 18/09/25",
          "Fri 19/09/25",
          "Sat 20/09/25",
          "Sun 21/09/25",
          "Mon 22/09/25",
          "Tue 23/09/25",
          "Wed 24/09/25",
          "Thu 25/09/25",
          "Fri 26/09/25",
          "Sat 27/09/25",
          "Sun 28/09/25",
          "Mon 29/09/25",
          "Tue 30/09/25",
          "Wed 01/10/25",
          "Thu 02/10/25",
          "Fri 03/10/25",
          "Sat 04/10/25",
          "Sun 05/10/25",
          "Mon 06/10/25",
          "Tue 07/10/25",
          "Wed 08/10/25",
          "Thu 09/10/25",
          "Fri 10/10/25",
          "Sat 11/10/25",
          "Sun 12/10/25",
          "Mon 13/10/25",
          "Tue 14/10/25",
          "Wed 15/10/25",
          "Thu 16/10/25",
          "Fri 17/10/25",
          "Sat 18/10/25",
          "Sun 19/10/25",
          "Mon 20/10/25",
          "Tue 21/10/25",
          "Wed 22/10/25",
          "Thu 23/10/25",
          "Fri 24/10/25",
          "Sat 25/10/25",
          "Sun 26/10/25",
          "Mon 27/10/25",
          "Tue 28/10/25",
          "Wed 29/10/25",
          "Thu 30/10/25",
          "Fri 31/10/25",
          "Sat 01/11/25",
          "Sun 02/11/25",
          "Mon 03/11/25",
          "Tue 04/11/25",
          "Wed 05/11/25",
          "Thu 06/11/25",
          "Fri 07/11/25",
          "Sat 08/11/25",
          "Sun 09/11/25",
          "Mon 10/11/25",
          "Tue 11/11/25",
          "Wed 12/11/25",
          "Thu 13/11/25",
          "Fri 14/11/25",
          "Sat 15/11/25",
          "Sun 16/11/25",
          "Mon 17/11/25",
          "Tue 18/11/25",
          "Wed 19/11/25",
          "Thu 20/11/25",
          "Fri 21/11/25",
          "Sat 22/11/25",
          "Sun 23/11/25",
          "Mon 24/11/25",
          "Tue 25/11/25",
          "Wed 26/11/25",
          "Thu 27/11/25",
          "Fri 28/11/25",
          "Sat 29/11/25",
          "Sun 30/11/25",
          "Mon 01/12/25",
          "Tue 02/12/25",
          "Wed 03/12/25",
          "Thu 04/12/25",
          "Fri 05/12/25",
          "Sat 06/12/25",
          "Sun 07/12/25",
          "Mon 08/12/25",
          "Tue 09/12/25",
          "Wed 10/12/25",
          "Thu 11/12/25",
          "Fri 12/12/25",
          "Sat 13/12/25",
          "Sun 14/12/25",
          "Mon 15/12/25",
          "Tue 16/12/25",
          "Wed 17/12/25",
          "Thu 18/12/25",
          "Fri 19/12/25",
          "Sat 20/12/25",
          "Sun 21/12/25",
          "Mon 22/12/25",
          "Tue 23/12/25",
          "Wed 24/12/25",
          "Thu 25/12/25",
          "Fri 26/12/25",
          "Sat 27/12/25",
          "Sun 28/12/25",
          "Mon 29/12/25",
          "Tue 30/12/25",
          "Wed 31/12/25",
          "Thu 01/01/26",
          "Fri 02/01/26",
          "Sat 03/01/26",
          "Sun 04/01/26",
          "Mon 05/01/26",
          "Tue 06/01/26",
          "Wed 07/01/26",
          "Thu 08/01/26",
          "Fri 09/01/26",
          "Sat 10/01/26",
          "Sun 11/01/26",
          "Mon 12/01/26",
          "Tue 13/01/26",
          "Wed 14/01/26",
          "Thu 15/01/26",
          "Fri 16/01/26",
          "Sat 17/01/26",
          "Sun 18/01/26",
          "Mon 19/01/26",
          "Tue 20/01/26",
          "Wed 21/01/26",
          "Thu 22/01/26",
          "Fri 23/01/26",
          "Sat 24/01/26",
          "Sun 25/01/26",
          "Mon 26/01/26",
          "Tue 27/01/26",
          "Wed 28/01/26",
          "Thu 29/01/26",
          "Fri 30/01/26",
          "Sat 31/01/26",
          "Sun 01/02/26",
          "Mon 02/02/26",
          "Tue 03/02/26",
          "Wed 04/02/26",
          "Thu 05/02/26",
          "Fri 06/02/26",
          "Sat 07/02/26",
          "Sun 08/02/26",
          "Mon 09/02/26",
          "Tue 10/02/26",
          "Wed 11/02/26",
          "Thu 12/02/26",
          "Fri 13/02/26",
          "Sat 14/02/26",
          "Sun 15/02/26",
          "Mon 16/02/26",
          "Tue 17/02/26",
          "Wed 18/02/26",
          "Thu 19/02/26",
          "Fri 20/02/26",
          "Sat 21/02/26",
          "Sun 22/02/26",
          "Mon 23/02/26",
          "Tue 24/02/26",
          "Wed 25/02/26",
          "Thu 26/02/26",
          "Fri 27/02/26",
          "Sat 28/02/26",
          "Sun 01/03/26",
          "Mon 02/03/26",
          "Tue 03/03/26",
          "Wed 04/03/26",
          "Thu 05/03/26",
          "Fri 06/03/26",
          "Sat 07/03/26",
          "Sun 08/03/26",
          "Mon 09/03/26",
          "Tue 10/03/26",
          "Wed 11/03/26",
          "Thu 12/03/26",
          "Fri 13/03/26",
          "Sat 14/03/26",
          "Sun 15/03/26",
          "Mon 16/03/26",
          "Tue 17/03/26",
          "Wed 18/03/26",
          "Thu 19/03/26",
          "Fri 20/03/26",
          "Sat 21/03/26",
          "Sun 22/03/26",
          "Mon 23/03/26",
          "Tue 24/03/26",
          "Wed 25/03/26",
          "Thu 26/03/26",
          "Fri 27/03/26",
          "Sat 28/03/26",
          "Sun 29/03/26",
          "Mon 30/03/26",
          "Tue 31/03/26",
          "Wed 01/04/26",
          "Thu 02/04/26",
          "Fri 03/04/26",
          "Sat 04/04/26",
          "Sun 05/04/26",
          "Mon 06/04/26",
          "Tue 07/04/26",
          "Wed 08/04/26",
          "Thu 09/04/26",
          "Fri 10/04/26",
          "Sat 11/04/26",
          "Sun 12/04/26",
          "Mon 13/04/26",
          "Tue 14/04/26",
          "Wed 15/04/26",
          "Thu 16/04/26",
          "Fri 17/04/26",
          "Sat 18/04/26",
          "Sun 19/04/26",
          "Mon 20/04/26",
          "Tue 21/04/26",
          "Wed 22/04/26",
          "Thu 23/04/26",
          "Fri 24/04/26",
          "Sat 25/04/26",
          "Sun 26/04/26",
          "Mon 27/04/26",
          "Tue 28/04/26",
          "Wed 29/04/26",
          "Thu 30/04/26",
          "Fri 01/05/26",
          "Sat 02/05/26",
          "Sun 03/05/26",
          "Mon 04/05/26",
          "Tue 05/05/26",
          "Wed 06/05/26",
          "Thu 07/05/26",
          "Fri 08/05/26",
          "Sat 09/05/26",
          "Sun 10/05/26",
          "Mon 11/05/26",
          "Tue 12/05/26",
          "Wed 13/05/26",
          "Thu 14/05/26",
          "Fri 15/05/26",
          "Sat 16/05/26",
          "Sun 17/05/26",
          "Mon 18/05/26",
          "Tue 19/05/26",
          "Wed 20/05/26",
          "Thu 21/05/26",
          "Fri 22/05/26",
          "Sat 23/05/26",
          "Sun 24/05/26",
          "Mon 25/05/26",
          "Tue 26/05/26",
          "Wed 27/05/26",
          "Thu 28/05/26",
          "Fri 29/05/26",
          "Sat 30/05/26",
          "Sun 31/05/26",
          "Mon 01/06/26",
          "Tue 02/06/26",
          "Wed 03/06/26",
          "Thu 04/06/26",
          "Fri 05/06/26",
          "Sat 06/06/26",
          "Sun 07/06/26",
          "Mon 08/06/26",
          "Tue 09/06/26",
          "Wed 10/06/26",
          "Thu 11/06/26",
          "Fri 12/06/26",
          "Sat 13/06/26",
          "Sun 14/06/26",
          "Mon 15/06/26",
          "Tue 16/06/26",
          "Wed 17/06/26",
          "Thu 18/06/26",
          "Fri 19/06/26",
          "Sat 20/06/26",
          "Sun 21/06/26",
          "Mon 22/06/26",
          "Tue 23/06/26",
          "Wed 24/06/26",
          "Thu 25/06/26",
          "Fri 26/06/26",
          "Sat 27/06/26",
          "Sun 28/06/26",
          "Mon 29/06/26",
          "Tue 30/06/26",
          "Wed 01/07/26",
          "Thu 02/07/26",
          "Fri 03/07/26",
          "Sat 04/07/26",
          "Sun 05/07/26",
          "Mon 06/07/26",
          "Tue 07/07/26",
          "Wed 08/07/26",
          "Thu 09/07/26",
          "Fri 10/07/26",
          "Sat 11/07/26",
          "Sun 12/07/26",
          "Mon 13/07/26",
          "Tue 14/07/26",
          "Wed 15/07/26",
          "Thu 16/07/26",
          "Fri 17/07/26",
          "Sat 18/07/26",
          "Sun 19/07/26",
          "Mon 20/07/26",
          "Tue 21/07/26",
          "Wed 22/07/26",
          "Thu 23/07/26",
          "Fri 24/07/26",
          "Sat 25/07/26",
          "Sun 26/07/26",
          "Mon 27/07/26",
          "Tue 28/07/26",
          "Wed 29/07/26",
          "Thu 30/07/26",
          "Fri 31/07/26",
          "Sat 01/08/26",
          "Sun 02/08/26",
          "Mon 03/08/26",
          "Tue 04/08/26",
          "Wed 05/08/26",
          "Thu 06/08/26",
          "Fri 07/08/26",
          "Sat 08/08/26",
          "Sun 09/08/26",
          "Mon 10/08/26",
          "Tue 11/08/26",
          "Wed 12/08/26",
          "Thu 13/08/26",
          "Fri 14/08/26",
          "Sat 15/08/26",
          "Sun 16/08/26",
          "Mon 17/08/26",
          "Tue 18/08/26",
          "Wed 19/08/26",
          "Thu 20/08/26",
          "Fri 21/08/26",
          "Sat 22/08/26",
          "Sun 23/08/26",
          "Mon 24/08/26",
          "Tue 25/08/26",
          "Wed 26/08/26",
          "Thu 27/08/26",
          "Fri 28/08/26",
          "Sat 29/08/26",
          "Sun 30/08/26",
          "Mon 31/08/26",
          "Tue 01/09/26",
          "Wed 02/09/26",
          "Thu 03/09/26",
          "Fri 04/09/26",
          "Sat 05/09/26",
          "Sun 06/09/26",
          "Mon 07/09/26",
          "Tue 08/09/26",
          "Wed 09/09/26",
          "Thu 10/09/26",
          "Fri 11/09/26",
          "Sat 12/09/26",
          "Sun 13/09/26",
          "Mon 14/09/26",
          "Tue 15/09/26",
          "Wed 16/09/26",
          "Thu 17/09/26",
          "Fri 18/09/26",
          "Sat 19/09/26",
          "Sun 20/09/26",
          "Mon 21/09/26",
          "Tue 22/09/26",
          "Wed 23/09/26",
          "Thu 24/09/26",
          "Fri 25/09/26",
          "Sat 26/09/26",
          "Sun 27/09/26",
          "Mon 28/09/26",
          "Tue 29/09/26",
          "Wed 30/09/26",
          "Thu 01/10/26",
          "Fri 02/10/26",
          "Sat 03/10/26",
          "Sun 04/10/26",
          "Mon 05/10/26",
          "Tue 06/10/26",
          "Wed 07/10/26",
          "Thu 08/10/26",
          "Fri 09/10/26",
          "Sat 10/10/26",
          "Sun 11/10/26",
          "Mon 12/10/26",
          "Tue 13/10/26",
          "Wed 14/10/26",
          "Thu 15/10/26",
          "Fri 16/10/26",
          "Sat 17/10/26",
          "Sun 18/10/26",
          "Mon 19/10/26",
          "Tue 20/10/26",
          "Wed 21/10/26",
          "Thu 22/10/26",
          "Fri 23/10/26",
          "Sat 24/10/26",
          "Sun 25/10/26",
          "Mon 26/10/26",
          "Tue 27/10/26",
          "Wed 28/10/26",
          "Thu 29/10/26",
          "Fri 30/10/26",
          "Sat 31/10/26",
          "Sun 01/11/26",
          "Mon 02/11/26",
          "Tue 03/11/26",
          "Wed 04/11/26",
          "Thu 05/11/26",
          "Fri 06/11/26",
          "Sat 07/11/26",
          "Sun 08/11/26",
          "Mon 09/11/26",
          "Tue 10/11/26",
          "Wed 11/11/26",
          "Thu 12/11/26",
          "Fri 13/11/26",
          "Sat 14/11/26",
          "Sun 15/11/26",
          "Mon 16/11/26",
          "Tue 17/11/26",
          "Wed 18/11/26",
          "Thu 19/11/26",
          "Fri 20/11/26",
          "Sat 21/11/26",
          "Sun 22/11/26",
          "Mon 23/11/26",
          "Tue 24/11/26",
          "Wed 25/11/26",
          "Thu 26/11/26",
          "Fri 27/11/26",
          "Sat 28/11/26",
          "Sun 29/11/26",
          "Mon 30/11/26",
          "Tue 01/12/26",
          "Wed 02/12/26",
          "Thu 03/12/26",
          "Fri 04/12/26",
          "Sat 05/12/26",
          "Sun 06/12/26",
          "Mon 07/12/26",
          "Tue 08/12/26",
          "Wed 09/12/26",
          "Thu 10/12/26",
          "Fri 11/12/26",
          "Sat 12/12/26",
          "Sun 13/12/26",
          "Mon 14/12/26",
          "Tue 15/12/26",
          "Wed 16/12/26",
          "Thu 17/12/26",
          "Fri 18/12/26",
          "Sat 19/12/26",
          "Sun 20/12/26",
          "Mon 21/12/26",
          "Tue 22/12/26",
          "Wed 23/12/26",
          "Thu 24/12/26",
          "Fri 25/12/26",
          "Sat 26/12/26",
          "Sun 27/12/26",
          "Mon 28/12/26",
          "Tue 29/12/26",
          "Wed 30/12/26",
          "Thu 31/12/26",
          "Fri 01/01/27",
          "Sat 02/01/27",
          "Sun 03/01/27",
          "Mon 04/01/27",
          "Tue 05/01/27",
          "Wed 06/01/27",
          "Thu 07/01/27",
          "Fri 08/01/27",
          "Sat 09/01/27",
          "Sun 10/01/27",
          "Mon 11/01/27",
          "Tue 12/01/27",
          "Wed 13/01/27",
          "Thu 14/01/27",
          "Fri 15/01/27",
          "Sat 16/01/27",
          "Sun 17/01/27",
          "Mon 18/01/27",
          "Tue 19/01/27",
          "Wed 20/01/27",
          "Thu 21/01/27",
          "Fri 22/01/27",
          "Sat 23/01/27",
          "Sun 24/01/27",
          "Mon 25/01/27",
          "Tue 26/01/27",
          "Wed 27/01/27",
          "Thu 28/01/27",
          "Fri 29/01/27",
          "Sat 30/01/27",
          "Sun 31/01/27",
          "Mon 01/02/27",
          "Tue 02/02/27",
          "Wed 03/02/27",
          "Thu 04/02/27",
          "Fri 05/02/27",
          "Sat 06/02/27",
          "Sun 07/02/27",
          "Mon 08/02/27",
          "Tue 09/02/27",
          "Wed 10/02/27",
          "Thu 11/02/27",
          "Fri 12/02/27",
          "Sat 13/02/27",
          "Sun 14/02/27",
          "Mon 15/02/27",
          "Tue 16/02/27",
          "Wed 17/02/27",
          "Thu 18/02/27",
          "Fri 19/02/27",
          "Sat 20/02/27",
          "Sun 21/02/27",
          "Mon 22/02/27",
          "Tue 23/02/27",
          "Wed 24/02/27",
          "Thu 25/02/27",
          "Fri 26/02/27",
          "Sat 27/02/27",
          "Sun 28/02/27",
          "Mon 01/03/27",
          "Tue 02/03/27",
          "Wed 03/03/27",
          "Thu 04/03/27",
          "Fri 05/03/27",
          "Sat 06/03/27",
          "Sun 07/03/27",
          "Mon 08/03/27",
          "Tue 09/03/27",
          "Wed 10/03/27",
          "Thu 11/03/27",
          "Fri 12/03/27",
          "Sat 13/03/27",
          "Sun 14/03/27",
          "Mon 15/03/27",
          "Tue 16/03/27",
          "Wed 17/03/27",
          "Thu 18/03/27",
          "Fri 19/03/27",
          "Sat 20/03/27",
          "Sun 21/03/27",
          "Mon 22/03/27",
          "Tue 23/03/27",
          "Wed 24/03/27",
          "Thu 25/03/27",
          "Fri 26/03/27",
          "Sat 27/03/27",
          "Sun 28/03/27",
          "Mon 29/03/27",
          "Tue 30/03/27",
          "Wed 31/03/27",
          "Thu 01/04/27",
          "Fri 02/04/27",
          "Sat 03/04/27",
          "Sun 04/04/27",
          "Mon 05/04/27",
          "Tue 06/04/27",
          "Wed 07/04/27",
          "Thu 08/04/27",
          "Fri 09/04/27",
          "Sat 10/04/27",
          "Sun 11/04/27",
          "Mon 12/04/27",
          "Tue 13/04/27",
          "Wed 14/04/27",
          "Thu 15/04/27",
          "Fri 16/04/27",
          "Sat 17/04/27",
          "Sun 18/04/27",
          "Mon 19/04/27",
          "Tue 20/04/27",
          "Wed 21/04/27",
          "Thu 22/04/27",
          "Fri 23/04/27",
          "Sat 24/04/27",
          "Sun 25/04/27",
          "Mon 26/04/27",
          "Tue 27/04/27",
          "Wed 28/04/27",
          "Thu 29/04/27",
          "Fri 30/04/27",
          "Sat 01/05/27",
          "Sun 02/05/27",
          "Mon 03/05/27",
          "Tue 04/05/27",
          "Wed 05/05/27",
          "Thu 06/05/27",
          "Fri 07/05/27",
          "Sat 08/05/27",
          "Sun 09/05/27",
          "Mon 10/05/27",
          "Tue 11/05/27",
          "Wed 12/05/27",
          "Thu 13/05/27",
          "Fri 14/05/27",
          "Sat 15/05/27",
          "Sun 16/05/27",
          "Mon 17/05/27",
          "Tue 18/05/27",
          "Wed 19/05/27",
          "Thu 20/05/27",
          "Fri 21/05/27",
          "Sat 22/05/27",
          "Sun 23/05/27",
          "Mon 24/05/27",
          "Tue 25/05/27",
          "Wed 26/05/27",
          "Thu 27/05/27",
          "Fri 28/05/27",
          "Sat 29/05/27",
          "Sun 30/05/27",
          "Mon 31/05/27",
          "Tue 01/06/27",
          "Wed 02/06/27",
          "Thu 03/06/27",
          "Fri 04/06/27",
          "Sat 05/06/27",
          "Sun 06/06/27",
          "Mon 07/06/27",
          "Tue 08/06/27",
          "Wed 09/06/27",
          "Thu 10/06/27",
          "Fri 11/06/27",
          "Sat 12/06/27",
          "Sun 13/06/27",
          "Mon 14/06/27",
          "Tue 15/06/27",
          "Wed 16/06/27",
          "Thu 17/06/27",
          "Fri 18/06/27",
          "Sat 19/06/27",
          "Sun 20/06/27",
          "Mon 21/06/27",
          "Tue 22/06/27",
          "Wed 23/06/27",
          "Thu 24/06/27",
          "Fri 25/06/27",
          "Sat 26/06/27"
         ],
         "xaxis": "x",
         "y": {
          "_inputArray": {
           "0": 4059.61,
           "1": 3354.2,
           "10": 4507.52,
           "100": 7974.04,
           "101": 9233.27,
           "102": 9166.2,
           "103": 9397.47,
           "104": 10040.99,
           "105": 9352.21,
           "106": 6932.73,
           "107": 6824.5,
           "108": 8984.88,
           "109": 9483.75,
           "11": 4461.02,
           "110": 9530.33,
           "111": 9160.43,
           "112": 9632.3,
           "113": 8560.25,
           "114": 8864.68,
           "115": 11300.6,
           "116": 11295.26,
           "117": 11977.14,
           "118": 12760.23,
           "119": 12309.73,
           "12": 4430.74,
           "120": 10448.29,
           "121": 9882.55,
           "122": 12085.97,
           "123": 11775.79,
           "124": 12184.36,
           "125": 11851.53,
           "126": 10062.87,
           "127": 7934.03,
           "128": 7879.6,
           "129": 9914.3,
           "13": 4424.52,
           "130": 10026.73,
           "131": 10873.46,
           "132": 10813.37,
           "133": 9910.51,
           "134": 7579.29,
           "135": 7543.05,
           "136": 9348,
           "137": 10031.18,
           "138": 10053.45,
           "139": 9703.61,
           "14": 4120.55,
           "140": 9137.61,
           "141": 6168.35,
           "142": 5827.49,
           "143": 6068.05,
           "144": 6655.78,
           "145": 7457.7,
           "146": 7200.76,
           "147": 7516.21,
           "148": 6818.85,
           "149": 7090.7,
           "15": 3248.44,
           "150": 6885.91,
           "151": 9999.56,
           "152": 9986.66,
           "153": 10503.77,
           "154": 10092.83,
           "155": 8478.79,
           "156": 9194.56,
           "157": 12700.81,
           "158": 12831.72,
           "159": 12447.26,
           "16": 3350.7,
           "160": 12058.9,
           "161": 11240.45,
           "162": 9029.14,
           "163": 9362.72,
           "164": 12857.03,
           "165": 12947.39,
           "166": 13398.02,
           "167": 13661.84,
           "168": 12527.08,
           "169": 9689.41,
           "17": 4416.63,
           "170": 8412.23,
           "171": 10638.43,
           "172": 10199.81,
           "173": 9874.55,
           "174": 9601.58,
           "175": 9617.94,
           "176": 8107.88,
           "177": 7926.22,
           "178": 9798.71,
           "179": 10380.3,
           "18": 4414.92,
           "180": 10526.56,
           "181": 11057.53,
           "182": 9624.91,
           "183": 7436.1,
           "184": 7465.93,
           "185": 9759.05,
           "186": 9801.14,
           "187": 10847.84,
           "188": 11745.16,
           "189": 10047.66,
           "19": 4420.92,
           "190": 7869.9,
           "191": 8312.08,
           "192": 11043.69,
           "193": 10709.49,
           "194": 9644.62,
           "195": 8884.74,
           "196": 8594.57,
           "197": 6917.4,
           "198": 6895,
           "199": 9394.35,
           "2": 3306.1,
           "20": 4481.87,
           "200": 9591.02,
           "201": 9830.42,
           "202": 10730.44,
           "203": 10329.34,
           "204": 8532.62,
           "205": 9152.8,
           "206": 11537.5,
           "207": 11328.43,
           "208": 10674.32,
           "209": 10569.59,
           "21": 4289.65,
           "210": 10589.59,
           "211": 8672.66,
           "212": 8650.57,
           "213": 11185.19,
           "214": 10507.52,
           "215": 10648.05,
           "216": 10866.31,
           "217": 10181.23,
           "218": 7800.4,
           "219": 7986.17,
           "22": 3434.05,
           "220": 10285.28,
           "221": 9542.13,
           "222": 9035.51,
           "223": 8661.06,
           "224": 8224.74,
           "225": 6901.61,
           "226": 6603.17,
           "227": 8484.18,
           "228": 8281.2,
           "229": 8257.75,
           "23": 3493.52,
           "230": 8509.26,
           "231": 8567.51,
           "232": 7533.86,
           "233": 7303.81,
           "234": 9629.81,
           "235": 9292.75,
           "236": 9513.49,
           "237": 9583.45,
           "238": 7858.79,
           "239": 6634.17,
           "24": 3509.19,
           "240": 6830.59,
           "241": 7406.61,
           "242": 8222.66,
           "243": 8196.17,
           "244": 7887.73,
           "245": 7248.92,
           "246": 5224.84,
           "247": 5608.07,
           "248": 7387.45,
           "249": 8570.62,
           "25": 4787.16,
           "250": 8338.1,
           "251": 7110.12,
           "252": 6343.34,
           "253": 5292.34,
           "254": 5886.47,
           "255": 8688.33,
           "256": 8465.12,
           "257": 8833.68,
           "258": 8744.34,
           "259": 7848.47,
           "26": 4811.85,
           "260": 6403.88,
           "261": 6579.17,
           "262": 8816.77,
           "263": 8730.7,
           "264": 8823.8,
           "265": 9037.06,
           "266": 8317.25,
           "267": 6825.47,
           "268": 6845.36,
           "269": 8023.89,
           "27": 4864.37,
           "270": 7035.1,
           "271": 6581.77,
           "272": 6660.64,
           "273": 6672,
           "274": 5277.42,
           "275": 5041.94,
           "276": 4980.12,
           "277": 6096.96,
           "278": 5882.79,
           "279": 5668.3,
           "28": 4291.96,
           "280": 5115.46,
           "281": 4077.22,
           "282": 4072.07,
           "283": 5614.76,
           "284": 5779.76,
           "285": 5751.28,
           "286": 5906.59,
           "287": 5296.27,
           "288": 4251.7,
           "289": 4278.74,
           "29": 3289.11,
           "290": 5765.81,
           "291": 5920.59,
           "292": 6182.63,
           "293": 6419.84,
           "294": 5838.63,
           "295": 4466.81,
           "296": 4464.9,
           "297": 4487.91,
           "298": 5502.34,
           "299": 5403.44,
           "3": 4716.04,
           "30": 3315.53,
           "300": 5461.12,
           "301": 5545.29,
           "302": 4427.25,
           "303": 3922.16,
           "304": 5170.49,
           "305": 5322.29,
           "306": 5560.82,
           "307": 5497.1,
           "308": 5036.48,
           "309": 4074.84,
           "31": 4350.17,
           "310": 4241.67,
           "311": 5748.42,
           "312": 5802.09,
           "313": 5722.68,
           "314": 5835.14,
           "315": 5067.97,
           "316": 4182.25,
           "317": 4064.75,
           "318": 5180.81,
           "319": 5185.14,
           "32": 4351.13,
           "320": 5103.55,
           "321": 4955.13,
           "322": 4556.07,
           "323": 3654.25,
           "324": 3631.39,
           "325": 4736.95,
           "326": 4722.45,
           "327": 4715.69,
           "328": 4747.08,
           "329": 4555.88,
           "33": 4346.26,
           "330": 3650.79,
           "331": 3884.34,
           "332": 5125.84,
           "333": 5137.91,
           "334": 5175.11,
           "335": 5151.88,
           "336": 4726.44,
           "337": 3905.3,
           "338": 3971.18,
           "339": 5109.11,
           "34": 4344.36,
           "340": 5021.01,
           "341": 4964.91,
           "342": 5008.11,
           "343": 4717.19,
           "344": 3790.74,
           "345": 3809.25,
           "346": 4946.67,
           "347": 4938.39,
           "348": 4765.18,
           "349": 4692.02,
           "35": 4025.27,
           "350": 4138.73,
           "351": 3246.46,
           "352": 3257.19,
           "353": 4159.28,
           "354": 4155.45,
           "355": 4179.51,
           "356": 4197.8,
           "357": 4197.66,
           "358": 3322.56,
           "359": 3253.25,
           "36": 3198.15,
           "360": 4141.87,
           "361": 4144.12,
           "362": 4144.39,
           "363": 4175.08,
           "364": 4177.44,
           "365": 3281.86,
           "366": 3310.94,
           "367": 4735.18,
           "368": 4735.42,
           "369": 4796.92,
           "37": 3298.76,
           "370": 4791.84,
           "371": 4400.03,
           "372": 3522.04,
           "373": 3578.48,
           "374": 4715.37,
           "375": 4726.56,
           "376": 4743.35,
           "377": 4802.68,
           "378": 4483.73,
           "379": 3636.25,
           "38": 4349.32,
           "380": 3692.69,
           "381": 4940.16,
           "382": 4889.36,
           "383": 4963.33,
           "384": 4928.33,
           "385": 4544.21,
           "386": 3677.52,
           "387": 3715.17,
           "388": 3636.18,
           "389": 4832.28,
           "39": 4489.81,
           "390": 4773.87,
           "391": 4864.53,
           "392": 4544.3,
           "393": 3687.77,
           "394": 3668.35,
           "395": 4804.26,
           "396": 4875.93,
           "397": 5054.6,
           "398": 5108.41,
           "399": 4559.34,
           "4": 4742.15,
           "40": 4606.02,
           "400": 3660.84,
           "401": 3761.39,
           "402": 5169.06,
           "403": 5363.99,
           "404": 5851.42,
           "405": 6196.1,
           "406": 5716.75,
           "407": 4194.54,
           "408": 4189.79,
           "409": 5317.93,
           "41": 4616.22,
           "410": 5262.9,
           "411": 5142.26,
           "412": 5072.69,
           "413": 4730.44,
           "414": 3743.54,
           "415": 3971.74,
           "416": 5395.4,
           "417": 5564.78,
           "418": 5836.64,
           "419": 5955.54,
           "42": 4232.03,
           "420": 6088.96,
           "421": 5004.02,
           "422": 5288.14,
           "423": 7328.9,
           "424": 7460.48,
           "425": 7179.07,
           "426": 7353.24,
           "427": 6904.84,
           "428": 5464.53,
           "429": 5625.57,
           "43": 3403.74,
           "430": 6655.98,
           "431": 6768.89,
           "432": 7084.74,
           "433": 8111.13,
           "434": 7929.33,
           "435": 6564.38,
           "436": 6976.08,
           "437": 8766.11,
           "438": 7945.03,
           "439": 6921.48,
           "44": 3491.18,
           "440": 6719.16,
           "441": 6664,
           "442": 5338.68,
           "443": 5574.22,
           "444": 7483.04,
           "445": 7541.76,
           "446": 7637.7,
           "447": 7469.4,
           "448": 6890.65,
           "449": 5872.94,
           "45": 4744.63,
           "450": 6288.54,
           "451": 7619.47,
           "452": 7526.36,
           "453": 7818.59,
           "454": 8087.27,
           "455": 7527.88,
           "456": 6070.96,
           "457": 6523.25,
           "458": 8616.4,
           "459": 8728.27,
           "46": 4774.5,
           "460": 8633.6,
           "461": 8910.2,
           "462": 8695.47,
           "463": 7402.62,
           "464": 7190.85,
           "465": 9458.9,
           "466": 9713.61,
           "467": 9578.52,
           "468": 9500.91,
           "469": 9155.23,
           "47": 4813.48,
           "470": 7514.58,
           "471": 7896.21,
           "472": 10879,
           "473": 12115.18,
           "474": 12600.83,
           "475": 13181.63,
           "476": 11800.47,
           "477": 8492.25,
           "478": 7386.47,
           "479": 9809.02,
           "48": 4964.53,
           "480": 10354.76,
           "481": 11399.23,
           "482": 11875.61,
           "483": 10309.06,
           "484": 7249.64,
           "485": 7073.33,
           "486": 10103.42,
           "487": 10935.15,
           "488": 11001.39,
           "489": 10116.44,
           "49": 4886.78,
           "490": 9744.3,
           "491": 8798.46,
           "492": 8818.39,
           "493": 11183.36,
           "494": 11466.16,
           "495": 11547.71,
           "496": 11336.63,
           "497": 10789.76,
           "498": 8640.38,
           "499": 8037.15,
           "5": 4520.77,
           "50": 3903.1,
           "500": 10037.86,
           "501": 10269.2,
           "502": 9599.99,
           "503": 10930.57,
           "504": 10377.59,
           "505": 8353.86,
           "506": 9202.07,
           "507": 9633.64,
           "508": 7696.83,
           "509": 6947.96,
           "51": 3723.84,
           "510": 7383.3,
           "511": 8620.99,
           "512": 8065.2,
           "513": 7861.89,
           "514": 8238.93,
           "515": 7864.76,
           "516": 7644.74,
           "517": 10436.89,
           "518": 10992.24,
           "519": 10217.37,
           "52": 5154.9,
           "520": 9621.55,
           "521": 12848.01,
           "522": 13090.47,
           "523": 13681.31,
           "524": 13962.26,
           "525": 13214.93,
           "526": 10625.37,
           "527": 10643.71,
           "528": 12821.12,
           "529": 11340.22,
           "53": 5178.56,
           "530": 10927.26,
           "531": 11333.87,
           "532": 10699.43,
           "533": 9421.98,
           "534": 10068.14,
           "535": 12376.57,
           "536": 12275.36,
           "537": 12334.24,
           "538": 12404.99,
           "539": 10652.22,
           "54": 5232.1,
           "540": 8918.88,
           "541": 9545.33,
           "542": 11688.57,
           "543": 11209.78,
           "544": 11361.86,
           "545": 11760.74,
           "546": 10707.56,
           "547": 8907.35,
           "548": 8971.37,
           "549": 11225.5,
           "55": 5256.31,
           "550": 10981.71,
           "551": 11143.45,
           "552": 11688.46,
           "553": 11804.79,
           "554": 9383.95,
           "555": 9512.16,
           "556": 12639.06,
           "557": 12310.3,
           "558": 12107.87,
           "559": 12441.23,
           "56": 4908.57,
           "560": 11666.45,
           "561": 9393.17,
           "562": 9843.03,
           "563": 12777.31,
           "564": 12615.59,
           "565": 12000.02,
           "566": 10145.28,
           "567": 8546.76,
           "568": 6986.44,
           "569": 7494.12,
           "57": 4059.97,
           "570": 9352.41,
           "571": 9978.21,
           "572": 10685.87,
           "573": 10640.17,
           "574": 10009.37,
           "575": 8312.22,
           "576": 8520.66,
           "577": 10766.03,
           "578": 10616.79,
           "579": 10270.55,
           "58": 4242.81,
           "580": 9385.23,
           "581": 8172.46,
           "582": 6269.34,
           "583": 6386.76,
           "584": 9236.27,
           "585": 10093.67,
           "586": 10763.74,
           "587": 11123.78,
           "588": 10231.98,
           "589": 8352.8,
           "59": 5681.36,
           "590": 8417.43,
           "591": 11034.99,
           "592": 10639.52,
           "593": 9697.87,
           "594": 8525.29,
           "595": 7565.17,
           "596": 5907.06,
           "597": 6612.74,
           "598": 8761.47,
           "599": 8677.97,
           "6": 4406.22,
           "60": 5950.99,
           "600": 8343.36,
           "601": 8376.83,
           "602": 8179.33,
           "603": 6637.5,
           "604": 6354.15,
           "605": 7989.89,
           "606": 7983.53,
           "607": 7773.83,
           "608": 7264.25,
           "609": 6350.69,
           "61": 5969.81,
           "610": 5457.2,
           "611": 5786.26,
           "612": 7744.28,
           "613": 7754.2,
           "614": 8015.43,
           "615": 7585.88,
           "616": 6248.74,
           "617": 4732.19,
           "618": 5399.97,
           "619": 7236.67,
           "62": 5887.98,
           "620": 7287.43,
           "621": 7427.46,
           "622": 6942.17,
           "623": 6059.55,
           "624": 5163.7,
           "625": 5231.58,
           "626": 6079.34,
           "627": 6703.38,
           "628": 6928.67,
           "629": 6762.55,
           "63": 5260.03,
           "630": 6743.35,
           "631": 4968.14,
           "632": 4601.71,
           "633": 5626.89,
           "634": 5396.47,
           "635": 5205.96,
           "636": 5099.22,
           "637": 4871.45,
           "638": 4541.86,
           "639": 5292.81,
           "64": 4161.3,
           "640": 5789.63,
           "641": 7032.15,
           "642": 6817.97,
           "643": 6819.44,
           "644": 5766.68,
           "645": 4195.12,
           "646": 4063.19,
           "647": 5182.48,
           "648": 5166.34,
           "649": 5374.59,
           "65": 4206.37,
           "650": 5822.15,
           "651": 5193.16,
           "652": 4156.78,
           "653": 4379.29,
           "654": 5706.67,
           "655": 5462.05,
           "656": 5544.23,
           "657": 5880.95,
           "658": 5214.73,
           "659": 4057.14,
           "66": 5463.68,
           "660": 4080.44,
           "661": 4199.96,
           "662": 5188.33,
           "663": 4953.93,
           "664": 4742.93,
           "665": 4624.57,
           "666": 3704.45,
           "667": 3554.99,
           "668": 4787.33,
           "669": 4969.22,
           "67": 5494.65,
           "670": 5008.79,
           "671": 5113.61,
           "672": 4615.96,
           "673": 3869.36,
           "674": 3906.22,
           "675": 4995.98,
           "676": 4813.06,
           "677": 4632.21,
           "678": 4507.09,
           "679": 4051.02,
           "68": 5853.57,
           "680": 3274.25,
           "681": 3393.09,
           "682": 4450.52,
           "683": 4448.35,
           "684": 4436.62,
           "685": 4412.8,
           "686": 4028.4,
           "687": 3239.83,
           "688": 3334.48,
           "689": 4511.69,
           "69": 6296.92,
           "690": 4483.33,
           "691": 4457.98,
           "692": 4473.83,
           "693": 4070.47,
           "694": 3254.41,
           "7": 4095.12,
           "70": 6111.37,
           "71": 5659.85,
           "72": 6351.65,
           "73": 8489.57,
           "74": 8023.19,
           "75": 7525.36,
           "76": 6573.86,
           "77": 6627.57,
           "78": 5580.36,
           "79": 5855.14,
           "8": 3257.58,
           "80": 7681.1,
           "81": 7746.84,
           "82": 8006.73,
           "83": 7871.1,
           "84": 7503.25,
           "85": 5966.51,
           "86": 6144.61,
           "87": 8013.96,
           "88": 8058.41,
           "89": 8474.55,
           "9": 3372.31,
           "90": 9026.21,
           "91": 8372.53,
           "92": 7042.62,
           "93": 7088.69,
           "94": 9194.33,
           "95": 9334.59,
           "96": 9436.35,
           "97": 9707.53,
           "98": 9387.41,
           "99": 7749.92,
           "bdata": "H4XrUTi3r0BmZmZmZjSqQDMzMzMz1KlA16NwPQpsskBmZmZmJoayQOxRuB7FqLFAH4XrUTg2sUAK16NwPf6vQFyPwvUoc6lAhetRuJ5YqkDsUbgehZuxQOxRuB4FbbFACtejcL1OsUDsUbgehUixQM3MzMyMGLBAexSuR+FgqUBmZmZmZi2qQHsUrkehQLFAUrgehes+sUBSuB6F60SxQIXrUbjegbFAZmZmZqbBsECamZmZGdSqQNejcD0KS6tAexSuR2Fqq0Bcj8L1KLOyQJqZmZnZy7JAhetRuF4As0ApXI/C9cOwQB+F61E4sqlAw/UoXA/nqUBSuB6FK/6wQHsUrkch/7BA9ihcj0L6sECPwvUoXPiwQNejcD2Kcq9AzczMzEz8qEDsUbgehcWpQLgehetR/bBAw/UoXM+JsUDsUbgeBf6xQB+F61E4CLJA4XoUrgeIsEAUrkfhepeqQI/C9ShcRqtAexSuR6GIskAAAAAAgKayQBSuR+F6zbJA4XoUrodks0DhehSuxxazQDMzMzMzfq5ASOF6FK4XrUBmZmZm5iK0QMP1KFyPOrRAmpmZmRlwtEDD9ShcT4i0QLgeheuRLLNAPQrXo/C3r0DD9Shcz5KwQI/C9ShcMbZACtejcP0+t0DD9Shcz1G3QBSuR+H6/7ZA4XoUrgeMtEDNzMzMTEGwQIXrUbhebrBASOF6FK5XtUBmZmZmpna1QLgeheuR3bZAUrgeheuYuECF61G4Xt+3QJqZmZnZG7ZAZmZmZqbPuEBcj8L1yJTAQD0K16MwV79Aj8L1KFxlvUCPwvUo3K25QLgeheuR47lAj8L1KFzMtUBxPQrXI9+2QJqZmZkZAb5ApHA9CtdCvkAUrkfhuka/QJqZmZkZv75AAAAAAEBPvUD2KFyPgk63QI/C9SicALhAKVyPwvVNv0Bcj8L1aHq/QGZmZmZGjcBAFK5H4RqhwUBxPQrXQ1rAQIXrUbiegrtAPQrXo7Cwu0DXo3A9KvXBQFK4HoVLO8JAzczMzCxuwkBxPQrXw/XCQK5H4Xq0VcJAUrgehetFvkDXo3A9Cia/QPYoXI+iCMJAmpmZmRnnwUCPwvUovFrCQIXrUbh+nMNAFK5H4RpEwkAUrkfhuhS7QAAAAACAqLpAPQrXo3CMwUAAAAAA4IXCQNejcD0qncJApHA9CjfkwUBmZmZmJtDCQAAAAAAguMBApHA9CldQwUDNzMzMTBLGQHsUrkehD8ZAuB6F65Fkx0AK16NwHezIQArXo3DdCshA7FG4HiVoxEBmZmZmRk3DQI/C9Sj8msdA7FG4HuX/xkBI4XoULszHQHE9CtfDJcdAw/UoXG+nw0DhehSuB/6+QJqZmZmZx75AZmZmZiZdw0AK16NwXZXDQBSuR+G6PMVAw/UoXK8exUB7FK5HQVvDQNejcD1Km71AzczMzAx3vUAAAAAAAELCQKRwPQqXl8NAmpmZmbmiw0BI4XoUzvPCQEjhehTO2MFAmpmZmVkYuEAK16NwfcO2QM3MzMwMtLdA4XoUrsf/uUAzMzMzsyG9QPYoXI/CILxAKVyPwjVcvUCamZmZ2aK6QDMzMzOzsrtAXI/C9ejlukDhehSux4fDQK5H4XpUgcNA9ihcj+KDxEDXo3A9arbDQOxRuB5lj8BA4XoUrkf1wUDhehSuZ87IQI/C9SjcD8lAexSuR6FPyEAzMzMzc43HQJqZmZk59MVAuB6F65GiwUCPwvUoXEnCQHE9CteDHMlAuB6F67FJyUD2KFyPAivKQFK4HoXrrspA16NwPYp3yECuR+F6tOzCQArXo3AdbsBApHA9CjfHxEDhehSu5+vDQGZmZmZGScNA16NwPcrAwkAfhetR+MjCQHsUrkfhq79AH4XrUTj2vkAUrkfhWiPDQGZmZmYmRsRA4XoUrkePxEBxPQrXw5jFQK5H4Xp0zMJAmpmZmRkMvUBI4XoU7im9QGZmZmaGD8NAuB6F65Ekw0BSuB6F6y/FQK5H4XqU8MZArkfhetSfw0BmZmZm5r2+QNejcD0KPMBAH4XrUdiRxUCF61G4vurEQMP1KFxP1sJAhetRuF5awUBcj8L1SMnAQGZmZmZmBbtAAAAAAADvukDNzMzMLFnCQPYoXI+Cu8JAKVyPwjUzw0AfhetROPXEQFK4HoWrLMRAw/UoXE+qwEBmZmZmZuDBQAAAAADAiMZApHA9CjcgxkBcj8L1KNnEQFK4HoXLpMRAUrgehcuuxECuR+F6VPDAQFyPwvVI5cBAH4XrUZjYxUD2KFyPwoXEQGZmZmYGzMRA4XoUric5xUAK16NwneLDQGZmZmZmeL5AUrgehSsyv0BxPQrXoxbEQD0K16MQo8JAexSuR8GlwUDhehSuh+rAQIXrUbheEMBAj8L1KJz1ukBSuB6FK8u5QKRwPQoXksBAmpmZmZkswEAAAAAA4CDAQHsUrkehnsBAexSuR8G7wECPwvUo3G29QMP1KFzPh7xA4XoUrufOwkAAAAAAYCbCQIXrUbi+lMJAmpmZmbm3wkDXo3A9yrK+QFK4HoUr6rlApHA9CpeuukCPwvUonO68QK5H4XpUD8BAKVyPwhUCwEAUrkfhus++QFK4HoXrULxApHA9CtdotEC4HoXrEei1QDMzMzNz27xAw/UoXE+9wEDNzMzMDEnAQIXrUbgexrtApHA9ClfHuECkcD0KV6y0QB+F61F4/rZA16NwPSr4wEDD9Shcj4jAQKRwPQrXQMFAUrgehSsUwUAfhetReKi+QHsUrkfhA7lAUrgehSuzuUD2KFyPYjjBQJqZmZlZDcFAZmZmZuY7wUDhehSuh6bBQAAAAACgPsBAH4XrUXipukCPwvUoXL26QHE9CtfjV79AmpmZmRl7u0DsUbgexbW5QHE9CtejBLpAAAAAAAAQukBSuB6Fa520QD0K16PwsbNAhetRuB50s0ApXI/C9dC3QNejcD3K+rZAzczMzEwktkApXI/CdfuzQD0K16Nw2q9AcT0K1yPQr0D2KFyPwu61QPYoXI/Ck7ZA4XoUrkd3tkCkcD0KlxK3QOxRuB5FsLRAMzMzM7ObsEAK16NwvbawQMP1KFzPhbZApHA9Cpcgt0B7FK5HoSa4QKRwPQrXE7lAexSuR6HOtkDD9Shcz3KxQGZmZmbmcLFAXI/C9eiHsUCkcD0KV361QD0K16NwG7VAhetRuB5VtUDXo3A9Sqm1QAAAAABAS7FAuB6F61GkrkAK16NwfTK0QNejcD1KyrRAuB6F69G4tUCamZmZGXm1QBSuR+F6rLNASOF6FK7Vr0BSuB6Fq5GwQFK4HoVrdLZApHA9CheqtkBI4XoUrlq2QHE9Ctcjy7ZAH4XrUfjLs0AAAAAAQFawQAAAAACAwa9Aw/UoXM88tEBxPQrXI0G0QM3MzMyM77NAexSuRyFbs0C4HoXrEcyxQAAAAACAjKxA4XoUrsderEAzMzMz84CyQDMzMzNzcrJAPQrXo7BrskCuR+F6FIuyQHsUrkfhy7FArkfhepSFrEBI4XoUrliuQKRwPQrXBbRAXI/C9egRtECPwvUoHDe0QHsUrkfhH7RAPQrXo3B2skCamZmZmYKuQI/C9ShcBq9Aj8L1KBz1s0D2KFyPAp2zQFyPwvXoZLNAj8L1KByQs0A9CtejMG2yQBSuR+F6na1AAAAAAIDCrUBSuB6Fq1KzQHE9CtdjSrNASOF6FC6dskDsUbgeBVSyQBSuR+G6KrBAUrgehetcqUB7FK5HYXKpQOF6FK5HP7BAMzMzM3M7sED2KFyPglOwQM3MzMzMZbBAXI/C9ahlsECF61G4HvWpQAAAAACAaqlAhetRuN4tsECF61G4HjCwQHE9CtdjMLBArkfhehRPsEA9CtejcFGwQB+F61G4o6lAexSuR+HdqUBI4XoULn+yQFK4HoVrf7JAUrgeheu8skCkcD0K17eyQOF6FK4HMLFArkfhehSEq0ApXI/C9fSrQIXrUbhea7JAw/UoXI92skCamZmZWYeyQEjhehSuwrJAFK5H4bqDsUAAAAAAgGisQHsUrkdh2axAXI/C9ShMs0CPwvUoXBmzQK5H4XpUY7NArkfhelRAs0ApXI/CNcCxQNejcD0Ku6xApHA9ClcGrUCPwvUoXGisQOF6FK5H4LJAhetRuN6lskDhehSuhwCzQM3MzMxMwLFA16NwPYrPrEAzMzMzs6isQPYoXI9CxLJASOF6FO4Ls0CamZmZmb6zQFyPwvVo9LNApHA9ClfPsUBI4XoUrpmsQOF6FK7HYq1Aw/UoXA8xtEAK16Nw/fO0QFK4HoVr27ZAmpmZmRk0uEAAAAAAwFS2QNejcD2KYrBA16NwPcpdsEBI4XoU7sW0QGZmZmbmjrRA9ihcj0IWtEA9CtejsNCzQD0K16NwerJArkfhehQ/rUAUrkfhegevQGZmZmZmE7VA4XoUrse8tUBxPQrXo8y2QNejcD2KQ7dAKVyPwvXIt0DsUbgeBYyzQHE9CtcjqLRAZmZmZuagvEAUrkfheiS9QLgehesRC7xACtejcD25vECkcD0K1/i6QOF6FK6HWLVAuB6F65H5tUAUrkfh+v+5QHE9CtfjcLpACtejcL2su0B7FK5HIa+/QK5H4XpU+b5AexSuR2GkuUCuR+F6FEC7QEjhehQOH8FA4XoUrgcJv0AUrkfhegm7QFyPwvUoP7pAAAAAAAAIukBI4XoUrtq0QB+F61E4xrVA16NwPQo7vUD2KFyPwnW9QDMzMzOz1b1AZmZmZmYtvUBmZmZmpuq6QD0K16Pw8LZA16NwPYqQuEAfhetReMO9QI/C9ShcZr1ApHA9CpeKvkDsUbgeRZe/QHsUrkfhZ71AKVyPwvW2t0AAAAAAQHu5QDMzMzMz1MBA9ihcjyIMwUDNzMzMzNzAQJqZmZkZZ8FAj8L1KLz7wECF61G4nuq8QJqZmZnZFrxAMzMzM3N5wkBI4XoUzvjCQPYoXI9CtcJArkfhenSOwkAK16NwneHBQK5H4XqUWr1AKVyPwjXYvkAAAAAAgD/FQKRwPQqXqcdA16NwPWqcyEA9Ctej0L7JQI/C9Sg8DMdAAAAAACCWwEAfhetReNq8QPYoXI+CKMNAexSuR2E5xEAK16NwnUPGQEjhehTOMcdA4XoUrocixEBxPQrXo1G8QK5H4XpUobtAKVyPwrW7w0AzMzMzk1vFQLgeheuxfMVAH4XrUTjCw0BmZmZmJgjDQBSuR+E6L8FAuB6F6zE5wUBI4XoUrtfFQK5H4XoUZcZAFK5H4dqNxkA9CtejUCTGQHsUrkfhEsVAPQrXozDgwEBmZmZmJmW/QEjhehTumsNAmpmZmZkOxECF61G4/r/CQFyPwvVIWcVAUrgehctExEBI4XoU7lDAQFyPwvUI+cFAuB6F69HQwkCuR+F61BC+QClcj8L1I7tAzczMzEzXvECF61G4ftbAQDMzMzMzgb9AcT0K1+O1vkCkcD0KdxfAQPYoXI/CuL5ACtejcL3cvUC4HoXrcWLEQIXrUbgeeMVAw/UoXK/0w0BmZmZmxsrCQHsUrkcBGMlAj8L1KDyRyUDhehSup7jKQHsUrkchRctApHA9CnfPyUDD9Shcr8DEQBSuR+HaycRAw/UoXI8KyUCPwvUoHCbGQHsUrkehV8VAw/UoXO8ixkCkcD0Kt+XEQArXo3D9ZsJAuB6F6xGqw0Bcj8L1SCzIQEjhehSu+cdAhetRuB4XyECF61G4fjrIQI/C9SgczsRAPQrXo3BrwUDXo3A9qqTCQFyPwvVI1MZAcT0K1+PkxUBI4XoU7jDGQIXrUbhe+MZA4XoUrsfpxEDNzMzMrGXBQMP1KFyvhcFAAAAAAMDsxUAUrkfh2nLFQJqZmZm5w8VAFK5H4TrUxkDsUbgeZQ7HQJqZmZn5U8JArkfhehSUwkDhehSuh6/IQGZmZmYmC8hAw/UoXO+lx0AK16NwnUzIQJqZmZk5ycZAKVyPwpVYwkBxPQrXgznDQOF6FK6n9MhAUrgehcujyED2KFyPAnDHQHE9Ctej0MNAexSuR2GxwEA9CtejcEq7QIXrUbgeRr1ArkfhejREwkAUrkfhGn3DQMP1KFzv3sRAKVyPwhXIxEDD9Shcr4zDQI/C9SgcPMBArkfhelSkwEBxPQrXAwfFQOxRuB5lvMRAZmZmZkYPxEAK16NwnVTCQClcj8J17L9ApHA9Cld9uED2KFyPwvK4QPYoXI8iCsJAKVyPwtW2w0CF61G43gXFQHE9CtfjucVACtejcP37w0BmZmZmZlDAQKRwPQq3cMBAhetRuH6NxUD2KFyPwsfEQMP1KFzv8MJA7FG4HqWmwEBSuB6FK429QMP1KFwPE7dACtejcL3UuUCPwvUovBzBQI/C9Sj88sBASOF6FK5LwEDXo3A9alzAQK5H4XpU879AAAAAAIDtuUBmZmZmJtK4QHE9CtfjNb9A4XoUrocvv0CuR+F61F2+QAAAAABAYLxAPQrXo7DOuEAzMzMzM1G1QPYoXI9CmrZA4XoUrkdAvkAzMzMzM0q+QEjhehRuT79AexSuR+GhvUAK16NwvWi4QD0K16MwfLJAH4XrUfgXtUBSuB6Fq0S8QEjhehRud7xAKVyPwnUDvUBSuB6FKx67QM3MzMyMq7dAMzMzM7MrtECuR+F6lG+0QKRwPQpXv7dAexSuR2EvukBSuB6FqxC7QM3MzMyMarpAmpmZmVlXukBxPQrXI2izQClcj8K1+bFAcT0K1+P6tUAfhetReBS1QClcj8L1VbRAH4XrUTjrs0AzMzMzcwezQI/C9SjcvbFAw/UoXM+stEB7FK5HoZ22QGZmZmYmeLtAH4XrUfihukA9CtejcKO6QEjhehSuhrZAhetRuB5jsEB7FK5HYb6vQBSuR+F6PrRApHA9ClcutECkcD0Kl/60QGZmZmYmvrZAXI/C9ShJtEDhehSuxzywQNejcD1KG7FAUrgehatKtkDNzMzMDFa1QBSuR+E6qLVAMzMzM/P4tkAUrkfhul60QOF6FK5Hsq9AexSuR+Hgr0ApXI/C9WewQK5H4XpURLRASOF6FO5Zs0BI4XoU7oayQLgeheuRELJAZmZmZubwrEAUrkfh+sWrQK5H4XpUs7JAH4XrUThps0DXo3A9ypCzQI/C9Sic+bNAKVyPwvUHskAfhetRuDquQD0K16NwhK5AFK5H4fqDs0DD9ShcD82yQClcj8I1GLJApHA9ChebsUDXo3A9CqavQAAAAACAlKlASOF6FC6CqkDsUbgehWKxQJqZmZlZYLFAhetRuJ5UsUDNzMzMzDyxQM3MzMzMeK9AXI/C9ahPqUApXI/C9QyqQD0K16Own7FArkfhelSDsUAUrkfh+mmxQK5H4XrUebFAPQrXo/DMr0C4HoXr0WypQA==",
           "dtype": "f8",
           "shape": "695"
          },
          "bdata": "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",
          "dtype": "f8"
         },
         "yaxis": "y"
        }
       ],
       "layout": {
        "autosize": true,
        "legend": {
         "tracegroupgap": 0
        },
        "template": {
         "data": {
          "bar": [
           {
            "error_x": {
             "color": "#2a3f5f"
            },
            "error_y": {
             "color": "#2a3f5f"
            },
            "marker": {
             "line": {
              "color": "#E5ECF6",
              "width": 0.5
             },
             "pattern": {
              "fillmode": "overlay",
              "size": 10,
              "solidity": 0.2
             }
            },
            "type": "bar"
           }
          ],
          "barpolar": [
           {
            "marker": {
             "line": {
              "color": "#E5ECF6",
              "width": 0.5
             },
             "pattern": {
              "fillmode": "overlay",
              "size": 10,
              "solidity": 0.2
             }
            },
            "type": "barpolar"
           }
          ],
          "carpet": [
           {
            "aaxis": {
             "endlinecolor": "#2a3f5f",
             "gridcolor": "white",
             "linecolor": "white",
             "minorgridcolor": "white",
             "startlinecolor": "#2a3f5f"
            },
            "baxis": {
             "endlinecolor": "#2a3f5f",
             "gridcolor": "white",
             "linecolor": "white",
             "minorgridcolor": "white",
             "startlinecolor": "#2a3f5f"
            },
            "type": "carpet"
           }
          ],
          "choropleth": [
           {
            "colorbar": {
             "outlinewidth": 0,
             "ticks": ""
            },
            "type": "choropleth"
           }
          ],
          "contour": [
           {
            "colorbar": {
             "outlinewidth": 0,
             "ticks": ""
            },
            "colorscale": [
             [
              0,
              "#0d0887"
             ],
             [
              0.1111111111111111,
              "#46039f"
             ],
             [
              0.2222222222222222,
              "#7201a8"
             ],
             [
              0.3333333333333333,
              "#9c179e"
             ],
             [
              0.4444444444444444,
              "#bd3786"
             ],
             [
              0.5555555555555556,
              "#d8576b"
             ],
             [
              0.6666666666666666,
              "#ed7953"
             ],
             [
              0.7777777777777778,
              "#fb9f3a"
             ],
             [
              0.8888888888888888,
              "#fdca26"
             ],
             [
              1,
              "#f0f921"
             ]
            ],
            "type": "contour"
           }
          ],
          "contourcarpet": [
           {
            "colorbar": {
             "outlinewidth": 0,
             "ticks": ""
            },
            "type": "contourcarpet"
           }
          ],
          "heatmap": [
           {
            "colorbar": {
             "outlinewidth": 0,
             "ticks": ""
            },
            "colorscale": [
             [
              0,
              "#0d0887"
             ],
             [
              0.1111111111111111,
              "#46039f"
             ],
             [
              0.2222222222222222,
              "#7201a8"
             ],
             [
              0.3333333333333333,
              "#9c179e"
             ],
             [
              0.4444444444444444,
              "#bd3786"
             ],
             [
              0.5555555555555556,
              "#d8576b"
             ],
             [
              0.6666666666666666,
              "#ed7953"
             ],
             [
              0.7777777777777778,
              "#fb9f3a"
             ],
             [
              0.8888888888888888,
              "#fdca26"
             ],
             [
              1,
              "#f0f921"
             ]
            ],
            "type": "heatmap"
           }
          ],
          "histogram": [
           {
            "marker": {
             "pattern": {
              "fillmode": "overlay",
              "size": 10,
              "solidity": 0.2
             }
            },
            "type": "histogram"
           }
          ],
          "histogram2d": [
           {
            "colorbar": {
             "outlinewidth": 0,
             "ticks": ""
            },
            "colorscale": [
             [
              0,
              "#0d0887"
             ],
             [
              0.1111111111111111,
              "#46039f"
             ],
             [
              0.2222222222222222,
              "#7201a8"
             ],
             [
              0.3333333333333333,
              "#9c179e"
             ],
             [
              0.4444444444444444,
              "#bd3786"
             ],
             [
              0.5555555555555556,
              "#d8576b"
             ],
             [
              0.6666666666666666,
              "#ed7953"
             ],
             [
              0.7777777777777778,
              "#fb9f3a"
             ],
             [
              0.8888888888888888,
              "#fdca26"
             ],
             [
              1,
              "#f0f921"
             ]
            ],
            "type": "histogram2d"
           }
          ],
          "histogram2dcontour": [
           {
            "colorbar": {
             "outlinewidth": 0,
             "ticks": ""
            },
            "colorscale": [
             [
              0,
              "#0d0887"
             ],
             [
              0.1111111111111111,
              "#46039f"
             ],
             [
              0.2222222222222222,
              "#7201a8"
             ],
             [
              0.3333333333333333,
              "#9c179e"
             ],
             [
              0.4444444444444444,
              "#bd3786"
             ],
             [
              0.5555555555555556,
              "#d8576b"
             ],
             [
              0.6666666666666666,
              "#ed7953"
             ],
             [
              0.7777777777777778,
              "#fb9f3a"
             ],
             [
              0.8888888888888888,
              "#fdca26"
             ],
             [
              1,
              "#f0f921"
             ]
            ],
            "type": "histogram2dcontour"
           }
          ],
          "mesh3d": [
           {
            "colorbar": {
             "outlinewidth": 0,
             "ticks": ""
            },
            "type": "mesh3d"
           }
          ],
          "parcoords": [
           {
            "line": {
             "colorbar": {
              "outlinewidth": 0,
              "ticks": ""
             }
            },
            "type": "parcoords"
           }
          ],
          "pie": [
           {
            "automargin": true,
            "type": "pie"
           }
          ],
          "scatter": [
           {
            "fillpattern": {
             "fillmode": "overlay",
             "size": 10,
             "solidity": 0.2
            },
            "type": "scatter"
           }
          ],
          "scatter3d": [
           {
            "line": {
             "colorbar": {
              "outlinewidth": 0,
              "ticks": ""
             }
            },
            "marker": {
             "colorbar": {
              "outlinewidth": 0,
              "ticks": ""
             }
            },
            "type": "scatter3d"
           }
          ],
          "scattercarpet": [
           {
            "marker": {
             "colorbar": {
              "outlinewidth": 0,
              "ticks": ""
             }
            },
            "type": "scattercarpet"
           }
          ],
          "scattergeo": [
           {
            "marker": {
             "colorbar": {
              "outlinewidth": 0,
              "ticks": ""
             }
            },
            "type": "scattergeo"
           }
          ],
          "scattergl": [
           {
            "marker": {
             "colorbar": {
              "outlinewidth": 0,
              "ticks": ""
             }
            },
            "type": "scattergl"
           }
          ],
          "scattermap": [
           {
            "marker": {
             "colorbar": {
              "outlinewidth": 0,
              "ticks": ""
             }
            },
            "type": "scattermap"
           }
          ],
          "scattermapbox": [
           {
            "marker": {
             "colorbar": {
              "outlinewidth": 0,
              "ticks": ""
             }
            },
            "type": "scattermapbox"
           }
          ],
          "scatterpolar": [
           {
            "marker": {
             "colorbar": {
              "outlinewidth": 0,
              "ticks": ""
             }
            },
            "type": "scatterpolar"
           }
          ],
          "scatterpolargl": [
           {
            "marker": {
             "colorbar": {
              "outlinewidth": 0,
              "ticks": ""
             }
            },
            "type": "scatterpolargl"
           }
          ],
          "scatterternary": [
           {
            "marker": {
             "colorbar": {
              "outlinewidth": 0,
              "ticks": ""
             }
            },
            "type": "scatterternary"
           }
          ],
          "surface": [
           {
            "colorbar": {
             "outlinewidth": 0,
             "ticks": ""
            },
            "colorscale": [
             [
              0,
              "#0d0887"
             ],
             [
              0.1111111111111111,
              "#46039f"
             ],
             [
              0.2222222222222222,
              "#7201a8"
             ],
             [
              0.3333333333333333,
              "#9c179e"
             ],
             [
              0.4444444444444444,
              "#bd3786"
             ],
             [
              0.5555555555555556,
              "#d8576b"
             ],
             [
              0.6666666666666666,
              "#ed7953"
             ],
             [
              0.7777777777777778,
              "#fb9f3a"
             ],
             [
              0.8888888888888888,
              "#fdca26"
             ],
             [
              1,
              "#f0f921"
             ]
            ],
            "type": "surface"
           }
          ],
          "table": [
           {
            "cells": {
             "fill": {
              "color": "#EBF0F8"
             },
             "line": {
              "color": "white"
             }
            },
            "header": {
             "fill": {
              "color": "#C8D4E3"
             },
             "line": {
              "color": "white"
             }
            },
            "type": "table"
           }
          ]
         },
         "layout": {
          "annotationdefaults": {
           "arrowcolor": "#2a3f5f",
           "arrowhead": 0,
           "arrowwidth": 1
          },
          "autotypenumbers": "strict",
          "coloraxis": {
           "colorbar": {
            "outlinewidth": 0,
            "ticks": ""
           }
          },
          "colorscale": {
           "diverging": [
            [
             0,
             "#8e0152"
            ],
            [
             0.1,
             "#c51b7d"
            ],
            [
             0.2,
             "#de77ae"
            ],
            [
             0.3,
             "#f1b6da"
            ],
            [
             0.4,
             "#fde0ef"
            ],
            [
             0.5,
             "#f7f7f7"
            ],
            [
             0.6,
             "#e6f5d0"
            ],
            [
             0.7,
             "#b8e186"
            ],
            [
             0.8,
             "#7fbc41"
            ],
            [
             0.9,
             "#4d9221"
            ],
            [
             1,
             "#276419"
            ]
           ],
           "sequential": [
            [
             0,
             "#0d0887"
            ],
            [
             0.1111111111111111,
             "#46039f"
            ],
            [
             0.2222222222222222,
             "#7201a8"
            ],
            [
             0.3333333333333333,
             "#9c179e"
            ],
            [
             0.4444444444444444,
             "#bd3786"
            ],
            [
             0.5555555555555556,
             "#d8576b"
            ],
            [
             0.6666666666666666,
             "#ed7953"
            ],
            [
             0.7777777777777778,
             "#fb9f3a"
            ],
            [
             0.8888888888888888,
             "#fdca26"
            ],
            [
             1,
             "#f0f921"
            ]
           ],
           "sequentialminus": [
            [
             0,
             "#0d0887"
            ],
            [
             0.1111111111111111,
             "#46039f"
            ],
            [
             0.2222222222222222,
             "#7201a8"
            ],
            [
             0.3333333333333333,
             "#9c179e"
            ],
            [
             0.4444444444444444,
             "#bd3786"
            ],
            [
             0.5555555555555556,
             "#d8576b"
            ],
            [
             0.6666666666666666,
             "#ed7953"
            ],
            [
             0.7777777777777778,
             "#fb9f3a"
            ],
            [
             0.8888888888888888,
             "#fdca26"
            ],
            [
             1,
             "#f0f921"
            ]
           ]
          },
          "colorway": [
           "#636efa",
           "#EF553B",
           "#00cc96",
           "#ab63fa",
           "#FFA15A",
           "#19d3f3",
           "#FF6692",
           "#B6E880",
           "#FF97FF",
           "#FECB52"
          ],
          "font": {
           "color": "#2a3f5f"
          },
          "geo": {
           "bgcolor": "white",
           "lakecolor": "white",
           "landcolor": "#E5ECF6",
           "showlakes": true,
           "showland": true,
           "subunitcolor": "white"
          },
          "hoverlabel": {
           "align": "left"
          },
          "hovermode": "closest",
          "mapbox": {
           "style": "light"
          },
          "paper_bgcolor": "white",
          "plot_bgcolor": "#E5ECF6",
          "polar": {
           "angularaxis": {
            "gridcolor": "white",
            "linecolor": "white",
            "ticks": ""
           },
           "bgcolor": "#E5ECF6",
           "radialaxis": {
            "gridcolor": "white",
            "linecolor": "white",
            "ticks": ""
           }
          },
          "scene": {
           "xaxis": {
            "backgroundcolor": "#E5ECF6",
            "gridcolor": "white",
            "gridwidth": 2,
            "linecolor": "white",
            "showbackground": true,
            "ticks": "",
            "zerolinecolor": "white"
           },
           "yaxis": {
            "backgroundcolor": "#E5ECF6",
            "gridcolor": "white",
            "gridwidth": 2,
            "linecolor": "white",
            "showbackground": true,
            "ticks": "",
            "zerolinecolor": "white"
           },
           "zaxis": {
            "backgroundcolor": "#E5ECF6",
            "gridcolor": "white",
            "gridwidth": 2,
            "linecolor": "white",
            "showbackground": true,
            "ticks": "",
            "zerolinecolor": "white"
           }
          },
          "shapedefaults": {
           "line": {
            "color": "#2a3f5f"
           }
          },
          "ternary": {
           "aaxis": {
            "gridcolor": "white",
            "linecolor": "white",
            "ticks": ""
           },
           "baxis": {
            "gridcolor": "white",
            "linecolor": "white",
            "ticks": ""
           },
           "bgcolor": "#E5ECF6",
           "caxis": {
            "gridcolor": "white",
            "linecolor": "white",
            "ticks": ""
           }
          },
          "title": {
           "x": 0.05
          },
          "xaxis": {
           "automargin": true,
           "gridcolor": "white",
           "linecolor": "white",
           "ticks": "",
           "title": {
            "standoff": 15
           },
           "zerolinecolor": "white",
           "zerolinewidth": 2
          },
          "yaxis": {
           "automargin": true,
           "gridcolor": "white",
           "linecolor": "white",
           "ticks": "",
           "title": {
            "standoff": 15
           },
           "zerolinecolor": "white",
           "zerolinewidth": 2
          }
         }
        },
        "title": {
         "text": "Gas Volume",
         "x": 0.5
        },
        "xaxis": {
         "anchor": "y",
         "autorange": true,
         "domain": [
          0,
          1
         ],
         "range": [
          0,
          694
         ],
         "title": {
          "text": "Date"
         },
         "type": "category"
        },
        "yaxis": {
         "anchor": "x",
         "autorange": true,
         "domain": [
          0,
          1
         ],
         "range": [
          2600.143888888889,
          14560.266111111112
         ],
         "title": {
          "text": "Volume therms"
         },
         "type": "linear"
        }
       }
      },
      "image/png": "[encoded data removed]"
     },
     "metadata": {},
     "output_type": "display_data"
    }
   ],
   "source": [
    "vol_fig = px.line(gas_vol,x=\"Date\", y=\"Volume therms\",title=\"Gas Volume\")\n",
    "vol_fig.update_layout(title_x=0.5)\n",
    "vol_fig.show()"
   ]
  },
  {
   "cell_type": "markdown",
   "id": "0fdb2c0e-84cd-4e2c-ad91-870eaf987213",
   "metadata": {},
   "source": [
    "# Step 3: Exporting\n",
    "remember the cool thing about plotly is the interactive html. so lets export before we go crazy on customisation.\n",
    "<br>**Write intrustions for how to export any of your grpahs above into a html file:**"
   ]
  },
  {
   "cell_type": "code",
   "execution_count": 108,
   "id": "7060627f-84cf-4fd9-8e4e-a6e6fce108d5",
   "metadata": {},
   "outputs": [],
   "source": [
    "vol_fig.write_html(\"gas_vol.html\")"
   ]
  },
  {
   "cell_type": "markdown",
   "id": "ba6a7d10-e508-4ed5-9711-376f1fc46b73",
   "metadata": {},
   "source": [
    "So thats how we export to HTML, the file will now be in the same folder as your  For bonus point we can talk about a quality of life inmprovement  here \n",
    "https://docs.python.org/3/library/os.path.html\n"
   ]
  },
  {
   "cell_type": "code",
   "execution_count": 115,
   "id": "41b65843-052e-4105-aac9-f09f72493433",
   "metadata": {},
   "outputs": [
    {
     "name": "stdout",
     "output_type": "stream",
     "text": [
      "Exported to: C:\\Users\\steve\\OneDrive\\Personal Python Projects\\Training\\Plotly\\gas_vol_.html\n"
     ]
    }
   ],
   "source": [
    "# Set filename\n",
    "filename = \"gas_vol_.html\"\n",
    "\n",
    "# Get full path to where the file will be saved\n",
    "full_path = os.path.abspath(filename)\n",
    "\n",
    "# Export to HTML\n",
    "vol_fig.write_html(full_path)\n",
    "\n",
    "# Print the full file path\n",
    "print(f\"Exported to: {full_path}\")\n"
   ]
  },
  {
   "cell_type": "markdown",
   "id": "a3e66d9f-5fd4-4798-b7ef-b21373a08b83",
   "metadata": {},
   "source": [
    "# Part 2: Maximum Effort Chart"
   ]
  },
  {
   "cell_type": "code",
   "execution_count": null,
   "id": "60b47374-bea8-44da-b2c4-f7e422d70300",
   "metadata": {},
   "outputs": [],
   "source": []
  }
 ],
 "metadata": {
  "kernelspec": {
   "display_name": "Python 3 (ipykernel)",
   "language": "python",
   "name": "python3"
  },
  "language_info": {
   "codemirror_mode": {
    "name": "ipython",
    "version": 3
   },
   "file_extension": ".py",
   "mimetype": "text/x-python",
   "name": "python",
   "nbconvert_exporter": "python",
   "pygments_lexer": "ipython3",
   "version": "3.12.7"
  }
 },
 "nbformat": 4,
 "nbformat_minor": 5
}
